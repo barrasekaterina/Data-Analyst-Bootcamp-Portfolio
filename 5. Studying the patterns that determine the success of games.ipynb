{
 "cells": [
  {
   "cell_type": "markdown",
   "id": "a4b3919374916001",
   "metadata": {},
   "source": [
    "# Сборный проект: Выявление Ключевых Факторов Успеха в Игровой Индустрии: Проект Маркетинговой Стратегии для 'Стримчик'"
   ]
  },
  {
   "cell_type": "markdown",
   "id": "454096b3d167c0ad",
   "metadata": {},
   "source": [
    "Вы работаете в интернет-магазине «Стримчик», который продаёт по всему миру компьютерные игры. Из открытых источников доступны исторические данные о продажах игр, оценки пользователей и экспертов, жанры и платформы (например, Xbox или PlayStation). Вам нужно выявить определяющие успешность игры закономерности. Это позволит сделать ставку на потенциально популярный продукт и спланировать рекламные кампании.\n",
    "Перед вами данные до 2016 года. Представим, что сейчас декабрь 2016 г., и вы планируете кампанию на 2017-й. Нужно отработать принцип работы с данными. Неважно, прогнозируете ли вы продажи на 2017 год по данным 2016-го или же 2027-й — по данным 2026 года.\n",
    "В наборе данных попадается аббревиатура ESRB (Entertainment Software Rating Board) — это ассоциация, определяющая возрастной рейтинг компьютерных игр. ESRB оценивает игровой контент и присваивает ему подходящую возрастную категорию, например, «Для взрослых», «Для детей младшего возраста» или «Для подростков»."
   ]
  },
  {
   "cell_type": "markdown",
   "id": "636101c6",
   "metadata": {},
   "source": [
    "1. **Открытие файла с данными и изучение общей информации**\n",
    "   - Был открыт файл с данными по пути /datasets/games.csv, и проведен обзор общей информации.\n",
    "\n",
    "2. **Подготовка данных**\n",
    "   - Названия столбцов были приведены к нижнему регистру для стандартизации.\n",
    "   - В определенных столбцах были изменены типы данных, с описанием причин этих изменений.\n",
    "   - Была проведена обработка пропусков:\n",
    "     - Описаны методы обработки пропусков и причины их выбора.\n",
    "     - Обсуждены возможные причины появления пропусков в данных.\n",
    "     - Проанализировано значение 'tbd' в столбце с оценкой пользователей и описан подход к его обработке.\n",
    "   - Рассчитаны и добавлены в новый столбец суммарные продажи во всех регионах.\n",
    "\n",
    "3. **Исследовательский анализ данных**\n",
    "   - Изучено количество игр, выпущенных в разные годы, для оценки значимости данных за все периоды.\n",
    "   - Проанализированы изменения продаж по различным платформам. Определены платформы с наибольшими суммарными продажами и изучено их распределение по годам, с оценкой характерного срока жизни платформ.\n",
    "   - Выбраны данные за актуальный период, определенный на основе предыдущего анализа, для прогнозирования на 2017 год. Данные за предыдущие годы не учитывались.\n",
    "   - Выделены лидирующие по продажам платформы, а также те, которые растут или падают. Определены несколько потенциально прибыльных платформ.\n",
    "   - Построен график \"ящик с усами\" по глобальным продажам игр в разбивке по платформам и описаны полученные результаты.\n",
    "   - Исследовано влияние отзывов пользователей и критиков на продажи в рамках одной популярной платформы с помощью диаграммы рассеяния и расчета корреляции. Сформулированы выводы.\n",
    "   - Сопоставлены выводы с продажами игр на других платформах.\n",
    "   - Проанализировано общее распределение игр по жанрам, с выводами о самых прибыльных жанрах и жанрах с высокими и низкими продажами.\n",
    "\n",
    "4. **Портрет пользователя каждого региона**\n",
    "   - Для пользователей каждого региона (NA, EU, JP) определены:\n",
    "     - Самые популярные платформы (топ-5), с описанием различий в долях продаж.\n",
    "     - Самые популярные жанры (топ-5), с объяснением разницы.\n",
    "     - Влияние рейтинга ESRB на продажи в каждом регионе.\n",
    "\n",
    "5. **Проверка гипотез**\n",
    "   - Проверены две гипотезы:\n",
    "     - Средние пользовательские рейтинги платформ Xbox One и PC одинаковые.\n",
    "     - Средние пользовательские рейтинги жанров Action и Sports различаются.\n",
    "   - Установлено пороговое значение alpha.\n",
    "   - Описано, как бы\n",
    "\n",
    "ли сформулированы нулевая и альтернативная гипотезы, и какой критерий использовался для проверки гипотез и почему.\n",
    "\n",
    "6. **Общий вывод**\n",
    "   - Был написан общий вывод, основываясь на проведенном анализе и результатах исследования."
   ]
  },
  {
   "cell_type": "markdown",
   "id": "2dad8e794d7c32fe",
   "metadata": {},
   "source": [
    "# Шаг 1. Откройте файл с данными и изучите общую информацию"
   ]
  },
  {
   "cell_type": "code",
   "execution_count": 2,
   "id": "8f9fa604",
   "metadata": {},
   "outputs": [],
   "source": [
    "# Импорт библиотек\n",
    "import os\n",
    "import pandas as pd\n",
    "import matplotlib.pyplot as plt\n",
    "import seaborn as sns\n",
    "from scipy import stats\n",
    "import numpy as np"
   ]
  },
  {
   "cell_type": "code",
   "execution_count": 3,
   "id": "dd5006e6",
   "metadata": {},
   "outputs": [],
   "source": [
    "new_path = '/datasets/games.csv'\n",
    "old_path = '/Users/barrasekaterina/Desktop/Yandex Praktikum/Сборный Проект/games.csv'\n",
    "\n",
    "if os.path.exists(new_path):\n",
    "    games = pd.read_csv(new_path)\n",
    "elif os.path.exists(old_path):\n",
    "    games = pd.read_csv(old_path)\n",
    "else:\n",
    "    print('Something is wrong')"
   ]
  },
  {
   "cell_type": "code",
   "execution_count": 4,
   "id": "16a2967165ae5592",
   "metadata": {
    "is_executing": true
   },
   "outputs": [
    {
     "name": "stdout",
     "output_type": "stream",
     "text": [
      "<class 'pandas.core.frame.DataFrame'>\n",
      "RangeIndex: 16715 entries, 0 to 16714\n",
      "Data columns (total 11 columns):\n",
      " #   Column           Non-Null Count  Dtype  \n",
      "---  ------           --------------  -----  \n",
      " 0   Name             16713 non-null  object \n",
      " 1   Platform         16715 non-null  object \n",
      " 2   Year_of_Release  16446 non-null  float64\n",
      " 3   Genre            16713 non-null  object \n",
      " 4   NA_sales         16715 non-null  float64\n",
      " 5   EU_sales         16715 non-null  float64\n",
      " 6   JP_sales         16715 non-null  float64\n",
      " 7   Other_sales      16715 non-null  float64\n",
      " 8   Critic_Score     8137 non-null   float64\n",
      " 9   User_Score       10014 non-null  object \n",
      " 10  Rating           9949 non-null   object \n",
      "dtypes: float64(6), object(5)\n",
      "memory usage: 1.4+ MB\n"
     ]
    }
   ],
   "source": [
    "# Вызов метода info()\n",
    "games.info()"
   ]
  },
  {
   "cell_type": "code",
   "execution_count": 5,
   "id": "c9777f4295d7f1e9",
   "metadata": {
    "is_executing": true
   },
   "outputs": [
    {
     "data": {
      "text/html": [
       "<div>\n",
       "<style scoped>\n",
       "    .dataframe tbody tr th:only-of-type {\n",
       "        vertical-align: middle;\n",
       "    }\n",
       "\n",
       "    .dataframe tbody tr th {\n",
       "        vertical-align: top;\n",
       "    }\n",
       "\n",
       "    .dataframe thead th {\n",
       "        text-align: right;\n",
       "    }\n",
       "</style>\n",
       "<table border=\"1\" class=\"dataframe\">\n",
       "  <thead>\n",
       "    <tr style=\"text-align: right;\">\n",
       "      <th></th>\n",
       "      <th>Name</th>\n",
       "      <th>Platform</th>\n",
       "      <th>Year_of_Release</th>\n",
       "      <th>Genre</th>\n",
       "      <th>NA_sales</th>\n",
       "      <th>EU_sales</th>\n",
       "      <th>JP_sales</th>\n",
       "      <th>Other_sales</th>\n",
       "      <th>Critic_Score</th>\n",
       "      <th>User_Score</th>\n",
       "      <th>Rating</th>\n",
       "    </tr>\n",
       "  </thead>\n",
       "  <tbody>\n",
       "    <tr>\n",
       "      <th>0</th>\n",
       "      <td>Wii Sports</td>\n",
       "      <td>Wii</td>\n",
       "      <td>2006.0</td>\n",
       "      <td>Sports</td>\n",
       "      <td>41.36</td>\n",
       "      <td>28.96</td>\n",
       "      <td>3.77</td>\n",
       "      <td>8.45</td>\n",
       "      <td>76.0</td>\n",
       "      <td>8</td>\n",
       "      <td>E</td>\n",
       "    </tr>\n",
       "    <tr>\n",
       "      <th>1</th>\n",
       "      <td>Super Mario Bros.</td>\n",
       "      <td>NES</td>\n",
       "      <td>1985.0</td>\n",
       "      <td>Platform</td>\n",
       "      <td>29.08</td>\n",
       "      <td>3.58</td>\n",
       "      <td>6.81</td>\n",
       "      <td>0.77</td>\n",
       "      <td>NaN</td>\n",
       "      <td>NaN</td>\n",
       "      <td>NaN</td>\n",
       "    </tr>\n",
       "    <tr>\n",
       "      <th>2</th>\n",
       "      <td>Mario Kart Wii</td>\n",
       "      <td>Wii</td>\n",
       "      <td>2008.0</td>\n",
       "      <td>Racing</td>\n",
       "      <td>15.68</td>\n",
       "      <td>12.76</td>\n",
       "      <td>3.79</td>\n",
       "      <td>3.29</td>\n",
       "      <td>82.0</td>\n",
       "      <td>8.3</td>\n",
       "      <td>E</td>\n",
       "    </tr>\n",
       "    <tr>\n",
       "      <th>3</th>\n",
       "      <td>Wii Sports Resort</td>\n",
       "      <td>Wii</td>\n",
       "      <td>2009.0</td>\n",
       "      <td>Sports</td>\n",
       "      <td>15.61</td>\n",
       "      <td>10.93</td>\n",
       "      <td>3.28</td>\n",
       "      <td>2.95</td>\n",
       "      <td>80.0</td>\n",
       "      <td>8</td>\n",
       "      <td>E</td>\n",
       "    </tr>\n",
       "    <tr>\n",
       "      <th>4</th>\n",
       "      <td>Pokemon Red/Pokemon Blue</td>\n",
       "      <td>GB</td>\n",
       "      <td>1996.0</td>\n",
       "      <td>Role-Playing</td>\n",
       "      <td>11.27</td>\n",
       "      <td>8.89</td>\n",
       "      <td>10.22</td>\n",
       "      <td>1.00</td>\n",
       "      <td>NaN</td>\n",
       "      <td>NaN</td>\n",
       "      <td>NaN</td>\n",
       "    </tr>\n",
       "    <tr>\n",
       "      <th>5</th>\n",
       "      <td>Tetris</td>\n",
       "      <td>GB</td>\n",
       "      <td>1989.0</td>\n",
       "      <td>Puzzle</td>\n",
       "      <td>23.20</td>\n",
       "      <td>2.26</td>\n",
       "      <td>4.22</td>\n",
       "      <td>0.58</td>\n",
       "      <td>NaN</td>\n",
       "      <td>NaN</td>\n",
       "      <td>NaN</td>\n",
       "    </tr>\n",
       "    <tr>\n",
       "      <th>6</th>\n",
       "      <td>New Super Mario Bros.</td>\n",
       "      <td>DS</td>\n",
       "      <td>2006.0</td>\n",
       "      <td>Platform</td>\n",
       "      <td>11.28</td>\n",
       "      <td>9.14</td>\n",
       "      <td>6.50</td>\n",
       "      <td>2.88</td>\n",
       "      <td>89.0</td>\n",
       "      <td>8.5</td>\n",
       "      <td>E</td>\n",
       "    </tr>\n",
       "    <tr>\n",
       "      <th>7</th>\n",
       "      <td>Wii Play</td>\n",
       "      <td>Wii</td>\n",
       "      <td>2006.0</td>\n",
       "      <td>Misc</td>\n",
       "      <td>13.96</td>\n",
       "      <td>9.18</td>\n",
       "      <td>2.93</td>\n",
       "      <td>2.84</td>\n",
       "      <td>58.0</td>\n",
       "      <td>6.6</td>\n",
       "      <td>E</td>\n",
       "    </tr>\n",
       "    <tr>\n",
       "      <th>8</th>\n",
       "      <td>New Super Mario Bros. Wii</td>\n",
       "      <td>Wii</td>\n",
       "      <td>2009.0</td>\n",
       "      <td>Platform</td>\n",
       "      <td>14.44</td>\n",
       "      <td>6.94</td>\n",
       "      <td>4.70</td>\n",
       "      <td>2.24</td>\n",
       "      <td>87.0</td>\n",
       "      <td>8.4</td>\n",
       "      <td>E</td>\n",
       "    </tr>\n",
       "    <tr>\n",
       "      <th>9</th>\n",
       "      <td>Duck Hunt</td>\n",
       "      <td>NES</td>\n",
       "      <td>1984.0</td>\n",
       "      <td>Shooter</td>\n",
       "      <td>26.93</td>\n",
       "      <td>0.63</td>\n",
       "      <td>0.28</td>\n",
       "      <td>0.47</td>\n",
       "      <td>NaN</td>\n",
       "      <td>NaN</td>\n",
       "      <td>NaN</td>\n",
       "    </tr>\n",
       "  </tbody>\n",
       "</table>\n",
       "</div>"
      ],
      "text/plain": [
       "                        Name Platform  Year_of_Release         Genre  \\\n",
       "0                 Wii Sports      Wii           2006.0        Sports   \n",
       "1          Super Mario Bros.      NES           1985.0      Platform   \n",
       "2             Mario Kart Wii      Wii           2008.0        Racing   \n",
       "3          Wii Sports Resort      Wii           2009.0        Sports   \n",
       "4   Pokemon Red/Pokemon Blue       GB           1996.0  Role-Playing   \n",
       "5                     Tetris       GB           1989.0        Puzzle   \n",
       "6      New Super Mario Bros.       DS           2006.0      Platform   \n",
       "7                   Wii Play      Wii           2006.0          Misc   \n",
       "8  New Super Mario Bros. Wii      Wii           2009.0      Platform   \n",
       "9                  Duck Hunt      NES           1984.0       Shooter   \n",
       "\n",
       "   NA_sales  EU_sales  JP_sales  Other_sales  Critic_Score User_Score Rating  \n",
       "0     41.36     28.96      3.77         8.45          76.0          8      E  \n",
       "1     29.08      3.58      6.81         0.77           NaN        NaN    NaN  \n",
       "2     15.68     12.76      3.79         3.29          82.0        8.3      E  \n",
       "3     15.61     10.93      3.28         2.95          80.0          8      E  \n",
       "4     11.27      8.89     10.22         1.00           NaN        NaN    NaN  \n",
       "5     23.20      2.26      4.22         0.58           NaN        NaN    NaN  \n",
       "6     11.28      9.14      6.50         2.88          89.0        8.5      E  \n",
       "7     13.96      9.18      2.93         2.84          58.0        6.6      E  \n",
       "8     14.44      6.94      4.70         2.24          87.0        8.4      E  \n",
       "9     26.93      0.63      0.28         0.47           NaN        NaN    NaN  "
      ]
     },
     "metadata": {},
     "output_type": "display_data"
    }
   ],
   "source": [
    "# Отображение первых 10 строк\n",
    "display(games.head(10))"
   ]
  },
  {
   "cell_type": "markdown",
   "id": "711369871288138f",
   "metadata": {},
   "source": [
    "Анализ данных позволяет сделать следующие выводы:\n",
    "\n",
    "1. Датасет содержит информацию о видеоиграх и включает в себя 11 столбцов.\n",
    "2. Общее количество записей в датасете составляет 16,715 строк.\n",
    "3. Некоторые столбцы имеют пропущенные значения: \"Name\", \"Year_of_Release\", \"Genre\", \"Critic_Score\", \"User_Score\" и \"Rating\". Это может потребовать дополнительной обработки или заполнения пропущенных данных.\n",
    "4. Столбцы \"Year_of_Release\", \"NA_sales\", \"EU_sales\", \"JP_sales\", \"Other_sales\", \"Critic_Score\" и \"User_Score\" имеют числовой тип данных (float64), что позволяет проводить анализ числовых показателей.\n",
    "5. Столбцы \"Name\", \"Platform\", \"Genre\", \"User_Score\" и \"Rating\" имеют тип данных \"object\" (строка) и могут содержать категориальные данные или текстовую информацию.\n",
    "6. Общий объем памяти, занимаемый датасетом, составляет примерно 1.4 МБ.\n",
    "\n",
    "Для дальнейшего анализа данных может потребоваться обработка пропущенных значений и преобразование категориальных столбцов в более удобные для анализа форматы."
   ]
  },
  {
   "cell_type": "markdown",
   "id": "dfeff931deee77ed",
   "metadata": {},
   "source": [
    "# Шаг 2. Подготовьте данные"
   ]
  },
  {
   "cell_type": "markdown",
   "id": "17107990a7a29df0",
   "metadata": {},
   "source": [
    "***2.1. Замените названия столбцов (приведите к нижнему регистру)***"
   ]
  },
  {
   "cell_type": "code",
   "execution_count": 6,
   "id": "ee36f16c85f9c6c8",
   "metadata": {
    "is_executing": true
   },
   "outputs": [],
   "source": [
    "# Приведение всех названий столбцов к нижнему регистру\n",
    "games.columns = [col.lower() for col in games.columns]"
   ]
  },
  {
   "cell_type": "code",
   "execution_count": 7,
   "id": "4b8d0503ed0d8e98",
   "metadata": {
    "is_executing": true
   },
   "outputs": [
    {
     "name": "stdout",
     "output_type": "stream",
     "text": [
      "Index(['name', 'platform', 'year_of_release', 'genre', 'na_sales', 'eu_sales',\n",
      "       'jp_sales', 'other_sales', 'critic_score', 'user_score', 'rating'],\n",
      "      dtype='object')\n"
     ]
    }
   ],
   "source": [
    "# Проверка результата\n",
    "print(games.columns)"
   ]
  },
  {
   "cell_type": "markdown",
   "id": "4bbe7d74211f3b2a",
   "metadata": {},
   "source": [
    "***2.2. Преобразуйте данные в нужные типы. Опишите, в каких столбцах заменили тип данных и почему***"
   ]
  },
  {
   "cell_type": "markdown",
   "id": "bf8bedcabdff1530",
   "metadata": {},
   "source": [
    "**Год выпуска**"
   ]
  },
  {
   "cell_type": "code",
   "execution_count": 8,
   "id": "e5fec60a2ede0be3",
   "metadata": {
    "is_executing": true
   },
   "outputs": [
    {
     "name": "stdout",
     "output_type": "stream",
     "text": [
      "Int64\n"
     ]
    }
   ],
   "source": [
    "# Преобразование типа данных столбца 'year_of_release' в Int64\n",
    "games['year_of_release'] = games['year_of_release'].astype('Int64')\n",
    "\n",
    "# Проверка типа данных столбца 'year_of_release'\n",
    "print(games.dtypes['year_of_release'])"
   ]
  },
  {
   "cell_type": "markdown",
   "id": "5c61cc7806aa56fc",
   "metadata": {},
   "source": [
    "**Год выпуска (year_of_release)**: Этот столбец в данный момент имеет тип данных float64, что означает, что год может быть представлен в формате числа с плавающей запятой (например, 2000.0). Однако год выпуска игры логичнее представить целым числом без десятичной части. Поэтому я решила заменить тип данных на Int64, что позволит представлять год выпуска как целое число и обрабатывать отсутствующие значения (NaN) более эффективно."
   ]
  },
  {
   "cell_type": "markdown",
   "id": "1a8edd57cc570e47",
   "metadata": {},
   "source": [
    "***Пользовательский рейтинг***"
   ]
  },
  {
   "cell_type": "code",
   "execution_count": 9,
   "id": "fe7e4f9332d68618",
   "metadata": {
    "is_executing": true
   },
   "outputs": [
    {
     "name": "stdout",
     "output_type": "stream",
     "text": [
      "object\n"
     ]
    }
   ],
   "source": [
    "# Преобразование столбца 'user_score' в числовой тип данных (float) и замена нечисловых значений на NaN\n",
    "games['user_score'] = pd.to_numeric(games['user_score'], errors='ignore')\n",
    "\n",
    "# Проверка типа данных столбца 'user_score'\n",
    "print(games.dtypes['user_score'])"
   ]
  },
  {
   "cell_type": "markdown",
   "id": "1d6853defb6ff5ad",
   "metadata": {},
   "source": [
    "**Пользовательский рейтинг (user_score)**: Этот столбец в данный момент имеет тип данных object (строка) из-за наличия нечисловых значений, таких как 'tbd' (to be determined). Однако если все оценки должны быть числовыми (например, на шкале от 0 до 10), то логично преобразовать этот столбец в числовой тип данных float64. Перед этим, возможно, потребуется очистить данные от нечисловых записей, чтобы избежать ошибок при преобразовании."
   ]
  },
  {
   "cell_type": "markdown",
   "id": "c19d08667de57be",
   "metadata": {},
   "source": [
    "***2.3. Обработайте пропуски при необходимости***\n",
    "\n",
    "- Объясните, почему заполнили пропуски определённым образом или почему не стали это делать;\n",
    "- Опишите причины, которые могли привести к пропускам;\n",
    "- Обратите внимание на аббревиатуру 'tbd' в столбце с оценкой пользователей. Отдельно разберите это значение и опишите, как его обработать;"
   ]
  },
  {
   "cell_type": "code",
   "execution_count": 10,
   "id": "2cc079c26b6b46bb",
   "metadata": {
    "is_executing": true
   },
   "outputs": [
    {
     "name": "stdout",
     "output_type": "stream",
     "text": [
      "                 Отсутствующие значения    Процент\n",
      "name                                  2   0.011965\n",
      "platform                              0   0.000000\n",
      "year_of_release                     269   1.609333\n",
      "genre                                 2   0.011965\n",
      "na_sales                              0   0.000000\n",
      "eu_sales                              0   0.000000\n",
      "jp_sales                              0   0.000000\n",
      "other_sales                           0   0.000000\n",
      "critic_score                       8578  51.319174\n",
      "user_score                         6701  40.089740\n",
      "rating                             6766  40.478612\n"
     ]
    }
   ],
   "source": [
    "# Предполагаем, что 'games' - это ваш DataFrame\n",
    "missing_data = games.isnull().sum()\n",
    "\n",
    "# Рассчитываем процент отсутствующих данных\n",
    "missing_percentage = (missing_data / len(games)) * 100\n",
    "\n",
    "# Объединяем количество и проценты в один DataFrame\n",
    "missing_data_table = pd.DataFrame({'Отсутствующие значения': missing_data, 'Процент': missing_percentage})\n",
    "\n",
    "# Выводим таблицу на экран\n",
    "print(missing_data_table)"
   ]
  },
  {
   "cell_type": "code",
   "execution_count": 11,
   "id": "c83469dc8991ce65",
   "metadata": {
    "is_executing": true
   },
   "outputs": [
    {
     "name": "stdout",
     "output_type": "stream",
     "text": [
      "0        False\n",
      "1        False\n",
      "2        False\n",
      "3        False\n",
      "4        False\n",
      "         ...  \n",
      "16710    False\n",
      "16711    False\n",
      "16712    False\n",
      "16713    False\n",
      "16714    False\n",
      "Name: user_score, Length: 16715, dtype: bool\n",
      "Количество записей с 'tbd' в User_Score: 2424\n"
     ]
    }
   ],
   "source": [
    "# 1. Определяем записи с 'tbd'\n",
    "tbd_lines = games['user_score'] == 'tbd'\n",
    "print(tbd_lines)\n",
    "\n",
    "# 2. Подсчитываем количество записей с 'tbd'\n",
    "tbd_count = tbd_lines.sum()\n",
    "print(f\"Количество записей с 'tbd' в User_Score: {tbd_count}\")"
   ]
  },
  {
   "cell_type": "markdown",
   "id": "70fdbae4272f25d",
   "metadata": {},
   "source": [
    "Данный набор данных содержит пропуски в нескольких столбцах, а также значительное количество значений \"tbd\" в столбце \"User_Score\". Вот подробный анализ:\n",
    "\n",
    "Пропущенные данные:\n",
    "- Name: 2 пропущенных значения (0,01%).\n",
    "- Year_of_Release: 269 пропущенных значений (1,61%).\n",
    "- Genre: 2 пропущенных значения (0,01%).\n",
    "- Critic_Score: 8578 пропущенных значений (51,32%).\n",
    "- User_Score: 6701 пропущенное значение (40,09%).\n",
    "- Rating: 6766 пропущенных значений (40,48%).\n",
    "\n",
    "'tbd' в User_Score:\n",
    "- В столбце \"User_Score\" 2424 значения \"tbd\", что составляет примерно 14,50% от общего числа строк."
   ]
  },
  {
   "cell_type": "code",
   "execution_count": 12,
   "id": "6e025cf1",
   "metadata": {},
   "outputs": [],
   "source": [
    "# check\n",
    "# пропущенные значения бары\n",
    "\n",
    "def pass_value_barh(df):\n",
    "    try:\n",
    "        (\n",
    "            (df.isna().mean()*100)\n",
    "            .to_frame()\n",
    "            .rename(columns = {0:'space'})\n",
    "            .query('space > 0')\n",
    "            .sort_values(by = 'space', ascending = True)\n",
    "            .plot(kind = 'barh', figsize = (19,6), rot = 0, legend = False, fontsize = 16)\n",
    "            .set_title('Пример' + \"\\n\", fontsize = 22, color = 'SteelBlue')    \n",
    "        );    \n",
    "    except:\n",
    "        print('пропусков не осталось :) или произошла ошибка в первой части функции ')"
   ]
  },
  {
   "cell_type": "code",
   "execution_count": 13,
   "id": "dad451b9",
   "metadata": {},
   "outputs": [],
   "source": [
    "def pass_value_barh(df):\n",
    "    try:\n",
    "        missing_data = (df.isna().mean() * 100).to_frame().rename(columns={0: 'Процент пропущенных данных'})\n",
    "        missing_data = missing_data.query('`Процент пропущенных данных` > 0').sort_values(by='Процент пропущенных данных')\n",
    "\n",
    "        ax = missing_data.plot(kind='barh', figsize=(19, 6), color='SkyBlue', legend=False)\n",
    "        ax.set_title('Процент пропущенных данных по столбцам\\n', fontsize=22, color='SteelBlue')\n",
    "        ax.set_xlabel('Процент пропущенных данных', fontsize=16)\n",
    "        ax.set_ylabel('Столбцы', fontsize=16)\n",
    "        ax.grid(axis='x', linestyle='--', alpha=0.7)\n",
    "\n",
    "        for p in ax.patches:\n",
    "            ax.annotate(f\"{p.get_width():.2f}%\", (p.get_width(), p.get_y() + p.get_height() / 2), \n",
    "                        xytext=(5, 0), textcoords='offset points', ha='left', va='center', fontsize=10)\n",
    "    except Exception as e:\n",
    "        print('Произошла ошибка:', e)\n",
    "        print('Возможно, пропусков не осталось или произошла ошибка в первой части функции')"
   ]
  },
  {
   "cell_type": "code",
   "execution_count": 14,
   "id": "7fc5eec2",
   "metadata": {},
   "outputs": [
    {
     "data": {
      "image/png": "[encoded data removed]",
      "text/plain": [
       "<Figure size 1368x432 with 1 Axes>"
      ]
     },
     "metadata": {
      "needs_background": "light"
     },
     "output_type": "display_data"
    }
   ],
   "source": [
    "pass_value_barh(games)"
   ]
  },
  {
   "cell_type": "markdown",
   "id": "3aa08ae06f921b4d",
   "metadata": {},
   "source": [
    "**Название Игры**"
   ]
  },
  {
   "cell_type": "code",
   "execution_count": 15,
   "id": "8eb5853a7872afd2",
   "metadata": {
    "is_executing": true
   },
   "outputs": [],
   "source": [
    "# Удаление строк, содержащих пропущенные значения\n",
    "games.dropna(subset=['name'], inplace=True)"
   ]
  },
  {
   "cell_type": "markdown",
   "id": "582cd4735fe87a62",
   "metadata": {},
   "source": []
  },
  {
   "cell_type": "markdown",
   "id": "4c52edb2d1129054",
   "metadata": {},
   "source": [
    "Обработка: Учитывая, что пропусков было всего 1.6%, их было решено удалить, поскольку их влияние на общий анализ оказалось незначительным. Кроме этого, пропущенные значения в названиях игр были удалены, потому что название игры является ключевой переменной, и наличие данных, связанных с этой переменной, будет бесполезным.\"\n",
    "\n",
    "Причины пропусков: Возможными причинами оказались ошибки при сборе данных или их вводе."
   ]
  },
  {
   "cell_type": "markdown",
   "id": "184999836cbf3585",
   "metadata": {},
   "source": [
    "**Год Выпуска**"
   ]
  },
  {
   "cell_type": "code",
   "execution_count": 16,
   "id": "975845c1b81d1e7b",
   "metadata": {
    "is_executing": true
   },
   "outputs": [],
   "source": [
    "# Обработка данных в DataFrame 'games': удаляем строки, где отсутствуют данные в столбце 'year_of_release'.\n",
    "games.dropna(subset=['year_of_release'], inplace=True)"
   ]
  },
  {
   "cell_type": "markdown",
   "id": "de257d4a07e77a00",
   "metadata": {},
   "source": [
    "Обработка: Аналогично названию игры, пропуски были удалены из-за их незначительного количества.\n",
    "Причины пропусков: Пропуски могли возникать из-за ошибок ввода или отсутствия четкой жанровой категоризации."
   ]
  },
  {
   "cell_type": "markdown",
   "id": "8325f550740e436e",
   "metadata": {},
   "source": [
    "**Жанр Игры**"
   ]
  },
  {
   "cell_type": "code",
   "execution_count": 17,
   "id": "d6843ecf884ddff4",
   "metadata": {
    "is_executing": true
   },
   "outputs": [],
   "source": [
    "# Удаляем строки, в которых отсутствуют данные в столбце 'genre'\n",
    "games.dropna(subset=['genre'], inplace=True)"
   ]
  },
  {
   "cell_type": "markdown",
   "id": "413116ab93030819",
   "metadata": {},
   "source": [
    "Обработка: Данные не представляли никакой ценности для будущего исследования, в них нет никакой информации.\n",
    "Причины пропусков: Пропуски могли возникнуть из-за недоступности информации или ошибок при вводе данных."
   ]
  },
  {
   "cell_type": "markdown",
   "id": "9d0c5916c5d9bb44",
   "metadata": {},
   "source": [
    "**Оценка пользователей**"
   ]
  },
  {
   "cell_type": "code",
   "execution_count": 18,
   "id": "9334459114045cd1",
   "metadata": {
    "is_executing": true
   },
   "outputs": [],
   "source": [
    "# Замена значений 'tbd' на NaN в столбце 'user_score'.\n",
    "games['user_score'].replace('tbd', np.nan, inplace=True)"
   ]
  },
  {
   "cell_type": "code",
   "execution_count": 19,
   "id": "a89c57136ad69e1d",
   "metadata": {
    "is_executing": true
   },
   "outputs": [],
   "source": [
    "# Преобразование столбца 'user_score' из строк в числовой формат.\n",
    "games['user_score'] = pd.to_numeric(games['user_score'])"
   ]
  },
  {
   "cell_type": "code",
   "execution_count": 20,
   "id": "a251b73809a92a9d",
   "metadata": {
    "is_executing": true
   },
   "outputs": [
    {
     "name": "stdout",
     "output_type": "stream",
     "text": [
      "float64\n"
     ]
    }
   ],
   "source": [
    "print(games.dtypes['user_score'])"
   ]
  },
  {
   "cell_type": "markdown",
   "id": "a2e5fc4f2a484735",
   "metadata": {},
   "source": [
    "Обработка: Значения 'tbd' были обработаны как NaN, так как они означали, что оценка еще не определена. Остальные пропуски также были оставлены без изменений.\n",
    "Причины пропусков: 'tbd' указывало на отсутствие достаточного количества отзывов пользователей для формирования оценки. Другие пропуски могли возникнуть из-за отсутствия отзывов в целом."
   ]
  },
  {
   "cell_type": "markdown",
   "id": "ce636cbc9164c7e8",
   "metadata": {},
   "source": [
    "**Оценка Критиков**"
   ]
  },
  {
   "cell_type": "markdown",
   "id": "48db85ac3973dad9",
   "metadata": {},
   "source": [
    "Обработка:\n",
    "- Пропуски в столбце Critic_Score были оставлены без изменений. Попытки их заполнения, например, средними значениями или предсказаниями модели, могли ввести в заблуждение, так как они не отражали бы реальные оценки критиков.\n",
    "- Вместо этого было решено обрабатывать эти пропуски как отдельную категорию при анализе, что позволяло избежать искажения данных.\n",
    "\n",
    "Причины пропусков:\n",
    "- Пропуски в Critic_Score могли возникнуть из-за того, что некоторые игры не рецензировались критиками или рецензии были недоступны на момент сбора данных.\n",
    "- Для менее популярных или старых игр оценки критиков могут отсутствовать, так как такие игры реже попадают в поле зрения критиков."
   ]
  },
  {
   "cell_type": "markdown",
   "id": "f516dcc687429c9f",
   "metadata": {},
   "source": [
    "**Рейтинг**"
   ]
  },
  {
   "cell_type": "code",
   "execution_count": 21,
   "id": "d3e3ff54aaf7c472",
   "metadata": {
    "is_executing": true
   },
   "outputs": [],
   "source": [
    "# Оставляем пропуски в столбце рейтинга без изменений или помечаем их как 'Unknown'\n",
    "games['rating'] = games['rating'].fillna('Unknown')"
   ]
  },
  {
   "cell_type": "markdown",
   "id": "6fc89213b554723d",
   "metadata": {},
   "source": [
    "Обработка:\n",
    "- Пропуски в столбце рейтинга ESRB были оставлены без изменений. Это было обусловлено тем, что любая попытка заполнить эти пропуски могла привести к неточной классификации игр, что, в свою очередь, могло сильно исказить результаты анализа.\n",
    "- Вместо заполнения пропусков была добавлена категория 'Unknown' (неизвестно), чтобы явно указать на отсутствие рейтинга ESRB для этих игр.\n",
    "\n",
    "Причины пропусков:\n",
    "- Пропуски могли возникнуть в случае, если игра не была представлена в ESRB или если данные о рейтинге не были доступны в момент сбора данных.\n",
    "- Для старых или менее популярных игр рейтинг ESRB мог отсутствовать."
   ]
  },
  {
   "cell_type": "code",
   "execution_count": 22,
   "id": "d9c76bd5",
   "metadata": {},
   "outputs": [
    {
     "name": "stdout",
     "output_type": "stream",
     "text": [
      "Unknown    6676\n",
      "E          3921\n",
      "T          2905\n",
      "M          1536\n",
      "E10+       1393\n",
      "EC            8\n",
      "K-A           3\n",
      "AO            1\n",
      "RP            1\n",
      "Name: rating, dtype: int64\n"
     ]
    }
   ],
   "source": [
    "# Получение частотности категорий рейтинга и их отношение к остальным\n",
    "rating_counts = games['rating'].value_counts()\n",
    "print(rating_counts)"
   ]
  },
  {
   "cell_type": "code",
   "execution_count": 23,
   "id": "84aa1f0e6b400255",
   "metadata": {
    "is_executing": true
   },
   "outputs": [
    {
     "name": "stdout",
     "output_type": "stream",
     "text": [
      "name                  0\n",
      "platform              0\n",
      "year_of_release       0\n",
      "genre                 0\n",
      "na_sales              0\n",
      "eu_sales              0\n",
      "jp_sales              0\n",
      "other_sales           0\n",
      "critic_score       8461\n",
      "user_score         8981\n",
      "rating                0\n",
      "dtype: int64\n"
     ]
    }
   ],
   "source": [
    "missing_data = games.isnull().sum()\n",
    "print(missing_data)"
   ]
  },
  {
   "cell_type": "markdown",
   "id": "38e7f821a9322cc7",
   "metadata": {},
   "source": [
    "***2.4. Посчитайте суммарные продажи во всех регионах и запишите их в отдельный столбец***"
   ]
  },
  {
   "cell_type": "code",
   "execution_count": 24,
   "id": "76212396dbad6a33",
   "metadata": {
    "is_executing": true
   },
   "outputs": [],
   "source": [
    "# Расчет суммарных продаж во всех регионах  и добавление в новый столбец\n",
    "games['total_sales'] = games[['na_sales','eu_sales','jp_sales', 'other_sales']].sum(axis = 1)"
   ]
  },
  {
   "cell_type": "code",
   "execution_count": 25,
   "id": "2fcdaaf9",
   "metadata": {},
   "outputs": [
    {
     "data": {
      "text/html": [
       "<div>\n",
       "<style scoped>\n",
       "    .dataframe tbody tr th:only-of-type {\n",
       "        vertical-align: middle;\n",
       "    }\n",
       "\n",
       "    .dataframe tbody tr th {\n",
       "        vertical-align: top;\n",
       "    }\n",
       "\n",
       "    .dataframe thead th {\n",
       "        text-align: right;\n",
       "    }\n",
       "</style>\n",
       "<table border=\"1\" class=\"dataframe\">\n",
       "  <thead>\n",
       "    <tr style=\"text-align: right;\">\n",
       "      <th></th>\n",
       "      <th>name</th>\n",
       "      <th>platform</th>\n",
       "      <th>year_of_release</th>\n",
       "      <th>genre</th>\n",
       "      <th>na_sales</th>\n",
       "      <th>eu_sales</th>\n",
       "      <th>jp_sales</th>\n",
       "      <th>other_sales</th>\n",
       "      <th>critic_score</th>\n",
       "      <th>user_score</th>\n",
       "      <th>rating</th>\n",
       "      <th>total_sales</th>\n",
       "    </tr>\n",
       "  </thead>\n",
       "  <tbody>\n",
       "    <tr>\n",
       "      <th>604</th>\n",
       "      <td>Madden NFL 13</td>\n",
       "      <td>PS3</td>\n",
       "      <td>2012</td>\n",
       "      <td>Sports</td>\n",
       "      <td>2.11</td>\n",
       "      <td>0.22</td>\n",
       "      <td>0.0</td>\n",
       "      <td>0.23</td>\n",
       "      <td>83.0</td>\n",
       "      <td>5.5</td>\n",
       "      <td>E</td>\n",
       "      <td>2.56</td>\n",
       "    </tr>\n",
       "    <tr>\n",
       "      <th>16230</th>\n",
       "      <td>Madden NFL 13</td>\n",
       "      <td>PS3</td>\n",
       "      <td>2012</td>\n",
       "      <td>Sports</td>\n",
       "      <td>0.00</td>\n",
       "      <td>0.01</td>\n",
       "      <td>0.0</td>\n",
       "      <td>0.00</td>\n",
       "      <td>83.0</td>\n",
       "      <td>5.5</td>\n",
       "      <td>E</td>\n",
       "      <td>0.01</td>\n",
       "    </tr>\n",
       "  </tbody>\n",
       "</table>\n",
       "</div>"
      ],
      "text/plain": [
       "                name platform  year_of_release   genre  na_sales  eu_sales  \\\n",
       "604    Madden NFL 13      PS3             2012  Sports      2.11      0.22   \n",
       "16230  Madden NFL 13      PS3             2012  Sports      0.00      0.01   \n",
       "\n",
       "       jp_sales  other_sales  critic_score  user_score rating  total_sales  \n",
       "604         0.0         0.23          83.0         5.5      E         2.56  \n",
       "16230       0.0         0.00          83.0         5.5      E         0.01  "
      ]
     },
     "execution_count": 25,
     "metadata": {},
     "output_type": "execute_result"
    }
   ],
   "source": [
    "# Поиск дубликатов \n",
    "duplicates = games[games.duplicated(['name', 'platform', 'year_of_release'], keep=False)]\n",
    "\n",
    "# Выводим найденные дубликаты\n",
    "duplicates"
   ]
  },
  {
   "cell_type": "code",
   "execution_count": 26,
   "id": "41801a69",
   "metadata": {},
   "outputs": [],
   "source": [
    "# Удаляем дубликаты\n",
    "games = games.drop_duplicates(['name', 'platform', 'year_of_release'])"
   ]
  },
  {
   "cell_type": "code",
   "execution_count": 27,
   "id": "0dd35407",
   "metadata": {},
   "outputs": [
    {
     "data": {
      "text/html": [
       "<div>\n",
       "<style scoped>\n",
       "    .dataframe tbody tr th:only-of-type {\n",
       "        vertical-align: middle;\n",
       "    }\n",
       "\n",
       "    .dataframe tbody tr th {\n",
       "        vertical-align: top;\n",
       "    }\n",
       "\n",
       "    .dataframe thead th {\n",
       "        text-align: right;\n",
       "    }\n",
       "</style>\n",
       "<table border=\"1\" class=\"dataframe\">\n",
       "  <thead>\n",
       "    <tr style=\"text-align: right;\">\n",
       "      <th></th>\n",
       "      <th>name</th>\n",
       "      <th>platform</th>\n",
       "      <th>year_of_release</th>\n",
       "      <th>genre</th>\n",
       "      <th>na_sales</th>\n",
       "      <th>eu_sales</th>\n",
       "      <th>jp_sales</th>\n",
       "      <th>other_sales</th>\n",
       "      <th>critic_score</th>\n",
       "      <th>user_score</th>\n",
       "      <th>rating</th>\n",
       "      <th>total_sales</th>\n",
       "    </tr>\n",
       "  </thead>\n",
       "  <tbody>\n",
       "  </tbody>\n",
       "</table>\n",
       "</div>"
      ],
      "text/plain": [
       "Empty DataFrame\n",
       "Columns: [name, platform, year_of_release, genre, na_sales, eu_sales, jp_sales, other_sales, critic_score, user_score, rating, total_sales]\n",
       "Index: []"
      ]
     },
     "execution_count": 27,
     "metadata": {},
     "output_type": "execute_result"
    }
   ],
   "source": [
    "# Поиск дубликатов \n",
    "duplicates = games[games.duplicated(['name', 'platform', 'year_of_release'], keep=False)]\n",
    "\n",
    "# Выводим найденные дубликаты\n",
    "duplicates"
   ]
  },
  {
   "cell_type": "markdown",
   "id": "3fe7aa4e",
   "metadata": {},
   "source": [
    "**Промежуточный Вывод**\n",
    "\n",
    "Этот анализ набора данных о видеоиграх подчеркивает важность тщательной обработки и подготовки данных перед проведением анализа. Основные моменты обработки данных:\n",
    "\n",
    "Изменение типа данных в столбце 'Год выпуска': Преобразование из float64 в Int64 позволяет более адекватно представить годы выпуска игр и удобно работать с отсутствующими значениями.\n",
    "\n",
    "Преобразование 'Пользовательского рейтинга' из строки в числовой формат: Это упрощает анализ и позволяет использовать числовые методы обработки данных. Очистка от нечисловых значений, таких как 'tbd', необходима для избежания ошибок.\n",
    "\n",
    "Обработка пропусков в различных столбцах: Удаление незначительного количества пропусков в столбцах 'Name', 'Year_of_Release' и 'Genre' считается приемлемым, учитывая их малый процент. Оставление пропусков в столбцах 'Critic_Score', 'User_Score' и 'Rating' без изменений предотвращает искажение данных.\n",
    "\n",
    "Обработка значений 'tbd' в 'User_Score': Их преобразование в NaN помогает в анализе, поскольку 'tbd' указывает на недоступность оценки.\n",
    "\n",
    "Способы обработки данных о критиках и рейтинге ESRB: Вместо заполнения пропусков эти значения обрабатываются как отдельные категории. Это позволяет избежать неправильного представления информации, которая на самом деле неизвестна."
   ]
  },
  {
   "cell_type": "markdown",
   "id": "ee77d4bb59845630",
   "metadata": {},
   "source": [
    "# Шаг 3. Проведите исследовательский анализ данных"
   ]
  },
  {
   "cell_type": "markdown",
   "id": "651ca13de2b0ef1e",
   "metadata": {},
   "source": [
    "**Посмотрите, сколько игр выпускалось в разные годы. Важны ли данные за все периоды?**"
   ]
  },
  {
   "cell_type": "code",
   "execution_count": 28,
   "id": "fa129809d88980e6",
   "metadata": {
    "is_executing": true
   },
   "outputs": [
    {
     "name": "stdout",
     "output_type": "stream",
     "text": [
      "1980     9\n",
      "1981    46\n",
      "1982    36\n",
      "1983    17\n",
      "1984    14\n",
      "Name: year_of_release, dtype: Int64\n"
     ]
    }
   ],
   "source": [
    "# Создаем Series с количеством игр по годам\n",
    "games_per_year = games['year_of_release'].value_counts().sort_index()\n",
    "\n",
    "# Проверяем данные (опционально)\n",
    "print(games_per_year.head())"
   ]
  },
  {
   "cell_type": "code",
   "execution_count": 29,
   "id": "c26dc36b3e18cfbb",
   "metadata": {
    "is_executing": true
   },
   "outputs": [
    {
     "data": {
      "image/png": "[encoded data removed]",
      "text/plain": [
       "<Figure size 720x360 with 1 Axes>"
      ]
     },
     "metadata": {
      "needs_background": "light"
     },
     "output_type": "display_data"
    }
   ],
   "source": [
    "# Создаем график\n",
    "games_per_year.plot(figsize=(10, 5))\n",
    "plt.title('Количество выпущенных игр по годам')\n",
    "plt.xlabel('Год')\n",
    "plt.ylabel('Количество игр')\n",
    "plt.grid(True)\n",
    "\n",
    "# Отображаем график\n",
    "plt.show()"
   ]
  },
  {
   "cell_type": "markdown",
   "id": "529d665f2ab3c6a2",
   "metadata": {},
   "source": [
    "Количество выпущенных игр варьируется от года к году. Вот некоторые наблюдения:\n",
    "- В начале 1980-х годов выпускалось меньше игр (менее 50 в год).\n",
    "- Значительный рост числа выпускаемых игр начинается с середины 1990-х и достигает пика в период с 2006 по 2009 год (более 1000 игр в год).\n",
    "- После 2010 года наблюдается спад в количестве выпущенных игр.\n",
    "\n",
    "Данные за все периоды важны, так как эти данные помогают понять общие тенденции в индустрии видеоигр и могут быть использованы для анализа рынка, изменений в популярности различных жанров или платформ в разное время."
   ]
  },
  {
   "cell_type": "markdown",
   "id": "e2ca69c9800bae50",
   "metadata": {},
   "source": [
    "**Посмотрите, как менялись продажи по платформам. Выберите платформы с наибольшими суммарными продажами и постройте распределение по годам. За какой характерный срок появляются новые и исчезают старые платформы?**"
   ]
  },
  {
   "cell_type": "code",
   "execution_count": 30,
   "id": "73764443311e33d9",
   "metadata": {
    "is_executing": true
   },
   "outputs": [
    {
     "data": {
      "text/plain": [
       "platform\n",
       "PS2     1233.56\n",
       "X360     961.24\n",
       "PS3      931.33\n",
       "Wii      891.18\n",
       "DS       802.78\n",
       "PS       727.58\n",
       "PS4      314.14\n",
       "GBA      312.88\n",
       "PSP      289.53\n",
       "3DS      257.81\n",
       "PC       255.76\n",
       "GB       254.43\n",
       "XB       251.57\n",
       "NES      251.05\n",
       "N64      218.01\n",
       "SNES     200.04\n",
       "GC       196.73\n",
       "XOne     159.32\n",
       "2600      86.48\n",
       "WiiU      82.19\n",
       "Name: total_sales, dtype: float64"
      ]
     },
     "metadata": {},
     "output_type": "display_data"
    }
   ],
   "source": [
    "# Суммарные продажи для каждой платформы\n",
    "total_sales_per_platform = games.groupby('platform').sum()['total_sales']\n",
    "\n",
    "# Сортируем платформы по общим продажам\n",
    "total_sales_per_platform = total_sales_per_platform.sort_values(ascending=False)\n",
    "\n",
    "# Выводим топ платформ по продажам\n",
    "display(total_sales_per_platform.head(20))"
   ]
  },
  {
   "cell_type": "code",
   "execution_count": 31,
   "id": "b259154ec17ba2eb",
   "metadata": {
    "is_executing": true
   },
   "outputs": [
    {
     "data": {
      "text/plain": [
       "Text(0, 0.5, 'Количество продаж')"
      ]
     },
     "execution_count": 31,
     "metadata": {},
     "output_type": "execute_result"
    },
    {
     "data": {
      "image/png": "[encoded data removed]",
      "text/plain": [
       "<Figure size 936x432 with 1 Axes>"
      ]
     },
     "metadata": {
      "needs_background": "light"
     },
     "output_type": "display_data"
    }
   ],
   "source": [
    "sales_on_platform = games.pivot_table(\n",
    "    index='platform', values='total_sales', aggfunc='sum').sort_values(by='total_sales', ascending=False)\n",
    "\n",
    "plt.figure(figsize=(13,6))\n",
    "sns.barplot(x=sales_on_platform.index,y=sales_on_platform['total_sales'])\n",
    "plt.title(\"Продажи по платформам за весь период\")\n",
    "plt.xlabel(\"Название платформы\")\n",
    "plt.ylabel(\"Количество продаж\")"
   ]
  },
  {
   "cell_type": "markdown",
   "id": "55606b84d0b412c0",
   "metadata": {},
   "source": [
    "На графике заметно, что в течение всего рассматриваемого периода наиболее востребованными игровыми платформами являются PS2, X360 и PS3."
   ]
  },
  {
   "cell_type": "code",
   "execution_count": 32,
   "id": "a3881c46cd7313da",
   "metadata": {
    "is_executing": true
   },
   "outputs": [],
   "source": [
    "# Выберем топ-3 платформ по суммарным продажам\n",
    "top_platforms = total_sales_per_platform.head(3).index"
   ]
  },
  {
   "cell_type": "code",
   "execution_count": 33,
   "id": "c83e7af68794c145",
   "metadata": {
    "is_executing": true
   },
   "outputs": [
    {
     "data": {
      "image/png": "[encoded data removed]",
      "text/plain": [
       "<Figure size 432x288 with 1 Axes>"
      ]
     },
     "metadata": {
      "needs_background": "light"
     },
     "output_type": "display_data"
    }
   ],
   "source": [
    "# Фильтруем данные по топ платформам и считаем продажи по годам\n",
    "for platform in top_platforms:\n",
    "    # Фильтруем данные для одной платформы\n",
    "    platform_data = games[games['platform'] == platform]\n",
    "    \n",
    "    # Считаем продажи по годам\n",
    "    annual_sales = platform_data.groupby('year_of_release').sum()['total_sales']\n",
    "    \n",
    "    # Строим график\n",
    "    plt.plot(annual_sales.index, annual_sales.values, label=platform)\n",
    "\n",
    "# Добавляем легенду и названия осей\n",
    "plt.legend()\n",
    "plt.xlabel('Год')\n",
    "plt.ylabel('Суммарные продажи')\n",
    "plt.title('Продажи по годам для топ платформ')\n",
    "plt.show()"
   ]
  },
  {
   "cell_type": "markdown",
   "id": "6eb69c2d42a3eaeb",
   "metadata": {},
   "source": [
    "На графике представлены данные о годовых продажах для трех игровых платформ: PS2, X360 и PS3. Из графика можно сделать следующие выводы:\n",
    "- Продажи PS2 достигли пика раньше других платформ и показывали значительный уровень продаж на протяжении самого длительного периода времени.\n",
    "- Траектории продаж X360 и PS3 схожи: они характеризуются резким ростом, пиком и последующим спадом.\n",
    "- Продажи всех трех платформ снижаются после достижения пика.\n",
    "- Все платформы постепенно сходят на нет к 2016 году, что может указывать на окончание их жизненного цикла и замещение новыми моделями или поколениями игровых систем.\n",
    "\n",
    "Также можно заметить, что:\n",
    "- Платформа PS2 появилась в 2000 году, достигла пика продаж примерно в 2002 году и продолжала продаваться до после 2010 года, то есть её жизненный цикл составил примерно 10 лет.\n",
    "- X360 появилась около 2005 года, достигла пика продаж в районе 2010 года и продажи заметно упали к 2016 году, что также указывает на жизненный цикл в районе 10-11 лет.\n",
    "- PS3 была выпущена примерно в то же время, что и X360, и её жизненный цикл схож с X360, с пиком продаж также около 2010 года и спадом к 2016 году.\n",
    "\n",
    "Таким образом, характерный срок, за который появляются новые и исчезают старые платформы, на основе этих данных, составляет около 10 лет. "
   ]
  },
  {
   "cell_type": "markdown",
   "id": "6916f3ae950a0a4c",
   "metadata": {},
   "source": [
    "**Возьмите данные за соответствующий актуальный период. Актуальный период определите самостоятельно в результате исследования предыдущих вопросов. Основной фактор — эти данные помогут построить прогноз на 2017 год. Не учитывайте в работе данные за предыдущие годы.**"
   ]
  },
  {
   "cell_type": "markdown",
   "id": "cbb8b1bafc7031a0",
   "metadata": {},
   "source": [
    "Нам необходимо выбрать актуальный период - период, за который мы будем оценивать наши данные, на основании которых будем строить предсказательные модели на 2017 год.\n",
    "\n",
    "На мой взгляд, подходящим периодом для анализа является время с 2014 по 2016 год:\n",
    "- Это время охватывает момент выхода и популярности всех значимых игровых консолей;\n",
    "- В рамках этого периода мы имеем данные по всем ведущим консолям.\n",
    "- Данные за предшествующие годы мы исключим."
   ]
  },
  {
   "cell_type": "markdown",
   "id": "b39da8fa39df3c3a",
   "metadata": {},
   "source": [
    "**Какие платформы лидируют по продажам, растут или падают? Выберите несколько потенциально прибыльных платформ.**"
   ]
  },
  {
   "cell_type": "code",
   "execution_count": 34,
   "id": "5c56e492ac10772",
   "metadata": {
    "is_executing": true
   },
   "outputs": [
    {
     "data": {
      "text/html": [
       "<div>\n",
       "<style scoped>\n",
       "    .dataframe tbody tr th:only-of-type {\n",
       "        vertical-align: middle;\n",
       "    }\n",
       "\n",
       "    .dataframe tbody tr th {\n",
       "        vertical-align: top;\n",
       "    }\n",
       "\n",
       "    .dataframe thead th {\n",
       "        text-align: right;\n",
       "    }\n",
       "</style>\n",
       "<table border=\"1\" class=\"dataframe\">\n",
       "  <thead>\n",
       "    <tr style=\"text-align: right;\">\n",
       "      <th>platform</th>\n",
       "      <th>3DS</th>\n",
       "      <th>PC</th>\n",
       "      <th>PS3</th>\n",
       "      <th>PS4</th>\n",
       "      <th>PSP</th>\n",
       "      <th>PSV</th>\n",
       "      <th>Wii</th>\n",
       "      <th>WiiU</th>\n",
       "      <th>X360</th>\n",
       "      <th>XOne</th>\n",
       "    </tr>\n",
       "    <tr>\n",
       "      <th>year_of_release</th>\n",
       "      <th></th>\n",
       "      <th></th>\n",
       "      <th></th>\n",
       "      <th></th>\n",
       "      <th></th>\n",
       "      <th></th>\n",
       "      <th></th>\n",
       "      <th></th>\n",
       "      <th></th>\n",
       "      <th></th>\n",
       "    </tr>\n",
       "  </thead>\n",
       "  <tbody>\n",
       "    <tr>\n",
       "      <th>2014</th>\n",
       "      <td>43.76</td>\n",
       "      <td>13.28</td>\n",
       "      <td>47.76</td>\n",
       "      <td>100.00</td>\n",
       "      <td>0.24</td>\n",
       "      <td>11.90</td>\n",
       "      <td>3.75</td>\n",
       "      <td>22.03</td>\n",
       "      <td>34.74</td>\n",
       "      <td>54.07</td>\n",
       "    </tr>\n",
       "    <tr>\n",
       "      <th>2015</th>\n",
       "      <td>27.78</td>\n",
       "      <td>8.52</td>\n",
       "      <td>16.82</td>\n",
       "      <td>118.90</td>\n",
       "      <td>0.12</td>\n",
       "      <td>6.25</td>\n",
       "      <td>1.14</td>\n",
       "      <td>16.35</td>\n",
       "      <td>11.96</td>\n",
       "      <td>60.14</td>\n",
       "    </tr>\n",
       "    <tr>\n",
       "      <th>2016</th>\n",
       "      <td>15.14</td>\n",
       "      <td>5.25</td>\n",
       "      <td>3.60</td>\n",
       "      <td>69.25</td>\n",
       "      <td>NaN</td>\n",
       "      <td>4.25</td>\n",
       "      <td>0.18</td>\n",
       "      <td>4.60</td>\n",
       "      <td>1.52</td>\n",
       "      <td>26.15</td>\n",
       "    </tr>\n",
       "  </tbody>\n",
       "</table>\n",
       "</div>"
      ],
      "text/plain": [
       "platform           3DS     PC    PS3     PS4   PSP    PSV   Wii   WiiU   X360  \\\n",
       "year_of_release                                                                 \n",
       "2014             43.76  13.28  47.76  100.00  0.24  11.90  3.75  22.03  34.74   \n",
       "2015             27.78   8.52  16.82  118.90  0.12   6.25  1.14  16.35  11.96   \n",
       "2016             15.14   5.25   3.60   69.25   NaN   4.25  0.18   4.60   1.52   \n",
       "\n",
       "platform          XOne  \n",
       "year_of_release         \n",
       "2014             54.07  \n",
       "2015             60.14  \n",
       "2016             26.15  "
      ]
     },
     "metadata": {},
     "output_type": "display_data"
    }
   ],
   "source": [
    "# Фильтруем данные за период с 2014 по 2016 год включительно\n",
    "games_filtered = games[games['year_of_release'] >= 2014]\n",
    "\n",
    "# Создаем сводную таблицу\n",
    "pivot_table = games_filtered.pivot_table(\n",
    "    index='year_of_release',  \n",
    "    columns='platform',       \n",
    "    values='total_sales',     \n",
    "    aggfunc='sum'            \n",
    ")\n",
    "\n",
    "# Отображаем сводную таблицу\n",
    "display(pivot_table)"
   ]
  },
  {
   "cell_type": "code",
   "execution_count": 35,
   "id": "f5caf1bb",
   "metadata": {},
   "outputs": [
    {
     "data": {
      "image/png": "[encoded data removed]",
      "text/plain": [
       "<Figure size 720x432 with 1 Axes>"
      ]
     },
     "metadata": {
      "needs_background": "light"
     },
     "output_type": "display_data"
    }
   ],
   "source": [
    "pivot_table.plot(kind='line', figsize=(10, 6))\n",
    "\n",
    "plt.title('Общие Продажи по Платформам с 2014 по 2016 год')\n",
    "plt.xlabel('Год Выпуска')\n",
    "plt.ylabel('Общие Продажи')\n",
    "plt.grid(True)\n",
    "plt.xticks(range(2014, 2017))\n",
    "plt.legend(title='Платформа', bbox_to_anchor=(1.05, 1), loc='upper left')\n",
    "plt.tight_layout()\n",
    "\n",
    "plt.show()"
   ]
  },
  {
   "cell_type": "markdown",
   "id": "c98abc7370a8849",
   "metadata": {},
   "source": [
    "Исходя из тенденции роста и текущего положения на рынке, PS4, Xbox One и 3DS являются наиболее перспективными платформами для инвестирования в ближайшем будущем. Кроме того, исходя из 30-летней истории персональных компьютеров, игры для PC также включим в рекомендацию."
   ]
  },
  {
   "cell_type": "markdown",
   "id": "a4f382a5db5e6f5b",
   "metadata": {},
   "source": [
    "**Постройте график «ящик с усами» по глобальным продажам игр в разбивке по платформам. Опишите результат.**"
   ]
  },
  {
   "cell_type": "code",
   "execution_count": 36,
   "id": "9b5471b7",
   "metadata": {},
   "outputs": [
    {
     "data": {
      "image/png": "[encoded data removed]",
      "text/plain": [
       "<Figure size 1080x720 with 1 Axes>"
      ]
     },
     "metadata": {
      "needs_background": "light"
     },
     "output_type": "display_data"
    }
   ],
   "source": [
    "# Подготовка данных\n",
    "platform_sales_data = games_filtered[['platform', 'total_sales']]\n",
    "\n",
    "# Создание графика \"ящик с усами\"\n",
    "plt.figure(figsize=(15, 10))\n",
    "sns.boxplot(x='platform', y='total_sales', data=platform_sales_data)\n",
    "plt.title('Глобальные продажи игр по платформам')\n",
    "plt.xlabel('Платформа')\n",
    "plt.ylabel('Глобальные продажи (в миллионах)')\n",
    "plt.xticks(rotation=90)\n",
    "plt.grid(True, which=\"both\", ls=\"-\", linewidth=0.1)\n",
    "plt.show()"
   ]
  },
  {
   "cell_type": "code",
   "execution_count": 37,
   "id": "1c5f4caf603e9436",
   "metadata": {
    "ExecuteTime": {
     "end_time": "2024-01-26T16:43:03.939247Z",
     "start_time": "2024-01-26T16:43:03.327055Z"
    },
    "scrolled": false
   },
   "outputs": [
    {
     "data": {
      "image/png": "[encoded data removed]",
      "text/plain": [
       "<Figure size 1080x720 with 1 Axes>"
      ]
     },
     "metadata": {
      "needs_background": "light"
     },
     "output_type": "display_data"
    }
   ],
   "source": [
    "# Подготовка данных\n",
    "platform_sales_data = games_filtered[['platform', 'total_sales']]\n",
    "\n",
    "# Создание графика \"ящик с усами\"\n",
    "plt.figure(figsize=(15, 10))\n",
    "sns.boxplot(x='platform', y='total_sales', data=platform_sales_data)\n",
    "\n",
    "# Установка пределов для оси y\n",
    "plt.ylim(0.01, 2)\n",
    "\n",
    "plt.title('Глобальные продажи игр по платформам')\n",
    "plt.xlabel('Платформа')\n",
    "plt.ylabel('Глобальные продажи (в миллионах)')\n",
    "plt.xticks(rotation=90)\n",
    "plt.grid(True, which=\"both\", ls=\"-\", linewidth=0.1)\n",
    "plt.show()"
   ]
  },
  {
   "cell_type": "markdown",
   "id": "8921b10a7264a77c",
   "metadata": {},
   "source": [
    "Сравнение платформ:\n",
    "- PS4 и Xbox One (XOne) имеют схожие медианные продажи, но PS4 имеет больше выбросов, что может указывать на наличие более успешных игр.\n",
    "- Wii U и Wii имеют меньшее количество выбросов и ниже медианные продажи по сравнению с PS4 и Xbox One.\n",
    "- PC имеет схожий межквартильный размах с Wii U, но меньше выбросов.\n",
    "- 3DS показывает ещё меньшие медианные продажи, но с некоторыми выбросами.\n",
    "- PS3 и Xbox 360 (X360) занимают промежуточное положение между новыми и старыми платформами по уровню продаж.\n",
    "- PSV и PSP показывают самые низкие медианные продажи среди представленных платформ."
   ]
  },
  {
   "cell_type": "markdown",
   "id": "5797f0bf1ff48a6b",
   "metadata": {},
   "source": [
    "**Посмотрите, как влияют на продажи внутри одной популярной платформы отзывы пользователей и критиков. Постройте диаграмму рассеяния и посчитайте корреляцию между отзывами и продажами. Сформулируйте выводы.**"
   ]
  },
  {
   "cell_type": "code",
   "execution_count": 38,
   "id": "584dfabab2184c61",
   "metadata": {
    "ExecuteTime": {
     "end_time": "2024-01-26T16:43:03.977737Z",
     "start_time": "2024-01-26T16:43:03.942363Z"
    }
   },
   "outputs": [
    {
     "data": {
      "image/png": "[encoded data removed]",
      "text/plain": [
       "<Figure size 1008x432 with 2 Axes>"
      ]
     },
     "metadata": {},
     "output_type": "display_data"
    },
    {
     "name": "stdout",
     "output_type": "stream",
     "text": [
      "Корреляция между оценками критиков и общими продажами: 0.40\n",
      "Корреляция между оценками пользователей и общими продажами: -0.04\n"
     ]
    }
   ],
   "source": [
    "# Фильтрация данных для платформы PS2\n",
    "ps4 = games_filtered[games_filtered['platform'] == 'PS4']\n",
    "\n",
    "# Настройка внешнего вида графиков\n",
    "sns.set(style=\"whitegrid\")\n",
    "\n",
    "# Создание фигуры и осей для графиков\n",
    "fig, axes = plt.subplots(1, 2, figsize=(14, 6))\n",
    "\n",
    "# Диаграмма рассеяния для Critic_Score vs Total_Sales\n",
    "sns.scatterplot(ax=axes[0], data=ps4, x='critic_score', y='total_sales')\n",
    "axes[0].set_title('Оценки критиков vs Общие продажи')\n",
    "axes[0].set_xlabel('Оценка критиков')\n",
    "axes[0].set_ylabel('Общие продажи (млн копий)')\n",
    "\n",
    "# Диаграмма рассеяния для User_Score vs Total_Sales\n",
    "sns.scatterplot(ax=axes[1], data=ps4, x='user_score', y='total_sales')\n",
    "axes[1].set_title('Оценки пользователей vs Общие продажи')\n",
    "axes[1].set_xlabel('Оценка пользователей')\n",
    "axes[1].set_ylabel('Общие продажи (млн копий)')\n",
    "\n",
    "plt.tight_layout()\n",
    "plt.show()\n",
    "\n",
    "# Расчет коэффициентов корреляции\n",
    "correlation_critic = ps4['critic_score'].corr(ps4['total_sales'])\n",
    "correlation_user = ps4['user_score'].corr(ps4['total_sales'])\n",
    "\n",
    "# Вывод коэффициентов корреляции\n",
    "print(f'Корреляция между оценками критиков и общими продажами: {correlation_critic:.2f}')\n",
    "print(f'Корреляция между оценками пользователей и общими продажами: {correlation_user:.2f}')"
   ]
  },
  {
   "cell_type": "markdown",
   "id": "bc279220e1bb6220",
   "metadata": {},
   "source": [
    "Оценки критиков и продажи: Корреляция между оценками критиков и общими продажами: 0.40. Существует умеренная положительная корреляция между оценками критиков и общими продажами. Это означает, что игры с более высокими оценками критиков, как правило, имеют более высокие продажи. Однако рассеяние точек достаточно велико, что указывает на наличие и других факторов, влияющих на продажи.\n",
    "\n",
    "Оценки пользователей и продажи: Корреляция между оценками пользователей и общими продажами: -0.04. Такая корреляция указывает на отсутствие заметной связи между оценками пользователей и продажами игр. Это может означать, что мнение пользователей имеет мало влияния на продажи игр или что другие факторы играют более значительную роль.\n",
    "\n",
    "Важно отметить, что корреляция не означает причинно-следственную связь. Возможно, существуют дополнительные факторы, которые влияют как на оценки, так и на продажи игр."
   ]
  },
  {
   "cell_type": "markdown",
   "id": "e85be3c62c7386c7",
   "metadata": {},
   "source": [
    "**Соотнесите выводы с продажами игр на других платформах.**"
   ]
  },
  {
   "cell_type": "code",
   "execution_count": 39,
   "id": "42b99ea370d55243",
   "metadata": {
    "ExecuteTime": {
     "start_time": "2024-01-26T16:43:03.944498Z"
    }
   },
   "outputs": [],
   "source": [
    "def other_platform_matrix(name_of_platform):\n",
    "    platform_dataset = games_filtered[games_filtered['platform'] == name_of_platform]\n",
    "    fig, ax = plt.subplots(1, 2, figsize=(15, 5))\n",
    "    sns.scatterplot(x='user_score', y='total_sales', data=platform_dataset, ax=ax[0])\n",
    "    sns.scatterplot(x='critic_score', y='total_sales', data=platform_dataset, ax=ax[1])\n",
    "    fig.suptitle(name_of_platform, fontsize=15)\n",
    "    ax[0].set(xlabel='Оценка пользователей')\n",
    "    ax[1].set(xlabel='Оценка критиков')\n",
    "    ax[0].set(ylabel='Количество продаж')\n",
    "    ax[1].set(ylabel='Количество продаж')\n",
    "    plt.show()\n",
    "    \n",
    "    user_correl = platform_dataset['user_score'].corr(platform_dataset['total_sales'])\n",
    "    critic_correl = platform_dataset['critic_score'].corr(platform_dataset['total_sales'])\n",
    "    \n",
    "# Код для вывода результатов корреляции...\n",
    "    print('Корреляция между отзывами критиков и количеством продаж ', \n",
    "          name_of_platform.upper(), ': {:.2f}'.format(critic_correl))\n",
    "    print('Корреляция между отзывами пользователей и количеством продаж ', \n",
    "          name_of_platform.upper(), ': {:.2f}'.format(user_correl))\n",
    "    print('\\n')"
   ]
  },
  {
   "cell_type": "code",
   "execution_count": 40,
   "id": "269294205ad1a1d8",
   "metadata": {
    "ExecuteTime": {
     "start_time": "2024-01-26T16:43:03.949375Z"
    },
    "scrolled": true
   },
   "outputs": [
    {
     "data": {
      "image/png": "[encoded data removed]",
      "text/plain": [
       "<Figure size 1080x360 with 2 Axes>"
      ]
     },
     "metadata": {},
     "output_type": "display_data"
    },
    {
     "name": "stdout",
     "output_type": "stream",
     "text": [
      "Корреляция между отзывами критиков и количеством продаж  XONE : 0.43\n",
      "Корреляция между отзывами пользователей и количеством продаж  XONE : -0.07\n",
      "\n",
      "\n"
     ]
    },
    {
     "data": {
      "image/png": "[encoded data removed]",
      "text/plain": [
       "<Figure size 1080x360 with 2 Axes>"
      ]
     },
     "metadata": {},
     "output_type": "display_data"
    },
    {
     "name": "stdout",
     "output_type": "stream",
     "text": [
      "Корреляция между отзывами критиков и количеством продаж  PS3 : 0.45\n",
      "Корреляция между отзывами пользователей и количеством продаж  PS3 : -0.17\n",
      "\n",
      "\n"
     ]
    },
    {
     "data": {
      "image/png": "[encoded data removed]",
      "text/plain": [
       "<Figure size 1080x360 with 2 Axes>"
      ]
     },
     "metadata": {},
     "output_type": "display_data"
    },
    {
     "name": "stdout",
     "output_type": "stream",
     "text": [
      "Корреляция между отзывами критиков и количеством продаж  3DS : 0.31\n",
      "Корреляция между отзывами пользователей и количеством продаж  3DS : 0.22\n",
      "\n",
      "\n"
     ]
    }
   ],
   "source": [
    "# Список платформ\n",
    "other_platforms = ['XOne', 'PS3', '3DS']  \n",
    "\n",
    "# С помощью цикла выведем все графики для платформ в списке top_platforms\n",
    "for platform in other_platforms:\n",
    "    other_platform_matrix(platform)"
   ]
  },
  {
   "cell_type": "markdown",
   "id": "568eb746b122890a",
   "metadata": {},
   "source": [
    "Выводы:\n",
    "\n",
    "Для платформы XONE:\n",
    "- Корреляция между отзывами критиков и количеством продаж составляет 0.43, что свидетельствует о умеренной положительной связи между оценками критиков и продажами.\n",
    "- Корреляция между отзывами пользователей и количеством продаж составляет -0.07, что указывает на слабую отрицательную связь между оценками пользователей и продажами.\n",
    "\n",
    "Для платформы PS3:\n",
    "- Корреляция между отзывами критиков и количеством продаж составляет 0.45, что говорит о умеренной положительной связи между оценками критиков и продажами.\n",
    "- Корреляция между отзывами пользователей и количеством продаж составляет -0.17, что указывает на слабую отрицательную связь между оценками пользователей и продажами.\n",
    "\n",
    "Для платформы 3DS:\n",
    "- Корреляция между отзывами критиков и количеством продаж составляет 0.31, что свидетельствует о умеренной положительной связи между оценками критиков и продажами.\n",
    "- Корреляция между отзывами пользователей и количеством продаж составляет 0.22, что также указывает на умеренную положительную связь между оценками пользователей и продажами.\n",
    "\n",
    "Для большинства платформ наблюдается умеренная корреляция между отзывами критиков и количеством продаж. Однако корреляция между отзывами пользователей и продажами оказывается слабой, в отличие от оценок критиков. Поэтому можно сделать вывод, что покупатели, как правило, уделяют больше внимания мнениям критиков, чем рецензиям других пользователей."
   ]
  },
  {
   "cell_type": "markdown",
   "id": "c600f4046a66ed55",
   "metadata": {},
   "source": [
    "**Посмотрите на общее распределение игр по жанрам. Что можно сказать о самых прибыльных жанрах? Выделяются ли жанры с высокими и низкими продажами?**"
   ]
  },
  {
   "cell_type": "code",
   "execution_count": 41,
   "id": "623866f6b28bfa41",
   "metadata": {
    "ExecuteTime": {
     "start_time": "2024-01-26T16:43:03.952111Z"
    }
   },
   "outputs": [],
   "source": [
    "# Подсчёт количества игр в каждом жанре\n",
    "genre_counts = games_filtered['genre'].value_counts()\n",
    "\n",
    "# Расчет общих продаж по каждому жанру\n",
    "genre_sales = games_filtered.groupby('genre')['total_sales'].sum().sort_values(ascending=False)"
   ]
  },
  {
   "cell_type": "code",
   "execution_count": 42,
   "id": "9fb70c26b0608b6d",
   "metadata": {
    "ExecuteTime": {
     "start_time": "2024-01-26T16:43:03.955582Z"
    }
   },
   "outputs": [
    {
     "data": {
      "text/plain": [
       "Action          619\n",
       "Role-Playing    221\n",
       "Adventure       185\n",
       "Sports          161\n",
       "Shooter         128\n",
       "Misc            113\n",
       "Racing           69\n",
       "Fighting         60\n",
       "Simulation       44\n",
       "Platform         38\n",
       "Strategy         37\n",
       "Puzzle           14\n",
       "Name: genre, dtype: int64"
      ]
     },
     "metadata": {},
     "output_type": "display_data"
    }
   ],
   "source": [
    "display(genre_counts)"
   ]
  },
  {
   "cell_type": "code",
   "execution_count": 43,
   "id": "db2374736d4c35ef",
   "metadata": {
    "ExecuteTime": {
     "start_time": "2024-01-26T16:43:03.958238Z"
    }
   },
   "outputs": [
    {
     "data": {
      "image/png": "[encoded data removed]",
      "text/plain": [
       "<Figure size 432x288 with 1 Axes>"
      ]
     },
     "metadata": {},
     "output_type": "display_data"
    }
   ],
   "source": [
    "# Визуализация количества игр по жанрам\n",
    "genre_counts.plot(kind='barh', title='Количество игр по жанрам')\n",
    "plt.xlabel('Количество игр')\n",
    "plt.ylabel('Жанр')\n",
    "plt.show()"
   ]
  },
  {
   "cell_type": "markdown",
   "id": "33573a7aeeec4190",
   "metadata": {},
   "source": [
    "**Игры разных жанров распределены неравномерно по количеству выпущенных на рынок продуктов:**\n",
    "\n",
    "Action занимает лидирующие позиции, являясь самым популярным жанром с 3307 играми, что может отражать его широкую популярность как среди игроков, так и среди разработчиков.\n",
    "Sports следует за Action с 2306 играми, подчеркивая стабильный интерес к этому жанру.\n",
    "Misc с 1721 игрой также пользуется заметной популярностью, возможно, благодаря разнообразию предлагаемых в этой категории игровых опытов.\n",
    "Role-Playing и Shooter с 1481 и 1296 играми соответственно также показывают хорошие результаты, что может быть связано с преданными фанатскими сообществами этих жанров.\n",
    "Adventure, Racing и Platform с количеством игр около 1000-1200 указывают на средний уровень интереса в игровом сообществе.\n",
    "Simulation, Fighting, Strategy и Puzzle с количеством игр от 569 до 857 замыкают список, что может сигнализировать о более узком круге целевой аудитории или о более высоких рисках для разработчиков в этих категориях."
   ]
  },
  {
   "cell_type": "code",
   "execution_count": 44,
   "id": "737938450fcfeb72",
   "metadata": {
    "ExecuteTime": {
     "start_time": "2024-01-26T16:43:03.960599Z"
    }
   },
   "outputs": [
    {
     "data": {
      "text/plain": [
       "genre\n",
       "Action          199.36\n",
       "Shooter         170.94\n",
       "Sports          109.48\n",
       "Role-Playing    101.44\n",
       "Misc             37.55\n",
       "Fighting         28.22\n",
       "Racing           27.52\n",
       "Platform         18.09\n",
       "Adventure        17.55\n",
       "Simulation       13.13\n",
       "Strategy          3.96\n",
       "Puzzle            2.21\n",
       "Name: total_sales, dtype: float64"
      ]
     },
     "metadata": {},
     "output_type": "display_data"
    }
   ],
   "source": [
    "display(genre_sales)"
   ]
  },
  {
   "cell_type": "code",
   "execution_count": 45,
   "id": "52a24bda04352688",
   "metadata": {
    "ExecuteTime": {
     "start_time": "2024-01-26T16:43:03.963452Z"
    }
   },
   "outputs": [
    {
     "data": {
      "image/png": "[encoded data removed]",
      "text/plain": [
       "<Figure size 432x288 with 1 Axes>"
      ]
     },
     "metadata": {},
     "output_type": "display_data"
    }
   ],
   "source": [
    "# Визуализация общих продаж по жанрам\n",
    "genre_sales.plot(kind='barh', title='Общие продажи по жанрам')\n",
    "plt.xlabel('Общие продажи (в миллионах)')\n",
    "plt.ylabel('Жанр')\n",
    "plt.show()"
   ]
  },
  {
   "cell_type": "markdown",
   "id": "4aba468de78b96bf",
   "metadata": {},
   "source": [
    "**Из данных о общих продажах по жанрам видно следующее:**\n",
    "\n",
    "Action занимает лидирующую позицию с общими продажами в 1716.52 миллионов, что подчеркивает высокий коммерческий успех игр этого жанра. Это может быть связано с широким разнообразием и универсальностью игр Action, а также с их популярностью среди широкой аудитории.\n",
    "\n",
    "Sports также показывает сильные результаты с продажами в 1309.67 миллионов. Это может быть связано с популярностью спортивных симуляторов и игр, основанных на реальных спортивных событиях и лигах.\n",
    "\n",
    "Жанр Shooter имеет общие продажи в 1041.36 миллионов, что отражает стабильный спрос и интерес к играм этого жанра, возможно, благодаря динамике и вовлеченности, которые они предлагают игрокам.\n",
    "\n",
    "Жанры Role-Playing и Platform также демонстрируют высокие продажи с 931.08 и 825.55 миллионов соответственно, что может свидетельствовать о лояльности фанатов и привлекательности этих жанров.\n",
    "\n",
    "Жанры Misc (разное), Racing и Fighting имеют средние показатели продаж, что может отражать определенную нишевую аудиторию или конкретные предпочтения в рамках этих жанров.\n",
    "\n",
    "Жанры Simulation, Puzzle, Adventure и Strategy показывают наименьшие общие продажи. Это может указывать на более нишевый интерес к этим жанрам или на определенные сложности в привлечении широкой аудитории."
   ]
  },
  {
   "cell_type": "code",
   "execution_count": 46,
   "id": "d7b51990",
   "metadata": {},
   "outputs": [
    {
     "data": {
      "image/png": "[encoded data removed]",
      "text/plain": [
       "<Figure size 864x432 with 1 Axes>"
      ]
     },
     "metadata": {},
     "output_type": "display_data"
    }
   ],
   "source": [
    "# Создание диаграммы размаха с выбросами\n",
    "plt.figure(figsize=(12, 6))\n",
    "sns.boxplot(x='genre', y='total_sales', data=games_filtered)\n",
    "plt.title('Распределение Продаж по Жанрам с Учетом Выбросов')\n",
    "plt.xlabel('Жанр')\n",
    "plt.ylabel('Общие Продажи')\n",
    "plt.xticks(rotation=45)\n",
    "plt.show()"
   ]
  },
  {
   "cell_type": "markdown",
   "id": "6ed5f9bc",
   "metadata": {},
   "source": [
    "**На диаграмме размаха, которая показывает распределение продаж по жанрам с учетом выбросов, можно сделать следующие наблюдения:**\n",
    "\n",
    "- Медианные значения продаж по большинству жанров довольно низкие, что указывает на то, что типичные продажи игр в каждом жанре не очень высоки.\n",
    "- Жанр \"Shooter\" выделяется среди других жанров более высокой медианой, что может указывать на большую популярность или более высокий уровень продаж игр в этом жанре по сравнению с другими.\n",
    "- Есть значительное количество выбросов во многих жанрах, особенно в \"Action\" и \"Shooter\". Это означает, что некоторые игры в этих жанрах продавались намного лучше, чем большинство других игр.\n",
    "- Разброс данных в жанрах \"Action\" и \"Shooter\" также более широкий, что указывает на большую вариативность в продажах игр; это может быть связано как с наличием очень успешных хитов, так и с большим количеством игр, которые не достигли высоких продаж.\n",
    "- Другие жанры, такие как \"Strategy\" и \"Adventure\", имеют как более низкие медианные продажи, так и меньше выбросов, что может указывать на более низкую общую прибыльность и популярность игр в этих жанрах."
   ]
  },
  {
   "cell_type": "code",
   "execution_count": 47,
   "id": "b77f047f",
   "metadata": {},
   "outputs": [
    {
     "data": {
      "image/png": "[encoded data removed]",
      "text/plain": [
       "<Figure size 864x432 with 1 Axes>"
      ]
     },
     "metadata": {},
     "output_type": "display_data"
    }
   ],
   "source": [
    "# Создание диаграммы размаха без выбросов\n",
    "plt.figure(figsize=(12, 6))\n",
    "sns.boxplot(x='genre', y='total_sales', data=games_filtered, showfliers=False)\n",
    "plt.title('Распределение Продаж по Жанрам без Учета Выбросов')\n",
    "plt.xlabel('Жанр')\n",
    "plt.ylabel('Общие Продажи')\n",
    "plt.xticks(rotation=45)\n",
    "plt.show()"
   ]
  },
  {
   "cell_type": "markdown",
   "id": "6e70a729",
   "metadata": {},
   "source": [
    "**На второй диаграмме размаха, которая показывает распределение продаж по жанрам без учета выбросов, можно сделать следующие выводы:**\n",
    "\n",
    "Медианные продажи: В отличие от первой диаграммы, медианные значения здесь уже не искажены выбросами. Можно заметить, что жанр \"Shooter\" имеет одну из самых высоких медиан, что указывает на стабильно высокий уровень продаж по сравнению с другими жанрами.\n",
    "\n",
    "Межквартильный размах (IQR): Этот показатель измеряет разброс данных в середине распределения и здесь видно, что жанры \"Shooter\" и \"Role-Playing\" имеют больший IQR по сравнению с другими жанрами, что указывает на большую вариативность в продажах внутри этих жанров.\n",
    "\n",
    "Усы диаграммы: Длинные усы у жанра \"Shooter\" говорят о том, что хотя есть игры с очень низкими продажами, также существует много игр, которые продаются лучше среднего. Это может быть признаком того, что жанр в целом популярен, но также содержит ряд менее успешных игр.\n",
    "\n",
    "Сравнение стабильности: Жанры с более короткими усами и более узким IQR, такие как \"Puzzle\" и \"Adventure\", могут быть более стабильными в плане продаж, но также могут указывать на отсутствие игр с высокими продажами.\n",
    "\n",
    "Общая успешность: Жанры с более высокими медианами и IQR, такие как \"Shooter\" и \"Role-Playing\", могут быть более прибыльными для издателей и разработчиков, поскольку средние продажи в этих жанрах выше.\n",
    "\n",
    "Из этого анализа можно заключить, что жанр \"Shooter\" может быть одним из наиболее потенциально прибыльных жанров, но также имеет большую вариативность в успехе игр. Жанры \"Puzzle\" и \"Adventure\" могут предлагать меньше риска с точки зрения вариативности продаж, но также и меньше потенциала для высоких продаж."
   ]
  },
  {
   "cell_type": "markdown",
   "id": "b800b748",
   "metadata": {},
   "source": [
    "**Промежуточный Вывод**\n",
    "\n",
    "Из анализа видеоигровой индустрии можно сделать следующие выводы:\n",
    "- Игровые платформы обычно имеют жизненный цикл около 10 лет, после чего их заменяют новые модели.\n",
    "- Период с 2014 по 2016 год важен для анализа текущего положения на рынке и прогнозирования. PS4, Xbox One, 3DS и PC являются наиболее перспективными платформами.\n",
    "- Корреляция между отзывами критиков и продажами игр умеренная и положительная, тогда как связь между отзывами пользователей и продажами слабая.\n",
    "- Жанр \"Action\" лидирует по количеству выпущенных игр и общим продажам, но при этом отмечается значительная вариативность в успехе отдельных игр.\n",
    "- Жанр \"Shooter\" выделяется высокими медианными продажами и вариативностью в успехе игр, что делает его потенциально прибыльным, но также сопряженным с рисками.\n",
    "- Жанры с меньшей популярностью, такие как \"Puzzle\" и \"Adventure\", представляют меньший риск в плане вариативности продаж, но и имеют меньший потенциал для высоких продаж."
   ]
  },
  {
   "cell_type": "markdown",
   "id": "b7a4d4f56cb6e337",
   "metadata": {},
   "source": [
    "# Шаг 4. Составьте портрет пользователя каждого региона"
   ]
  },
  {
   "cell_type": "markdown",
   "id": "3de417572d9be47e",
   "metadata": {},
   "source": [
    "**4.1. Определите для пользователя каждого региона (NA, EU, JP): Самые популярные платформы (топ-5). Опишите различия в долях продаж.**"
   ]
  },
  {
   "cell_type": "code",
   "execution_count": 48,
   "id": "aa92aa9b",
   "metadata": {},
   "outputs": [
    {
     "data": {
      "image/png": "[encoded data removed]",
      "text/plain": [
       "<Figure size 1728x576 with 3 Axes>"
      ]
     },
     "metadata": {},
     "output_type": "display_data"
    }
   ],
   "source": [
    "# Группировка и агрегирование данных по платформам для каждого региона\n",
    "na_platform_sales = games_filtered.groupby('platform')['na_sales'].sum().sort_values(ascending=True)\n",
    "eu_platform_sales = games_filtered.groupby('platform')['eu_sales'].sum().sort_values(ascending=True)\n",
    "jp_platform_sales = games_filtered.groupby('platform')['jp_sales'].sum().sort_values(ascending=True)\n",
    "\n",
    "# Выбор топ-5 платформ для каждого региона\n",
    "top5_platform_na = na_platform_sales.tail(5)\n",
    "top5_platform_eu = eu_platform_sales.tail(5)\n",
    "top5_platform_jp = jp_platform_sales.tail(5)\n",
    "\n",
    "# Вычисление общих продаж для каждого региона\n",
    "na_total_sales = games_filtered['na_sales'].sum()\n",
    "eu_total_sales = games_filtered['eu_sales'].sum()\n",
    "jp_total_sales = games_filtered['jp_sales'].sum()\n",
    "\n",
    "# Вычисление суммы продаж для топ-5 платформ\n",
    "sum_top5_platform_na = top5_platform_na.sum()\n",
    "sum_top5_platform_eu = top5_platform_eu.sum()\n",
    "sum_top5_platform_jp = top5_platform_jp.sum()\n",
    "\n",
    "# Вычисление продаж для категории \"другие\"\n",
    "other_platform_na = na_total_sales - sum_top5_platform_na\n",
    "other_platform_eu = eu_total_sales - sum_top5_platform_eu\n",
    "other_platform_jp = jp_total_sales - sum_top5_platform_jp\n",
    "\n",
    "# Создание DataFrame для каждого региона\n",
    "top5_platform_na_df = pd.DataFrame({'Sales': top5_platform_na})\n",
    "top5_platform_eu_df = pd.DataFrame({'Sales': top5_platform_eu})\n",
    "top5_platform_jp_df = pd.DataFrame({'Sales': top5_platform_jp})\n",
    "\n",
    "# Сортировка данных по убыванию для корректного отображения на графике\n",
    "top5_platform_na_sorted = top5_platform_na_df.sort_values(by='Sales', ascending=True)\n",
    "top5_platform_eu_sorted = top5_platform_eu_df.sort_values(by='Sales', ascending=True)\n",
    "top5_platform_jp_sorted = top5_platform_jp_df.sort_values(by='Sales', ascending=True)\n",
    "\n",
    "# Проверка наличия и добавление/обновление категории \"Другие\" в DataFrame для каждого региона\n",
    "for platform_df, other_sales in zip([top5_platform_na_sorted, top5_platform_eu_sorted, top5_platform_jp_sorted], \n",
    "                                    [other_platform_na, other_platform_eu, other_platform_jp]):\n",
    "    if 'Другие' in platform_df.index:\n",
    "        platform_df.loc['Другие'] += other_sales  # Обновление существующей строки\n",
    "    else:\n",
    "        platform_df.loc['Другие'] = other_sales  # Добавление новой строки, если \"Другие\" не существует\n",
    "\n",
    "# Сортировка DataFrame с учетом добавленной категории \"другие\"\n",
    "top5_platform_na_sorted = top5_platform_na_sorted.sort_values(by='Sales', ascending=True)\n",
    "top5_platform_eu_sorted = top5_platform_eu_sorted.sort_values(by='Sales', ascending=True)\n",
    "top5_platform_jp_sorted = top5_platform_jp_sorted.sort_values(by='Sales', ascending=True)\n",
    "\n",
    "# Увеличение размера фигуры\n",
    "fig, axes = plt.subplots(1, 3, figsize=(24, 8))  # Увеличенный размер фигуры для лучшей видимости\n",
    "\n",
    "# Настройка размеров шрифтов\n",
    "plt.rcParams.update({'font.size': 14})  # Настройка размера шрифта глобально\n",
    "\n",
    "# Определение палитры цветов для лучшего контраста\n",
    "colors = ['darkorange', 'seagreen', 'steelblue', 'mediumpurple', 'crimson', 'goldenrod']\n",
    "\n",
    "# Добавление сетки и установка пределов для лучшего понимания масштаба\n",
    "for ax in axes:\n",
    "    ax.grid(True, which='both', linestyle='--', linewidth=0.5, color='grey', axis='y', alpha=0.7)\n",
    "    ax.set_axisbelow(True)\n",
    "\n",
    "# Графики для каждого региона с сортированными данными\n",
    "axes[0].bar(top5_platform_na_sorted.index, top5_platform_na_sorted['Sales'], color=colors)\n",
    "axes[0].set_title('Северная Америка (NA) - Топ 5 Платформ', fontsize=16)\n",
    "axes[0].set_ylabel('Продажи (млн.)', fontsize=14)\n",
    "axes[0].tick_params(axis='x', rotation=45)\n",
    "\n",
    "axes[1].bar(top5_platform_eu_sorted.index, top5_platform_eu_sorted['Sales'], color=colors)\n",
    "axes[1].set_title('Европа (EU) - Топ 5 Платформ', fontsize=16)\n",
    "axes[1].set_ylabel('Продажи (млн.)', fontsize=14)\n",
    "axes[1].tick_params(axis='x', rotation=45)\n",
    "\n",
    "axes[2].bar(top5_platform_jp_sorted.index, top5_platform_jp_sorted['Sales'], color=colors)\n",
    "axes[2].set_title('Япония (JP) - Топ 5 Платформ', fontsize=16)\n",
    "axes[2].set_ylabel('Продажи (млн.)', fontsize=14)\n",
    "axes[2].tick_params(axis='x', rotation=45)\n",
    "\n",
    "# Настройка макета и отображение графиков\n",
    "plt.tight_layout()\n",
    "plt.subplots_adjust(top=0.9)\n",
    "fig.suptitle('Топ-5 платформ по регионам с 2014 по 2016 годы', fontsize=18)\n",
    "plt.show()"
   ]
  },
  {
   "cell_type": "markdown",
   "id": "9a45ca7d4c8a4e71",
   "metadata": {},
   "source": [
    "Из представленных графиков видно, что предпочтения в платформах для видеоигр значительно различаются между Северной Америкой, Европой и Японией.\n",
    "\n",
    "В Северной Америке наиболее популярной платформой является PS4, за ней следуют XOne и платформы категории \"Другие\", которая включает в себя все остальные платформы, не попавшие в топ-5. Далее идут X360 и 3DS. Заметно, что в Северной Америке предпочтения распределены довольно равномерно среди пятерки лидеров, за исключением PS4, которая имеет значительный отрыв по продажам.\n",
    "\n",
    "В Европе доминирует та же PS4, и здесь она выделяется еще более отчетливо. XOne также популярна, но отстает от PS4 более чем вдвое по продажам. Категория \"Другие\" здесь занимает третье место, уступая XOne, а затем идут PS3 и PC. Европейский рынок показывает сильное предпочтение к PS4.\n",
    "\n",
    "В Японии картина сильно отличается от Запада. Здесь лидирует платформа 3DS, что отражает популярность портативных игровых систем в этой стране. PS4 также популярна, но заметно уступает 3DS. Платформы PSV, PS3 и WiiU также входят в топ-5, но имеют значительно меньшие продажи, по сравнению с лидером. Категория \"Другие\" здесь занимает самое последнее место среди топ-5, что показывает сосредоточенность рынка на нескольких ключевых платформах.\n",
    "\n",
    "В целом, можно сделать вывод, что PS4 является лидирующей платформой в Северной Америке и Европе, в то время как в Японии предпочтение отдаётся портативным консолям, в частности 3DS. "
   ]
  },
  {
   "attachments": {
    "image.png": {
     "image/png": "[encoded data removed]"
    }
   },
   "cell_type": "markdown",
   "id": "db70083d",
   "metadata": {},
   "source": [
    "<div class=\"alert alert-success\">\n",
    "<font size=\"4\", color= \"seagreen\"><b>✔️ Комментарий ревьюера</b></font>\n",
    "    <br /> \n",
    "    <font size=\"3\", color = \"black\">\n",
    "<br /> пример графиков\n",
    "        \n",
    "![image.png](attachment:image.png)        \n",
    "        \n",
    "\n",
    "__Если столкнешься с трудностью выполнения данного пункта — присылай код, который не получился и вопрос, подумаем вместе__\n"
   ]
  },
  {
   "cell_type": "markdown",
   "id": "c631278f32b0464f",
   "metadata": {},
   "source": [
    "**4.2. Определите для пользователя каждого региона (NA, EU, JP): Самые популярные жанры (топ-5). Поясните разницу.**"
   ]
  },
  {
   "cell_type": "code",
   "execution_count": 1,
   "id": "9cb54b2329e6ff52",
   "metadata": {
    "ExecuteTime": {
     "start_time": "2024-01-26T16:43:03.972877Z"
    },
    "scrolled": true
   },
   "outputs": [
    {
     "ename": "NameError",
     "evalue": "name 'games_filtered' is not defined",
     "output_type": "error",
     "traceback": [
      "\u001b[0;31m---------------------------------------------------------------------------\u001b[0m",
      "\u001b[0;31mNameError\u001b[0m                                 Traceback (most recent call last)",
      "\u001b[0;32m/tmp/ipykernel_32/3331552329.py\u001b[0m in \u001b[0;36m<module>\u001b[0;34m\u001b[0m\n\u001b[1;32m      1\u001b[0m \u001b[0;31m# Группировка и агрегирование данных по жанрам для каждого региона\u001b[0m\u001b[0;34m\u001b[0m\u001b[0;34m\u001b[0m\u001b[0;34m\u001b[0m\u001b[0m\n\u001b[0;32m----> 2\u001b[0;31m \u001b[0mna_genre_sales\u001b[0m \u001b[0;34m=\u001b[0m \u001b[0mgames_filtered\u001b[0m\u001b[0;34m.\u001b[0m\u001b[0mgroupby\u001b[0m\u001b[0;34m(\u001b[0m\u001b[0;34m'genre'\u001b[0m\u001b[0;34m)\u001b[0m\u001b[0;34m[\u001b[0m\u001b[0;34m'na_sales'\u001b[0m\u001b[0;34m]\u001b[0m\u001b[0;34m.\u001b[0m\u001b[0msum\u001b[0m\u001b[0;34m(\u001b[0m\u001b[0;34m)\u001b[0m\u001b[0;34m.\u001b[0m\u001b[0msort_values\u001b[0m\u001b[0;34m(\u001b[0m\u001b[0mascending\u001b[0m\u001b[0;34m=\u001b[0m\u001b[0;32mTrue\u001b[0m\u001b[0;34m)\u001b[0m\u001b[0;34m\u001b[0m\u001b[0;34m\u001b[0m\u001b[0m\n\u001b[0m\u001b[1;32m      3\u001b[0m \u001b[0meu_genre_sales\u001b[0m \u001b[0;34m=\u001b[0m \u001b[0mgames_filtered\u001b[0m\u001b[0;34m.\u001b[0m\u001b[0mgroupby\u001b[0m\u001b[0;34m(\u001b[0m\u001b[0;34m'genre'\u001b[0m\u001b[0;34m)\u001b[0m\u001b[0;34m[\u001b[0m\u001b[0;34m'eu_sales'\u001b[0m\u001b[0;34m]\u001b[0m\u001b[0;34m.\u001b[0m\u001b[0msum\u001b[0m\u001b[0;34m(\u001b[0m\u001b[0;34m)\u001b[0m\u001b[0;34m.\u001b[0m\u001b[0msort_values\u001b[0m\u001b[0;34m(\u001b[0m\u001b[0mascending\u001b[0m\u001b[0;34m=\u001b[0m\u001b[0;32mTrue\u001b[0m\u001b[0;34m)\u001b[0m\u001b[0;34m\u001b[0m\u001b[0;34m\u001b[0m\u001b[0m\n\u001b[1;32m      4\u001b[0m \u001b[0mjp_genre_sales\u001b[0m \u001b[0;34m=\u001b[0m \u001b[0mgames_filtered\u001b[0m\u001b[0;34m.\u001b[0m\u001b[0mgroupby\u001b[0m\u001b[0;34m(\u001b[0m\u001b[0;34m'genre'\u001b[0m\u001b[0;34m)\u001b[0m\u001b[0;34m[\u001b[0m\u001b[0;34m'jp_sales'\u001b[0m\u001b[0;34m]\u001b[0m\u001b[0;34m.\u001b[0m\u001b[0msum\u001b[0m\u001b[0;34m(\u001b[0m\u001b[0;34m)\u001b[0m\u001b[0;34m.\u001b[0m\u001b[0msort_values\u001b[0m\u001b[0;34m(\u001b[0m\u001b[0mascending\u001b[0m\u001b[0;34m=\u001b[0m\u001b[0;32mTrue\u001b[0m\u001b[0;34m)\u001b[0m\u001b[0;34m\u001b[0m\u001b[0;34m\u001b[0m\u001b[0m\n\u001b[1;32m      5\u001b[0m \u001b[0;34m\u001b[0m\u001b[0m\n",
      "\u001b[0;31mNameError\u001b[0m: name 'games_filtered' is not defined"
     ]
    }
   ],
   "source": [
    "# Группировка и агрегирование данных по жанрам для каждого региона\n",
    "na_genre_sales = games_filtered.groupby('genre')['na_sales'].sum().sort_values(ascending=True)\n",
    "eu_genre_sales = games_filtered.groupby('genre')['eu_sales'].sum().sort_values(ascending=True)\n",
    "jp_genre_sales = games_filtered.groupby('genre')['jp_sales'].sum().sort_values(ascending=True)\n",
    "\n",
    "# Выбор топ-5 жанров для каждого региона\n",
    "top5_genre_na = na_genre_sales.tail(5)\n",
    "top5_genre_eu = eu_genre_sales.tail(5)\n",
    "top5_genre_jp = jp_genre_sales.tail(5)\n",
    "\n",
    "# Вычисление общих продаж для каждого региона\n",
    "na_total_sales = games_filtered['na_sales'].sum()\n",
    "eu_total_sales = games_filtered['eu_sales'].sum()\n",
    "jp_total_sales = games_filtered['jp_sales'].sum()\n",
    "\n",
    "# Вычисление суммы продаж для топ-5 жанров\n",
    "sum_top5_genre_na = top5_genre_na.sum()\n",
    "sum_top5_genre_eu = top5_genre_eu.sum()\n",
    "sum_top5_genre_jp = top5_genre_jp.sum()\n",
    "\n",
    "# Вычисление продаж для категории \"другие\"\n",
    "other_genre_na = na_total_sales - sum_top5_genre_na\n",
    "other_genre_eu = eu_total_sales - sum_top5_genre_eu\n",
    "other_genre_jp = jp_total_sales - sum_top5_genre_jp\n",
    "\n",
    "# Создание DataFrame для каждого региона\n",
    "top5_genre_na_df = pd.DataFrame({'Sales': top5_genre_na})\n",
    "top5_genre_eu_df = pd.DataFrame({'Sales': top5_genre_eu})\n",
    "top5_genre_jp_df = pd.DataFrame({'Sales': top5_genre_jp})\n",
    "\n",
    "# Сортировка данных по убыванию для корректного отображения на графике\n",
    "top5_genre_na_sorted = top5_genre_na_df.sort_values(by='Sales', ascending=True)\n",
    "top5_genre_eu_sorted = top5_genre_eu_df.sort_values(by='Sales', ascending=True)\n",
    "top5_genre_jp_sorted = top5_genre_jp_df.sort_values(by='Sales', ascending=True)\n",
    "\n",
    "# Проверка наличия и добавление/обновление категории \"Другие\" в DataFrame для каждого региона\n",
    "for genre_df, other_sales in zip([top5_genre_na_sorted, top5_genre_eu_sorted, top5_genre_jp_sorted], \n",
    "                                 [other_genre_na, other_genre_eu, other_genre_jp]):\n",
    "    if 'Другие' in genre_df.index:\n",
    "        genre_df.loc['Другие'] += other_sales  # Обновление существующей строки\n",
    "    else:\n",
    "        genre_df.loc['Другие'] = other_sales  # Добавление новой строки, если \"Другие\" не существует\n",
    "\n",
    "# Сортировка DataFrame с учетом добавленной категории \"другие\"\n",
    "top5_genre_na_sorted = top5_genre_na_sorted.sort_values(by='Sales', ascending=True)\n",
    "top5_genre_eu_sorted = top5_genre_eu_sorted.sort_values(by='Sales', ascending=True)\n",
    "top5_genre_jp_sorted = top5_genre_jp_sorted.sort_values(by='Sales', ascending=True)\n",
    "\n",
    "# Увеличение размера фигуры\n",
    "fig, axes = plt.subplots(1, 3, figsize=(24, 8))  # Увеличенный размер фигуры для лучшей видимости\n",
    "\n",
    "# Настройка размеров шрифтов\n",
    "plt.rcParams.update({'font.size': 14})  # Настройка размера шрифта глобально\n",
    "\n",
    "# Определение палитры цветов для лучшего контраста\n",
    "colors = ['darkorange', 'seagreen', 'steelblue', 'mediumpurple', 'crimson', 'goldenrod']\n",
    "\n",
    "# Добавление сетки и установка пределов для лучшего понимания масштаба\n",
    "for ax in axes:\n",
    "    ax.grid(True, which='both', linestyle='--', linewidth=0.5, color='grey', axis='y', alpha=0.7)\n",
    "    ax.set_axisbelow(True)\n",
    "\n",
    "# Графики для каждого региона с сортированными данными\n",
    "axes[0].bar(top5_genre_na_sorted.index, top5_genre_na_sorted['Sales'], color=colors)\n",
    "axes[0].set_title('Северная Америка (NA) - Топ 5 Жанров', fontsize=16)\n",
    "axes[0].set_ylabel('Продажи (млн.)', fontsize=14)\n",
    "axes[0].tick_params(axis='x', rotation=45)\n",
    "\n",
    "axes[1].bar(top5_genre_eu_sorted.index, top5_genre_eu_sorted['Sales'], color=colors)\n",
    "axes[1].set_title('Европа (EU) - Топ 5 Жанров', fontsize=16)\n",
    "axes[1].set_ylabel('Продажи (млн.)', fontsize=14)\n",
    "axes[1].tick_params(axis='x', rotation=45)\n",
    "\n",
    "axes[2].bar(top5_genre_jp_sorted.index, top5_genre_jp_sorted['Sales'], color=colors)\n",
    "axes[2].set_title('Япония (JP) - Топ 5 Жанров', fontsize=16)\n",
    "axes[2].set_ylabel('Продажи (млн.)', fontsize=14)\n",
    "axes[2].tick_params(axis='x', rotation=45)\n",
    "\n",
    "# Настройка макета и отображение графиков\n",
    "plt.tight_layout()\n",
    "plt.subplots_adjust(top=0.9)\n",
    "fig.suptitle('Топ-5 жанров по регионам с 2014 по 2016 годы', fontsize=18)\n",
    "plt.show()"
   ]
  },
  {
   "cell_type": "markdown",
   "id": "d9b098bd85dee774",
   "metadata": {},
   "source": [
    "На предоставленном графике показаны топ-5 жанров видеоигр по продажам в трех различных регионах — Северной Америке (NA), Европе (EU) и Японии (JP) за период с 2014 по 2016 годы.\n",
    "\n",
    "Северная Америка (NA):\n",
    "Платформеры являются самым популярным жанром, с продажами чуть менее 7 миллионов единиц.\n",
    "За ними следуют приключенческие игры, с продажами около 4 миллионов единиц.\n",
    "Симуляторы и стратегии примерно на одном уровне, около 2-3 миллионов единиц.\n",
    "Пазлы наименее популярны, с продажами менее 1 миллиона единиц.\n",
    "\n",
    "Европа (EU):\n",
    "Платформеры также занимают первое место, с продажами более 6 миллионов единиц.\n",
    "Приключенческие игры на втором месте, с продажами около 6 миллионов единиц, что очень близко к платформерам.\n",
    "Стратегии и головоломки имеют значительно более низкие продажи, с показателями около 1 миллиона и менее 1 миллиона соответственно.\n",
    "Жанр Fighting (боевики) появляется только в Европе с продажами около 2 миллионов единиц.\n",
    "\n",
    "Япония (JP):\n",
    "Платформеры также ведущий жанр, но с гораздо меньшими общими продажами, чем в NA и EU, с показателем чуть более 2,5 миллиона единиц.\n",
    "Симуляторы и гонки (Racing) имеют примерно одинаковые продажи, около 1,5 миллиона единиц.\n",
    "Пазлы и стратегии находятся в нижней части списка, с продажами менее 1 миллиона единиц.\n",
    "\n",
    "Сравнение:\n",
    "Платформеры являются лидирующим жанром во всех трех регионах, хотя в Японии продажи этого жанра значительно ниже.\n",
    "Приключенческие игры популярны в Северной Америке и Европе, но не входят в топ-5 в Японии.\n",
    "Жанр Fighting популярен только в Европе.\n",
    "Стратегии и пазлы имеют наименьшие продажи во всех регионах, хотя стратегии более популярны в Северной Америке и Европе по сравнению с Японией.\n",
    "Гонки входят в топ-5 только в Японии.\n",
    "В целом, можно заметить, что предпочтения в жанрах игр различаются между западными странами и Японией."
   ]
  },
  {
   "cell_type": "markdown",
   "id": "5cf097228d693a0e",
   "metadata": {},
   "source": [
    "**4.3. Определите для пользователя каждого региона (NA, EU, JP): Влияет ли рейтинг ESRB на продажи в отдельном регионе?**"
   ]
  },
  {
   "cell_type": "code",
   "execution_count": 50,
   "id": "113010ab983bbe55",
   "metadata": {
    "ExecuteTime": {
     "start_time": "2024-01-26T16:43:03.979676Z"
    }
   },
   "outputs": [
    {
     "data": {
      "text/html": [
       "<div>\n",
       "<style scoped>\n",
       "    .dataframe tbody tr th:only-of-type {\n",
       "        vertical-align: middle;\n",
       "    }\n",
       "\n",
       "    .dataframe tbody tr th {\n",
       "        vertical-align: top;\n",
       "    }\n",
       "\n",
       "    .dataframe thead th {\n",
       "        text-align: right;\n",
       "    }\n",
       "</style>\n",
       "<table border=\"1\" class=\"dataframe\">\n",
       "  <thead>\n",
       "    <tr style=\"text-align: right;\">\n",
       "      <th></th>\n",
       "      <th>rating</th>\n",
       "      <th>na_sales</th>\n",
       "      <th>eu_sales</th>\n",
       "      <th>jp_sales</th>\n",
       "    </tr>\n",
       "  </thead>\n",
       "  <tbody>\n",
       "    <tr>\n",
       "      <th>0</th>\n",
       "      <td>E</td>\n",
       "      <td>50.74</td>\n",
       "      <td>58.06</td>\n",
       "      <td>8.94</td>\n",
       "    </tr>\n",
       "    <tr>\n",
       "      <th>1</th>\n",
       "      <td>E10+</td>\n",
       "      <td>33.23</td>\n",
       "      <td>26.16</td>\n",
       "      <td>4.46</td>\n",
       "    </tr>\n",
       "    <tr>\n",
       "      <th>2</th>\n",
       "      <td>M</td>\n",
       "      <td>96.42</td>\n",
       "      <td>93.44</td>\n",
       "      <td>8.01</td>\n",
       "    </tr>\n",
       "    <tr>\n",
       "      <th>3</th>\n",
       "      <td>T</td>\n",
       "      <td>38.95</td>\n",
       "      <td>34.07</td>\n",
       "      <td>14.78</td>\n",
       "    </tr>\n",
       "    <tr>\n",
       "      <th>4</th>\n",
       "      <td>Unknown</td>\n",
       "      <td>64.72</td>\n",
       "      <td>58.95</td>\n",
       "      <td>56.90</td>\n",
       "    </tr>\n",
       "  </tbody>\n",
       "</table>\n",
       "</div>"
      ],
      "text/plain": [
       "    rating  na_sales  eu_sales  jp_sales\n",
       "0        E     50.74     58.06      8.94\n",
       "1     E10+     33.23     26.16      4.46\n",
       "2        M     96.42     93.44      8.01\n",
       "3        T     38.95     34.07     14.78\n",
       "4  Unknown     64.72     58.95     56.90"
      ]
     },
     "metadata": {},
     "output_type": "display_data"
    },
    {
     "data": {
      "image/png": "[encoded data removed]",
      "text/plain": [
       "<Figure size 720x432 with 1 Axes>"
      ]
     },
     "metadata": {},
     "output_type": "display_data"
    }
   ],
   "source": [
    "# Агрегация продаж по рейтингу ESRB для каждого региона\n",
    "sales_by_rating = games_filtered.groupby('rating')[['na_sales', 'eu_sales', 'jp_sales']].sum().reset_index()\n",
    "\n",
    "# Отображение таблицы агрегированных продаж по рейтингу ESRB\n",
    "display(sales_by_rating)\n",
    "\n",
    "# Визуализация результатов\n",
    "plt.figure(figsize=(10, 6))\n",
    "\n",
    "# Настройка позиций столбцов\n",
    "bar_width = 0.25  # ширина каждого отдельного столбца\n",
    "positions_na = np.arange(len(sales_by_rating['rating']))  # позиции столбцов для Северной Америки\n",
    "positions_eu = [x + bar_width for x in positions_na]  # сдвигаем позиции для Европы\n",
    "positions_jp = [x + bar_width for x in positions_eu]  # сдвигаем позиции для Японии\n",
    "\n",
    "# Создание столбцов для каждого региона\n",
    "plt.bar(positions_na, sales_by_rating['na_sales'], \n",
    "        width=bar_width, \n",
    "        label='Продажи в Северной Америке', \n",
    "        color='b')\n",
    "plt.bar(positions_eu, sales_by_rating['eu_sales'], \n",
    "        width=bar_width, \n",
    "        label='Продажи в Европе', \n",
    "        color='r')\n",
    "plt.bar(positions_jp, sales_by_rating['jp_sales'], \n",
    "        width=bar_width, \n",
    "        label='Продажи в Японии', \n",
    "        color='g')\n",
    "\n",
    "# Установка заголовка и меток\n",
    "plt.title('Продажи игр по рейтингу ESRB в разных регионах')\n",
    "plt.xlabel('Рейтинг ESRB')\n",
    "plt.ylabel('Продажи (в миллионах)')\n",
    "plt.xticks([r + bar_width for r in positions_na], sales_by_rating['rating']) \n",
    "\n",
    "# Добавление легенды\n",
    "plt.legend()\n",
    "\n",
    "# Показываем график\n",
    "plt.show()"
   ]
  },
  {
   "cell_type": "markdown",
   "id": "b0b711d5f9af36fb",
   "metadata": {},
   "source": [
    "Из графика можно сделать следующие выводы:\n",
    "- Рейтинг E («Для всех»): Игры с таким рейтингом пользуются большой популярностью в Северной Америке и Европе, с продажами около 50 миллионов и чуть менее 50 миллионов соответственно. В Японии продажи игр с рейтингом E значительно ниже.\n",
    "- Рейтинг E10+ («Для всех старше 10 лет»): Во всех регионах виден значительный спад продаж по сравнению с рейтингом E. Северная Америка и Европа показывают примерно одинаковые продажи для этого рейтинга, в то время как в Японии продажи ещё ниже.\n",
    "- Рейтинг M («Для взрослых»): Игры с рейтингом M являются самыми продаваемыми в Северной Америке, достигая почти 100 миллионов продаж. Европа также показывает высокие продажи игр данного рейтинга, но они немного ниже, чем в Северной Америке. В Японии продажи игр с рейтингом M значительно ниже, чем в других регионах.\n",
    "- Рейтинг T («Для подростков»): Игры с этим рейтингом имеют схожий уровень продаж в Северной Америке и Европе, однако в Японии продажи намного меньше.\n",
    "\n",
    "Сравнительный анализ показывает, что:\n",
    "- Рейтинг M является самым популярным в Северной Америке и Европе, что может свидетельствовать о высоком спросе на игры для взрослой аудитории в этих регионах.\n",
    "- В Японии продажи игр с рейтингом E и T ниже, чем в Северной Америке и Европе, что может указывать на различия в культурных предпочтениях и вкусах.\n",
    "- Рейтинг E10+ не пользуется большой популярностью во всех регионах, что может быть связано с тем, что этот рейтинг занимает промежуточное положение между «для всех» и «для подростков», и игры с таким рейтингом могут не удовлетворять потребности конкретной аудитории."
   ]
  },
  {
   "cell_type": "markdown",
   "id": "9d078c56",
   "metadata": {},
   "source": [
    "В Японии существует своя система рейтингов для видеоигр — CERO (Computer Entertainment Rating Organization). Многие игры, выпущенные локально, могут быть оценены исключительно по этой системе, а не по ESRB, которая более характерна для американского рынка."
   ]
  },
  {
   "cell_type": "markdown",
   "id": "030cf195",
   "metadata": {},
   "source": [
    "**Промежуточный вывод:**\n",
    "\n",
    "Из анализа предпочтений по платформам, жанрам игр и рейтингам в разных регионах можно сделать следующие выводы:\n",
    "\n",
    "Платформы: PS4 доминирует в Северной Америке и Европе, тогда как в Японии предпочтение отдаётся портативным платформам, в частности 3DS. Это отражает географические особенности потребления игрового контента.\n",
    "\n",
    "Жанры: Платформеры популярны во всех регионах, но наибольшие продажи наблюдаются в Северной Америке и Европе. Приключенческие игры также востребованы в этих регионах, в отличие от Японии, где предпочтения склоняются к симуляторам и гонкам. Это указывает на различия в культурных предпочтениях и игровых традициях.\n",
    "\n",
    "Рейтинги: В Северной Америке и Европе игры с рейтингом M («Для взрослых») пользуются наибольшей популярностью, что свидетельствует о спросе на игры с более зрелым контентом. В Японии продажи игр с рейтингами E и T ниже, что может отражать особенности местного рынка и предпочтения аудитории."
   ]
  },
  {
   "cell_type": "raw",
   "id": "6fa88a430519ad40",
   "metadata": {},
   "source": [
    "# Шаг 5. Проверьте гипотезы"
   ]
  },
  {
   "cell_type": "markdown",
   "id": "6b4e31b3c3a56f50",
   "metadata": {},
   "source": [
    "Проверьте гипотезы:\n",
    "\n",
    "**5.1. Средние пользовательские рейтинги платформ Xbox One и PC одинаковые**\n",
    "\n",
    "- Задайте самостоятельно пороговое значение alpha - 0.05\n",
    "\n",
    "Поясните:\n",
    "- Как вы сформулировали нулевую и альтернативную гипотезы;\n",
    "- Какой критерий применили для проверки гипотез и почему."
   ]
  },
  {
   "cell_type": "markdown",
   "id": "eeebb59b1e98646b",
   "metadata": {},
   "source": [
    "Ответ: \n",
    "\n",
    "Прежде чем приступить к анализу данных, давайте сформулируем нулевую и альтернативную гипотезы, а также определим критерий, который мы будем использовать для проверки гипотез.\n",
    "\n",
    "**Формулировка гипотез**\n",
    "\n",
    "Нулевая гипотеза (H0): Средние пользовательские рейтинги платформ Xbox One и PC одинаковые. Нулевая гипотеза всегда формулируется таким образом, чтобы использовать знак равенства.\n",
    "Альтернативная гипотеза (H1): Средние пользовательские рейтинги платформ Xbox One и PC различаются. Это гипотеза, которую мы проверяем на предмет того, дает ли наше исследование достаточно оснований для отклонения нулевой гипотезы.\n",
    "\n",
    "**Выбор критерия для проверки гипотез**\n",
    "Для проверки гипотезы мы можем использовать t-критерий Стьюдента для независимых выборок, поскольку:\n",
    " - Мы сравниваем средние двух независимых групп (рейтинги игр на Xbox One и PC).\n",
    " - Мы предполагаем, что данные распределены нормально (это предположение потребуется проверить).\n",
    "\n",
    "**Пороговое значение alpha**\n",
    "Пороговое значение alpha установим равным 0.05, что является стандартным выбором для многих статистических тестов. Это означает, что мы принимаем 5% вероятность ошибки первого рода (отклонения нулевой гипотезы, когда она на самом деле верна)."
   ]
  },
  {
   "cell_type": "code",
   "execution_count": 51,
   "id": "927fec20be74bb3d",
   "metadata": {
    "ExecuteTime": {
     "start_time": "2024-01-26T16:43:03.981371Z"
    }
   },
   "outputs": [
    {
     "name": "stdout",
     "output_type": "stream",
     "text": [
      "Пропущенных значений в 'user_score' для Xbox One: 65\n"
     ]
    }
   ],
   "source": [
    "# Подсчет пропущенных значений в 'user_score' для Xbox One\n",
    "missing_data_xbox = games[games['platform'] == 'XOne']['user_score'].isnull().sum()\n",
    "print(\"Пропущенных значений в 'user_score' для Xbox One:\", missing_data_xbox)\n",
    "\n",
    "# Фильтрация данных для Xbox One и PC\n",
    "xbox = games[games['platform'] == 'XOne']['user_score'].dropna().tolist()  # Исключение NaN значений\n",
    "pc = games[games['platform'] == 'PC']['user_score'].dropna().tolist()  # Исключение NaN значений"
   ]
  },
  {
   "cell_type": "code",
   "execution_count": 52,
   "id": "fbc67947",
   "metadata": {},
   "outputs": [],
   "source": [
    "# Фильтрация данных для Xbox One\n",
    "xbox = games[(games['platform'] == 'XOne') & (games['year_of_release'] >= 2013) & (games['year_of_release'] <= 2016)]['user_score'].dropna().tolist()\n",
    "\n",
    "# Фильтрация данных для PC\n",
    "pc = games[(games['platform'] == 'PC') & (games['year_of_release'] >= 2013) & (games['year_of_release'] <= 2016)]['user_score'].dropna().tolist()"
   ]
  },
  {
   "cell_type": "code",
   "execution_count": 53,
   "id": "a73355caf0b14454",
   "metadata": {
    "ExecuteTime": {
     "start_time": "2024-01-26T16:43:03.983610Z"
    }
   },
   "outputs": [
    {
     "name": "stdout",
     "output_type": "stream",
     "text": [
      "p-значение: 0.14\n",
      "Не получилось отвергнуть нулевую гипотезу\n"
     ]
    }
   ],
   "source": [
    "# Критический уровень статистической значимости\n",
    "alpha = 0.05\n",
    "\n",
    "# Выполнение t-теста\n",
    "results = stats.ttest_ind(xbox, pc)\n",
    "print('p-значение:', round(results.pvalue, 2))\n",
    "\n",
    "# Проверка значимости результатов\n",
    "if results.pvalue < alpha:\n",
    "    print(\"Отвергаем нулевую гипотезу\")\n",
    "else:\n",
    "    print(\"Не получилось отвергнуть нулевую гипотезу\")"
   ]
  },
  {
   "cell_type": "markdown",
   "id": "348ff53002ef9bef",
   "metadata": {},
   "source": [
    "Вывод:\n",
    "\n",
    "Исходя из полученного p-значения (0.14), мы не имеем оснований отвергнуть нулевую гипотезу H0 о том, что средние пользовательские рейтинги платформ Xbox One и PC одинаковые. "
   ]
  },
  {
   "cell_type": "markdown",
   "id": "69f15e8b2f667753",
   "metadata": {},
   "source": [
    "Проверьте гипотезы:\n",
    "\n",
    "**5.2. Средние пользовательские рейтинги жанров Action (англ. «действие», экшен-игры) и Sports (англ. «спортивные соревнования») разные**\n",
    "\n",
    "- Задайте самостоятельно пороговое значение alpha - 0.05\n",
    "\n",
    "Поясните:\n",
    "- Как вы сформулировали нулевую и альтернативную гипотезы;\n",
    "- Какой критерий применили для проверки гипотез и почему.\n"
   ]
  },
  {
   "cell_type": "markdown",
   "id": "8e3721695cce105b",
   "metadata": {},
   "source": [
    "Ответ:\n",
    "\n",
    "Для проверки гипотезы о средних пользовательских рейтингах жанров Action и Sports, сформулируем нулевую и альтернативную гипотезы, а затем определим, какой статистический критерий лучше всего подходит для этой задачи.\n",
    "\n",
    "**Формулировка гипотез**\n",
    "\n",
    "Нулевая гипотеза (H0): Средние пользовательские рейтинги жанров Action и Sports одинаковы. Нулевая гипотеза обычно формулируется таким образом, чтобы отражать отсутствие различий или изменений, то есть используется знак равенства.\n",
    "Альтернативная гипотеза (H1): Средние пользовательские рейтинги жанров Action и Sports различаются. Альтернативная гипотеза предполагает наличие различий между группами.\n",
    "\n",
    "**Выбор критерия для проверки гипотез**\n",
    "Для проверки этой гипотезы мы можем использовать t-тест Стьюдента для независимых выборок, если выполняются следующие условия:\n",
    "- Нормальность распределения: Данные в каждой группе должны быть приблизительно нормально распределены. Это условие особенно важно для небольших выборок.\n",
    "- Гомогенность дисперсий: Дисперсии в группах должны быть примерно равны.\n",
    "\n",
    "**Установка уровня значимости alpha**\n",
    "Мы установим пороговое значение alpha равным 0.05, что является стандартным выбором для проверки статистической значимости."
   ]
  },
  {
   "cell_type": "code",
   "execution_count": 54,
   "id": "ed69228963690107",
   "metadata": {
    "ExecuteTime": {
     "start_time": "2024-01-26T16:43:03.985418Z"
    }
   },
   "outputs": [
    {
     "name": "stdout",
     "output_type": "stream",
     "text": [
      "Пропущенных значений в 'user_score' для жанра Action: 1511\n",
      "Пропущенных значений в 'user_score' для жанра Sports: 1225\n"
     ]
    }
   ],
   "source": [
    "# Подсчет пропущенных значений в 'user_score' для жанра Action\n",
    "missing_data_action = games[games['genre'] == 'Action']['user_score'].isnull().sum()\n",
    "print(\"Пропущенных значений в 'user_score' для жанра Action:\", missing_data_action)\n",
    "\n",
    "# Подсчет пропущенных значений в 'user_score' для жанра Sports\n",
    "missing_data_sports = games[games['genre'] == 'Sports']['user_score'].isnull().sum()\n",
    "print(\"Пропущенных значений в 'user_score' для жанра Sports:\", missing_data_sports)\n",
    "\n",
    "# Фильтрация данных для жанров Action и Sports\n",
    "action_scores = games[games['genre'] == 'Action']['user_score'].dropna().tolist()  # Исключение NaN значений\n",
    "sports_scores = games[games['genre'] == 'Sports']['user_score'].dropna().tolist()  # Исключение NaN значений"
   ]
  },
  {
   "cell_type": "code",
   "execution_count": 55,
   "id": "ce138dab23061f5a",
   "metadata": {
    "ExecuteTime": {
     "start_time": "2024-01-26T16:43:03.987194Z"
    }
   },
   "outputs": [
    {
     "name": "stdout",
     "output_type": "stream",
     "text": [
      "p-значение: 0.07\n",
      "Не получилось отвергнуть нулевую гипотезу\n"
     ]
    }
   ],
   "source": [
    "# Критический уровень статистической значимости\n",
    "alpha = 0.05\n",
    "\n",
    "# Выполнение t-теста\n",
    "results = stats.ttest_ind(action_scores, sports_scores)\n",
    "print('p-значение:', round(results.pvalue, 2))\n",
    "\n",
    "# Проверка значимости результатов\n",
    "if results.pvalue < alpha:\n",
    "    print(\"Отвергаем нулевую гипотезу\")\n",
    "else:\n",
    "    print(\"Не получилось отвергнуть нулевую гипотезу\")\n"
   ]
  },
  {
   "cell_type": "markdown",
   "id": "1d3eb5e6b891f55d",
   "metadata": {},
   "source": [
    "Вывод:\n",
    "Исходя из полученного p-значения (0.07), мы не можем отвергнуть нулевую гипотезу (H0), которая утверждает, что средние пользовательские рейтинги жанров Action и Sports одинаковы. "
   ]
  },
  {
   "cell_type": "markdown",
   "id": "c3bbf1e4",
   "metadata": {},
   "source": [
    "**Промежуточный Вывод:**\n",
    "\n",
    "Исходя из проведенных статистических тестов и полученных p-значений (0.14 для сравнения платформ Xbox One и PC и 0.07 для сравнения жанров Action и Sports), мы не обнаружили статистически значимых различий и, следовательно, не имеем оснований отвергнуть нулевые гипотезы (H0). Это указывает на то, что средние пользовательские рейтинги как для платформ (Xbox One и PC), так и для жанров (Action и Sports) не имеют значимых отличий."
   ]
  },
  {
   "cell_type": "markdown",
   "id": "53f9f01b",
   "metadata": {},
   "source": [
    "### check"
   ]
  },
  {
   "cell_type": "markdown",
   "id": "90dc5596d242370c",
   "metadata": {},
   "source": [
    "# Общий Вывод"
   ]
  },
  {
   "cell_type": "markdown",
   "id": "a7e1c50a306f742c",
   "metadata": {},
   "source": [
    "1. **Жизненный цикл игровых платформ**:\n",
    "- Игровые платформы имеют жизненный цикл около 10 лет. Это означает, что индустрия постоянно развивается, и игровые компании должны адаптироваться к этим изменениям, предлагая новые модели и технологии.\n",
    "\n",
    "2. **Перспективные платформы и анализ рынка**:\n",
    "- Период с 2014 по 2016 год был ключевым для понимания текущих тенденций и прогнозирования будущего рынка. PS4, Xbox One, 3DS и PC выделяются как наиболее перспективные платформы.\n",
    "\n",
    "3. **Взаимосвязь отзывов и продаж**:\n",
    "- Существует умеренная и положительная корреляция между отзывами критиков и продажами игр, в то время как связь между отзывами пользователей и продажами является слабой. Это указывает на то, что мнение критиков может иметь большее влияние на успешность игры, чем мнение пользователей.\n",
    "\n",
    "4. **Динамика жанров**:\n",
    "- Жанр \"Action\" лидирует по количеству выпущенных игр и общим продажам, но характеризуется значительной вариативностью успеха отдельных игр.\n",
    "- Жанр \"Shooter\" примечателен высокими медианными продажами и вариативностью в успехе игр, что делает его потенциально прибыльным, но также сопряженным с рисками.\n",
    "- Жанры с меньшей популярностью, такие как \"Puzzle\" и \"Adventure\", представляют меньший риск в плане вариативности продаж, но и имеют меньший потенциал для высоких продаж.\n",
    "\n",
    "5. **Предпочтения по платформам и жанрам в разных регионах**:\n",
    "- PS4 доминирует в Северной Америке и Европе, в то время как в Японии предпочтение отдаётся портативным платформам, особенно 3DS.\n",
    "- Жанры платформеров популярны во всех регионах, особенно в Северной Америке и Европе. В Японии отдают предпочтение симуляторам и гонкам.\n",
    "\n",
    "6. **Рейтинги игр и региональные предпочтения**:\n",
    "- В Северной Америке и Европе наибольшей популярностью пользуются игры с рейтингом M («Для взрослых»), что указывает на спрос на игры с более зрелым контентом.\n",
    "- В Японии продажи игр с рейтингами E и T ниже, что может отражать особенности местного рынка и предпочтения аудитории.\n",
    "\n",
    "7. **Статистический анализ рейтингов**:\n",
    "\n",
    "Исходя из проведенных статистических тестов и полученных p-значений (0.14 для сравнения платформ Xbox One и PC и 0.07 для сравнения жанров Action и Sports), мы не обнаружили статистически значимых различий и, следовательно, не имеем оснований отвергнуть нулевые гипотезы (H0). Это указывает на то, что средние пользовательские рейтинги как для платформ (Xbox One и PC), так и для жанров (Action и Sports) не имеют значимых отличий."
   ]
  },
  {
   "cell_type": "code",
   "execution_count": null,
   "id": "f03b4cd5",
   "metadata": {},
   "outputs": [],
   "source": []
  }
 ],
 "metadata": {
  "ExecuteTimeLog": [
   {
    "duration": 1139,
    "start_time": "2024-01-26T17:10:56.500Z"
   },
   {
    "duration": 113,
    "start_time": "2024-01-26T17:10:57.641Z"
   },
   {
    "duration": 0,
    "start_time": "2024-01-26T17:10:57.759Z"
   },
   {
    "duration": 0,
    "start_time": "2024-01-26T17:10:57.760Z"
   },
   {
    "duration": 0,
    "start_time": "2024-01-26T17:10:57.761Z"
   },
   {
    "duration": 0,
    "start_time": "2024-01-26T17:10:57.762Z"
   },
   {
    "duration": 0,
    "start_time": "2024-01-26T17:10:57.763Z"
   },
   {
    "duration": 0,
    "start_time": "2024-01-26T17:10:57.764Z"
   },
   {
    "duration": 0,
    "start_time": "2024-01-26T17:10:57.765Z"
   },
   {
    "duration": 0,
    "start_time": "2024-01-26T17:10:57.766Z"
   },
   {
    "duration": 0,
    "start_time": "2024-01-26T17:10:57.782Z"
   },
   {
    "duration": 0,
    "start_time": "2024-01-26T17:10:57.783Z"
   },
   {
    "duration": 0,
    "start_time": "2024-01-26T17:10:57.784Z"
   },
   {
    "duration": 0,
    "start_time": "2024-01-26T17:10:57.786Z"
   },
   {
    "duration": 0,
    "start_time": "2024-01-26T17:10:57.787Z"
   },
   {
    "duration": 0,
    "start_time": "2024-01-26T17:10:57.788Z"
   },
   {
    "duration": 0,
    "start_time": "2024-01-26T17:10:57.789Z"
   },
   {
    "duration": 0,
    "start_time": "2024-01-26T17:10:57.790Z"
   },
   {
    "duration": 0,
    "start_time": "2024-01-26T17:10:57.791Z"
   },
   {
    "duration": 0,
    "start_time": "2024-01-26T17:10:57.792Z"
   },
   {
    "duration": 0,
    "start_time": "2024-01-26T17:10:57.793Z"
   },
   {
    "duration": 0,
    "start_time": "2024-01-26T17:10:57.794Z"
   },
   {
    "duration": 0,
    "start_time": "2024-01-26T17:10:57.796Z"
   },
   {
    "duration": 0,
    "start_time": "2024-01-26T17:10:57.797Z"
   },
   {
    "duration": 0,
    "start_time": "2024-01-26T17:10:57.798Z"
   },
   {
    "duration": 0,
    "start_time": "2024-01-26T17:10:57.799Z"
   },
   {
    "duration": 0,
    "start_time": "2024-01-26T17:10:57.800Z"
   },
   {
    "duration": 0,
    "start_time": "2024-01-26T17:10:57.801Z"
   },
   {
    "duration": 0,
    "start_time": "2024-01-26T17:10:57.802Z"
   },
   {
    "duration": 0,
    "start_time": "2024-01-26T17:10:57.803Z"
   },
   {
    "duration": 0,
    "start_time": "2024-01-26T17:10:57.804Z"
   },
   {
    "duration": 0,
    "start_time": "2024-01-26T17:10:57.805Z"
   },
   {
    "duration": 0,
    "start_time": "2024-01-26T17:10:57.806Z"
   },
   {
    "duration": 0,
    "start_time": "2024-01-26T17:10:57.807Z"
   },
   {
    "duration": 0,
    "start_time": "2024-01-26T17:10:57.808Z"
   },
   {
    "duration": 0,
    "start_time": "2024-01-26T17:10:57.809Z"
   },
   {
    "duration": 0,
    "start_time": "2024-01-26T17:10:57.811Z"
   },
   {
    "duration": 0,
    "start_time": "2024-01-26T17:10:57.812Z"
   },
   {
    "duration": 0,
    "start_time": "2024-01-26T17:10:57.813Z"
   },
   {
    "duration": 0,
    "start_time": "2024-01-26T17:10:57.814Z"
   },
   {
    "duration": 0,
    "start_time": "2024-01-26T17:10:57.815Z"
   },
   {
    "duration": 0,
    "start_time": "2024-01-26T17:10:57.816Z"
   },
   {
    "duration": 0,
    "start_time": "2024-01-26T17:10:57.817Z"
   },
   {
    "duration": 0,
    "start_time": "2024-01-26T17:10:57.818Z"
   },
   {
    "duration": 0,
    "start_time": "2024-01-26T17:10:57.819Z"
   },
   {
    "duration": 0,
    "start_time": "2024-01-26T17:10:57.882Z"
   },
   {
    "duration": 1258,
    "start_time": "2024-01-26T17:23:24.857Z"
   },
   {
    "duration": 106,
    "start_time": "2024-01-26T17:23:26.117Z"
   },
   {
    "duration": 0,
    "start_time": "2024-01-26T17:23:26.227Z"
   },
   {
    "duration": 0,
    "start_time": "2024-01-26T17:23:26.228Z"
   },
   {
    "duration": 0,
    "start_time": "2024-01-26T17:23:26.230Z"
   },
   {
    "duration": 0,
    "start_time": "2024-01-26T17:23:26.231Z"
   },
   {
    "duration": 0,
    "start_time": "2024-01-26T17:23:26.233Z"
   },
   {
    "duration": 0,
    "start_time": "2024-01-26T17:23:26.234Z"
   },
   {
    "duration": 0,
    "start_time": "2024-01-26T17:23:26.236Z"
   },
   {
    "duration": 0,
    "start_time": "2024-01-26T17:23:26.237Z"
   },
   {
    "duration": 0,
    "start_time": "2024-01-26T17:23:26.238Z"
   },
   {
    "duration": 0,
    "start_time": "2024-01-26T17:23:26.240Z"
   },
   {
    "duration": 0,
    "start_time": "2024-01-26T17:23:26.241Z"
   },
   {
    "duration": 0,
    "start_time": "2024-01-26T17:23:26.243Z"
   },
   {
    "duration": 0,
    "start_time": "2024-01-26T17:23:26.244Z"
   },
   {
    "duration": 0,
    "start_time": "2024-01-26T17:23:26.246Z"
   },
   {
    "duration": 0,
    "start_time": "2024-01-26T17:23:26.247Z"
   },
   {
    "duration": 0,
    "start_time": "2024-01-26T17:23:26.248Z"
   },
   {
    "duration": 0,
    "start_time": "2024-01-26T17:23:26.249Z"
   },
   {
    "duration": 0,
    "start_time": "2024-01-26T17:23:26.250Z"
   },
   {
    "duration": 0,
    "start_time": "2024-01-26T17:23:26.251Z"
   },
   {
    "duration": 0,
    "start_time": "2024-01-26T17:23:26.283Z"
   },
   {
    "duration": 0,
    "start_time": "2024-01-26T17:23:26.285Z"
   },
   {
    "duration": 0,
    "start_time": "2024-01-26T17:23:26.286Z"
   },
   {
    "duration": 0,
    "start_time": "2024-01-26T17:23:26.287Z"
   },
   {
    "duration": 0,
    "start_time": "2024-01-26T17:23:26.289Z"
   },
   {
    "duration": 0,
    "start_time": "2024-01-26T17:23:26.290Z"
   },
   {
    "duration": 0,
    "start_time": "2024-01-26T17:23:26.291Z"
   },
   {
    "duration": 0,
    "start_time": "2024-01-26T17:23:26.292Z"
   },
   {
    "duration": 0,
    "start_time": "2024-01-26T17:23:26.294Z"
   },
   {
    "duration": 0,
    "start_time": "2024-01-26T17:23:26.294Z"
   },
   {
    "duration": 0,
    "start_time": "2024-01-26T17:23:26.295Z"
   },
   {
    "duration": 0,
    "start_time": "2024-01-26T17:23:26.296Z"
   },
   {
    "duration": 0,
    "start_time": "2024-01-26T17:23:26.297Z"
   },
   {
    "duration": 0,
    "start_time": "2024-01-26T17:23:26.298Z"
   },
   {
    "duration": 0,
    "start_time": "2024-01-26T17:23:26.299Z"
   },
   {
    "duration": 0,
    "start_time": "2024-01-26T17:23:26.300Z"
   },
   {
    "duration": 0,
    "start_time": "2024-01-26T17:23:26.301Z"
   },
   {
    "duration": 0,
    "start_time": "2024-01-26T17:23:26.302Z"
   },
   {
    "duration": 0,
    "start_time": "2024-01-26T17:23:26.304Z"
   },
   {
    "duration": 0,
    "start_time": "2024-01-26T17:23:26.305Z"
   },
   {
    "duration": 0,
    "start_time": "2024-01-26T17:23:26.305Z"
   },
   {
    "duration": 0,
    "start_time": "2024-01-26T17:23:26.307Z"
   },
   {
    "duration": 0,
    "start_time": "2024-01-26T17:23:26.308Z"
   },
   {
    "duration": 0,
    "start_time": "2024-01-26T17:23:26.309Z"
   },
   {
    "duration": 0,
    "start_time": "2024-01-26T17:23:26.309Z"
   },
   {
    "duration": 91,
    "start_time": "2024-01-26T18:17:05.404Z"
   },
   {
    "duration": 66,
    "start_time": "2024-01-26T18:17:17.836Z"
   },
   {
    "duration": 414,
    "start_time": "2024-01-26T18:23:11.446Z"
   },
   {
    "duration": 756,
    "start_time": "2024-01-26T18:23:30.644Z"
   },
   {
    "duration": 54,
    "start_time": "2024-01-26T18:23:48.472Z"
   },
   {
    "duration": 53,
    "start_time": "2024-01-26T18:24:47.910Z"
   },
   {
    "duration": 2,
    "start_time": "2024-01-26T18:24:48.832Z"
   },
   {
    "duration": 51,
    "start_time": "2024-01-26T18:27:12.526Z"
   },
   {
    "duration": 116,
    "start_time": "2024-01-26T18:27:24.975Z"
   },
   {
    "duration": 452,
    "start_time": "2024-01-26T18:27:30.417Z"
   },
   {
    "duration": 740,
    "start_time": "2024-01-26T18:27:30.871Z"
   },
   {
    "duration": 106,
    "start_time": "2024-01-26T18:27:31.613Z"
   },
   {
    "duration": 0,
    "start_time": "2024-01-26T18:27:31.722Z"
   },
   {
    "duration": 0,
    "start_time": "2024-01-26T18:27:31.723Z"
   },
   {
    "duration": 0,
    "start_time": "2024-01-26T18:27:31.724Z"
   },
   {
    "duration": 0,
    "start_time": "2024-01-26T18:27:31.725Z"
   },
   {
    "duration": 0,
    "start_time": "2024-01-26T18:27:31.726Z"
   },
   {
    "duration": 0,
    "start_time": "2024-01-26T18:27:31.727Z"
   },
   {
    "duration": 0,
    "start_time": "2024-01-26T18:27:31.728Z"
   },
   {
    "duration": 0,
    "start_time": "2024-01-26T18:27:31.729Z"
   },
   {
    "duration": 0,
    "start_time": "2024-01-26T18:27:31.730Z"
   },
   {
    "duration": 0,
    "start_time": "2024-01-26T18:27:31.731Z"
   },
   {
    "duration": 0,
    "start_time": "2024-01-26T18:27:31.732Z"
   },
   {
    "duration": 0,
    "start_time": "2024-01-26T18:27:31.733Z"
   },
   {
    "duration": 0,
    "start_time": "2024-01-26T18:27:31.734Z"
   },
   {
    "duration": 0,
    "start_time": "2024-01-26T18:27:31.735Z"
   },
   {
    "duration": 0,
    "start_time": "2024-01-26T18:27:31.736Z"
   },
   {
    "duration": 0,
    "start_time": "2024-01-26T18:27:31.737Z"
   },
   {
    "duration": 0,
    "start_time": "2024-01-26T18:27:31.738Z"
   },
   {
    "duration": 0,
    "start_time": "2024-01-26T18:27:31.739Z"
   },
   {
    "duration": 0,
    "start_time": "2024-01-26T18:27:31.740Z"
   },
   {
    "duration": 0,
    "start_time": "2024-01-26T18:27:31.741Z"
   },
   {
    "duration": 0,
    "start_time": "2024-01-26T18:27:31.742Z"
   },
   {
    "duration": 0,
    "start_time": "2024-01-26T18:27:31.743Z"
   },
   {
    "duration": 0,
    "start_time": "2024-01-26T18:27:31.744Z"
   },
   {
    "duration": 0,
    "start_time": "2024-01-26T18:27:31.745Z"
   },
   {
    "duration": 0,
    "start_time": "2024-01-26T18:27:31.746Z"
   },
   {
    "duration": 0,
    "start_time": "2024-01-26T18:27:31.747Z"
   },
   {
    "duration": 0,
    "start_time": "2024-01-26T18:27:31.748Z"
   },
   {
    "duration": 0,
    "start_time": "2024-01-26T18:27:31.794Z"
   },
   {
    "duration": 0,
    "start_time": "2024-01-26T18:27:31.795Z"
   },
   {
    "duration": 0,
    "start_time": "2024-01-26T18:27:31.796Z"
   },
   {
    "duration": 0,
    "start_time": "2024-01-26T18:27:31.797Z"
   },
   {
    "duration": 0,
    "start_time": "2024-01-26T18:27:31.798Z"
   },
   {
    "duration": 0,
    "start_time": "2024-01-26T18:27:31.799Z"
   },
   {
    "duration": 0,
    "start_time": "2024-01-26T18:27:31.800Z"
   },
   {
    "duration": 0,
    "start_time": "2024-01-26T18:27:31.801Z"
   },
   {
    "duration": 0,
    "start_time": "2024-01-26T18:27:31.802Z"
   },
   {
    "duration": 0,
    "start_time": "2024-01-26T18:27:31.803Z"
   },
   {
    "duration": 0,
    "start_time": "2024-01-26T18:27:31.803Z"
   },
   {
    "duration": 0,
    "start_time": "2024-01-26T18:27:31.804Z"
   },
   {
    "duration": 0,
    "start_time": "2024-01-26T18:27:31.805Z"
   },
   {
    "duration": 0,
    "start_time": "2024-01-26T18:27:31.806Z"
   },
   {
    "duration": 0,
    "start_time": "2024-01-26T18:27:31.807Z"
   },
   {
    "duration": 0,
    "start_time": "2024-01-26T18:27:31.808Z"
   },
   {
    "duration": 0,
    "start_time": "2024-01-26T18:27:31.809Z"
   },
   {
    "duration": 55,
    "start_time": "2024-01-26T18:27:58.571Z"
   },
   {
    "duration": 419,
    "start_time": "2024-01-26T18:28:13.332Z"
   },
   {
    "duration": 747,
    "start_time": "2024-01-26T18:28:13.753Z"
   },
   {
    "duration": 33,
    "start_time": "2024-01-26T18:28:14.501Z"
   },
   {
    "duration": 14,
    "start_time": "2024-01-26T18:28:14.536Z"
   },
   {
    "duration": 28,
    "start_time": "2024-01-26T18:28:14.552Z"
   },
   {
    "duration": 65,
    "start_time": "2024-01-26T18:28:14.581Z"
   },
   {
    "duration": 22,
    "start_time": "2024-01-26T18:28:14.648Z"
   },
   {
    "duration": 15,
    "start_time": "2024-01-26T18:28:14.671Z"
   },
   {
    "duration": 5,
    "start_time": "2024-01-26T18:28:14.688Z"
   },
   {
    "duration": 13,
    "start_time": "2024-01-26T18:28:14.694Z"
   },
   {
    "duration": 17,
    "start_time": "2024-01-26T18:28:14.709Z"
   },
   {
    "duration": 13,
    "start_time": "2024-01-26T18:28:14.728Z"
   },
   {
    "duration": 5,
    "start_time": "2024-01-26T18:28:14.743Z"
   },
   {
    "duration": 13,
    "start_time": "2024-01-26T18:28:14.751Z"
   },
   {
    "duration": 7,
    "start_time": "2024-01-26T18:28:14.766Z"
   },
   {
    "duration": 7,
    "start_time": "2024-01-26T18:28:14.774Z"
   },
   {
    "duration": 22,
    "start_time": "2024-01-26T18:28:14.783Z"
   },
   {
    "duration": 12,
    "start_time": "2024-01-26T18:28:14.807Z"
   },
   {
    "duration": 7,
    "start_time": "2024-01-26T18:28:14.820Z"
   },
   {
    "duration": 8,
    "start_time": "2024-01-26T18:28:14.828Z"
   },
   {
    "duration": 5,
    "start_time": "2024-01-26T18:28:14.837Z"
   },
   {
    "duration": 6,
    "start_time": "2024-01-26T18:28:14.843Z"
   },
   {
    "duration": 203,
    "start_time": "2024-01-26T18:28:14.850Z"
   },
   {
    "duration": 11,
    "start_time": "2024-01-26T18:28:15.054Z"
   },
   {
    "duration": 341,
    "start_time": "2024-01-26T18:28:15.067Z"
   },
   {
    "duration": 3,
    "start_time": "2024-01-26T18:28:15.410Z"
   },
   {
    "duration": 188,
    "start_time": "2024-01-26T18:28:15.415Z"
   },
   {
    "duration": 33,
    "start_time": "2024-01-26T18:28:15.604Z"
   },
   {
    "duration": 980,
    "start_time": "2024-01-26T18:28:15.639Z"
   },
   {
    "duration": 526,
    "start_time": "2024-01-26T18:28:16.620Z"
   },
   {
    "duration": 9,
    "start_time": "2024-01-26T18:28:17.149Z"
   },
   {
    "duration": 911,
    "start_time": "2024-01-26T18:28:17.159Z"
   },
   {
    "duration": 22,
    "start_time": "2024-01-26T18:28:18.072Z"
   },
   {
    "duration": 21,
    "start_time": "2024-01-26T18:28:18.095Z"
   },
   {
    "duration": 194,
    "start_time": "2024-01-26T18:28:18.117Z"
   },
   {
    "duration": 5,
    "start_time": "2024-01-26T18:28:18.312Z"
   },
   {
    "duration": 208,
    "start_time": "2024-01-26T18:28:18.318Z"
   },
   {
    "duration": 29,
    "start_time": "2024-01-26T18:28:18.527Z"
   },
   {
    "duration": 613,
    "start_time": "2024-01-26T18:28:18.558Z"
   },
   {
    "duration": 32,
    "start_time": "2024-01-26T18:28:19.173Z"
   },
   {
    "duration": 544,
    "start_time": "2024-01-26T18:28:19.208Z"
   },
   {
    "duration": 15,
    "start_time": "2024-01-26T18:28:19.754Z"
   },
   {
    "duration": 336,
    "start_time": "2024-01-26T18:28:19.770Z"
   },
   {
    "duration": 11,
    "start_time": "2024-01-26T18:28:20.107Z"
   },
   {
    "duration": 23,
    "start_time": "2024-01-26T18:28:20.120Z"
   },
   {
    "duration": 15,
    "start_time": "2024-01-26T18:28:20.144Z"
   },
   {
    "duration": 5,
    "start_time": "2024-01-26T18:28:20.161Z"
   },
   {
    "duration": 13,
    "start_time": "2024-01-26T18:34:09.876Z"
   },
   {
    "duration": 34,
    "start_time": "2024-01-26T18:36:03.914Z"
   },
   {
    "duration": 535,
    "start_time": "2024-01-26T18:37:16.381Z"
   },
   {
    "duration": 31,
    "start_time": "2024-01-26T18:41:10.949Z"
   },
   {
    "duration": 11,
    "start_time": "2024-01-26T18:43:47.718Z"
   },
   {
    "duration": 500,
    "start_time": "2024-01-26T18:47:03.369Z"
   },
   {
    "duration": 8,
    "start_time": "2024-01-26T18:48:16.314Z"
   },
   {
    "duration": 912,
    "start_time": "2024-01-26T18:48:34.427Z"
   },
   {
    "duration": 6,
    "start_time": "2024-01-26T18:49:10.818Z"
   },
   {
    "duration": 370,
    "start_time": "2024-01-26T18:51:27.280Z"
   },
   {
    "duration": 312,
    "start_time": "2024-01-26T18:51:28.062Z"
   },
   {
    "duration": 100,
    "start_time": "2024-01-26T19:16:20.576Z"
   },
   {
    "duration": 10,
    "start_time": "2024-01-26T21:47:08.750Z"
   },
   {
    "duration": 57,
    "start_time": "2024-01-26T21:47:10.792Z"
   },
   {
    "duration": 24,
    "start_time": "2024-01-26T21:47:11.092Z"
   },
   {
    "duration": 21,
    "start_time": "2024-01-26T21:47:20.782Z"
   },
   {
    "duration": 17,
    "start_time": "2024-01-26T21:50:14.084Z"
   },
   {
    "duration": 452,
    "start_time": "2024-01-26T21:50:19.149Z"
   },
   {
    "duration": 13,
    "start_time": "2024-01-26T21:50:19.604Z"
   },
   {
    "duration": 792,
    "start_time": "2024-01-26T21:50:19.619Z"
   },
   {
    "duration": 34,
    "start_time": "2024-01-26T21:50:20.413Z"
   },
   {
    "duration": 13,
    "start_time": "2024-01-26T21:50:20.448Z"
   },
   {
    "duration": 38,
    "start_time": "2024-01-26T21:50:20.463Z"
   },
   {
    "duration": 2,
    "start_time": "2024-01-26T21:50:20.503Z"
   },
   {
    "duration": 21,
    "start_time": "2024-01-26T21:50:20.507Z"
   },
   {
    "duration": 12,
    "start_time": "2024-01-26T21:50:20.529Z"
   },
   {
    "duration": 5,
    "start_time": "2024-01-26T21:50:20.543Z"
   },
   {
    "duration": 13,
    "start_time": "2024-01-26T21:50:20.549Z"
   },
   {
    "duration": 6,
    "start_time": "2024-01-26T21:50:20.563Z"
   },
   {
    "duration": 18,
    "start_time": "2024-01-26T21:50:20.570Z"
   },
   {
    "duration": 9,
    "start_time": "2024-01-26T21:50:20.590Z"
   },
   {
    "duration": 21,
    "start_time": "2024-01-26T21:50:20.600Z"
   },
   {
    "duration": 2,
    "start_time": "2024-01-26T21:50:20.623Z"
   },
   {
    "duration": 10,
    "start_time": "2024-01-26T21:50:20.626Z"
   },
   {
    "duration": 6,
    "start_time": "2024-01-26T21:50:20.638Z"
   },
   {
    "duration": 5,
    "start_time": "2024-01-26T21:50:20.646Z"
   },
   {
    "duration": 18,
    "start_time": "2024-01-26T21:50:20.653Z"
   },
   {
    "duration": 11,
    "start_time": "2024-01-26T21:50:20.672Z"
   },
   {
    "duration": 8,
    "start_time": "2024-01-26T21:50:20.687Z"
   },
   {
    "duration": 10,
    "start_time": "2024-01-26T21:50:20.697Z"
   },
   {
    "duration": 188,
    "start_time": "2024-01-26T21:50:20.708Z"
   },
   {
    "duration": 12,
    "start_time": "2024-01-26T21:50:20.897Z"
   },
   {
    "duration": 372,
    "start_time": "2024-01-26T21:50:20.910Z"
   },
   {
    "duration": 3,
    "start_time": "2024-01-26T21:50:21.285Z"
   },
   {
    "duration": 192,
    "start_time": "2024-01-26T21:50:21.294Z"
   },
   {
    "duration": 33,
    "start_time": "2024-01-26T21:50:21.488Z"
   },
   {
    "duration": 444,
    "start_time": "2024-01-26T21:50:21.522Z"
   },
   {
    "duration": 759,
    "start_time": "2024-01-26T21:50:21.968Z"
   },
   {
    "duration": 528,
    "start_time": "2024-01-26T21:50:22.728Z"
   },
   {
    "duration": 9,
    "start_time": "2024-01-26T21:50:23.258Z"
   },
   {
    "duration": 1009,
    "start_time": "2024-01-26T21:50:23.268Z"
   },
   {
    "duration": 14,
    "start_time": "2024-01-26T21:50:24.279Z"
   },
   {
    "duration": 7,
    "start_time": "2024-01-26T21:50:24.296Z"
   },
   {
    "duration": 226,
    "start_time": "2024-01-26T21:50:24.304Z"
   },
   {
    "duration": 5,
    "start_time": "2024-01-26T21:50:24.532Z"
   },
   {
    "duration": 223,
    "start_time": "2024-01-26T21:50:24.539Z"
   },
   {
    "duration": 460,
    "start_time": "2024-01-26T21:50:24.764Z"
   },
   {
    "duration": 309,
    "start_time": "2024-01-26T21:50:25.226Z"
   },
   {
    "duration": 45,
    "start_time": "2024-01-26T21:50:25.538Z"
   },
   {
    "duration": 567,
    "start_time": "2024-01-26T21:50:25.585Z"
   },
   {
    "duration": 49,
    "start_time": "2024-01-26T21:50:26.154Z"
   },
   {
    "duration": 572,
    "start_time": "2024-01-26T21:50:26.205Z"
   },
   {
    "duration": 18,
    "start_time": "2024-01-26T21:50:26.779Z"
   },
   {
    "duration": 356,
    "start_time": "2024-01-26T21:50:26.799Z"
   },
   {
    "duration": 11,
    "start_time": "2024-01-26T21:50:27.157Z"
   },
   {
    "duration": 23,
    "start_time": "2024-01-26T21:50:27.170Z"
   },
   {
    "duration": 14,
    "start_time": "2024-01-26T21:50:27.196Z"
   },
   {
    "duration": 8,
    "start_time": "2024-01-26T21:50:27.211Z"
   },
   {
    "duration": 13,
    "start_time": "2024-01-26T21:58:46.856Z"
   },
   {
    "duration": 468,
    "start_time": "2024-01-26T22:13:19.311Z"
   },
   {
    "duration": 23,
    "start_time": "2024-01-26T22:13:19.781Z"
   },
   {
    "duration": 813,
    "start_time": "2024-01-26T22:13:19.805Z"
   },
   {
    "duration": 35,
    "start_time": "2024-01-26T22:13:20.620Z"
   },
   {
    "duration": 25,
    "start_time": "2024-01-26T22:13:20.657Z"
   },
   {
    "duration": 25,
    "start_time": "2024-01-26T22:13:20.684Z"
   },
   {
    "duration": 3,
    "start_time": "2024-01-26T22:13:20.711Z"
   },
   {
    "duration": 13,
    "start_time": "2024-01-26T22:13:20.716Z"
   },
   {
    "duration": 10,
    "start_time": "2024-01-26T22:13:20.731Z"
   },
   {
    "duration": 8,
    "start_time": "2024-01-26T22:13:20.743Z"
   },
   {
    "duration": 43,
    "start_time": "2024-01-26T22:13:20.753Z"
   },
   {
    "duration": 9,
    "start_time": "2024-01-26T22:13:20.797Z"
   },
   {
    "duration": 6,
    "start_time": "2024-01-26T22:13:20.808Z"
   },
   {
    "duration": 234,
    "start_time": "2024-01-26T22:13:20.817Z"
   },
   {
    "duration": 8,
    "start_time": "2024-01-26T22:13:21.052Z"
   },
   {
    "duration": 4,
    "start_time": "2024-01-26T22:13:21.062Z"
   },
   {
    "duration": 18,
    "start_time": "2024-01-26T22:13:21.068Z"
   },
   {
    "duration": 4,
    "start_time": "2024-01-26T22:13:21.088Z"
   },
   {
    "duration": 6,
    "start_time": "2024-01-26T22:13:21.093Z"
   },
   {
    "duration": 11,
    "start_time": "2024-01-26T22:13:21.100Z"
   },
   {
    "duration": 5,
    "start_time": "2024-01-26T22:13:21.113Z"
   },
   {
    "duration": 6,
    "start_time": "2024-01-26T22:13:21.120Z"
   },
   {
    "duration": 9,
    "start_time": "2024-01-26T22:13:21.127Z"
   },
   {
    "duration": 4,
    "start_time": "2024-01-26T22:13:21.138Z"
   },
   {
    "duration": 39,
    "start_time": "2024-01-26T22:13:21.143Z"
   },
   {
    "duration": 8,
    "start_time": "2024-01-26T22:13:21.184Z"
   },
   {
    "duration": 177,
    "start_time": "2024-01-26T22:13:21.194Z"
   },
   {
    "duration": 17,
    "start_time": "2024-01-26T22:13:21.372Z"
   },
   {
    "duration": 360,
    "start_time": "2024-01-26T22:13:21.391Z"
   },
   {
    "duration": 3,
    "start_time": "2024-01-26T22:13:21.752Z"
   },
   {
    "duration": 202,
    "start_time": "2024-01-26T22:13:21.756Z"
   },
   {
    "duration": 42,
    "start_time": "2024-01-26T22:13:21.960Z"
   },
   {
    "duration": 462,
    "start_time": "2024-01-26T22:13:22.003Z"
   },
   {
    "duration": 773,
    "start_time": "2024-01-26T22:13:22.467Z"
   },
   {
    "duration": 535,
    "start_time": "2024-01-26T22:13:23.242Z"
   },
   {
    "duration": 14,
    "start_time": "2024-01-26T22:13:23.783Z"
   },
   {
    "duration": 1014,
    "start_time": "2024-01-26T22:13:23.799Z"
   },
   {
    "duration": 6,
    "start_time": "2024-01-26T22:13:24.815Z"
   },
   {
    "duration": 7,
    "start_time": "2024-01-26T22:13:24.823Z"
   },
   {
    "duration": 230,
    "start_time": "2024-01-26T22:13:24.832Z"
   },
   {
    "duration": 4,
    "start_time": "2024-01-26T22:13:25.066Z"
   },
   {
    "duration": 202,
    "start_time": "2024-01-26T22:13:25.072Z"
   },
   {
    "duration": 431,
    "start_time": "2024-01-26T22:13:25.275Z"
   },
   {
    "duration": 327,
    "start_time": "2024-01-26T22:13:25.707Z"
   },
   {
    "duration": 28,
    "start_time": "2024-01-26T22:13:26.035Z"
   },
   {
    "duration": 540,
    "start_time": "2024-01-26T22:13:26.083Z"
   },
   {
    "duration": 29,
    "start_time": "2024-01-26T22:13:26.625Z"
   },
   {
    "duration": 568,
    "start_time": "2024-01-26T22:13:26.655Z"
   },
   {
    "duration": 14,
    "start_time": "2024-01-26T22:13:27.224Z"
   },
   {
    "duration": 378,
    "start_time": "2024-01-26T22:13:27.239Z"
   },
   {
    "duration": 10,
    "start_time": "2024-01-26T22:13:27.619Z"
   },
   {
    "duration": 5,
    "start_time": "2024-01-26T22:13:27.630Z"
   },
   {
    "duration": 15,
    "start_time": "2024-01-26T22:13:27.636Z"
   },
   {
    "duration": 30,
    "start_time": "2024-01-26T22:13:27.652Z"
   },
   {
    "duration": 434,
    "start_time": "2024-01-26T22:18:25.005Z"
   },
   {
    "duration": 16,
    "start_time": "2024-01-26T22:18:25.441Z"
   },
   {
    "duration": 734,
    "start_time": "2024-01-26T22:18:25.459Z"
   },
   {
    "duration": 34,
    "start_time": "2024-01-26T22:18:26.195Z"
   },
   {
    "duration": 15,
    "start_time": "2024-01-26T22:18:26.230Z"
   },
   {
    "duration": 33,
    "start_time": "2024-01-26T22:18:26.246Z"
   },
   {
    "duration": 15,
    "start_time": "2024-01-26T22:18:26.282Z"
   },
   {
    "duration": 9,
    "start_time": "2024-01-26T22:18:26.299Z"
   },
   {
    "duration": 10,
    "start_time": "2024-01-26T22:18:26.309Z"
   },
   {
    "duration": 4,
    "start_time": "2024-01-26T22:18:26.322Z"
   },
   {
    "duration": 17,
    "start_time": "2024-01-26T22:18:26.328Z"
   },
   {
    "duration": 6,
    "start_time": "2024-01-26T22:18:26.346Z"
   },
   {
    "duration": 8,
    "start_time": "2024-01-26T22:18:26.353Z"
   },
   {
    "duration": 205,
    "start_time": "2024-01-26T22:18:26.363Z"
   },
   {
    "duration": 17,
    "start_time": "2024-01-26T22:18:26.570Z"
   },
   {
    "duration": 7,
    "start_time": "2024-01-26T22:18:26.589Z"
   },
   {
    "duration": 9,
    "start_time": "2024-01-26T22:18:26.598Z"
   },
   {
    "duration": 3,
    "start_time": "2024-01-26T22:18:26.609Z"
   },
   {
    "duration": 6,
    "start_time": "2024-01-26T22:18:26.614Z"
   },
   {
    "duration": 10,
    "start_time": "2024-01-26T22:18:26.622Z"
   },
   {
    "duration": 12,
    "start_time": "2024-01-26T22:18:26.633Z"
   },
   {
    "duration": 19,
    "start_time": "2024-01-26T22:18:26.647Z"
   },
   {
    "duration": 19,
    "start_time": "2024-01-26T22:18:26.667Z"
   },
   {
    "duration": 8,
    "start_time": "2024-01-26T22:18:26.688Z"
   },
   {
    "duration": 17,
    "start_time": "2024-01-26T22:18:26.697Z"
   },
   {
    "duration": 5,
    "start_time": "2024-01-26T22:18:26.716Z"
   },
   {
    "duration": 176,
    "start_time": "2024-01-26T22:18:26.723Z"
   },
   {
    "duration": 11,
    "start_time": "2024-01-26T22:18:26.903Z"
   },
   {
    "duration": 342,
    "start_time": "2024-01-26T22:18:26.915Z"
   },
   {
    "duration": 2,
    "start_time": "2024-01-26T22:18:27.259Z"
   },
   {
    "duration": 178,
    "start_time": "2024-01-26T22:18:27.263Z"
   },
   {
    "duration": 29,
    "start_time": "2024-01-26T22:18:27.443Z"
   },
   {
    "duration": 470,
    "start_time": "2024-01-26T22:18:27.474Z"
   },
   {
    "duration": 719,
    "start_time": "2024-01-26T22:18:27.945Z"
   },
   {
    "duration": 521,
    "start_time": "2024-01-26T22:18:28.666Z"
   },
   {
    "duration": 9,
    "start_time": "2024-01-26T22:18:29.189Z"
   },
   {
    "duration": 968,
    "start_time": "2024-01-26T22:18:29.199Z"
   },
   {
    "duration": 18,
    "start_time": "2024-01-26T22:18:30.169Z"
   },
   {
    "duration": 53,
    "start_time": "2024-01-26T22:18:30.189Z"
   },
   {
    "duration": 254,
    "start_time": "2024-01-26T22:18:30.244Z"
   },
   {
    "duration": 5,
    "start_time": "2024-01-26T22:18:30.500Z"
   },
   {
    "duration": 254,
    "start_time": "2024-01-26T22:18:30.507Z"
   },
   {
    "duration": 406,
    "start_time": "2024-01-26T22:18:30.764Z"
   },
   {
    "duration": 295,
    "start_time": "2024-01-26T22:18:31.172Z"
   },
   {
    "duration": 32,
    "start_time": "2024-01-26T22:18:31.468Z"
   },
   {
    "duration": 584,
    "start_time": "2024-01-26T22:18:31.502Z"
   },
   {
    "duration": 42,
    "start_time": "2024-01-26T22:18:32.088Z"
   },
   {
    "duration": 569,
    "start_time": "2024-01-26T22:18:32.132Z"
   },
   {
    "duration": 13,
    "start_time": "2024-01-26T22:18:32.702Z"
   },
   {
    "duration": 502,
    "start_time": "2024-01-26T22:18:32.717Z"
   },
   {
    "duration": 12,
    "start_time": "2024-01-26T22:18:33.220Z"
   },
   {
    "duration": 6,
    "start_time": "2024-01-26T22:18:33.234Z"
   },
   {
    "duration": 15,
    "start_time": "2024-01-26T22:18:33.241Z"
   },
   {
    "duration": 28,
    "start_time": "2024-01-26T22:18:33.258Z"
   },
   {
    "duration": 506,
    "start_time": "2024-01-26T23:26:52.470Z"
   },
   {
    "duration": 63,
    "start_time": "2024-01-26T23:26:56.924Z"
   },
   {
    "duration": 937,
    "start_time": "2024-01-26T23:27:54.439Z"
   },
   {
    "duration": 56,
    "start_time": "2024-01-26T23:27:55.379Z"
   },
   {
    "duration": 16,
    "start_time": "2024-01-26T23:28:06.376Z"
   },
   {
    "duration": 13,
    "start_time": "2024-01-26T23:28:17.650Z"
   },
   {
    "duration": 1237,
    "start_time": "2024-01-26T23:30:42.156Z"
   },
   {
    "duration": 54,
    "start_time": "2024-01-26T23:30:43.395Z"
   },
   {
    "duration": 17,
    "start_time": "2024-01-26T23:30:43.450Z"
   },
   {
    "duration": 22,
    "start_time": "2024-01-26T23:30:43.469Z"
   },
   {
    "duration": 3,
    "start_time": "2024-01-26T23:30:43.493Z"
   },
   {
    "duration": 7,
    "start_time": "2024-01-26T23:30:43.497Z"
   },
   {
    "duration": 6,
    "start_time": "2024-01-26T23:30:43.505Z"
   },
   {
    "duration": 4,
    "start_time": "2024-01-26T23:30:43.512Z"
   },
   {
    "duration": 15,
    "start_time": "2024-01-26T23:30:43.518Z"
   },
   {
    "duration": 6,
    "start_time": "2024-01-26T23:30:43.535Z"
   },
   {
    "duration": 4,
    "start_time": "2024-01-26T23:30:43.543Z"
   },
   {
    "duration": 236,
    "start_time": "2024-01-26T23:30:43.548Z"
   },
   {
    "duration": 9,
    "start_time": "2024-01-26T23:30:43.786Z"
   },
   {
    "duration": 7,
    "start_time": "2024-01-26T23:30:43.796Z"
   },
   {
    "duration": 9,
    "start_time": "2024-01-26T23:30:43.805Z"
   },
   {
    "duration": 10,
    "start_time": "2024-01-26T23:30:43.816Z"
   },
   {
    "duration": 11,
    "start_time": "2024-01-26T23:30:43.828Z"
   },
   {
    "duration": 16,
    "start_time": "2024-01-26T23:30:43.840Z"
   },
   {
    "duration": 6,
    "start_time": "2024-01-26T23:30:43.857Z"
   },
   {
    "duration": 20,
    "start_time": "2024-01-26T23:30:43.864Z"
   },
   {
    "duration": 21,
    "start_time": "2024-01-26T23:30:43.886Z"
   },
   {
    "duration": 5,
    "start_time": "2024-01-26T23:30:43.909Z"
   },
   {
    "duration": 16,
    "start_time": "2024-01-26T23:30:43.916Z"
   },
   {
    "duration": 7,
    "start_time": "2024-01-26T23:30:43.934Z"
   },
   {
    "duration": 187,
    "start_time": "2024-01-26T23:30:43.942Z"
   },
   {
    "duration": 11,
    "start_time": "2024-01-26T23:30:44.130Z"
   },
   {
    "duration": 329,
    "start_time": "2024-01-26T23:30:44.143Z"
   },
   {
    "duration": 7,
    "start_time": "2024-01-26T23:30:44.475Z"
   },
   {
    "duration": 172,
    "start_time": "2024-01-26T23:30:44.483Z"
   },
   {
    "duration": 42,
    "start_time": "2024-01-26T23:30:44.657Z"
   },
   {
    "duration": 480,
    "start_time": "2024-01-26T23:30:44.700Z"
   },
   {
    "duration": 715,
    "start_time": "2024-01-26T23:30:45.182Z"
   },
   {
    "duration": 528,
    "start_time": "2024-01-26T23:30:45.899Z"
   },
   {
    "duration": 8,
    "start_time": "2024-01-26T23:30:46.429Z"
   },
   {
    "duration": 920,
    "start_time": "2024-01-26T23:30:46.439Z"
   },
   {
    "duration": 6,
    "start_time": "2024-01-26T23:30:47.360Z"
   },
   {
    "duration": 15,
    "start_time": "2024-01-26T23:30:47.368Z"
   },
   {
    "duration": 226,
    "start_time": "2024-01-26T23:30:47.385Z"
   },
   {
    "duration": 6,
    "start_time": "2024-01-26T23:30:47.612Z"
   },
   {
    "duration": 191,
    "start_time": "2024-01-26T23:30:47.619Z"
   },
   {
    "duration": 394,
    "start_time": "2024-01-26T23:30:47.812Z"
   },
   {
    "duration": 317,
    "start_time": "2024-01-26T23:30:48.208Z"
   },
   {
    "duration": 29,
    "start_time": "2024-01-26T23:30:48.527Z"
   },
   {
    "duration": 575,
    "start_time": "2024-01-26T23:30:48.557Z"
   },
   {
    "duration": 29,
    "start_time": "2024-01-26T23:30:49.134Z"
   },
   {
    "duration": 506,
    "start_time": "2024-01-26T23:30:49.182Z"
   },
   {
    "duration": 13,
    "start_time": "2024-01-26T23:30:49.689Z"
   },
   {
    "duration": 358,
    "start_time": "2024-01-26T23:30:49.704Z"
   },
   {
    "duration": 11,
    "start_time": "2024-01-26T23:30:50.063Z"
   },
   {
    "duration": 18,
    "start_time": "2024-01-26T23:30:50.082Z"
   },
   {
    "duration": 18,
    "start_time": "2024-01-26T23:30:50.102Z"
   },
   {
    "duration": 5,
    "start_time": "2024-01-26T23:30:50.121Z"
   },
   {
    "duration": 4,
    "start_time": "2024-01-26T23:31:16.973Z"
   },
   {
    "duration": 5,
    "start_time": "2024-01-26T23:31:19.991Z"
   },
   {
    "duration": 3,
    "start_time": "2024-01-26T23:34:26.133Z"
   },
   {
    "duration": 5,
    "start_time": "2024-01-26T23:34:49.736Z"
   },
   {
    "duration": 193,
    "start_time": "2024-01-26T23:34:50.831Z"
   },
   {
    "duration": 6,
    "start_time": "2024-01-26T23:35:17.110Z"
   },
   {
    "duration": 5,
    "start_time": "2024-01-26T23:37:12.268Z"
   },
   {
    "duration": 4,
    "start_time": "2024-01-26T23:40:56.244Z"
   },
   {
    "duration": 6,
    "start_time": "2024-01-26T23:41:11.855Z"
   },
   {
    "duration": 4,
    "start_time": "2024-01-26T23:41:56.261Z"
   },
   {
    "duration": 16,
    "start_time": "2024-01-26T23:43:59.874Z"
   },
   {
    "duration": 4,
    "start_time": "2024-01-26T23:44:07.634Z"
   },
   {
    "duration": 4,
    "start_time": "2024-01-26T23:44:12.892Z"
   },
   {
    "duration": 4,
    "start_time": "2024-01-26T23:44:13.353Z"
   },
   {
    "duration": 15,
    "start_time": "2024-01-26T23:44:13.611Z"
   },
   {
    "duration": 3,
    "start_time": "2024-01-26T23:44:14.799Z"
   },
   {
    "duration": 5,
    "start_time": "2024-01-26T23:45:38.724Z"
   },
   {
    "duration": 7,
    "start_time": "2024-01-26T23:49:59.477Z"
   },
   {
    "duration": 25,
    "start_time": "2024-01-26T23:50:05.576Z"
   },
   {
    "duration": 5,
    "start_time": "2024-01-26T23:51:18.184Z"
   },
   {
    "duration": 6,
    "start_time": "2024-01-26T23:51:30.364Z"
   },
   {
    "duration": 107,
    "start_time": "2024-01-26T23:51:37.095Z"
   },
   {
    "duration": 17,
    "start_time": "2024-01-26T23:53:24.716Z"
   },
   {
    "duration": 9,
    "start_time": "2024-01-26T23:54:08.554Z"
   },
   {
    "duration": 19,
    "start_time": "2024-01-26T23:54:17.733Z"
   },
   {
    "duration": 17,
    "start_time": "2024-01-26T23:54:25.564Z"
   },
   {
    "duration": 8,
    "start_time": "2024-01-26T23:54:54.701Z"
   },
   {
    "duration": 14,
    "start_time": "2024-01-26T23:55:04.050Z"
   },
   {
    "duration": 9,
    "start_time": "2024-01-26T23:56:37.509Z"
   },
   {
    "duration": 30,
    "start_time": "2024-01-27T00:02:39.849Z"
   },
   {
    "duration": 446,
    "start_time": "2024-01-27T00:02:54.815Z"
   },
   {
    "duration": 1205,
    "start_time": "2024-01-27T00:10:51.089Z"
   },
   {
    "duration": 57,
    "start_time": "2024-01-27T00:10:52.296Z"
   },
   {
    "duration": 16,
    "start_time": "2024-01-27T00:10:52.354Z"
   },
   {
    "duration": 19,
    "start_time": "2024-01-27T00:10:52.372Z"
   },
   {
    "duration": 2,
    "start_time": "2024-01-27T00:10:52.393Z"
   },
   {
    "duration": 8,
    "start_time": "2024-01-27T00:10:52.397Z"
   },
   {
    "duration": 6,
    "start_time": "2024-01-27T00:10:52.407Z"
   },
   {
    "duration": 5,
    "start_time": "2024-01-27T00:10:52.415Z"
   },
   {
    "duration": 17,
    "start_time": "2024-01-27T00:10:52.422Z"
   },
   {
    "duration": 6,
    "start_time": "2024-01-27T00:10:52.442Z"
   },
   {
    "duration": 34,
    "start_time": "2024-01-27T00:10:52.449Z"
   },
   {
    "duration": 11,
    "start_time": "2024-01-27T00:10:52.485Z"
   },
   {
    "duration": 265,
    "start_time": "2024-01-27T00:10:52.497Z"
   },
   {
    "duration": 20,
    "start_time": "2024-01-27T00:10:52.764Z"
   },
   {
    "duration": 20,
    "start_time": "2024-01-27T00:10:52.786Z"
   },
   {
    "duration": 8,
    "start_time": "2024-01-27T00:10:52.808Z"
   },
   {
    "duration": 11,
    "start_time": "2024-01-27T00:10:52.818Z"
   },
   {
    "duration": 27,
    "start_time": "2024-01-27T00:10:52.830Z"
   },
   {
    "duration": 9,
    "start_time": "2024-01-27T00:10:52.859Z"
   },
   {
    "duration": 24,
    "start_time": "2024-01-27T00:10:52.869Z"
   },
   {
    "duration": 19,
    "start_time": "2024-01-27T00:10:52.895Z"
   },
   {
    "duration": 5,
    "start_time": "2024-01-27T00:10:52.916Z"
   },
   {
    "duration": 18,
    "start_time": "2024-01-27T00:10:52.923Z"
   },
   {
    "duration": 8,
    "start_time": "2024-01-27T00:10:52.943Z"
   },
   {
    "duration": 5,
    "start_time": "2024-01-27T00:10:52.953Z"
   },
   {
    "duration": 179,
    "start_time": "2024-01-27T00:10:52.959Z"
   },
   {
    "duration": 12,
    "start_time": "2024-01-27T00:10:53.140Z"
   },
   {
    "duration": 345,
    "start_time": "2024-01-27T00:10:53.155Z"
   },
   {
    "duration": 3,
    "start_time": "2024-01-27T00:10:53.501Z"
   },
   {
    "duration": 192,
    "start_time": "2024-01-27T00:10:53.506Z"
   },
   {
    "duration": 25,
    "start_time": "2024-01-27T00:10:53.699Z"
   },
   {
    "duration": 471,
    "start_time": "2024-01-27T00:10:53.725Z"
   },
   {
    "duration": 617,
    "start_time": "2024-01-27T00:10:54.198Z"
   },
   {
    "duration": 459,
    "start_time": "2024-01-27T00:10:54.816Z"
   },
   {
    "duration": 11,
    "start_time": "2024-01-27T00:10:55.282Z"
   },
   {
    "duration": 914,
    "start_time": "2024-01-27T00:10:55.295Z"
   },
   {
    "duration": 5,
    "start_time": "2024-01-27T00:10:56.211Z"
   },
   {
    "duration": 7,
    "start_time": "2024-01-27T00:10:56.218Z"
   },
   {
    "duration": 217,
    "start_time": "2024-01-27T00:10:56.227Z"
   },
   {
    "duration": 5,
    "start_time": "2024-01-27T00:10:56.445Z"
   },
   {
    "duration": 222,
    "start_time": "2024-01-27T00:10:56.452Z"
   },
   {
    "duration": 377,
    "start_time": "2024-01-27T00:10:56.681Z"
   },
   {
    "duration": 309,
    "start_time": "2024-01-27T00:10:57.060Z"
   },
   {
    "duration": 32,
    "start_time": "2024-01-27T00:10:57.370Z"
   },
   {
    "duration": 585,
    "start_time": "2024-01-27T00:10:57.404Z"
   },
   {
    "duration": 30,
    "start_time": "2024-01-27T00:10:57.991Z"
   },
   {
    "duration": 530,
    "start_time": "2024-01-27T00:10:58.022Z"
   },
   {
    "duration": 14,
    "start_time": "2024-01-27T00:10:58.553Z"
   },
   {
    "duration": 348,
    "start_time": "2024-01-27T00:10:58.568Z"
   },
   {
    "duration": 11,
    "start_time": "2024-01-27T00:10:58.918Z"
   },
   {
    "duration": 7,
    "start_time": "2024-01-27T00:10:58.930Z"
   },
   {
    "duration": 23,
    "start_time": "2024-01-27T00:10:58.939Z"
   },
   {
    "duration": 26,
    "start_time": "2024-01-27T00:10:58.964Z"
   },
   {
    "duration": 53,
    "start_time": "2024-01-27T08:52:46.363Z"
   },
   {
    "duration": 1376,
    "start_time": "2024-01-27T08:52:50.469Z"
   },
   {
    "duration": 95,
    "start_time": "2024-01-27T08:52:51.846Z"
   },
   {
    "duration": 14,
    "start_time": "2024-01-27T08:52:51.943Z"
   },
   {
    "duration": 28,
    "start_time": "2024-01-27T08:52:51.959Z"
   },
   {
    "duration": 2,
    "start_time": "2024-01-27T08:52:51.988Z"
   },
   {
    "duration": 5,
    "start_time": "2024-01-27T08:52:51.992Z"
   },
   {
    "duration": 5,
    "start_time": "2024-01-27T08:52:51.999Z"
   },
   {
    "duration": 4,
    "start_time": "2024-01-27T08:52:52.006Z"
   },
   {
    "duration": 16,
    "start_time": "2024-01-27T08:52:52.012Z"
   },
   {
    "duration": 36,
    "start_time": "2024-01-27T08:52:52.031Z"
   },
   {
    "duration": 6,
    "start_time": "2024-01-27T08:52:52.069Z"
   },
   {
    "duration": 8,
    "start_time": "2024-01-27T08:52:52.077Z"
   },
   {
    "duration": 238,
    "start_time": "2024-01-27T08:52:52.086Z"
   },
   {
    "duration": 7,
    "start_time": "2024-01-27T08:52:52.326Z"
   },
   {
    "duration": 12,
    "start_time": "2024-01-27T08:52:52.334Z"
   },
   {
    "duration": 6,
    "start_time": "2024-01-27T08:52:52.347Z"
   },
   {
    "duration": 11,
    "start_time": "2024-01-27T08:52:52.355Z"
   },
   {
    "duration": 16,
    "start_time": "2024-01-27T08:52:52.368Z"
   },
   {
    "duration": 6,
    "start_time": "2024-01-27T08:52:52.386Z"
   },
   {
    "duration": 10,
    "start_time": "2024-01-27T08:52:52.393Z"
   },
   {
    "duration": 10,
    "start_time": "2024-01-27T08:52:52.405Z"
   },
   {
    "duration": 11,
    "start_time": "2024-01-27T08:52:52.417Z"
   },
   {
    "duration": 37,
    "start_time": "2024-01-27T08:52:52.429Z"
   },
   {
    "duration": 25,
    "start_time": "2024-01-27T08:52:52.468Z"
   },
   {
    "duration": 8,
    "start_time": "2024-01-27T08:52:52.494Z"
   },
   {
    "duration": 5,
    "start_time": "2024-01-27T08:52:52.504Z"
   },
   {
    "duration": 196,
    "start_time": "2024-01-27T08:52:52.510Z"
   },
   {
    "duration": 11,
    "start_time": "2024-01-27T08:52:52.709Z"
   },
   {
    "duration": 332,
    "start_time": "2024-01-27T08:52:52.721Z"
   },
   {
    "duration": 3,
    "start_time": "2024-01-27T08:52:53.054Z"
   },
   {
    "duration": 175,
    "start_time": "2024-01-27T08:52:53.058Z"
   },
   {
    "duration": 31,
    "start_time": "2024-01-27T08:52:53.234Z"
   },
   {
    "duration": 496,
    "start_time": "2024-01-27T08:52:53.268Z"
   },
   {
    "duration": 689,
    "start_time": "2024-01-27T08:52:53.766Z"
   },
   {
    "duration": 440,
    "start_time": "2024-01-27T08:52:54.457Z"
   },
   {
    "duration": 9,
    "start_time": "2024-01-27T08:52:54.899Z"
   },
   {
    "duration": 959,
    "start_time": "2024-01-27T08:52:54.909Z"
   },
   {
    "duration": 9,
    "start_time": "2024-01-27T08:52:55.870Z"
   },
   {
    "duration": 7,
    "start_time": "2024-01-27T08:52:55.881Z"
   },
   {
    "duration": 244,
    "start_time": "2024-01-27T08:52:55.889Z"
   },
   {
    "duration": 4,
    "start_time": "2024-01-27T08:52:56.135Z"
   },
   {
    "duration": 212,
    "start_time": "2024-01-27T08:52:56.141Z"
   },
   {
    "duration": 396,
    "start_time": "2024-01-27T08:52:56.355Z"
   },
   {
    "duration": 292,
    "start_time": "2024-01-27T08:52:56.752Z"
   },
   {
    "duration": 40,
    "start_time": "2024-01-27T08:52:57.045Z"
   },
   {
    "duration": 557,
    "start_time": "2024-01-27T08:52:57.086Z"
   },
   {
    "duration": 42,
    "start_time": "2024-01-27T08:52:57.645Z"
   },
   {
    "duration": 547,
    "start_time": "2024-01-27T08:52:57.688Z"
   },
   {
    "duration": 13,
    "start_time": "2024-01-27T08:52:58.237Z"
   },
   {
    "duration": 368,
    "start_time": "2024-01-27T08:52:58.251Z"
   },
   {
    "duration": 10,
    "start_time": "2024-01-27T08:52:58.621Z"
   },
   {
    "duration": 5,
    "start_time": "2024-01-27T08:52:58.633Z"
   },
   {
    "duration": 41,
    "start_time": "2024-01-27T08:52:58.639Z"
   },
   {
    "duration": 6,
    "start_time": "2024-01-27T08:52:58.681Z"
   },
   {
    "duration": 9,
    "start_time": "2024-01-27T09:00:11.052Z"
   },
   {
    "duration": 14,
    "start_time": "2024-01-27T09:00:32.793Z"
   },
   {
    "duration": 12,
    "start_time": "2024-01-27T09:00:35.049Z"
   },
   {
    "duration": 13,
    "start_time": "2024-01-27T09:00:36.188Z"
   },
   {
    "duration": 1163,
    "start_time": "2024-01-27T09:00:59.002Z"
   },
   {
    "duration": 54,
    "start_time": "2024-01-27T09:01:00.166Z"
   },
   {
    "duration": 14,
    "start_time": "2024-01-27T09:01:01.633Z"
   },
   {
    "duration": 27,
    "start_time": "2024-01-27T09:01:03.070Z"
   },
   {
    "duration": 3,
    "start_time": "2024-01-27T09:01:07.501Z"
   },
   {
    "duration": 3,
    "start_time": "2024-01-27T09:01:07.802Z"
   },
   {
    "duration": 5,
    "start_time": "2024-01-27T09:01:09.306Z"
   },
   {
    "duration": 6,
    "start_time": "2024-01-27T09:01:10.770Z"
   },
   {
    "duration": 12,
    "start_time": "2024-01-27T09:01:11.707Z"
   },
   {
    "duration": 6,
    "start_time": "2024-01-27T09:01:12.112Z"
   },
   {
    "duration": 3,
    "start_time": "2024-01-27T09:01:13.618Z"
   },
   {
    "duration": 7,
    "start_time": "2024-01-27T09:01:14.379Z"
   },
   {
    "duration": 210,
    "start_time": "2024-01-27T09:01:40.800Z"
   },
   {
    "duration": 10,
    "start_time": "2024-01-27T09:05:13.341Z"
   },
   {
    "duration": 6,
    "start_time": "2024-01-27T09:05:15.322Z"
   },
   {
    "duration": 6,
    "start_time": "2024-01-27T09:05:16.371Z"
   },
   {
    "duration": 4,
    "start_time": "2024-01-27T09:05:18.119Z"
   },
   {
    "duration": 10,
    "start_time": "2024-01-27T09:05:18.918Z"
   },
   {
    "duration": 3,
    "start_time": "2024-01-27T09:05:19.919Z"
   },
   {
    "duration": 4,
    "start_time": "2024-01-27T09:05:23.197Z"
   },
   {
    "duration": 6,
    "start_time": "2024-01-27T09:05:24.673Z"
   },
   {
    "duration": 7,
    "start_time": "2024-01-27T09:05:25.367Z"
   },
   {
    "duration": 6,
    "start_time": "2024-01-27T09:05:28.543Z"
   },
   {
    "duration": 27,
    "start_time": "2024-01-27T09:05:36.150Z"
   },
   {
    "duration": 13,
    "start_time": "2024-01-27T09:05:37.788Z"
   },
   {
    "duration": 14,
    "start_time": "2024-01-27T09:05:41.531Z"
   },
   {
    "duration": 7,
    "start_time": "2024-01-27T09:06:46.029Z"
   },
   {
    "duration": 162,
    "start_time": "2024-01-27T09:06:51.671Z"
   },
   {
    "duration": 25,
    "start_time": "2024-01-27T09:45:18.555Z"
   },
   {
    "duration": 429,
    "start_time": "2024-01-27T09:45:46.482Z"
   },
   {
    "duration": 280,
    "start_time": "2024-01-27T09:54:59.014Z"
   },
   {
    "duration": 594,
    "start_time": "2024-01-27T09:55:17.653Z"
   },
   {
    "duration": 458,
    "start_time": "2024-01-27T09:57:12.607Z"
   },
   {
    "duration": 315,
    "start_time": "2024-01-27T10:00:03.300Z"
   },
   {
    "duration": 250,
    "start_time": "2024-01-27T10:00:20.040Z"
   },
   {
    "duration": 245,
    "start_time": "2024-01-27T10:00:27.429Z"
   },
   {
    "duration": 225,
    "start_time": "2024-01-27T10:00:35.058Z"
   },
   {
    "duration": 312,
    "start_time": "2024-01-27T10:00:53.573Z"
   },
   {
    "duration": 249,
    "start_time": "2024-01-27T10:01:02.310Z"
   },
   {
    "duration": 525,
    "start_time": "2024-01-27T10:01:06.960Z"
   },
   {
    "duration": 526,
    "start_time": "2024-01-27T10:01:26.666Z"
   },
   {
    "duration": 488,
    "start_time": "2024-01-27T10:01:33.140Z"
   },
   {
    "duration": 291,
    "start_time": "2024-01-27T10:02:05.829Z"
   },
   {
    "duration": 494,
    "start_time": "2024-01-27T10:02:12.866Z"
   },
   {
    "duration": 379,
    "start_time": "2024-01-27T10:49:37.050Z"
   },
   {
    "duration": 556,
    "start_time": "2024-01-27T10:50:17.966Z"
   },
   {
    "duration": 282,
    "start_time": "2024-01-27T10:55:10.331Z"
   },
   {
    "duration": 551,
    "start_time": "2024-01-27T10:55:19.350Z"
   },
   {
    "duration": 490,
    "start_time": "2024-01-27T10:58:11.095Z"
   },
   {
    "duration": 504,
    "start_time": "2024-01-27T10:59:56.301Z"
   },
   {
    "duration": 513,
    "start_time": "2024-01-27T11:04:18.509Z"
   },
   {
    "duration": 515,
    "start_time": "2024-01-27T11:04:56.468Z"
   },
   {
    "duration": 89,
    "start_time": "2024-01-27T11:07:02.884Z"
   },
   {
    "duration": 1254,
    "start_time": "2024-01-27T11:10:04.988Z"
   },
   {
    "duration": 928,
    "start_time": "2024-01-27T11:10:49.086Z"
   },
   {
    "duration": 930,
    "start_time": "2024-01-27T11:11:36.250Z"
   },
   {
    "duration": 9,
    "start_time": "2024-01-27T11:12:36.436Z"
   },
   {
    "duration": 995,
    "start_time": "2024-01-27T11:12:37.814Z"
   },
   {
    "duration": 1158,
    "start_time": "2024-01-27T11:12:44.270Z"
   },
   {
    "duration": 54,
    "start_time": "2024-01-27T11:12:45.430Z"
   },
   {
    "duration": 15,
    "start_time": "2024-01-27T11:12:45.485Z"
   },
   {
    "duration": 19,
    "start_time": "2024-01-27T11:12:45.502Z"
   },
   {
    "duration": 3,
    "start_time": "2024-01-27T11:12:45.523Z"
   },
   {
    "duration": 9,
    "start_time": "2024-01-27T11:12:45.528Z"
   },
   {
    "duration": 26,
    "start_time": "2024-01-27T11:12:45.539Z"
   },
   {
    "duration": 4,
    "start_time": "2024-01-27T11:12:45.567Z"
   },
   {
    "duration": 11,
    "start_time": "2024-01-27T11:12:45.573Z"
   },
   {
    "duration": 6,
    "start_time": "2024-01-27T11:12:45.586Z"
   },
   {
    "duration": 4,
    "start_time": "2024-01-27T11:12:45.594Z"
   },
   {
    "duration": 5,
    "start_time": "2024-01-27T11:12:45.600Z"
   },
   {
    "duration": 254,
    "start_time": "2024-01-27T11:12:45.607Z"
   },
   {
    "duration": 8,
    "start_time": "2024-01-27T11:12:45.863Z"
   },
   {
    "duration": 6,
    "start_time": "2024-01-27T11:12:45.872Z"
   },
   {
    "duration": 16,
    "start_time": "2024-01-27T11:12:45.880Z"
   },
   {
    "duration": 6,
    "start_time": "2024-01-27T11:12:45.898Z"
   },
   {
    "duration": 29,
    "start_time": "2024-01-27T11:12:45.905Z"
   },
   {
    "duration": 18,
    "start_time": "2024-01-27T11:12:45.936Z"
   },
   {
    "duration": 5,
    "start_time": "2024-01-27T11:12:45.956Z"
   },
   {
    "duration": 19,
    "start_time": "2024-01-27T11:12:45.963Z"
   },
   {
    "duration": 9,
    "start_time": "2024-01-27T11:12:45.983Z"
   },
   {
    "duration": 7,
    "start_time": "2024-01-27T11:12:45.994Z"
   },
   {
    "duration": 22,
    "start_time": "2024-01-27T11:12:46.002Z"
   },
   {
    "duration": 18,
    "start_time": "2024-01-27T11:12:46.026Z"
   },
   {
    "duration": 13,
    "start_time": "2024-01-27T11:12:46.046Z"
   },
   {
    "duration": 9,
    "start_time": "2024-01-27T11:12:46.060Z"
   },
   {
    "duration": 179,
    "start_time": "2024-01-27T11:12:46.072Z"
   },
   {
    "duration": 16,
    "start_time": "2024-01-27T11:12:46.252Z"
   },
   {
    "duration": 318,
    "start_time": "2024-01-27T11:12:46.270Z"
   },
   {
    "duration": 3,
    "start_time": "2024-01-27T11:12:46.590Z"
   },
   {
    "duration": 178,
    "start_time": "2024-01-27T11:12:46.594Z"
   },
   {
    "duration": 22,
    "start_time": "2024-01-27T11:12:46.774Z"
   },
   {
    "duration": 397,
    "start_time": "2024-01-27T11:12:46.798Z"
   },
   {
    "duration": 613,
    "start_time": "2024-01-27T11:12:47.197Z"
   },
   {
    "duration": 483,
    "start_time": "2024-01-27T11:12:47.812Z"
   },
   {
    "duration": 8,
    "start_time": "2024-01-27T11:12:48.297Z"
   },
   {
    "duration": 1025,
    "start_time": "2024-01-27T11:12:48.307Z"
   },
   {
    "duration": 5,
    "start_time": "2024-01-27T11:12:49.334Z"
   },
   {
    "duration": 34,
    "start_time": "2024-01-27T11:12:49.340Z"
   },
   {
    "duration": 212,
    "start_time": "2024-01-27T11:12:49.376Z"
   },
   {
    "duration": 4,
    "start_time": "2024-01-27T11:12:49.590Z"
   },
   {
    "duration": 198,
    "start_time": "2024-01-27T11:12:49.596Z"
   },
   {
    "duration": 399,
    "start_time": "2024-01-27T11:12:49.796Z"
   },
   {
    "duration": 294,
    "start_time": "2024-01-27T11:12:50.196Z"
   },
   {
    "duration": 30,
    "start_time": "2024-01-27T11:12:50.492Z"
   },
   {
    "duration": 498,
    "start_time": "2024-01-27T11:12:50.525Z"
   },
   {
    "duration": 43,
    "start_time": "2024-01-27T11:12:51.025Z"
   },
   {
    "duration": 492,
    "start_time": "2024-01-27T11:12:51.070Z"
   },
   {
    "duration": 12,
    "start_time": "2024-01-27T11:12:51.564Z"
   },
   {
    "duration": 335,
    "start_time": "2024-01-27T11:12:51.577Z"
   },
   {
    "duration": 10,
    "start_time": "2024-01-27T11:12:51.914Z"
   },
   {
    "duration": 5,
    "start_time": "2024-01-27T11:12:51.925Z"
   },
   {
    "duration": 13,
    "start_time": "2024-01-27T11:12:51.932Z"
   },
   {
    "duration": 5,
    "start_time": "2024-01-27T11:12:51.965Z"
   },
   {
    "duration": 7,
    "start_time": "2024-01-27T11:20:11.281Z"
   },
   {
    "duration": 1028,
    "start_time": "2024-01-27T11:25:37.568Z"
   },
   {
    "duration": 897,
    "start_time": "2024-01-27T11:26:33.361Z"
   },
   {
    "duration": 76,
    "start_time": "2024-01-27T11:34:05.129Z"
   },
   {
    "duration": 94,
    "start_time": "2024-01-27T11:34:37.337Z"
   },
   {
    "duration": 9,
    "start_time": "2024-01-27T11:35:20.875Z"
   },
   {
    "duration": 915,
    "start_time": "2024-01-27T11:35:23.854Z"
   },
   {
    "duration": 909,
    "start_time": "2024-01-27T11:36:07.408Z"
   },
   {
    "duration": 1071,
    "start_time": "2024-01-27T11:36:12.551Z"
   },
   {
    "duration": 12,
    "start_time": "2024-01-27T11:38:36.973Z"
   },
   {
    "duration": 1000,
    "start_time": "2024-01-27T11:38:40.058Z"
   },
   {
    "duration": 940,
    "start_time": "2024-01-27T11:39:03.330Z"
   },
   {
    "duration": 5,
    "start_time": "2024-01-27T11:40:50.426Z"
   },
   {
    "duration": 1117,
    "start_time": "2024-01-27T11:40:51.476Z"
   },
   {
    "duration": 7,
    "start_time": "2024-01-27T11:41:50.257Z"
   },
   {
    "duration": 985,
    "start_time": "2024-01-27T11:41:52.138Z"
   },
   {
    "duration": 987,
    "start_time": "2024-01-27T11:42:23.663Z"
   },
   {
    "duration": 953,
    "start_time": "2024-01-27T11:43:04.018Z"
   },
   {
    "duration": 1100,
    "start_time": "2024-01-27T11:43:11.928Z"
   },
   {
    "duration": 179,
    "start_time": "2024-01-27T11:49:00.038Z"
   },
   {
    "duration": 174,
    "start_time": "2024-01-27T11:49:43.290Z"
   },
   {
    "duration": 188,
    "start_time": "2024-01-27T11:50:32.133Z"
   },
   {
    "duration": 188,
    "start_time": "2024-01-27T11:50:38.217Z"
   },
   {
    "duration": 184,
    "start_time": "2024-01-27T11:50:56.834Z"
   },
   {
    "duration": 34,
    "start_time": "2024-01-27T11:54:42.380Z"
   },
   {
    "duration": 515,
    "start_time": "2024-01-27T11:54:45.779Z"
   },
   {
    "duration": 597,
    "start_time": "2024-01-27T12:00:08.791Z"
   },
   {
    "duration": 9,
    "start_time": "2024-01-27T12:00:28.950Z"
   },
   {
    "duration": 485,
    "start_time": "2024-01-27T12:00:29.944Z"
   },
   {
    "duration": 5,
    "start_time": "2024-01-27T12:02:05.669Z"
   },
   {
    "duration": 501,
    "start_time": "2024-01-27T12:02:06.704Z"
   },
   {
    "duration": 1081,
    "start_time": "2024-01-27T12:03:01.011Z"
   },
   {
    "duration": 948,
    "start_time": "2024-01-27T12:03:21.259Z"
   },
   {
    "duration": 526,
    "start_time": "2024-01-27T12:03:57.321Z"
   },
   {
    "duration": 517,
    "start_time": "2024-01-27T12:04:22.050Z"
   },
   {
    "duration": 521,
    "start_time": "2024-01-27T12:05:05.893Z"
   },
   {
    "duration": 531,
    "start_time": "2024-01-27T12:05:31.099Z"
   },
   {
    "duration": 32,
    "start_time": "2024-01-27T12:08:15.759Z"
   },
   {
    "duration": 539,
    "start_time": "2024-01-27T12:09:39.470Z"
   },
   {
    "duration": 455,
    "start_time": "2024-01-27T12:14:51.547Z"
   },
   {
    "duration": 583,
    "start_time": "2024-01-27T12:15:28.276Z"
   },
   {
    "duration": 569,
    "start_time": "2024-01-27T12:15:47.163Z"
   },
   {
    "duration": 570,
    "start_time": "2024-01-27T12:16:05.911Z"
   },
   {
    "duration": 585,
    "start_time": "2024-01-27T12:16:48.982Z"
   },
   {
    "duration": 565,
    "start_time": "2024-01-27T12:17:57.068Z"
   },
   {
    "duration": 632,
    "start_time": "2024-01-27T12:18:03.242Z"
   },
   {
    "duration": 488,
    "start_time": "2024-01-27T12:19:14.632Z"
   },
   {
    "duration": 529,
    "start_time": "2024-01-27T12:21:05.816Z"
   },
   {
    "duration": 552,
    "start_time": "2024-01-27T12:21:21.163Z"
   },
   {
    "duration": 558,
    "start_time": "2024-01-27T12:22:21.682Z"
   },
   {
    "duration": 13,
    "start_time": "2024-01-27T12:26:07.419Z"
   },
   {
    "duration": 222,
    "start_time": "2024-01-27T12:26:11.362Z"
   },
   {
    "duration": 348,
    "start_time": "2024-01-27T12:29:25.285Z"
   },
   {
    "duration": 227,
    "start_time": "2024-01-27T12:29:51.931Z"
   },
   {
    "duration": 344,
    "start_time": "2024-01-27T12:29:57.843Z"
   },
   {
    "duration": 206,
    "start_time": "2024-01-27T12:30:08.386Z"
   },
   {
    "duration": 217,
    "start_time": "2024-01-27T12:35:34.123Z"
   },
   {
    "duration": 194,
    "start_time": "2024-01-27T12:35:37.185Z"
   },
   {
    "duration": 197,
    "start_time": "2024-01-27T12:35:44.748Z"
   },
   {
    "duration": 207,
    "start_time": "2024-01-27T12:36:11.969Z"
   },
   {
    "duration": 224,
    "start_time": "2024-01-27T12:36:45.999Z"
   },
   {
    "duration": 371,
    "start_time": "2024-01-27T12:47:07.404Z"
   },
   {
    "duration": 302,
    "start_time": "2024-01-27T12:47:13.190Z"
   },
   {
    "duration": 218,
    "start_time": "2024-01-27T12:48:41.725Z"
   },
   {
    "duration": 183,
    "start_time": "2024-01-27T13:04:03.481Z"
   },
   {
    "duration": 189,
    "start_time": "2024-01-27T13:04:48.213Z"
   },
   {
    "duration": 4,
    "start_time": "2024-01-27T13:06:04.835Z"
   },
   {
    "duration": 8,
    "start_time": "2024-01-27T13:23:26.878Z"
   },
   {
    "duration": 13,
    "start_time": "2024-01-27T13:23:43.188Z"
   },
   {
    "duration": 104,
    "start_time": "2024-01-27T13:24:40.758Z"
   },
   {
    "duration": 12,
    "start_time": "2024-01-27T13:24:54.364Z"
   },
   {
    "duration": 9,
    "start_time": "2024-01-27T13:25:46.598Z"
   },
   {
    "duration": 15,
    "start_time": "2024-01-27T13:26:59.957Z"
   },
   {
    "duration": 15,
    "start_time": "2024-01-27T13:28:17.302Z"
   },
   {
    "duration": 5,
    "start_time": "2024-01-27T13:29:08.062Z"
   },
   {
    "duration": 14,
    "start_time": "2024-01-27T13:29:13.002Z"
   },
   {
    "duration": 24,
    "start_time": "2024-01-27T13:30:54.470Z"
   },
   {
    "duration": 5,
    "start_time": "2024-01-27T13:31:05.692Z"
   },
   {
    "duration": 14,
    "start_time": "2024-01-27T13:32:34.772Z"
   },
   {
    "duration": 13,
    "start_time": "2024-01-27T13:32:36.436Z"
   },
   {
    "duration": 15,
    "start_time": "2024-01-27T13:32:41.296Z"
   },
   {
    "duration": 18,
    "start_time": "2024-01-27T13:32:42.726Z"
   },
   {
    "duration": 10,
    "start_time": "2024-01-27T13:32:52.811Z"
   },
   {
    "duration": 13,
    "start_time": "2024-01-27T13:33:04.095Z"
   },
   {
    "duration": 13,
    "start_time": "2024-01-27T13:33:16.071Z"
   },
   {
    "duration": 12,
    "start_time": "2024-01-27T13:33:23.736Z"
   },
   {
    "duration": 11,
    "start_time": "2024-01-27T13:33:32.768Z"
   },
   {
    "duration": 73,
    "start_time": "2024-01-27T13:33:45.157Z"
   },
   {
    "duration": 12,
    "start_time": "2024-01-27T13:34:04.503Z"
   },
   {
    "duration": 12,
    "start_time": "2024-01-27T13:34:13.088Z"
   },
   {
    "duration": 5,
    "start_time": "2024-01-27T13:34:54.376Z"
   },
   {
    "duration": 71,
    "start_time": "2024-01-27T13:39:01.565Z"
   },
   {
    "duration": 1405,
    "start_time": "2024-01-28T10:20:56.822Z"
   },
   {
    "duration": 196,
    "start_time": "2024-01-28T10:20:58.230Z"
   },
   {
    "duration": 17,
    "start_time": "2024-01-28T10:20:58.429Z"
   },
   {
    "duration": 29,
    "start_time": "2024-01-28T10:20:58.448Z"
   },
   {
    "duration": 15,
    "start_time": "2024-01-28T10:20:58.480Z"
   },
   {
    "duration": 25,
    "start_time": "2024-01-28T10:20:58.496Z"
   },
   {
    "duration": 10,
    "start_time": "2024-01-28T10:20:58.523Z"
   },
   {
    "duration": 22,
    "start_time": "2024-01-28T10:20:58.535Z"
   },
   {
    "duration": 14,
    "start_time": "2024-01-28T10:20:58.559Z"
   },
   {
    "duration": 49,
    "start_time": "2024-01-28T10:20:58.574Z"
   },
   {
    "duration": 37,
    "start_time": "2024-01-28T10:20:58.625Z"
   },
   {
    "duration": 32,
    "start_time": "2024-01-28T10:20:58.664Z"
   },
   {
    "duration": 288,
    "start_time": "2024-01-28T10:20:58.698Z"
   },
   {
    "duration": 8,
    "start_time": "2024-01-28T10:20:58.989Z"
   },
   {
    "duration": 12,
    "start_time": "2024-01-28T10:20:58.999Z"
   },
   {
    "duration": 28,
    "start_time": "2024-01-28T10:20:59.012Z"
   },
   {
    "duration": 14,
    "start_time": "2024-01-28T10:20:59.042Z"
   },
   {
    "duration": 28,
    "start_time": "2024-01-28T10:20:59.057Z"
   },
   {
    "duration": 29,
    "start_time": "2024-01-28T10:20:59.087Z"
   },
   {
    "duration": 5,
    "start_time": "2024-01-28T10:20:59.118Z"
   },
   {
    "duration": 9,
    "start_time": "2024-01-28T10:20:59.125Z"
   },
   {
    "duration": 19,
    "start_time": "2024-01-28T10:20:59.136Z"
   },
   {
    "duration": 7,
    "start_time": "2024-01-28T10:20:59.157Z"
   },
   {
    "duration": 20,
    "start_time": "2024-01-28T10:20:59.166Z"
   },
   {
    "duration": 29,
    "start_time": "2024-01-28T10:20:59.187Z"
   },
   {
    "duration": 14,
    "start_time": "2024-01-28T10:20:59.218Z"
   },
   {
    "duration": 6,
    "start_time": "2024-01-28T10:20:59.234Z"
   },
   {
    "duration": 175,
    "start_time": "2024-01-28T10:20:59.241Z"
   },
   {
    "duration": 11,
    "start_time": "2024-01-28T10:20:59.418Z"
   },
   {
    "duration": 355,
    "start_time": "2024-01-28T10:20:59.430Z"
   },
   {
    "duration": 3,
    "start_time": "2024-01-28T10:20:59.787Z"
   },
   {
    "duration": 211,
    "start_time": "2024-01-28T10:20:59.792Z"
   },
   {
    "duration": 25,
    "start_time": "2024-01-28T10:21:00.004Z"
   },
   {
    "duration": 559,
    "start_time": "2024-01-28T10:21:00.031Z"
   },
   {
    "duration": 697,
    "start_time": "2024-01-28T10:21:00.591Z"
   },
   {
    "duration": 546,
    "start_time": "2024-01-28T10:21:01.289Z"
   },
   {
    "duration": 5,
    "start_time": "2024-01-28T10:21:01.837Z"
   },
   {
    "duration": 1229,
    "start_time": "2024-01-28T10:21:01.843Z"
   },
   {
    "duration": 6,
    "start_time": "2024-01-28T10:21:03.079Z"
   },
   {
    "duration": 28,
    "start_time": "2024-01-28T10:21:03.086Z"
   },
   {
    "duration": 223,
    "start_time": "2024-01-28T10:21:03.117Z"
   },
   {
    "duration": 5,
    "start_time": "2024-01-28T10:21:03.342Z"
   },
   {
    "duration": 219,
    "start_time": "2024-01-28T10:21:03.348Z"
   },
   {
    "duration": 438,
    "start_time": "2024-01-28T10:21:03.569Z"
   },
   {
    "duration": 318,
    "start_time": "2024-01-28T10:21:04.009Z"
   },
   {
    "duration": 117,
    "start_time": "2024-01-28T10:21:04.329Z"
   },
   {
    "duration": 0,
    "start_time": "2024-01-28T10:21:04.448Z"
   },
   {
    "duration": 0,
    "start_time": "2024-01-28T10:21:04.449Z"
   },
   {
    "duration": 0,
    "start_time": "2024-01-28T10:21:04.450Z"
   },
   {
    "duration": 0,
    "start_time": "2024-01-28T10:21:04.452Z"
   },
   {
    "duration": 0,
    "start_time": "2024-01-28T10:21:04.453Z"
   },
   {
    "duration": 0,
    "start_time": "2024-01-28T10:21:04.454Z"
   },
   {
    "duration": 0,
    "start_time": "2024-01-28T10:21:04.455Z"
   },
   {
    "duration": 318,
    "start_time": "2024-01-28T10:28:42.056Z"
   },
   {
    "duration": 521,
    "start_time": "2024-01-28T10:29:19.613Z"
   },
   {
    "duration": 12,
    "start_time": "2024-01-28T10:30:34.241Z"
   },
   {
    "duration": 9,
    "start_time": "2024-01-28T10:30:41.416Z"
   },
   {
    "duration": 10,
    "start_time": "2024-01-28T10:30:53.553Z"
   },
   {
    "duration": 13,
    "start_time": "2024-01-28T10:30:54.585Z"
   },
   {
    "duration": 604,
    "start_time": "2024-01-28T10:32:00.867Z"
   },
   {
    "duration": 294,
    "start_time": "2024-01-28T10:32:10.718Z"
   },
   {
    "duration": 12,
    "start_time": "2024-01-28T10:32:35.493Z"
   },
   {
    "duration": 5,
    "start_time": "2024-01-28T10:32:41.004Z"
   },
   {
    "duration": 18,
    "start_time": "2024-01-28T10:33:53.279Z"
   },
   {
    "duration": 6,
    "start_time": "2024-01-28T10:33:53.928Z"
   },
   {
    "duration": 4,
    "start_time": "2024-01-28T10:35:52.849Z"
   },
   {
    "duration": 1247,
    "start_time": "2024-01-28T10:35:52.856Z"
   },
   {
    "duration": 55,
    "start_time": "2024-01-28T10:35:54.105Z"
   },
   {
    "duration": 15,
    "start_time": "2024-01-28T10:35:54.162Z"
   },
   {
    "duration": 19,
    "start_time": "2024-01-28T10:35:54.179Z"
   },
   {
    "duration": 3,
    "start_time": "2024-01-28T10:35:54.199Z"
   },
   {
    "duration": 10,
    "start_time": "2024-01-28T10:35:54.203Z"
   },
   {
    "duration": 11,
    "start_time": "2024-01-28T10:35:54.214Z"
   },
   {
    "duration": 7,
    "start_time": "2024-01-28T10:35:54.226Z"
   },
   {
    "duration": 12,
    "start_time": "2024-01-28T10:35:54.234Z"
   },
   {
    "duration": 8,
    "start_time": "2024-01-28T10:35:54.248Z"
   },
   {
    "duration": 24,
    "start_time": "2024-01-28T10:35:54.257Z"
   },
   {
    "duration": 6,
    "start_time": "2024-01-28T10:35:54.282Z"
   },
   {
    "duration": 243,
    "start_time": "2024-01-28T10:35:54.289Z"
   },
   {
    "duration": 9,
    "start_time": "2024-01-28T10:35:54.534Z"
   },
   {
    "duration": 6,
    "start_time": "2024-01-28T10:35:54.545Z"
   },
   {
    "duration": 7,
    "start_time": "2024-01-28T10:35:54.553Z"
   },
   {
    "duration": 21,
    "start_time": "2024-01-28T10:35:54.562Z"
   },
   {
    "duration": 10,
    "start_time": "2024-01-28T10:35:54.585Z"
   },
   {
    "duration": 8,
    "start_time": "2024-01-28T10:35:54.596Z"
   },
   {
    "duration": 6,
    "start_time": "2024-01-28T10:35:54.605Z"
   },
   {
    "duration": 10,
    "start_time": "2024-01-28T10:35:54.612Z"
   },
   {
    "duration": 16,
    "start_time": "2024-01-28T10:35:54.624Z"
   },
   {
    "duration": 12,
    "start_time": "2024-01-28T10:35:54.641Z"
   },
   {
    "duration": 40,
    "start_time": "2024-01-28T10:35:54.654Z"
   },
   {
    "duration": 9,
    "start_time": "2024-01-28T10:35:54.696Z"
   },
   {
    "duration": 13,
    "start_time": "2024-01-28T10:35:54.706Z"
   },
   {
    "duration": 5,
    "start_time": "2024-01-28T10:35:54.721Z"
   },
   {
    "duration": 203,
    "start_time": "2024-01-28T10:35:54.730Z"
   },
   {
    "duration": 11,
    "start_time": "2024-01-28T10:35:54.935Z"
   },
   {
    "duration": 383,
    "start_time": "2024-01-28T10:35:54.948Z"
   },
   {
    "duration": 2,
    "start_time": "2024-01-28T10:35:55.333Z"
   },
   {
    "duration": 193,
    "start_time": "2024-01-28T10:35:55.337Z"
   },
   {
    "duration": 24,
    "start_time": "2024-01-28T10:35:55.532Z"
   },
   {
    "duration": 431,
    "start_time": "2024-01-28T10:35:55.558Z"
   },
   {
    "duration": 737,
    "start_time": "2024-01-28T10:35:55.991Z"
   },
   {
    "duration": 538,
    "start_time": "2024-01-28T10:35:56.730Z"
   },
   {
    "duration": 12,
    "start_time": "2024-01-28T10:35:57.270Z"
   },
   {
    "duration": 1070,
    "start_time": "2024-01-28T10:35:57.284Z"
   },
   {
    "duration": 6,
    "start_time": "2024-01-28T10:35:58.355Z"
   },
   {
    "duration": 19,
    "start_time": "2024-01-28T10:35:58.362Z"
   },
   {
    "duration": 207,
    "start_time": "2024-01-28T10:35:58.383Z"
   },
   {
    "duration": 6,
    "start_time": "2024-01-28T10:35:58.592Z"
   },
   {
    "duration": 230,
    "start_time": "2024-01-28T10:35:58.599Z"
   },
   {
    "duration": 421,
    "start_time": "2024-01-28T10:35:58.831Z"
   },
   {
    "duration": 312,
    "start_time": "2024-01-28T10:35:59.254Z"
   },
   {
    "duration": 101,
    "start_time": "2024-01-28T10:35:59.567Z"
   },
   {
    "duration": 0,
    "start_time": "2024-01-28T10:35:59.670Z"
   },
   {
    "duration": 0,
    "start_time": "2024-01-28T10:35:59.680Z"
   },
   {
    "duration": 0,
    "start_time": "2024-01-28T10:35:59.681Z"
   },
   {
    "duration": 0,
    "start_time": "2024-01-28T10:35:59.682Z"
   },
   {
    "duration": 0,
    "start_time": "2024-01-28T10:35:59.683Z"
   },
   {
    "duration": 0,
    "start_time": "2024-01-28T10:35:59.684Z"
   },
   {
    "duration": 0,
    "start_time": "2024-01-28T10:35:59.685Z"
   },
   {
    "duration": 4,
    "start_time": "2024-01-28T18:13:33.083Z"
   },
   {
    "duration": 1253,
    "start_time": "2024-01-28T18:13:33.107Z"
   },
   {
    "duration": 95,
    "start_time": "2024-01-28T18:13:34.362Z"
   },
   {
    "duration": 14,
    "start_time": "2024-01-28T18:13:34.459Z"
   },
   {
    "duration": 25,
    "start_time": "2024-01-28T18:13:34.476Z"
   },
   {
    "duration": 6,
    "start_time": "2024-01-28T18:13:34.503Z"
   },
   {
    "duration": 6,
    "start_time": "2024-01-28T18:13:34.510Z"
   },
   {
    "duration": 13,
    "start_time": "2024-01-28T18:13:34.518Z"
   },
   {
    "duration": 6,
    "start_time": "2024-01-28T18:13:34.532Z"
   },
   {
    "duration": 13,
    "start_time": "2024-01-28T18:13:34.539Z"
   },
   {
    "duration": 6,
    "start_time": "2024-01-28T18:13:34.567Z"
   },
   {
    "duration": 17,
    "start_time": "2024-01-28T18:13:34.574Z"
   },
   {
    "duration": 17,
    "start_time": "2024-01-28T18:13:34.593Z"
   },
   {
    "duration": 235,
    "start_time": "2024-01-28T18:13:34.612Z"
   },
   {
    "duration": 8,
    "start_time": "2024-01-28T18:13:34.848Z"
   },
   {
    "duration": 11,
    "start_time": "2024-01-28T18:13:34.857Z"
   },
   {
    "duration": 7,
    "start_time": "2024-01-28T18:13:34.869Z"
   },
   {
    "duration": 5,
    "start_time": "2024-01-28T18:13:34.877Z"
   },
   {
    "duration": 10,
    "start_time": "2024-01-28T18:13:34.883Z"
   },
   {
    "duration": 15,
    "start_time": "2024-01-28T18:13:34.894Z"
   },
   {
    "duration": 12,
    "start_time": "2024-01-28T18:13:34.910Z"
   },
   {
    "duration": 12,
    "start_time": "2024-01-28T18:13:34.924Z"
   },
   {
    "duration": 15,
    "start_time": "2024-01-28T18:13:34.938Z"
   },
   {
    "duration": 17,
    "start_time": "2024-01-28T18:13:34.955Z"
   },
   {
    "duration": 30,
    "start_time": "2024-01-28T18:13:34.973Z"
   },
   {
    "duration": 9,
    "start_time": "2024-01-28T18:13:35.005Z"
   },
   {
    "duration": 15,
    "start_time": "2024-01-28T18:13:35.015Z"
   },
   {
    "duration": 6,
    "start_time": "2024-01-28T18:13:35.033Z"
   },
   {
    "duration": 178,
    "start_time": "2024-01-28T18:13:35.042Z"
   },
   {
    "duration": 10,
    "start_time": "2024-01-28T18:13:35.222Z"
   },
   {
    "duration": 325,
    "start_time": "2024-01-28T18:13:35.234Z"
   },
   {
    "duration": 6,
    "start_time": "2024-01-28T18:13:35.560Z"
   },
   {
    "duration": 169,
    "start_time": "2024-01-28T18:13:35.567Z"
   },
   {
    "duration": 30,
    "start_time": "2024-01-28T18:13:35.738Z"
   },
   {
    "duration": 455,
    "start_time": "2024-01-28T18:13:35.770Z"
   },
   {
    "duration": 645,
    "start_time": "2024-01-28T18:13:36.226Z"
   },
   {
    "duration": 524,
    "start_time": "2024-01-28T18:13:36.873Z"
   },
   {
    "duration": 6,
    "start_time": "2024-01-28T18:13:37.398Z"
   },
   {
    "duration": 994,
    "start_time": "2024-01-28T18:13:37.405Z"
   },
   {
    "duration": 5,
    "start_time": "2024-01-28T18:13:38.401Z"
   },
   {
    "duration": 11,
    "start_time": "2024-01-28T18:13:38.407Z"
   },
   {
    "duration": 181,
    "start_time": "2024-01-28T18:13:38.420Z"
   },
   {
    "duration": 5,
    "start_time": "2024-01-28T18:13:38.603Z"
   },
   {
    "duration": 207,
    "start_time": "2024-01-28T18:13:38.609Z"
   },
   {
    "duration": 378,
    "start_time": "2024-01-28T18:13:38.818Z"
   },
   {
    "duration": 283,
    "start_time": "2024-01-28T18:13:39.197Z"
   },
   {
    "duration": 95,
    "start_time": "2024-01-28T18:13:39.482Z"
   },
   {
    "duration": 0,
    "start_time": "2024-01-28T18:13:39.579Z"
   },
   {
    "duration": 0,
    "start_time": "2024-01-28T18:13:39.580Z"
   },
   {
    "duration": 0,
    "start_time": "2024-01-28T18:13:39.581Z"
   },
   {
    "duration": 0,
    "start_time": "2024-01-28T18:13:39.583Z"
   },
   {
    "duration": 0,
    "start_time": "2024-01-28T18:13:39.583Z"
   },
   {
    "duration": 0,
    "start_time": "2024-01-28T18:13:39.585Z"
   },
   {
    "duration": 0,
    "start_time": "2024-01-28T18:13:39.586Z"
   },
   {
    "duration": 478,
    "start_time": "2024-01-28T18:15:01.306Z"
   },
   {
    "duration": 311,
    "start_time": "2024-01-28T18:17:53.840Z"
   },
   {
    "duration": 295,
    "start_time": "2024-01-28T18:18:35.272Z"
   },
   {
    "duration": 372,
    "start_time": "2024-01-28T18:18:45.413Z"
   },
   {
    "duration": 300,
    "start_time": "2024-01-28T18:21:26.572Z"
   },
   {
    "duration": 281,
    "start_time": "2024-01-28T18:21:29.408Z"
   },
   {
    "duration": 9,
    "start_time": "2024-01-28T18:23:51.614Z"
   },
   {
    "duration": 14,
    "start_time": "2024-01-28T18:26:17.768Z"
   },
   {
    "duration": 9,
    "start_time": "2024-01-28T18:26:19.929Z"
   },
   {
    "duration": 3,
    "start_time": "2024-01-28T18:26:25.205Z"
   },
   {
    "duration": 1146,
    "start_time": "2024-01-28T18:26:25.219Z"
   },
   {
    "duration": 54,
    "start_time": "2024-01-28T18:26:26.367Z"
   },
   {
    "duration": 14,
    "start_time": "2024-01-28T18:26:26.423Z"
   },
   {
    "duration": 30,
    "start_time": "2024-01-28T18:26:26.438Z"
   },
   {
    "duration": 2,
    "start_time": "2024-01-28T18:26:26.470Z"
   },
   {
    "duration": 29,
    "start_time": "2024-01-28T18:26:26.474Z"
   },
   {
    "duration": 11,
    "start_time": "2024-01-28T18:26:26.504Z"
   },
   {
    "duration": 17,
    "start_time": "2024-01-28T18:26:26.516Z"
   },
   {
    "duration": 27,
    "start_time": "2024-01-28T18:26:26.535Z"
   },
   {
    "duration": 5,
    "start_time": "2024-01-28T18:26:26.565Z"
   },
   {
    "duration": 34,
    "start_time": "2024-01-28T18:26:26.572Z"
   },
   {
    "duration": 27,
    "start_time": "2024-01-28T18:26:26.608Z"
   },
   {
    "duration": 221,
    "start_time": "2024-01-28T18:26:26.636Z"
   },
   {
    "duration": 11,
    "start_time": "2024-01-28T18:26:26.859Z"
   },
   {
    "duration": 26,
    "start_time": "2024-01-28T18:26:26.872Z"
   },
   {
    "duration": 10,
    "start_time": "2024-01-28T18:26:26.899Z"
   },
   {
    "duration": 20,
    "start_time": "2024-01-28T18:26:26.911Z"
   },
   {
    "duration": 19,
    "start_time": "2024-01-28T18:26:26.933Z"
   },
   {
    "duration": 8,
    "start_time": "2024-01-28T18:26:26.954Z"
   },
   {
    "duration": 6,
    "start_time": "2024-01-28T18:26:26.963Z"
   },
   {
    "duration": 15,
    "start_time": "2024-01-28T18:26:26.970Z"
   },
   {
    "duration": 32,
    "start_time": "2024-01-28T18:26:26.987Z"
   },
   {
    "duration": 5,
    "start_time": "2024-01-28T18:26:27.022Z"
   },
   {
    "duration": 17,
    "start_time": "2024-01-28T18:26:27.029Z"
   },
   {
    "duration": 8,
    "start_time": "2024-01-28T18:26:27.047Z"
   },
   {
    "duration": 12,
    "start_time": "2024-01-28T18:26:27.056Z"
   },
   {
    "duration": 5,
    "start_time": "2024-01-28T18:26:27.069Z"
   },
   {
    "duration": 160,
    "start_time": "2024-01-28T18:26:27.077Z"
   },
   {
    "duration": 10,
    "start_time": "2024-01-28T18:26:27.238Z"
   },
   {
    "duration": 335,
    "start_time": "2024-01-28T18:26:27.250Z"
   },
   {
    "duration": 2,
    "start_time": "2024-01-28T18:26:27.587Z"
   },
   {
    "duration": 172,
    "start_time": "2024-01-28T18:26:27.591Z"
   },
   {
    "duration": 22,
    "start_time": "2024-01-28T18:26:27.764Z"
   },
   {
    "duration": 392,
    "start_time": "2024-01-28T18:26:27.788Z"
   },
   {
    "duration": 352,
    "start_time": "2024-01-28T18:26:28.182Z"
   },
   {
    "duration": 338,
    "start_time": "2024-01-28T18:26:28.535Z"
   },
   {
    "duration": 524,
    "start_time": "2024-01-28T18:26:28.875Z"
   },
   {
    "duration": 5,
    "start_time": "2024-01-28T18:26:29.400Z"
   },
   {
    "duration": 994,
    "start_time": "2024-01-28T18:26:29.407Z"
   },
   {
    "duration": 6,
    "start_time": "2024-01-28T18:26:30.402Z"
   },
   {
    "duration": 41,
    "start_time": "2024-01-28T18:26:30.409Z"
   },
   {
    "duration": 243,
    "start_time": "2024-01-28T18:26:30.452Z"
   },
   {
    "duration": 5,
    "start_time": "2024-01-28T18:26:30.697Z"
   },
   {
    "duration": 229,
    "start_time": "2024-01-28T18:26:30.704Z"
   },
   {
    "duration": 300,
    "start_time": "2024-01-28T18:26:30.935Z"
   },
   {
    "duration": 397,
    "start_time": "2024-01-28T18:26:31.237Z"
   },
   {
    "duration": 14,
    "start_time": "2024-01-28T18:26:31.636Z"
   },
   {
    "duration": 43,
    "start_time": "2024-01-28T18:26:31.652Z"
   },
   {
    "duration": 554,
    "start_time": "2024-01-28T18:26:31.697Z"
   },
   {
    "duration": 580,
    "start_time": "2024-01-28T18:26:32.253Z"
   },
   {
    "duration": 204,
    "start_time": "2024-01-28T18:26:32.834Z"
   },
   {
    "duration": 10,
    "start_time": "2024-01-28T18:26:33.040Z"
   },
   {
    "duration": 19,
    "start_time": "2024-01-28T18:26:33.052Z"
   },
   {
    "duration": 27,
    "start_time": "2024-01-28T18:26:33.072Z"
   },
   {
    "duration": 5,
    "start_time": "2024-01-28T18:26:33.100Z"
   },
   {
    "duration": 567,
    "start_time": "2024-01-28T18:27:20.317Z"
   },
   {
    "duration": 3,
    "start_time": "2024-01-28T18:28:09.944Z"
   },
   {
    "duration": 1126,
    "start_time": "2024-01-28T18:28:09.958Z"
   },
   {
    "duration": 57,
    "start_time": "2024-01-28T18:28:11.086Z"
   },
   {
    "duration": 14,
    "start_time": "2024-01-28T18:28:11.145Z"
   },
   {
    "duration": 20,
    "start_time": "2024-01-28T18:28:11.160Z"
   },
   {
    "duration": 7,
    "start_time": "2024-01-28T18:28:11.181Z"
   },
   {
    "duration": 7,
    "start_time": "2024-01-28T18:28:11.189Z"
   },
   {
    "duration": 9,
    "start_time": "2024-01-28T18:28:11.197Z"
   },
   {
    "duration": 16,
    "start_time": "2024-01-28T18:28:11.207Z"
   },
   {
    "duration": 20,
    "start_time": "2024-01-28T18:28:11.225Z"
   },
   {
    "duration": 16,
    "start_time": "2024-01-28T18:28:11.249Z"
   },
   {
    "duration": 16,
    "start_time": "2024-01-28T18:28:11.267Z"
   },
   {
    "duration": 8,
    "start_time": "2024-01-28T18:28:11.284Z"
   },
   {
    "duration": 229,
    "start_time": "2024-01-28T18:28:11.293Z"
   },
   {
    "duration": 7,
    "start_time": "2024-01-28T18:28:11.524Z"
   },
   {
    "duration": 30,
    "start_time": "2024-01-28T18:28:11.533Z"
   },
   {
    "duration": 31,
    "start_time": "2024-01-28T18:28:11.565Z"
   },
   {
    "duration": 13,
    "start_time": "2024-01-28T18:28:11.598Z"
   },
   {
    "duration": 27,
    "start_time": "2024-01-28T18:28:11.613Z"
   },
   {
    "duration": 24,
    "start_time": "2024-01-28T18:28:11.642Z"
   },
   {
    "duration": 27,
    "start_time": "2024-01-28T18:28:11.667Z"
   },
   {
    "duration": 32,
    "start_time": "2024-01-28T18:28:11.696Z"
   },
   {
    "duration": 23,
    "start_time": "2024-01-28T18:28:11.730Z"
   },
   {
    "duration": 27,
    "start_time": "2024-01-28T18:28:11.754Z"
   },
   {
    "duration": 31,
    "start_time": "2024-01-28T18:28:11.783Z"
   },
   {
    "duration": 27,
    "start_time": "2024-01-28T18:28:11.816Z"
   },
   {
    "duration": 27,
    "start_time": "2024-01-28T18:28:11.845Z"
   },
   {
    "duration": 12,
    "start_time": "2024-01-28T18:28:11.874Z"
   },
   {
    "duration": 171,
    "start_time": "2024-01-28T18:28:11.890Z"
   },
   {
    "duration": 12,
    "start_time": "2024-01-28T18:28:12.063Z"
   },
   {
    "duration": 357,
    "start_time": "2024-01-28T18:28:12.077Z"
   },
   {
    "duration": 3,
    "start_time": "2024-01-28T18:28:12.435Z"
   },
   {
    "duration": 173,
    "start_time": "2024-01-28T18:28:12.439Z"
   },
   {
    "duration": 24,
    "start_time": "2024-01-28T18:28:12.613Z"
   },
   {
    "duration": 379,
    "start_time": "2024-01-28T18:28:12.639Z"
   },
   {
    "duration": 344,
    "start_time": "2024-01-28T18:28:13.019Z"
   },
   {
    "duration": 291,
    "start_time": "2024-01-28T18:28:13.366Z"
   },
   {
    "duration": 567,
    "start_time": "2024-01-28T18:28:13.659Z"
   },
   {
    "duration": 6,
    "start_time": "2024-01-28T18:28:14.228Z"
   },
   {
    "duration": 1035,
    "start_time": "2024-01-28T18:28:14.235Z"
   },
   {
    "duration": 6,
    "start_time": "2024-01-28T18:28:15.272Z"
   },
   {
    "duration": 23,
    "start_time": "2024-01-28T18:28:15.279Z"
   },
   {
    "duration": 202,
    "start_time": "2024-01-28T18:28:15.304Z"
   },
   {
    "duration": 5,
    "start_time": "2024-01-28T18:28:15.508Z"
   },
   {
    "duration": 209,
    "start_time": "2024-01-28T18:28:15.515Z"
   },
   {
    "duration": 330,
    "start_time": "2024-01-28T18:28:15.725Z"
   },
   {
    "duration": 393,
    "start_time": "2024-01-28T18:28:16.056Z"
   },
   {
    "duration": 100,
    "start_time": "2024-01-28T18:28:16.451Z"
   },
   {
    "duration": 0,
    "start_time": "2024-01-28T18:28:16.552Z"
   },
   {
    "duration": 0,
    "start_time": "2024-01-28T18:28:16.553Z"
   },
   {
    "duration": 0,
    "start_time": "2024-01-28T18:28:16.554Z"
   },
   {
    "duration": 0,
    "start_time": "2024-01-28T18:28:16.555Z"
   },
   {
    "duration": 0,
    "start_time": "2024-01-28T18:28:16.556Z"
   },
   {
    "duration": 0,
    "start_time": "2024-01-28T18:28:16.557Z"
   },
   {
    "duration": 551,
    "start_time": "2024-01-28T18:29:23.677Z"
   },
   {
    "duration": 535,
    "start_time": "2024-01-28T18:30:28.763Z"
   },
   {
    "duration": 562,
    "start_time": "2024-01-28T18:31:37.858Z"
   },
   {
    "duration": 631,
    "start_time": "2024-01-28T18:33:01.577Z"
   },
   {
    "duration": 710,
    "start_time": "2024-01-28T18:35:32.564Z"
   },
   {
    "duration": 650,
    "start_time": "2024-01-28T18:45:00.401Z"
   },
   {
    "duration": 622,
    "start_time": "2024-01-28T18:45:27.457Z"
   },
   {
    "duration": 671,
    "start_time": "2024-01-28T19:00:15.263Z"
   },
   {
    "duration": 4,
    "start_time": "2024-01-28T19:01:25.034Z"
   },
   {
    "duration": 1224,
    "start_time": "2024-01-28T19:01:25.047Z"
   },
   {
    "duration": 56,
    "start_time": "2024-01-28T19:01:26.273Z"
   },
   {
    "duration": 14,
    "start_time": "2024-01-28T19:01:26.330Z"
   },
   {
    "duration": 23,
    "start_time": "2024-01-28T19:01:26.346Z"
   },
   {
    "duration": 2,
    "start_time": "2024-01-28T19:01:26.371Z"
   },
   {
    "duration": 9,
    "start_time": "2024-01-28T19:01:26.375Z"
   },
   {
    "duration": 8,
    "start_time": "2024-01-28T19:01:26.385Z"
   },
   {
    "duration": 27,
    "start_time": "2024-01-28T19:01:26.395Z"
   },
   {
    "duration": 40,
    "start_time": "2024-01-28T19:01:26.423Z"
   },
   {
    "duration": 39,
    "start_time": "2024-01-28T19:01:26.465Z"
   },
   {
    "duration": 34,
    "start_time": "2024-01-28T19:01:26.505Z"
   },
   {
    "duration": 30,
    "start_time": "2024-01-28T19:01:26.540Z"
   },
   {
    "duration": 248,
    "start_time": "2024-01-28T19:01:26.571Z"
   },
   {
    "duration": 10,
    "start_time": "2024-01-28T19:01:26.822Z"
   },
   {
    "duration": 5,
    "start_time": "2024-01-28T19:01:26.835Z"
   },
   {
    "duration": 26,
    "start_time": "2024-01-28T19:01:26.842Z"
   },
   {
    "duration": 5,
    "start_time": "2024-01-28T19:01:26.869Z"
   },
   {
    "duration": 14,
    "start_time": "2024-01-28T19:01:26.875Z"
   },
   {
    "duration": 6,
    "start_time": "2024-01-28T19:01:26.890Z"
   },
   {
    "duration": 6,
    "start_time": "2024-01-28T19:01:26.897Z"
   },
   {
    "duration": 7,
    "start_time": "2024-01-28T19:01:26.904Z"
   },
   {
    "duration": 9,
    "start_time": "2024-01-28T19:01:26.912Z"
   },
   {
    "duration": 6,
    "start_time": "2024-01-28T19:01:26.922Z"
   },
   {
    "duration": 43,
    "start_time": "2024-01-28T19:01:26.929Z"
   },
   {
    "duration": 9,
    "start_time": "2024-01-28T19:01:26.973Z"
   },
   {
    "duration": 23,
    "start_time": "2024-01-28T19:01:26.983Z"
   },
   {
    "duration": 6,
    "start_time": "2024-01-28T19:01:27.007Z"
   },
   {
    "duration": 180,
    "start_time": "2024-01-28T19:01:27.017Z"
   },
   {
    "duration": 12,
    "start_time": "2024-01-28T19:01:27.199Z"
   },
   {
    "duration": 335,
    "start_time": "2024-01-28T19:01:27.213Z"
   },
   {
    "duration": 3,
    "start_time": "2024-01-28T19:01:27.549Z"
   },
   {
    "duration": 217,
    "start_time": "2024-01-28T19:01:27.553Z"
   },
   {
    "duration": 23,
    "start_time": "2024-01-28T19:01:27.771Z"
   },
   {
    "duration": 473,
    "start_time": "2024-01-28T19:01:27.795Z"
   },
   {
    "duration": 546,
    "start_time": "2024-01-28T19:01:28.270Z"
   },
   {
    "duration": 299,
    "start_time": "2024-01-28T19:01:28.817Z"
   },
   {
    "duration": 511,
    "start_time": "2024-01-28T19:01:29.117Z"
   },
   {
    "duration": 6,
    "start_time": "2024-01-28T19:01:29.629Z"
   },
   {
    "duration": 1062,
    "start_time": "2024-01-28T19:01:29.636Z"
   },
   {
    "duration": 6,
    "start_time": "2024-01-28T19:01:30.700Z"
   },
   {
    "duration": 98,
    "start_time": "2024-01-28T19:01:30.707Z"
   },
   {
    "duration": 250,
    "start_time": "2024-01-28T19:01:30.806Z"
   },
   {
    "duration": 8,
    "start_time": "2024-01-28T19:01:31.057Z"
   },
   {
    "duration": 289,
    "start_time": "2024-01-28T19:01:31.067Z"
   },
   {
    "duration": 315,
    "start_time": "2024-01-28T19:01:31.365Z"
   },
   {
    "duration": 368,
    "start_time": "2024-01-28T19:01:31.682Z"
   },
   {
    "duration": 104,
    "start_time": "2024-01-28T19:01:32.052Z"
   },
   {
    "duration": 0,
    "start_time": "2024-01-28T19:01:32.165Z"
   },
   {
    "duration": 0,
    "start_time": "2024-01-28T19:01:32.166Z"
   },
   {
    "duration": 0,
    "start_time": "2024-01-28T19:01:32.167Z"
   },
   {
    "duration": 0,
    "start_time": "2024-01-28T19:01:32.168Z"
   },
   {
    "duration": 0,
    "start_time": "2024-01-28T19:01:32.169Z"
   },
   {
    "duration": 0,
    "start_time": "2024-01-28T19:01:32.170Z"
   },
   {
    "duration": 16,
    "start_time": "2024-01-28T19:02:11.373Z"
   },
   {
    "duration": 16,
    "start_time": "2024-01-28T19:03:52.096Z"
   },
   {
    "duration": 631,
    "start_time": "2024-01-28T19:06:01.104Z"
   },
   {
    "duration": 621,
    "start_time": "2024-01-28T19:06:14.847Z"
   },
   {
    "duration": 589,
    "start_time": "2024-01-28T19:06:57.434Z"
   },
   {
    "duration": 634,
    "start_time": "2024-01-28T19:07:55.947Z"
   },
   {
    "duration": 84,
    "start_time": "2024-01-28T19:09:53.869Z"
   },
   {
    "duration": 76,
    "start_time": "2024-01-28T19:10:05.477Z"
   },
   {
    "duration": 42,
    "start_time": "2024-01-28T19:11:44.868Z"
   },
   {
    "duration": 120,
    "start_time": "2024-01-28T19:12:41.380Z"
   },
   {
    "duration": 89,
    "start_time": "2024-01-28T19:13:56.704Z"
   },
   {
    "duration": 606,
    "start_time": "2024-01-28T19:14:30.609Z"
   },
   {
    "duration": 22,
    "start_time": "2024-01-28T19:18:58.557Z"
   },
   {
    "duration": 587,
    "start_time": "2024-01-28T19:20:42.885Z"
   },
   {
    "duration": 603,
    "start_time": "2024-01-28T19:21:51.890Z"
   },
   {
    "duration": 10,
    "start_time": "2024-01-28T19:23:22.824Z"
   },
   {
    "duration": 10,
    "start_time": "2024-01-28T19:23:32.887Z"
   },
   {
    "duration": 3,
    "start_time": "2024-01-28T19:23:50.827Z"
   },
   {
    "duration": 1173,
    "start_time": "2024-01-28T19:23:50.841Z"
   },
   {
    "duration": 55,
    "start_time": "2024-01-28T19:23:52.016Z"
   },
   {
    "duration": 15,
    "start_time": "2024-01-28T19:23:52.073Z"
   },
   {
    "duration": 18,
    "start_time": "2024-01-28T19:23:52.090Z"
   },
   {
    "duration": 3,
    "start_time": "2024-01-28T19:23:52.109Z"
   },
   {
    "duration": 13,
    "start_time": "2024-01-28T19:23:52.113Z"
   },
   {
    "duration": 6,
    "start_time": "2024-01-28T19:23:52.127Z"
   },
   {
    "duration": 4,
    "start_time": "2024-01-28T19:23:52.134Z"
   },
   {
    "duration": 31,
    "start_time": "2024-01-28T19:23:52.140Z"
   },
   {
    "duration": 18,
    "start_time": "2024-01-28T19:23:52.174Z"
   },
   {
    "duration": 5,
    "start_time": "2024-01-28T19:23:52.193Z"
   },
   {
    "duration": 13,
    "start_time": "2024-01-28T19:23:52.199Z"
   },
   {
    "duration": 217,
    "start_time": "2024-01-28T19:23:52.214Z"
   },
   {
    "duration": 8,
    "start_time": "2024-01-28T19:23:52.433Z"
   },
   {
    "duration": 8,
    "start_time": "2024-01-28T19:23:52.442Z"
   },
   {
    "duration": 18,
    "start_time": "2024-01-28T19:23:52.451Z"
   },
   {
    "duration": 5,
    "start_time": "2024-01-28T19:23:52.470Z"
   },
   {
    "duration": 13,
    "start_time": "2024-01-28T19:23:52.476Z"
   },
   {
    "duration": 21,
    "start_time": "2024-01-28T19:23:52.491Z"
   },
   {
    "duration": 8,
    "start_time": "2024-01-28T19:23:52.514Z"
   },
   {
    "duration": 10,
    "start_time": "2024-01-28T19:23:52.524Z"
   },
   {
    "duration": 9,
    "start_time": "2024-01-28T19:23:52.536Z"
   },
   {
    "duration": 6,
    "start_time": "2024-01-28T19:23:52.547Z"
   },
   {
    "duration": 27,
    "start_time": "2024-01-28T19:23:52.555Z"
   },
   {
    "duration": 10,
    "start_time": "2024-01-28T19:23:52.584Z"
   },
   {
    "duration": 14,
    "start_time": "2024-01-28T19:23:52.595Z"
   },
   {
    "duration": 7,
    "start_time": "2024-01-28T19:23:52.610Z"
   },
   {
    "duration": 210,
    "start_time": "2024-01-28T19:23:52.621Z"
   },
   {
    "duration": 10,
    "start_time": "2024-01-28T19:23:52.833Z"
   },
   {
    "duration": 321,
    "start_time": "2024-01-28T19:23:52.844Z"
   },
   {
    "duration": 2,
    "start_time": "2024-01-28T19:23:53.167Z"
   },
   {
    "duration": 170,
    "start_time": "2024-01-28T19:23:53.171Z"
   },
   {
    "duration": 30,
    "start_time": "2024-01-28T19:23:53.342Z"
   },
   {
    "duration": 368,
    "start_time": "2024-01-28T19:23:53.374Z"
   },
   {
    "duration": 370,
    "start_time": "2024-01-28T19:23:53.743Z"
   },
   {
    "duration": 299,
    "start_time": "2024-01-28T19:23:54.114Z"
   },
   {
    "duration": 520,
    "start_time": "2024-01-28T19:23:54.414Z"
   },
   {
    "duration": 5,
    "start_time": "2024-01-28T19:23:54.936Z"
   },
   {
    "duration": 1034,
    "start_time": "2024-01-28T19:23:54.943Z"
   },
   {
    "duration": 5,
    "start_time": "2024-01-28T19:23:55.979Z"
   },
   {
    "duration": 6,
    "start_time": "2024-01-28T19:23:55.985Z"
   },
   {
    "duration": 213,
    "start_time": "2024-01-28T19:23:55.993Z"
   },
   {
    "duration": 5,
    "start_time": "2024-01-28T19:23:56.208Z"
   },
   {
    "duration": 207,
    "start_time": "2024-01-28T19:23:56.214Z"
   },
   {
    "duration": 330,
    "start_time": "2024-01-28T19:23:56.423Z"
   },
   {
    "duration": 383,
    "start_time": "2024-01-28T19:23:56.757Z"
   },
   {
    "duration": 113,
    "start_time": "2024-01-28T19:23:57.142Z"
   },
   {
    "duration": 0,
    "start_time": "2024-01-28T19:23:57.257Z"
   },
   {
    "duration": 0,
    "start_time": "2024-01-28T19:23:57.258Z"
   },
   {
    "duration": 0,
    "start_time": "2024-01-28T19:23:57.265Z"
   },
   {
    "duration": 0,
    "start_time": "2024-01-28T19:23:57.266Z"
   },
   {
    "duration": 0,
    "start_time": "2024-01-28T19:23:57.268Z"
   },
   {
    "duration": 0,
    "start_time": "2024-01-28T19:23:57.268Z"
   },
   {
    "duration": 0,
    "start_time": "2024-01-28T19:23:57.269Z"
   },
   {
    "duration": 11,
    "start_time": "2024-01-28T19:24:09.309Z"
   },
   {
    "duration": 10,
    "start_time": "2024-01-28T19:24:10.475Z"
   },
   {
    "duration": 4,
    "start_time": "2024-01-28T19:24:12.835Z"
   },
   {
    "duration": 658,
    "start_time": "2024-01-28T19:24:59.881Z"
   },
   {
    "duration": 570,
    "start_time": "2024-01-28T19:25:34.321Z"
   },
   {
    "duration": 3,
    "start_time": "2024-01-28T19:25:47.810Z"
   },
   {
    "duration": 1141,
    "start_time": "2024-01-28T19:25:47.824Z"
   },
   {
    "duration": 56,
    "start_time": "2024-01-28T19:25:48.967Z"
   },
   {
    "duration": 14,
    "start_time": "2024-01-28T19:25:49.024Z"
   },
   {
    "duration": 21,
    "start_time": "2024-01-28T19:25:49.040Z"
   },
   {
    "duration": 2,
    "start_time": "2024-01-28T19:25:49.063Z"
   },
   {
    "duration": 8,
    "start_time": "2024-01-28T19:25:49.067Z"
   },
   {
    "duration": 32,
    "start_time": "2024-01-28T19:25:49.077Z"
   },
   {
    "duration": 6,
    "start_time": "2024-01-28T19:25:49.110Z"
   },
   {
    "duration": 29,
    "start_time": "2024-01-28T19:25:49.117Z"
   },
   {
    "duration": 7,
    "start_time": "2024-01-28T19:25:49.149Z"
   },
   {
    "duration": 9,
    "start_time": "2024-01-28T19:25:49.157Z"
   },
   {
    "duration": 18,
    "start_time": "2024-01-28T19:25:49.167Z"
   },
   {
    "duration": 223,
    "start_time": "2024-01-28T19:25:49.187Z"
   },
   {
    "duration": 8,
    "start_time": "2024-01-28T19:25:49.412Z"
   },
   {
    "duration": 5,
    "start_time": "2024-01-28T19:25:49.422Z"
   },
   {
    "duration": 6,
    "start_time": "2024-01-28T19:25:49.429Z"
   },
   {
    "duration": 29,
    "start_time": "2024-01-28T19:25:49.436Z"
   },
   {
    "duration": 6,
    "start_time": "2024-01-28T19:25:49.467Z"
   },
   {
    "duration": 10,
    "start_time": "2024-01-28T19:25:49.474Z"
   },
   {
    "duration": 7,
    "start_time": "2024-01-28T19:25:49.486Z"
   },
   {
    "duration": 8,
    "start_time": "2024-01-28T19:25:49.494Z"
   },
   {
    "duration": 11,
    "start_time": "2024-01-28T19:25:49.503Z"
   },
   {
    "duration": 5,
    "start_time": "2024-01-28T19:25:49.515Z"
   },
   {
    "duration": 18,
    "start_time": "2024-01-28T19:25:49.522Z"
   },
   {
    "duration": 10,
    "start_time": "2024-01-28T19:25:49.565Z"
   },
   {
    "duration": 17,
    "start_time": "2024-01-28T19:25:49.577Z"
   },
   {
    "duration": 5,
    "start_time": "2024-01-28T19:25:49.596Z"
   },
   {
    "duration": 182,
    "start_time": "2024-01-28T19:25:49.605Z"
   },
   {
    "duration": 11,
    "start_time": "2024-01-28T19:25:49.788Z"
   },
   {
    "duration": 337,
    "start_time": "2024-01-28T19:25:49.801Z"
   },
   {
    "duration": 3,
    "start_time": "2024-01-28T19:25:50.139Z"
   },
   {
    "duration": 172,
    "start_time": "2024-01-28T19:25:50.144Z"
   },
   {
    "duration": 23,
    "start_time": "2024-01-28T19:25:50.317Z"
   },
   {
    "duration": 384,
    "start_time": "2024-01-28T19:25:50.342Z"
   },
   {
    "duration": 363,
    "start_time": "2024-01-28T19:25:50.728Z"
   },
   {
    "duration": 287,
    "start_time": "2024-01-28T19:25:51.092Z"
   },
   {
    "duration": 525,
    "start_time": "2024-01-28T19:25:51.380Z"
   },
   {
    "duration": 6,
    "start_time": "2024-01-28T19:25:51.906Z"
   },
   {
    "duration": 1035,
    "start_time": "2024-01-28T19:25:51.913Z"
   },
   {
    "duration": 17,
    "start_time": "2024-01-28T19:25:52.949Z"
   },
   {
    "duration": 14,
    "start_time": "2024-01-28T19:25:52.967Z"
   },
   {
    "duration": 196,
    "start_time": "2024-01-28T19:25:52.982Z"
   },
   {
    "duration": 5,
    "start_time": "2024-01-28T19:25:53.180Z"
   },
   {
    "duration": 216,
    "start_time": "2024-01-28T19:25:53.187Z"
   },
   {
    "duration": 321,
    "start_time": "2024-01-28T19:25:53.404Z"
   },
   {
    "duration": 370,
    "start_time": "2024-01-28T19:25:53.727Z"
   },
   {
    "duration": 116,
    "start_time": "2024-01-28T19:25:54.099Z"
   },
   {
    "duration": 0,
    "start_time": "2024-01-28T19:25:54.217Z"
   },
   {
    "duration": 0,
    "start_time": "2024-01-28T19:25:54.219Z"
   },
   {
    "duration": 0,
    "start_time": "2024-01-28T19:25:54.220Z"
   },
   {
    "duration": 0,
    "start_time": "2024-01-28T19:25:54.222Z"
   },
   {
    "duration": 0,
    "start_time": "2024-01-28T19:25:54.223Z"
   },
   {
    "duration": 0,
    "start_time": "2024-01-28T19:25:54.224Z"
   },
   {
    "duration": 0,
    "start_time": "2024-01-28T19:25:54.226Z"
   },
   {
    "duration": 658,
    "start_time": "2024-01-28T19:38:22.074Z"
   },
   {
    "duration": 648,
    "start_time": "2024-01-28T19:41:11.839Z"
   },
   {
    "duration": 3,
    "start_time": "2024-01-28T19:41:16.870Z"
   },
   {
    "duration": 1172,
    "start_time": "2024-01-28T19:41:16.884Z"
   },
   {
    "duration": 56,
    "start_time": "2024-01-28T19:41:18.058Z"
   },
   {
    "duration": 14,
    "start_time": "2024-01-28T19:41:18.115Z"
   },
   {
    "duration": 23,
    "start_time": "2024-01-28T19:41:18.131Z"
   },
   {
    "duration": 3,
    "start_time": "2024-01-28T19:41:18.156Z"
   },
   {
    "duration": 10,
    "start_time": "2024-01-28T19:41:18.160Z"
   },
   {
    "duration": 18,
    "start_time": "2024-01-28T19:41:18.172Z"
   },
   {
    "duration": 10,
    "start_time": "2024-01-28T19:41:18.191Z"
   },
   {
    "duration": 23,
    "start_time": "2024-01-28T19:41:18.203Z"
   },
   {
    "duration": 6,
    "start_time": "2024-01-28T19:41:18.228Z"
   },
   {
    "duration": 13,
    "start_time": "2024-01-28T19:41:18.235Z"
   },
   {
    "duration": 8,
    "start_time": "2024-01-28T19:41:18.250Z"
   },
   {
    "duration": 232,
    "start_time": "2024-01-28T19:41:18.259Z"
   },
   {
    "duration": 8,
    "start_time": "2024-01-28T19:41:18.492Z"
   },
   {
    "duration": 11,
    "start_time": "2024-01-28T19:41:18.501Z"
   },
   {
    "duration": 7,
    "start_time": "2024-01-28T19:41:18.514Z"
   },
   {
    "duration": 5,
    "start_time": "2024-01-28T19:41:18.522Z"
   },
   {
    "duration": 9,
    "start_time": "2024-01-28T19:41:18.528Z"
   },
   {
    "duration": 26,
    "start_time": "2024-01-28T19:41:18.539Z"
   },
   {
    "duration": 4,
    "start_time": "2024-01-28T19:41:18.567Z"
   },
   {
    "duration": 9,
    "start_time": "2024-01-28T19:41:18.573Z"
   },
   {
    "duration": 10,
    "start_time": "2024-01-28T19:41:18.584Z"
   },
   {
    "duration": 6,
    "start_time": "2024-01-28T19:41:18.596Z"
   },
   {
    "duration": 19,
    "start_time": "2024-01-28T19:41:18.604Z"
   },
   {
    "duration": 9,
    "start_time": "2024-01-28T19:41:18.624Z"
   },
   {
    "duration": 45,
    "start_time": "2024-01-28T19:41:18.634Z"
   },
   {
    "duration": 6,
    "start_time": "2024-01-28T19:41:18.680Z"
   },
   {
    "duration": 176,
    "start_time": "2024-01-28T19:41:18.690Z"
   },
   {
    "duration": 11,
    "start_time": "2024-01-28T19:41:18.868Z"
   },
   {
    "duration": 328,
    "start_time": "2024-01-28T19:41:18.880Z"
   },
   {
    "duration": 3,
    "start_time": "2024-01-28T19:41:19.209Z"
   },
   {
    "duration": 172,
    "start_time": "2024-01-28T19:41:19.213Z"
   },
   {
    "duration": 22,
    "start_time": "2024-01-28T19:41:19.387Z"
   },
   {
    "duration": 386,
    "start_time": "2024-01-28T19:41:19.411Z"
   },
   {
    "duration": 369,
    "start_time": "2024-01-28T19:41:19.799Z"
   },
   {
    "duration": 280,
    "start_time": "2024-01-28T19:41:20.170Z"
   },
   {
    "duration": 546,
    "start_time": "2024-01-28T19:41:20.452Z"
   },
   {
    "duration": 8,
    "start_time": "2024-01-28T19:41:21.000Z"
   },
   {
    "duration": 1022,
    "start_time": "2024-01-28T19:41:21.010Z"
   },
   {
    "duration": 5,
    "start_time": "2024-01-28T19:41:22.034Z"
   },
   {
    "duration": 12,
    "start_time": "2024-01-28T19:41:22.040Z"
   },
   {
    "duration": 195,
    "start_time": "2024-01-28T19:41:22.053Z"
   },
   {
    "duration": 5,
    "start_time": "2024-01-28T19:41:22.249Z"
   },
   {
    "duration": 216,
    "start_time": "2024-01-28T19:41:22.255Z"
   },
   {
    "duration": 323,
    "start_time": "2024-01-28T19:41:22.473Z"
   },
   {
    "duration": 371,
    "start_time": "2024-01-28T19:41:22.798Z"
   },
   {
    "duration": 600,
    "start_time": "2024-01-28T19:41:23.171Z"
   },
   {
    "duration": 639,
    "start_time": "2024-01-28T19:41:23.772Z"
   },
   {
    "duration": 188,
    "start_time": "2024-01-28T19:41:24.412Z"
   },
   {
    "duration": 11,
    "start_time": "2024-01-28T19:41:24.602Z"
   },
   {
    "duration": 15,
    "start_time": "2024-01-28T19:41:24.614Z"
   },
   {
    "duration": 16,
    "start_time": "2024-01-28T19:41:24.631Z"
   },
   {
    "duration": 24,
    "start_time": "2024-01-28T19:41:24.648Z"
   },
   {
    "duration": 6,
    "start_time": "2024-01-28T19:41:24.674Z"
   },
   {
    "duration": 193,
    "start_time": "2024-01-28T19:41:59.241Z"
   },
   {
    "duration": 6,
    "start_time": "2024-01-28T19:50:02.708Z"
   },
   {
    "duration": 5,
    "start_time": "2024-01-28T19:50:43.121Z"
   },
   {
    "duration": 3,
    "start_time": "2024-01-28T19:50:53.709Z"
   },
   {
    "duration": 1160,
    "start_time": "2024-01-28T19:50:53.718Z"
   },
   {
    "duration": 56,
    "start_time": "2024-01-28T19:50:54.880Z"
   },
   {
    "duration": 14,
    "start_time": "2024-01-28T19:50:54.938Z"
   },
   {
    "duration": 19,
    "start_time": "2024-01-28T19:50:54.955Z"
   },
   {
    "duration": 3,
    "start_time": "2024-01-28T19:50:54.976Z"
   },
   {
    "duration": 5,
    "start_time": "2024-01-28T19:50:54.980Z"
   },
   {
    "duration": 6,
    "start_time": "2024-01-28T19:50:54.987Z"
   },
   {
    "duration": 9,
    "start_time": "2024-01-28T19:50:54.994Z"
   },
   {
    "duration": 16,
    "start_time": "2024-01-28T19:50:55.004Z"
   },
   {
    "duration": 12,
    "start_time": "2024-01-28T19:50:55.023Z"
   },
   {
    "duration": 8,
    "start_time": "2024-01-28T19:50:55.036Z"
   },
   {
    "duration": 25,
    "start_time": "2024-01-28T19:50:55.046Z"
   },
   {
    "duration": 224,
    "start_time": "2024-01-28T19:50:55.072Z"
   },
   {
    "duration": 10,
    "start_time": "2024-01-28T19:50:55.298Z"
   },
   {
    "duration": 8,
    "start_time": "2024-01-28T19:50:55.310Z"
   },
   {
    "duration": 18,
    "start_time": "2024-01-28T19:50:55.320Z"
   },
   {
    "duration": 4,
    "start_time": "2024-01-28T19:50:55.341Z"
   },
   {
    "duration": 22,
    "start_time": "2024-01-28T19:50:55.347Z"
   },
   {
    "duration": 7,
    "start_time": "2024-01-28T19:50:55.371Z"
   },
   {
    "duration": 6,
    "start_time": "2024-01-28T19:50:55.379Z"
   },
   {
    "duration": 9,
    "start_time": "2024-01-28T19:50:55.386Z"
   },
   {
    "duration": 9,
    "start_time": "2024-01-28T19:50:55.397Z"
   },
   {
    "duration": 6,
    "start_time": "2024-01-28T19:50:55.408Z"
   },
   {
    "duration": 50,
    "start_time": "2024-01-28T19:50:55.416Z"
   },
   {
    "duration": 9,
    "start_time": "2024-01-28T19:50:55.468Z"
   },
   {
    "duration": 13,
    "start_time": "2024-01-28T19:50:55.479Z"
   },
   {
    "duration": 9,
    "start_time": "2024-01-28T19:50:55.494Z"
   },
   {
    "duration": 194,
    "start_time": "2024-01-28T19:50:55.507Z"
   },
   {
    "duration": 12,
    "start_time": "2024-01-28T19:50:55.702Z"
   },
   {
    "duration": 392,
    "start_time": "2024-01-28T19:50:55.715Z"
   },
   {
    "duration": 3,
    "start_time": "2024-01-28T19:50:56.109Z"
   },
   {
    "duration": 182,
    "start_time": "2024-01-28T19:50:56.114Z"
   },
   {
    "duration": 25,
    "start_time": "2024-01-28T19:50:56.297Z"
   },
   {
    "duration": 399,
    "start_time": "2024-01-28T19:50:56.323Z"
   },
   {
    "duration": 381,
    "start_time": "2024-01-28T19:50:56.723Z"
   },
   {
    "duration": 286,
    "start_time": "2024-01-28T19:50:57.105Z"
   },
   {
    "duration": 527,
    "start_time": "2024-01-28T19:50:57.392Z"
   },
   {
    "duration": 5,
    "start_time": "2024-01-28T19:50:57.921Z"
   },
   {
    "duration": 985,
    "start_time": "2024-01-28T19:50:57.927Z"
   },
   {
    "duration": 5,
    "start_time": "2024-01-28T19:50:58.914Z"
   },
   {
    "duration": 7,
    "start_time": "2024-01-28T19:50:58.920Z"
   },
   {
    "duration": 194,
    "start_time": "2024-01-28T19:50:58.929Z"
   },
   {
    "duration": 5,
    "start_time": "2024-01-28T19:50:59.124Z"
   },
   {
    "duration": 207,
    "start_time": "2024-01-28T19:50:59.130Z"
   },
   {
    "duration": 337,
    "start_time": "2024-01-28T19:50:59.338Z"
   },
   {
    "duration": 376,
    "start_time": "2024-01-28T19:50:59.676Z"
   },
   {
    "duration": 630,
    "start_time": "2024-01-28T19:51:00.054Z"
   },
   {
    "duration": 653,
    "start_time": "2024-01-28T19:51:00.686Z"
   },
   {
    "duration": 189,
    "start_time": "2024-01-28T19:51:01.341Z"
   },
   {
    "duration": 11,
    "start_time": "2024-01-28T19:51:01.531Z"
   },
   {
    "duration": 32,
    "start_time": "2024-01-28T19:51:01.543Z"
   },
   {
    "duration": 24,
    "start_time": "2024-01-28T19:51:01.577Z"
   },
   {
    "duration": 33,
    "start_time": "2024-01-28T19:51:01.602Z"
   },
   {
    "duration": 5,
    "start_time": "2024-01-28T19:51:01.637Z"
   },
   {
    "duration": 4,
    "start_time": "2024-01-28T19:56:56.194Z"
   },
   {
    "duration": 1197,
    "start_time": "2024-01-28T19:56:56.209Z"
   },
   {
    "duration": 56,
    "start_time": "2024-01-28T19:56:57.408Z"
   },
   {
    "duration": 13,
    "start_time": "2024-01-28T19:56:57.466Z"
   },
   {
    "duration": 23,
    "start_time": "2024-01-28T19:56:57.481Z"
   },
   {
    "duration": 3,
    "start_time": "2024-01-28T19:56:57.506Z"
   },
   {
    "duration": 5,
    "start_time": "2024-01-28T19:56:57.510Z"
   },
   {
    "duration": 7,
    "start_time": "2024-01-28T19:56:57.517Z"
   },
   {
    "duration": 5,
    "start_time": "2024-01-28T19:56:57.525Z"
   },
   {
    "duration": 36,
    "start_time": "2024-01-28T19:56:57.531Z"
   },
   {
    "duration": 6,
    "start_time": "2024-01-28T19:56:57.569Z"
   },
   {
    "duration": 3,
    "start_time": "2024-01-28T19:56:57.577Z"
   },
   {
    "duration": 15,
    "start_time": "2024-01-28T19:56:57.582Z"
   },
   {
    "duration": 213,
    "start_time": "2024-01-28T19:56:57.598Z"
   },
   {
    "duration": 8,
    "start_time": "2024-01-28T19:56:57.812Z"
   },
   {
    "duration": 7,
    "start_time": "2024-01-28T19:56:57.821Z"
   },
   {
    "duration": 7,
    "start_time": "2024-01-28T19:56:57.829Z"
   },
   {
    "duration": 4,
    "start_time": "2024-01-28T19:56:57.837Z"
   },
   {
    "duration": 24,
    "start_time": "2024-01-28T19:56:57.842Z"
   },
   {
    "duration": 3,
    "start_time": "2024-01-28T19:56:57.867Z"
   },
   {
    "duration": 5,
    "start_time": "2024-01-28T19:56:57.872Z"
   },
   {
    "duration": 7,
    "start_time": "2024-01-28T19:56:57.879Z"
   },
   {
    "duration": 11,
    "start_time": "2024-01-28T19:56:57.887Z"
   },
   {
    "duration": 6,
    "start_time": "2024-01-28T19:56:57.899Z"
   },
   {
    "duration": 18,
    "start_time": "2024-01-28T19:56:57.907Z"
   },
   {
    "duration": 41,
    "start_time": "2024-01-28T19:56:57.926Z"
   },
   {
    "duration": 12,
    "start_time": "2024-01-28T19:56:57.969Z"
   },
   {
    "duration": 5,
    "start_time": "2024-01-28T19:56:57.982Z"
   },
   {
    "duration": 174,
    "start_time": "2024-01-28T19:56:57.991Z"
   },
   {
    "duration": 11,
    "start_time": "2024-01-28T19:56:58.167Z"
   },
   {
    "duration": 341,
    "start_time": "2024-01-28T19:56:58.179Z"
   },
   {
    "duration": 2,
    "start_time": "2024-01-28T19:56:58.522Z"
   },
   {
    "duration": 194,
    "start_time": "2024-01-28T19:56:58.525Z"
   },
   {
    "duration": 23,
    "start_time": "2024-01-28T19:56:58.720Z"
   },
   {
    "duration": 370,
    "start_time": "2024-01-28T19:56:58.744Z"
   },
   {
    "duration": 350,
    "start_time": "2024-01-28T19:56:59.116Z"
   },
   {
    "duration": 293,
    "start_time": "2024-01-28T19:56:59.468Z"
   },
   {
    "duration": 544,
    "start_time": "2024-01-28T19:56:59.763Z"
   },
   {
    "duration": 6,
    "start_time": "2024-01-28T19:57:00.309Z"
   },
   {
    "duration": 1144,
    "start_time": "2024-01-28T19:57:00.317Z"
   },
   {
    "duration": 6,
    "start_time": "2024-01-28T19:57:01.462Z"
   },
   {
    "duration": 32,
    "start_time": "2024-01-28T19:57:01.470Z"
   },
   {
    "duration": 200,
    "start_time": "2024-01-28T19:57:01.504Z"
   },
   {
    "duration": 4,
    "start_time": "2024-01-28T19:57:01.706Z"
   },
   {
    "duration": 200,
    "start_time": "2024-01-28T19:57:01.712Z"
   },
   {
    "duration": 305,
    "start_time": "2024-01-28T19:57:01.914Z"
   },
   {
    "duration": 390,
    "start_time": "2024-01-28T19:57:02.221Z"
   },
   {
    "duration": 602,
    "start_time": "2024-01-28T19:57:02.613Z"
   },
   {
    "duration": 658,
    "start_time": "2024-01-28T19:57:03.217Z"
   },
   {
    "duration": 200,
    "start_time": "2024-01-28T19:57:03.877Z"
   },
   {
    "duration": 12,
    "start_time": "2024-01-28T19:57:04.078Z"
   },
   {
    "duration": 27,
    "start_time": "2024-01-28T19:57:04.092Z"
   },
   {
    "duration": 6,
    "start_time": "2024-01-28T19:57:04.120Z"
   },
   {
    "duration": 15,
    "start_time": "2024-01-28T19:57:04.127Z"
   },
   {
    "duration": 6,
    "start_time": "2024-01-28T19:57:04.143Z"
   },
   {
    "duration": 5,
    "start_time": "2024-01-28T19:57:18.627Z"
   },
   {
    "duration": 7,
    "start_time": "2024-01-28T21:28:35.100Z"
   },
   {
    "duration": 1197,
    "start_time": "2024-01-28T21:28:35.110Z"
   },
   {
    "duration": 178,
    "start_time": "2024-01-28T21:28:36.309Z"
   },
   {
    "duration": 20,
    "start_time": "2024-01-28T21:28:36.488Z"
   },
   {
    "duration": 20,
    "start_time": "2024-01-28T21:28:36.510Z"
   },
   {
    "duration": 3,
    "start_time": "2024-01-28T21:28:36.532Z"
   },
   {
    "duration": 17,
    "start_time": "2024-01-28T21:28:36.536Z"
   },
   {
    "duration": 6,
    "start_time": "2024-01-28T21:28:36.554Z"
   },
   {
    "duration": 5,
    "start_time": "2024-01-28T21:28:36.561Z"
   },
   {
    "duration": 12,
    "start_time": "2024-01-28T21:28:36.568Z"
   },
   {
    "duration": 6,
    "start_time": "2024-01-28T21:28:36.593Z"
   },
   {
    "duration": 7,
    "start_time": "2024-01-28T21:28:36.601Z"
   },
   {
    "duration": 7,
    "start_time": "2024-01-28T21:28:36.609Z"
   },
   {
    "duration": 245,
    "start_time": "2024-01-28T21:28:36.618Z"
   },
   {
    "duration": 8,
    "start_time": "2024-01-28T21:28:36.866Z"
   },
   {
    "duration": 7,
    "start_time": "2024-01-28T21:28:36.875Z"
   },
   {
    "duration": 11,
    "start_time": "2024-01-28T21:28:36.883Z"
   },
   {
    "duration": 9,
    "start_time": "2024-01-28T21:28:36.896Z"
   },
   {
    "duration": 15,
    "start_time": "2024-01-28T21:28:36.907Z"
   },
   {
    "duration": 12,
    "start_time": "2024-01-28T21:28:36.924Z"
   },
   {
    "duration": 5,
    "start_time": "2024-01-28T21:28:36.937Z"
   },
   {
    "duration": 9,
    "start_time": "2024-01-28T21:28:36.943Z"
   },
   {
    "duration": 10,
    "start_time": "2024-01-28T21:28:36.953Z"
   },
   {
    "duration": 6,
    "start_time": "2024-01-28T21:28:36.965Z"
   },
   {
    "duration": 37,
    "start_time": "2024-01-28T21:28:36.972Z"
   },
   {
    "duration": 9,
    "start_time": "2024-01-28T21:28:37.010Z"
   },
   {
    "duration": 12,
    "start_time": "2024-01-28T21:28:37.020Z"
   },
   {
    "duration": 9,
    "start_time": "2024-01-28T21:28:37.033Z"
   },
   {
    "duration": 193,
    "start_time": "2024-01-28T21:28:37.044Z"
   },
   {
    "duration": 13,
    "start_time": "2024-01-28T21:28:37.238Z"
   },
   {
    "duration": 381,
    "start_time": "2024-01-28T21:28:37.252Z"
   },
   {
    "duration": 2,
    "start_time": "2024-01-28T21:28:37.635Z"
   },
   {
    "duration": 184,
    "start_time": "2024-01-28T21:28:37.639Z"
   },
   {
    "duration": 21,
    "start_time": "2024-01-28T21:28:37.825Z"
   },
   {
    "duration": 389,
    "start_time": "2024-01-28T21:28:37.848Z"
   },
   {
    "duration": 393,
    "start_time": "2024-01-28T21:28:38.239Z"
   },
   {
    "duration": 314,
    "start_time": "2024-01-28T21:28:38.633Z"
   },
   {
    "duration": 583,
    "start_time": "2024-01-28T21:28:38.948Z"
   },
   {
    "duration": 5,
    "start_time": "2024-01-28T21:28:39.533Z"
   },
   {
    "duration": 1025,
    "start_time": "2024-01-28T21:28:39.540Z"
   },
   {
    "duration": 5,
    "start_time": "2024-01-28T21:28:40.567Z"
   },
   {
    "duration": 5,
    "start_time": "2024-01-28T21:28:40.576Z"
   },
   {
    "duration": 212,
    "start_time": "2024-01-28T21:28:40.595Z"
   },
   {
    "duration": 6,
    "start_time": "2024-01-28T21:28:40.809Z"
   },
   {
    "duration": 211,
    "start_time": "2024-01-28T21:28:40.816Z"
   },
   {
    "duration": 335,
    "start_time": "2024-01-28T21:28:41.029Z"
   },
   {
    "duration": 399,
    "start_time": "2024-01-28T21:28:41.366Z"
   },
   {
    "duration": 627,
    "start_time": "2024-01-28T21:28:41.767Z"
   },
   {
    "duration": 678,
    "start_time": "2024-01-28T21:28:42.396Z"
   },
   {
    "duration": 199,
    "start_time": "2024-01-28T21:28:43.075Z"
   },
   {
    "duration": 10,
    "start_time": "2024-01-28T21:28:43.276Z"
   },
   {
    "duration": 31,
    "start_time": "2024-01-28T21:28:43.288Z"
   },
   {
    "duration": 13,
    "start_time": "2024-01-28T21:28:43.320Z"
   },
   {
    "duration": 24,
    "start_time": "2024-01-28T21:28:43.334Z"
   },
   {
    "duration": 5,
    "start_time": "2024-01-28T21:28:43.360Z"
   },
   {
    "duration": 4,
    "start_time": "2024-01-28T21:35:07.133Z"
   },
   {
    "duration": 1092,
    "start_time": "2024-01-28T21:35:07.139Z"
   },
   {
    "duration": 53,
    "start_time": "2024-01-28T21:35:08.233Z"
   },
   {
    "duration": 14,
    "start_time": "2024-01-28T21:35:08.287Z"
   },
   {
    "duration": 17,
    "start_time": "2024-01-28T21:35:08.303Z"
   },
   {
    "duration": 2,
    "start_time": "2024-01-28T21:35:08.322Z"
   },
   {
    "duration": 11,
    "start_time": "2024-01-28T21:35:08.325Z"
   },
   {
    "duration": 12,
    "start_time": "2024-01-28T21:35:08.337Z"
   },
   {
    "duration": 4,
    "start_time": "2024-01-28T21:35:08.351Z"
   },
   {
    "duration": 14,
    "start_time": "2024-01-28T21:35:08.356Z"
   },
   {
    "duration": 6,
    "start_time": "2024-01-28T21:35:08.372Z"
   },
   {
    "duration": 18,
    "start_time": "2024-01-28T21:35:08.380Z"
   },
   {
    "duration": 7,
    "start_time": "2024-01-28T21:35:08.400Z"
   },
   {
    "duration": 229,
    "start_time": "2024-01-28T21:35:08.409Z"
   },
   {
    "duration": 8,
    "start_time": "2024-01-28T21:35:08.639Z"
   },
   {
    "duration": 19,
    "start_time": "2024-01-28T21:35:08.648Z"
   },
   {
    "duration": 6,
    "start_time": "2024-01-28T21:35:08.669Z"
   },
   {
    "duration": 4,
    "start_time": "2024-01-28T21:35:08.676Z"
   },
   {
    "duration": 14,
    "start_time": "2024-01-28T21:35:08.681Z"
   },
   {
    "duration": 3,
    "start_time": "2024-01-28T21:35:08.696Z"
   },
   {
    "duration": 6,
    "start_time": "2024-01-28T21:35:08.700Z"
   },
   {
    "duration": 21,
    "start_time": "2024-01-28T21:35:08.707Z"
   },
   {
    "duration": 23,
    "start_time": "2024-01-28T21:35:08.730Z"
   },
   {
    "duration": 29,
    "start_time": "2024-01-28T21:35:08.754Z"
   },
   {
    "duration": 52,
    "start_time": "2024-01-28T21:35:08.784Z"
   },
   {
    "duration": 28,
    "start_time": "2024-01-28T21:35:08.838Z"
   },
   {
    "duration": 26,
    "start_time": "2024-01-28T21:35:08.867Z"
   },
   {
    "duration": 41,
    "start_time": "2024-01-28T21:35:08.895Z"
   },
   {
    "duration": 173,
    "start_time": "2024-01-28T21:35:08.940Z"
   },
   {
    "duration": 10,
    "start_time": "2024-01-28T21:35:09.115Z"
   },
   {
    "duration": 359,
    "start_time": "2024-01-28T21:35:09.127Z"
   },
   {
    "duration": 2,
    "start_time": "2024-01-28T21:35:09.488Z"
   },
   {
    "duration": 185,
    "start_time": "2024-01-28T21:35:09.492Z"
   },
   {
    "duration": 27,
    "start_time": "2024-01-28T21:35:09.678Z"
   },
   {
    "duration": 401,
    "start_time": "2024-01-28T21:35:09.706Z"
   },
   {
    "duration": 361,
    "start_time": "2024-01-28T21:35:10.109Z"
   },
   {
    "duration": 294,
    "start_time": "2024-01-28T21:35:10.471Z"
   },
   {
    "duration": 534,
    "start_time": "2024-01-28T21:35:10.766Z"
   },
   {
    "duration": 6,
    "start_time": "2024-01-28T21:35:11.302Z"
   },
   {
    "duration": 1039,
    "start_time": "2024-01-28T21:35:11.310Z"
   },
   {
    "duration": 6,
    "start_time": "2024-01-28T21:35:12.351Z"
   },
   {
    "duration": 16,
    "start_time": "2024-01-28T21:35:12.358Z"
   },
   {
    "duration": 205,
    "start_time": "2024-01-28T21:35:12.375Z"
   },
   {
    "duration": 5,
    "start_time": "2024-01-28T21:35:12.581Z"
   },
   {
    "duration": 203,
    "start_time": "2024-01-28T21:35:12.594Z"
   },
   {
    "duration": 314,
    "start_time": "2024-01-28T21:35:12.799Z"
   },
   {
    "duration": 370,
    "start_time": "2024-01-28T21:35:13.114Z"
   },
   {
    "duration": 642,
    "start_time": "2024-01-28T21:35:13.486Z"
   },
   {
    "duration": 648,
    "start_time": "2024-01-28T21:35:14.130Z"
   },
   {
    "duration": 195,
    "start_time": "2024-01-28T21:35:14.779Z"
   },
   {
    "duration": 18,
    "start_time": "2024-01-28T21:35:14.976Z"
   },
   {
    "duration": 11,
    "start_time": "2024-01-28T21:35:14.996Z"
   },
   {
    "duration": 81,
    "start_time": "2024-01-28T21:35:15.008Z"
   },
   {
    "duration": 103,
    "start_time": "2024-01-28T21:35:15.091Z"
   },
   {
    "duration": 31,
    "start_time": "2024-01-28T21:35:15.196Z"
   },
   {
    "duration": 72,
    "start_time": "2024-01-28T21:35:15.229Z"
   },
   {
    "duration": 2,
    "start_time": "2024-01-28T21:35:15.303Z"
   },
   {
    "duration": 17,
    "start_time": "2024-01-28T21:35:15.307Z"
   },
   {
    "duration": 21,
    "start_time": "2024-01-28T21:35:15.326Z"
   },
   {
    "duration": 33,
    "start_time": "2024-01-28T21:35:15.349Z"
   },
   {
    "duration": 9,
    "start_time": "2024-01-28T21:35:15.383Z"
   },
   {
    "duration": 10,
    "start_time": "2024-01-28T21:35:15.393Z"
   },
   {
    "duration": 659,
    "start_time": "2024-01-28T21:35:15.404Z"
   },
   {
    "duration": 579,
    "start_time": "2024-01-28T21:35:16.064Z"
   },
   {
    "duration": 696,
    "start_time": "2024-01-28T21:35:16.644Z"
   },
   {
    "duration": 613,
    "start_time": "2024-01-28T21:35:29.341Z"
   },
   {
    "duration": 614,
    "start_time": "2024-01-28T21:35:35.171Z"
   },
   {
    "duration": 61,
    "start_time": "2024-01-29T06:30:33.794Z"
   }
  ],
  "kernelspec": {
   "display_name": "Python 3 (ipykernel)",
   "language": "python",
   "name": "python3"
  },
  "language_info": {
   "codemirror_mode": {
    "name": "ipython",
    "version": 3
   },
   "file_extension": ".py",
   "mimetype": "text/x-python",
   "name": "python",
   "nbconvert_exporter": "python",
   "pygments_lexer": "ipython3",
   "version": "3.9.5"
  },
  "toc": {
   "base_numbering": 1,
   "nav_menu": {},
   "number_sections": true,
   "sideBar": true,
   "skip_h1_title": true,
   "title_cell": "Table of Contents",
   "title_sidebar": "Contents",
   "toc_cell": false,
   "toc_position": {},
   "toc_section_display": true,
   "toc_window_display": true
  }
 },
 "nbformat": 4,
 "nbformat_minor": 5
}
