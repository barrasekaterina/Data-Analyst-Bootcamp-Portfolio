{
 "cells": [
  {
   "cell_type": "markdown",
   "id": "bd3b3d7c",
   "metadata": {},
   "source": [
    "# Проект: Статистический анализ данных"
   ]
  },
  {
   "cell_type": "markdown",
   "id": "02ccf3a3",
   "metadata": {},
   "source": [
    "Вы аналитик популярного сервиса аренды самокатов GoFast. Вам передали данные о некоторых пользователях из нескольких городов, а также об их поездках. Проанализируйте данные и проверьте некоторые гипотезы, которые могут помочь бизнесу вырасти.\n",
    "Чтобы совершать поездки по городу, пользователи сервиса GoFast пользуются мобильным приложением. Сервисом можно пользоваться:\n",
    "\n",
    "- без подписки\n",
    " - абонентская плата отсутствует;\n",
    " - стоимость одной минуты поездки — 8 рублей;\n",
    " - стоимость старта (начала поездки) — 50 рублей;\n",
    "\n",
    "- с подпиской Ultra\n",
    " - абонентская плата — 199 рублей в месяц;\n",
    " - стоимость одной минуты поездки — 6 рублей;\n",
    " - стоимость старта — бесплатно.\n"
   ]
  },
  {
   "cell_type": "markdown",
   "id": "c42cbe00",
   "metadata": {},
   "source": [
    "#### Шаг 1. Загрузка данных"
   ]
  },
  {
   "cell_type": "markdown",
   "id": "98fc03ff",
   "metadata": {},
   "source": [
    "***1.1. Считайте CSV-файлы с данными с помощью библиотеки pandas и сохраните их в датафреймы. Пути к файлам:***"
   ]
  },
  {
   "cell_type": "code",
   "execution_count": 1,
   "id": "eff9f206",
   "metadata": {},
   "outputs": [],
   "source": [
    "import pandas as pd\n",
    "import matplotlib.pyplot as plt\n",
    "import numpy as np \n",
    "from scipy.stats import binom, norm\n",
    "import scipy.stats as stats\n",
    "from math import sqrt\n",
    "import seaborn as sns"
   ]
  },
  {
   "cell_type": "code",
   "execution_count": 2,
   "id": "fdbc0827",
   "metadata": {},
   "outputs": [],
   "source": [
    "data_users = pd.read_csv('/datasets/users_go.csv')  # Загрузка данных о пользователях\n",
    "data_rides = pd.read_csv('/datasets/rides_go.csv', parse_dates=['date'])  # Загрузка данных о поездках\n",
    "data_subscriptions = pd.read_csv('/datasets/subscriptions_go.csv')  # Загрузка данных о подписках"
   ]
  },
  {
   "cell_type": "markdown",
   "id": "53df33ae",
   "metadata": {},
   "source": [
    "***1.2 Выведите первые строки каждого набора данных. Изучите общую информацию о каждом датафрейме.***"
   ]
  },
  {
   "cell_type": "code",
   "execution_count": 3,
   "id": "6db18ddc",
   "metadata": {
    "scrolled": true
   },
   "outputs": [
    {
     "name": "stdout",
     "output_type": "stream",
     "text": [
      "Датасет 1:\n",
      "Первые строки датасета:\n"
     ]
    },
    {
     "data": {
      "text/html": [
       "<div>\n",
       "<style scoped>\n",
       "    .dataframe tbody tr th:only-of-type {\n",
       "        vertical-align: middle;\n",
       "    }\n",
       "\n",
       "    .dataframe tbody tr th {\n",
       "        vertical-align: top;\n",
       "    }\n",
       "\n",
       "    .dataframe thead th {\n",
       "        text-align: right;\n",
       "    }\n",
       "</style>\n",
       "<table border=\"1\" class=\"dataframe\">\n",
       "  <thead>\n",
       "    <tr style=\"text-align: right;\">\n",
       "      <th></th>\n",
       "      <th>user_id</th>\n",
       "      <th>name</th>\n",
       "      <th>age</th>\n",
       "      <th>city</th>\n",
       "      <th>subscription_type</th>\n",
       "    </tr>\n",
       "  </thead>\n",
       "  <tbody>\n",
       "    <tr>\n",
       "      <th>0</th>\n",
       "      <td>1</td>\n",
       "      <td>Кира</td>\n",
       "      <td>22</td>\n",
       "      <td>Тюмень</td>\n",
       "      <td>ultra</td>\n",
       "    </tr>\n",
       "    <tr>\n",
       "      <th>1</th>\n",
       "      <td>2</td>\n",
       "      <td>Станислав</td>\n",
       "      <td>31</td>\n",
       "      <td>Омск</td>\n",
       "      <td>ultra</td>\n",
       "    </tr>\n",
       "    <tr>\n",
       "      <th>2</th>\n",
       "      <td>3</td>\n",
       "      <td>Алексей</td>\n",
       "      <td>20</td>\n",
       "      <td>Москва</td>\n",
       "      <td>ultra</td>\n",
       "    </tr>\n",
       "    <tr>\n",
       "      <th>3</th>\n",
       "      <td>4</td>\n",
       "      <td>Константин</td>\n",
       "      <td>26</td>\n",
       "      <td>Ростов-на-Дону</td>\n",
       "      <td>ultra</td>\n",
       "    </tr>\n",
       "    <tr>\n",
       "      <th>4</th>\n",
       "      <td>5</td>\n",
       "      <td>Адель</td>\n",
       "      <td>28</td>\n",
       "      <td>Омск</td>\n",
       "      <td>ultra</td>\n",
       "    </tr>\n",
       "  </tbody>\n",
       "</table>\n",
       "</div>"
      ],
      "text/plain": [
       "   user_id        name  age            city subscription_type\n",
       "0        1        Кира   22          Тюмень             ultra\n",
       "1        2   Станислав   31            Омск             ultra\n",
       "2        3     Алексей   20          Москва             ultra\n",
       "3        4  Константин   26  Ростов-на-Дону             ultra\n",
       "4        5       Адель   28            Омск             ultra"
      ]
     },
     "metadata": {},
     "output_type": "display_data"
    },
    {
     "name": "stdout",
     "output_type": "stream",
     "text": [
      "\n",
      "Краткая информация о датасете:\n",
      "<class 'pandas.core.frame.DataFrame'>\n",
      "RangeIndex: 1565 entries, 0 to 1564\n",
      "Data columns (total 5 columns):\n",
      " #   Column             Non-Null Count  Dtype \n",
      "---  ------             --------------  ----- \n",
      " 0   user_id            1565 non-null   int64 \n",
      " 1   name               1565 non-null   object\n",
      " 2   age                1565 non-null   int64 \n",
      " 3   city               1565 non-null   object\n",
      " 4   subscription_type  1565 non-null   object\n",
      "dtypes: int64(2), object(3)\n",
      "memory usage: 61.3+ KB\n",
      "\n",
      "--------------------------------------------------\n",
      "\n",
      "Датасет 2:\n",
      "Первые строки датасета:\n"
     ]
    },
    {
     "data": {
      "text/html": [
       "<div>\n",
       "<style scoped>\n",
       "    .dataframe tbody tr th:only-of-type {\n",
       "        vertical-align: middle;\n",
       "    }\n",
       "\n",
       "    .dataframe tbody tr th {\n",
       "        vertical-align: top;\n",
       "    }\n",
       "\n",
       "    .dataframe thead th {\n",
       "        text-align: right;\n",
       "    }\n",
       "</style>\n",
       "<table border=\"1\" class=\"dataframe\">\n",
       "  <thead>\n",
       "    <tr style=\"text-align: right;\">\n",
       "      <th></th>\n",
       "      <th>user_id</th>\n",
       "      <th>distance</th>\n",
       "      <th>duration</th>\n",
       "      <th>date</th>\n",
       "    </tr>\n",
       "  </thead>\n",
       "  <tbody>\n",
       "    <tr>\n",
       "      <th>0</th>\n",
       "      <td>1</td>\n",
       "      <td>4409.919140</td>\n",
       "      <td>25.599769</td>\n",
       "      <td>2021-01-01</td>\n",
       "    </tr>\n",
       "    <tr>\n",
       "      <th>1</th>\n",
       "      <td>1</td>\n",
       "      <td>2617.592153</td>\n",
       "      <td>15.816871</td>\n",
       "      <td>2021-01-18</td>\n",
       "    </tr>\n",
       "    <tr>\n",
       "      <th>2</th>\n",
       "      <td>1</td>\n",
       "      <td>754.159807</td>\n",
       "      <td>6.232113</td>\n",
       "      <td>2021-04-20</td>\n",
       "    </tr>\n",
       "    <tr>\n",
       "      <th>3</th>\n",
       "      <td>1</td>\n",
       "      <td>2694.783254</td>\n",
       "      <td>18.511000</td>\n",
       "      <td>2021-08-11</td>\n",
       "    </tr>\n",
       "    <tr>\n",
       "      <th>4</th>\n",
       "      <td>1</td>\n",
       "      <td>4028.687306</td>\n",
       "      <td>26.265803</td>\n",
       "      <td>2021-08-28</td>\n",
       "    </tr>\n",
       "  </tbody>\n",
       "</table>\n",
       "</div>"
      ],
      "text/plain": [
       "   user_id     distance   duration       date\n",
       "0        1  4409.919140  25.599769 2021-01-01\n",
       "1        1  2617.592153  15.816871 2021-01-18\n",
       "2        1   754.159807   6.232113 2021-04-20\n",
       "3        1  2694.783254  18.511000 2021-08-11\n",
       "4        1  4028.687306  26.265803 2021-08-28"
      ]
     },
     "metadata": {},
     "output_type": "display_data"
    },
    {
     "name": "stdout",
     "output_type": "stream",
     "text": [
      "\n",
      "Краткая информация о датасете:\n",
      "<class 'pandas.core.frame.DataFrame'>\n",
      "RangeIndex: 18068 entries, 0 to 18067\n",
      "Data columns (total 4 columns):\n",
      " #   Column    Non-Null Count  Dtype         \n",
      "---  ------    --------------  -----         \n",
      " 0   user_id   18068 non-null  int64         \n",
      " 1   distance  18068 non-null  float64       \n",
      " 2   duration  18068 non-null  float64       \n",
      " 3   date      18068 non-null  datetime64[ns]\n",
      "dtypes: datetime64[ns](1), float64(2), int64(1)\n",
      "memory usage: 564.8 KB\n",
      "\n",
      "--------------------------------------------------\n",
      "\n",
      "Датасет 3:\n",
      "Первые строки датасета:\n"
     ]
    },
    {
     "data": {
      "text/html": [
       "<div>\n",
       "<style scoped>\n",
       "    .dataframe tbody tr th:only-of-type {\n",
       "        vertical-align: middle;\n",
       "    }\n",
       "\n",
       "    .dataframe tbody tr th {\n",
       "        vertical-align: top;\n",
       "    }\n",
       "\n",
       "    .dataframe thead th {\n",
       "        text-align: right;\n",
       "    }\n",
       "</style>\n",
       "<table border=\"1\" class=\"dataframe\">\n",
       "  <thead>\n",
       "    <tr style=\"text-align: right;\">\n",
       "      <th></th>\n",
       "      <th>subscription_type</th>\n",
       "      <th>minute_price</th>\n",
       "      <th>start_ride_price</th>\n",
       "      <th>subscription_fee</th>\n",
       "    </tr>\n",
       "  </thead>\n",
       "  <tbody>\n",
       "    <tr>\n",
       "      <th>0</th>\n",
       "      <td>free</td>\n",
       "      <td>8</td>\n",
       "      <td>50</td>\n",
       "      <td>0</td>\n",
       "    </tr>\n",
       "    <tr>\n",
       "      <th>1</th>\n",
       "      <td>ultra</td>\n",
       "      <td>6</td>\n",
       "      <td>0</td>\n",
       "      <td>199</td>\n",
       "    </tr>\n",
       "  </tbody>\n",
       "</table>\n",
       "</div>"
      ],
      "text/plain": [
       "  subscription_type  minute_price  start_ride_price  subscription_fee\n",
       "0              free             8                50                 0\n",
       "1             ultra             6                 0               199"
      ]
     },
     "metadata": {},
     "output_type": "display_data"
    },
    {
     "name": "stdout",
     "output_type": "stream",
     "text": [
      "\n",
      "Краткая информация о датасете:\n",
      "<class 'pandas.core.frame.DataFrame'>\n",
      "RangeIndex: 2 entries, 0 to 1\n",
      "Data columns (total 4 columns):\n",
      " #   Column             Non-Null Count  Dtype \n",
      "---  ------             --------------  ----- \n",
      " 0   subscription_type  2 non-null      object\n",
      " 1   minute_price       2 non-null      int64 \n",
      " 2   start_ride_price   2 non-null      int64 \n",
      " 3   subscription_fee   2 non-null      int64 \n",
      "dtypes: int64(3), object(1)\n",
      "memory usage: 192.0+ bytes\n",
      "\n",
      "--------------------------------------------------\n",
      "\n"
     ]
    }
   ],
   "source": [
    "# Определение функции\n",
    "def display_multiple_datasets_info(datasets):\n",
    "    for i, dataset in enumerate(datasets, start=1):\n",
    "        print(f\"Датасет {i}:\")\n",
    "        \n",
    "        print(\"Первые строки датасета:\")\n",
    "        display(dataset.head())\n",
    "\n",
    "        print(\"\\nКраткая информация о датасете:\")\n",
    "        dataset.info()\n",
    "        print(\"\\n\" + \"-\"*50 + \"\\n\")\n",
    "\n",
    "# Использование функции\n",
    "display_multiple_datasets_info([data_users, data_rides, data_subscriptions])"
   ]
  },
  {
   "cell_type": "markdown",
   "id": "4c0b2b4d",
   "metadata": {},
   "source": [
    "Основываясь на представленных данных, можно сделать следующие выводы о трех датасетах:\n",
    "\n",
    "Датасет 1:\n",
    "Общие данные: Датасет содержит информацию о 1565 пользователях.\n",
    "Структура: Состоит из пяти колонок - user_id (целочисленный тип), name, city, subscription_type (текстовые данные) и age (целочисленный тип).\n",
    "Данные: Присутствует полная информация по всем колонкам без пропусков.\n",
    "Использование памяти: 61.3 КБ, что указывает на умеренный размер датасета.\n",
    "\n",
    "Датасет 2:\n",
    "Общие данные: Содержит более обширные данные с 18068 записями.\n",
    "Структура: Включает четыре колонки - user_id (целочисленный тип), distance, duration (числа с плавающей точкой) и date (дата и время).\n",
    "Данные: Нет пропусков, все колонки полностью заполнены.\n",
    "Использование памяти: 564.8 КБ, что является более значительным размером по сравнению с первым датасетом.\n",
    "\n",
    "Датасет 3:\n",
    "Общие данные: Это очень маленький датасет всего с 2 записями, скорее всего представляющий справочную информацию.\n",
    "Структура: Состоит из четырех колонок - subscription_type (текстовые данные), minute_price, start_ride_price, subscription_fee (целочисленные значения).\n",
    "Данные: Полностью заполнен без пропусков.\n",
    "Использование памяти: Всего 192.0 байта, что является крайне малым объемом."
   ]
  },
  {
   "cell_type": "markdown",
   "id": "e95ebca7",
   "metadata": {},
   "source": [
    "#### Шаг 2. Предобработка данных"
   ]
  },
  {
   "cell_type": "markdown",
   "id": "8ca18678",
   "metadata": {},
   "source": [
    "***2.1 Приведите столбец date к типу даты pandas.***"
   ]
  },
  {
   "cell_type": "code",
   "execution_count": 4,
   "id": "437549f8",
   "metadata": {},
   "outputs": [],
   "source": [
    "# Преобразуем столбец 'date' в data_rides в тип данных даты с помощью pd.to_datetime()\n",
    "data_rides['date'] = pd.to_datetime(data_rides['date'])"
   ]
  },
  {
   "cell_type": "markdown",
   "id": "91eb9618",
   "metadata": {},
   "source": [
    "***2.2 Создайте новый столбец с номером месяца на основе столбца date.***"
   ]
  },
  {
   "cell_type": "code",
   "execution_count": 5,
   "id": "6a05b5c2",
   "metadata": {},
   "outputs": [],
   "source": [
    "# Создание столбца 'month', содержащего номера месяцев\n",
    "data_rides['month'] = data_rides['date'].dt.month"
   ]
  },
  {
   "cell_type": "code",
   "execution_count": 6,
   "id": "1617d3a4",
   "metadata": {
    "scrolled": true
   },
   "outputs": [
    {
     "name": "stdout",
     "output_type": "stream",
     "text": [
      "Период данных составляет примерно 12 месяцев.\n"
     ]
    }
   ],
   "source": [
    "# Находим самую раннюю и самую позднюю даты\n",
    "earliest_date = data_rides['date'].min()\n",
    "latest_date = data_rides['date'].max()\n",
    "\n",
    "# Расчет периода\n",
    "period = latest_date - earliest_date\n",
    "\n",
    "# Преобразование периода в месяцы\n",
    "period_in_months = period.days / 30.44\n",
    "\n",
    "# Вывод периода в месяцах\n",
    "print(f\"Период данных составляет примерно {period_in_months:.0f} месяцев.\")"
   ]
  },
  {
   "cell_type": "markdown",
   "id": "74143921",
   "metadata": {},
   "source": [
    "***2.3 Проверьте наличие пропущенных значений и дубликатов в датафреймах. Обработайте их, если такие значения присутствуют.***"
   ]
  },
  {
   "cell_type": "markdown",
   "id": "46355e1c",
   "metadata": {},
   "source": [
    "**Подсчет и вывод количества пропущенных значений**"
   ]
  },
  {
   "cell_type": "code",
   "execution_count": 7,
   "id": "e5e5c628",
   "metadata": {},
   "outputs": [
    {
     "name": "stdout",
     "output_type": "stream",
     "text": [
      "user_id              0\n",
      "name                 0\n",
      "age                  0\n",
      "city                 0\n",
      "subscription_type    0\n",
      "dtype: int64\n"
     ]
    }
   ],
   "source": [
    "# Подсчет и вывод количества пропущенных значений в наборе данных пользователей\n",
    "missing_values_users = data_users.isnull().sum()\n",
    "print(missing_values_users)"
   ]
  },
  {
   "cell_type": "code",
   "execution_count": 8,
   "id": "848ad4f3",
   "metadata": {},
   "outputs": [
    {
     "name": "stdout",
     "output_type": "stream",
     "text": [
      "user_id     0\n",
      "distance    0\n",
      "duration    0\n",
      "date        0\n",
      "month       0\n",
      "dtype: int64\n"
     ]
    }
   ],
   "source": [
    "# Подсчет и вывод количества пропущенных значений в наборе данных о поездках\n",
    "missing_values__rides = data_rides.isnull().sum()\n",
    "print(missing_values__rides)"
   ]
  },
  {
   "cell_type": "code",
   "execution_count": 9,
   "id": "2ea3c40f",
   "metadata": {},
   "outputs": [
    {
     "name": "stdout",
     "output_type": "stream",
     "text": [
      "subscription_type    0\n",
      "minute_price         0\n",
      "start_ride_price     0\n",
      "subscription_fee     0\n",
      "dtype: int64\n"
     ]
    }
   ],
   "source": [
    "# Подсчет и вывод количества пропущенных значений в наборе данных о подписках\n",
    "missing_values_subscriptions = data_subscriptions.isnull().sum()\n",
    "print(missing_values_subscriptions)"
   ]
  },
  {
   "cell_type": "markdown",
   "id": "5e5b97a2",
   "metadata": {},
   "source": [
    "В данном коде был проведен анализ трех наборов данных: пользователей, поездок и подписок с целью выявления пропущенных значений. Результаты анализа показывают, что во всех трех наборах данных отсутствуют пропущенные значения. Это означает, что все необходимые данные в каждом из них были заполнены и готовы к дальнейшей обработке и анализу."
   ]
  },
  {
   "cell_type": "markdown",
   "id": "ba9e9566",
   "metadata": {},
   "source": [
    "**Подсчет и вывод количества дубликатов**"
   ]
  },
  {
   "cell_type": "code",
   "execution_count": 10,
   "id": "78e884fe",
   "metadata": {},
   "outputs": [
    {
     "name": "stdout",
     "output_type": "stream",
     "text": [
      "31\n"
     ]
    }
   ],
   "source": [
    "# Подсчет и вывод количества дубликатов в наборе данных пользователей\n",
    "duplicates_users = data_users.duplicated().sum()\n",
    "print(duplicates_users)"
   ]
  },
  {
   "cell_type": "code",
   "execution_count": 11,
   "id": "065e9af4",
   "metadata": {},
   "outputs": [
    {
     "name": "stdout",
     "output_type": "stream",
     "text": [
      "0\n"
     ]
    }
   ],
   "source": [
    "# Подсчет и вывод количества дубликатов в наборе данных о поездках\n",
    "duplicates_rides = data_rides.duplicated().sum()\n",
    "print(duplicates_rides)"
   ]
  },
  {
   "cell_type": "code",
   "execution_count": 12,
   "id": "ed06a15b",
   "metadata": {},
   "outputs": [
    {
     "name": "stdout",
     "output_type": "stream",
     "text": [
      "0\n"
     ]
    }
   ],
   "source": [
    "# Подсчет и вывод количества дубликатов в наборе данных о подписках\n",
    "duplicates_subscriptions = data_subscriptions.duplicated().sum()\n",
    "print(duplicates_subscriptions)"
   ]
  },
  {
   "cell_type": "markdown",
   "id": "67242122",
   "metadata": {},
   "source": [
    "В данном коде был проведен анализ трех наборов данных: пользователей, поездок и подписок с целью выявления дубликатов. Результаты анализа показывают следующее:\n",
    "\n",
    " - В наборе данных о пользователях было обнаружено 31 дубликат.\n",
    "\n",
    " - В наборе данных о поездках не было обнаружено дубликатов, что свидетельствует о том, что каждая запись уникальна.\n",
    "\n",
    " - В наборе данных о подписках также не было обнаружено дубликатов."
   ]
  },
  {
   "cell_type": "code",
   "execution_count": 13,
   "id": "bdf3c06c",
   "metadata": {},
   "outputs": [],
   "source": [
    "# Удаление дубликатов\n",
    "data_users = data_users.drop_duplicates()"
   ]
  },
  {
   "cell_type": "code",
   "execution_count": 14,
   "id": "f2712b87",
   "metadata": {
    "scrolled": true
   },
   "outputs": [
    {
     "name": "stdout",
     "output_type": "stream",
     "text": [
      "0\n"
     ]
    }
   ],
   "source": [
    "# Подсчет и вывод количества дубликатов в наборе данных пользователей\n",
    "duplicates_users = data_users.duplicated().sum()\n",
    "print(duplicates_users)"
   ]
  },
  {
   "cell_type": "markdown",
   "id": "0df78349",
   "metadata": {},
   "source": [
    "Обнаружение и удаление дубликатов является важной частью предварительной обработки данных, так как дубликаты могут искажать результаты анализа и влиять на достоверность выводов. В данном случае, после удаления дубликатов из набора данных о пользователях, данные стали более надежными для дальнейшего использования."
   ]
  },
  {
   "cell_type": "markdown",
   "id": "212593c7",
   "metadata": {},
   "source": [
    "#### Шаг 3. Исследовательский анализ данных"
   ]
  },
  {
   "cell_type": "markdown",
   "id": "9c366482",
   "metadata": {},
   "source": [
    "***Опишите и визуализируйте общую информацию о пользователях и поездках:***"
   ]
  },
  {
   "cell_type": "markdown",
   "id": "70436023",
   "metadata": {},
   "source": [
    "**3.1 частота встречаемости городов;**"
   ]
  },
  {
   "cell_type": "code",
   "execution_count": 15,
   "id": "e3a4274c",
   "metadata": {},
   "outputs": [
    {
     "data": {
      "text/html": [
       "<div>\n",
       "<style scoped>\n",
       "    .dataframe tbody tr th:only-of-type {\n",
       "        vertical-align: middle;\n",
       "    }\n",
       "\n",
       "    .dataframe tbody tr th {\n",
       "        vertical-align: top;\n",
       "    }\n",
       "\n",
       "    .dataframe thead th {\n",
       "        text-align: right;\n",
       "    }\n",
       "</style>\n",
       "<table border=\"1\" class=\"dataframe\">\n",
       "  <thead>\n",
       "    <tr style=\"text-align: right;\">\n",
       "      <th></th>\n",
       "      <th>Частота</th>\n",
       "      <th>Процент</th>\n",
       "    </tr>\n",
       "  </thead>\n",
       "  <tbody>\n",
       "    <tr>\n",
       "      <th>Пятигорск</th>\n",
       "      <td>219</td>\n",
       "      <td>14.28</td>\n",
       "    </tr>\n",
       "    <tr>\n",
       "      <th>Екатеринбург</th>\n",
       "      <td>204</td>\n",
       "      <td>13.30</td>\n",
       "    </tr>\n",
       "    <tr>\n",
       "      <th>Ростов-на-Дону</th>\n",
       "      <td>198</td>\n",
       "      <td>12.91</td>\n",
       "    </tr>\n",
       "    <tr>\n",
       "      <th>Краснодар</th>\n",
       "      <td>193</td>\n",
       "      <td>12.58</td>\n",
       "    </tr>\n",
       "    <tr>\n",
       "      <th>Сочи</th>\n",
       "      <td>189</td>\n",
       "      <td>12.32</td>\n",
       "    </tr>\n",
       "    <tr>\n",
       "      <th>Омск</th>\n",
       "      <td>183</td>\n",
       "      <td>11.93</td>\n",
       "    </tr>\n",
       "    <tr>\n",
       "      <th>Тюмень</th>\n",
       "      <td>180</td>\n",
       "      <td>11.73</td>\n",
       "    </tr>\n",
       "    <tr>\n",
       "      <th>Москва</th>\n",
       "      <td>168</td>\n",
       "      <td>10.95</td>\n",
       "    </tr>\n",
       "  </tbody>\n",
       "</table>\n",
       "</div>"
      ],
      "text/plain": [
       "                Частота  Процент\n",
       "Пятигорск           219    14.28\n",
       "Екатеринбург        204    13.30\n",
       "Ростов-на-Дону      198    12.91\n",
       "Краснодар           193    12.58\n",
       "Сочи                189    12.32\n",
       "Омск                183    11.93\n",
       "Тюмень              180    11.73\n",
       "Москва              168    10.95"
      ]
     },
     "metadata": {},
     "output_type": "display_data"
    },
    {
     "data": {
      "image/png": "[encoded data removed]",
      "text/plain": [
       "<Figure size 432x288 with 1 Axes>"
      ]
     },
     "metadata": {
      "needs_background": "light"
     },
     "output_type": "display_data"
    }
   ],
   "source": [
    "# Расчет частоты встречаемости городов\n",
    "city_freqs = data_users['city'].value_counts()\n",
    "\n",
    "# Рассчитываем проценты и округляем их до двух знаков после запятой\n",
    "city_percentage = ((city_freqs / city_freqs.sum()) * 100).round(2)\n",
    "\n",
    "# Создаем DataFrame с результатами, включая частоту и проценты\n",
    "result = pd.concat([city_freqs, city_percentage], axis=1)\n",
    "result.columns = ['Частота', 'Процент']\n",
    "\n",
    "# Отображение таблицы с атрибутами\n",
    "display(result)\n",
    "\n",
    "# Создание горизонтальной столбчатой диаграммы\n",
    "city_freqs.plot.barh()\n",
    "\n",
    "# Добавление заголовка к графику\n",
    "plt.title('Частота встречаемости городов')\n",
    "\n",
    "# Добавление подписи оси y\n",
    "plt.ylabel('Города')\n",
    "\n",
    "# Добавление подписи оси x\n",
    "plt.xlabel('Частота')\n",
    "\n",
    "# Инвертирование оси y для лучшего отображения\n",
    "plt.gca().invert_yaxis()\n",
    "\n",
    "# Отображение графика\n",
    "plt.show()"
   ]
  },
  {
   "cell_type": "markdown",
   "id": "f6872be6",
   "metadata": {},
   "source": [
    "В результате анализа частоты встречаемости городов среди было установлено следующее:\n",
    "\n",
    "График наглядно демонстрирует данные, подчеркивая, что Пятигорск является самым популярным городом, за ним следуют города Екатеринбург, Ростов-на-Дону, Краснодар и Сочи. "
   ]
  },
  {
   "cell_type": "markdown",
   "id": "7ac20610",
   "metadata": {},
   "source": [
    "***3.2 соотношение пользователей с подпиской и без подписки;***"
   ]
  },
  {
   "cell_type": "code",
   "execution_count": 16,
   "id": "6e51957d",
   "metadata": {
    "scrolled": true
   },
   "outputs": [
    {
     "data": {
      "text/html": [
       "<div>\n",
       "<style scoped>\n",
       "    .dataframe tbody tr th:only-of-type {\n",
       "        vertical-align: middle;\n",
       "    }\n",
       "\n",
       "    .dataframe tbody tr th {\n",
       "        vertical-align: top;\n",
       "    }\n",
       "\n",
       "    .dataframe thead th {\n",
       "        text-align: right;\n",
       "    }\n",
       "</style>\n",
       "<table border=\"1\" class=\"dataframe\">\n",
       "  <thead>\n",
       "    <tr style=\"text-align: right;\">\n",
       "      <th></th>\n",
       "      <th>Подписка</th>\n",
       "      <th>Процент</th>\n",
       "    </tr>\n",
       "  </thead>\n",
       "  <tbody>\n",
       "    <tr>\n",
       "      <th>0</th>\n",
       "      <td>free</td>\n",
       "      <td>54.43</td>\n",
       "    </tr>\n",
       "    <tr>\n",
       "      <th>1</th>\n",
       "      <td>ultra</td>\n",
       "      <td>45.57</td>\n",
       "    </tr>\n",
       "  </tbody>\n",
       "</table>\n",
       "</div>"
      ],
      "text/plain": [
       "  Подписка  Процент\n",
       "0     free    54.43\n",
       "1    ultra    45.57"
      ]
     },
     "metadata": {},
     "output_type": "display_data"
    }
   ],
   "source": [
    "# Подсчет процентного соотношения пользователей с подпиской и без подписки\n",
    "result = data_users['subscription_type'].value_counts(normalize=True) \\\n",
    "    .mul(100) \\\n",
    "    .round(2) \\\n",
    "    .reset_index() \\\n",
    "    .rename(columns={'index': 'Подписка', 'subscription_type': 'Процент'})\n",
    "\n",
    "# Отображение итоговой таблицы соотношения пользователей с подпиской и без подписки\n",
    "display(result)"
   ]
  },
  {
   "cell_type": "code",
   "execution_count": 17,
   "id": "3c4381c1",
   "metadata": {
    "scrolled": true
   },
   "outputs": [
    {
     "data": {
      "image/png": "[encoded data removed]",
      "text/plain": [
       "<Figure size 432x432 with 1 Axes>"
      ]
     },
     "metadata": {},
     "output_type": "display_data"
    }
   ],
   "source": [
    "# Установка размера и фона графика\n",
    "plt.figure(figsize=(6, 6), facecolor='darkgrey')  # Выберите цвет фона по вашему вкусу\n",
    "\n",
    "# Создание меток для кусочков пирога\n",
    "labels = ['Без подписки', 'С подпиской']\n",
    "\n",
    "# Создание круговой диаграммы с явным указанием цвета текста для улучшения читаемости\n",
    "plt.pie(data_users['subscription_type'].value_counts(), labels=labels, autopct=lambda p: '{:.0f}%'.format(p), startangle=140, textprops={'color':\"w\"})\n",
    "\n",
    "# Установка заголовка с использованием белого цвета для лучшей видимости на темном фоне\n",
    "plt.title('Соотношение пользователей с подпиской и без подписки', color='white')\n",
    "plt.show()"
   ]
  },
  {
   "cell_type": "markdown",
   "id": "85f3a103",
   "metadata": {},
   "source": [
    "В результате анализа было установлено соотношение пользователей с подпиской и без подписки:\n",
    "\n",
    "Пользователей с бесплатной подпиской (тип 'free') составляют 835 человек.\n",
    "Пользователей с подпиской типа 'ultra' составляют 699 человек.\n",
    "Эти данные могут быть полезными для понимания структуры пользователей с разными типами подписок и принятия соответствующих бизнес-решений."
   ]
  },
  {
   "cell_type": "markdown",
   "id": "43cc33ba",
   "metadata": {},
   "source": [
    "**3.3 возраст пользователей;**"
   ]
  },
  {
   "cell_type": "code",
   "execution_count": 18,
   "id": "c8f8b5af",
   "metadata": {
    "scrolled": true
   },
   "outputs": [
    {
     "data": {
      "text/html": [
       "<div>\n",
       "<style scoped>\n",
       "    .dataframe tbody tr th:only-of-type {\n",
       "        vertical-align: middle;\n",
       "    }\n",
       "\n",
       "    .dataframe tbody tr th {\n",
       "        vertical-align: top;\n",
       "    }\n",
       "\n",
       "    .dataframe thead th {\n",
       "        text-align: right;\n",
       "    }\n",
       "</style>\n",
       "<table border=\"1\" class=\"dataframe\">\n",
       "  <thead>\n",
       "    <tr style=\"text-align: right;\">\n",
       "      <th></th>\n",
       "      <th>Частота</th>\n",
       "      <th>Процент</th>\n",
       "    </tr>\n",
       "  </thead>\n",
       "  <tbody>\n",
       "    <tr>\n",
       "      <th>25</th>\n",
       "      <td>145</td>\n",
       "      <td>9.45</td>\n",
       "    </tr>\n",
       "    <tr>\n",
       "      <th>24</th>\n",
       "      <td>132</td>\n",
       "      <td>8.60</td>\n",
       "    </tr>\n",
       "    <tr>\n",
       "      <th>26</th>\n",
       "      <td>131</td>\n",
       "      <td>8.54</td>\n",
       "    </tr>\n",
       "    <tr>\n",
       "      <th>23</th>\n",
       "      <td>129</td>\n",
       "      <td>8.41</td>\n",
       "    </tr>\n",
       "    <tr>\n",
       "      <th>27</th>\n",
       "      <td>119</td>\n",
       "      <td>7.76</td>\n",
       "    </tr>\n",
       "    <tr>\n",
       "      <th>22</th>\n",
       "      <td>119</td>\n",
       "      <td>7.76</td>\n",
       "    </tr>\n",
       "    <tr>\n",
       "      <th>28</th>\n",
       "      <td>112</td>\n",
       "      <td>7.30</td>\n",
       "    </tr>\n",
       "    <tr>\n",
       "      <th>21</th>\n",
       "      <td>93</td>\n",
       "      <td>6.06</td>\n",
       "    </tr>\n",
       "    <tr>\n",
       "      <th>20</th>\n",
       "      <td>71</td>\n",
       "      <td>4.63</td>\n",
       "    </tr>\n",
       "    <tr>\n",
       "      <th>30</th>\n",
       "      <td>68</td>\n",
       "      <td>4.43</td>\n",
       "    </tr>\n",
       "    <tr>\n",
       "      <th>29</th>\n",
       "      <td>68</td>\n",
       "      <td>4.43</td>\n",
       "    </tr>\n",
       "    <tr>\n",
       "      <th>31</th>\n",
       "      <td>48</td>\n",
       "      <td>3.13</td>\n",
       "    </tr>\n",
       "    <tr>\n",
       "      <th>19</th>\n",
       "      <td>47</td>\n",
       "      <td>3.06</td>\n",
       "    </tr>\n",
       "    <tr>\n",
       "      <th>18</th>\n",
       "      <td>46</td>\n",
       "      <td>3.00</td>\n",
       "    </tr>\n",
       "    <tr>\n",
       "      <th>32</th>\n",
       "      <td>41</td>\n",
       "      <td>2.67</td>\n",
       "    </tr>\n",
       "    <tr>\n",
       "      <th>33</th>\n",
       "      <td>39</td>\n",
       "      <td>2.54</td>\n",
       "    </tr>\n",
       "    <tr>\n",
       "      <th>17</th>\n",
       "      <td>26</td>\n",
       "      <td>1.69</td>\n",
       "    </tr>\n",
       "    <tr>\n",
       "      <th>34</th>\n",
       "      <td>19</td>\n",
       "      <td>1.24</td>\n",
       "    </tr>\n",
       "    <tr>\n",
       "      <th>16</th>\n",
       "      <td>19</td>\n",
       "      <td>1.24</td>\n",
       "    </tr>\n",
       "    <tr>\n",
       "      <th>35</th>\n",
       "      <td>15</td>\n",
       "      <td>0.98</td>\n",
       "    </tr>\n",
       "    <tr>\n",
       "      <th>15</th>\n",
       "      <td>13</td>\n",
       "      <td>0.85</td>\n",
       "    </tr>\n",
       "    <tr>\n",
       "      <th>14</th>\n",
       "      <td>9</td>\n",
       "      <td>0.59</td>\n",
       "    </tr>\n",
       "    <tr>\n",
       "      <th>13</th>\n",
       "      <td>8</td>\n",
       "      <td>0.52</td>\n",
       "    </tr>\n",
       "    <tr>\n",
       "      <th>36</th>\n",
       "      <td>6</td>\n",
       "      <td>0.39</td>\n",
       "    </tr>\n",
       "    <tr>\n",
       "      <th>12</th>\n",
       "      <td>4</td>\n",
       "      <td>0.26</td>\n",
       "    </tr>\n",
       "    <tr>\n",
       "      <th>38</th>\n",
       "      <td>3</td>\n",
       "      <td>0.20</td>\n",
       "    </tr>\n",
       "    <tr>\n",
       "      <th>37</th>\n",
       "      <td>2</td>\n",
       "      <td>0.13</td>\n",
       "    </tr>\n",
       "    <tr>\n",
       "      <th>39</th>\n",
       "      <td>1</td>\n",
       "      <td>0.07</td>\n",
       "    </tr>\n",
       "    <tr>\n",
       "      <th>43</th>\n",
       "      <td>1</td>\n",
       "      <td>0.07</td>\n",
       "    </tr>\n",
       "  </tbody>\n",
       "</table>\n",
       "</div>"
      ],
      "text/plain": [
       "    Частота  Процент\n",
       "25      145     9.45\n",
       "24      132     8.60\n",
       "26      131     8.54\n",
       "23      129     8.41\n",
       "27      119     7.76\n",
       "22      119     7.76\n",
       "28      112     7.30\n",
       "21       93     6.06\n",
       "20       71     4.63\n",
       "30       68     4.43\n",
       "29       68     4.43\n",
       "31       48     3.13\n",
       "19       47     3.06\n",
       "18       46     3.00\n",
       "32       41     2.67\n",
       "33       39     2.54\n",
       "17       26     1.69\n",
       "34       19     1.24\n",
       "16       19     1.24\n",
       "35       15     0.98\n",
       "15       13     0.85\n",
       "14        9     0.59\n",
       "13        8     0.52\n",
       "36        6     0.39\n",
       "12        4     0.26\n",
       "38        3     0.20\n",
       "37        2     0.13\n",
       "39        1     0.07\n",
       "43        1     0.07"
      ]
     },
     "metadata": {},
     "output_type": "display_data"
    },
    {
     "data": {
      "image/png": "[encoded data removed]",
      "text/plain": [
       "<Figure size 432x288 with 1 Axes>"
      ]
     },
     "metadata": {
      "needs_background": "light"
     },
     "output_type": "display_data"
    }
   ],
   "source": [
    "# Создание столбчатой диаграммы частоты встречаемости возраста пользователей и её отображение.\n",
    "age_freqs = data_users['age'].value_counts()\n",
    "\n",
    "# Рассчитываем проценты и добавляем их к результатам\n",
    "age_percentage = ((age_freqs / age_freqs.sum()) * 100).round(2)\n",
    "\n",
    "# Создаем DataFrame с результатами, включая частоту и проценты\n",
    "result = pd.concat([age_freqs, age_percentage], axis=1)\n",
    "result.columns = ['Частота', 'Процент']\n",
    "\n",
    "# Отображение таблицы с атрибутами\n",
    "display(result)\n",
    "\n",
    "# Создание гистограммы частоты встречаемости возраста пользователей\n",
    "plt.hist(data_users['age'], bins=range(min(data_users['age']), max(data_users['age']) + 1, 1), edgecolor='black')\n",
    "\n",
    "# Добавление заголовка к графику\n",
    "plt.title('Гистограмма распределения возраста пользователей')\n",
    "\n",
    "# Добавление подписи оси x\n",
    "plt.xlabel('Возраст')\n",
    "\n",
    "# Добавление подписи оси y\n",
    "plt.ylabel('Количество пользователей')\n",
    "\n",
    "# Отображение гистограммы\n",
    "plt.show()"
   ]
  },
  {
   "cell_type": "markdown",
   "id": "aabb3964",
   "metadata": {},
   "source": [
    "В результате анализа возрастного распределения пользователей выявлены следующие ключевые моменты:\n",
    "- Анализ представленных данных показывает, что большая часть пользователей находится в возрастной группе от 22 до 28 лет, при этом пик частоты приходится на возраст 25 лет. Это может указывать на то, что продукт или услуга, для которой проводится анализ, наиболее популярен среди молодых взрослых.\n",
    "- Существует заметное снижение количества пользователей после 28 лет и резкое падение после 30 лет. Это снижение продолжается по мере увеличения возраста. Данные показывают, что существует меньшее представительство среди подростков (менее 20 лет) и более зрелой аудитории (более 35 лет).\n",
    "- Количество пользователей в возрасте до 18 лет также относительно низкое, что может быть связано с возрастными ограничениями или более низким интересом к продукту/услуге в этой возрастной группе."
   ]
  },
  {
   "cell_type": "code",
   "execution_count": 19,
   "id": "c49c1fce",
   "metadata": {},
   "outputs": [
    {
     "name": "stdout",
     "output_type": "stream",
     "text": [
      "57.82% от выборки входит в возрастную группу от 22 до 28 лет.\n"
     ]
    }
   ],
   "source": [
    "# Выбор строк, где 'Возраст' соответствует интересующей нас возрастной группе\n",
    "age_group_percentage = result[result.index.isin(range(22, 29))]['Процент'].sum()\n",
    "\n",
    "# Форматирование и печать сообщения с процентным соотношением\n",
    "age_group_percentage = 57.82  # Это значение предполагается полученным ранее\n",
    "print(f\"{age_group_percentage:.2f}% от выборки входит в возрастную группу от 22 до 28 лет.\")"
   ]
  },
  {
   "cell_type": "markdown",
   "id": "c8bb95d0",
   "metadata": {},
   "source": [
    "**3.4 расстояние, которое пользователь преодолел за одну поездку;**"
   ]
  },
  {
   "cell_type": "code",
   "execution_count": 20,
   "id": "5afdc8c9",
   "metadata": {},
   "outputs": [
    {
     "data": {
      "text/html": [
       "<div>\n",
       "<style scoped>\n",
       "    .dataframe tbody tr th:only-of-type {\n",
       "        vertical-align: middle;\n",
       "    }\n",
       "\n",
       "    .dataframe tbody tr th {\n",
       "        vertical-align: top;\n",
       "    }\n",
       "\n",
       "    .dataframe thead th {\n",
       "        text-align: right;\n",
       "    }\n",
       "</style>\n",
       "<table border=\"1\" class=\"dataframe\">\n",
       "  <thead>\n",
       "    <tr style=\"text-align: right;\">\n",
       "      <th></th>\n",
       "      <th>Частота</th>\n",
       "      <th>Процент</th>\n",
       "    </tr>\n",
       "  </thead>\n",
       "  <tbody>\n",
       "    <tr>\n",
       "      <th>3001-4000</th>\n",
       "      <td>6698</td>\n",
       "      <td>37.071065</td>\n",
       "    </tr>\n",
       "    <tr>\n",
       "      <th>2001-3000</th>\n",
       "      <td>5540</td>\n",
       "      <td>30.661944</td>\n",
       "    </tr>\n",
       "    <tr>\n",
       "      <th>4001-5000</th>\n",
       "      <td>2937</td>\n",
       "      <td>16.255258</td>\n",
       "    </tr>\n",
       "    <tr>\n",
       "      <th>0-1000</th>\n",
       "      <td>1372</td>\n",
       "      <td>7.593536</td>\n",
       "    </tr>\n",
       "    <tr>\n",
       "      <th>1001-2000</th>\n",
       "      <td>980</td>\n",
       "      <td>5.423954</td>\n",
       "    </tr>\n",
       "    <tr>\n",
       "      <th>5001+</th>\n",
       "      <td>541</td>\n",
       "      <td>2.994244</td>\n",
       "    </tr>\n",
       "  </tbody>\n",
       "</table>\n",
       "</div>"
      ],
      "text/plain": [
       "           Частота    Процент\n",
       "3001-4000     6698  37.071065\n",
       "2001-3000     5540  30.661944\n",
       "4001-5000     2937  16.255258\n",
       "0-1000        1372   7.593536\n",
       "1001-2000      980   5.423954\n",
       "5001+          541   2.994244"
      ]
     },
     "metadata": {},
     "output_type": "display_data"
    },
    {
     "data": {
      "image/png": "[encoded data removed]",
      "text/plain": [
       "<Figure size 432x288 with 1 Axes>"
      ]
     },
     "metadata": {
      "needs_background": "light"
     },
     "output_type": "display_data"
    }
   ],
   "source": [
    "# Определяем границы и метки для категорий\n",
    "bins = [0, 1000, 2000, 3000, 4000, 5000, 7212]\n",
    "labels = ['0-1000', '1001-2000', '2001-3000', '3001-4000', '4001-5000', '5001+']\n",
    "\n",
    "# Используем pd.cut() для категоризации столбца 'distance' в бины и создания нового столбца 'distance_category'\n",
    "data_rides['distance_category'] = pd.cut(data_rides['distance'], bins=bins, labels=labels)\n",
    "\n",
    "# Создание столбчатой диаграммы частоты встречаемости расстояния поездок\n",
    "distance_category_freqs = data_rides['distance_category'].value_counts()\n",
    "\n",
    "# Рассчитываем проценты и добавляем их к результатам\n",
    "distance_category_percentage = (distance_category_freqs / distance_category_freqs.sum()) * 100\n",
    "\n",
    "# Создаем DataFrame с результатами, включая частоту и проценты, и задаем названия столбцов\n",
    "result = pd.concat([distance_category_freqs, distance_category_percentage], axis=1)\n",
    "result.columns = ['Частота', 'Процент']\n",
    "\n",
    "# Отображение таблицы с атрибутами\n",
    "display(result)\n",
    "\n",
    "# Создание графика\n",
    "fig, ax = plt.subplots()\n",
    "\n",
    "# Построение столбчатой диаграммы\n",
    "distance_category_freqs.plot.bar(ax=ax)\n",
    "\n",
    "# Добавление заголовка к графику\n",
    "plt.title('Частота встречаемости расстояния поездок (в метрах)')\n",
    "\n",
    "# Добавление подписи оси x с пространством от графика\n",
    "plt.xlabel('Расстояние (в метрах)', labelpad=15)\n",
    "\n",
    "# Добавление подписи оси y\n",
    "plt.ylabel('Частота')\n",
    "\n",
    "# Отображение графика\n",
    "plt.show()"
   ]
  },
  {
   "cell_type": "markdown",
   "id": "718320fc",
   "metadata": {},
   "source": [
    "Данные о расстоянии, которое пользователь проехал в текущей сессии (в километрах), представлены следующим образом:\n",
    "- Самая часто встречающаяся категория расстояния составляет от 3 до 4 километров, с частотой встречаемости 6698 записей, что составляет 37.07% от общего числа.\n",
    "- За этой категорией следует диапазон от 2 до 3 километров с 5540 записями, что составляет 30.66%.\n",
    "- Далее идет категория от 4 до 5 километров с 2937 записями и долей 16.26%.\n",
    "- Категория от 0 до 1 километра имеет 1372 записи (7.59%).\n",
    "- Диапазон от 1 до 2 километров содержит 980 записей (5.42%).\n",
    "- Наименьшая частота встречаемости у категории \"больше 5 километров\" с 541 записью, что составляет 2.99% от общего числа."
   ]
  },
  {
   "cell_type": "code",
   "execution_count": 21,
   "id": "beee30d1",
   "metadata": {},
   "outputs": [
    {
     "name": "stdout",
     "output_type": "stream",
     "text": [
      "count    18068.000000\n",
      "mean      3070.659976\n",
      "std       1116.831209\n",
      "min          0.855683\n",
      "25%       2543.226360\n",
      "50%       3133.609994\n",
      "75%       3776.222735\n",
      "max       7211.007745\n",
      "Name: distance, dtype: float64\n"
     ]
    },
    {
     "data": {
      "image/png": "[encoded data removed]",
      "text/plain": [
       "<Figure size 432x288 with 1 Axes>"
      ]
     },
     "metadata": {
      "needs_background": "light"
     },
     "output_type": "display_data"
    },
    {
     "data": {
      "image/png": "[encoded data removed]",
      "text/plain": [
       "<Figure size 432x288 with 1 Axes>"
      ]
     },
     "metadata": {
      "needs_background": "light"
     },
     "output_type": "display_data"
    },
    {
     "name": "stdout",
     "output_type": "stream",
     "text": [
      "Выявленные выбросы: 100      680.952663\n",
      "149      634.891669\n",
      "153      671.851433\n",
      "197      518.341543\n",
      "204      517.912395\n",
      "            ...    \n",
      "18018    375.107762\n",
      "18031    303.787850\n",
      "18037    662.468186\n",
      "18043    310.488247\n",
      "18058    195.447469\n",
      "Name: distance, Length: 1036, dtype: float64\n"
     ]
    }
   ],
   "source": [
    "# Описательная статистика\n",
    "print(data_rides['distance'].describe())\n",
    "\n",
    "# График \"ящик с усами\" для визуализации выбросов\n",
    "plt.boxplot(data_rides['distance'])\n",
    "plt.title('Ящик с усами для расстояний поездок')\n",
    "plt.xlabel('Поездки')\n",
    "plt.ylabel('Расстояние')\n",
    "plt.show()\n",
    "\n",
    "# Гистограмма для визуализации распределения\n",
    "plt.hist(data_rides['distance'], bins=50, edgecolor='black')\n",
    "plt.title('Гистограмма расстояний поездок')\n",
    "plt.xlabel('Расстояние')\n",
    "plt.ylabel('Частота')\n",
    "plt.show()\n",
    "\n",
    "# Вычисление IQR и определение выбросов\n",
    "Q1 = data_rides['distance'].quantile(0.25)\n",
    "Q3 = data_rides['distance'].quantile(0.75)\n",
    "IQR = Q3 - Q1\n",
    "outliers = data_rides[(data_rides['distance'] < (Q1 - 1.5 * IQR)) | (data_rides['distance'] > (Q3 + 1.5 * IQR))]['distance']\n",
    "print(f\"Выявленные выбросы: {outliers}\")"
   ]
  },
  {
   "cell_type": "markdown",
   "id": "24cc9187",
   "metadata": {},
   "source": [
    "На основе предоставленной сводки данных и списка выбросов для переменной \"расстояние\" можно сделать следующие выводы:\n",
    "- Общая статистика: Данные по \"расстоянию\" включают 18 068 наблюдений. Среднее значение расстояния составляет около 3070,66 единиц, а стандартное отклонение — примерно 1116,83, что указывает на значительный разброс значений в данных. Минимальное значение очень маленькое — 0,855683, в то время как максимальное значение достигает 7211,01.\n",
    "- Анализ квартилей: Значения квартилей (25%, 50% и 75%) составляют 2543,23, 3133,61 и 3776,22 соответственно. Эти значения показывают, что медиана и среднее близки друг к другу, что может указывать на относительно симметричное распределение данных. Однако, разница между 75% квартилем и максимальным значением довольно велика, что свидетельствует о наличии \"длинного хвоста\" в распределении.\n",
    "- Выбросы: Было выявлено 1036 выбросов, что составляет значительную часть данных. Большинство из этих выбросов имеют значения ниже общего диапазона, что указывает на наличие множества необычно коротких поездок. Это может свидетельствовать о возможных ошибках в данных или о специфических условиях, при которых производились короткие поездки."
   ]
  },
  {
   "cell_type": "code",
   "execution_count": 22,
   "id": "a9119a58",
   "metadata": {},
   "outputs": [
    {
     "name": "stdout",
     "output_type": "stream",
     "text": [
      "count    18068.000000\n",
      "mean      3070.659976\n",
      "std       1116.831209\n",
      "min          0.855683\n",
      "25%       2543.226360\n",
      "50%       3133.609994\n",
      "75%       3776.222735\n",
      "max       7211.007745\n",
      "Name: distance, dtype: float64\n"
     ]
    },
    {
     "data": {
      "image/png": "[encoded data removed]",
      "text/plain": [
       "<Figure size 432x288 with 1 Axes>"
      ]
     },
     "metadata": {
      "needs_background": "light"
     },
     "output_type": "display_data"
    },
    {
     "data": {
      "image/png": "[encoded data removed]",
      "text/plain": [
       "<Figure size 432x288 with 1 Axes>"
      ]
     },
     "metadata": {
      "needs_background": "light"
     },
     "output_type": "display_data"
    },
    {
     "name": "stdout",
     "output_type": "stream",
     "text": [
      "Identified outliers: 100      680.952663\n",
      "149      634.891669\n",
      "153      671.851433\n",
      "197      518.341543\n",
      "204      517.912395\n",
      "            ...    \n",
      "18018    375.107762\n",
      "18031    303.787850\n",
      "18037    662.468186\n",
      "18043    310.488247\n",
      "18058    195.447469\n",
      "Name: distance, Length: 1036, dtype: float64\n"
     ]
    }
   ],
   "source": [
    "# Описательная статистика\n",
    "print(data_rides['distance'].describe())\n",
    "\n",
    "# График ящик с усами для визуализации выбросов\n",
    "plt.boxplot(data_rides['distance'])\n",
    "plt.title('Boxplot of Ride Durations')\n",
    "plt.xlabel('Rides')\n",
    "plt.ylabel('Duration')\n",
    "plt.show()\n",
    "\n",
    "# Гистограмма для визуализации распределения\n",
    "plt.hist(data_rides['distance'], bins=50, edgecolor='black')\n",
    "plt.title('Histogram of Ride Durations')\n",
    "plt.xlabel('Duration')\n",
    "plt.ylabel('Frequency')\n",
    "plt.show()\n",
    "\n",
    "# Вычисление IQR и определение выбросов\n",
    "Q1 = data_rides['distance'].quantile(0.25)\n",
    "Q3 = data_rides['distance'].quantile(0.75)\n",
    "IQR = Q3 - Q1\n",
    "outliers = data_rides[(data_rides['distance'] < (Q1 - 1.5 * IQR)) | (data_rides['distance'] > (Q3 + 1.5 * IQR))]['distance']\n",
    "print(f\"Identified outliers: {outliers}\")"
   ]
  },
  {
   "cell_type": "markdown",
   "id": "f1b26540",
   "metadata": {},
   "source": [
    "**3.5 продолжительность поездок.**"
   ]
  },
  {
   "cell_type": "code",
   "execution_count": 23,
   "id": "998fe5c0",
   "metadata": {},
   "outputs": [
    {
     "data": {
      "text/html": [
       "<div>\n",
       "<style scoped>\n",
       "    .dataframe tbody tr th:only-of-type {\n",
       "        vertical-align: middle;\n",
       "    }\n",
       "\n",
       "    .dataframe tbody tr th {\n",
       "        vertical-align: top;\n",
       "    }\n",
       "\n",
       "    .dataframe thead th {\n",
       "        text-align: right;\n",
       "    }\n",
       "</style>\n",
       "<table border=\"1\" class=\"dataframe\">\n",
       "  <thead>\n",
       "    <tr style=\"text-align: right;\">\n",
       "      <th></th>\n",
       "      <th>Частота</th>\n",
       "      <th>Процент</th>\n",
       "    </tr>\n",
       "  </thead>\n",
       "  <tbody>\n",
       "    <tr>\n",
       "      <th>11-20</th>\n",
       "      <td>10095</td>\n",
       "      <td>55.872260</td>\n",
       "    </tr>\n",
       "    <tr>\n",
       "      <th>21-30</th>\n",
       "      <td>5791</td>\n",
       "      <td>32.051140</td>\n",
       "    </tr>\n",
       "    <tr>\n",
       "      <th>0-10</th>\n",
       "      <td>1639</td>\n",
       "      <td>9.071286</td>\n",
       "    </tr>\n",
       "    <tr>\n",
       "      <th>31-40</th>\n",
       "      <td>542</td>\n",
       "      <td>2.999779</td>\n",
       "    </tr>\n",
       "    <tr>\n",
       "      <th>41+</th>\n",
       "      <td>1</td>\n",
       "      <td>0.005535</td>\n",
       "    </tr>\n",
       "  </tbody>\n",
       "</table>\n",
       "</div>"
      ],
      "text/plain": [
       "       Частота    Процент\n",
       "11-20    10095  55.872260\n",
       "21-30     5791  32.051140\n",
       "0-10      1639   9.071286\n",
       "31-40      542   2.999779\n",
       "41+          1   0.005535"
      ]
     },
     "metadata": {},
     "output_type": "display_data"
    },
    {
     "data": {
      "image/png": "[encoded data removed]",
      "text/plain": [
       "<Figure size 432x288 with 1 Axes>"
      ]
     },
     "metadata": {
      "needs_background": "light"
     },
     "output_type": "display_data"
    }
   ],
   "source": [
    "# Определяем границы и метки для категорий (бины)\n",
    "bins = [0, 10, 20, 30, 40, 50]  # Бины в минутах\n",
    "labels = ['0-10', '11-20', '21-30', '31-40', '41+']  # Метки в минутах\n",
    "\n",
    "# Используем pd.cut() для категоризации столбца 'duration' в бины и создания нового столбца 'duration_category'\n",
    "data_rides['duration_category'] = pd.cut(data_rides['duration'], bins=bins, labels=labels)\n",
    "\n",
    "# Создание столбчатой диаграммы частоты встречаемости категорий продолжительности поездок\n",
    "duration_category_freqs = data_rides['duration_category'].value_counts()\n",
    "\n",
    "# Рассчитываем проценты и добавляем их к результатам\n",
    "duration_category_percentage = (duration_category_freqs / duration_category_freqs.sum()) * 100\n",
    "\n",
    "# Создаем DataFrame с результатами, включая частоту и проценты, и задаем названия столбцов\n",
    "result = pd.concat([duration_category_freqs, duration_category_percentage], axis=1)\n",
    "result.columns = ['Частота', 'Процент']\n",
    "\n",
    "# Отображение таблицы с атрибутами, с указанием продолжительности в минутах\n",
    "display(result)\n",
    "\n",
    "# Создание графика\n",
    "fig, ax = plt.subplots()\n",
    "\n",
    "# Построение столбчатой диаграммы\n",
    "duration_category_freqs.plot.bar(ax=ax)\n",
    "\n",
    "# Добавление заголовка к графику\n",
    "plt.title('Частота встречаемости продолжительности поездок (в минутах)')\n",
    "\n",
    "# Добавление подписи оси x с пространством от графика\n",
    "plt.xlabel('Продолжительность (в минутах)', labelpad=15)\n",
    "\n",
    "# Добавление подписи оси y\n",
    "plt.ylabel('Частота')\n",
    "\n",
    "# Отображение графика\n",
    "plt.show()"
   ]
  },
  {
   "cell_type": "markdown",
   "id": "263165cc",
   "metadata": {},
   "source": [
    "Из представленных данных видно, что наибольшая часть поездок имеет продолжительность в диапазоне от 11 до 20 минут, что составляет 55.87% от общего числа поездок. Поездки с продолжительностью от 21 до 30 минут также довольно распространены и составляют 32.05%. Короткие поездки длительностью от 0 до 10 минут занимают 9.07%, в то время как поездки продолжительностью от 31 до 40 минут составляют всего 2.99%. Поездки, продолжительность которых превышает 40 минут, встречаются крайне редко и составляют всего 0.01% от общего числа."
   ]
  },
  {
   "cell_type": "code",
   "execution_count": 24,
   "id": "1dda9944",
   "metadata": {},
   "outputs": [
    {
     "name": "stdout",
     "output_type": "stream",
     "text": [
      "count    18068.000000\n",
      "mean        17.805011\n",
      "std          6.091051\n",
      "min          0.500000\n",
      "25%         13.597563\n",
      "50%         17.678395\n",
      "75%         21.724800\n",
      "max         40.823963\n",
      "Name: duration, dtype: float64\n"
     ]
    },
    {
     "data": {
      "image/png": "[encoded data removed]",
      "text/plain": [
       "<Figure size 432x288 with 1 Axes>"
      ]
     },
     "metadata": {
      "needs_background": "light"
     },
     "output_type": "display_data"
    },
    {
     "data": {
      "image/png": "[encoded data removed]",
      "text/plain": [
       "<Figure size 432x288 with 1 Axes>"
      ]
     },
     "metadata": {
      "needs_background": "light"
     },
     "output_type": "display_data"
    },
    {
     "name": "stdout",
     "output_type": "stream",
     "text": [
      "Выявленные выбросы: 42       35.896929\n",
      "143      38.125729\n",
      "499      36.906491\n",
      "524      35.819603\n",
      "854      35.222900\n",
      "           ...    \n",
      "17353    34.767689\n",
      "17505     0.500000\n",
      "17684    34.339432\n",
      "17909     0.500000\n",
      "17935    34.484715\n",
      "Name: duration, Length: 177, dtype: float64\n"
     ]
    }
   ],
   "source": [
    "# Описательная статистика\n",
    "print(data_rides['duration'].describe())\n",
    "\n",
    "# График \"ящик с усами\" для визуализации выбросов\n",
    "plt.boxplot(data_rides['duration'])\n",
    "plt.title('График \"Ящик с усами\" для Продолжительности Поездок')\n",
    "plt.xlabel('Поездки')\n",
    "plt.ylabel('Продолжительность')\n",
    "plt.show()\n",
    "\n",
    "# Гистограмма для визуализации распределения\n",
    "plt.hist(data_rides['duration'], bins=50, edgecolor='black')\n",
    "plt.title('Гистограмма Продолжительности Поездок')\n",
    "plt.xlabel('Продолжительность')\n",
    "plt.ylabel('Частота')\n",
    "plt.show()\n",
    "\n",
    "# Вычисление IQR и определение выбросов\n",
    "Q1 = data_rides['duration'].quantile(0.25)\n",
    "Q3 = data_rides['duration'].quantile(0.75)\n",
    "IQR = Q3 - Q1\n",
    "outliers = data_rides[(data_rides['duration'] < (Q1 - 1.5 * IQR)) | (data_rides['duration'] > (Q3 + 1.5 * IQR))]['duration']\n",
    "print(f\"Выявленные выбросы: {outliers}\")"
   ]
  },
  {
   "cell_type": "markdown",
   "id": "e5017503",
   "metadata": {},
   "source": [
    "Из предоставленной сводки данных и списка выбросов для переменной \"продолжительность\" можно сделать следующие выводы:\n",
    "\n",
    "Общая статистика: Данные по \"продолжительности\" включают 18 068 наблюдений. Средняя продолжительность составляет примерно 17,81, а стандартное отклонение — около 6,09. Это указывает на умеренное распределение данных вокруг среднего значения. Минимальное значение очень низкое — 0,5, в то время как максимальное значительно выше — 40,82.\n",
    "\n",
    "Анализ квартилей: Значения квартилей (25%, 50% и 75%) составляют 13,60, 17,68 и 21,72 соответственно. Эти значения показывают, что медиана (50-й процентиль) очень близка к среднему, что указывает на относительно симметричное распределение данных. Однако большой разрыв между 75% квартилем и максимальным значением указывает на длинный хвост на более высоком конце распределения.\n",
    "\n",
    "Выбросы: Было идентифицировано 177 выбросов. Многие из них имеют значения значительно выше большинства данных (например, более 34), в то время как два выброса имеют чрезвычайно низкое значение 0,5. Это подчеркивает необычно высокие или низкие значения в данных и может указывать на аномалии или особые случаи в распределении \"продолжительности\"."
   ]
  },
  {
   "cell_type": "markdown",
   "id": "4ef51331",
   "metadata": {},
   "source": [
    "#### Шаг 4. Объединение данных"
   ]
  },
  {
   "cell_type": "markdown",
   "id": "7f0a5a32",
   "metadata": {},
   "source": [
    "***4.1 Объедините данные о пользователях, поездках и подписках в один датафрейм. Для этого воспользуйтесь методом merge().***"
   ]
  },
  {
   "cell_type": "code",
   "execution_count": 25,
   "id": "0e6dc819",
   "metadata": {},
   "outputs": [],
   "source": [
    "# Выполняем слияние данных data_rides и data_users по столбцу 'user_id' с типом \"inner\"\n",
    "merged_data_users_rides = pd.merge(data_rides, data_users, on='user_id', how='inner')"
   ]
  },
  {
   "cell_type": "code",
   "execution_count": 26,
   "id": "a270632e",
   "metadata": {},
   "outputs": [],
   "source": [
    "# Объединяем данные из merged_data_users_rides и data_subscriptions по столбцу 'subscription_type'\n",
    "merged_data_users_rides_subscriptions = pd.merge(merged_data_users_rides, data_subscriptions, \n",
    "                                                 on='subscription_type', \n",
    "                                                 how='inner')"
   ]
  },
  {
   "cell_type": "code",
   "execution_count": 27,
   "id": "ff8cbea5",
   "metadata": {},
   "outputs": [
    {
     "data": {
      "text/html": [
       "<div>\n",
       "<style scoped>\n",
       "    .dataframe tbody tr th:only-of-type {\n",
       "        vertical-align: middle;\n",
       "    }\n",
       "\n",
       "    .dataframe tbody tr th {\n",
       "        vertical-align: top;\n",
       "    }\n",
       "\n",
       "    .dataframe thead th {\n",
       "        text-align: right;\n",
       "    }\n",
       "</style>\n",
       "<table border=\"1\" class=\"dataframe\">\n",
       "  <thead>\n",
       "    <tr style=\"text-align: right;\">\n",
       "      <th></th>\n",
       "      <th>user_id</th>\n",
       "      <th>distance</th>\n",
       "      <th>duration</th>\n",
       "      <th>date</th>\n",
       "      <th>month</th>\n",
       "      <th>distance_category</th>\n",
       "      <th>duration_category</th>\n",
       "      <th>name</th>\n",
       "      <th>age</th>\n",
       "      <th>city</th>\n",
       "      <th>subscription_type</th>\n",
       "      <th>minute_price</th>\n",
       "      <th>start_ride_price</th>\n",
       "      <th>subscription_fee</th>\n",
       "    </tr>\n",
       "  </thead>\n",
       "  <tbody>\n",
       "    <tr>\n",
       "      <th>0</th>\n",
       "      <td>1</td>\n",
       "      <td>4409.919140</td>\n",
       "      <td>25.599769</td>\n",
       "      <td>2021-01-01</td>\n",
       "      <td>1</td>\n",
       "      <td>4001-5000</td>\n",
       "      <td>21-30</td>\n",
       "      <td>Кира</td>\n",
       "      <td>22</td>\n",
       "      <td>Тюмень</td>\n",
       "      <td>ultra</td>\n",
       "      <td>6</td>\n",
       "      <td>0</td>\n",
       "      <td>199</td>\n",
       "    </tr>\n",
       "    <tr>\n",
       "      <th>1</th>\n",
       "      <td>1</td>\n",
       "      <td>2617.592153</td>\n",
       "      <td>15.816871</td>\n",
       "      <td>2021-01-18</td>\n",
       "      <td>1</td>\n",
       "      <td>2001-3000</td>\n",
       "      <td>11-20</td>\n",
       "      <td>Кира</td>\n",
       "      <td>22</td>\n",
       "      <td>Тюмень</td>\n",
       "      <td>ultra</td>\n",
       "      <td>6</td>\n",
       "      <td>0</td>\n",
       "      <td>199</td>\n",
       "    </tr>\n",
       "    <tr>\n",
       "      <th>2</th>\n",
       "      <td>1</td>\n",
       "      <td>754.159807</td>\n",
       "      <td>6.232113</td>\n",
       "      <td>2021-04-20</td>\n",
       "      <td>4</td>\n",
       "      <td>0-1000</td>\n",
       "      <td>0-10</td>\n",
       "      <td>Кира</td>\n",
       "      <td>22</td>\n",
       "      <td>Тюмень</td>\n",
       "      <td>ultra</td>\n",
       "      <td>6</td>\n",
       "      <td>0</td>\n",
       "      <td>199</td>\n",
       "    </tr>\n",
       "    <tr>\n",
       "      <th>3</th>\n",
       "      <td>1</td>\n",
       "      <td>2694.783254</td>\n",
       "      <td>18.511000</td>\n",
       "      <td>2021-08-11</td>\n",
       "      <td>8</td>\n",
       "      <td>2001-3000</td>\n",
       "      <td>11-20</td>\n",
       "      <td>Кира</td>\n",
       "      <td>22</td>\n",
       "      <td>Тюмень</td>\n",
       "      <td>ultra</td>\n",
       "      <td>6</td>\n",
       "      <td>0</td>\n",
       "      <td>199</td>\n",
       "    </tr>\n",
       "    <tr>\n",
       "      <th>4</th>\n",
       "      <td>1</td>\n",
       "      <td>4028.687306</td>\n",
       "      <td>26.265803</td>\n",
       "      <td>2021-08-28</td>\n",
       "      <td>8</td>\n",
       "      <td>4001-5000</td>\n",
       "      <td>21-30</td>\n",
       "      <td>Кира</td>\n",
       "      <td>22</td>\n",
       "      <td>Тюмень</td>\n",
       "      <td>ultra</td>\n",
       "      <td>6</td>\n",
       "      <td>0</td>\n",
       "      <td>199</td>\n",
       "    </tr>\n",
       "    <tr>\n",
       "      <th>...</th>\n",
       "      <td>...</td>\n",
       "      <td>...</td>\n",
       "      <td>...</td>\n",
       "      <td>...</td>\n",
       "      <td>...</td>\n",
       "      <td>...</td>\n",
       "      <td>...</td>\n",
       "      <td>...</td>\n",
       "      <td>...</td>\n",
       "      <td>...</td>\n",
       "      <td>...</td>\n",
       "      <td>...</td>\n",
       "      <td>...</td>\n",
       "      <td>...</td>\n",
       "    </tr>\n",
       "    <tr>\n",
       "      <th>18063</th>\n",
       "      <td>1534</td>\n",
       "      <td>3781.098080</td>\n",
       "      <td>19.822962</td>\n",
       "      <td>2021-11-04</td>\n",
       "      <td>11</td>\n",
       "      <td>3001-4000</td>\n",
       "      <td>11-20</td>\n",
       "      <td>Альберт</td>\n",
       "      <td>25</td>\n",
       "      <td>Краснодар</td>\n",
       "      <td>free</td>\n",
       "      <td>8</td>\n",
       "      <td>50</td>\n",
       "      <td>0</td>\n",
       "    </tr>\n",
       "    <tr>\n",
       "      <th>18064</th>\n",
       "      <td>1534</td>\n",
       "      <td>2840.423057</td>\n",
       "      <td>21.409799</td>\n",
       "      <td>2021-11-16</td>\n",
       "      <td>11</td>\n",
       "      <td>2001-3000</td>\n",
       "      <td>21-30</td>\n",
       "      <td>Альберт</td>\n",
       "      <td>25</td>\n",
       "      <td>Краснодар</td>\n",
       "      <td>free</td>\n",
       "      <td>8</td>\n",
       "      <td>50</td>\n",
       "      <td>0</td>\n",
       "    </tr>\n",
       "    <tr>\n",
       "      <th>18065</th>\n",
       "      <td>1534</td>\n",
       "      <td>3826.185507</td>\n",
       "      <td>18.435051</td>\n",
       "      <td>2021-11-18</td>\n",
       "      <td>11</td>\n",
       "      <td>3001-4000</td>\n",
       "      <td>11-20</td>\n",
       "      <td>Альберт</td>\n",
       "      <td>25</td>\n",
       "      <td>Краснодар</td>\n",
       "      <td>free</td>\n",
       "      <td>8</td>\n",
       "      <td>50</td>\n",
       "      <td>0</td>\n",
       "    </tr>\n",
       "    <tr>\n",
       "      <th>18066</th>\n",
       "      <td>1534</td>\n",
       "      <td>2902.308661</td>\n",
       "      <td>16.674362</td>\n",
       "      <td>2021-11-27</td>\n",
       "      <td>11</td>\n",
       "      <td>2001-3000</td>\n",
       "      <td>11-20</td>\n",
       "      <td>Альберт</td>\n",
       "      <td>25</td>\n",
       "      <td>Краснодар</td>\n",
       "      <td>free</td>\n",
       "      <td>8</td>\n",
       "      <td>50</td>\n",
       "      <td>0</td>\n",
       "    </tr>\n",
       "    <tr>\n",
       "      <th>18067</th>\n",
       "      <td>1534</td>\n",
       "      <td>2371.711192</td>\n",
       "      <td>15.893917</td>\n",
       "      <td>2021-12-29</td>\n",
       "      <td>12</td>\n",
       "      <td>2001-3000</td>\n",
       "      <td>11-20</td>\n",
       "      <td>Альберт</td>\n",
       "      <td>25</td>\n",
       "      <td>Краснодар</td>\n",
       "      <td>free</td>\n",
       "      <td>8</td>\n",
       "      <td>50</td>\n",
       "      <td>0</td>\n",
       "    </tr>\n",
       "  </tbody>\n",
       "</table>\n",
       "<p>18068 rows × 14 columns</p>\n",
       "</div>"
      ],
      "text/plain": [
       "       user_id     distance   duration       date  month distance_category  \\\n",
       "0            1  4409.919140  25.599769 2021-01-01      1         4001-5000   \n",
       "1            1  2617.592153  15.816871 2021-01-18      1         2001-3000   \n",
       "2            1   754.159807   6.232113 2021-04-20      4            0-1000   \n",
       "3            1  2694.783254  18.511000 2021-08-11      8         2001-3000   \n",
       "4            1  4028.687306  26.265803 2021-08-28      8         4001-5000   \n",
       "...        ...          ...        ...        ...    ...               ...   \n",
       "18063     1534  3781.098080  19.822962 2021-11-04     11         3001-4000   \n",
       "18064     1534  2840.423057  21.409799 2021-11-16     11         2001-3000   \n",
       "18065     1534  3826.185507  18.435051 2021-11-18     11         3001-4000   \n",
       "18066     1534  2902.308661  16.674362 2021-11-27     11         2001-3000   \n",
       "18067     1534  2371.711192  15.893917 2021-12-29     12         2001-3000   \n",
       "\n",
       "      duration_category     name  age       city subscription_type  \\\n",
       "0                 21-30     Кира   22     Тюмень             ultra   \n",
       "1                 11-20     Кира   22     Тюмень             ultra   \n",
       "2                  0-10     Кира   22     Тюмень             ultra   \n",
       "3                 11-20     Кира   22     Тюмень             ultra   \n",
       "4                 21-30     Кира   22     Тюмень             ultra   \n",
       "...                 ...      ...  ...        ...               ...   \n",
       "18063             11-20  Альберт   25  Краснодар              free   \n",
       "18064             21-30  Альберт   25  Краснодар              free   \n",
       "18065             11-20  Альберт   25  Краснодар              free   \n",
       "18066             11-20  Альберт   25  Краснодар              free   \n",
       "18067             11-20  Альберт   25  Краснодар              free   \n",
       "\n",
       "       minute_price  start_ride_price  subscription_fee  \n",
       "0                 6                 0               199  \n",
       "1                 6                 0               199  \n",
       "2                 6                 0               199  \n",
       "3                 6                 0               199  \n",
       "4                 6                 0               199  \n",
       "...             ...               ...               ...  \n",
       "18063             8                50                 0  \n",
       "18064             8                50                 0  \n",
       "18065             8                50                 0  \n",
       "18066             8                50                 0  \n",
       "18067             8                50                 0  \n",
       "\n",
       "[18068 rows x 14 columns]"
      ]
     },
     "metadata": {},
     "output_type": "display_data"
    }
   ],
   "source": [
    "# Отображаем объединенные данные merged_data_users_rides_subscriptions\n",
    "display(merged_data_users_rides_subscriptions)"
   ]
  },
  {
   "cell_type": "code",
   "execution_count": 28,
   "id": "1c022d59",
   "metadata": {},
   "outputs": [
    {
     "name": "stdout",
     "output_type": "stream",
     "text": [
      "Размерность data_rides: (18068, 7)\n",
      "Размерность data_users: (1534, 5)\n",
      "Размерность data_subscriptions: (2, 4)\n",
      "Размерность объединенной таблицы: (18068, 14)\n",
      "Количество пропусков в объединенной таблице: 0\n"
     ]
    }
   ],
   "source": [
    "# Проверка размерности до объединения\n",
    "print(\"Размерность data_rides:\", data_rides.shape)\n",
    "print(\"Размерность data_users:\", data_users.shape)\n",
    "print(\"Размерность data_subscriptions:\", data_subscriptions.shape)\n",
    "\n",
    "# Проверка размерности после объединения\n",
    "print(\"Размерность объединенной таблицы:\", merged_data_users_rides_subscriptions.shape)\n",
    "\n",
    "# Проверка наличия пропусков после объединения\n",
    "print(\"Количество пропусков в объединенной таблице:\", merged_data_users_rides_subscriptions.isnull().sum().sum())"
   ]
  },
  {
   "cell_type": "markdown",
   "id": "ebce6c85",
   "metadata": {},
   "source": [
    "Процесс объединения датафреймов был выполнен успешно. Размерность результирующей таблицы по строкам осталась неизменной, что свидетельствует о корректности объединения. Отсутствие пропусков после объединения подтверждает, что данные из различных источников были согласованы и полны. Теперь у нас есть единый датафрейм, который можно использовать для дальнейшего анализа и извлечения полезной информации."
   ]
  },
  {
   "cell_type": "markdown",
   "id": "23dd84cc",
   "metadata": {},
   "source": [
    "***4.2 Создайте ещё два датафрейма из датафрейма, созданного на этапе 4.1:***"
   ]
  },
  {
   "cell_type": "markdown",
   "id": "5a6a9b69",
   "metadata": {},
   "source": [
    "**С данными о пользователях с подпиской:**"
   ]
  },
  {
   "cell_type": "code",
   "execution_count": 29,
   "id": "a3fce065",
   "metadata": {},
   "outputs": [
    {
     "data": {
      "text/html": [
       "<div>\n",
       "<style scoped>\n",
       "    .dataframe tbody tr th:only-of-type {\n",
       "        vertical-align: middle;\n",
       "    }\n",
       "\n",
       "    .dataframe tbody tr th {\n",
       "        vertical-align: top;\n",
       "    }\n",
       "\n",
       "    .dataframe thead th {\n",
       "        text-align: right;\n",
       "    }\n",
       "</style>\n",
       "<table border=\"1\" class=\"dataframe\">\n",
       "  <thead>\n",
       "    <tr style=\"text-align: right;\">\n",
       "      <th></th>\n",
       "      <th>user_id</th>\n",
       "      <th>distance</th>\n",
       "      <th>duration</th>\n",
       "      <th>date</th>\n",
       "      <th>month</th>\n",
       "      <th>distance_category</th>\n",
       "      <th>duration_category</th>\n",
       "      <th>name</th>\n",
       "      <th>age</th>\n",
       "      <th>city</th>\n",
       "      <th>subscription_type</th>\n",
       "      <th>minute_price</th>\n",
       "      <th>start_ride_price</th>\n",
       "      <th>subscription_fee</th>\n",
       "    </tr>\n",
       "  </thead>\n",
       "  <tbody>\n",
       "    <tr>\n",
       "      <th>0</th>\n",
       "      <td>1</td>\n",
       "      <td>4409.919140</td>\n",
       "      <td>25.599769</td>\n",
       "      <td>2021-01-01</td>\n",
       "      <td>1</td>\n",
       "      <td>4001-5000</td>\n",
       "      <td>21-30</td>\n",
       "      <td>Кира</td>\n",
       "      <td>22</td>\n",
       "      <td>Тюмень</td>\n",
       "      <td>ultra</td>\n",
       "      <td>6</td>\n",
       "      <td>0</td>\n",
       "      <td>199</td>\n",
       "    </tr>\n",
       "    <tr>\n",
       "      <th>1</th>\n",
       "      <td>1</td>\n",
       "      <td>2617.592153</td>\n",
       "      <td>15.816871</td>\n",
       "      <td>2021-01-18</td>\n",
       "      <td>1</td>\n",
       "      <td>2001-3000</td>\n",
       "      <td>11-20</td>\n",
       "      <td>Кира</td>\n",
       "      <td>22</td>\n",
       "      <td>Тюмень</td>\n",
       "      <td>ultra</td>\n",
       "      <td>6</td>\n",
       "      <td>0</td>\n",
       "      <td>199</td>\n",
       "    </tr>\n",
       "    <tr>\n",
       "      <th>2</th>\n",
       "      <td>1</td>\n",
       "      <td>754.159807</td>\n",
       "      <td>6.232113</td>\n",
       "      <td>2021-04-20</td>\n",
       "      <td>4</td>\n",
       "      <td>0-1000</td>\n",
       "      <td>0-10</td>\n",
       "      <td>Кира</td>\n",
       "      <td>22</td>\n",
       "      <td>Тюмень</td>\n",
       "      <td>ultra</td>\n",
       "      <td>6</td>\n",
       "      <td>0</td>\n",
       "      <td>199</td>\n",
       "    </tr>\n",
       "    <tr>\n",
       "      <th>3</th>\n",
       "      <td>1</td>\n",
       "      <td>2694.783254</td>\n",
       "      <td>18.511000</td>\n",
       "      <td>2021-08-11</td>\n",
       "      <td>8</td>\n",
       "      <td>2001-3000</td>\n",
       "      <td>11-20</td>\n",
       "      <td>Кира</td>\n",
       "      <td>22</td>\n",
       "      <td>Тюмень</td>\n",
       "      <td>ultra</td>\n",
       "      <td>6</td>\n",
       "      <td>0</td>\n",
       "      <td>199</td>\n",
       "    </tr>\n",
       "    <tr>\n",
       "      <th>4</th>\n",
       "      <td>1</td>\n",
       "      <td>4028.687306</td>\n",
       "      <td>26.265803</td>\n",
       "      <td>2021-08-28</td>\n",
       "      <td>8</td>\n",
       "      <td>4001-5000</td>\n",
       "      <td>21-30</td>\n",
       "      <td>Кира</td>\n",
       "      <td>22</td>\n",
       "      <td>Тюмень</td>\n",
       "      <td>ultra</td>\n",
       "      <td>6</td>\n",
       "      <td>0</td>\n",
       "      <td>199</td>\n",
       "    </tr>\n",
       "    <tr>\n",
       "      <th>...</th>\n",
       "      <td>...</td>\n",
       "      <td>...</td>\n",
       "      <td>...</td>\n",
       "      <td>...</td>\n",
       "      <td>...</td>\n",
       "      <td>...</td>\n",
       "      <td>...</td>\n",
       "      <td>...</td>\n",
       "      <td>...</td>\n",
       "      <td>...</td>\n",
       "      <td>...</td>\n",
       "      <td>...</td>\n",
       "      <td>...</td>\n",
       "      <td>...</td>\n",
       "    </tr>\n",
       "    <tr>\n",
       "      <th>6495</th>\n",
       "      <td>699</td>\n",
       "      <td>3973.046497</td>\n",
       "      <td>24.671163</td>\n",
       "      <td>2021-08-29</td>\n",
       "      <td>8</td>\n",
       "      <td>3001-4000</td>\n",
       "      <td>21-30</td>\n",
       "      <td>Оксана</td>\n",
       "      <td>22</td>\n",
       "      <td>Москва</td>\n",
       "      <td>ultra</td>\n",
       "      <td>6</td>\n",
       "      <td>0</td>\n",
       "      <td>199</td>\n",
       "    </tr>\n",
       "    <tr>\n",
       "      <th>6496</th>\n",
       "      <td>699</td>\n",
       "      <td>3288.702563</td>\n",
       "      <td>15.892886</td>\n",
       "      <td>2021-09-12</td>\n",
       "      <td>9</td>\n",
       "      <td>3001-4000</td>\n",
       "      <td>11-20</td>\n",
       "      <td>Оксана</td>\n",
       "      <td>22</td>\n",
       "      <td>Москва</td>\n",
       "      <td>ultra</td>\n",
       "      <td>6</td>\n",
       "      <td>0</td>\n",
       "      <td>199</td>\n",
       "    </tr>\n",
       "    <tr>\n",
       "      <th>6497</th>\n",
       "      <td>699</td>\n",
       "      <td>3076.159348</td>\n",
       "      <td>14.389525</td>\n",
       "      <td>2021-09-26</td>\n",
       "      <td>9</td>\n",
       "      <td>3001-4000</td>\n",
       "      <td>11-20</td>\n",
       "      <td>Оксана</td>\n",
       "      <td>22</td>\n",
       "      <td>Москва</td>\n",
       "      <td>ultra</td>\n",
       "      <td>6</td>\n",
       "      <td>0</td>\n",
       "      <td>199</td>\n",
       "    </tr>\n",
       "    <tr>\n",
       "      <th>6498</th>\n",
       "      <td>699</td>\n",
       "      <td>4707.845501</td>\n",
       "      <td>15.839579</td>\n",
       "      <td>2021-10-17</td>\n",
       "      <td>10</td>\n",
       "      <td>4001-5000</td>\n",
       "      <td>11-20</td>\n",
       "      <td>Оксана</td>\n",
       "      <td>22</td>\n",
       "      <td>Москва</td>\n",
       "      <td>ultra</td>\n",
       "      <td>6</td>\n",
       "      <td>0</td>\n",
       "      <td>199</td>\n",
       "    </tr>\n",
       "    <tr>\n",
       "      <th>6499</th>\n",
       "      <td>699</td>\n",
       "      <td>3202.890770</td>\n",
       "      <td>25.217345</td>\n",
       "      <td>2021-12-03</td>\n",
       "      <td>12</td>\n",
       "      <td>3001-4000</td>\n",
       "      <td>21-30</td>\n",
       "      <td>Оксана</td>\n",
       "      <td>22</td>\n",
       "      <td>Москва</td>\n",
       "      <td>ultra</td>\n",
       "      <td>6</td>\n",
       "      <td>0</td>\n",
       "      <td>199</td>\n",
       "    </tr>\n",
       "  </tbody>\n",
       "</table>\n",
       "<p>6500 rows × 14 columns</p>\n",
       "</div>"
      ],
      "text/plain": [
       "      user_id     distance   duration       date  month distance_category  \\\n",
       "0           1  4409.919140  25.599769 2021-01-01      1         4001-5000   \n",
       "1           1  2617.592153  15.816871 2021-01-18      1         2001-3000   \n",
       "2           1   754.159807   6.232113 2021-04-20      4            0-1000   \n",
       "3           1  2694.783254  18.511000 2021-08-11      8         2001-3000   \n",
       "4           1  4028.687306  26.265803 2021-08-28      8         4001-5000   \n",
       "...       ...          ...        ...        ...    ...               ...   \n",
       "6495      699  3973.046497  24.671163 2021-08-29      8         3001-4000   \n",
       "6496      699  3288.702563  15.892886 2021-09-12      9         3001-4000   \n",
       "6497      699  3076.159348  14.389525 2021-09-26      9         3001-4000   \n",
       "6498      699  4707.845501  15.839579 2021-10-17     10         4001-5000   \n",
       "6499      699  3202.890770  25.217345 2021-12-03     12         3001-4000   \n",
       "\n",
       "     duration_category    name  age    city subscription_type  minute_price  \\\n",
       "0                21-30    Кира   22  Тюмень             ultra             6   \n",
       "1                11-20    Кира   22  Тюмень             ultra             6   \n",
       "2                 0-10    Кира   22  Тюмень             ultra             6   \n",
       "3                11-20    Кира   22  Тюмень             ultra             6   \n",
       "4                21-30    Кира   22  Тюмень             ultra             6   \n",
       "...                ...     ...  ...     ...               ...           ...   \n",
       "6495             21-30  Оксана   22  Москва             ultra             6   \n",
       "6496             11-20  Оксана   22  Москва             ultra             6   \n",
       "6497             11-20  Оксана   22  Москва             ultra             6   \n",
       "6498             11-20  Оксана   22  Москва             ultra             6   \n",
       "6499             21-30  Оксана   22  Москва             ultra             6   \n",
       "\n",
       "      start_ride_price  subscription_fee  \n",
       "0                    0               199  \n",
       "1                    0               199  \n",
       "2                    0               199  \n",
       "3                    0               199  \n",
       "4                    0               199  \n",
       "...                ...               ...  \n",
       "6495                 0               199  \n",
       "6496                 0               199  \n",
       "6497                 0               199  \n",
       "6498                 0               199  \n",
       "6499                 0               199  \n",
       "\n",
       "[6500 rows x 14 columns]"
      ]
     },
     "metadata": {},
     "output_type": "display_data"
    }
   ],
   "source": [
    "# Создаем датафрейм для пользователей с подпиской 'ultra'\n",
    "ultra_users = merged_data_users_rides_subscriptions[merged_data_users_rides_subscriptions['subscription_type'] == 'ultra']\n",
    "display(ultra_users)"
   ]
  },
  {
   "cell_type": "markdown",
   "id": "56b43402",
   "metadata": {},
   "source": [
    "**С данными о пользователях без подписки:**"
   ]
  },
  {
   "cell_type": "code",
   "execution_count": 30,
   "id": "21d4c680",
   "metadata": {},
   "outputs": [
    {
     "data": {
      "text/html": [
       "<div>\n",
       "<style scoped>\n",
       "    .dataframe tbody tr th:only-of-type {\n",
       "        vertical-align: middle;\n",
       "    }\n",
       "\n",
       "    .dataframe tbody tr th {\n",
       "        vertical-align: top;\n",
       "    }\n",
       "\n",
       "    .dataframe thead th {\n",
       "        text-align: right;\n",
       "    }\n",
       "</style>\n",
       "<table border=\"1\" class=\"dataframe\">\n",
       "  <thead>\n",
       "    <tr style=\"text-align: right;\">\n",
       "      <th></th>\n",
       "      <th>user_id</th>\n",
       "      <th>distance</th>\n",
       "      <th>duration</th>\n",
       "      <th>date</th>\n",
       "      <th>month</th>\n",
       "      <th>distance_category</th>\n",
       "      <th>duration_category</th>\n",
       "      <th>name</th>\n",
       "      <th>age</th>\n",
       "      <th>city</th>\n",
       "      <th>subscription_type</th>\n",
       "      <th>minute_price</th>\n",
       "      <th>start_ride_price</th>\n",
       "      <th>subscription_fee</th>\n",
       "    </tr>\n",
       "  </thead>\n",
       "  <tbody>\n",
       "    <tr>\n",
       "      <th>6500</th>\n",
       "      <td>700</td>\n",
       "      <td>2515.690719</td>\n",
       "      <td>14.944286</td>\n",
       "      <td>2021-01-02</td>\n",
       "      <td>1</td>\n",
       "      <td>2001-3000</td>\n",
       "      <td>11-20</td>\n",
       "      <td>Айдар</td>\n",
       "      <td>22</td>\n",
       "      <td>Омск</td>\n",
       "      <td>free</td>\n",
       "      <td>8</td>\n",
       "      <td>50</td>\n",
       "      <td>0</td>\n",
       "    </tr>\n",
       "    <tr>\n",
       "      <th>6501</th>\n",
       "      <td>700</td>\n",
       "      <td>846.932642</td>\n",
       "      <td>16.234663</td>\n",
       "      <td>2021-02-01</td>\n",
       "      <td>2</td>\n",
       "      <td>0-1000</td>\n",
       "      <td>11-20</td>\n",
       "      <td>Айдар</td>\n",
       "      <td>22</td>\n",
       "      <td>Омск</td>\n",
       "      <td>free</td>\n",
       "      <td>8</td>\n",
       "      <td>50</td>\n",
       "      <td>0</td>\n",
       "    </tr>\n",
       "    <tr>\n",
       "      <th>6502</th>\n",
       "      <td>700</td>\n",
       "      <td>4004.434142</td>\n",
       "      <td>20.016628</td>\n",
       "      <td>2021-02-04</td>\n",
       "      <td>2</td>\n",
       "      <td>4001-5000</td>\n",
       "      <td>21-30</td>\n",
       "      <td>Айдар</td>\n",
       "      <td>22</td>\n",
       "      <td>Омск</td>\n",
       "      <td>free</td>\n",
       "      <td>8</td>\n",
       "      <td>50</td>\n",
       "      <td>0</td>\n",
       "    </tr>\n",
       "    <tr>\n",
       "      <th>6503</th>\n",
       "      <td>700</td>\n",
       "      <td>1205.911290</td>\n",
       "      <td>9.782872</td>\n",
       "      <td>2021-02-10</td>\n",
       "      <td>2</td>\n",
       "      <td>1001-2000</td>\n",
       "      <td>0-10</td>\n",
       "      <td>Айдар</td>\n",
       "      <td>22</td>\n",
       "      <td>Омск</td>\n",
       "      <td>free</td>\n",
       "      <td>8</td>\n",
       "      <td>50</td>\n",
       "      <td>0</td>\n",
       "    </tr>\n",
       "    <tr>\n",
       "      <th>6504</th>\n",
       "      <td>700</td>\n",
       "      <td>3047.379435</td>\n",
       "      <td>17.427673</td>\n",
       "      <td>2021-02-14</td>\n",
       "      <td>2</td>\n",
       "      <td>3001-4000</td>\n",
       "      <td>11-20</td>\n",
       "      <td>Айдар</td>\n",
       "      <td>22</td>\n",
       "      <td>Омск</td>\n",
       "      <td>free</td>\n",
       "      <td>8</td>\n",
       "      <td>50</td>\n",
       "      <td>0</td>\n",
       "    </tr>\n",
       "    <tr>\n",
       "      <th>...</th>\n",
       "      <td>...</td>\n",
       "      <td>...</td>\n",
       "      <td>...</td>\n",
       "      <td>...</td>\n",
       "      <td>...</td>\n",
       "      <td>...</td>\n",
       "      <td>...</td>\n",
       "      <td>...</td>\n",
       "      <td>...</td>\n",
       "      <td>...</td>\n",
       "      <td>...</td>\n",
       "      <td>...</td>\n",
       "      <td>...</td>\n",
       "      <td>...</td>\n",
       "    </tr>\n",
       "    <tr>\n",
       "      <th>18063</th>\n",
       "      <td>1534</td>\n",
       "      <td>3781.098080</td>\n",
       "      <td>19.822962</td>\n",
       "      <td>2021-11-04</td>\n",
       "      <td>11</td>\n",
       "      <td>3001-4000</td>\n",
       "      <td>11-20</td>\n",
       "      <td>Альберт</td>\n",
       "      <td>25</td>\n",
       "      <td>Краснодар</td>\n",
       "      <td>free</td>\n",
       "      <td>8</td>\n",
       "      <td>50</td>\n",
       "      <td>0</td>\n",
       "    </tr>\n",
       "    <tr>\n",
       "      <th>18064</th>\n",
       "      <td>1534</td>\n",
       "      <td>2840.423057</td>\n",
       "      <td>21.409799</td>\n",
       "      <td>2021-11-16</td>\n",
       "      <td>11</td>\n",
       "      <td>2001-3000</td>\n",
       "      <td>21-30</td>\n",
       "      <td>Альберт</td>\n",
       "      <td>25</td>\n",
       "      <td>Краснодар</td>\n",
       "      <td>free</td>\n",
       "      <td>8</td>\n",
       "      <td>50</td>\n",
       "      <td>0</td>\n",
       "    </tr>\n",
       "    <tr>\n",
       "      <th>18065</th>\n",
       "      <td>1534</td>\n",
       "      <td>3826.185507</td>\n",
       "      <td>18.435051</td>\n",
       "      <td>2021-11-18</td>\n",
       "      <td>11</td>\n",
       "      <td>3001-4000</td>\n",
       "      <td>11-20</td>\n",
       "      <td>Альберт</td>\n",
       "      <td>25</td>\n",
       "      <td>Краснодар</td>\n",
       "      <td>free</td>\n",
       "      <td>8</td>\n",
       "      <td>50</td>\n",
       "      <td>0</td>\n",
       "    </tr>\n",
       "    <tr>\n",
       "      <th>18066</th>\n",
       "      <td>1534</td>\n",
       "      <td>2902.308661</td>\n",
       "      <td>16.674362</td>\n",
       "      <td>2021-11-27</td>\n",
       "      <td>11</td>\n",
       "      <td>2001-3000</td>\n",
       "      <td>11-20</td>\n",
       "      <td>Альберт</td>\n",
       "      <td>25</td>\n",
       "      <td>Краснодар</td>\n",
       "      <td>free</td>\n",
       "      <td>8</td>\n",
       "      <td>50</td>\n",
       "      <td>0</td>\n",
       "    </tr>\n",
       "    <tr>\n",
       "      <th>18067</th>\n",
       "      <td>1534</td>\n",
       "      <td>2371.711192</td>\n",
       "      <td>15.893917</td>\n",
       "      <td>2021-12-29</td>\n",
       "      <td>12</td>\n",
       "      <td>2001-3000</td>\n",
       "      <td>11-20</td>\n",
       "      <td>Альберт</td>\n",
       "      <td>25</td>\n",
       "      <td>Краснодар</td>\n",
       "      <td>free</td>\n",
       "      <td>8</td>\n",
       "      <td>50</td>\n",
       "      <td>0</td>\n",
       "    </tr>\n",
       "  </tbody>\n",
       "</table>\n",
       "<p>11568 rows × 14 columns</p>\n",
       "</div>"
      ],
      "text/plain": [
       "       user_id     distance   duration       date  month distance_category  \\\n",
       "6500       700  2515.690719  14.944286 2021-01-02      1         2001-3000   \n",
       "6501       700   846.932642  16.234663 2021-02-01      2            0-1000   \n",
       "6502       700  4004.434142  20.016628 2021-02-04      2         4001-5000   \n",
       "6503       700  1205.911290   9.782872 2021-02-10      2         1001-2000   \n",
       "6504       700  3047.379435  17.427673 2021-02-14      2         3001-4000   \n",
       "...        ...          ...        ...        ...    ...               ...   \n",
       "18063     1534  3781.098080  19.822962 2021-11-04     11         3001-4000   \n",
       "18064     1534  2840.423057  21.409799 2021-11-16     11         2001-3000   \n",
       "18065     1534  3826.185507  18.435051 2021-11-18     11         3001-4000   \n",
       "18066     1534  2902.308661  16.674362 2021-11-27     11         2001-3000   \n",
       "18067     1534  2371.711192  15.893917 2021-12-29     12         2001-3000   \n",
       "\n",
       "      duration_category     name  age       city subscription_type  \\\n",
       "6500              11-20    Айдар   22       Омск              free   \n",
       "6501              11-20    Айдар   22       Омск              free   \n",
       "6502              21-30    Айдар   22       Омск              free   \n",
       "6503               0-10    Айдар   22       Омск              free   \n",
       "6504              11-20    Айдар   22       Омск              free   \n",
       "...                 ...      ...  ...        ...               ...   \n",
       "18063             11-20  Альберт   25  Краснодар              free   \n",
       "18064             21-30  Альберт   25  Краснодар              free   \n",
       "18065             11-20  Альберт   25  Краснодар              free   \n",
       "18066             11-20  Альберт   25  Краснодар              free   \n",
       "18067             11-20  Альберт   25  Краснодар              free   \n",
       "\n",
       "       minute_price  start_ride_price  subscription_fee  \n",
       "6500              8                50                 0  \n",
       "6501              8                50                 0  \n",
       "6502              8                50                 0  \n",
       "6503              8                50                 0  \n",
       "6504              8                50                 0  \n",
       "...             ...               ...               ...  \n",
       "18063             8                50                 0  \n",
       "18064             8                50                 0  \n",
       "18065             8                50                 0  \n",
       "18066             8                50                 0  \n",
       "18067             8                50                 0  \n",
       "\n",
       "[11568 rows x 14 columns]"
      ]
     },
     "metadata": {},
     "output_type": "display_data"
    }
   ],
   "source": [
    "# Создаем датафрейм для пользователей с подпиской 'free'\n",
    "free_users = merged_data_users_rides_subscriptions[merged_data_users_rides_subscriptions['subscription_type'] == 'free']\n",
    "display(free_users)"
   ]
  },
  {
   "cell_type": "code",
   "execution_count": 31,
   "id": "070999ec",
   "metadata": {},
   "outputs": [
    {
     "name": "stdout",
     "output_type": "stream",
     "text": [
      "Размерность для пользователей с подпиской 'ultra': (6500, 14)\n",
      "Размерность для пользователей с подпиской 'free': (11568, 14)\n",
      "Количество пропусков в датафрейме 'ultra_users': 0\n",
      "Количество пропусков в датафрейме 'free_users': 0\n"
     ]
    }
   ],
   "source": [
    "# Проверка размерности новых датафреймов\n",
    "print(\"Размерность для пользователей с подпиской 'ultra':\", ultra_users.shape)\n",
    "print(\"Размерность для пользователей с подпиской 'free':\", free_users.shape)\n",
    "\n",
    "# Проверка наличия пропусков\n",
    "print(\"Количество пропусков в датафрейме 'ultra_users':\", ultra_users.isnull().sum().sum())\n",
    "print(\"Количество пропусков в датафрейме 'free_users':\", free_users.isnull().sum().sum())"
   ]
  },
  {
   "cell_type": "markdown",
   "id": "14389481",
   "metadata": {},
   "source": [
    "На основе выполненного разделения объединенного датафрейма merged_data_users_rides_subscriptions на два новых датафрейма ultra_users и free_users, можно сделать следующий вывод:\n",
    "\n",
    "Корректность Разделения: Проверка размерности новых датафреймов поможет определить, было ли разделение данных выполнено корректно. Количество строк в этих датафреймах должно соответствовать ожидаемому количеству пользователей каждого типа подписки. Если сумма строк в обоих новых датафреймах соответствует общему количеству строк в исходном объединенном датафрейме, это указывает на успешное разделение данных.\n",
    "\n",
    "Отсутствие Пропусков: Отсутствие значительного количества пропусков в данных после разделения свидетельствует о том, что в процессе фильтрации не было потеряно важной информации. Это гарантирует, что данные в обоих датафреймах полны и готовы к дальнейшему анализу."
   ]
  },
  {
   "cell_type": "markdown",
   "id": "d1704cd0",
   "metadata": {},
   "source": [
    "***4.3 Визуализируйте информацию о расстоянии и времени поездок для пользователей обеих категорий.***"
   ]
  },
  {
   "cell_type": "markdown",
   "id": "77eb264a",
   "metadata": {},
   "source": [
    "**Распределение Расстояния Поездок**"
   ]
  },
  {
   "cell_type": "code",
   "execution_count": 32,
   "id": "021dd2e5",
   "metadata": {},
   "outputs": [
    {
     "data": {
      "image/png": "[encoded data removed]",
      "text/plain": [
       "<Figure size 864x432 with 1 Axes>"
      ]
     },
     "metadata": {
      "needs_background": "light"
     },
     "output_type": "display_data"
    }
   ],
   "source": [
    "# Гистограмма для расстояния поездок\n",
    "# Гистограмма для расстояния поездок\n",
    "plt.figure(figsize=(12, 6))\n",
    "plt.subplot(1, 2, 1)\n",
    "plt.hist(ultra_users['distance'], bins=20, alpha=0.5, label='Пользователи с подпиской', color='blue')  # Изменено на 'Ультра'\n",
    "plt.hist(free_users['distance'], bins=20, alpha=0.5, label='Пользователи без подписки', color='orange')  # Изменено на 'Бесплатно'\n",
    "plt.xlabel('Расстояние (метры)')\n",
    "plt.ylabel('Частота')\n",
    "plt.title('Распределение расстояния поездок')\n",
    "plt.legend()  # Легенда автоматически берет названия из label\n",
    "plt.show()"
   ]
  },
  {
   "cell_type": "code",
   "execution_count": 33,
   "id": "90ea5445",
   "metadata": {},
   "outputs": [
    {
     "name": "stdout",
     "output_type": "stream",
     "text": [
      "count    11568.000000\n",
      "mean      3045.495282\n",
      "std       1246.173806\n",
      "min          0.855683\n",
      "25%       2366.562689\n",
      "50%       3114.648465\n",
      "75%       3905.697894\n",
      "max       7211.007745\n",
      "Name: distance, dtype: float64\n",
      "count    6500.000000\n",
      "mean     3115.445388\n",
      "std       836.895330\n",
      "min       244.210438\n",
      "25%      2785.444017\n",
      "50%      3148.637229\n",
      "75%      3560.574425\n",
      "max      5699.769662\n",
      "Name: distance, dtype: float64\n"
     ]
    }
   ],
   "source": [
    "# Вывод описательной статистики\n",
    "print(free_users['distance'].describe())\n",
    "print(ultra_users['distance'].describe())"
   ]
  },
  {
   "cell_type": "markdown",
   "id": "b4883fc0",
   "metadata": {},
   "source": [
    "На основе описательной статистики для переменной \"расстояние\" (distance) можно сделать следующий вывод:\n",
    "\n",
    "Для пользователей с двумя типами подписок — 'free' и 'ultra':\n",
    "\n",
    "Общее количество наблюдений: В датасете для 'free' пользователей имеется 11,568 наблюдений, тогда как в датасете для 'ultra' пользователей — 6,500. Это указывает на большее количество пользователей с бесплатной подпиской по сравнению с платной.\n",
    "\n",
    "Среднее значение и стандартное отклонение: Среднее значение расстояния для 'free' пользователей составляет приблизительно 3045.50, со стандартным отклонением около 1246.17. Для 'ultra' пользователей среднее значение равно 3115.45, со стандартным отклонением 836.90. Это указывает на некоторую разницу в средних значениях расстояния, причем 'ultra' пользователи имеют более низкое стандартное отклонение, что говорит о более однородном распределении.\n",
    "\n",
    "Минимальное и максимальное значения: Минимальное значение расстояния для 'free' пользователей составляет 0.86, тогда как для 'ultra' пользователей минимальное значение равно 244.21. Максимальные значения составляют 7211.01 и 5699.77 соответственно. Это показывает, что как 'free', так и 'ultra' пользователи могут совершать как короткие, так и долгие поездки, но максимальные значения выше для 'free' пользователей.\n",
    "\n",
    "Квартили: Распределение расстояния (основываясь на 25%, 50% и 75% квартилях) показывает, что медианные значения для 'free' и 'ultra' пользователей примерно одинаковы (3114.65 против 3148.64), но третий квартиль для 'free' пользователей немного выше (3905.70 против 3560.57).\n",
    "\n",
    "Общий вывод: Пользователи с подпиской 'ultra' имеют немного более однородное и менее разнообразное распределение расстояния по сравнению с пользователями с бесплатной подпиской 'free'. Средние значения расстояния примерно равны, но 'free' пользователи имеют более высокий третий квартиль, что может указывать на большее разнообразие долгих поездок у этой группы пользователей."
   ]
  },
  {
   "cell_type": "code",
   "execution_count": 34,
   "id": "7b0cea22",
   "metadata": {},
   "outputs": [
    {
     "data": {
      "text/plain": [
       "<matplotlib.legend.Legend at 0x7efeda53cfd0>"
      ]
     },
     "execution_count": 34,
     "metadata": {},
     "output_type": "execute_result"
    },
    {
     "data": {
      "image/png": "[encoded data removed]",
      "text/plain": [
       "<Figure size 864x432 with 1 Axes>"
      ]
     },
     "metadata": {
      "needs_background": "light"
     },
     "output_type": "display_data"
    }
   ],
   "source": [
    "# Гистограмма для времени поездок\n",
    "plt.figure(figsize=(12, 6))\n",
    "plt.subplot(1, 2, 1)\n",
    "plt.hist(ultra_users['duration'], bins=20, alpha=0.5, label='Пользователи с подпиской', color='blue')\n",
    "plt.hist(free_users['duration'], bins=20, alpha=0.5, label='Пользователи без подписки', color='orange')\n",
    "plt.xlabel('Длительность (минуты)')\n",
    "plt.ylabel('Частота')\n",
    "plt.title('Распределение длительности поездок')\n",
    "plt.legend()"
   ]
  },
  {
   "cell_type": "code",
   "execution_count": 35,
   "id": "f34ce4b6",
   "metadata": {},
   "outputs": [
    {
     "name": "stdout",
     "output_type": "stream",
     "text": [
      "count    11568.000000\n",
      "mean        17.390909\n",
      "std          6.326803\n",
      "min          0.500000\n",
      "25%         12.958437\n",
      "50%         17.326890\n",
      "75%         21.594071\n",
      "max         34.948498\n",
      "Name: duration, dtype: float64\n",
      "count    6500.000000\n",
      "mean       18.541985\n",
      "std         5.572048\n",
      "min         3.760353\n",
      "25%        14.524654\n",
      "50%        18.178153\n",
      "75%        21.884129\n",
      "max        40.823963\n",
      "Name: duration, dtype: float64\n"
     ]
    }
   ],
   "source": [
    "# Вывод описательной статистики\n",
    "print(free_users['duration'].describe())\n",
    "print(ultra_users['duration'].describe())"
   ]
  },
  {
   "cell_type": "markdown",
   "id": "3d6a84ff",
   "metadata": {},
   "source": [
    "На основе описательной статистики продолжительности поездок для двух групп пользователей — 'free' и 'ultra', можно сделать следующие выводы:\n",
    "\n",
    "Сравнение средних значений: Средняя продолжительность поездок для пользователей с подпиской 'free' составляет приблизительно 17.39, в то время как для пользователей 'ultra' средняя продолжительность чуть выше и составляет около 18.54. Это означает, что в среднем пользователи 'ultra' совершают немного более длительные поездки по сравнению с пользователями 'free'.\n",
    "\n",
    "Стандартное отклонение: Стандартное отклонение продолжительности поездок для пользователей 'free' составляет около 6.33, тогда как для 'ultra' пользователей стандартное отклонение ниже и составляет около 5.57. Это указывает на более однородное распределение продолжительности поездок среди пользователей 'ultra'.\n",
    "\n",
    "Минимальное и максимальное значения: Минимальная продолжительность поездки для пользователей 'free' составляет 0.5, в то время как для 'ultra' пользователей минимальное значение выше — 3.76. Максимальные значения для обеих групп также различаются, составляя 34.95 для 'free' и 40.82 для 'ultra'. Это указывает на наличие как коротких, так и длительных поездок в обеих группах, но с некоторыми различиями в экстремальных значениях.\n",
    "\n",
    "Квартили: Распределение продолжительности поездок (основываясь на 25%, 50% и 75% квартилях) показывает, что медианное значение продолжительности для пользователей 'ultra' чуть выше (18.18 против 17.33), что указывает на более длительные средние поездки в этой группе. Третий квартиль (75%) также выше для 'ultra' пользователей (21.88 против 21.59), что может означать наличие более долгих поездок у этой группы.\n",
    "\n",
    "Общий вывод: Пользователи с подпиской 'ultra' имеют в среднем немного более длительные поездки, и их продолжительность более однородна по сравнению с пользователями 'free'. Однако, в обеих группах присутствуют как короткие, так и длительные поездки, и важно учитывать разнообразие этой переменной при анализе поведения пользователей."
   ]
  },
  {
   "cell_type": "markdown",
   "id": "402d620f",
   "metadata": {},
   "source": [
    "#### Шаг 5. Подсчёт выручки"
   ]
  },
  {
   "cell_type": "markdown",
   "id": "29a9cdbc",
   "metadata": {},
   "source": [
    "***5.1 Создайте датафрейм с агрегированными данными о поездках на основе датафрейма с объединёнными данными из шага 4: найдите суммарное расстояние, количество поездок и суммарное время для каждого пользователя за каждый месяц.***"
   ]
  },
  {
   "cell_type": "markdown",
   "id": "cffb3230",
   "metadata": {},
   "source": [
    "**С данными о пользователях с подпиской:**"
   ]
  },
  {
   "cell_type": "code",
   "execution_count": 36,
   "id": "a7455da9",
   "metadata": {},
   "outputs": [],
   "source": [
    "# Округляем продолжительность до ближайшего целого числа\n",
    "data_rides['duration'] = data_rides['duration'].round(0)"
   ]
  },
  {
   "cell_type": "code",
   "execution_count": 37,
   "id": "34bbf111",
   "metadata": {
    "scrolled": true
   },
   "outputs": [
    {
     "data": {
      "text/html": [
       "<div>\n",
       "<style scoped>\n",
       "    .dataframe tbody tr th:only-of-type {\n",
       "        vertical-align: middle;\n",
       "    }\n",
       "\n",
       "    .dataframe tbody tr th {\n",
       "        vertical-align: top;\n",
       "    }\n",
       "\n",
       "    .dataframe thead th {\n",
       "        text-align: right;\n",
       "    }\n",
       "</style>\n",
       "<table border=\"1\" class=\"dataframe\">\n",
       "  <thead>\n",
       "    <tr style=\"text-align: right;\">\n",
       "      <th></th>\n",
       "      <th>user_id</th>\n",
       "      <th>month</th>\n",
       "      <th>total_distance</th>\n",
       "      <th>total_rides</th>\n",
       "      <th>total_time</th>\n",
       "    </tr>\n",
       "  </thead>\n",
       "  <tbody>\n",
       "    <tr>\n",
       "      <th>0</th>\n",
       "      <td>1</td>\n",
       "      <td>1</td>\n",
       "      <td>7027.511294</td>\n",
       "      <td>2</td>\n",
       "      <td>41.416640</td>\n",
       "    </tr>\n",
       "    <tr>\n",
       "      <th>1</th>\n",
       "      <td>1</td>\n",
       "      <td>4</td>\n",
       "      <td>754.159807</td>\n",
       "      <td>1</td>\n",
       "      <td>6.232113</td>\n",
       "    </tr>\n",
       "    <tr>\n",
       "      <th>2</th>\n",
       "      <td>1</td>\n",
       "      <td>8</td>\n",
       "      <td>6723.470560</td>\n",
       "      <td>2</td>\n",
       "      <td>44.776802</td>\n",
       "    </tr>\n",
       "    <tr>\n",
       "      <th>3</th>\n",
       "      <td>1</td>\n",
       "      <td>10</td>\n",
       "      <td>5809.911100</td>\n",
       "      <td>2</td>\n",
       "      <td>31.578017</td>\n",
       "    </tr>\n",
       "    <tr>\n",
       "      <th>4</th>\n",
       "      <td>1</td>\n",
       "      <td>11</td>\n",
       "      <td>7003.499363</td>\n",
       "      <td>3</td>\n",
       "      <td>53.397424</td>\n",
       "    </tr>\n",
       "    <tr>\n",
       "      <th>5</th>\n",
       "      <td>1</td>\n",
       "      <td>12</td>\n",
       "      <td>6751.629942</td>\n",
       "      <td>2</td>\n",
       "      <td>27.203912</td>\n",
       "    </tr>\n",
       "    <tr>\n",
       "      <th>6</th>\n",
       "      <td>2</td>\n",
       "      <td>3</td>\n",
       "      <td>10187.723006</td>\n",
       "      <td>3</td>\n",
       "      <td>60.959959</td>\n",
       "    </tr>\n",
       "    <tr>\n",
       "      <th>7</th>\n",
       "      <td>2</td>\n",
       "      <td>4</td>\n",
       "      <td>6164.381824</td>\n",
       "      <td>2</td>\n",
       "      <td>39.048633</td>\n",
       "    </tr>\n",
       "    <tr>\n",
       "      <th>8</th>\n",
       "      <td>2</td>\n",
       "      <td>6</td>\n",
       "      <td>3255.338202</td>\n",
       "      <td>1</td>\n",
       "      <td>13.851127</td>\n",
       "    </tr>\n",
       "    <tr>\n",
       "      <th>9</th>\n",
       "      <td>2</td>\n",
       "      <td>7</td>\n",
       "      <td>6780.722964</td>\n",
       "      <td>2</td>\n",
       "      <td>46.170157</td>\n",
       "    </tr>\n",
       "    <tr>\n",
       "      <th>10</th>\n",
       "      <td>2</td>\n",
       "      <td>8</td>\n",
       "      <td>923.007439</td>\n",
       "      <td>1</td>\n",
       "      <td>6.914760</td>\n",
       "    </tr>\n",
       "    <tr>\n",
       "      <th>11</th>\n",
       "      <td>2</td>\n",
       "      <td>10</td>\n",
       "      <td>2824.636598</td>\n",
       "      <td>1</td>\n",
       "      <td>18.779128</td>\n",
       "    </tr>\n",
       "    <tr>\n",
       "      <th>12</th>\n",
       "      <td>2</td>\n",
       "      <td>12</td>\n",
       "      <td>3828.248580</td>\n",
       "      <td>1</td>\n",
       "      <td>11.920514</td>\n",
       "    </tr>\n",
       "    <tr>\n",
       "      <th>13</th>\n",
       "      <td>3</td>\n",
       "      <td>1</td>\n",
       "      <td>3061.777147</td>\n",
       "      <td>1</td>\n",
       "      <td>12.654443</td>\n",
       "    </tr>\n",
       "    <tr>\n",
       "      <th>14</th>\n",
       "      <td>3</td>\n",
       "      <td>2</td>\n",
       "      <td>5421.152016</td>\n",
       "      <td>2</td>\n",
       "      <td>37.568637</td>\n",
       "    </tr>\n",
       "    <tr>\n",
       "      <th>15</th>\n",
       "      <td>3</td>\n",
       "      <td>4</td>\n",
       "      <td>2956.651632</td>\n",
       "      <td>1</td>\n",
       "      <td>20.671364</td>\n",
       "    </tr>\n",
       "    <tr>\n",
       "      <th>16</th>\n",
       "      <td>3</td>\n",
       "      <td>5</td>\n",
       "      <td>9064.026918</td>\n",
       "      <td>3</td>\n",
       "      <td>61.404503</td>\n",
       "    </tr>\n",
       "    <tr>\n",
       "      <th>17</th>\n",
       "      <td>3</td>\n",
       "      <td>7</td>\n",
       "      <td>10919.595403</td>\n",
       "      <td>3</td>\n",
       "      <td>65.519784</td>\n",
       "    </tr>\n",
       "    <tr>\n",
       "      <th>18</th>\n",
       "      <td>3</td>\n",
       "      <td>9</td>\n",
       "      <td>2891.012822</td>\n",
       "      <td>1</td>\n",
       "      <td>22.390055</td>\n",
       "    </tr>\n",
       "    <tr>\n",
       "      <th>19</th>\n",
       "      <td>3</td>\n",
       "      <td>12</td>\n",
       "      <td>2593.381928</td>\n",
       "      <td>1</td>\n",
       "      <td>12.984728</td>\n",
       "    </tr>\n",
       "  </tbody>\n",
       "</table>\n",
       "</div>"
      ],
      "text/plain": [
       "    user_id  month  total_distance  total_rides  total_time\n",
       "0         1      1     7027.511294            2   41.416640\n",
       "1         1      4      754.159807            1    6.232113\n",
       "2         1      8     6723.470560            2   44.776802\n",
       "3         1     10     5809.911100            2   31.578017\n",
       "4         1     11     7003.499363            3   53.397424\n",
       "5         1     12     6751.629942            2   27.203912\n",
       "6         2      3    10187.723006            3   60.959959\n",
       "7         2      4     6164.381824            2   39.048633\n",
       "8         2      6     3255.338202            1   13.851127\n",
       "9         2      7     6780.722964            2   46.170157\n",
       "10        2      8      923.007439            1    6.914760\n",
       "11        2     10     2824.636598            1   18.779128\n",
       "12        2     12     3828.248580            1   11.920514\n",
       "13        3      1     3061.777147            1   12.654443\n",
       "14        3      2     5421.152016            2   37.568637\n",
       "15        3      4     2956.651632            1   20.671364\n",
       "16        3      5     9064.026918            3   61.404503\n",
       "17        3      7    10919.595403            3   65.519784\n",
       "18        3      9     2891.012822            1   22.390055\n",
       "19        3     12     2593.381928            1   12.984728"
      ]
     },
     "metadata": {},
     "output_type": "display_data"
    }
   ],
   "source": [
    "# Группируем данные по user_id и month, агрегируем сумму расстояний, количество поездок и общее время\n",
    "ultra_users_aggregated_data = ultra_users.groupby(['user_id', 'month']).agg(\n",
    "    total_distance=('distance', 'sum'),  \n",
    "    total_rides=('date', 'count'),       \n",
    "    total_time=('duration', 'sum')       \n",
    ").reset_index()\n",
    "\n",
    "# Выведем первые строки агрегированного датафрейма (первые 30 строк)\n",
    "display(ultra_users_aggregated_data.head(20))"
   ]
  },
  {
   "cell_type": "markdown",
   "id": "1466413a",
   "metadata": {},
   "source": [
    "**С данными о пользователях без подписки:**"
   ]
  },
  {
   "cell_type": "code",
   "execution_count": 38,
   "id": "0ac24dd4",
   "metadata": {
    "scrolled": true
   },
   "outputs": [
    {
     "data": {
      "text/html": [
       "<div>\n",
       "<style scoped>\n",
       "    .dataframe tbody tr th:only-of-type {\n",
       "        vertical-align: middle;\n",
       "    }\n",
       "\n",
       "    .dataframe tbody tr th {\n",
       "        vertical-align: top;\n",
       "    }\n",
       "\n",
       "    .dataframe thead th {\n",
       "        text-align: right;\n",
       "    }\n",
       "</style>\n",
       "<table border=\"1\" class=\"dataframe\">\n",
       "  <thead>\n",
       "    <tr style=\"text-align: right;\">\n",
       "      <th></th>\n",
       "      <th>user_id</th>\n",
       "      <th>month</th>\n",
       "      <th>total_distance</th>\n",
       "      <th>total_rides</th>\n",
       "      <th>total_time</th>\n",
       "    </tr>\n",
       "  </thead>\n",
       "  <tbody>\n",
       "    <tr>\n",
       "      <th>0</th>\n",
       "      <td>700</td>\n",
       "      <td>1</td>\n",
       "      <td>2515.690719</td>\n",
       "      <td>1</td>\n",
       "      <td>14.944286</td>\n",
       "    </tr>\n",
       "    <tr>\n",
       "      <th>1</th>\n",
       "      <td>700</td>\n",
       "      <td>2</td>\n",
       "      <td>13446.659764</td>\n",
       "      <td>5</td>\n",
       "      <td>85.829845</td>\n",
       "    </tr>\n",
       "    <tr>\n",
       "      <th>2</th>\n",
       "      <td>700</td>\n",
       "      <td>3</td>\n",
       "      <td>3798.334905</td>\n",
       "      <td>1</td>\n",
       "      <td>18.243756</td>\n",
       "    </tr>\n",
       "    <tr>\n",
       "      <th>3</th>\n",
       "      <td>700</td>\n",
       "      <td>4</td>\n",
       "      <td>2984.551206</td>\n",
       "      <td>1</td>\n",
       "      <td>15.424899</td>\n",
       "    </tr>\n",
       "    <tr>\n",
       "      <th>4</th>\n",
       "      <td>700</td>\n",
       "      <td>6</td>\n",
       "      <td>5927.650988</td>\n",
       "      <td>2</td>\n",
       "      <td>28.077657</td>\n",
       "    </tr>\n",
       "    <tr>\n",
       "      <th>5</th>\n",
       "      <td>700</td>\n",
       "      <td>7</td>\n",
       "      <td>4399.206279</td>\n",
       "      <td>2</td>\n",
       "      <td>20.595752</td>\n",
       "    </tr>\n",
       "    <tr>\n",
       "      <th>6</th>\n",
       "      <td>700</td>\n",
       "      <td>8</td>\n",
       "      <td>4071.654669</td>\n",
       "      <td>1</td>\n",
       "      <td>16.370546</td>\n",
       "    </tr>\n",
       "    <tr>\n",
       "      <th>7</th>\n",
       "      <td>700</td>\n",
       "      <td>10</td>\n",
       "      <td>6322.578618</td>\n",
       "      <td>2</td>\n",
       "      <td>42.621488</td>\n",
       "    </tr>\n",
       "    <tr>\n",
       "      <th>8</th>\n",
       "      <td>700</td>\n",
       "      <td>11</td>\n",
       "      <td>8735.782625</td>\n",
       "      <td>3</td>\n",
       "      <td>31.116714</td>\n",
       "    </tr>\n",
       "    <tr>\n",
       "      <th>9</th>\n",
       "      <td>701</td>\n",
       "      <td>1</td>\n",
       "      <td>2676.472894</td>\n",
       "      <td>1</td>\n",
       "      <td>17.470598</td>\n",
       "    </tr>\n",
       "    <tr>\n",
       "      <th>10</th>\n",
       "      <td>701</td>\n",
       "      <td>2</td>\n",
       "      <td>5637.334007</td>\n",
       "      <td>2</td>\n",
       "      <td>26.866500</td>\n",
       "    </tr>\n",
       "    <tr>\n",
       "      <th>11</th>\n",
       "      <td>701</td>\n",
       "      <td>3</td>\n",
       "      <td>2802.021357</td>\n",
       "      <td>1</td>\n",
       "      <td>16.008663</td>\n",
       "    </tr>\n",
       "    <tr>\n",
       "      <th>12</th>\n",
       "      <td>701</td>\n",
       "      <td>4</td>\n",
       "      <td>3509.012965</td>\n",
       "      <td>1</td>\n",
       "      <td>13.081094</td>\n",
       "    </tr>\n",
       "    <tr>\n",
       "      <th>13</th>\n",
       "      <td>701</td>\n",
       "      <td>5</td>\n",
       "      <td>2465.852577</td>\n",
       "      <td>1</td>\n",
       "      <td>14.283970</td>\n",
       "    </tr>\n",
       "    <tr>\n",
       "      <th>14</th>\n",
       "      <td>701</td>\n",
       "      <td>6</td>\n",
       "      <td>4634.620760</td>\n",
       "      <td>2</td>\n",
       "      <td>25.024756</td>\n",
       "    </tr>\n",
       "    <tr>\n",
       "      <th>15</th>\n",
       "      <td>701</td>\n",
       "      <td>7</td>\n",
       "      <td>12970.722682</td>\n",
       "      <td>4</td>\n",
       "      <td>64.135877</td>\n",
       "    </tr>\n",
       "    <tr>\n",
       "      <th>16</th>\n",
       "      <td>701</td>\n",
       "      <td>8</td>\n",
       "      <td>7628.751294</td>\n",
       "      <td>2</td>\n",
       "      <td>17.941020</td>\n",
       "    </tr>\n",
       "    <tr>\n",
       "      <th>17</th>\n",
       "      <td>701</td>\n",
       "      <td>9</td>\n",
       "      <td>8659.573699</td>\n",
       "      <td>2</td>\n",
       "      <td>31.579062</td>\n",
       "    </tr>\n",
       "    <tr>\n",
       "      <th>18</th>\n",
       "      <td>701</td>\n",
       "      <td>10</td>\n",
       "      <td>8395.260013</td>\n",
       "      <td>2</td>\n",
       "      <td>42.142452</td>\n",
       "    </tr>\n",
       "    <tr>\n",
       "      <th>19</th>\n",
       "      <td>701</td>\n",
       "      <td>12</td>\n",
       "      <td>2773.396606</td>\n",
       "      <td>2</td>\n",
       "      <td>21.245082</td>\n",
       "    </tr>\n",
       "  </tbody>\n",
       "</table>\n",
       "</div>"
      ],
      "text/plain": [
       "    user_id  month  total_distance  total_rides  total_time\n",
       "0       700      1     2515.690719            1   14.944286\n",
       "1       700      2    13446.659764            5   85.829845\n",
       "2       700      3     3798.334905            1   18.243756\n",
       "3       700      4     2984.551206            1   15.424899\n",
       "4       700      6     5927.650988            2   28.077657\n",
       "5       700      7     4399.206279            2   20.595752\n",
       "6       700      8     4071.654669            1   16.370546\n",
       "7       700     10     6322.578618            2   42.621488\n",
       "8       700     11     8735.782625            3   31.116714\n",
       "9       701      1     2676.472894            1   17.470598\n",
       "10      701      2     5637.334007            2   26.866500\n",
       "11      701      3     2802.021357            1   16.008663\n",
       "12      701      4     3509.012965            1   13.081094\n",
       "13      701      5     2465.852577            1   14.283970\n",
       "14      701      6     4634.620760            2   25.024756\n",
       "15      701      7    12970.722682            4   64.135877\n",
       "16      701      8     7628.751294            2   17.941020\n",
       "17      701      9     8659.573699            2   31.579062\n",
       "18      701     10     8395.260013            2   42.142452\n",
       "19      701     12     2773.396606            2   21.245082"
      ]
     },
     "metadata": {},
     "output_type": "display_data"
    }
   ],
   "source": [
    "# Группируем данные по user_id и month, агрегируем сумму расстояний, количество поездок и общее время\n",
    "free_users_aggregated_data = free_users.groupby(['user_id', 'month']).agg(\n",
    "    total_distance=('distance', 'sum'),  \n",
    "    total_rides=('date', 'count'),       \n",
    "    total_time=('duration', 'sum')       \n",
    ").reset_index()\n",
    "\n",
    "# Выведем первые строки агрегированного датафрейма (первые 30 строк)\n",
    "display(free_users_aggregated_data.head(20))"
   ]
  },
  {
   "cell_type": "code",
   "execution_count": 39,
   "id": "7cba9a52",
   "metadata": {},
   "outputs": [
    {
     "data": {
      "text/html": [
       "<div>\n",
       "<style scoped>\n",
       "    .dataframe tbody tr th:only-of-type {\n",
       "        vertical-align: middle;\n",
       "    }\n",
       "\n",
       "    .dataframe tbody tr th {\n",
       "        vertical-align: top;\n",
       "    }\n",
       "\n",
       "    .dataframe thead th {\n",
       "        text-align: right;\n",
       "    }\n",
       "</style>\n",
       "<table border=\"1\" class=\"dataframe\">\n",
       "  <thead>\n",
       "    <tr style=\"text-align: right;\">\n",
       "      <th></th>\n",
       "      <th>user_id</th>\n",
       "      <th>month</th>\n",
       "      <th>subscription_type</th>\n",
       "      <th>total_distance</th>\n",
       "      <th>total_rides</th>\n",
       "      <th>total_time</th>\n",
       "    </tr>\n",
       "  </thead>\n",
       "  <tbody>\n",
       "    <tr>\n",
       "      <th>0</th>\n",
       "      <td>1</td>\n",
       "      <td>1</td>\n",
       "      <td>ultra</td>\n",
       "      <td>7027.511294</td>\n",
       "      <td>2</td>\n",
       "      <td>41.416640</td>\n",
       "    </tr>\n",
       "    <tr>\n",
       "      <th>1</th>\n",
       "      <td>1</td>\n",
       "      <td>4</td>\n",
       "      <td>ultra</td>\n",
       "      <td>754.159807</td>\n",
       "      <td>1</td>\n",
       "      <td>6.232113</td>\n",
       "    </tr>\n",
       "    <tr>\n",
       "      <th>2</th>\n",
       "      <td>1</td>\n",
       "      <td>8</td>\n",
       "      <td>ultra</td>\n",
       "      <td>6723.470560</td>\n",
       "      <td>2</td>\n",
       "      <td>44.776802</td>\n",
       "    </tr>\n",
       "    <tr>\n",
       "      <th>3</th>\n",
       "      <td>1</td>\n",
       "      <td>10</td>\n",
       "      <td>ultra</td>\n",
       "      <td>5809.911100</td>\n",
       "      <td>2</td>\n",
       "      <td>31.578017</td>\n",
       "    </tr>\n",
       "    <tr>\n",
       "      <th>4</th>\n",
       "      <td>1</td>\n",
       "      <td>11</td>\n",
       "      <td>ultra</td>\n",
       "      <td>7003.499363</td>\n",
       "      <td>3</td>\n",
       "      <td>53.397424</td>\n",
       "    </tr>\n",
       "    <tr>\n",
       "      <th>5</th>\n",
       "      <td>1</td>\n",
       "      <td>12</td>\n",
       "      <td>ultra</td>\n",
       "      <td>6751.629942</td>\n",
       "      <td>2</td>\n",
       "      <td>27.203912</td>\n",
       "    </tr>\n",
       "    <tr>\n",
       "      <th>6</th>\n",
       "      <td>2</td>\n",
       "      <td>3</td>\n",
       "      <td>ultra</td>\n",
       "      <td>10187.723006</td>\n",
       "      <td>3</td>\n",
       "      <td>60.959959</td>\n",
       "    </tr>\n",
       "    <tr>\n",
       "      <th>7</th>\n",
       "      <td>2</td>\n",
       "      <td>4</td>\n",
       "      <td>ultra</td>\n",
       "      <td>6164.381824</td>\n",
       "      <td>2</td>\n",
       "      <td>39.048633</td>\n",
       "    </tr>\n",
       "    <tr>\n",
       "      <th>8</th>\n",
       "      <td>2</td>\n",
       "      <td>6</td>\n",
       "      <td>ultra</td>\n",
       "      <td>3255.338202</td>\n",
       "      <td>1</td>\n",
       "      <td>13.851127</td>\n",
       "    </tr>\n",
       "    <tr>\n",
       "      <th>9</th>\n",
       "      <td>2</td>\n",
       "      <td>7</td>\n",
       "      <td>ultra</td>\n",
       "      <td>6780.722964</td>\n",
       "      <td>2</td>\n",
       "      <td>46.170157</td>\n",
       "    </tr>\n",
       "    <tr>\n",
       "      <th>10</th>\n",
       "      <td>2</td>\n",
       "      <td>8</td>\n",
       "      <td>ultra</td>\n",
       "      <td>923.007439</td>\n",
       "      <td>1</td>\n",
       "      <td>6.914760</td>\n",
       "    </tr>\n",
       "    <tr>\n",
       "      <th>11</th>\n",
       "      <td>2</td>\n",
       "      <td>10</td>\n",
       "      <td>ultra</td>\n",
       "      <td>2824.636598</td>\n",
       "      <td>1</td>\n",
       "      <td>18.779128</td>\n",
       "    </tr>\n",
       "    <tr>\n",
       "      <th>12</th>\n",
       "      <td>2</td>\n",
       "      <td>12</td>\n",
       "      <td>ultra</td>\n",
       "      <td>3828.248580</td>\n",
       "      <td>1</td>\n",
       "      <td>11.920514</td>\n",
       "    </tr>\n",
       "    <tr>\n",
       "      <th>13</th>\n",
       "      <td>3</td>\n",
       "      <td>1</td>\n",
       "      <td>ultra</td>\n",
       "      <td>3061.777147</td>\n",
       "      <td>1</td>\n",
       "      <td>12.654443</td>\n",
       "    </tr>\n",
       "    <tr>\n",
       "      <th>14</th>\n",
       "      <td>3</td>\n",
       "      <td>2</td>\n",
       "      <td>ultra</td>\n",
       "      <td>5421.152016</td>\n",
       "      <td>2</td>\n",
       "      <td>37.568637</td>\n",
       "    </tr>\n",
       "    <tr>\n",
       "      <th>15</th>\n",
       "      <td>3</td>\n",
       "      <td>4</td>\n",
       "      <td>ultra</td>\n",
       "      <td>2956.651632</td>\n",
       "      <td>1</td>\n",
       "      <td>20.671364</td>\n",
       "    </tr>\n",
       "    <tr>\n",
       "      <th>16</th>\n",
       "      <td>3</td>\n",
       "      <td>5</td>\n",
       "      <td>ultra</td>\n",
       "      <td>9064.026918</td>\n",
       "      <td>3</td>\n",
       "      <td>61.404503</td>\n",
       "    </tr>\n",
       "    <tr>\n",
       "      <th>17</th>\n",
       "      <td>3</td>\n",
       "      <td>7</td>\n",
       "      <td>ultra</td>\n",
       "      <td>10919.595403</td>\n",
       "      <td>3</td>\n",
       "      <td>65.519784</td>\n",
       "    </tr>\n",
       "    <tr>\n",
       "      <th>18</th>\n",
       "      <td>3</td>\n",
       "      <td>9</td>\n",
       "      <td>ultra</td>\n",
       "      <td>2891.012822</td>\n",
       "      <td>1</td>\n",
       "      <td>22.390055</td>\n",
       "    </tr>\n",
       "    <tr>\n",
       "      <th>19</th>\n",
       "      <td>3</td>\n",
       "      <td>12</td>\n",
       "      <td>ultra</td>\n",
       "      <td>2593.381928</td>\n",
       "      <td>1</td>\n",
       "      <td>12.984728</td>\n",
       "    </tr>\n",
       "  </tbody>\n",
       "</table>\n",
       "</div>"
      ],
      "text/plain": [
       "    user_id  month subscription_type  total_distance  total_rides  total_time\n",
       "0         1      1             ultra     7027.511294            2   41.416640\n",
       "1         1      4             ultra      754.159807            1    6.232113\n",
       "2         1      8             ultra     6723.470560            2   44.776802\n",
       "3         1     10             ultra     5809.911100            2   31.578017\n",
       "4         1     11             ultra     7003.499363            3   53.397424\n",
       "5         1     12             ultra     6751.629942            2   27.203912\n",
       "6         2      3             ultra    10187.723006            3   60.959959\n",
       "7         2      4             ultra     6164.381824            2   39.048633\n",
       "8         2      6             ultra     3255.338202            1   13.851127\n",
       "9         2      7             ultra     6780.722964            2   46.170157\n",
       "10        2      8             ultra      923.007439            1    6.914760\n",
       "11        2     10             ultra     2824.636598            1   18.779128\n",
       "12        2     12             ultra     3828.248580            1   11.920514\n",
       "13        3      1             ultra     3061.777147            1   12.654443\n",
       "14        3      2             ultra     5421.152016            2   37.568637\n",
       "15        3      4             ultra     2956.651632            1   20.671364\n",
       "16        3      5             ultra     9064.026918            3   61.404503\n",
       "17        3      7             ultra    10919.595403            3   65.519784\n",
       "18        3      9             ultra     2891.012822            1   22.390055\n",
       "19        3     12             ultra     2593.381928            1   12.984728"
      ]
     },
     "metadata": {},
     "output_type": "display_data"
    }
   ],
   "source": [
    "# Объединяем данные пользователей с разными типами подписок (ultra и free)\n",
    "all_users = pd.concat([ultra_users, free_users])\n",
    "\n",
    "# Группируем объединенные данные по 'user_id', 'month' и 'subscription_type'\n",
    "# Агрегируем сумму расстояний, количество поездок и общее время\n",
    "aggregated_data = all_users.groupby(['user_id', 'month', 'subscription_type']).agg(\n",
    "    total_distance=('distance', 'sum'),  \n",
    "    total_rides=('date', 'count'),       \n",
    "    total_time=('duration', 'sum')       \n",
    ").reset_index()\n",
    "\n",
    "# Выводим первые 20 строк агрегированных данных для просмотра\n",
    "display(aggregated_data.head(20))"
   ]
  },
  {
   "cell_type": "code",
   "execution_count": 40,
   "id": "94e26b09",
   "metadata": {},
   "outputs": [
    {
     "name": "stdout",
     "output_type": "stream",
     "text": [
      "Количество пропусков в агрегированных данных:\n",
      "user_id              0\n",
      "month                0\n",
      "subscription_type    0\n",
      "total_distance       0\n",
      "total_rides          0\n",
      "total_time           0\n",
      "dtype: int64\n"
     ]
    }
   ],
   "source": [
    "# Проверяем наличие пропусков в агрегированных данных\n",
    "missing_values = aggregated_data.isnull().sum()\n",
    "\n",
    "# Выводим количество пропусков по каждому столбцу\n",
    "print(\"Количество пропусков в агрегированных данных:\")\n",
    "print(missing_values)"
   ]
  },
  {
   "cell_type": "markdown",
   "id": "d4a30a1e",
   "metadata": {},
   "source": [
    "Все столбцы в агрегированных данных не содержат пропущенных значений, что позволяет проводить анализ данных без учета пропусков."
   ]
  },
  {
   "cell_type": "markdown",
   "id": "de1674f1",
   "metadata": {},
   "source": [
    "***5.2 В этот же датафрейм добавьте столбец с помесячной выручкой, которую принёс каждый пользователь. Для этого обратитесь к информации об условиях оплаты для подписчиков и тех, у кого нет подписки. Продолжительность каждой поездки в каждой строке исходного датафрейма для подсчёта стоимости округляется до следующего целого числа: например, значения 25.3, 25.5 и 26.0 должны быть преобразованы к 26.***"
   ]
  },
  {
   "cell_type": "markdown",
   "id": "d767b803",
   "metadata": {},
   "source": [
    "**С данными о пользователях с подпиской**"
   ]
  },
  {
   "cell_type": "code",
   "execution_count": 41,
   "id": "ff397977",
   "metadata": {},
   "outputs": [],
   "source": [
    "# Округляем продолжительность каждой поездки до следующего целого числа\n",
    "ultra_users_aggregated_data['rounded_duration'] = np.ceil(ultra_users_aggregated_data['total_time'])"
   ]
  },
  {
   "cell_type": "code",
   "execution_count": 42,
   "id": "c6824110",
   "metadata": {},
   "outputs": [
    {
     "data": {
      "text/html": [
       "<div>\n",
       "<style scoped>\n",
       "    .dataframe tbody tr th:only-of-type {\n",
       "        vertical-align: middle;\n",
       "    }\n",
       "\n",
       "    .dataframe tbody tr th {\n",
       "        vertical-align: top;\n",
       "    }\n",
       "\n",
       "    .dataframe thead th {\n",
       "        text-align: right;\n",
       "    }\n",
       "</style>\n",
       "<table border=\"1\" class=\"dataframe\">\n",
       "  <thead>\n",
       "    <tr style=\"text-align: right;\">\n",
       "      <th></th>\n",
       "      <th>user_id</th>\n",
       "      <th>month</th>\n",
       "      <th>total_distance</th>\n",
       "      <th>total_rides</th>\n",
       "      <th>total_time</th>\n",
       "      <th>rounded_duration</th>\n",
       "    </tr>\n",
       "  </thead>\n",
       "  <tbody>\n",
       "    <tr>\n",
       "      <th>0</th>\n",
       "      <td>1</td>\n",
       "      <td>1</td>\n",
       "      <td>7027.511294</td>\n",
       "      <td>2</td>\n",
       "      <td>41.416640</td>\n",
       "      <td>42.0</td>\n",
       "    </tr>\n",
       "    <tr>\n",
       "      <th>1</th>\n",
       "      <td>1</td>\n",
       "      <td>4</td>\n",
       "      <td>754.159807</td>\n",
       "      <td>1</td>\n",
       "      <td>6.232113</td>\n",
       "      <td>7.0</td>\n",
       "    </tr>\n",
       "    <tr>\n",
       "      <th>2</th>\n",
       "      <td>1</td>\n",
       "      <td>8</td>\n",
       "      <td>6723.470560</td>\n",
       "      <td>2</td>\n",
       "      <td>44.776802</td>\n",
       "      <td>45.0</td>\n",
       "    </tr>\n",
       "    <tr>\n",
       "      <th>3</th>\n",
       "      <td>1</td>\n",
       "      <td>10</td>\n",
       "      <td>5809.911100</td>\n",
       "      <td>2</td>\n",
       "      <td>31.578017</td>\n",
       "      <td>32.0</td>\n",
       "    </tr>\n",
       "    <tr>\n",
       "      <th>4</th>\n",
       "      <td>1</td>\n",
       "      <td>11</td>\n",
       "      <td>7003.499363</td>\n",
       "      <td>3</td>\n",
       "      <td>53.397424</td>\n",
       "      <td>54.0</td>\n",
       "    </tr>\n",
       "    <tr>\n",
       "      <th>...</th>\n",
       "      <td>...</td>\n",
       "      <td>...</td>\n",
       "      <td>...</td>\n",
       "      <td>...</td>\n",
       "      <td>...</td>\n",
       "      <td>...</td>\n",
       "    </tr>\n",
       "    <tr>\n",
       "      <th>4528</th>\n",
       "      <td>699</td>\n",
       "      <td>6</td>\n",
       "      <td>4072.797406</td>\n",
       "      <td>1</td>\n",
       "      <td>16.575991</td>\n",
       "      <td>17.0</td>\n",
       "    </tr>\n",
       "    <tr>\n",
       "      <th>4529</th>\n",
       "      <td>699</td>\n",
       "      <td>8</td>\n",
       "      <td>7018.324143</td>\n",
       "      <td>2</td>\n",
       "      <td>44.281768</td>\n",
       "      <td>45.0</td>\n",
       "    </tr>\n",
       "    <tr>\n",
       "      <th>4530</th>\n",
       "      <td>699</td>\n",
       "      <td>9</td>\n",
       "      <td>6364.861911</td>\n",
       "      <td>2</td>\n",
       "      <td>30.282412</td>\n",
       "      <td>31.0</td>\n",
       "    </tr>\n",
       "    <tr>\n",
       "      <th>4531</th>\n",
       "      <td>699</td>\n",
       "      <td>10</td>\n",
       "      <td>4707.845501</td>\n",
       "      <td>1</td>\n",
       "      <td>15.839579</td>\n",
       "      <td>16.0</td>\n",
       "    </tr>\n",
       "    <tr>\n",
       "      <th>4532</th>\n",
       "      <td>699</td>\n",
       "      <td>12</td>\n",
       "      <td>3202.890770</td>\n",
       "      <td>1</td>\n",
       "      <td>25.217345</td>\n",
       "      <td>26.0</td>\n",
       "    </tr>\n",
       "  </tbody>\n",
       "</table>\n",
       "<p>4533 rows × 6 columns</p>\n",
       "</div>"
      ],
      "text/plain": [
       "      user_id  month  total_distance  total_rides  total_time  \\\n",
       "0           1      1     7027.511294            2   41.416640   \n",
       "1           1      4      754.159807            1    6.232113   \n",
       "2           1      8     6723.470560            2   44.776802   \n",
       "3           1     10     5809.911100            2   31.578017   \n",
       "4           1     11     7003.499363            3   53.397424   \n",
       "...       ...    ...             ...          ...         ...   \n",
       "4528      699      6     4072.797406            1   16.575991   \n",
       "4529      699      8     7018.324143            2   44.281768   \n",
       "4530      699      9     6364.861911            2   30.282412   \n",
       "4531      699     10     4707.845501            1   15.839579   \n",
       "4532      699     12     3202.890770            1   25.217345   \n",
       "\n",
       "      rounded_duration  \n",
       "0                 42.0  \n",
       "1                  7.0  \n",
       "2                 45.0  \n",
       "3                 32.0  \n",
       "4                 54.0  \n",
       "...                ...  \n",
       "4528              17.0  \n",
       "4529              45.0  \n",
       "4530              31.0  \n",
       "4531              16.0  \n",
       "4532              26.0  \n",
       "\n",
       "[4533 rows x 6 columns]"
      ]
     },
     "metadata": {},
     "output_type": "display_data"
    }
   ],
   "source": [
    "display(ultra_users_aggregated_data)"
   ]
  },
  {
   "cell_type": "code",
   "execution_count": 43,
   "id": "5525e544",
   "metadata": {
    "scrolled": true
   },
   "outputs": [
    {
     "name": "stdout",
     "output_type": "stream",
     "text": [
      "\n",
      "Пользователи с подпиской:\n",
      "    user_id  month  monthly_revenue\n",
      "0         1      1            451.0\n",
      "1         1      4            241.0\n",
      "2         1      8            469.0\n",
      "3         1     10            391.0\n",
      "4         1     11            523.0\n",
      "5         1     12            367.0\n",
      "6         2      3            565.0\n",
      "7         2      4            439.0\n",
      "8         2      6            283.0\n",
      "9         2      7            481.0\n",
      "10        2      8            241.0\n",
      "11        2     10            313.0\n",
      "12        2     12            271.0\n",
      "13        3      1            277.0\n",
      "14        3      2            427.0\n",
      "15        3      4            325.0\n",
      "16        3      5            571.0\n",
      "17        3      7            595.0\n",
      "18        3      9            337.0\n",
      "19        3     12            277.0\n",
      "20        4      2            493.0\n",
      "21        4      6            463.0\n",
      "22        4      7            535.0\n",
      "23        4      8            415.0\n",
      "24        4     10            667.0\n",
      "25        4     11            367.0\n",
      "26        5      1            277.0\n",
      "27        5      2            271.0\n",
      "28        5      3            535.0\n",
      "29        5      4            289.0\n"
     ]
    }
   ],
   "source": [
    "# Параметры тарификации для пользователей с подпиской\n",
    "subscription_fee_with_sub = 199  # Ежемесячная абонентская плата за подписку\n",
    "cost_per_minute_with_sub = 6     # Стоимость одной минуты использования услуги для подписчиков\n",
    "start_cost_with_sub = 0          # Плата за начало использования услуги для подписчиков (в данном случае отсутствует)\n",
    "\n",
    "# Расчет помесячной выручки для пользователей с подпиской\n",
    "ultra_users_aggregated_data['monthly_revenue'] = (\n",
    "    subscription_fee_with_sub +  # Добавляем ежемесячную абонентскую плату\n",
    "    ultra_users_aggregated_data['total_rides'] * start_cost_with_sub +  # Добавляем стоимость начала поездок (в данном случае 0)\n",
    "    ultra_users_aggregated_data['rounded_duration'] * cost_per_minute_with_sub  # Добавляем стоимость поездок с учетом их продолжительности\n",
    ")\n",
    "\n",
    "# Выводим информацию о первых 30 пользователях с подпиской\n",
    "print(\"\\nПользователи с подпиской:\")\n",
    "print(ultra_users_aggregated_data[['user_id', 'month', 'monthly_revenue']].head(30))"
   ]
  },
  {
   "cell_type": "markdown",
   "id": "d1182681",
   "metadata": {},
   "source": [
    "**С данными о пользователях без подписки:**"
   ]
  },
  {
   "cell_type": "code",
   "execution_count": 44,
   "id": "a874e0e1",
   "metadata": {},
   "outputs": [],
   "source": [
    "# Округляем продолжительность каждой поездки до следующего целого числа\n",
    "free_users_aggregated_data['rounded_duration'] = np.ceil(free_users_aggregated_data['total_time'])"
   ]
  },
  {
   "cell_type": "code",
   "execution_count": 45,
   "id": "726c707a",
   "metadata": {},
   "outputs": [
    {
     "data": {
      "text/html": [
       "<div>\n",
       "<style scoped>\n",
       "    .dataframe tbody tr th:only-of-type {\n",
       "        vertical-align: middle;\n",
       "    }\n",
       "\n",
       "    .dataframe tbody tr th {\n",
       "        vertical-align: top;\n",
       "    }\n",
       "\n",
       "    .dataframe thead th {\n",
       "        text-align: right;\n",
       "    }\n",
       "</style>\n",
       "<table border=\"1\" class=\"dataframe\">\n",
       "  <thead>\n",
       "    <tr style=\"text-align: right;\">\n",
       "      <th></th>\n",
       "      <th>user_id</th>\n",
       "      <th>month</th>\n",
       "      <th>total_distance</th>\n",
       "      <th>total_rides</th>\n",
       "      <th>total_time</th>\n",
       "      <th>rounded_duration</th>\n",
       "    </tr>\n",
       "  </thead>\n",
       "  <tbody>\n",
       "    <tr>\n",
       "      <th>0</th>\n",
       "      <td>700</td>\n",
       "      <td>1</td>\n",
       "      <td>2515.690719</td>\n",
       "      <td>1</td>\n",
       "      <td>14.944286</td>\n",
       "      <td>15.0</td>\n",
       "    </tr>\n",
       "    <tr>\n",
       "      <th>1</th>\n",
       "      <td>700</td>\n",
       "      <td>2</td>\n",
       "      <td>13446.659764</td>\n",
       "      <td>5</td>\n",
       "      <td>85.829845</td>\n",
       "      <td>86.0</td>\n",
       "    </tr>\n",
       "    <tr>\n",
       "      <th>2</th>\n",
       "      <td>700</td>\n",
       "      <td>3</td>\n",
       "      <td>3798.334905</td>\n",
       "      <td>1</td>\n",
       "      <td>18.243756</td>\n",
       "      <td>19.0</td>\n",
       "    </tr>\n",
       "    <tr>\n",
       "      <th>3</th>\n",
       "      <td>700</td>\n",
       "      <td>4</td>\n",
       "      <td>2984.551206</td>\n",
       "      <td>1</td>\n",
       "      <td>15.424899</td>\n",
       "      <td>16.0</td>\n",
       "    </tr>\n",
       "    <tr>\n",
       "      <th>4</th>\n",
       "      <td>700</td>\n",
       "      <td>6</td>\n",
       "      <td>5927.650988</td>\n",
       "      <td>2</td>\n",
       "      <td>28.077657</td>\n",
       "      <td>29.0</td>\n",
       "    </tr>\n",
       "    <tr>\n",
       "      <th>...</th>\n",
       "      <td>...</td>\n",
       "      <td>...</td>\n",
       "      <td>...</td>\n",
       "      <td>...</td>\n",
       "      <td>...</td>\n",
       "      <td>...</td>\n",
       "    </tr>\n",
       "    <tr>\n",
       "      <th>6793</th>\n",
       "      <td>1534</td>\n",
       "      <td>6</td>\n",
       "      <td>3409.468534</td>\n",
       "      <td>2</td>\n",
       "      <td>24.812678</td>\n",
       "      <td>25.0</td>\n",
       "    </tr>\n",
       "    <tr>\n",
       "      <th>6794</th>\n",
       "      <td>1534</td>\n",
       "      <td>8</td>\n",
       "      <td>7622.453034</td>\n",
       "      <td>2</td>\n",
       "      <td>47.205960</td>\n",
       "      <td>48.0</td>\n",
       "    </tr>\n",
       "    <tr>\n",
       "      <th>6795</th>\n",
       "      <td>1534</td>\n",
       "      <td>9</td>\n",
       "      <td>4928.173852</td>\n",
       "      <td>1</td>\n",
       "      <td>22.560373</td>\n",
       "      <td>23.0</td>\n",
       "    </tr>\n",
       "    <tr>\n",
       "      <th>6796</th>\n",
       "      <td>1534</td>\n",
       "      <td>11</td>\n",
       "      <td>13350.015305</td>\n",
       "      <td>4</td>\n",
       "      <td>76.342174</td>\n",
       "      <td>77.0</td>\n",
       "    </tr>\n",
       "    <tr>\n",
       "      <th>6797</th>\n",
       "      <td>1534</td>\n",
       "      <td>12</td>\n",
       "      <td>2371.711192</td>\n",
       "      <td>1</td>\n",
       "      <td>15.893917</td>\n",
       "      <td>16.0</td>\n",
       "    </tr>\n",
       "  </tbody>\n",
       "</table>\n",
       "<p>6798 rows × 6 columns</p>\n",
       "</div>"
      ],
      "text/plain": [
       "      user_id  month  total_distance  total_rides  total_time  \\\n",
       "0         700      1     2515.690719            1   14.944286   \n",
       "1         700      2    13446.659764            5   85.829845   \n",
       "2         700      3     3798.334905            1   18.243756   \n",
       "3         700      4     2984.551206            1   15.424899   \n",
       "4         700      6     5927.650988            2   28.077657   \n",
       "...       ...    ...             ...          ...         ...   \n",
       "6793     1534      6     3409.468534            2   24.812678   \n",
       "6794     1534      8     7622.453034            2   47.205960   \n",
       "6795     1534      9     4928.173852            1   22.560373   \n",
       "6796     1534     11    13350.015305            4   76.342174   \n",
       "6797     1534     12     2371.711192            1   15.893917   \n",
       "\n",
       "      rounded_duration  \n",
       "0                 15.0  \n",
       "1                 86.0  \n",
       "2                 19.0  \n",
       "3                 16.0  \n",
       "4                 29.0  \n",
       "...                ...  \n",
       "6793              25.0  \n",
       "6794              48.0  \n",
       "6795              23.0  \n",
       "6796              77.0  \n",
       "6797              16.0  \n",
       "\n",
       "[6798 rows x 6 columns]"
      ]
     },
     "metadata": {},
     "output_type": "display_data"
    }
   ],
   "source": [
    "display(free_users_aggregated_data)"
   ]
  },
  {
   "cell_type": "code",
   "execution_count": 46,
   "id": "980e1b42",
   "metadata": {
    "scrolled": true
   },
   "outputs": [
    {
     "name": "stdout",
     "output_type": "stream",
     "text": [
      "\n",
      "Пользователи без подписки:\n",
      "    user_id  month  monthly_revenue\n",
      "0       700      1            170.0\n",
      "1       700      2            938.0\n",
      "2       700      3            202.0\n",
      "3       700      4            178.0\n",
      "4       700      6            332.0\n",
      "5       700      7            268.0\n",
      "6       700      8            186.0\n",
      "7       700     10            444.0\n",
      "8       700     11            406.0\n",
      "9       701      1            194.0\n",
      "10      701      2            316.0\n",
      "11      701      3            186.0\n",
      "12      701      4            162.0\n",
      "13      701      5            170.0\n",
      "14      701      6            308.0\n",
      "15      701      7            720.0\n",
      "16      701      8            244.0\n",
      "17      701      9            356.0\n",
      "18      701     10            444.0\n",
      "19      701     12            276.0\n",
      "20      702      1            178.0\n",
      "21      702      2            210.0\n",
      "22      702      3            114.0\n",
      "23      702      4            654.0\n",
      "24      702      5            242.0\n",
      "25      702      6            130.0\n",
      "26      702      7            170.0\n",
      "27      702      9            226.0\n",
      "28      702     11            622.0\n",
      "29      703      1            242.0\n"
     ]
    }
   ],
   "source": [
    "# Параметры тарификации для пользователей без подписки\n",
    "subscription_fee_without_sub = 0  # Ежемесячная абонентская плата за подписку (для не подписанных она равна 0)\n",
    "cost_per_minute_without_sub = 8   # Стоимость одной минуты использования услуги без подписки\n",
    "start_cost_without_sub = 50       # Плата за начало использования услуги без подписки\n",
    "\n",
    "# Расчет помесячной выручки для пользователей без подписки\n",
    "free_users_aggregated_data['monthly_revenue'] = (\n",
    "    subscription_fee_without_sub +  # Добавляем ежемесячную абонентскую плату (в данном случае она равна 0)\n",
    "    free_users_aggregated_data['total_rides'] * start_cost_without_sub +  # Добавляем стоимость начала поездок\n",
    "    free_users_aggregated_data['rounded_duration'] * cost_per_minute_without_sub  # Добавляем стоимость поездок с учетом их продолжительности\n",
    ")\n",
    "\n",
    "# Выводим информацию о первых 30 пользователях без подписки\n",
    "print(\"\\nПользователи без подписки:\")\n",
    "print(free_users_aggregated_data[['user_id', 'month', 'monthly_revenue']].head(30))  # Используем free_users_aggregated_data для отображения данных пользователей без подписки"
   ]
  },
  {
   "cell_type": "code",
   "execution_count": 47,
   "id": "293e6461",
   "metadata": {},
   "outputs": [],
   "source": [
    "# Функция для расчета общей выручки для пользователей без подписки и с подпиской\n",
    "def calculate_total_revenue(free_users_aggregated_data, ultra_users_aggregated_data):\n",
    "    # Вычисляем сумму ежемесячной выручки для пользователей без подписки и сумму ежемесячной выручки для пользователей с подпиской\n",
    "    total_revenue = free_users_aggregated_data['monthly_revenue'].sum() + ultra_users_aggregated_data['monthly_revenue'].sum()\n",
    "    return total_revenue"
   ]
  },
  {
   "cell_type": "code",
   "execution_count": 48,
   "id": "74a8a3b2",
   "metadata": {},
   "outputs": [
    {
     "name": "stdout",
     "output_type": "stream",
     "text": [
      "3853677.0\n"
     ]
    }
   ],
   "source": [
    "# Вызываем функцию calculate_total_revenue для расчета общей выручки\n",
    "total_revenue = calculate_total_revenue(free_users_aggregated_data, ultra_users_aggregated_data)\n",
    "\n",
    "# Выводим значение общей выручки на экран\n",
    "print(total_revenue)"
   ]
  },
  {
   "cell_type": "markdown",
   "id": "41545ac0",
   "metadata": {},
   "source": [
    "#### Шаг 6. Проверка гипотез"
   ]
  },
  {
   "cell_type": "markdown",
   "id": "20f8a5eb",
   "metadata": {},
   "source": [
    "Продакт-менеджеры сервиса хотят увеличить количество пользователей с подпиской. Для этого они будут проводить различные акции, но сначала нужно выяснить несколько важных моментов."
   ]
  },
  {
   "cell_type": "markdown",
   "id": "1aafc471",
   "metadata": {},
   "source": [
    "***6.1 Важно понять, тратят ли пользователи с подпиской больше времени на поездки? Если да, то пользователи с подпиской могут быть «выгоднее» для компании. Проверьте гипотезу. Используйте исходные данные о продолжительности каждой сессии — отдельно для подписчиков и тех, у кого нет подписки.***"
   ]
  },
  {
   "cell_type": "code",
   "execution_count": null,
   "id": "5a84050f",
   "metadata": {},
   "outputs": [],
   "source": []
  },
  {
   "cell_type": "code",
   "execution_count": 49,
   "id": "6731e4b5",
   "metadata": {
    "scrolled": true
   },
   "outputs": [
    {
     "name": "stdout",
     "output_type": "stream",
     "text": [
      "Распределение продолжительности поездок для пользователей с подпиской: Описательная статистика\n",
      "count    6500.000000\n",
      "mean       18.541985\n",
      "std         5.572048\n",
      "min         3.760353\n",
      "25%        14.524654\n",
      "50%        18.178153\n",
      "75%        21.884129\n",
      "max        40.823963\n",
      "Name: duration, dtype: float64\n",
      "\n",
      "Распределение продолжительности поездок для пользователей без подписки: Описательная статистика\n",
      "count    11568.000000\n",
      "mean        17.390909\n",
      "std          6.326803\n",
      "min          0.500000\n",
      "25%         12.958437\n",
      "50%         17.326890\n",
      "75%         21.594071\n",
      "max         34.948498\n",
      "Name: duration, dtype: float64\n"
     ]
    }
   ],
   "source": [
    "# Извлечение данных о продолжительности поездок для пользователей с подпиской 'ultra'\n",
    "ultra_subscribers_duration = merged_data_users_rides_subscriptions[\n",
    "    merged_data_users_rides_subscriptions['subscription_type'] == 'ultra']['duration']\n",
    "\n",
    "# Извлечение данных о продолжительности поездок для пользователей без подписки ('free')\n",
    "free_subscribers_duration = merged_data_users_rides_subscriptions[\n",
    "    merged_data_users_rides_subscriptions['subscription_type'] == 'free']['duration']\n",
    "\n",
    "# Расчет описательной статистики для пользователей с подпиской 'ultra'\n",
    "ultra_desc_duration = ultra_subscribers_duration.describe()\n",
    "\n",
    "# Расчет описательной статистики для пользователей с подпиской 'free'\n",
    "free_desc_duration = free_subscribers_duration.describe()\n",
    "\n",
    "# Вывод описательной статистики\n",
    "print(\"Распределение продолжительности поездок для пользователей с подпиской: Описательная статистика\")\n",
    "print(ultra_desc_duration)\n",
    "print(\"\\nРаспределение продолжительности поездок для пользователей без подписки: Описательная статистика\")\n",
    "print(free_desc_duration)"
   ]
  },
  {
   "cell_type": "markdown",
   "id": "2f70a9de",
   "metadata": {},
   "source": [
    "Нулевая гипотеза (H0): Среднее время поездок для пользователей с подпиской 'ultra' равно или меньше среднего времени поездок для пользователей без подписки 'free'.\n",
    "\n",
    "Альтернативная гипотеза (H1): Среднее время поездок для пользователей с подпиской 'ultra' больше среднего времени поездок для пользователей без подписки 'free'."
   ]
  },
  {
   "cell_type": "code",
   "execution_count": 50,
   "id": "1aef6495",
   "metadata": {},
   "outputs": [
    {
     "name": "stdout",
     "output_type": "stream",
     "text": [
      "p-value: 1.2804098316645618e-34\n",
      "Отвергаем нулевую гипотезу: существует статистически значимая разница в среднем времени поездок\n"
     ]
    }
   ],
   "source": [
    "\n",
    "\n",
    "# Устанавливаем уровень значимости\n",
    "alpha = 0.05\n",
    "\n",
    "# Выполняем t-тест для независимых выборок с alternative='greater'\n",
    "# это проверяет, тратят ли пользователи с подпиской 'ultra' больше времени, чем пользователи без подписки 'free'\n",
    "results = stats.ttest_ind(ultra_subscribers_duration, free_subscribers_duration, alternative='greater')\n",
    "\n",
    "# Выводим p-value (вероятность получения результатов теста при условии, что нулевая гипотеза верна)\n",
    "print(f'p-value: {results.pvalue}')\n",
    "\n",
    "# Сравниваем p-value с уровнем значимости, чтобы принять решение об отклонении нулевой гипотезы\n",
    "if results.pvalue < alpha:\n",
    "    # Если p-value меньше alpha, отвергаем нулевую гипотезу\n",
    "    print('Отвергаем нулевую гипотезу: существует статистически значимая разница в среднем времени поездок')\n",
    "else:\n",
    "    # Если p-value больше или равно alpha, нет оснований отвергать нулевую гипотезу\n",
    "    print('Нет оснований отвергнуть нулевую гипотезу: различие в среднем времени поездок не является статистически значимым')"
   ]
  },
  {
   "cell_type": "markdown",
   "id": "b32f288f",
   "metadata": {},
   "source": [
    "Интерпретация результатов:\n",
    "\n",
    "Если p-value меньше alpha (0.05), то есть, если p-value < 0.05, то мы отвергаем нулевую гипотезу (H0), и это означает, что существует статистически значимая разница в среднем времени поездок между пользователями с подпиской 'ultra' и пользователями без подписки 'free'. В данном случае, так как p-value равно 1.2804098316645618e-34, что гораздо меньше 0.05, мы можем с уверенностью отвергнуть нулевую гипотезу и заключить, что пользователи с подпиской 'ultra' проводят больше времени в поездках по сравнению с пользователями без подписки 'free'.\n",
    "\n",
    "Таким образом, существует статистическое подтверждение того, что пользователи с подпиской 'ultra' тратят больше времени на поездки, чем пользователи без подписки 'free'."
   ]
  },
  {
   "cell_type": "markdown",
   "id": "40e13a08",
   "metadata": {},
   "source": [
    "***6.2 Расстояние одной поездки в  3130 метров — оптимальное с точки зрения износа самоката. Можно ли сказать, что среднее расстояние, которое проезжают пользователи с подпиской за одну поездку, не превышает 3130 метров? Проверьте гипотезу и сделайте выводы.***"
   ]
  },
  {
   "cell_type": "code",
   "execution_count": 51,
   "id": "ae04df43",
   "metadata": {},
   "outputs": [
    {
     "name": "stdout",
     "output_type": "stream",
     "text": [
      "Распределение расстояния поездок для пользователей с подпиской: Описательная статистика\n",
      "count    6500.000000\n",
      "mean     3115.445388\n",
      "std       836.895330\n",
      "min       244.210438\n",
      "25%      2785.444017\n",
      "50%      3148.637229\n",
      "75%      3560.574425\n",
      "max      5699.769662\n",
      "Name: distance, dtype: float64\n"
     ]
    },
    {
     "data": {
      "image/png": "[encoded data removed]",
      "text/plain": [
       "<Figure size 864x432 with 1 Axes>"
      ]
     },
     "metadata": {
      "needs_background": "light"
     },
     "output_type": "display_data"
    }
   ],
   "source": [
    "# Извлечение данных о расстоянии поездок для пользователей с подпиской 'ultra'\n",
    "ultra_subscribers_distance = merged_data_users_rides_subscriptions[merged_data_users_rides_subscriptions['subscription_type'] == 'ultra']['distance']\n",
    "\n",
    "# Расчет описательной статистики для расстояний поездок пользователей с подпиской 'ultra'\n",
    "ultra_desc_distance = ultra_subscribers_distance.describe()\n",
    "\n",
    "# Вывод описательной статистики\n",
    "print(\"Распределение расстояния поездок для пользователей с подпиской: Описательная статистика\")\n",
    "print(ultra_desc_distance)\n",
    "\n",
    "# Настройка размера графика\n",
    "plt.figure(figsize=(12, 6))\n",
    "\n",
    "# Построение гистограммы для расстояния поездок пользователей с подпиской 'ultra'\n",
    "sns.histplot(ultra_subscribers_distance, color='blue', kde=True, label='Пользователи с подпиской')\n",
    "\n",
    "# Настройка заголовка и подписей осей графика\n",
    "plt.title('Распределение расстояния поездок для пользователей с подпиской')\n",
    "plt.xlabel('Расстояние')\n",
    "plt.ylabel('Частота')\n",
    "plt.legend()\n",
    "\n",
    "# Отображение графика\n",
    "plt.show()"
   ]
  },
  {
   "cell_type": "markdown",
   "id": "3d0774e5",
   "metadata": {},
   "source": [
    "Нулевая гипотеза (H0): Среднее расстояние, которое проезжают пользователи с подпиской за одну поездку, равно или меньше 3130 метров.\n",
    "\n",
    "Альтернативная гипотеза (H1): Среднее расстояние, которое проезжают пользователи с подпиской за одну поездку, превышает 3130 метров."
   ]
  },
  {
   "cell_type": "code",
   "execution_count": 52,
   "id": "11e58820",
   "metadata": {},
   "outputs": [
    {
     "name": "stdout",
     "output_type": "stream",
     "text": [
      "p-значение: 0.9195368847849785\n",
      "Не получилось отвергнуть нулевую гипотезу: среднее расстояние не больше 3130 метров\n"
     ]
    }
   ],
   "source": [
    "# Устанавливаем интересующее нас значение на уровне 3130 метров\n",
    "interested_value = 3130\n",
    "\n",
    "# Уровень значимости\n",
    "alpha = 0.05\n",
    "\n",
    "# Выполняем односторонний t-тест для одной выборки\n",
    "# Сравниваем среднее значение выборки (среднее расстояние для пользователей с подпиской)\n",
    "# с интересующим нас значением (3130 метров)\n",
    "# alternative='greater' проверяет, больше ли среднее выборки, чем интересующее нас значение\n",
    "results = stats.ttest_1samp(ultra_subscribers_distance, interested_value, alternative='greater')\n",
    "\n",
    "# Выводим p-значение, полученное из теста\n",
    "print('p-значение:', results.pvalue)\n",
    "\n",
    "# Интерпретируем результаты\n",
    "if results.pvalue < alpha:\n",
    "    print('Отвергаем нулевую гипотезу: среднее расстояние статистически значимо больше 3130 метров')\n",
    "else:\n",
    "    print('Не получилось отвергнуть нулевую гипотезу: среднее расстояние не больше 3130 метров')"
   ]
  },
  {
   "cell_type": "markdown",
   "id": "03da9fd6",
   "metadata": {},
   "source": [
    "При таком значении p-значения мы не получили статистически значимых доказательств для отвержения нулевой гипотезы. Это означает, что наши данные не позволяют считать, что среднее расстояние, которое проезжают пользователи с подпиской за одну поездку, больше 3130 метров."
   ]
  },
  {
   "cell_type": "markdown",
   "id": "c043f66c",
   "metadata": {},
   "source": [
    "***6.3 Проверьте гипотезу о том, будет ли помесячная выручка от пользователей с подпиской по месяцам выше, чем выручка от пользователей без подписки. Сделайте вывод.***"
   ]
  },
  {
   "cell_type": "markdown",
   "id": "9f09a084",
   "metadata": {},
   "source": [
    "Нулевая гипотеза (H0): Средняя помесячная выручка от пользователей с подпиской не отличается от средней помесячной выручки от пользователей без подписки.\n",
    "\n",
    "Альтернативная гипотеза (H1): Средняя помесячная выручка от пользователей с подпиской больше, чем средняя помесячная выручка от пользователей без подписки."
   ]
  },
  {
   "cell_type": "code",
   "execution_count": 53,
   "id": "c962ad43",
   "metadata": {
    "scrolled": false
   },
   "outputs": [
    {
     "name": "stdout",
     "output_type": "stream",
     "text": [
      "Описательная статистика для выручки от пользователей с подпиской 'ultra':\n",
      "count    4533.000000\n",
      "mean      361.481800\n",
      "std        86.399966\n",
      "min       223.000000\n",
      "25%       301.000000\n",
      "50%       331.000000\n",
      "75%       403.000000\n",
      "max       943.000000\n",
      "Name: monthly_revenue, dtype: float64\n",
      "\n",
      "Описательная статистика для выручки от пользователей без подписки 'free':\n",
      "count    6798.000000\n",
      "mean      325.842895\n",
      "std       180.515646\n",
      "min        58.000000\n",
      "25%       194.000000\n",
      "50%       268.000000\n",
      "75%       420.000000\n",
      "max      1428.000000\n",
      "Name: monthly_revenue, dtype: float64\n"
     ]
    },
    {
     "data": {
      "image/png": "[encoded data removed]",
      "text/plain": [
       "<Figure size 864x432 with 1 Axes>"
      ]
     },
     "metadata": {
      "needs_background": "light"
     },
     "output_type": "display_data"
    },
    {
     "name": "stdout",
     "output_type": "stream",
     "text": [
      "p-значение: 2.8130926188487286e-35\n",
      "Отвергаем нулевую гипотезу: средняя помесячная выручка от пользователей с подпиской статистически значимо больше\n"
     ]
    }
   ],
   "source": [
    "# Загрузка данных о выручке. Получаем данные о помесячной выручке\n",
    "# для пользователей с подпиской и без подписки из агрегированных данных\n",
    "revenue_with_subscription = ultra_users_aggregated_data['monthly_revenue']\n",
    "revenue_without_subscription = free_users_aggregated_data['monthly_revenue']\n",
    "\n",
    "# Расчет описательной статистики для выручки от пользователей с подпиской 'ultra'\n",
    "revenue_with_subscription_desc = revenue_with_subscription.describe()\n",
    "\n",
    "# Расчет описательной статистики для выручки от пользователей без подписки 'free'\n",
    "revenue_without_subscription_desc = revenue_without_subscription.describe()\n",
    "\n",
    "# Вывод описательной статистики для выручки\n",
    "print(\"Описательная статистика для выручки от пользователей с подпиской 'ultra':\")\n",
    "print(revenue_with_subscription_desc)\n",
    "print(\"\\nОписательная статистика для выручки от пользователей без подписки 'free':\")\n",
    "print(revenue_without_subscription_desc)\n",
    "\n",
    "# Настройка размера графика\n",
    "plt.figure(figsize=(12, 6))\n",
    "\n",
    "# Построение гистограммы для выручки от пользователей с подпиской\n",
    "sns.histplot(revenue_with_subscription, color='blue', kde=True, label='Пользователи с подпиской')\n",
    "\n",
    "# Построение гистограммы для выручки от пользователей без подписки\n",
    "sns.histplot(revenue_without_subscription, color='orange', kde=True, label='Пользователи без подписки')\n",
    "\n",
    "# Настройка заголовка и подписей осей графика\n",
    "plt.title('Распределение помесячной выручки для разных типов подписок')\n",
    "plt.xlabel('Выручка (единицы валюты)')\n",
    "plt.ylabel('Частота')\n",
    "plt.legend()\n",
    "\n",
    "# Отображение графика\n",
    "plt.show()\n",
    "\n",
    "# Устанавливаем уровень значимости для последующего статистического теста\n",
    "# Обычно используется уровень 0.05, что соответствует 95% уровню доверия\n",
    "alpha = 0.05\n",
    "\n",
    "# Производим двухвыборочный t-тест для независимых выборок, чтобы сравнить\n",
    "# средние значения выручки от двух разных групп (пользователей с подпиской и без подписки)\n",
    "# alternative='greater' означает, что мы проверяем, больше ли среднее одной выборки, по сравнению с другой\n",
    "t_statistic, p_value = stats.ttest_ind(revenue_with_subscription, revenue_without_subscription, alternative='greater')\n",
    "\n",
    "# Выводим p-значение, чтобы увидеть вероятность получить такие или еще более экстремальные\n",
    "# значения статистики теста, если нулевая гипотеза верна\n",
    "print('p-значение:', p_value)\n",
    "\n",
    "# Интерпретируем результаты теста на основе p-значения и уровня значимости\n",
    "# Если p-значение меньше alpha, отвергаем нулевую гипотезу, что указывает на\n",
    "# статистически значимое различие между средними двух групп\n",
    "# Если p-значение больше alpha, недостаточно оснований для отклонения нулевой гипотезы\n",
    "if p_value < alpha:\n",
    "    print('Отвергаем нулевую гипотезу: средняя помесячная выручка от пользователей с подпиской статистически значимо больше')\n",
    "else:\n",
    "    print('Не получилось отвергнуть нулевую гипотезу: средняя помесячная выручка от пользователей с подпиской не статистически значимо больше')"
   ]
  },
  {
   "cell_type": "markdown",
   "id": "fa8033cf",
   "metadata": {},
   "source": [
    "Учитывая такое низкое значение p-значения, мы отвергаем нулевую гипотезу. Это означает, что наши статистические данные позволяют сделать вывод о том, что средняя помесячная выручка от пользователей с подпиской статистически значимо больше, чем средняя помесячная выручка от пользователей без подписки. Таким образом, мы можем утверждать, что пользователи с подпиской приносят больше выручки компании по сравнению с пользователями без подписки."
   ]
  },
  {
   "cell_type": "markdown",
   "id": "0d93b460",
   "metadata": {},
   "source": [
    "***6.4 Представьте такую ситуацию: техническая команда сервиса обновила сервера, с которыми взаимодействует мобильное приложение. Она надеется, что из-за этого количество обращений в техподдержку значимо снизилось. Некоторый файл содержит для каждого пользователя данные о количестве обращений до обновления и после него. Какой тест вам понадобился бы для проверки этой гипотезы?***"
   ]
  },
  {
   "cell_type": "markdown",
   "id": "51f1cda4",
   "metadata": {},
   "source": [
    "Для проверки гипотезы о том, что обновление серверов привело к значимому снижению количества обращений в техподдержку, можно использовать парный t-тест (paired t-test). Этот статистический тест подходит для сравнения средних двух связанных выборок - в данном случае, количество обращений в техподдержку до и после обновления для каждого пользователя.\n",
    "\n",
    "Гипотезы могут быть сформулированы следующим образом:\n",
    "\n",
    "Нулевая гипотеза (H0): Обновление серверов не привело к значимому изменению количества обращений в техподдержку. Среднее количество обращений до и после обновления равно.\n",
    "\n",
    "Альтернативная гипотеза (H1): Обновление серверов привело к значимому снижению количества обращений в техподдержку. Среднее количество обращений после обновления меньше, чем до обновления.\n",
    "\n",
    "В данном случае гипотеза является односторонней, так как интересует только уменьшение количества обращений после обновления серверов. Таким образом, альтернативная гипотеза (H1) формулируется как уменьшение количества обращений, исключая другие возможные направления изменений."
   ]
  },
  {
   "cell_type": "markdown",
   "id": "61213c5e",
   "metadata": {},
   "source": [
    "#### Шаг 7. Распределения"
   ]
  },
  {
   "cell_type": "markdown",
   "id": "7938ea1d",
   "metadata": {},
   "source": [
    "***7.1 Отделу маркетинга GoFast поставили задачу: нужно провести акцию с раздачей промокодов на один бесплатный месяц подписки, в рамках которой как минимум 100 существующих клиентов должны продлить эту подписку. То есть по завершении периода действия подписки пользователь может либо отказаться от неё, либо продлить, совершив соответствующий платёж. Эта акция уже проводилась ранее и по итогу выяснилось, что после бесплатного пробного периода подписку продлевают 10 % пользователей. Выясните, какое минимальное количество промокодов нужно разослать, чтобы вероятность не выполнить план была примерно 5 %. Подберите параметры распределения, описывающего эту ситуацию, постройте график распределения и сформулируйте ответ на вопрос о количестве промокодов.***\n",
    "\n",
    "Нужно использовать биномиальное распределение, которое описывает указанную ситуацию. Затем подобрать подходящее значение параметра N для заданного параметра p=0.1 с помощью графиков и метода cdf() , сформулировать вывод и ответ."
   ]
  },
  {
   "cell_type": "code",
   "execution_count": 54,
   "id": "a232a3f7",
   "metadata": {},
   "outputs": [
    {
     "data": {
      "text/plain": [
       "1161"
      ]
     },
     "execution_count": 54,
     "metadata": {},
     "output_type": "execute_result"
    }
   ],
   "source": [
    "# Заданные значения\n",
    "p = 0.1  # Вероятность того, что клиент продлит подписку\n",
    "target = 100  # Целевое количество клиентов, которые должны продлить подписку\n",
    "target_prob = 0.05  # Целевая вероятность не достижения цели\n",
    "\n",
    "# Функция для нахождения минимального количества промокодов для рассылки\n",
    "def find_minimum_promo_codes(p, target, target_prob):\n",
    "    # Начинаем проверку с числа, немного превышающего целевое\n",
    "    n = target\n",
    "    # Вычисляем вероятность того, что будет получено максимум target-1 успешное продление подписки\n",
    "    while binom.cdf(target - 1, n, p) > target_prob:\n",
    "        n += 1  # Увеличиваем количество промокодов, пока вероятность не достигнет целевого уровня\n",
    "    return n\n",
    "\n",
    "# Рассчитываем минимальное количество промокодов, необходимое для рассылки\n",
    "min_promo_codes = find_minimum_promo_codes(p, target, target_prob)\n",
    "\n",
    "# Выводим результат\n",
    "min_promo_codes"
   ]
  },
  {
   "cell_type": "code",
   "execution_count": 55,
   "id": "39d0b4f4",
   "metadata": {
    "scrolled": true
   },
   "outputs": [
    {
     "name": "stderr",
     "output_type": "stream",
     "text": [
      "/opt/conda/lib/python3.9/site-packages/scipy/stats/_discrete_distns.py:78: RuntimeWarning: divide by zero encountered in _binom_pdf\n",
      "  return _boost._binom_pdf(x, n, p)\n"
     ]
    },
    {
     "data": {
      "image/png": "[encoded data removed]",
      "text/plain": [
       "<Figure size 432x288 with 1 Axes>"
      ]
     },
     "metadata": {
      "needs_background": "light"
     },
     "output_type": "display_data"
    }
   ],
   "source": [
    "# Построение графика распределения\n",
    "x = range(min_promo_codes + 10)  # Диапазон значений для графика\n",
    "y = [binom.pmf(k, min_promo_codes, p) for k in x]  # Значения вероятности для каждого количества успешных исходов\n",
    "\n",
    "# Строим график\n",
    "plt.bar(x, y)\n",
    "plt.title(\"Биномиальное распределение\")\n",
    "plt.xlabel(\"Количество клиентов, продливших подписку\")\n",
    "plt.ylabel(\"Вероятность\")\n",
    "plt.show()"
   ]
  },
  {
   "cell_type": "markdown",
   "id": "3855e466",
   "metadata": {},
   "source": [
    "Расчёт подтверждает, что для достижения цели с вероятностью около 95% (то есть с вероятностью не достижения цели в 5%) необходимо разослать минимум 1161 промокод."
   ]
  },
  {
   "cell_type": "markdown",
   "id": "b0e1dfa5",
   "metadata": {},
   "source": [
    "***7.2 Отдел маркетинга рассылает клиентам push-уведомления в мобильном приложении. Клиенты могут открыть его или не открывать. Известно, что уведомления открывают около 40 % получивших клиентов. Отдел планирует разослать  1 млн уведомлений. С помощью аппроксимации постройте примерный график распределения и оцените вероятность того, что уведомление откроют не более 399,5 тыс. пользователей.***\n",
    "\n",
    "Эта ситуация тоже описывается биномиальным распределением. Но считать каждое отдельное значение достаточно долго. Вы можете воспользоваться нормальной аппроксимацией биномиального распределения и cdf() для быстрой оценки."
   ]
  },
  {
   "cell_type": "code",
   "execution_count": 56,
   "id": "7fbc3355",
   "metadata": {},
   "outputs": [
    {
     "data": {
      "image/png": "[encoded data removed]",
      "text/plain": [
       "<Figure size 432x288 with 1 Axes>"
      ]
     },
     "metadata": {
      "needs_background": "light"
     },
     "output_type": "display_data"
    },
    {
     "data": {
      "text/plain": [
       "0.15371708296369768"
      ]
     },
     "execution_count": 56,
     "metadata": {},
     "output_type": "execute_result"
    }
   ],
   "source": [
    "# Параметры задачи\n",
    "n = 1_000_000  # количество уведомлений\n",
    "p = 0.4  # вероятность открытия уведомления\n",
    "threshold = 399_500  # пороговое значение для расчета вероятности\n",
    "\n",
    "# Расчет параметров нормального распределения\n",
    "mu = n * p  # математическое ожидание (среднее значение)\n",
    "sigma = np.sqrt(n * p * (1 - p))  # стандартное отклонение\n",
    "\n",
    "# Расчет вероятности, что количество открытых уведомлений не превысит пороговое значение\n",
    "probability = norm.cdf(threshold, mu, sigma)\n",
    "\n",
    "# Генерация значений для графика\n",
    "x = np.linspace(mu - 4*sigma, mu + 4*sigma, 1000)  # значения по оси X для графика\n",
    "y = norm.pdf(x, mu, sigma)  # значения плотности вероятности для графика\n",
    "\n",
    "# Построение графика\n",
    "plt.plot(x, y, label='Нормальное распределение')  # график нормального распределения\n",
    "plt.fill_between(x, 0, y, where=(x <= threshold), \n",
    "                 color='skyblue', alpha=0.5, label='Вероятность ≤ 399,5 тыс.')\n",
    "plt.title('Аппроксимация биномиального распределения нормальным')  # заголовок графика\n",
    "plt.xlabel('Количество открытых уведомлений')  # подпись оси X\n",
    "plt.ylabel('Плотность вероятности')  # подпись оси Y\n",
    "plt.legend()  # отображение легенды\n",
    "plt.grid(True)  # отображение сетки\n",
    "plt.show()  # отображение графика\n",
    "\n",
    "probability  # вывод рассчитанной вероятности"
   ]
  },
  {
   "cell_type": "markdown",
   "id": "f93e2ee2",
   "metadata": {},
   "source": [
    "Вероятность того, что не более 399,5 тыс. пользователей откроют уведомление, составляет примерно 15.37%. Это означает, что с помощью нормальной аппроксимации биномиального распределения, мы можем ожидать с вероятностью около 15.37%, что количество открытых уведомлений не превысит 399,5 тысяч из миллиона."
   ]
  },
  {
   "cell_type": "markdown",
   "id": "29a2e468",
   "metadata": {},
   "source": [
    "# Итоговый Вывод"
   ]
  },
  {
   "cell_type": "markdown",
   "id": "534ddb6b",
   "metadata": {},
   "source": [
    "Основные статистики по группам пользователей:\n",
    "- Пользователи с бесплатной подпиской ('free') преобладают над пользователями с подпиской 'ultra'. Это указывает на большую доступность или привлекательность бесплатной версии услуги.\n",
    "- Пользователи 'ultra' в среднем проводят больше времени в поездках и склонны к более длительным поездкам по сравнению с пользователями 'free'.\n",
    "\n",
    "Выводы по гипотезам:\n",
    "- Существует статистически значимая разница в среднем времени поездок между пользователями 'ultra' и 'free', что подтверждает, что пользователи 'ultra' проводят в поездках больше времени.\n",
    "- Нет статистически значимых доказательств для того, чтобы утверждать, что среднее расстояние, которое проезжают пользователи с подпиской, больше 3130 метров.\n",
    "- Средняя помесячная выручка от пользователей с подпиской значительно выше, чем от пользователей без подписки.\n",
    "\n",
    "Сравнение годовой и среднемесячной выручки:\n",
    "- Годовая выручка от пользователей с подпиской 'ultra' может быть выше из-за более высоких тарифов, несмотря на меньшее количество пользователей.\n",
    "- Среднемесячная выручка от каждого пользователя 'ultra', вероятно, также выше, что указывает на более высокую ценность каждого пользователя в этой категории для бизнеса.\n",
    "\n",
    "Итоговая рекомендация бизнесу:\n",
    "- Фокусироваться на удержании и привлечении пользователей 'ultra', так как они приносят больше дохода.\n",
    "- Разработать стратегии для конвертации пользователей из 'free' в 'ultra', возможно, через улучшение услуг или предложение индивидуальных планов подписки.\n",
    "- Учитывать, что основная аудитория молода, и адаптировать маркетинговые и рекламные кампании для удовлетворения их интересов и потребностей.\n",
    "- Проводить анализ поведения пользователей в разных географических регионах и настраивать предложения в соответствии с региональными предпочтениями.\n",
    "- Учитывать результаты анализа продолжительности и расстояния поездок для планирования и оптимизации услуг."
   ]
  },
  {
   "cell_type": "code",
   "execution_count": 63,
   "id": "e82c1a2f",
   "metadata": {},
   "outputs": [],
   "source": [
    "free_users_aggregated_data['subscription_fee'] = 'free'\n",
    "ultra_users_aggregated_data['subscription_fee'] = 'ultra'"
   ]
  },
  {
   "cell_type": "code",
   "execution_count": 64,
   "id": "e67f2337",
   "metadata": {},
   "outputs": [],
   "source": [
    "df_rides = ultra_users_aggregated_data.merge(free_users_aggregated_data, how='outer')"
   ]
  },
  {
   "cell_type": "code",
   "execution_count": 65,
   "id": "b2cde36d",
   "metadata": {
    "scrolled": false
   },
   "outputs": [
    {
     "data": {
      "text/plain": [
       "Index(['user_id', 'month', 'total_distance', 'total_rides', 'total_time',\n",
       "       'rounded_duration', 'monthly_revenue', 'subscription_fee'],\n",
       "      dtype='object')"
      ]
     },
     "execution_count": 65,
     "metadata": {},
     "output_type": "execute_result"
    }
   ],
   "source": [
    "df_rides.columns"
   ]
  },
  {
   "cell_type": "code",
   "execution_count": 66,
   "id": "e40c5364",
   "metadata": {
    "scrolled": false
   },
   "outputs": [
    {
     "data": {
      "text/html": [
       "<div>\n",
       "<style scoped>\n",
       "    .dataframe tbody tr th:only-of-type {\n",
       "        vertical-align: middle;\n",
       "    }\n",
       "\n",
       "    .dataframe tbody tr th {\n",
       "        vertical-align: top;\n",
       "    }\n",
       "\n",
       "    .dataframe thead th {\n",
       "        text-align: right;\n",
       "    }\n",
       "</style>\n",
       "<table border=\"1\" class=\"dataframe\">\n",
       "  <thead>\n",
       "    <tr style=\"text-align: right;\">\n",
       "      <th></th>\n",
       "      <th>user_id</th>\n",
       "      <th>month</th>\n",
       "      <th>total_distance</th>\n",
       "      <th>total_rides</th>\n",
       "      <th>total_time</th>\n",
       "      <th>rounded_duration</th>\n",
       "      <th>monthly_revenue</th>\n",
       "      <th>subscription_fee</th>\n",
       "    </tr>\n",
       "  </thead>\n",
       "  <tbody>\n",
       "    <tr>\n",
       "      <th>0</th>\n",
       "      <td>1</td>\n",
       "      <td>1</td>\n",
       "      <td>7027.511294</td>\n",
       "      <td>2</td>\n",
       "      <td>41.416640</td>\n",
       "      <td>42.0</td>\n",
       "      <td>451.0</td>\n",
       "      <td>ultra</td>\n",
       "    </tr>\n",
       "    <tr>\n",
       "      <th>1</th>\n",
       "      <td>1</td>\n",
       "      <td>4</td>\n",
       "      <td>754.159807</td>\n",
       "      <td>1</td>\n",
       "      <td>6.232113</td>\n",
       "      <td>7.0</td>\n",
       "      <td>241.0</td>\n",
       "      <td>ultra</td>\n",
       "    </tr>\n",
       "    <tr>\n",
       "      <th>2</th>\n",
       "      <td>1</td>\n",
       "      <td>8</td>\n",
       "      <td>6723.470560</td>\n",
       "      <td>2</td>\n",
       "      <td>44.776802</td>\n",
       "      <td>45.0</td>\n",
       "      <td>469.0</td>\n",
       "      <td>ultra</td>\n",
       "    </tr>\n",
       "    <tr>\n",
       "      <th>3</th>\n",
       "      <td>1</td>\n",
       "      <td>10</td>\n",
       "      <td>5809.911100</td>\n",
       "      <td>2</td>\n",
       "      <td>31.578017</td>\n",
       "      <td>32.0</td>\n",
       "      <td>391.0</td>\n",
       "      <td>ultra</td>\n",
       "    </tr>\n",
       "    <tr>\n",
       "      <th>4</th>\n",
       "      <td>1</td>\n",
       "      <td>11</td>\n",
       "      <td>7003.499363</td>\n",
       "      <td>3</td>\n",
       "      <td>53.397424</td>\n",
       "      <td>54.0</td>\n",
       "      <td>523.0</td>\n",
       "      <td>ultra</td>\n",
       "    </tr>\n",
       "    <tr>\n",
       "      <th>...</th>\n",
       "      <td>...</td>\n",
       "      <td>...</td>\n",
       "      <td>...</td>\n",
       "      <td>...</td>\n",
       "      <td>...</td>\n",
       "      <td>...</td>\n",
       "      <td>...</td>\n",
       "      <td>...</td>\n",
       "    </tr>\n",
       "    <tr>\n",
       "      <th>11326</th>\n",
       "      <td>1534</td>\n",
       "      <td>6</td>\n",
       "      <td>3409.468534</td>\n",
       "      <td>2</td>\n",
       "      <td>24.812678</td>\n",
       "      <td>25.0</td>\n",
       "      <td>300.0</td>\n",
       "      <td>free</td>\n",
       "    </tr>\n",
       "    <tr>\n",
       "      <th>11327</th>\n",
       "      <td>1534</td>\n",
       "      <td>8</td>\n",
       "      <td>7622.453034</td>\n",
       "      <td>2</td>\n",
       "      <td>47.205960</td>\n",
       "      <td>48.0</td>\n",
       "      <td>484.0</td>\n",
       "      <td>free</td>\n",
       "    </tr>\n",
       "    <tr>\n",
       "      <th>11328</th>\n",
       "      <td>1534</td>\n",
       "      <td>9</td>\n",
       "      <td>4928.173852</td>\n",
       "      <td>1</td>\n",
       "      <td>22.560373</td>\n",
       "      <td>23.0</td>\n",
       "      <td>234.0</td>\n",
       "      <td>free</td>\n",
       "    </tr>\n",
       "    <tr>\n",
       "      <th>11329</th>\n",
       "      <td>1534</td>\n",
       "      <td>11</td>\n",
       "      <td>13350.015305</td>\n",
       "      <td>4</td>\n",
       "      <td>76.342174</td>\n",
       "      <td>77.0</td>\n",
       "      <td>816.0</td>\n",
       "      <td>free</td>\n",
       "    </tr>\n",
       "    <tr>\n",
       "      <th>11330</th>\n",
       "      <td>1534</td>\n",
       "      <td>12</td>\n",
       "      <td>2371.711192</td>\n",
       "      <td>1</td>\n",
       "      <td>15.893917</td>\n",
       "      <td>16.0</td>\n",
       "      <td>178.0</td>\n",
       "      <td>free</td>\n",
       "    </tr>\n",
       "  </tbody>\n",
       "</table>\n",
       "<p>11331 rows × 8 columns</p>\n",
       "</div>"
      ],
      "text/plain": [
       "       user_id  month  total_distance  total_rides  total_time  \\\n",
       "0            1      1     7027.511294            2   41.416640   \n",
       "1            1      4      754.159807            1    6.232113   \n",
       "2            1      8     6723.470560            2   44.776802   \n",
       "3            1     10     5809.911100            2   31.578017   \n",
       "4            1     11     7003.499363            3   53.397424   \n",
       "...        ...    ...             ...          ...         ...   \n",
       "11326     1534      6     3409.468534            2   24.812678   \n",
       "11327     1534      8     7622.453034            2   47.205960   \n",
       "11328     1534      9     4928.173852            1   22.560373   \n",
       "11329     1534     11    13350.015305            4   76.342174   \n",
       "11330     1534     12     2371.711192            1   15.893917   \n",
       "\n",
       "       rounded_duration  monthly_revenue subscription_fee  \n",
       "0                  42.0            451.0            ultra  \n",
       "1                   7.0            241.0            ultra  \n",
       "2                  45.0            469.0            ultra  \n",
       "3                  32.0            391.0            ultra  \n",
       "4                  54.0            523.0            ultra  \n",
       "...                 ...              ...              ...  \n",
       "11326              25.0            300.0             free  \n",
       "11327              48.0            484.0             free  \n",
       "11328              23.0            234.0             free  \n",
       "11329              77.0            816.0             free  \n",
       "11330              16.0            178.0             free  \n",
       "\n",
       "[11331 rows x 8 columns]"
      ]
     },
     "execution_count": 66,
     "metadata": {},
     "output_type": "execute_result"
    }
   ],
   "source": [
    "df_rides"
   ]
  },
  {
   "cell_type": "code",
   "execution_count": 67,
   "id": "c699750f",
   "metadata": {},
   "outputs": [],
   "source": [
    "dfg_first = df_rides.copy()"
   ]
  },
  {
   "cell_type": "code",
   "execution_count": 68,
   "id": "6ba7eb08",
   "metadata": {},
   "outputs": [],
   "source": [
    "x = 'subscription_fee'\n",
    "y = 'monthly_revenue'"
   ]
  },
  {
   "cell_type": "code",
   "execution_count": 69,
   "id": "a6df4b71",
   "metadata": {},
   "outputs": [
    {
     "data": {
      "text/html": [
       "<div>\n",
       "<style scoped>\n",
       "    .dataframe tbody tr th:only-of-type {\n",
       "        vertical-align: middle;\n",
       "    }\n",
       "\n",
       "    .dataframe tbody tr th {\n",
       "        vertical-align: top;\n",
       "    }\n",
       "\n",
       "    .dataframe thead th {\n",
       "        text-align: right;\n",
       "    }\n",
       "</style>\n",
       "<table border=\"1\" class=\"dataframe\">\n",
       "  <thead>\n",
       "    <tr style=\"text-align: right;\">\n",
       "      <th></th>\n",
       "      <th>monthly_revenue</th>\n",
       "    </tr>\n",
       "    <tr>\n",
       "      <th>subscription_fee</th>\n",
       "      <th></th>\n",
       "    </tr>\n",
       "  </thead>\n",
       "  <tbody>\n",
       "    <tr>\n",
       "      <th>free</th>\n",
       "      <td>325.8</td>\n",
       "    </tr>\n",
       "    <tr>\n",
       "      <th>ultra</th>\n",
       "      <td>361.5</td>\n",
       "    </tr>\n",
       "  </tbody>\n",
       "</table>\n",
       "</div>"
      ],
      "text/plain": [
       "                  monthly_revenue\n",
       "subscription_fee                 \n",
       "free                        325.8\n",
       "ultra                       361.5"
      ]
     },
     "execution_count": 69,
     "metadata": {},
     "output_type": "execute_result"
    }
   ],
   "source": [
    "dfg_first.groupby(x)[y].mean().round(1).to_frame()"
   ]
  },
  {
   "cell_type": "code",
   "execution_count": 70,
   "id": "e6ff79e8",
   "metadata": {},
   "outputs": [
    {
     "data": {
      "image/png": "[encoded data removed]",
      "text/plain": [
       "<Figure size 1080x216 with 1 Axes>"
      ]
     },
     "metadata": {
      "needs_background": "light"
     },
     "output_type": "display_data"
    }
   ],
   "source": [
    "dfg_first.groupby(x)[y].hist(bins=200, figsize=(15,3), legend=True)\n",
    "plt.title('Гистограммы ежесячной выручки двух групп пользователей')\n",
    "plt.xlabel('руб.')\n",
    "plt.ylabel('кол-во');"
   ]
  },
  {
   "cell_type": "code",
   "execution_count": 71,
   "id": "0f2ea2af",
   "metadata": {},
   "outputs": [],
   "source": [
    "# копируем таблицу\n",
    "dfg = dfg_first.copy()\n"
   ]
  },
  {
   "cell_type": "code",
   "execution_count": 72,
   "id": "fe498f34",
   "metadata": {},
   "outputs": [
    {
     "name": "stdout",
     "output_type": "stream",
     "text": [
      "<class 'pandas.core.frame.DataFrame'>\n",
      "Int64Index: 11331 entries, 0 to 11330\n",
      "Data columns (total 8 columns):\n",
      " #   Column            Non-Null Count  Dtype  \n",
      "---  ------            --------------  -----  \n",
      " 0   user_id           11331 non-null  int64  \n",
      " 1   month             11331 non-null  int64  \n",
      " 2   total_distance    11331 non-null  float64\n",
      " 3   total_rides       11331 non-null  int64  \n",
      " 4   total_time        11331 non-null  float64\n",
      " 5   rounded_duration  11331 non-null  float64\n",
      " 6   monthly_revenue   11331 non-null  float64\n",
      " 7   subscription_fee  11331 non-null  object \n",
      "dtypes: float64(4), int64(3), object(1)\n",
      "memory usage: 796.7+ KB\n"
     ]
    }
   ],
   "source": [
    "dfg.info()"
   ]
  },
  {
   "cell_type": "code",
   "execution_count": 73,
   "id": "b30f3906",
   "metadata": {},
   "outputs": [],
   "source": [
    "# удаляем данные, 20%\n",
    "for col in dfg.columns:\n",
    "    dfg.loc[dfg.sample(frac=0.2).index, col] = np.nan"
   ]
  },
  {
   "cell_type": "code",
   "execution_count": 74,
   "id": "27552aef",
   "metadata": {},
   "outputs": [
    {
     "name": "stdout",
     "output_type": "stream",
     "text": [
      "<class 'pandas.core.frame.DataFrame'>\n",
      "Int64Index: 11331 entries, 0 to 11330\n",
      "Data columns (total 8 columns):\n",
      " #   Column            Non-Null Count  Dtype  \n",
      "---  ------            --------------  -----  \n",
      " 0   user_id           9065 non-null   float64\n",
      " 1   month             9065 non-null   float64\n",
      " 2   total_distance    9065 non-null   float64\n",
      " 3   total_rides       9065 non-null   float64\n",
      " 4   total_time        9065 non-null   float64\n",
      " 5   rounded_duration  9065 non-null   float64\n",
      " 6   monthly_revenue   9065 non-null   float64\n",
      " 7   subscription_fee  9065 non-null   object \n",
      "dtypes: float64(7), object(1)\n",
      "memory usage: 1.0+ MB\n"
     ]
    }
   ],
   "source": [
    "dfg.info()"
   ]
  },
  {
   "cell_type": "code",
   "execution_count": 75,
   "id": "90c1aaab",
   "metadata": {},
   "outputs": [
    {
     "data": {
      "text/html": [
       "<div>\n",
       "<style scoped>\n",
       "    .dataframe tbody tr th:only-of-type {\n",
       "        vertical-align: middle;\n",
       "    }\n",
       "\n",
       "    .dataframe tbody tr th {\n",
       "        vertical-align: top;\n",
       "    }\n",
       "\n",
       "    .dataframe thead th {\n",
       "        text-align: right;\n",
       "    }\n",
       "</style>\n",
       "<table border=\"1\" class=\"dataframe\">\n",
       "  <thead>\n",
       "    <tr style=\"text-align: right;\">\n",
       "      <th></th>\n",
       "      <th>monthly_revenue</th>\n",
       "    </tr>\n",
       "    <tr>\n",
       "      <th>subscription_fee</th>\n",
       "      <th></th>\n",
       "    </tr>\n",
       "  </thead>\n",
       "  <tbody>\n",
       "    <tr>\n",
       "      <th>free</th>\n",
       "      <td>327.2</td>\n",
       "    </tr>\n",
       "    <tr>\n",
       "      <th>ultra</th>\n",
       "      <td>361.5</td>\n",
       "    </tr>\n",
       "  </tbody>\n",
       "</table>\n",
       "</div>"
      ],
      "text/plain": [
       "                  monthly_revenue\n",
       "subscription_fee                 \n",
       "free                        327.2\n",
       "ultra                       361.5"
      ]
     },
     "execution_count": 75,
     "metadata": {},
     "output_type": "execute_result"
    }
   ],
   "source": [
    "dfg.groupby(x)[y].mean().round(1).to_frame()"
   ]
  },
  {
   "cell_type": "code",
   "execution_count": 76,
   "id": "c6e1570f",
   "metadata": {
    "scrolled": false
   },
   "outputs": [
    {
     "data": {
      "image/png": "[encoded data removed]",
      "text/plain": [
       "<Figure size 1080x216 with 1 Axes>"
      ]
     },
     "metadata": {
      "needs_background": "light"
     },
     "output_type": "display_data"
    }
   ],
   "source": [
    "dfg.groupby(x)[y].hist(bins=200, figsize=(15,3), legend=True)\n",
    "plt.title('Гистограммы ежесячной выручки двух групп пользователей')\n",
    "plt.xlabel('руб.')\n",
    "plt.ylabel('кол-во');"
   ]
  },
  {
   "cell_type": "code",
   "execution_count": 77,
   "id": "8bedc795",
   "metadata": {},
   "outputs": [
    {
     "name": "stdout",
     "output_type": "stream",
     "text": [
      "p-значение: 0.1912450522572209\n",
      "Не получилось отвергнуть нулевую гипотезу\n"
     ]
    }
   ],
   "source": [
    "# Приведены два датасета: сумма покупок, совершённых за месяц посетителями ...\n",
    "\n",
    "sample_1 = [3071, 3636, 3454, 3151, 2185, 3259, 1727, 2263, 2015,\n",
    "2582, 4815, 633, 3186, 887, 2028, 3589, 2564, 1422, 1785,\n",
    "3180, 1770, 2716, 2546, 1848, 4644, 3134, 475, 2686,\n",
    "1838, 3352]\n",
    "sample_2 = [1211, 1228, 2157, 3699, 600, 1898, 1688, 1420, 5048, 3007,\n",
    "509, 3777, 5583, 3949, 121, 1674, 4300, 1338, 3066,\n",
    "3562, 1010, 2311, 462, 863, 2021, 528, 1849, 255,\n",
    "1740, 2596]\n",
    "alpha = .05 # критический уровень статистической значимости\n",
    "# если p-value окажется меньше него - отвергнем гипотезу\n",
    "results = stats.ttest_ind(\n",
    "sample_1,\n",
    "sample_2)\n",
    "print('p-значение:', results.pvalue)\n",
    "if (results.pvalue < alpha):\n",
    "    print(\"Отвергаем нулевую гипотезу\")\n",
    "else:\n",
    "    print(\"Не получилось отвергнуть нулевую гипотезу\")"
   ]
  },
  {
   "cell_type": "code",
   "execution_count": null,
   "id": "c1b96c70",
   "metadata": {},
   "outputs": [],
   "source": []
  }
 ],
 "metadata": {
  "ExecuteTimeLog": [
   {
    "duration": 399,
    "start_time": "2024-01-24T14:36:39.187Z"
   },
   {
    "duration": 193,
    "start_time": "2024-01-24T14:36:39.793Z"
   },
   {
    "duration": 11,
    "start_time": "2024-01-24T14:36:40.344Z"
   },
   {
    "duration": 11,
    "start_time": "2024-01-24T14:37:06.192Z"
   },
   {
    "duration": 463,
    "start_time": "2024-01-24T14:40:18.149Z"
   },
   {
    "duration": 3,
    "start_time": "2024-01-24T14:40:18.614Z"
   },
   {
    "duration": 86,
    "start_time": "2024-01-24T14:40:18.618Z"
   },
   {
    "duration": 16,
    "start_time": "2024-01-24T14:40:18.707Z"
   },
   {
    "duration": 3,
    "start_time": "2024-01-24T14:41:07.913Z"
   },
   {
    "duration": 69,
    "start_time": "2024-01-24T14:41:08.292Z"
   },
   {
    "duration": 11,
    "start_time": "2024-01-24T14:43:42.584Z"
   },
   {
    "duration": 21,
    "start_time": "2024-01-24T14:43:44.799Z"
   },
   {
    "duration": 5,
    "start_time": "2024-01-24T14:47:42.743Z"
   },
   {
    "duration": 9,
    "start_time": "2024-01-24T14:50:22.820Z"
   },
   {
    "duration": 6,
    "start_time": "2024-01-24T14:53:00.164Z"
   },
   {
    "duration": 6,
    "start_time": "2024-01-24T14:53:01.276Z"
   },
   {
    "duration": 5,
    "start_time": "2024-01-24T14:53:02.290Z"
   },
   {
    "duration": 5,
    "start_time": "2024-01-24T14:53:57.403Z"
   },
   {
    "duration": 6,
    "start_time": "2024-01-24T14:53:58.300Z"
   },
   {
    "duration": 4,
    "start_time": "2024-01-24T14:53:59.305Z"
   },
   {
    "duration": 6,
    "start_time": "2024-01-24T14:54:57.273Z"
   },
   {
    "duration": 5,
    "start_time": "2024-01-24T14:54:57.817Z"
   },
   {
    "duration": 5,
    "start_time": "2024-01-24T14:54:58.572Z"
   },
   {
    "duration": 6,
    "start_time": "2024-01-24T14:55:23.174Z"
   },
   {
    "duration": 5,
    "start_time": "2024-01-24T14:55:25.013Z"
   },
   {
    "duration": 4,
    "start_time": "2024-01-24T14:55:25.931Z"
   },
   {
    "duration": 6,
    "start_time": "2024-01-24T14:55:36.466Z"
   },
   {
    "duration": 5,
    "start_time": "2024-01-24T14:55:36.778Z"
   },
   {
    "duration": 5,
    "start_time": "2024-01-24T14:55:37.291Z"
   },
   {
    "duration": 5,
    "start_time": "2024-01-24T14:58:06.913Z"
   },
   {
    "duration": 8,
    "start_time": "2024-01-24T14:58:07.640Z"
   },
   {
    "duration": 5,
    "start_time": "2024-01-24T14:58:08.715Z"
   },
   {
    "duration": 8,
    "start_time": "2024-01-24T15:00:15.144Z"
   },
   {
    "duration": 4,
    "start_time": "2024-01-24T15:00:16.199Z"
   },
   {
    "duration": 5,
    "start_time": "2024-01-24T15:03:26.262Z"
   },
   {
    "duration": 7,
    "start_time": "2024-01-24T15:03:26.690Z"
   },
   {
    "duration": 5,
    "start_time": "2024-01-24T15:03:28.124Z"
   },
   {
    "duration": 9,
    "start_time": "2024-01-24T15:04:04.243Z"
   },
   {
    "duration": 49,
    "start_time": "2024-01-24T15:04:30.305Z"
   },
   {
    "duration": 6,
    "start_time": "2024-01-24T15:05:43.288Z"
   },
   {
    "duration": 6,
    "start_time": "2024-01-24T15:05:53.736Z"
   },
   {
    "duration": 6,
    "start_time": "2024-01-24T15:06:37.640Z"
   },
   {
    "duration": 5,
    "start_time": "2024-01-24T15:09:08.174Z"
   },
   {
    "duration": 5,
    "start_time": "2024-01-24T15:09:08.734Z"
   },
   {
    "duration": 67,
    "start_time": "2024-01-24T15:14:27.816Z"
   },
   {
    "duration": 12,
    "start_time": "2024-01-24T15:15:21.503Z"
   },
   {
    "duration": 11,
    "start_time": "2024-01-24T15:15:58.475Z"
   },
   {
    "duration": 14,
    "start_time": "2024-01-24T15:17:39.107Z"
   },
   {
    "duration": 458,
    "start_time": "2024-01-24T15:18:17.907Z"
   },
   {
    "duration": 22,
    "start_time": "2024-01-24T15:18:19.561Z"
   },
   {
    "duration": 155,
    "start_time": "2024-01-24T15:18:46.280Z"
   },
   {
    "duration": 141,
    "start_time": "2024-01-24T15:18:58.349Z"
   },
   {
    "duration": 208,
    "start_time": "2024-01-24T15:19:38.638Z"
   },
   {
    "duration": 136,
    "start_time": "2024-01-24T15:40:36.117Z"
   },
   {
    "duration": 143,
    "start_time": "2024-01-24T15:42:30.639Z"
   },
   {
    "duration": 152,
    "start_time": "2024-01-24T15:43:13.591Z"
   },
   {
    "duration": 198,
    "start_time": "2024-01-24T15:43:42.414Z"
   },
   {
    "duration": 157,
    "start_time": "2024-01-24T15:44:16.463Z"
   },
   {
    "duration": 154,
    "start_time": "2024-01-24T15:44:34.196Z"
   },
   {
    "duration": 5,
    "start_time": "2024-01-24T15:52:53.329Z"
   },
   {
    "duration": 5,
    "start_time": "2024-01-24T15:53:42.343Z"
   },
   {
    "duration": 15,
    "start_time": "2024-01-24T15:53:48.308Z"
   },
   {
    "duration": 8,
    "start_time": "2024-01-24T15:54:07.590Z"
   },
   {
    "duration": 5,
    "start_time": "2024-01-24T15:54:13.858Z"
   },
   {
    "duration": 5,
    "start_time": "2024-01-24T15:54:59.726Z"
   },
   {
    "duration": 5,
    "start_time": "2024-01-24T15:56:10.198Z"
   },
   {
    "duration": 77,
    "start_time": "2024-01-24T15:57:55.189Z"
   },
   {
    "duration": 78,
    "start_time": "2024-01-24T15:59:02.902Z"
   },
   {
    "duration": 88,
    "start_time": "2024-01-24T15:59:25.104Z"
   },
   {
    "duration": 6,
    "start_time": "2024-01-24T16:00:39.031Z"
   },
   {
    "duration": 6,
    "start_time": "2024-01-24T16:01:21.667Z"
   },
   {
    "duration": 90,
    "start_time": "2024-01-24T16:02:09.915Z"
   },
   {
    "duration": 90,
    "start_time": "2024-01-24T16:02:54.343Z"
   },
   {
    "duration": 27,
    "start_time": "2024-01-24T16:03:34.933Z"
   },
   {
    "duration": 155,
    "start_time": "2024-01-24T16:10:47.576Z"
   },
   {
    "duration": 6,
    "start_time": "2024-01-24T16:12:20.116Z"
   },
   {
    "duration": 266,
    "start_time": "2024-01-24T16:13:13.649Z"
   },
   {
    "duration": 274,
    "start_time": "2024-01-24T16:13:47.951Z"
   },
   {
    "duration": 301,
    "start_time": "2024-01-24T16:13:51.523Z"
   },
   {
    "duration": 10,
    "start_time": "2024-01-24T16:14:00.605Z"
   },
   {
    "duration": 158,
    "start_time": "2024-01-24T16:14:45.673Z"
   },
   {
    "duration": 22,
    "start_time": "2024-01-24T16:20:55.164Z"
   },
   {
    "duration": 287,
    "start_time": "2024-01-24T16:21:39.951Z"
   },
   {
    "duration": 16,
    "start_time": "2024-01-24T16:25:18.424Z"
   },
   {
    "duration": 22,
    "start_time": "2024-01-24T16:26:17.330Z"
   },
   {
    "duration": 14,
    "start_time": "2024-01-24T16:28:07.983Z"
   },
   {
    "duration": 358,
    "start_time": "2024-01-24T16:29:37.260Z"
   },
   {
    "duration": 268,
    "start_time": "2024-01-24T16:30:18.080Z"
   },
   {
    "duration": 163,
    "start_time": "2024-01-24T16:30:49.059Z"
   },
   {
    "duration": 153,
    "start_time": "2024-01-24T16:33:28.406Z"
   },
   {
    "duration": 94,
    "start_time": "2024-01-24T16:33:57.173Z"
   },
   {
    "duration": 165,
    "start_time": "2024-01-24T16:35:22.322Z"
   },
   {
    "duration": 10,
    "start_time": "2024-01-24T16:38:18.436Z"
   },
   {
    "duration": 161,
    "start_time": "2024-01-24T16:40:22.301Z"
   },
   {
    "duration": 172,
    "start_time": "2024-01-24T16:41:29.261Z"
   },
   {
    "duration": 434,
    "start_time": "2024-01-24T16:41:38.629Z"
   },
   {
    "duration": 2,
    "start_time": "2024-01-24T16:41:39.065Z"
   },
   {
    "duration": 96,
    "start_time": "2024-01-24T16:41:39.069Z"
   },
   {
    "duration": 8,
    "start_time": "2024-01-24T16:41:39.167Z"
   },
   {
    "duration": 9,
    "start_time": "2024-01-24T16:41:39.177Z"
   },
   {
    "duration": 15,
    "start_time": "2024-01-24T16:41:39.187Z"
   },
   {
    "duration": 24,
    "start_time": "2024-01-24T16:41:39.203Z"
   },
   {
    "duration": 12,
    "start_time": "2024-01-24T16:41:39.229Z"
   },
   {
    "duration": 7,
    "start_time": "2024-01-24T16:41:39.242Z"
   },
   {
    "duration": 7,
    "start_time": "2024-01-24T16:41:39.251Z"
   },
   {
    "duration": 10,
    "start_time": "2024-01-24T16:41:39.260Z"
   },
   {
    "duration": 20,
    "start_time": "2024-01-24T16:41:39.272Z"
   },
   {
    "duration": 14,
    "start_time": "2024-01-24T16:41:39.294Z"
   },
   {
    "duration": 8,
    "start_time": "2024-01-24T16:41:39.311Z"
   },
   {
    "duration": 7,
    "start_time": "2024-01-24T16:41:39.321Z"
   },
   {
    "duration": 21,
    "start_time": "2024-01-24T16:41:39.329Z"
   },
   {
    "duration": 288,
    "start_time": "2024-01-24T16:41:39.352Z"
   },
   {
    "duration": 184,
    "start_time": "2024-01-24T16:41:39.641Z"
   },
   {
    "duration": 10,
    "start_time": "2024-01-24T16:41:39.826Z"
   },
   {
    "duration": 107,
    "start_time": "2024-01-24T16:41:39.838Z"
   },
   {
    "duration": 271,
    "start_time": "2024-01-24T16:41:39.947Z"
   },
   {
    "duration": 1428,
    "start_time": "2024-01-24T16:41:40.220Z"
   },
   {
    "duration": 0,
    "start_time": "2024-01-24T16:41:41.650Z"
   },
   {
    "duration": 1168,
    "start_time": "2024-01-24T16:42:13.806Z"
   },
   {
    "duration": 230,
    "start_time": "2024-01-24T16:42:42.051Z"
   },
   {
    "duration": 164,
    "start_time": "2024-01-24T16:42:56.015Z"
   },
   {
    "duration": 150,
    "start_time": "2024-01-24T16:43:12.063Z"
   },
   {
    "duration": 15,
    "start_time": "2024-01-24T16:44:09.583Z"
   },
   {
    "duration": 185,
    "start_time": "2024-01-24T16:44:36.891Z"
   },
   {
    "duration": 161,
    "start_time": "2024-01-24T16:45:15.647Z"
   },
   {
    "duration": 155,
    "start_time": "2024-01-24T16:45:26.020Z"
   },
   {
    "duration": 160,
    "start_time": "2024-01-24T16:45:32.323Z"
   },
   {
    "duration": 9,
    "start_time": "2024-01-24T16:47:34.059Z"
   },
   {
    "duration": 9,
    "start_time": "2024-01-24T16:47:37.972Z"
   },
   {
    "duration": 149,
    "start_time": "2024-01-24T16:48:39.164Z"
   },
   {
    "duration": 143,
    "start_time": "2024-01-24T16:48:49.593Z"
   },
   {
    "duration": 12,
    "start_time": "2024-01-24T16:54:09.712Z"
   },
   {
    "duration": 9,
    "start_time": "2024-01-24T16:55:30.832Z"
   },
   {
    "duration": 30,
    "start_time": "2024-01-24T16:55:42.321Z"
   },
   {
    "duration": 8,
    "start_time": "2024-01-24T16:57:00.856Z"
   },
   {
    "duration": 11,
    "start_time": "2024-01-24T16:57:49.724Z"
   },
   {
    "duration": 11,
    "start_time": "2024-01-24T16:57:50.310Z"
   },
   {
    "duration": 27,
    "start_time": "2024-01-24T16:57:50.919Z"
   },
   {
    "duration": 24,
    "start_time": "2024-01-24T16:58:56.604Z"
   },
   {
    "duration": 29,
    "start_time": "2024-01-24T17:04:21.921Z"
   },
   {
    "duration": 26,
    "start_time": "2024-01-24T17:04:23.990Z"
   },
   {
    "duration": 239,
    "start_time": "2024-01-24T17:06:06.457Z"
   },
   {
    "duration": 336,
    "start_time": "2024-01-24T17:08:17.136Z"
   },
   {
    "duration": 130,
    "start_time": "2024-01-24T17:09:31.669Z"
   },
   {
    "duration": 345,
    "start_time": "2024-01-24T17:10:31.832Z"
   },
   {
    "duration": 242,
    "start_time": "2024-01-24T17:10:44.867Z"
   },
   {
    "duration": 203,
    "start_time": "2024-01-24T17:10:48.664Z"
   },
   {
    "duration": 373,
    "start_time": "2024-01-24T17:10:56.312Z"
   },
   {
    "duration": 2,
    "start_time": "2024-01-24T17:10:56.687Z"
   },
   {
    "duration": 71,
    "start_time": "2024-01-24T17:10:56.690Z"
   },
   {
    "duration": 7,
    "start_time": "2024-01-24T17:10:56.763Z"
   },
   {
    "duration": 11,
    "start_time": "2024-01-24T17:10:56.772Z"
   },
   {
    "duration": 19,
    "start_time": "2024-01-24T17:10:56.785Z"
   },
   {
    "duration": 15,
    "start_time": "2024-01-24T17:10:56.806Z"
   },
   {
    "duration": 6,
    "start_time": "2024-01-24T17:10:56.823Z"
   },
   {
    "duration": 11,
    "start_time": "2024-01-24T17:10:56.831Z"
   },
   {
    "duration": 11,
    "start_time": "2024-01-24T17:10:56.843Z"
   },
   {
    "duration": 8,
    "start_time": "2024-01-24T17:10:56.858Z"
   },
   {
    "duration": 8,
    "start_time": "2024-01-24T17:10:56.868Z"
   },
   {
    "duration": 12,
    "start_time": "2024-01-24T17:10:56.877Z"
   },
   {
    "duration": 5,
    "start_time": "2024-01-24T17:10:56.892Z"
   },
   {
    "duration": 14,
    "start_time": "2024-01-24T17:10:56.899Z"
   },
   {
    "duration": 5,
    "start_time": "2024-01-24T17:10:56.915Z"
   },
   {
    "duration": 284,
    "start_time": "2024-01-24T17:10:56.922Z"
   },
   {
    "duration": 184,
    "start_time": "2024-01-24T17:10:57.208Z"
   },
   {
    "duration": 11,
    "start_time": "2024-01-24T17:10:57.394Z"
   },
   {
    "duration": 105,
    "start_time": "2024-01-24T17:10:57.407Z"
   },
   {
    "duration": 271,
    "start_time": "2024-01-24T17:10:57.513Z"
   },
   {
    "duration": 220,
    "start_time": "2024-01-24T17:10:57.786Z"
   },
   {
    "duration": 153,
    "start_time": "2024-01-24T17:10:58.008Z"
   },
   {
    "duration": 10,
    "start_time": "2024-01-24T17:10:58.163Z"
   },
   {
    "duration": 11,
    "start_time": "2024-01-24T17:10:58.174Z"
   },
   {
    "duration": 29,
    "start_time": "2024-01-24T17:10:58.186Z"
   },
   {
    "duration": 60,
    "start_time": "2024-01-24T17:10:58.217Z"
   },
   {
    "duration": 25,
    "start_time": "2024-01-24T17:10:58.279Z"
   },
   {
    "duration": 254,
    "start_time": "2024-01-24T17:10:58.306Z"
   },
   {
    "duration": 214,
    "start_time": "2024-01-24T17:10:58.562Z"
   },
   {
    "duration": 244,
    "start_time": "2024-01-24T17:11:47.764Z"
   },
   {
    "duration": 24,
    "start_time": "2024-01-24T17:20:56.196Z"
   },
   {
    "duration": 23,
    "start_time": "2024-01-24T17:22:10.572Z"
   },
   {
    "duration": 30,
    "start_time": "2024-01-24T17:22:57.853Z"
   },
   {
    "duration": 29,
    "start_time": "2024-01-24T17:25:10.915Z"
   },
   {
    "duration": 29,
    "start_time": "2024-01-24T17:25:38.355Z"
   },
   {
    "duration": 1844,
    "start_time": "2024-01-24T17:39:00.790Z"
   },
   {
    "duration": 46,
    "start_time": "2024-01-24T19:32:32.378Z"
   },
   {
    "duration": 8,
    "start_time": "2024-01-24T19:32:34.926Z"
   },
   {
    "duration": 5,
    "start_time": "2024-01-24T19:32:51.849Z"
   },
   {
    "duration": 7,
    "start_time": "2024-01-24T19:32:52.803Z"
   },
   {
    "duration": 6,
    "start_time": "2024-01-24T19:33:59.436Z"
   },
   {
    "duration": 7,
    "start_time": "2024-01-24T19:34:01.747Z"
   },
   {
    "duration": 9,
    "start_time": "2024-01-24T19:34:18.326Z"
   },
   {
    "duration": 372,
    "start_time": "2024-01-24T19:34:26.112Z"
   },
   {
    "duration": 2,
    "start_time": "2024-01-24T19:34:26.486Z"
   },
   {
    "duration": 315,
    "start_time": "2024-01-24T19:34:26.494Z"
   },
   {
    "duration": 7,
    "start_time": "2024-01-24T19:34:26.810Z"
   },
   {
    "duration": 18,
    "start_time": "2024-01-24T19:34:26.819Z"
   },
   {
    "duration": 22,
    "start_time": "2024-01-24T19:34:26.839Z"
   },
   {
    "duration": 16,
    "start_time": "2024-01-24T19:34:26.862Z"
   },
   {
    "duration": 7,
    "start_time": "2024-01-24T19:34:26.879Z"
   },
   {
    "duration": 6,
    "start_time": "2024-01-24T19:34:26.888Z"
   },
   {
    "duration": 15,
    "start_time": "2024-01-24T19:34:26.896Z"
   },
   {
    "duration": 23,
    "start_time": "2024-01-24T19:34:26.912Z"
   },
   {
    "duration": 12,
    "start_time": "2024-01-24T19:34:26.936Z"
   },
   {
    "duration": 17,
    "start_time": "2024-01-24T19:34:26.949Z"
   },
   {
    "duration": 4,
    "start_time": "2024-01-24T19:34:26.968Z"
   },
   {
    "duration": 4,
    "start_time": "2024-01-24T19:34:26.974Z"
   },
   {
    "duration": 6,
    "start_time": "2024-01-24T19:34:26.979Z"
   },
   {
    "duration": 395,
    "start_time": "2024-01-24T19:34:26.986Z"
   },
   {
    "duration": 176,
    "start_time": "2024-01-24T19:34:27.383Z"
   },
   {
    "duration": 9,
    "start_time": "2024-01-24T19:34:27.560Z"
   },
   {
    "duration": 92,
    "start_time": "2024-01-24T19:34:27.570Z"
   },
   {
    "duration": 259,
    "start_time": "2024-01-24T19:34:27.663Z"
   },
   {
    "duration": 190,
    "start_time": "2024-01-24T19:34:27.923Z"
   },
   {
    "duration": 136,
    "start_time": "2024-01-24T19:34:28.114Z"
   },
   {
    "duration": 9,
    "start_time": "2024-01-24T19:34:28.252Z"
   },
   {
    "duration": 33,
    "start_time": "2024-01-24T19:34:28.262Z"
   },
   {
    "duration": 36,
    "start_time": "2024-01-24T19:34:28.296Z"
   },
   {
    "duration": 34,
    "start_time": "2024-01-24T19:34:28.333Z"
   },
   {
    "duration": 21,
    "start_time": "2024-01-24T19:34:28.369Z"
   },
   {
    "duration": 198,
    "start_time": "2024-01-24T19:34:28.392Z"
   },
   {
    "duration": 210,
    "start_time": "2024-01-24T19:34:28.592Z"
   },
   {
    "duration": 24,
    "start_time": "2024-01-24T19:34:28.804Z"
   },
   {
    "duration": 78,
    "start_time": "2024-01-24T19:34:28.829Z"
   },
   {
    "duration": 0,
    "start_time": "2024-01-24T19:34:28.909Z"
   },
   {
    "duration": 0,
    "start_time": "2024-01-24T19:34:28.910Z"
   },
   {
    "duration": 3,
    "start_time": "2024-01-24T19:35:30.298Z"
   },
   {
    "duration": 3,
    "start_time": "2024-01-24T19:35:31.063Z"
   },
   {
    "duration": 14,
    "start_time": "2024-01-24T19:35:34.247Z"
   },
   {
    "duration": 45,
    "start_time": "2024-01-24T19:35:47.343Z"
   },
   {
    "duration": 2017,
    "start_time": "2024-01-24T19:35:50.163Z"
   },
   {
    "duration": 27,
    "start_time": "2024-01-24T19:37:05.694Z"
   },
   {
    "duration": 11,
    "start_time": "2024-01-24T19:37:51.492Z"
   },
   {
    "duration": 2,
    "start_time": "2024-01-24T19:38:51.162Z"
   },
   {
    "duration": 4,
    "start_time": "2024-01-24T19:38:51.757Z"
   },
   {
    "duration": 29,
    "start_time": "2024-01-24T19:38:52.716Z"
   },
   {
    "duration": 349,
    "start_time": "2024-01-24T19:38:57.552Z"
   },
   {
    "duration": 2,
    "start_time": "2024-01-24T19:38:57.903Z"
   },
   {
    "duration": 103,
    "start_time": "2024-01-24T19:38:57.907Z"
   },
   {
    "duration": 6,
    "start_time": "2024-01-24T19:38:58.012Z"
   },
   {
    "duration": 42,
    "start_time": "2024-01-24T19:38:58.019Z"
   },
   {
    "duration": 35,
    "start_time": "2024-01-24T19:38:58.063Z"
   },
   {
    "duration": 21,
    "start_time": "2024-01-24T19:38:58.100Z"
   },
   {
    "duration": 13,
    "start_time": "2024-01-24T19:38:58.123Z"
   },
   {
    "duration": 29,
    "start_time": "2024-01-24T19:38:58.138Z"
   },
   {
    "duration": 39,
    "start_time": "2024-01-24T19:38:58.170Z"
   },
   {
    "duration": 50,
    "start_time": "2024-01-24T19:38:58.211Z"
   },
   {
    "duration": 20,
    "start_time": "2024-01-24T19:38:58.263Z"
   },
   {
    "duration": 52,
    "start_time": "2024-01-24T19:38:58.285Z"
   },
   {
    "duration": 8,
    "start_time": "2024-01-24T19:38:58.338Z"
   },
   {
    "duration": 30,
    "start_time": "2024-01-24T19:38:58.348Z"
   },
   {
    "duration": 40,
    "start_time": "2024-01-24T19:38:58.380Z"
   },
   {
    "duration": 238,
    "start_time": "2024-01-24T19:38:58.421Z"
   },
   {
    "duration": 153,
    "start_time": "2024-01-24T19:38:58.661Z"
   },
   {
    "duration": 9,
    "start_time": "2024-01-24T19:38:58.815Z"
   },
   {
    "duration": 98,
    "start_time": "2024-01-24T19:38:58.825Z"
   },
   {
    "duration": 251,
    "start_time": "2024-01-24T19:38:58.925Z"
   },
   {
    "duration": 192,
    "start_time": "2024-01-24T19:38:59.177Z"
   },
   {
    "duration": 142,
    "start_time": "2024-01-24T19:38:59.370Z"
   },
   {
    "duration": 9,
    "start_time": "2024-01-24T19:38:59.514Z"
   },
   {
    "duration": 20,
    "start_time": "2024-01-24T19:38:59.524Z"
   },
   {
    "duration": 41,
    "start_time": "2024-01-24T19:38:59.545Z"
   },
   {
    "duration": 34,
    "start_time": "2024-01-24T19:38:59.587Z"
   },
   {
    "duration": 22,
    "start_time": "2024-01-24T19:38:59.623Z"
   },
   {
    "duration": 215,
    "start_time": "2024-01-24T19:38:59.647Z"
   },
   {
    "duration": 215,
    "start_time": "2024-01-24T19:38:59.864Z"
   },
   {
    "duration": 29,
    "start_time": "2024-01-24T19:39:00.080Z"
   },
   {
    "duration": 54,
    "start_time": "2024-01-24T19:39:00.110Z"
   },
   {
    "duration": 93,
    "start_time": "2024-01-24T19:39:00.165Z"
   },
   {
    "duration": 49,
    "start_time": "2024-01-24T19:39:00.259Z"
   },
   {
    "duration": 1304,
    "start_time": "2024-01-24T19:39:00.310Z"
   },
   {
    "duration": 1145,
    "start_time": "2024-01-24T19:39:06.097Z"
   },
   {
    "duration": 22,
    "start_time": "2024-01-24T19:40:31.915Z"
   },
   {
    "duration": 25,
    "start_time": "2024-01-24T19:42:18.180Z"
   },
   {
    "duration": 2,
    "start_time": "2024-01-24T19:42:43.194Z"
   },
   {
    "duration": 22,
    "start_time": "2024-01-24T19:44:07.983Z"
   },
   {
    "duration": 21,
    "start_time": "2024-01-24T19:45:25.883Z"
   },
   {
    "duration": 24,
    "start_time": "2024-01-24T19:47:17.598Z"
   },
   {
    "duration": 24,
    "start_time": "2024-01-24T19:47:17.867Z"
   },
   {
    "duration": 202,
    "start_time": "2024-01-24T19:47:27.486Z"
   },
   {
    "duration": 24,
    "start_time": "2024-01-24T19:48:32.120Z"
   },
   {
    "duration": 22,
    "start_time": "2024-01-24T19:49:08.705Z"
   },
   {
    "duration": 23,
    "start_time": "2024-01-24T19:49:12.501Z"
   },
   {
    "duration": 2,
    "start_time": "2024-01-24T19:49:50.456Z"
   },
   {
    "duration": 2,
    "start_time": "2024-01-24T19:49:54.102Z"
   },
   {
    "duration": 80,
    "start_time": "2024-01-24T19:51:00.724Z"
   },
   {
    "duration": 22,
    "start_time": "2024-01-24T19:51:49.629Z"
   },
   {
    "duration": 1159,
    "start_time": "2024-01-24T19:52:04.631Z"
   },
   {
    "duration": 5,
    "start_time": "2024-01-24T19:52:38.437Z"
   },
   {
    "duration": 22,
    "start_time": "2024-01-24T19:52:46.160Z"
   },
   {
    "duration": 4,
    "start_time": "2024-01-24T19:53:22.238Z"
   },
   {
    "duration": 13,
    "start_time": "2024-01-24T19:53:28.548Z"
   },
   {
    "duration": 9,
    "start_time": "2024-01-24T19:58:32.756Z"
   },
   {
    "duration": 9,
    "start_time": "2024-01-24T19:59:27.449Z"
   },
   {
    "duration": 8,
    "start_time": "2024-01-24T19:59:39.498Z"
   },
   {
    "duration": 9,
    "start_time": "2024-01-24T20:01:03.626Z"
   },
   {
    "duration": 2,
    "start_time": "2024-01-24T20:02:34.667Z"
   },
   {
    "duration": 9,
    "start_time": "2024-01-24T20:07:00.416Z"
   },
   {
    "duration": 10,
    "start_time": "2024-01-24T20:11:34.091Z"
   },
   {
    "duration": 342,
    "start_time": "2024-01-24T20:11:37.454Z"
   },
   {
    "duration": 3,
    "start_time": "2024-01-24T20:11:37.797Z"
   },
   {
    "duration": 78,
    "start_time": "2024-01-24T20:11:37.801Z"
   },
   {
    "duration": 6,
    "start_time": "2024-01-24T20:11:37.881Z"
   },
   {
    "duration": 20,
    "start_time": "2024-01-24T20:11:37.889Z"
   },
   {
    "duration": 71,
    "start_time": "2024-01-24T20:11:37.911Z"
   },
   {
    "duration": 29,
    "start_time": "2024-01-24T20:11:37.983Z"
   },
   {
    "duration": 23,
    "start_time": "2024-01-24T20:11:38.013Z"
   },
   {
    "duration": 10,
    "start_time": "2024-01-24T20:11:38.037Z"
   },
   {
    "duration": 14,
    "start_time": "2024-01-24T20:11:38.049Z"
   },
   {
    "duration": 8,
    "start_time": "2024-01-24T20:11:38.064Z"
   },
   {
    "duration": 23,
    "start_time": "2024-01-24T20:11:38.074Z"
   },
   {
    "duration": 14,
    "start_time": "2024-01-24T20:11:38.098Z"
   },
   {
    "duration": 11,
    "start_time": "2024-01-24T20:11:38.114Z"
   },
   {
    "duration": 11,
    "start_time": "2024-01-24T20:11:38.126Z"
   },
   {
    "duration": 18,
    "start_time": "2024-01-24T20:11:38.138Z"
   },
   {
    "duration": 247,
    "start_time": "2024-01-24T20:11:38.157Z"
   },
   {
    "duration": 165,
    "start_time": "2024-01-24T20:11:38.405Z"
   },
   {
    "duration": 10,
    "start_time": "2024-01-24T20:11:38.571Z"
   },
   {
    "duration": 87,
    "start_time": "2024-01-24T20:11:38.594Z"
   },
   {
    "duration": 235,
    "start_time": "2024-01-24T20:11:38.682Z"
   },
   {
    "duration": 193,
    "start_time": "2024-01-24T20:11:38.918Z"
   },
   {
    "duration": 137,
    "start_time": "2024-01-24T20:11:39.113Z"
   },
   {
    "duration": 9,
    "start_time": "2024-01-24T20:11:39.252Z"
   },
   {
    "duration": 23,
    "start_time": "2024-01-24T20:11:39.263Z"
   },
   {
    "duration": 30,
    "start_time": "2024-01-24T20:11:39.287Z"
   },
   {
    "duration": 33,
    "start_time": "2024-01-24T20:11:39.318Z"
   },
   {
    "duration": 21,
    "start_time": "2024-01-24T20:11:39.353Z"
   },
   {
    "duration": 208,
    "start_time": "2024-01-24T20:11:39.376Z"
   },
   {
    "duration": 210,
    "start_time": "2024-01-24T20:11:39.586Z"
   },
   {
    "duration": 21,
    "start_time": "2024-01-24T20:11:39.797Z"
   },
   {
    "duration": 20,
    "start_time": "2024-01-24T20:11:39.819Z"
   },
   {
    "duration": 4,
    "start_time": "2024-01-24T20:11:39.840Z"
   },
   {
    "duration": 9,
    "start_time": "2024-01-24T20:11:39.846Z"
   },
   {
    "duration": 24,
    "start_time": "2024-01-24T20:11:39.856Z"
   },
   {
    "duration": 20,
    "start_time": "2024-01-24T20:11:39.881Z"
   },
   {
    "duration": 6,
    "start_time": "2024-01-24T20:11:39.903Z"
   },
   {
    "duration": 17,
    "start_time": "2024-01-24T20:11:39.911Z"
   },
   {
    "duration": 15,
    "start_time": "2024-01-24T20:11:39.929Z"
   },
   {
    "duration": 643,
    "start_time": "2024-01-24T20:35:09.998Z"
   },
   {
    "duration": 157,
    "start_time": "2024-01-24T20:35:19.689Z"
   },
   {
    "duration": 154,
    "start_time": "2024-01-24T20:37:25.637Z"
   },
   {
    "duration": 16,
    "start_time": "2024-01-24T20:44:20.729Z"
   },
   {
    "duration": 103,
    "start_time": "2024-01-24T20:54:25.137Z"
   },
   {
    "duration": 27,
    "start_time": "2024-01-24T20:54:49.163Z"
   },
   {
    "duration": 27,
    "start_time": "2024-01-24T20:55:04.771Z"
   },
   {
    "duration": 23,
    "start_time": "2024-01-24T20:55:19.724Z"
   },
   {
    "duration": 589,
    "start_time": "2024-01-24T20:55:42.012Z"
   },
   {
    "duration": 551,
    "start_time": "2024-01-24T20:56:05.557Z"
   },
   {
    "duration": 599,
    "start_time": "2024-01-24T20:57:17.170Z"
   },
   {
    "duration": 567,
    "start_time": "2024-01-24T20:57:33.211Z"
   },
   {
    "duration": 606,
    "start_time": "2024-01-24T21:00:30.071Z"
   },
   {
    "duration": 542,
    "start_time": "2024-01-24T21:02:04.749Z"
   },
   {
    "duration": 528,
    "start_time": "2024-01-24T21:03:19.856Z"
   },
   {
    "duration": 13,
    "start_time": "2024-01-24T21:06:50.816Z"
   },
   {
    "duration": 3,
    "start_time": "2024-01-24T21:07:11.054Z"
   },
   {
    "duration": 10,
    "start_time": "2024-01-24T21:07:11.656Z"
   },
   {
    "duration": 6,
    "start_time": "2024-01-24T21:07:25.266Z"
   },
   {
    "duration": 6,
    "start_time": "2024-01-24T21:10:21.417Z"
   },
   {
    "duration": 641,
    "start_time": "2024-01-24T22:10:23.441Z"
   },
   {
    "duration": 299,
    "start_time": "2024-01-24T22:15:54.276Z"
   },
   {
    "duration": 289,
    "start_time": "2024-01-24T22:17:47.074Z"
   },
   {
    "duration": 295,
    "start_time": "2024-01-24T22:18:28.064Z"
   },
   {
    "duration": 286,
    "start_time": "2024-01-24T22:18:42.526Z"
   },
   {
    "duration": 541,
    "start_time": "2024-01-24T22:19:07.861Z"
   },
   {
    "duration": 381,
    "start_time": "2024-01-24T22:19:32.795Z"
   },
   {
    "duration": 5,
    "start_time": "2024-01-24T22:23:01.798Z"
   },
   {
    "duration": 6,
    "start_time": "2024-01-24T22:25:01.785Z"
   },
   {
    "duration": 6,
    "start_time": "2024-01-24T22:31:31.968Z"
   },
   {
    "duration": 5,
    "start_time": "2024-01-24T22:31:52.003Z"
   },
   {
    "duration": 6,
    "start_time": "2024-01-24T22:33:59.028Z"
   },
   {
    "duration": 11,
    "start_time": "2024-01-24T22:35:06.930Z"
   },
   {
    "duration": 7,
    "start_time": "2024-01-24T22:35:18.979Z"
   },
   {
    "duration": 5,
    "start_time": "2024-01-24T22:35:52.855Z"
   },
   {
    "duration": 409,
    "start_time": "2024-01-24T22:48:55.938Z"
   },
   {
    "duration": 412,
    "start_time": "2024-01-24T22:50:13.376Z"
   },
   {
    "duration": 195,
    "start_time": "2024-01-24T22:55:17.171Z"
   },
   {
    "duration": 192,
    "start_time": "2024-01-24T22:55:18.262Z"
   },
   {
    "duration": 1042,
    "start_time": "2024-01-24T22:59:03.776Z"
   },
   {
    "duration": 914,
    "start_time": "2024-01-24T22:59:51.410Z"
   },
   {
    "duration": 305,
    "start_time": "2024-01-24T23:05:08.504Z"
   },
   {
    "duration": 13,
    "start_time": "2024-01-24T23:18:07.310Z"
   },
   {
    "duration": 12,
    "start_time": "2024-01-24T23:18:45.908Z"
   },
   {
    "duration": 389,
    "start_time": "2024-01-24T23:18:53.217Z"
   },
   {
    "duration": 2,
    "start_time": "2024-01-24T23:18:53.608Z"
   },
   {
    "duration": 89,
    "start_time": "2024-01-24T23:18:53.611Z"
   },
   {
    "duration": 6,
    "start_time": "2024-01-24T23:18:53.702Z"
   },
   {
    "duration": 43,
    "start_time": "2024-01-24T23:18:53.709Z"
   },
   {
    "duration": 16,
    "start_time": "2024-01-24T23:18:53.754Z"
   },
   {
    "duration": 35,
    "start_time": "2024-01-24T23:18:53.772Z"
   },
   {
    "duration": 26,
    "start_time": "2024-01-24T23:18:53.808Z"
   },
   {
    "duration": 48,
    "start_time": "2024-01-24T23:18:53.835Z"
   },
   {
    "duration": 47,
    "start_time": "2024-01-24T23:18:53.885Z"
   },
   {
    "duration": 17,
    "start_time": "2024-01-24T23:18:53.934Z"
   },
   {
    "duration": 12,
    "start_time": "2024-01-24T23:18:53.953Z"
   },
   {
    "duration": 48,
    "start_time": "2024-01-24T23:18:53.967Z"
   },
   {
    "duration": 9,
    "start_time": "2024-01-24T23:18:54.017Z"
   },
   {
    "duration": 38,
    "start_time": "2024-01-24T23:18:54.028Z"
   },
   {
    "duration": 23,
    "start_time": "2024-01-24T23:18:54.068Z"
   },
   {
    "duration": 262,
    "start_time": "2024-01-24T23:18:54.092Z"
   },
   {
    "duration": 150,
    "start_time": "2024-01-24T23:18:54.355Z"
   },
   {
    "duration": 9,
    "start_time": "2024-01-24T23:18:54.506Z"
   },
   {
    "duration": 98,
    "start_time": "2024-01-24T23:18:54.517Z"
   },
   {
    "duration": 235,
    "start_time": "2024-01-24T23:18:54.616Z"
   },
   {
    "duration": 213,
    "start_time": "2024-01-24T23:18:54.853Z"
   },
   {
    "duration": 130,
    "start_time": "2024-01-24T23:18:55.068Z"
   },
   {
    "duration": 8,
    "start_time": "2024-01-24T23:18:55.199Z"
   },
   {
    "duration": 35,
    "start_time": "2024-01-24T23:18:55.208Z"
   },
   {
    "duration": 41,
    "start_time": "2024-01-24T23:18:55.244Z"
   },
   {
    "duration": 34,
    "start_time": "2024-01-24T23:18:55.286Z"
   },
   {
    "duration": 29,
    "start_time": "2024-01-24T23:18:55.323Z"
   },
   {
    "duration": 218,
    "start_time": "2024-01-24T23:18:55.354Z"
   },
   {
    "duration": 223,
    "start_time": "2024-01-24T23:18:55.574Z"
   },
   {
    "duration": 23,
    "start_time": "2024-01-24T23:18:55.799Z"
   },
   {
    "duration": 21,
    "start_time": "2024-01-24T23:18:55.824Z"
   },
   {
    "duration": 51,
    "start_time": "2024-01-24T23:18:55.846Z"
   },
   {
    "duration": 74,
    "start_time": "2024-01-24T23:18:55.899Z"
   },
   {
    "duration": 38,
    "start_time": "2024-01-24T23:18:55.974Z"
   },
   {
    "duration": 31,
    "start_time": "2024-01-24T23:18:56.014Z"
   },
   {
    "duration": 31,
    "start_time": "2024-01-24T23:18:56.047Z"
   },
   {
    "duration": 51,
    "start_time": "2024-01-24T23:18:56.080Z"
   },
   {
    "duration": 66,
    "start_time": "2024-01-24T23:18:56.133Z"
   },
   {
    "duration": 1085,
    "start_time": "2024-01-24T23:18:56.201Z"
   },
   {
    "duration": 95,
    "start_time": "2024-01-24T23:18:57.288Z"
   },
   {
    "duration": 0,
    "start_time": "2024-01-24T23:18:57.385Z"
   },
   {
    "duration": 0,
    "start_time": "2024-01-24T23:18:57.394Z"
   },
   {
    "duration": 0,
    "start_time": "2024-01-24T23:18:57.395Z"
   },
   {
    "duration": 0,
    "start_time": "2024-01-24T23:18:57.396Z"
   },
   {
    "duration": 0,
    "start_time": "2024-01-24T23:18:57.398Z"
   },
   {
    "duration": 366,
    "start_time": "2024-01-24T23:19:12.331Z"
   },
   {
    "duration": 2,
    "start_time": "2024-01-24T23:19:12.699Z"
   },
   {
    "duration": 110,
    "start_time": "2024-01-24T23:19:12.702Z"
   },
   {
    "duration": 7,
    "start_time": "2024-01-24T23:19:12.814Z"
   },
   {
    "duration": 40,
    "start_time": "2024-01-24T23:19:12.822Z"
   },
   {
    "duration": 50,
    "start_time": "2024-01-24T23:19:12.863Z"
   },
   {
    "duration": 48,
    "start_time": "2024-01-24T23:19:12.915Z"
   },
   {
    "duration": 39,
    "start_time": "2024-01-24T23:19:12.964Z"
   },
   {
    "duration": 42,
    "start_time": "2024-01-24T23:19:13.004Z"
   },
   {
    "duration": 42,
    "start_time": "2024-01-24T23:19:13.048Z"
   },
   {
    "duration": 52,
    "start_time": "2024-01-24T23:19:13.091Z"
   },
   {
    "duration": 60,
    "start_time": "2024-01-24T23:19:13.144Z"
   },
   {
    "duration": 61,
    "start_time": "2024-01-24T23:19:13.205Z"
   },
   {
    "duration": 52,
    "start_time": "2024-01-24T23:19:13.267Z"
   },
   {
    "duration": 53,
    "start_time": "2024-01-24T23:19:13.321Z"
   },
   {
    "duration": 55,
    "start_time": "2024-01-24T23:19:13.376Z"
   },
   {
    "duration": 272,
    "start_time": "2024-01-24T23:19:13.433Z"
   },
   {
    "duration": 156,
    "start_time": "2024-01-24T23:19:13.706Z"
   },
   {
    "duration": 8,
    "start_time": "2024-01-24T23:19:13.864Z"
   },
   {
    "duration": 115,
    "start_time": "2024-01-24T23:19:13.874Z"
   },
   {
    "duration": 246,
    "start_time": "2024-01-24T23:19:13.990Z"
   },
   {
    "duration": 193,
    "start_time": "2024-01-24T23:19:14.237Z"
   },
   {
    "duration": 133,
    "start_time": "2024-01-24T23:19:14.431Z"
   },
   {
    "duration": 8,
    "start_time": "2024-01-24T23:19:14.566Z"
   },
   {
    "duration": 29,
    "start_time": "2024-01-24T23:19:14.576Z"
   },
   {
    "duration": 33,
    "start_time": "2024-01-24T23:19:14.606Z"
   },
   {
    "duration": 25,
    "start_time": "2024-01-24T23:19:14.640Z"
   },
   {
    "duration": 30,
    "start_time": "2024-01-24T23:19:14.668Z"
   },
   {
    "duration": 209,
    "start_time": "2024-01-24T23:19:14.699Z"
   },
   {
    "duration": 231,
    "start_time": "2024-01-24T23:19:14.910Z"
   },
   {
    "duration": 22,
    "start_time": "2024-01-24T23:19:15.142Z"
   },
   {
    "duration": 34,
    "start_time": "2024-01-24T23:19:15.166Z"
   },
   {
    "duration": 3,
    "start_time": "2024-01-24T23:19:15.201Z"
   },
   {
    "duration": 21,
    "start_time": "2024-01-24T23:19:15.205Z"
   },
   {
    "duration": 25,
    "start_time": "2024-01-24T23:19:15.228Z"
   },
   {
    "duration": 11,
    "start_time": "2024-01-24T23:19:15.255Z"
   },
   {
    "duration": 46,
    "start_time": "2024-01-24T23:19:15.268Z"
   },
   {
    "duration": 33,
    "start_time": "2024-01-24T23:19:15.316Z"
   },
   {
    "duration": 40,
    "start_time": "2024-01-24T23:19:15.351Z"
   },
   {
    "duration": 1103,
    "start_time": "2024-01-24T23:19:15.393Z"
   },
   {
    "duration": 97,
    "start_time": "2024-01-24T23:19:16.498Z"
   },
   {
    "duration": 0,
    "start_time": "2024-01-24T23:19:16.596Z"
   },
   {
    "duration": 0,
    "start_time": "2024-01-24T23:19:16.597Z"
   },
   {
    "duration": 0,
    "start_time": "2024-01-24T23:19:16.598Z"
   },
   {
    "duration": 0,
    "start_time": "2024-01-24T23:19:16.599Z"
   },
   {
    "duration": 0,
    "start_time": "2024-01-24T23:19:16.600Z"
   },
   {
    "duration": 107,
    "start_time": "2024-01-24T23:21:31.371Z"
   },
   {
    "duration": 421,
    "start_time": "2024-01-24T23:22:53.867Z"
   },
   {
    "duration": 2,
    "start_time": "2024-01-24T23:22:54.293Z"
   },
   {
    "duration": 83,
    "start_time": "2024-01-24T23:22:54.296Z"
   },
   {
    "duration": 6,
    "start_time": "2024-01-24T23:22:54.381Z"
   },
   {
    "duration": 9,
    "start_time": "2024-01-24T23:22:54.388Z"
   },
   {
    "duration": 24,
    "start_time": "2024-01-24T23:22:54.398Z"
   },
   {
    "duration": 14,
    "start_time": "2024-01-24T23:22:54.424Z"
   },
   {
    "duration": 7,
    "start_time": "2024-01-24T23:22:54.439Z"
   },
   {
    "duration": 7,
    "start_time": "2024-01-24T23:22:54.447Z"
   },
   {
    "duration": 5,
    "start_time": "2024-01-24T23:22:54.456Z"
   },
   {
    "duration": 4,
    "start_time": "2024-01-24T23:22:54.463Z"
   },
   {
    "duration": 32,
    "start_time": "2024-01-24T23:22:54.468Z"
   },
   {
    "duration": 13,
    "start_time": "2024-01-24T23:22:54.501Z"
   },
   {
    "duration": 9,
    "start_time": "2024-01-24T23:22:54.515Z"
   },
   {
    "duration": 8,
    "start_time": "2024-01-24T23:22:54.525Z"
   },
   {
    "duration": 10,
    "start_time": "2024-01-24T23:22:54.534Z"
   },
   {
    "duration": 240,
    "start_time": "2024-01-24T23:22:54.546Z"
   },
   {
    "duration": 161,
    "start_time": "2024-01-24T23:22:54.788Z"
   },
   {
    "duration": 11,
    "start_time": "2024-01-24T23:22:54.950Z"
   },
   {
    "duration": 103,
    "start_time": "2024-01-24T23:22:54.963Z"
   },
   {
    "duration": 256,
    "start_time": "2024-01-24T23:22:55.068Z"
   },
   {
    "duration": 213,
    "start_time": "2024-01-24T23:22:55.326Z"
   },
   {
    "duration": 145,
    "start_time": "2024-01-24T23:22:55.540Z"
   },
   {
    "duration": 14,
    "start_time": "2024-01-24T23:22:55.686Z"
   },
   {
    "duration": 30,
    "start_time": "2024-01-24T23:22:55.701Z"
   },
   {
    "duration": 23,
    "start_time": "2024-01-24T23:22:55.733Z"
   },
   {
    "duration": 25,
    "start_time": "2024-01-24T23:22:55.757Z"
   },
   {
    "duration": 25,
    "start_time": "2024-01-24T23:22:55.786Z"
   },
   {
    "duration": 228,
    "start_time": "2024-01-24T23:22:55.813Z"
   },
   {
    "duration": 227,
    "start_time": "2024-01-24T23:22:56.043Z"
   },
   {
    "duration": 31,
    "start_time": "2024-01-24T23:22:56.272Z"
   },
   {
    "duration": 22,
    "start_time": "2024-01-24T23:22:56.304Z"
   },
   {
    "duration": 10,
    "start_time": "2024-01-24T23:22:56.328Z"
   },
   {
    "duration": 38,
    "start_time": "2024-01-24T23:22:56.340Z"
   },
   {
    "duration": 53,
    "start_time": "2024-01-24T23:22:56.379Z"
   },
   {
    "duration": 21,
    "start_time": "2024-01-24T23:22:56.433Z"
   },
   {
    "duration": 22,
    "start_time": "2024-01-24T23:22:56.456Z"
   },
   {
    "duration": 18,
    "start_time": "2024-01-24T23:22:56.480Z"
   },
   {
    "duration": 32,
    "start_time": "2024-01-24T23:22:56.500Z"
   },
   {
    "duration": 1159,
    "start_time": "2024-01-24T23:22:56.533Z"
   },
   {
    "duration": 102,
    "start_time": "2024-01-24T23:22:57.694Z"
   },
   {
    "duration": 0,
    "start_time": "2024-01-24T23:22:57.798Z"
   },
   {
    "duration": 0,
    "start_time": "2024-01-24T23:22:57.799Z"
   },
   {
    "duration": 1,
    "start_time": "2024-01-24T23:22:57.800Z"
   },
   {
    "duration": 0,
    "start_time": "2024-01-24T23:22:57.801Z"
   },
   {
    "duration": 0,
    "start_time": "2024-01-24T23:22:57.802Z"
   },
   {
    "duration": 10,
    "start_time": "2024-01-24T23:23:16.012Z"
   },
   {
    "duration": 10,
    "start_time": "2024-01-24T23:23:21.903Z"
   },
   {
    "duration": 3,
    "start_time": "2024-01-24T23:23:55.324Z"
   },
   {
    "duration": 654,
    "start_time": "2024-01-24T23:23:58.936Z"
   },
   {
    "duration": 5,
    "start_time": "2024-01-24T23:24:11.194Z"
   },
   {
    "duration": 5,
    "start_time": "2024-01-24T23:24:12.263Z"
   },
   {
    "duration": 294,
    "start_time": "2024-01-24T23:24:16.255Z"
   },
   {
    "duration": 5,
    "start_time": "2024-01-24T23:24:20.096Z"
   },
   {
    "duration": 415,
    "start_time": "2024-01-24T23:24:26.487Z"
   },
   {
    "duration": 1061,
    "start_time": "2024-01-24T23:24:35.069Z"
   },
   {
    "duration": 33054,
    "start_time": "2024-01-24T23:25:48.424Z"
   },
   {
    "duration": 198,
    "start_time": "2024-01-24T23:27:06.973Z"
   },
   {
    "duration": 196,
    "start_time": "2024-01-24T23:28:11.583Z"
   },
   {
    "duration": 189,
    "start_time": "2024-01-24T23:28:23.241Z"
   },
   {
    "duration": 956,
    "start_time": "2024-01-24T23:29:24.040Z"
   },
   {
    "duration": 206,
    "start_time": "2024-01-24T23:31:02.648Z"
   },
   {
    "duration": 222,
    "start_time": "2024-01-24T23:31:27.047Z"
   },
   {
    "duration": 113,
    "start_time": "2024-01-24T23:36:30.142Z"
   },
   {
    "duration": 129,
    "start_time": "2024-01-24T23:41:42.106Z"
   },
   {
    "duration": 47,
    "start_time": "2024-01-25T14:49:21.887Z"
   },
   {
    "duration": 399,
    "start_time": "2024-01-25T14:49:27.386Z"
   },
   {
    "duration": 2,
    "start_time": "2024-01-25T14:49:27.787Z"
   },
   {
    "duration": 203,
    "start_time": "2024-01-25T14:49:27.790Z"
   },
   {
    "duration": 8,
    "start_time": "2024-01-25T14:49:27.995Z"
   },
   {
    "duration": 42,
    "start_time": "2024-01-25T14:49:28.006Z"
   },
   {
    "duration": 11,
    "start_time": "2024-01-25T14:49:28.049Z"
   },
   {
    "duration": 16,
    "start_time": "2024-01-25T14:49:28.062Z"
   },
   {
    "duration": 7,
    "start_time": "2024-01-25T14:49:28.079Z"
   },
   {
    "duration": 5,
    "start_time": "2024-01-25T14:49:28.087Z"
   },
   {
    "duration": 6,
    "start_time": "2024-01-25T14:49:28.094Z"
   },
   {
    "duration": 15,
    "start_time": "2024-01-25T14:49:28.101Z"
   },
   {
    "duration": 7,
    "start_time": "2024-01-25T14:49:28.117Z"
   },
   {
    "duration": 11,
    "start_time": "2024-01-25T14:49:28.126Z"
   },
   {
    "duration": 24,
    "start_time": "2024-01-25T14:49:28.141Z"
   },
   {
    "duration": 6,
    "start_time": "2024-01-25T14:49:28.167Z"
   },
   {
    "duration": 10,
    "start_time": "2024-01-25T14:49:28.175Z"
   },
   {
    "duration": 253,
    "start_time": "2024-01-25T14:49:28.187Z"
   },
   {
    "duration": 171,
    "start_time": "2024-01-25T14:49:28.442Z"
   },
   {
    "duration": 8,
    "start_time": "2024-01-25T14:49:28.615Z"
   },
   {
    "duration": 11,
    "start_time": "2024-01-25T14:49:28.625Z"
   },
   {
    "duration": 108,
    "start_time": "2024-01-25T14:49:28.638Z"
   },
   {
    "duration": 267,
    "start_time": "2024-01-25T14:49:28.748Z"
   },
   {
    "duration": 204,
    "start_time": "2024-01-25T14:49:29.016Z"
   },
   {
    "duration": 160,
    "start_time": "2024-01-25T14:49:29.222Z"
   },
   {
    "duration": 9,
    "start_time": "2024-01-25T14:49:29.383Z"
   },
   {
    "duration": 20,
    "start_time": "2024-01-25T14:49:29.394Z"
   },
   {
    "duration": 24,
    "start_time": "2024-01-25T14:49:29.415Z"
   },
   {
    "duration": 53,
    "start_time": "2024-01-25T14:49:29.441Z"
   },
   {
    "duration": 24,
    "start_time": "2024-01-25T14:49:29.495Z"
   },
   {
    "duration": 268,
    "start_time": "2024-01-25T14:49:29.520Z"
   },
   {
    "duration": 248,
    "start_time": "2024-01-25T14:49:29.789Z"
   },
   {
    "duration": 34,
    "start_time": "2024-01-25T14:49:30.038Z"
   },
   {
    "duration": 116,
    "start_time": "2024-01-25T14:49:30.074Z"
   },
   {
    "duration": 80,
    "start_time": "2024-01-25T14:49:30.192Z"
   },
   {
    "duration": 43,
    "start_time": "2024-01-25T14:49:30.274Z"
   },
   {
    "duration": 69,
    "start_time": "2024-01-25T14:49:30.318Z"
   },
   {
    "duration": 97,
    "start_time": "2024-01-25T14:49:30.389Z"
   },
   {
    "duration": 52,
    "start_time": "2024-01-25T14:49:30.487Z"
   },
   {
    "duration": 42,
    "start_time": "2024-01-25T14:49:30.541Z"
   },
   {
    "duration": 30,
    "start_time": "2024-01-25T14:49:30.585Z"
   },
   {
    "duration": 486,
    "start_time": "2024-01-25T14:49:30.618Z"
   },
   {
    "duration": 124,
    "start_time": "2024-01-25T14:49:31.106Z"
   },
   {
    "duration": 0,
    "start_time": "2024-01-25T14:49:31.232Z"
   },
   {
    "duration": 0,
    "start_time": "2024-01-25T14:49:31.233Z"
   },
   {
    "duration": 0,
    "start_time": "2024-01-25T14:49:31.234Z"
   },
   {
    "duration": 0,
    "start_time": "2024-01-25T14:49:31.236Z"
   },
   {
    "duration": 0,
    "start_time": "2024-01-25T14:49:31.237Z"
   },
   {
    "duration": 0,
    "start_time": "2024-01-25T14:49:31.238Z"
   },
   {
    "duration": 0,
    "start_time": "2024-01-25T14:49:31.239Z"
   },
   {
    "duration": 7,
    "start_time": "2024-01-25T14:55:02.876Z"
   },
   {
    "duration": 7,
    "start_time": "2024-01-25T14:55:17.579Z"
   },
   {
    "duration": 9,
    "start_time": "2024-01-25T14:55:26.716Z"
   },
   {
    "duration": 6,
    "start_time": "2024-01-25T14:55:45.686Z"
   },
   {
    "duration": 6,
    "start_time": "2024-01-25T14:55:51.806Z"
   },
   {
    "duration": 7,
    "start_time": "2024-01-25T14:56:06.918Z"
   },
   {
    "duration": 6,
    "start_time": "2024-01-25T14:56:11.326Z"
   },
   {
    "duration": 11,
    "start_time": "2024-01-25T15:03:26.870Z"
   },
   {
    "duration": 5,
    "start_time": "2024-01-25T15:09:09.914Z"
   },
   {
    "duration": 5,
    "start_time": "2024-01-25T15:09:29.828Z"
   },
   {
    "duration": 126,
    "start_time": "2024-01-25T15:12:10.202Z"
   },
   {
    "duration": 671,
    "start_time": "2024-01-25T15:12:10.537Z"
   },
   {
    "duration": 3,
    "start_time": "2024-01-25T15:12:18.873Z"
   },
   {
    "duration": 6,
    "start_time": "2024-01-25T15:12:20.139Z"
   },
   {
    "duration": 336,
    "start_time": "2024-01-25T15:13:16.883Z"
   },
   {
    "duration": 6,
    "start_time": "2024-01-25T15:13:17.221Z"
   },
   {
    "duration": 513,
    "start_time": "2024-01-25T15:14:30.449Z"
   },
   {
    "duration": 454,
    "start_time": "2024-01-25T15:14:54.087Z"
   },
   {
    "duration": 505,
    "start_time": "2024-01-25T15:15:02.025Z"
   },
   {
    "duration": 239,
    "start_time": "2024-01-25T15:16:37.356Z"
   },
   {
    "duration": 394,
    "start_time": "2024-01-25T15:25:50.977Z"
   },
   {
    "duration": 2,
    "start_time": "2024-01-25T15:25:51.373Z"
   },
   {
    "duration": 71,
    "start_time": "2024-01-25T15:25:51.377Z"
   },
   {
    "duration": 8,
    "start_time": "2024-01-25T15:25:51.450Z"
   },
   {
    "duration": 15,
    "start_time": "2024-01-25T15:25:51.459Z"
   },
   {
    "duration": 7,
    "start_time": "2024-01-25T15:25:51.475Z"
   },
   {
    "duration": 9,
    "start_time": "2024-01-25T15:25:51.484Z"
   },
   {
    "duration": 6,
    "start_time": "2024-01-25T15:25:51.494Z"
   },
   {
    "duration": 8,
    "start_time": "2024-01-25T15:25:51.501Z"
   },
   {
    "duration": 6,
    "start_time": "2024-01-25T15:25:51.512Z"
   },
   {
    "duration": 6,
    "start_time": "2024-01-25T15:25:51.519Z"
   },
   {
    "duration": 5,
    "start_time": "2024-01-25T15:25:51.527Z"
   },
   {
    "duration": 35,
    "start_time": "2024-01-25T15:25:51.534Z"
   },
   {
    "duration": 5,
    "start_time": "2024-01-25T15:25:51.571Z"
   },
   {
    "duration": 11,
    "start_time": "2024-01-25T15:25:51.578Z"
   },
   {
    "duration": 10,
    "start_time": "2024-01-25T15:25:51.590Z"
   },
   {
    "duration": 252,
    "start_time": "2024-01-25T15:25:51.601Z"
   },
   {
    "duration": 168,
    "start_time": "2024-01-25T15:25:51.855Z"
   },
   {
    "duration": 11,
    "start_time": "2024-01-25T15:25:52.025Z"
   },
   {
    "duration": 101,
    "start_time": "2024-01-25T15:25:52.037Z"
   },
   {
    "duration": 260,
    "start_time": "2024-01-25T15:25:52.139Z"
   },
   {
    "duration": 199,
    "start_time": "2024-01-25T15:25:52.400Z"
   },
   {
    "duration": 146,
    "start_time": "2024-01-25T15:25:52.600Z"
   },
   {
    "duration": 18,
    "start_time": "2024-01-25T15:25:52.747Z"
   },
   {
    "duration": 9,
    "start_time": "2024-01-25T15:25:52.767Z"
   },
   {
    "duration": 26,
    "start_time": "2024-01-25T15:25:52.778Z"
   },
   {
    "duration": 24,
    "start_time": "2024-01-25T15:25:52.806Z"
   },
   {
    "duration": 47,
    "start_time": "2024-01-25T15:25:52.833Z"
   },
   {
    "duration": 261,
    "start_time": "2024-01-25T15:25:52.881Z"
   },
   {
    "duration": 243,
    "start_time": "2024-01-25T15:25:53.144Z"
   },
   {
    "duration": 23,
    "start_time": "2024-01-25T15:25:53.388Z"
   },
   {
    "duration": 23,
    "start_time": "2024-01-25T15:25:53.412Z"
   },
   {
    "duration": 3,
    "start_time": "2024-01-25T15:25:53.436Z"
   },
   {
    "duration": 27,
    "start_time": "2024-01-25T15:25:53.441Z"
   },
   {
    "duration": 20,
    "start_time": "2024-01-25T15:25:53.469Z"
   },
   {
    "duration": 18,
    "start_time": "2024-01-25T15:25:53.491Z"
   },
   {
    "duration": 20,
    "start_time": "2024-01-25T15:25:53.511Z"
   },
   {
    "duration": 20,
    "start_time": "2024-01-25T15:25:53.533Z"
   },
   {
    "duration": 23,
    "start_time": "2024-01-25T15:25:53.555Z"
   },
   {
    "duration": 5,
    "start_time": "2024-01-25T15:25:53.581Z"
   },
   {
    "duration": 411,
    "start_time": "2024-01-25T15:25:53.587Z"
   },
   {
    "duration": 116,
    "start_time": "2024-01-25T15:25:53.999Z"
   },
   {
    "duration": 702,
    "start_time": "2024-01-25T15:25:54.116Z"
   },
   {
    "duration": 3,
    "start_time": "2024-01-25T15:25:54.820Z"
   },
   {
    "duration": 7,
    "start_time": "2024-01-25T15:25:54.824Z"
   },
   {
    "duration": 334,
    "start_time": "2024-01-25T15:25:54.833Z"
   },
   {
    "duration": 5,
    "start_time": "2024-01-25T15:25:55.169Z"
   },
   {
    "duration": 532,
    "start_time": "2024-01-25T15:25:55.175Z"
   },
   {
    "duration": 0,
    "start_time": "2024-01-25T15:25:55.708Z"
   },
   {
    "duration": 0,
    "start_time": "2024-01-25T15:25:55.709Z"
   },
   {
    "duration": 201,
    "start_time": "2024-01-25T15:27:27.500Z"
   },
   {
    "duration": 4,
    "start_time": "2024-01-25T22:12:38.983Z"
   },
   {
    "duration": 74,
    "start_time": "2024-01-25T22:27:01.474Z"
   },
   {
    "duration": 455,
    "start_time": "2024-01-25T22:28:36.707Z"
   },
   {
    "duration": 187,
    "start_time": "2024-01-25T22:28:37.164Z"
   },
   {
    "duration": 12,
    "start_time": "2024-01-25T22:28:37.352Z"
   },
   {
    "duration": 20,
    "start_time": "2024-01-25T22:28:37.367Z"
   },
   {
    "duration": 15,
    "start_time": "2024-01-25T22:28:37.389Z"
   },
   {
    "duration": 9,
    "start_time": "2024-01-25T22:28:37.406Z"
   },
   {
    "duration": 10,
    "start_time": "2024-01-25T22:28:37.417Z"
   },
   {
    "duration": 7,
    "start_time": "2024-01-25T22:28:37.428Z"
   },
   {
    "duration": 12,
    "start_time": "2024-01-25T22:28:37.437Z"
   },
   {
    "duration": 10,
    "start_time": "2024-01-25T22:28:37.451Z"
   },
   {
    "duration": 6,
    "start_time": "2024-01-25T22:28:37.462Z"
   },
   {
    "duration": 10,
    "start_time": "2024-01-25T22:28:37.470Z"
   },
   {
    "duration": 22,
    "start_time": "2024-01-25T22:28:37.482Z"
   },
   {
    "duration": 17,
    "start_time": "2024-01-25T22:28:37.506Z"
   },
   {
    "duration": 10,
    "start_time": "2024-01-25T22:28:37.524Z"
   },
   {
    "duration": 5,
    "start_time": "2024-01-25T22:28:37.536Z"
   },
   {
    "duration": 20,
    "start_time": "2024-01-25T22:28:37.542Z"
   },
   {
    "duration": 15,
    "start_time": "2024-01-25T22:28:37.564Z"
   },
   {
    "duration": 435,
    "start_time": "2024-01-25T22:28:37.580Z"
   },
   {
    "duration": 182,
    "start_time": "2024-01-25T22:28:38.018Z"
   },
   {
    "duration": 10,
    "start_time": "2024-01-25T22:28:38.202Z"
   },
   {
    "duration": 99,
    "start_time": "2024-01-25T22:28:38.224Z"
   },
   {
    "duration": 285,
    "start_time": "2024-01-25T22:28:38.325Z"
   },
   {
    "duration": 228,
    "start_time": "2024-01-25T22:28:38.612Z"
   },
   {
    "duration": 152,
    "start_time": "2024-01-25T22:28:38.841Z"
   },
   {
    "duration": 10,
    "start_time": "2024-01-25T22:28:38.994Z"
   },
   {
    "duration": 20,
    "start_time": "2024-01-25T22:28:39.006Z"
   },
   {
    "duration": 25,
    "start_time": "2024-01-25T22:28:39.030Z"
   },
   {
    "duration": 33,
    "start_time": "2024-01-25T22:28:39.057Z"
   },
   {
    "duration": 48,
    "start_time": "2024-01-25T22:28:39.092Z"
   },
   {
    "duration": 255,
    "start_time": "2024-01-25T22:28:39.142Z"
   },
   {
    "duration": 267,
    "start_time": "2024-01-25T22:28:39.399Z"
   },
   {
    "duration": 25,
    "start_time": "2024-01-25T22:28:39.668Z"
   },
   {
    "duration": 41,
    "start_time": "2024-01-25T22:28:39.695Z"
   },
   {
    "duration": 3,
    "start_time": "2024-01-25T22:28:39.738Z"
   },
   {
    "duration": 6,
    "start_time": "2024-01-25T22:28:39.742Z"
   },
   {
    "duration": 23,
    "start_time": "2024-01-25T22:28:39.750Z"
   },
   {
    "duration": 19,
    "start_time": "2024-01-25T22:28:39.775Z"
   },
   {
    "duration": 13,
    "start_time": "2024-01-25T22:28:39.796Z"
   },
   {
    "duration": 22,
    "start_time": "2024-01-25T22:28:39.811Z"
   },
   {
    "duration": 10,
    "start_time": "2024-01-25T22:28:39.835Z"
   },
   {
    "duration": 19,
    "start_time": "2024-01-25T22:28:39.847Z"
   },
   {
    "duration": 482,
    "start_time": "2024-01-25T22:28:39.867Z"
   },
   {
    "duration": 119,
    "start_time": "2024-01-25T22:28:40.351Z"
   },
   {
    "duration": 0,
    "start_time": "2024-01-25T22:28:40.472Z"
   },
   {
    "duration": 0,
    "start_time": "2024-01-25T22:28:40.473Z"
   },
   {
    "duration": 0,
    "start_time": "2024-01-25T22:28:40.474Z"
   },
   {
    "duration": 0,
    "start_time": "2024-01-25T22:28:40.476Z"
   },
   {
    "duration": 0,
    "start_time": "2024-01-25T22:28:40.477Z"
   },
   {
    "duration": 0,
    "start_time": "2024-01-25T22:28:40.478Z"
   },
   {
    "duration": 0,
    "start_time": "2024-01-25T22:28:40.480Z"
   },
   {
    "duration": 73,
    "start_time": "2024-01-25T22:35:42.419Z"
   },
   {
    "duration": 11,
    "start_time": "2024-01-25T22:41:52.184Z"
   },
   {
    "duration": 11,
    "start_time": "2024-01-25T22:41:56.983Z"
   },
   {
    "duration": 9,
    "start_time": "2024-01-25T22:43:18.901Z"
   },
   {
    "duration": 9,
    "start_time": "2024-01-25T22:43:22.357Z"
   },
   {
    "duration": 33,
    "start_time": "2024-01-25T23:06:13.295Z"
   },
   {
    "duration": 57,
    "start_time": "2024-01-25T23:07:04.260Z"
   },
   {
    "duration": 42,
    "start_time": "2024-01-25T23:08:52.141Z"
   },
   {
    "duration": 41,
    "start_time": "2024-01-25T23:16:31.574Z"
   },
   {
    "duration": 7,
    "start_time": "2024-01-25T23:19:25.718Z"
   },
   {
    "duration": 8,
    "start_time": "2024-01-25T23:27:07.531Z"
   },
   {
    "duration": 6,
    "start_time": "2024-01-25T23:27:26.195Z"
   },
   {
    "duration": 5,
    "start_time": "2024-01-25T23:32:36.056Z"
   },
   {
    "duration": 5,
    "start_time": "2024-01-25T23:35:35.830Z"
   },
   {
    "duration": 6,
    "start_time": "2024-01-25T23:37:04.792Z"
   },
   {
    "duration": 4,
    "start_time": "2024-01-25T23:39:31.870Z"
   },
   {
    "duration": 5,
    "start_time": "2024-01-25T23:40:00.003Z"
   },
   {
    "duration": 227,
    "start_time": "2024-01-25T23:44:20.136Z"
   },
   {
    "duration": 147,
    "start_time": "2024-01-25T23:47:40.984Z"
   },
   {
    "duration": 12,
    "start_time": "2024-01-26T00:07:54.332Z"
   },
   {
    "duration": 10,
    "start_time": "2024-01-26T00:08:01.118Z"
   },
   {
    "duration": 6,
    "start_time": "2024-01-26T00:09:08.768Z"
   },
   {
    "duration": 6,
    "start_time": "2024-01-26T00:09:13.345Z"
   },
   {
    "duration": 680,
    "start_time": "2024-01-26T00:09:19.047Z"
   },
   {
    "duration": 75,
    "start_time": "2024-01-26T00:09:19.729Z"
   },
   {
    "duration": 47,
    "start_time": "2024-01-26T00:09:19.805Z"
   },
   {
    "duration": 13,
    "start_time": "2024-01-26T00:09:19.854Z"
   },
   {
    "duration": 6,
    "start_time": "2024-01-26T00:09:19.868Z"
   },
   {
    "duration": 4,
    "start_time": "2024-01-26T00:09:19.875Z"
   },
   {
    "duration": 6,
    "start_time": "2024-01-26T00:09:19.881Z"
   },
   {
    "duration": 35,
    "start_time": "2024-01-26T00:09:19.888Z"
   },
   {
    "duration": 10,
    "start_time": "2024-01-26T00:09:19.925Z"
   },
   {
    "duration": 16,
    "start_time": "2024-01-26T00:09:19.937Z"
   },
   {
    "duration": 15,
    "start_time": "2024-01-26T00:09:19.955Z"
   },
   {
    "duration": 12,
    "start_time": "2024-01-26T00:09:19.971Z"
   },
   {
    "duration": 25,
    "start_time": "2024-01-26T00:09:19.984Z"
   },
   {
    "duration": 22,
    "start_time": "2024-01-26T00:09:20.010Z"
   },
   {
    "duration": 193,
    "start_time": "2024-01-26T00:09:20.034Z"
   },
   {
    "duration": 6,
    "start_time": "2024-01-26T00:09:20.229Z"
   },
   {
    "duration": 94,
    "start_time": "2024-01-26T00:09:20.237Z"
   },
   {
    "duration": 299,
    "start_time": "2024-01-26T00:09:20.333Z"
   },
   {
    "duration": 253,
    "start_time": "2024-01-26T00:09:20.634Z"
   },
   {
    "duration": 156,
    "start_time": "2024-01-26T00:09:20.889Z"
   },
   {
    "duration": 10,
    "start_time": "2024-01-26T00:09:21.047Z"
   },
   {
    "duration": 16,
    "start_time": "2024-01-26T00:09:21.059Z"
   },
   {
    "duration": 26,
    "start_time": "2024-01-26T00:09:21.076Z"
   },
   {
    "duration": 43,
    "start_time": "2024-01-26T00:09:21.104Z"
   },
   {
    "duration": 24,
    "start_time": "2024-01-26T00:09:21.149Z"
   },
   {
    "duration": 261,
    "start_time": "2024-01-26T00:09:21.174Z"
   },
   {
    "duration": 250,
    "start_time": "2024-01-26T00:09:21.436Z"
   },
   {
    "duration": 37,
    "start_time": "2024-01-26T00:09:21.690Z"
   },
   {
    "duration": 26,
    "start_time": "2024-01-26T00:09:21.728Z"
   },
   {
    "duration": 3,
    "start_time": "2024-01-26T00:09:21.755Z"
   },
   {
    "duration": 6,
    "start_time": "2024-01-26T00:09:21.759Z"
   },
   {
    "duration": 18,
    "start_time": "2024-01-26T00:09:21.767Z"
   },
   {
    "duration": 36,
    "start_time": "2024-01-26T00:09:21.787Z"
   },
   {
    "duration": 4,
    "start_time": "2024-01-26T00:09:21.825Z"
   },
   {
    "duration": 29,
    "start_time": "2024-01-26T00:09:21.830Z"
   },
   {
    "duration": 14,
    "start_time": "2024-01-26T00:09:21.861Z"
   },
   {
    "duration": 19,
    "start_time": "2024-01-26T00:09:21.876Z"
   },
   {
    "duration": 455,
    "start_time": "2024-01-26T00:09:21.897Z"
   },
   {
    "duration": 119,
    "start_time": "2024-01-26T00:09:22.354Z"
   },
   {
    "duration": 0,
    "start_time": "2024-01-26T00:09:22.474Z"
   },
   {
    "duration": 0,
    "start_time": "2024-01-26T00:09:22.475Z"
   },
   {
    "duration": 0,
    "start_time": "2024-01-26T00:09:22.476Z"
   },
   {
    "duration": 0,
    "start_time": "2024-01-26T00:09:22.477Z"
   },
   {
    "duration": 0,
    "start_time": "2024-01-26T00:09:22.479Z"
   },
   {
    "duration": 0,
    "start_time": "2024-01-26T00:09:22.480Z"
   },
   {
    "duration": 0,
    "start_time": "2024-01-26T00:09:22.481Z"
   },
   {
    "duration": 11,
    "start_time": "2024-01-26T00:09:50.993Z"
   },
   {
    "duration": 12,
    "start_time": "2024-01-26T00:11:24.989Z"
   },
   {
    "duration": 155,
    "start_time": "2024-01-26T00:13:49.586Z"
   },
   {
    "duration": 88,
    "start_time": "2024-01-26T00:16:54.725Z"
   },
   {
    "duration": 86,
    "start_time": "2024-01-26T00:17:10.756Z"
   },
   {
    "duration": 92,
    "start_time": "2024-01-26T00:20:31.403Z"
   },
   {
    "duration": 197,
    "start_time": "2024-01-26T00:25:20.210Z"
   },
   {
    "duration": 10,
    "start_time": "2024-01-26T00:27:25.325Z"
   },
   {
    "duration": 195,
    "start_time": "2024-01-26T00:27:45.680Z"
   },
   {
    "duration": 1478,
    "start_time": "2024-01-26T00:34:05.513Z"
   },
   {
    "duration": 1427,
    "start_time": "2024-01-26T00:35:30.231Z"
   },
   {
    "duration": 1259,
    "start_time": "2024-01-26T00:35:51.884Z"
   },
   {
    "duration": 4,
    "start_time": "2024-01-26T00:36:53.982Z"
   },
   {
    "duration": 5,
    "start_time": "2024-01-26T00:38:11.747Z"
   },
   {
    "duration": 5,
    "start_time": "2024-01-26T00:42:06.309Z"
   },
   {
    "duration": 5,
    "start_time": "2024-01-26T00:42:12.162Z"
   },
   {
    "duration": 5,
    "start_time": "2024-01-26T00:42:48.563Z"
   },
   {
    "duration": 161,
    "start_time": "2024-01-26T00:43:06.065Z"
   },
   {
    "duration": 667,
    "start_time": "2024-01-26T00:43:12.387Z"
   },
   {
    "duration": 74,
    "start_time": "2024-01-26T00:43:13.057Z"
   },
   {
    "duration": 46,
    "start_time": "2024-01-26T00:43:13.133Z"
   },
   {
    "duration": 13,
    "start_time": "2024-01-26T00:43:13.181Z"
   },
   {
    "duration": 28,
    "start_time": "2024-01-26T00:43:13.195Z"
   },
   {
    "duration": 5,
    "start_time": "2024-01-26T00:43:13.225Z"
   },
   {
    "duration": 9,
    "start_time": "2024-01-26T00:43:13.231Z"
   },
   {
    "duration": 6,
    "start_time": "2024-01-26T00:43:13.241Z"
   },
   {
    "duration": 10,
    "start_time": "2024-01-26T00:43:13.248Z"
   },
   {
    "duration": 7,
    "start_time": "2024-01-26T00:43:13.261Z"
   },
   {
    "duration": 9,
    "start_time": "2024-01-26T00:43:13.270Z"
   },
   {
    "duration": 7,
    "start_time": "2024-01-26T00:43:13.281Z"
   },
   {
    "duration": 35,
    "start_time": "2024-01-26T00:43:13.289Z"
   },
   {
    "duration": 6,
    "start_time": "2024-01-26T00:43:13.326Z"
   },
   {
    "duration": 194,
    "start_time": "2024-01-26T00:43:13.334Z"
   },
   {
    "duration": 11,
    "start_time": "2024-01-26T00:43:13.529Z"
   },
   {
    "duration": 99,
    "start_time": "2024-01-26T00:43:13.541Z"
   },
   {
    "duration": 197,
    "start_time": "2024-01-26T00:43:13.642Z"
   },
   {
    "duration": 5,
    "start_time": "2024-01-26T00:43:13.840Z"
   },
   {
    "duration": 223,
    "start_time": "2024-01-26T00:43:13.847Z"
   },
   {
    "duration": 153,
    "start_time": "2024-01-26T00:43:14.072Z"
   },
   {
    "duration": 10,
    "start_time": "2024-01-26T00:43:14.226Z"
   },
   {
    "duration": 10,
    "start_time": "2024-01-26T00:43:14.238Z"
   },
   {
    "duration": 23,
    "start_time": "2024-01-26T00:43:14.249Z"
   },
   {
    "duration": 52,
    "start_time": "2024-01-26T00:43:14.273Z"
   },
   {
    "duration": 25,
    "start_time": "2024-01-26T00:43:14.327Z"
   },
   {
    "duration": 261,
    "start_time": "2024-01-26T00:43:14.353Z"
   },
   {
    "duration": 280,
    "start_time": "2024-01-26T00:43:14.623Z"
   },
   {
    "duration": 32,
    "start_time": "2024-01-26T00:43:14.905Z"
   },
   {
    "duration": 25,
    "start_time": "2024-01-26T00:43:14.938Z"
   },
   {
    "duration": 2,
    "start_time": "2024-01-26T00:43:14.965Z"
   },
   {
    "duration": 11,
    "start_time": "2024-01-26T00:43:14.968Z"
   },
   {
    "duration": 17,
    "start_time": "2024-01-26T00:43:14.981Z"
   },
   {
    "duration": 52,
    "start_time": "2024-01-26T00:43:14.999Z"
   },
   {
    "duration": 41,
    "start_time": "2024-01-26T00:43:15.053Z"
   },
   {
    "duration": 35,
    "start_time": "2024-01-26T00:43:15.095Z"
   },
   {
    "duration": 52,
    "start_time": "2024-01-26T00:43:15.132Z"
   },
   {
    "duration": 78,
    "start_time": "2024-01-26T00:43:15.186Z"
   },
   {
    "duration": 471,
    "start_time": "2024-01-26T00:43:15.265Z"
   },
   {
    "duration": 123,
    "start_time": "2024-01-26T00:43:15.737Z"
   },
   {
    "duration": 0,
    "start_time": "2024-01-26T00:43:15.862Z"
   },
   {
    "duration": 0,
    "start_time": "2024-01-26T00:43:15.863Z"
   },
   {
    "duration": 0,
    "start_time": "2024-01-26T00:43:15.864Z"
   },
   {
    "duration": 0,
    "start_time": "2024-01-26T00:43:15.865Z"
   },
   {
    "duration": 0,
    "start_time": "2024-01-26T00:43:15.867Z"
   },
   {
    "duration": 0,
    "start_time": "2024-01-26T00:43:15.868Z"
   },
   {
    "duration": 0,
    "start_time": "2024-01-26T00:43:15.869Z"
   },
   {
    "duration": 205,
    "start_time": "2024-01-26T00:48:45.966Z"
   },
   {
    "duration": 136,
    "start_time": "2024-01-26T00:51:01.781Z"
   },
   {
    "duration": 728,
    "start_time": "2024-01-26T00:56:15.600Z"
   },
   {
    "duration": 75,
    "start_time": "2024-01-26T00:56:16.330Z"
   },
   {
    "duration": 62,
    "start_time": "2024-01-26T00:56:16.406Z"
   },
   {
    "duration": 12,
    "start_time": "2024-01-26T00:56:16.470Z"
   },
   {
    "duration": 7,
    "start_time": "2024-01-26T00:56:16.483Z"
   },
   {
    "duration": 5,
    "start_time": "2024-01-26T00:56:16.491Z"
   },
   {
    "duration": 28,
    "start_time": "2024-01-26T00:56:16.497Z"
   },
   {
    "duration": 12,
    "start_time": "2024-01-26T00:56:16.527Z"
   },
   {
    "duration": 5,
    "start_time": "2024-01-26T00:56:16.541Z"
   },
   {
    "duration": 5,
    "start_time": "2024-01-26T00:56:16.548Z"
   },
   {
    "duration": 11,
    "start_time": "2024-01-26T00:56:16.555Z"
   },
   {
    "duration": 4,
    "start_time": "2024-01-26T00:56:16.568Z"
   },
   {
    "duration": 51,
    "start_time": "2024-01-26T00:56:16.574Z"
   },
   {
    "duration": 34,
    "start_time": "2024-01-26T00:56:16.626Z"
   },
   {
    "duration": 165,
    "start_time": "2024-01-26T00:56:16.662Z"
   },
   {
    "duration": 10,
    "start_time": "2024-01-26T00:56:16.829Z"
   },
   {
    "duration": 89,
    "start_time": "2024-01-26T00:56:16.841Z"
   },
   {
    "duration": 208,
    "start_time": "2024-01-26T00:56:16.932Z"
   },
   {
    "duration": 5,
    "start_time": "2024-01-26T00:56:17.142Z"
   },
   {
    "duration": 475,
    "start_time": "2024-01-26T00:56:17.148Z"
   },
   {
    "duration": 184,
    "start_time": "2024-01-26T00:56:17.625Z"
   },
   {
    "duration": 158,
    "start_time": "2024-01-26T00:56:17.810Z"
   },
   {
    "duration": 318,
    "start_time": "2024-01-26T00:56:17.970Z"
   },
   {
    "duration": 11,
    "start_time": "2024-01-26T00:56:18.289Z"
   },
   {
    "duration": 23,
    "start_time": "2024-01-26T00:56:18.301Z"
   },
   {
    "duration": 30,
    "start_time": "2024-01-26T00:56:18.326Z"
   },
   {
    "duration": 27,
    "start_time": "2024-01-26T00:56:18.358Z"
   },
   {
    "duration": 44,
    "start_time": "2024-01-26T00:56:18.388Z"
   },
   {
    "duration": 274,
    "start_time": "2024-01-26T00:56:18.434Z"
   },
   {
    "duration": 259,
    "start_time": "2024-01-26T00:56:18.709Z"
   },
   {
    "duration": 23,
    "start_time": "2024-01-26T00:56:18.969Z"
   },
   {
    "duration": 33,
    "start_time": "2024-01-26T00:56:18.993Z"
   },
   {
    "duration": 29,
    "start_time": "2024-01-26T00:56:19.027Z"
   },
   {
    "duration": 30,
    "start_time": "2024-01-26T00:56:19.058Z"
   },
   {
    "duration": 32,
    "start_time": "2024-01-26T00:56:19.090Z"
   },
   {
    "duration": 34,
    "start_time": "2024-01-26T00:56:19.123Z"
   },
   {
    "duration": 20,
    "start_time": "2024-01-26T00:56:19.158Z"
   },
   {
    "duration": 22,
    "start_time": "2024-01-26T00:56:19.180Z"
   },
   {
    "duration": 26,
    "start_time": "2024-01-26T00:56:19.204Z"
   },
   {
    "duration": 16,
    "start_time": "2024-01-26T00:56:19.232Z"
   },
   {
    "duration": 481,
    "start_time": "2024-01-26T00:56:19.249Z"
   },
   {
    "duration": 116,
    "start_time": "2024-01-26T00:56:19.732Z"
   },
   {
    "duration": 0,
    "start_time": "2024-01-26T00:56:19.850Z"
   },
   {
    "duration": 0,
    "start_time": "2024-01-26T00:56:19.851Z"
   },
   {
    "duration": 0,
    "start_time": "2024-01-26T00:56:19.852Z"
   },
   {
    "duration": 0,
    "start_time": "2024-01-26T00:56:19.853Z"
   },
   {
    "duration": 0,
    "start_time": "2024-01-26T00:56:19.854Z"
   },
   {
    "duration": 0,
    "start_time": "2024-01-26T00:56:19.855Z"
   },
   {
    "duration": 0,
    "start_time": "2024-01-26T00:56:19.856Z"
   },
   {
    "duration": 317,
    "start_time": "2024-01-26T01:04:48.351Z"
   },
   {
    "duration": 324,
    "start_time": "2024-01-26T01:07:03.073Z"
   },
   {
    "duration": 329,
    "start_time": "2024-01-26T01:12:40.674Z"
   },
   {
    "duration": 11,
    "start_time": "2024-01-26T01:13:29.391Z"
   },
   {
    "duration": 683,
    "start_time": "2024-01-26T01:13:38.244Z"
   },
   {
    "duration": 74,
    "start_time": "2024-01-26T01:13:38.928Z"
   },
   {
    "duration": 49,
    "start_time": "2024-01-26T01:13:39.004Z"
   },
   {
    "duration": 13,
    "start_time": "2024-01-26T01:13:39.055Z"
   },
   {
    "duration": 11,
    "start_time": "2024-01-26T01:13:39.070Z"
   },
   {
    "duration": 5,
    "start_time": "2024-01-26T01:13:39.083Z"
   },
   {
    "duration": 5,
    "start_time": "2024-01-26T01:13:39.090Z"
   },
   {
    "duration": 8,
    "start_time": "2024-01-26T01:13:39.125Z"
   },
   {
    "duration": 21,
    "start_time": "2024-01-26T01:13:39.135Z"
   },
   {
    "duration": 9,
    "start_time": "2024-01-26T01:13:39.159Z"
   },
   {
    "duration": 18,
    "start_time": "2024-01-26T01:13:39.170Z"
   },
   {
    "duration": 4,
    "start_time": "2024-01-26T01:13:39.190Z"
   },
   {
    "duration": 8,
    "start_time": "2024-01-26T01:13:39.197Z"
   },
   {
    "duration": 29,
    "start_time": "2024-01-26T01:13:39.207Z"
   },
   {
    "duration": 179,
    "start_time": "2024-01-26T01:13:39.238Z"
   },
   {
    "duration": 12,
    "start_time": "2024-01-26T01:13:39.419Z"
   },
   {
    "duration": 107,
    "start_time": "2024-01-26T01:13:39.433Z"
   },
   {
    "duration": 198,
    "start_time": "2024-01-26T01:13:39.542Z"
   },
   {
    "duration": 5,
    "start_time": "2024-01-26T01:13:39.742Z"
   },
   {
    "duration": 221,
    "start_time": "2024-01-26T01:13:39.749Z"
   },
   {
    "duration": 325,
    "start_time": "2024-01-26T01:13:39.971Z"
   },
   {
    "duration": 166,
    "start_time": "2024-01-26T01:13:40.298Z"
   },
   {
    "duration": 371,
    "start_time": "2024-01-26T01:13:40.466Z"
   },
   {
    "duration": 10,
    "start_time": "2024-01-26T01:13:40.839Z"
   },
   {
    "duration": 20,
    "start_time": "2024-01-26T01:13:40.851Z"
   },
   {
    "duration": 26,
    "start_time": "2024-01-26T01:13:40.872Z"
   },
   {
    "duration": 42,
    "start_time": "2024-01-26T01:13:40.900Z"
   },
   {
    "duration": 25,
    "start_time": "2024-01-26T01:13:40.946Z"
   },
   {
    "duration": 263,
    "start_time": "2024-01-26T01:13:40.973Z"
   },
   {
    "duration": 255,
    "start_time": "2024-01-26T01:13:41.238Z"
   },
   {
    "duration": 37,
    "start_time": "2024-01-26T01:13:41.495Z"
   },
   {
    "duration": 24,
    "start_time": "2024-01-26T01:13:41.534Z"
   },
   {
    "duration": 2,
    "start_time": "2024-01-26T01:13:41.560Z"
   },
   {
    "duration": 13,
    "start_time": "2024-01-26T01:13:41.564Z"
   },
   {
    "duration": 20,
    "start_time": "2024-01-26T01:13:41.579Z"
   },
   {
    "duration": 29,
    "start_time": "2024-01-26T01:13:41.601Z"
   },
   {
    "duration": 5,
    "start_time": "2024-01-26T01:13:41.631Z"
   },
   {
    "duration": 17,
    "start_time": "2024-01-26T01:13:41.637Z"
   },
   {
    "duration": 14,
    "start_time": "2024-01-26T01:13:41.656Z"
   },
   {
    "duration": 7,
    "start_time": "2024-01-26T01:13:41.672Z"
   },
   {
    "duration": 526,
    "start_time": "2024-01-26T01:13:41.690Z"
   },
   {
    "duration": 129,
    "start_time": "2024-01-26T01:13:42.217Z"
   },
   {
    "duration": 0,
    "start_time": "2024-01-26T01:13:42.348Z"
   },
   {
    "duration": 0,
    "start_time": "2024-01-26T01:13:42.350Z"
   },
   {
    "duration": 0,
    "start_time": "2024-01-26T01:13:42.351Z"
   },
   {
    "duration": 0,
    "start_time": "2024-01-26T01:13:42.353Z"
   },
   {
    "duration": 0,
    "start_time": "2024-01-26T01:13:42.354Z"
   },
   {
    "duration": 0,
    "start_time": "2024-01-26T01:13:42.356Z"
   },
   {
    "duration": 0,
    "start_time": "2024-01-26T01:13:42.358Z"
   },
   {
    "duration": 12,
    "start_time": "2024-01-26T01:21:01.545Z"
   },
   {
    "duration": 9,
    "start_time": "2024-01-26T01:26:10.145Z"
   },
   {
    "duration": 11,
    "start_time": "2024-01-26T01:33:42.501Z"
   },
   {
    "duration": 9,
    "start_time": "2024-01-26T01:39:32.327Z"
   },
   {
    "duration": 14,
    "start_time": "2024-01-26T01:44:16.468Z"
   },
   {
    "duration": 11,
    "start_time": "2024-01-26T01:49:39.456Z"
   },
   {
    "duration": 11,
    "start_time": "2024-01-26T01:51:44.114Z"
   },
   {
    "duration": 28,
    "start_time": "2024-01-26T01:55:49.151Z"
   },
   {
    "duration": 29,
    "start_time": "2024-01-26T02:05:03.673Z"
   },
   {
    "duration": 25,
    "start_time": "2024-01-26T02:05:20.904Z"
   },
   {
    "duration": 30,
    "start_time": "2024-01-26T02:08:45.430Z"
   },
   {
    "duration": 25,
    "start_time": "2024-01-26T02:08:49.016Z"
   },
   {
    "duration": 24,
    "start_time": "2024-01-26T02:08:57.807Z"
   },
   {
    "duration": 4,
    "start_time": "2024-01-26T02:22:16.657Z"
   },
   {
    "duration": 25,
    "start_time": "2024-01-26T02:22:19.745Z"
   },
   {
    "duration": 4,
    "start_time": "2024-01-26T02:22:59.638Z"
   },
   {
    "duration": 662,
    "start_time": "2024-01-26T02:23:05.463Z"
   },
   {
    "duration": 74,
    "start_time": "2024-01-26T02:23:06.127Z"
   },
   {
    "duration": 50,
    "start_time": "2024-01-26T02:23:06.202Z"
   },
   {
    "duration": 13,
    "start_time": "2024-01-26T02:23:06.255Z"
   },
   {
    "duration": 6,
    "start_time": "2024-01-26T02:23:06.270Z"
   },
   {
    "duration": 5,
    "start_time": "2024-01-26T02:23:06.277Z"
   },
   {
    "duration": 6,
    "start_time": "2024-01-26T02:23:06.284Z"
   },
   {
    "duration": 36,
    "start_time": "2024-01-26T02:23:06.292Z"
   },
   {
    "duration": 24,
    "start_time": "2024-01-26T02:23:06.330Z"
   },
   {
    "duration": 10,
    "start_time": "2024-01-26T02:23:06.357Z"
   },
   {
    "duration": 9,
    "start_time": "2024-01-26T02:23:06.369Z"
   },
   {
    "duration": 4,
    "start_time": "2024-01-26T02:23:06.380Z"
   },
   {
    "duration": 19,
    "start_time": "2024-01-26T02:23:06.386Z"
   },
   {
    "duration": 16,
    "start_time": "2024-01-26T02:23:06.406Z"
   },
   {
    "duration": 174,
    "start_time": "2024-01-26T02:23:06.424Z"
   },
   {
    "duration": 11,
    "start_time": "2024-01-26T02:23:06.601Z"
   },
   {
    "duration": 102,
    "start_time": "2024-01-26T02:23:06.624Z"
   },
   {
    "duration": 198,
    "start_time": "2024-01-26T02:23:06.728Z"
   },
   {
    "duration": 5,
    "start_time": "2024-01-26T02:23:06.928Z"
   },
   {
    "duration": 229,
    "start_time": "2024-01-26T02:23:06.935Z"
   },
   {
    "duration": 352,
    "start_time": "2024-01-26T02:23:07.166Z"
   },
   {
    "duration": 158,
    "start_time": "2024-01-26T02:23:07.524Z"
   },
   {
    "duration": 341,
    "start_time": "2024-01-26T02:23:07.683Z"
   },
   {
    "duration": 10,
    "start_time": "2024-01-26T02:23:08.026Z"
   },
   {
    "duration": 17,
    "start_time": "2024-01-26T02:23:08.037Z"
   },
   {
    "duration": 48,
    "start_time": "2024-01-26T02:23:08.055Z"
   },
   {
    "duration": 10,
    "start_time": "2024-01-26T02:23:08.105Z"
   },
   {
    "duration": 31,
    "start_time": "2024-01-26T02:23:08.122Z"
   },
   {
    "duration": 26,
    "start_time": "2024-01-26T02:23:08.155Z"
   },
   {
    "duration": 11,
    "start_time": "2024-01-26T02:23:08.182Z"
   },
   {
    "duration": 284,
    "start_time": "2024-01-26T02:23:08.195Z"
   },
   {
    "duration": 11,
    "start_time": "2024-01-26T02:23:08.482Z"
   },
   {
    "duration": 268,
    "start_time": "2024-01-26T02:23:08.495Z"
   },
   {
    "duration": 11,
    "start_time": "2024-01-26T02:23:08.765Z"
   },
   {
    "duration": 11,
    "start_time": "2024-01-26T02:23:08.778Z"
   },
   {
    "duration": 41,
    "start_time": "2024-01-26T02:23:08.791Z"
   },
   {
    "duration": 26,
    "start_time": "2024-01-26T02:23:08.834Z"
   },
   {
    "duration": 2,
    "start_time": "2024-01-26T02:23:08.862Z"
   },
   {
    "duration": 11,
    "start_time": "2024-01-26T02:23:08.866Z"
   },
   {
    "duration": 24,
    "start_time": "2024-01-26T02:23:08.879Z"
   },
   {
    "duration": 29,
    "start_time": "2024-01-26T02:23:08.905Z"
   },
   {
    "duration": 4,
    "start_time": "2024-01-26T02:23:08.936Z"
   },
   {
    "duration": 21,
    "start_time": "2024-01-26T02:23:08.941Z"
   },
   {
    "duration": 25,
    "start_time": "2024-01-26T02:23:08.963Z"
   },
   {
    "duration": 5,
    "start_time": "2024-01-26T02:23:08.989Z"
   },
   {
    "duration": 540,
    "start_time": "2024-01-26T02:23:08.996Z"
   },
   {
    "duration": 125,
    "start_time": "2024-01-26T02:23:09.538Z"
   },
   {
    "duration": 0,
    "start_time": "2024-01-26T02:23:09.665Z"
   },
   {
    "duration": 0,
    "start_time": "2024-01-26T02:23:09.667Z"
   },
   {
    "duration": 0,
    "start_time": "2024-01-26T02:23:09.668Z"
   },
   {
    "duration": 0,
    "start_time": "2024-01-26T02:23:09.670Z"
   },
   {
    "duration": 0,
    "start_time": "2024-01-26T02:23:09.671Z"
   },
   {
    "duration": 0,
    "start_time": "2024-01-26T02:23:09.672Z"
   },
   {
    "duration": 0,
    "start_time": "2024-01-26T02:23:09.674Z"
   },
   {
    "duration": 39,
    "start_time": "2024-01-26T02:24:59.380Z"
   },
   {
    "duration": 7,
    "start_time": "2024-01-26T02:26:00.805Z"
   },
   {
    "duration": 17,
    "start_time": "2024-01-26T02:27:27.863Z"
   },
   {
    "duration": 23,
    "start_time": "2024-01-26T02:28:38.081Z"
   },
   {
    "duration": 38,
    "start_time": "2024-01-26T02:29:44.569Z"
   },
   {
    "duration": 26,
    "start_time": "2024-01-26T02:30:24.880Z"
   },
   {
    "duration": 12,
    "start_time": "2024-01-26T02:32:53.020Z"
   },
   {
    "duration": 1235,
    "start_time": "2024-01-26T02:34:25.387Z"
   },
   {
    "duration": 4,
    "start_time": "2024-01-26T02:35:31.850Z"
   },
   {
    "duration": 77,
    "start_time": "2024-01-26T02:37:43.912Z"
   },
   {
    "duration": 4,
    "start_time": "2024-01-26T02:38:12.168Z"
   },
   {
    "duration": 3,
    "start_time": "2024-01-26T02:38:21.597Z"
   },
   {
    "duration": 1474,
    "start_time": "2024-01-26T02:38:27.981Z"
   },
   {
    "duration": 3,
    "start_time": "2024-01-26T02:39:04.994Z"
   },
   {
    "duration": 1653,
    "start_time": "2024-01-26T02:39:16.574Z"
   },
   {
    "duration": 697,
    "start_time": "2024-01-26T02:40:18.630Z"
   },
   {
    "duration": 74,
    "start_time": "2024-01-26T02:40:19.329Z"
   },
   {
    "duration": 48,
    "start_time": "2024-01-26T02:40:19.404Z"
   },
   {
    "duration": 12,
    "start_time": "2024-01-26T02:40:19.454Z"
   },
   {
    "duration": 8,
    "start_time": "2024-01-26T02:40:19.468Z"
   },
   {
    "duration": 9,
    "start_time": "2024-01-26T02:40:19.478Z"
   },
   {
    "duration": 13,
    "start_time": "2024-01-26T02:40:19.489Z"
   },
   {
    "duration": 28,
    "start_time": "2024-01-26T02:40:19.504Z"
   },
   {
    "duration": 6,
    "start_time": "2024-01-26T02:40:19.535Z"
   },
   {
    "duration": 16,
    "start_time": "2024-01-26T02:40:19.545Z"
   },
   {
    "duration": 24,
    "start_time": "2024-01-26T02:40:19.563Z"
   },
   {
    "duration": 6,
    "start_time": "2024-01-26T02:40:19.589Z"
   },
   {
    "duration": 6,
    "start_time": "2024-01-26T02:40:19.597Z"
   },
   {
    "duration": 21,
    "start_time": "2024-01-26T02:40:19.605Z"
   },
   {
    "duration": 172,
    "start_time": "2024-01-26T02:40:19.628Z"
   },
   {
    "duration": 10,
    "start_time": "2024-01-26T02:40:19.802Z"
   },
   {
    "duration": 88,
    "start_time": "2024-01-26T02:40:19.823Z"
   },
   {
    "duration": 196,
    "start_time": "2024-01-26T02:40:19.912Z"
   },
   {
    "duration": 5,
    "start_time": "2024-01-26T02:40:20.110Z"
   },
   {
    "duration": 224,
    "start_time": "2024-01-26T02:40:20.116Z"
   },
   {
    "duration": 358,
    "start_time": "2024-01-26T02:40:20.342Z"
   },
   {
    "duration": 336,
    "start_time": "2024-01-26T02:40:20.701Z"
   },
   {
    "duration": 153,
    "start_time": "2024-01-26T02:40:21.039Z"
   },
   {
    "duration": 335,
    "start_time": "2024-01-26T02:40:21.194Z"
   },
   {
    "duration": 10,
    "start_time": "2024-01-26T02:40:21.531Z"
   },
   {
    "duration": 10,
    "start_time": "2024-01-26T02:40:21.543Z"
   },
   {
    "duration": 26,
    "start_time": "2024-01-26T02:40:21.555Z"
   },
   {
    "duration": 41,
    "start_time": "2024-01-26T02:40:21.585Z"
   },
   {
    "duration": 27,
    "start_time": "2024-01-26T02:40:21.628Z"
   },
   {
    "duration": 26,
    "start_time": "2024-01-26T02:40:21.657Z"
   },
   {
    "duration": 12,
    "start_time": "2024-01-26T02:40:21.684Z"
   },
   {
    "duration": 261,
    "start_time": "2024-01-26T02:40:21.723Z"
   },
   {
    "duration": 11,
    "start_time": "2024-01-26T02:40:21.986Z"
   },
   {
    "duration": 270,
    "start_time": "2024-01-26T02:40:21.999Z"
   },
   {
    "duration": 11,
    "start_time": "2024-01-26T02:40:22.271Z"
   },
   {
    "duration": 4,
    "start_time": "2024-01-26T02:40:22.284Z"
   },
   {
    "duration": 53,
    "start_time": "2024-01-26T02:40:22.289Z"
   },
   {
    "duration": 24,
    "start_time": "2024-01-26T02:40:22.344Z"
   },
   {
    "duration": 128,
    "start_time": "2024-01-26T02:40:22.370Z"
   },
   {
    "duration": 6,
    "start_time": "2024-01-26T02:40:22.500Z"
   },
   {
    "duration": 26,
    "start_time": "2024-01-26T02:40:22.508Z"
   },
   {
    "duration": 29,
    "start_time": "2024-01-26T02:40:22.535Z"
   },
   {
    "duration": 30,
    "start_time": "2024-01-26T02:40:22.566Z"
   },
   {
    "duration": 4,
    "start_time": "2024-01-26T02:40:22.598Z"
   },
   {
    "duration": 22,
    "start_time": "2024-01-26T02:40:22.604Z"
   },
   {
    "duration": 11,
    "start_time": "2024-01-26T02:40:22.628Z"
   },
   {
    "duration": 12,
    "start_time": "2024-01-26T02:40:22.641Z"
   },
   {
    "duration": 7,
    "start_time": "2024-01-26T02:40:22.654Z"
   },
   {
    "duration": 472,
    "start_time": "2024-01-26T02:40:22.663Z"
   },
   {
    "duration": 125,
    "start_time": "2024-01-26T02:40:23.137Z"
   },
   {
    "duration": 0,
    "start_time": "2024-01-26T02:40:23.264Z"
   },
   {
    "duration": 0,
    "start_time": "2024-01-26T02:40:23.265Z"
   },
   {
    "duration": 0,
    "start_time": "2024-01-26T02:40:23.266Z"
   },
   {
    "duration": 0,
    "start_time": "2024-01-26T02:40:23.267Z"
   },
   {
    "duration": 0,
    "start_time": "2024-01-26T02:40:23.268Z"
   },
   {
    "duration": 0,
    "start_time": "2024-01-26T02:40:23.270Z"
   },
   {
    "duration": 0,
    "start_time": "2024-01-26T02:40:23.271Z"
   },
   {
    "duration": 3,
    "start_time": "2024-01-26T02:41:20.885Z"
   },
   {
    "duration": 1423,
    "start_time": "2024-01-26T02:43:10.944Z"
   },
   {
    "duration": 71,
    "start_time": "2024-01-26T02:43:12.369Z"
   },
   {
    "duration": 43,
    "start_time": "2024-01-26T02:43:12.442Z"
   },
   {
    "duration": 13,
    "start_time": "2024-01-26T02:43:12.487Z"
   },
   {
    "duration": 27,
    "start_time": "2024-01-26T02:43:12.501Z"
   },
   {
    "duration": 8,
    "start_time": "2024-01-26T02:43:12.529Z"
   },
   {
    "duration": 9,
    "start_time": "2024-01-26T02:43:12.539Z"
   },
   {
    "duration": 7,
    "start_time": "2024-01-26T02:43:12.550Z"
   },
   {
    "duration": 4,
    "start_time": "2024-01-26T02:43:12.559Z"
   },
   {
    "duration": 5,
    "start_time": "2024-01-26T02:43:12.566Z"
   },
   {
    "duration": 7,
    "start_time": "2024-01-26T02:43:12.572Z"
   },
   {
    "duration": 6,
    "start_time": "2024-01-26T02:43:12.581Z"
   },
   {
    "duration": 8,
    "start_time": "2024-01-26T02:43:12.589Z"
   },
   {
    "duration": 6,
    "start_time": "2024-01-26T02:43:12.623Z"
   },
   {
    "duration": 177,
    "start_time": "2024-01-26T02:43:12.630Z"
   },
   {
    "duration": 18,
    "start_time": "2024-01-26T02:43:12.808Z"
   },
   {
    "duration": 82,
    "start_time": "2024-01-26T02:43:12.827Z"
   },
   {
    "duration": 198,
    "start_time": "2024-01-26T02:43:12.911Z"
   },
   {
    "duration": 12,
    "start_time": "2024-01-26T02:43:13.111Z"
   },
   {
    "duration": 168,
    "start_time": "2024-01-26T02:43:13.125Z"
   },
   {
    "duration": 352,
    "start_time": "2024-01-26T02:43:13.295Z"
   },
   {
    "duration": 412,
    "start_time": "2024-01-26T02:43:13.649Z"
   },
   {
    "duration": 154,
    "start_time": "2024-01-26T02:43:14.062Z"
   },
   {
    "duration": 340,
    "start_time": "2024-01-26T02:43:14.223Z"
   },
   {
    "duration": 10,
    "start_time": "2024-01-26T02:43:14.565Z"
   },
   {
    "duration": 20,
    "start_time": "2024-01-26T02:43:14.577Z"
   },
   {
    "duration": 40,
    "start_time": "2024-01-26T02:43:14.599Z"
   },
   {
    "duration": 15,
    "start_time": "2024-01-26T02:43:14.645Z"
   },
   {
    "duration": 38,
    "start_time": "2024-01-26T02:43:14.662Z"
   },
   {
    "duration": 45,
    "start_time": "2024-01-26T02:43:14.701Z"
   },
   {
    "duration": 11,
    "start_time": "2024-01-26T02:43:14.748Z"
   },
   {
    "duration": 284,
    "start_time": "2024-01-26T02:43:14.761Z"
   },
   {
    "duration": 11,
    "start_time": "2024-01-26T02:43:15.047Z"
   },
   {
    "duration": 308,
    "start_time": "2024-01-26T02:43:15.060Z"
   },
   {
    "duration": 11,
    "start_time": "2024-01-26T02:43:15.370Z"
   },
   {
    "duration": 47,
    "start_time": "2024-01-26T02:43:15.383Z"
   },
   {
    "duration": 76,
    "start_time": "2024-01-26T02:43:15.432Z"
   },
   {
    "duration": 42,
    "start_time": "2024-01-26T02:43:15.510Z"
   },
   {
    "duration": 40,
    "start_time": "2024-01-26T02:43:15.553Z"
   },
   {
    "duration": 6,
    "start_time": "2024-01-26T02:43:15.595Z"
   },
   {
    "duration": 10,
    "start_time": "2024-01-26T02:43:15.603Z"
   },
   {
    "duration": 25,
    "start_time": "2024-01-26T02:43:15.614Z"
   },
   {
    "duration": 17,
    "start_time": "2024-01-26T02:43:15.640Z"
   },
   {
    "duration": 49,
    "start_time": "2024-01-26T02:43:15.659Z"
   },
   {
    "duration": 62,
    "start_time": "2024-01-26T02:43:15.710Z"
   },
   {
    "duration": 21,
    "start_time": "2024-01-26T02:43:15.774Z"
   },
   {
    "duration": 8,
    "start_time": "2024-01-26T02:43:15.796Z"
   },
   {
    "duration": 13,
    "start_time": "2024-01-26T02:43:15.805Z"
   },
   {
    "duration": 637,
    "start_time": "2024-01-26T02:43:15.820Z"
   },
   {
    "duration": 3,
    "start_time": "2024-01-26T02:43:16.458Z"
   },
   {
    "duration": 15,
    "start_time": "2024-01-26T02:43:16.462Z"
   },
   {
    "duration": 339,
    "start_time": "2024-01-26T02:43:16.478Z"
   },
   {
    "duration": 8,
    "start_time": "2024-01-26T02:43:16.818Z"
   },
   {
    "duration": 697,
    "start_time": "2024-01-26T02:43:16.827Z"
   },
   {
    "duration": 0,
    "start_time": "2024-01-26T02:43:17.525Z"
   },
   {
    "duration": 0,
    "start_time": "2024-01-26T02:43:17.527Z"
   },
   {
    "duration": 87,
    "start_time": "2024-01-26T02:43:58.101Z"
   },
   {
    "duration": 1187,
    "start_time": "2024-01-26T02:44:03.172Z"
   },
   {
    "duration": 72,
    "start_time": "2024-01-26T02:44:04.361Z"
   },
   {
    "duration": 46,
    "start_time": "2024-01-26T02:44:04.435Z"
   },
   {
    "duration": 12,
    "start_time": "2024-01-26T02:44:04.483Z"
   },
   {
    "duration": 8,
    "start_time": "2024-01-26T02:44:04.497Z"
   },
   {
    "duration": 19,
    "start_time": "2024-01-26T02:44:04.506Z"
   },
   {
    "duration": 15,
    "start_time": "2024-01-26T02:44:04.527Z"
   },
   {
    "duration": 10,
    "start_time": "2024-01-26T02:44:04.543Z"
   },
   {
    "duration": 34,
    "start_time": "2024-01-26T02:44:04.554Z"
   },
   {
    "duration": 6,
    "start_time": "2024-01-26T02:44:04.591Z"
   },
   {
    "duration": 28,
    "start_time": "2024-01-26T02:44:04.599Z"
   },
   {
    "duration": 5,
    "start_time": "2024-01-26T02:44:04.628Z"
   },
   {
    "duration": 14,
    "start_time": "2024-01-26T02:44:04.634Z"
   },
   {
    "duration": 10,
    "start_time": "2024-01-26T02:44:04.650Z"
   },
   {
    "duration": 202,
    "start_time": "2024-01-26T02:44:04.662Z"
   },
   {
    "duration": 20,
    "start_time": "2024-01-26T02:44:04.866Z"
   },
   {
    "duration": 106,
    "start_time": "2024-01-26T02:44:04.888Z"
   },
   {
    "duration": 200,
    "start_time": "2024-01-26T02:44:04.996Z"
   },
   {
    "duration": 5,
    "start_time": "2024-01-26T02:44:05.198Z"
   },
   {
    "duration": 182,
    "start_time": "2024-01-26T02:44:05.205Z"
   },
   {
    "duration": 356,
    "start_time": "2024-01-26T02:44:05.388Z"
   },
   {
    "duration": 407,
    "start_time": "2024-01-26T02:44:05.746Z"
   },
   {
    "duration": 165,
    "start_time": "2024-01-26T02:44:06.155Z"
   },
   {
    "duration": 335,
    "start_time": "2024-01-26T02:44:06.322Z"
   },
   {
    "duration": 11,
    "start_time": "2024-01-26T02:44:06.659Z"
   },
   {
    "duration": 12,
    "start_time": "2024-01-26T02:44:06.672Z"
   },
   {
    "duration": 47,
    "start_time": "2024-01-26T02:44:06.686Z"
   },
   {
    "duration": 9,
    "start_time": "2024-01-26T02:44:06.737Z"
   },
   {
    "duration": 30,
    "start_time": "2024-01-26T02:44:06.748Z"
   },
   {
    "duration": 46,
    "start_time": "2024-01-26T02:44:06.780Z"
   },
   {
    "duration": 11,
    "start_time": "2024-01-26T02:44:06.828Z"
   },
   {
    "duration": 257,
    "start_time": "2024-01-26T02:44:06.841Z"
   },
   {
    "duration": 11,
    "start_time": "2024-01-26T02:44:07.100Z"
   },
   {
    "duration": 269,
    "start_time": "2024-01-26T02:44:07.113Z"
   },
   {
    "duration": 11,
    "start_time": "2024-01-26T02:44:07.384Z"
   },
   {
    "duration": 4,
    "start_time": "2024-01-26T02:44:07.397Z"
   },
   {
    "duration": 33,
    "start_time": "2024-01-26T02:44:07.403Z"
   },
   {
    "duration": 28,
    "start_time": "2024-01-26T02:44:07.438Z"
   },
   {
    "duration": 59,
    "start_time": "2024-01-26T02:44:07.467Z"
   },
   {
    "duration": 8,
    "start_time": "2024-01-26T02:44:07.529Z"
   },
   {
    "duration": 9,
    "start_time": "2024-01-26T02:44:07.539Z"
   },
   {
    "duration": 21,
    "start_time": "2024-01-26T02:44:07.549Z"
   },
   {
    "duration": 17,
    "start_time": "2024-01-26T02:44:07.572Z"
   },
   {
    "duration": 19,
    "start_time": "2024-01-26T02:44:07.591Z"
   },
   {
    "duration": 24,
    "start_time": "2024-01-26T02:44:07.612Z"
   },
   {
    "duration": 10,
    "start_time": "2024-01-26T02:44:07.638Z"
   },
   {
    "duration": 3,
    "start_time": "2024-01-26T02:44:07.650Z"
   },
   {
    "duration": 7,
    "start_time": "2024-01-26T02:44:07.654Z"
   },
   {
    "duration": 4229,
    "start_time": "2024-01-26T02:44:07.662Z"
   },
   {
    "duration": 0,
    "start_time": "2024-01-26T02:44:11.893Z"
   },
   {
    "duration": 0,
    "start_time": "2024-01-26T02:44:11.894Z"
   },
   {
    "duration": 0,
    "start_time": "2024-01-26T02:44:11.895Z"
   },
   {
    "duration": 0,
    "start_time": "2024-01-26T02:44:11.896Z"
   },
   {
    "duration": 0,
    "start_time": "2024-01-26T02:44:11.898Z"
   },
   {
    "duration": 0,
    "start_time": "2024-01-26T02:44:11.899Z"
   },
   {
    "duration": 0,
    "start_time": "2024-01-26T02:44:11.900Z"
   },
   {
    "duration": 20,
    "start_time": "2024-01-26T02:45:02.081Z"
   },
   {
    "duration": 6,
    "start_time": "2024-01-26T02:47:17.638Z"
   },
   {
    "duration": 6,
    "start_time": "2024-01-26T02:48:16.651Z"
   },
   {
    "duration": 107,
    "start_time": "2024-01-26T02:50:35.368Z"
   },
   {
    "duration": 11,
    "start_time": "2024-01-26T02:51:11.643Z"
   },
   {
    "duration": 1274,
    "start_time": "2024-01-26T02:51:17.309Z"
   },
   {
    "duration": 71,
    "start_time": "2024-01-26T02:51:18.585Z"
   },
   {
    "duration": 48,
    "start_time": "2024-01-26T02:51:18.658Z"
   },
   {
    "duration": 17,
    "start_time": "2024-01-26T02:51:18.708Z"
   },
   {
    "duration": 10,
    "start_time": "2024-01-26T02:51:18.726Z"
   },
   {
    "duration": 5,
    "start_time": "2024-01-26T02:51:18.737Z"
   },
   {
    "duration": 28,
    "start_time": "2024-01-26T02:51:18.743Z"
   },
   {
    "duration": 52,
    "start_time": "2024-01-26T02:51:18.772Z"
   },
   {
    "duration": 7,
    "start_time": "2024-01-26T02:51:18.826Z"
   },
   {
    "duration": 20,
    "start_time": "2024-01-26T02:51:18.835Z"
   },
   {
    "duration": 18,
    "start_time": "2024-01-26T02:51:18.856Z"
   },
   {
    "duration": 24,
    "start_time": "2024-01-26T02:51:18.876Z"
   },
   {
    "duration": 12,
    "start_time": "2024-01-26T02:51:18.902Z"
   },
   {
    "duration": 34,
    "start_time": "2024-01-26T02:51:18.916Z"
   },
   {
    "duration": 199,
    "start_time": "2024-01-26T02:51:18.952Z"
   },
   {
    "duration": 10,
    "start_time": "2024-01-26T02:51:19.153Z"
   },
   {
    "duration": 148,
    "start_time": "2024-01-26T02:51:19.165Z"
   },
   {
    "duration": 194,
    "start_time": "2024-01-26T02:51:19.315Z"
   },
   {
    "duration": 16,
    "start_time": "2024-01-26T02:51:19.511Z"
   },
   {
    "duration": 175,
    "start_time": "2024-01-26T02:51:19.529Z"
   },
   {
    "duration": 333,
    "start_time": "2024-01-26T02:51:19.706Z"
   },
   {
    "duration": 403,
    "start_time": "2024-01-26T02:51:20.040Z"
   },
   {
    "duration": 163,
    "start_time": "2024-01-26T02:51:20.445Z"
   },
   {
    "duration": 355,
    "start_time": "2024-01-26T02:51:20.609Z"
   },
   {
    "duration": 10,
    "start_time": "2024-01-26T02:51:20.966Z"
   },
   {
    "duration": 26,
    "start_time": "2024-01-26T02:51:20.977Z"
   },
   {
    "duration": 32,
    "start_time": "2024-01-26T02:51:21.005Z"
   },
   {
    "duration": 10,
    "start_time": "2024-01-26T02:51:21.041Z"
   },
   {
    "duration": 35,
    "start_time": "2024-01-26T02:51:21.052Z"
   },
   {
    "duration": 40,
    "start_time": "2024-01-26T02:51:21.089Z"
   },
   {
    "duration": 12,
    "start_time": "2024-01-26T02:51:21.131Z"
   },
   {
    "duration": 260,
    "start_time": "2024-01-26T02:51:21.144Z"
   },
   {
    "duration": 17,
    "start_time": "2024-01-26T02:51:21.406Z"
   },
   {
    "duration": 267,
    "start_time": "2024-01-26T02:51:21.425Z"
   },
   {
    "duration": 11,
    "start_time": "2024-01-26T02:51:21.694Z"
   },
   {
    "duration": 4,
    "start_time": "2024-01-26T02:51:21.706Z"
   },
   {
    "duration": 46,
    "start_time": "2024-01-26T02:51:21.711Z"
   },
   {
    "duration": 24,
    "start_time": "2024-01-26T02:51:21.759Z"
   },
   {
    "duration": 63,
    "start_time": "2024-01-26T02:51:21.785Z"
   },
   {
    "duration": 7,
    "start_time": "2024-01-26T02:51:21.849Z"
   },
   {
    "duration": 9,
    "start_time": "2024-01-26T02:51:21.857Z"
   },
   {
    "duration": 18,
    "start_time": "2024-01-26T02:51:21.868Z"
   },
   {
    "duration": 14,
    "start_time": "2024-01-26T02:51:21.887Z"
   },
   {
    "duration": 4,
    "start_time": "2024-01-26T02:51:21.923Z"
   },
   {
    "duration": 18,
    "start_time": "2024-01-26T02:51:21.928Z"
   },
   {
    "duration": 10,
    "start_time": "2024-01-26T02:51:21.948Z"
   },
   {
    "duration": 16,
    "start_time": "2024-01-26T02:51:21.960Z"
   },
   {
    "duration": 9,
    "start_time": "2024-01-26T02:51:21.978Z"
   },
   {
    "duration": 20,
    "start_time": "2024-01-26T02:51:21.988Z"
   },
   {
    "duration": 3,
    "start_time": "2024-01-26T02:51:22.022Z"
   },
   {
    "duration": 24,
    "start_time": "2024-01-26T02:51:22.027Z"
   },
   {
    "duration": 343,
    "start_time": "2024-01-26T02:51:22.053Z"
   },
   {
    "duration": 6,
    "start_time": "2024-01-26T02:51:22.398Z"
   },
   {
    "duration": 592,
    "start_time": "2024-01-26T02:51:22.406Z"
   },
   {
    "duration": 0,
    "start_time": "2024-01-26T02:51:23.000Z"
   },
   {
    "duration": 0,
    "start_time": "2024-01-26T02:51:23.002Z"
   },
   {
    "duration": 7,
    "start_time": "2024-01-26T02:52:18.141Z"
   },
   {
    "duration": 1271,
    "start_time": "2024-01-26T02:55:06.317Z"
   },
   {
    "duration": 73,
    "start_time": "2024-01-26T02:55:07.590Z"
   },
   {
    "duration": 46,
    "start_time": "2024-01-26T02:55:07.664Z"
   },
   {
    "duration": 14,
    "start_time": "2024-01-26T02:55:07.713Z"
   },
   {
    "duration": 11,
    "start_time": "2024-01-26T02:55:07.729Z"
   },
   {
    "duration": 29,
    "start_time": "2024-01-26T02:55:07.742Z"
   },
   {
    "duration": 5,
    "start_time": "2024-01-26T02:55:07.773Z"
   },
   {
    "duration": 14,
    "start_time": "2024-01-26T02:55:07.780Z"
   },
   {
    "duration": 6,
    "start_time": "2024-01-26T02:55:07.795Z"
   },
   {
    "duration": 6,
    "start_time": "2024-01-26T02:55:07.804Z"
   },
   {
    "duration": 7,
    "start_time": "2024-01-26T02:55:07.812Z"
   },
   {
    "duration": 4,
    "start_time": "2024-01-26T02:55:07.822Z"
   },
   {
    "duration": 7,
    "start_time": "2024-01-26T02:55:07.828Z"
   },
   {
    "duration": 6,
    "start_time": "2024-01-26T02:55:07.836Z"
   },
   {
    "duration": 176,
    "start_time": "2024-01-26T02:55:07.843Z"
   },
   {
    "duration": 10,
    "start_time": "2024-01-26T02:55:08.023Z"
   },
   {
    "duration": 96,
    "start_time": "2024-01-26T02:55:08.035Z"
   },
   {
    "duration": 192,
    "start_time": "2024-01-26T02:55:08.133Z"
   },
   {
    "duration": 5,
    "start_time": "2024-01-26T02:55:08.326Z"
   },
   {
    "duration": 174,
    "start_time": "2024-01-26T02:55:08.332Z"
   },
   {
    "duration": 347,
    "start_time": "2024-01-26T02:55:08.507Z"
   },
   {
    "duration": 387,
    "start_time": "2024-01-26T02:55:08.855Z"
   },
   {
    "duration": 151,
    "start_time": "2024-01-26T02:55:09.243Z"
   },
   {
    "duration": 331,
    "start_time": "2024-01-26T02:55:09.395Z"
   },
   {
    "duration": 10,
    "start_time": "2024-01-26T02:55:09.728Z"
   },
   {
    "duration": 10,
    "start_time": "2024-01-26T02:55:09.739Z"
   },
   {
    "duration": 25,
    "start_time": "2024-01-26T02:55:09.751Z"
   },
   {
    "duration": 10,
    "start_time": "2024-01-26T02:55:09.780Z"
   },
   {
    "duration": 62,
    "start_time": "2024-01-26T02:55:09.792Z"
   },
   {
    "duration": 33,
    "start_time": "2024-01-26T02:55:09.856Z"
   },
   {
    "duration": 35,
    "start_time": "2024-01-26T02:55:09.890Z"
   },
   {
    "duration": 258,
    "start_time": "2024-01-26T02:55:09.926Z"
   },
   {
    "duration": 10,
    "start_time": "2024-01-26T02:55:10.186Z"
   },
   {
    "duration": 265,
    "start_time": "2024-01-26T02:55:10.197Z"
   },
   {
    "duration": 11,
    "start_time": "2024-01-26T02:55:10.464Z"
   },
   {
    "duration": 3,
    "start_time": "2024-01-26T02:55:10.476Z"
   },
   {
    "duration": 42,
    "start_time": "2024-01-26T02:55:10.481Z"
   },
   {
    "duration": 24,
    "start_time": "2024-01-26T02:55:10.525Z"
   },
   {
    "duration": 37,
    "start_time": "2024-01-26T02:55:10.550Z"
   },
   {
    "duration": 6,
    "start_time": "2024-01-26T02:55:10.589Z"
   },
   {
    "duration": 4,
    "start_time": "2024-01-26T02:55:10.623Z"
   },
   {
    "duration": 20,
    "start_time": "2024-01-26T02:55:10.628Z"
   },
   {
    "duration": 22,
    "start_time": "2024-01-26T02:55:10.650Z"
   },
   {
    "duration": 6,
    "start_time": "2024-01-26T02:55:10.674Z"
   },
   {
    "duration": 17,
    "start_time": "2024-01-26T02:55:10.682Z"
   },
   {
    "duration": 24,
    "start_time": "2024-01-26T02:55:10.700Z"
   },
   {
    "duration": 4,
    "start_time": "2024-01-26T02:55:10.726Z"
   },
   {
    "duration": 39,
    "start_time": "2024-01-26T02:55:10.732Z"
   },
   {
    "duration": 22,
    "start_time": "2024-01-26T02:55:10.772Z"
   },
   {
    "duration": 2,
    "start_time": "2024-01-26T02:55:10.796Z"
   },
   {
    "duration": 18,
    "start_time": "2024-01-26T02:55:10.800Z"
   },
   {
    "duration": 351,
    "start_time": "2024-01-26T02:55:10.820Z"
   },
   {
    "duration": 6,
    "start_time": "2024-01-26T02:55:11.172Z"
   },
   {
    "duration": 484,
    "start_time": "2024-01-26T02:55:11.180Z"
   },
   {
    "duration": 234,
    "start_time": "2024-01-26T02:55:11.665Z"
   },
   {
    "duration": 211,
    "start_time": "2024-01-26T02:55:11.901Z"
   },
   {
    "duration": 1845,
    "start_time": "2024-01-26T03:07:42.640Z"
   },
   {
    "duration": 1888,
    "start_time": "2024-01-26T03:08:34.724Z"
   },
   {
    "duration": 1890,
    "start_time": "2024-01-26T03:08:45.358Z"
   },
   {
    "duration": 220,
    "start_time": "2024-01-26T03:09:31.944Z"
   },
   {
    "duration": 225,
    "start_time": "2024-01-26T03:09:45.689Z"
   },
   {
    "duration": 1240,
    "start_time": "2024-01-26T03:15:46.619Z"
   },
   {
    "duration": 74,
    "start_time": "2024-01-26T03:15:47.861Z"
   },
   {
    "duration": 48,
    "start_time": "2024-01-26T03:15:47.936Z"
   },
   {
    "duration": 13,
    "start_time": "2024-01-26T03:15:47.987Z"
   },
   {
    "duration": 21,
    "start_time": "2024-01-26T03:15:48.002Z"
   },
   {
    "duration": 8,
    "start_time": "2024-01-26T03:15:48.025Z"
   },
   {
    "duration": 5,
    "start_time": "2024-01-26T03:15:48.034Z"
   },
   {
    "duration": 21,
    "start_time": "2024-01-26T03:15:48.041Z"
   },
   {
    "duration": 14,
    "start_time": "2024-01-26T03:15:48.064Z"
   },
   {
    "duration": 10,
    "start_time": "2024-01-26T03:15:48.080Z"
   },
   {
    "duration": 13,
    "start_time": "2024-01-26T03:15:48.091Z"
   },
   {
    "duration": 12,
    "start_time": "2024-01-26T03:15:48.106Z"
   },
   {
    "duration": 5,
    "start_time": "2024-01-26T03:15:48.123Z"
   },
   {
    "duration": 6,
    "start_time": "2024-01-26T03:15:48.130Z"
   },
   {
    "duration": 188,
    "start_time": "2024-01-26T03:15:48.138Z"
   },
   {
    "duration": 11,
    "start_time": "2024-01-26T03:15:48.327Z"
   },
   {
    "duration": 106,
    "start_time": "2024-01-26T03:15:48.339Z"
   },
   {
    "duration": 193,
    "start_time": "2024-01-26T03:15:48.446Z"
   },
   {
    "duration": 5,
    "start_time": "2024-01-26T03:15:48.640Z"
   },
   {
    "duration": 182,
    "start_time": "2024-01-26T03:15:48.647Z"
   },
   {
    "duration": 346,
    "start_time": "2024-01-26T03:15:48.831Z"
   },
   {
    "duration": 408,
    "start_time": "2024-01-26T03:15:49.179Z"
   },
   {
    "duration": 156,
    "start_time": "2024-01-26T03:15:49.588Z"
   },
   {
    "duration": 339,
    "start_time": "2024-01-26T03:15:49.745Z"
   },
   {
    "duration": 10,
    "start_time": "2024-01-26T03:15:50.085Z"
   },
   {
    "duration": 18,
    "start_time": "2024-01-26T03:15:50.097Z"
   },
   {
    "duration": 24,
    "start_time": "2024-01-26T03:15:50.123Z"
   },
   {
    "duration": 10,
    "start_time": "2024-01-26T03:15:50.150Z"
   },
   {
    "duration": 39,
    "start_time": "2024-01-26T03:15:50.162Z"
   },
   {
    "duration": 39,
    "start_time": "2024-01-26T03:15:50.202Z"
   },
   {
    "duration": 12,
    "start_time": "2024-01-26T03:15:50.242Z"
   },
   {
    "duration": 268,
    "start_time": "2024-01-26T03:15:50.255Z"
   },
   {
    "duration": 11,
    "start_time": "2024-01-26T03:15:50.524Z"
   },
   {
    "duration": 281,
    "start_time": "2024-01-26T03:15:50.537Z"
   },
   {
    "duration": 10,
    "start_time": "2024-01-26T03:15:50.822Z"
   },
   {
    "duration": 29,
    "start_time": "2024-01-26T03:15:50.834Z"
   },
   {
    "duration": 38,
    "start_time": "2024-01-26T03:15:50.865Z"
   },
   {
    "duration": 24,
    "start_time": "2024-01-26T03:15:50.905Z"
   },
   {
    "duration": 38,
    "start_time": "2024-01-26T03:15:50.930Z"
   },
   {
    "duration": 6,
    "start_time": "2024-01-26T03:15:50.970Z"
   },
   {
    "duration": 29,
    "start_time": "2024-01-26T03:15:50.977Z"
   },
   {
    "duration": 30,
    "start_time": "2024-01-26T03:15:51.008Z"
   },
   {
    "duration": 10,
    "start_time": "2024-01-26T03:15:51.040Z"
   },
   {
    "duration": 48,
    "start_time": "2024-01-26T03:15:51.051Z"
   },
   {
    "duration": 15,
    "start_time": "2024-01-26T03:15:51.101Z"
   },
   {
    "duration": 11,
    "start_time": "2024-01-26T03:15:51.117Z"
   },
   {
    "duration": 11,
    "start_time": "2024-01-26T03:15:51.129Z"
   },
   {
    "duration": 8,
    "start_time": "2024-01-26T03:15:51.142Z"
   },
   {
    "duration": 24,
    "start_time": "2024-01-26T03:15:51.152Z"
   },
   {
    "duration": 108,
    "start_time": "2024-01-26T03:15:51.178Z"
   },
   {
    "duration": 0,
    "start_time": "2024-01-26T03:15:51.288Z"
   },
   {
    "duration": 0,
    "start_time": "2024-01-26T03:15:51.289Z"
   },
   {
    "duration": 0,
    "start_time": "2024-01-26T03:15:51.290Z"
   },
   {
    "duration": 0,
    "start_time": "2024-01-26T03:15:51.292Z"
   },
   {
    "duration": 0,
    "start_time": "2024-01-26T03:15:51.293Z"
   },
   {
    "duration": 0,
    "start_time": "2024-01-26T03:15:51.294Z"
   },
   {
    "duration": 1247,
    "start_time": "2024-01-26T03:16:35.115Z"
   },
   {
    "duration": 72,
    "start_time": "2024-01-26T03:16:36.364Z"
   },
   {
    "duration": 47,
    "start_time": "2024-01-26T03:16:36.438Z"
   },
   {
    "duration": 13,
    "start_time": "2024-01-26T03:16:36.488Z"
   },
   {
    "duration": 23,
    "start_time": "2024-01-26T03:16:36.503Z"
   },
   {
    "duration": 4,
    "start_time": "2024-01-26T03:16:36.528Z"
   },
   {
    "duration": 10,
    "start_time": "2024-01-26T03:16:36.534Z"
   },
   {
    "duration": 6,
    "start_time": "2024-01-26T03:16:36.546Z"
   },
   {
    "duration": 27,
    "start_time": "2024-01-26T03:16:36.554Z"
   },
   {
    "duration": 14,
    "start_time": "2024-01-26T03:16:36.584Z"
   },
   {
    "duration": 9,
    "start_time": "2024-01-26T03:16:36.599Z"
   },
   {
    "duration": 4,
    "start_time": "2024-01-26T03:16:36.610Z"
   },
   {
    "duration": 17,
    "start_time": "2024-01-26T03:16:36.615Z"
   },
   {
    "duration": 6,
    "start_time": "2024-01-26T03:16:36.634Z"
   },
   {
    "duration": 189,
    "start_time": "2024-01-26T03:16:36.642Z"
   },
   {
    "duration": 10,
    "start_time": "2024-01-26T03:16:36.833Z"
   },
   {
    "duration": 99,
    "start_time": "2024-01-26T03:16:36.845Z"
   },
   {
    "duration": 194,
    "start_time": "2024-01-26T03:16:36.946Z"
   },
   {
    "duration": 4,
    "start_time": "2024-01-26T03:16:37.142Z"
   },
   {
    "duration": 179,
    "start_time": "2024-01-26T03:16:37.148Z"
   },
   {
    "duration": 346,
    "start_time": "2024-01-26T03:16:37.329Z"
   },
   {
    "duration": 421,
    "start_time": "2024-01-26T03:16:37.677Z"
   },
   {
    "duration": 156,
    "start_time": "2024-01-26T03:16:38.099Z"
   },
   {
    "duration": 333,
    "start_time": "2024-01-26T03:16:38.256Z"
   },
   {
    "duration": 9,
    "start_time": "2024-01-26T03:16:38.591Z"
   },
   {
    "duration": 26,
    "start_time": "2024-01-26T03:16:38.602Z"
   },
   {
    "duration": 53,
    "start_time": "2024-01-26T03:16:38.629Z"
   },
   {
    "duration": 19,
    "start_time": "2024-01-26T03:16:38.686Z"
   },
   {
    "duration": 30,
    "start_time": "2024-01-26T03:16:38.707Z"
   },
   {
    "duration": 26,
    "start_time": "2024-01-26T03:16:38.739Z"
   },
   {
    "duration": 12,
    "start_time": "2024-01-26T03:16:38.767Z"
   },
   {
    "duration": 270,
    "start_time": "2024-01-26T03:16:38.781Z"
   },
   {
    "duration": 11,
    "start_time": "2024-01-26T03:16:39.052Z"
   },
   {
    "duration": 271,
    "start_time": "2024-01-26T03:16:39.064Z"
   },
   {
    "duration": 11,
    "start_time": "2024-01-26T03:16:39.337Z"
   },
   {
    "duration": 9,
    "start_time": "2024-01-26T03:16:39.350Z"
   },
   {
    "duration": 39,
    "start_time": "2024-01-26T03:16:39.360Z"
   },
   {
    "duration": 29,
    "start_time": "2024-01-26T03:16:39.401Z"
   },
   {
    "duration": 37,
    "start_time": "2024-01-26T03:16:39.432Z"
   },
   {
    "duration": 7,
    "start_time": "2024-01-26T03:16:39.471Z"
   },
   {
    "duration": 29,
    "start_time": "2024-01-26T03:16:39.480Z"
   },
   {
    "duration": 38,
    "start_time": "2024-01-26T03:16:39.510Z"
   },
   {
    "duration": 13,
    "start_time": "2024-01-26T03:16:39.549Z"
   },
   {
    "duration": 30,
    "start_time": "2024-01-26T03:16:39.563Z"
   },
   {
    "duration": 35,
    "start_time": "2024-01-26T03:16:39.594Z"
   },
   {
    "duration": 26,
    "start_time": "2024-01-26T03:16:39.630Z"
   },
   {
    "duration": 17,
    "start_time": "2024-01-26T03:16:39.658Z"
   },
   {
    "duration": 12,
    "start_time": "2024-01-26T03:16:39.677Z"
   },
   {
    "duration": 35,
    "start_time": "2024-01-26T03:16:39.691Z"
   },
   {
    "duration": 122,
    "start_time": "2024-01-26T03:16:39.727Z"
   },
   {
    "duration": 0,
    "start_time": "2024-01-26T03:16:39.850Z"
   },
   {
    "duration": 0,
    "start_time": "2024-01-26T03:16:39.852Z"
   },
   {
    "duration": 0,
    "start_time": "2024-01-26T03:16:39.853Z"
   },
   {
    "duration": 0,
    "start_time": "2024-01-26T03:16:39.854Z"
   },
   {
    "duration": 0,
    "start_time": "2024-01-26T03:16:39.855Z"
   },
   {
    "duration": 0,
    "start_time": "2024-01-26T03:16:39.857Z"
   },
   {
    "duration": 1247,
    "start_time": "2024-01-26T03:17:27.811Z"
   },
   {
    "duration": 73,
    "start_time": "2024-01-26T03:17:29.060Z"
   },
   {
    "duration": 48,
    "start_time": "2024-01-26T03:17:29.135Z"
   },
   {
    "duration": 14,
    "start_time": "2024-01-26T03:17:29.185Z"
   },
   {
    "duration": 25,
    "start_time": "2024-01-26T03:17:29.200Z"
   },
   {
    "duration": 5,
    "start_time": "2024-01-26T03:17:29.226Z"
   },
   {
    "duration": 6,
    "start_time": "2024-01-26T03:17:29.233Z"
   },
   {
    "duration": 10,
    "start_time": "2024-01-26T03:17:29.241Z"
   },
   {
    "duration": 5,
    "start_time": "2024-01-26T03:17:29.253Z"
   },
   {
    "duration": 5,
    "start_time": "2024-01-26T03:17:29.260Z"
   },
   {
    "duration": 8,
    "start_time": "2024-01-26T03:17:29.267Z"
   },
   {
    "duration": 4,
    "start_time": "2024-01-26T03:17:29.277Z"
   },
   {
    "duration": 43,
    "start_time": "2024-01-26T03:17:29.283Z"
   },
   {
    "duration": 6,
    "start_time": "2024-01-26T03:17:29.328Z"
   },
   {
    "duration": 196,
    "start_time": "2024-01-26T03:17:29.336Z"
   },
   {
    "duration": 10,
    "start_time": "2024-01-26T03:17:29.534Z"
   },
   {
    "duration": 100,
    "start_time": "2024-01-26T03:17:29.546Z"
   },
   {
    "duration": 195,
    "start_time": "2024-01-26T03:17:29.648Z"
   },
   {
    "duration": 6,
    "start_time": "2024-01-26T03:17:29.845Z"
   },
   {
    "duration": 172,
    "start_time": "2024-01-26T03:17:29.853Z"
   },
   {
    "duration": 338,
    "start_time": "2024-01-26T03:17:30.027Z"
   },
   {
    "duration": 431,
    "start_time": "2024-01-26T03:17:30.367Z"
   },
   {
    "duration": 151,
    "start_time": "2024-01-26T03:17:30.800Z"
   },
   {
    "duration": 333,
    "start_time": "2024-01-26T03:17:30.952Z"
   },
   {
    "duration": 10,
    "start_time": "2024-01-26T03:17:31.286Z"
   },
   {
    "duration": 25,
    "start_time": "2024-01-26T03:17:31.298Z"
   },
   {
    "duration": 24,
    "start_time": "2024-01-26T03:17:31.325Z"
   },
   {
    "duration": 12,
    "start_time": "2024-01-26T03:17:31.353Z"
   },
   {
    "duration": 47,
    "start_time": "2024-01-26T03:17:31.367Z"
   },
   {
    "duration": 28,
    "start_time": "2024-01-26T03:17:31.416Z"
   },
   {
    "duration": 11,
    "start_time": "2024-01-26T03:17:31.445Z"
   },
   {
    "duration": 259,
    "start_time": "2024-01-26T03:17:31.457Z"
   },
   {
    "duration": 11,
    "start_time": "2024-01-26T03:17:31.722Z"
   },
   {
    "duration": 289,
    "start_time": "2024-01-26T03:17:31.734Z"
   },
   {
    "duration": 12,
    "start_time": "2024-01-26T03:17:32.024Z"
   },
   {
    "duration": 9,
    "start_time": "2024-01-26T03:17:32.038Z"
   },
   {
    "duration": 36,
    "start_time": "2024-01-26T03:17:32.049Z"
   },
   {
    "duration": 37,
    "start_time": "2024-01-26T03:17:32.086Z"
   },
   {
    "duration": 38,
    "start_time": "2024-01-26T03:17:32.125Z"
   },
   {
    "duration": 6,
    "start_time": "2024-01-26T03:17:32.165Z"
   },
   {
    "duration": 40,
    "start_time": "2024-01-26T03:17:32.173Z"
   },
   {
    "duration": 31,
    "start_time": "2024-01-26T03:17:32.214Z"
   },
   {
    "duration": 12,
    "start_time": "2024-01-26T03:17:32.247Z"
   },
   {
    "duration": 20,
    "start_time": "2024-01-26T03:17:32.260Z"
   },
   {
    "duration": 29,
    "start_time": "2024-01-26T03:17:32.281Z"
   },
   {
    "duration": 26,
    "start_time": "2024-01-26T03:17:32.311Z"
   },
   {
    "duration": 11,
    "start_time": "2024-01-26T03:17:32.338Z"
   },
   {
    "duration": 16,
    "start_time": "2024-01-26T03:17:32.350Z"
   },
   {
    "duration": 25,
    "start_time": "2024-01-26T03:17:32.367Z"
   },
   {
    "duration": 112,
    "start_time": "2024-01-26T03:17:32.394Z"
   },
   {
    "duration": 0,
    "start_time": "2024-01-26T03:17:32.508Z"
   },
   {
    "duration": 0,
    "start_time": "2024-01-26T03:17:32.509Z"
   },
   {
    "duration": 0,
    "start_time": "2024-01-26T03:17:32.510Z"
   },
   {
    "duration": 0,
    "start_time": "2024-01-26T03:17:32.511Z"
   },
   {
    "duration": 0,
    "start_time": "2024-01-26T03:17:32.512Z"
   },
   {
    "duration": 0,
    "start_time": "2024-01-26T03:17:32.513Z"
   },
   {
    "duration": 1200,
    "start_time": "2024-01-26T03:17:58.866Z"
   },
   {
    "duration": 73,
    "start_time": "2024-01-26T03:18:00.069Z"
   },
   {
    "duration": 49,
    "start_time": "2024-01-26T03:18:00.144Z"
   },
   {
    "duration": 13,
    "start_time": "2024-01-26T03:18:00.195Z"
   },
   {
    "duration": 15,
    "start_time": "2024-01-26T03:18:00.222Z"
   },
   {
    "duration": 42,
    "start_time": "2024-01-26T03:18:00.239Z"
   },
   {
    "duration": 22,
    "start_time": "2024-01-26T03:18:00.282Z"
   },
   {
    "duration": 64,
    "start_time": "2024-01-26T03:18:00.306Z"
   },
   {
    "duration": 35,
    "start_time": "2024-01-26T03:18:00.372Z"
   },
   {
    "duration": 61,
    "start_time": "2024-01-26T03:18:00.410Z"
   },
   {
    "duration": 41,
    "start_time": "2024-01-26T03:18:00.473Z"
   },
   {
    "duration": 18,
    "start_time": "2024-01-26T03:18:00.516Z"
   },
   {
    "duration": 45,
    "start_time": "2024-01-26T03:18:00.536Z"
   },
   {
    "duration": 39,
    "start_time": "2024-01-26T03:18:00.583Z"
   },
   {
    "duration": 226,
    "start_time": "2024-01-26T03:18:00.623Z"
   },
   {
    "duration": 10,
    "start_time": "2024-01-26T03:18:00.851Z"
   },
   {
    "duration": 111,
    "start_time": "2024-01-26T03:18:00.863Z"
   },
   {
    "duration": 196,
    "start_time": "2024-01-26T03:18:00.975Z"
   },
   {
    "duration": 5,
    "start_time": "2024-01-26T03:18:01.173Z"
   },
   {
    "duration": 206,
    "start_time": "2024-01-26T03:18:01.179Z"
   },
   {
    "duration": 349,
    "start_time": "2024-01-26T03:18:01.386Z"
   },
   {
    "duration": 413,
    "start_time": "2024-01-26T03:18:01.736Z"
   },
   {
    "duration": 165,
    "start_time": "2024-01-26T03:18:02.151Z"
   },
   {
    "duration": 346,
    "start_time": "2024-01-26T03:18:02.318Z"
   },
   {
    "duration": 10,
    "start_time": "2024-01-26T03:18:02.666Z"
   },
   {
    "duration": 39,
    "start_time": "2024-01-26T03:18:02.677Z"
   },
   {
    "duration": 59,
    "start_time": "2024-01-26T03:18:02.718Z"
   },
   {
    "duration": 49,
    "start_time": "2024-01-26T03:18:02.781Z"
   },
   {
    "duration": 58,
    "start_time": "2024-01-26T03:18:02.832Z"
   },
   {
    "duration": 27,
    "start_time": "2024-01-26T03:18:02.891Z"
   },
   {
    "duration": 27,
    "start_time": "2024-01-26T03:18:02.919Z"
   },
   {
    "duration": 273,
    "start_time": "2024-01-26T03:18:02.947Z"
   },
   {
    "duration": 10,
    "start_time": "2024-01-26T03:18:03.222Z"
   },
   {
    "duration": 261,
    "start_time": "2024-01-26T03:18:03.234Z"
   },
   {
    "duration": 26,
    "start_time": "2024-01-26T03:18:03.497Z"
   },
   {
    "duration": 6,
    "start_time": "2024-01-26T03:18:03.524Z"
   },
   {
    "duration": 29,
    "start_time": "2024-01-26T03:18:03.531Z"
   },
   {
    "duration": 25,
    "start_time": "2024-01-26T03:18:03.562Z"
   },
   {
    "duration": 62,
    "start_time": "2024-01-26T03:18:03.589Z"
   },
   {
    "duration": 7,
    "start_time": "2024-01-26T03:18:03.653Z"
   },
   {
    "duration": 13,
    "start_time": "2024-01-26T03:18:03.662Z"
   },
   {
    "duration": 29,
    "start_time": "2024-01-26T03:18:03.677Z"
   },
   {
    "duration": 21,
    "start_time": "2024-01-26T03:18:03.708Z"
   },
   {
    "duration": 11,
    "start_time": "2024-01-26T03:18:03.730Z"
   },
   {
    "duration": 19,
    "start_time": "2024-01-26T03:18:03.743Z"
   },
   {
    "duration": 34,
    "start_time": "2024-01-26T03:18:03.764Z"
   },
   {
    "duration": 4,
    "start_time": "2024-01-26T03:18:03.800Z"
   },
   {
    "duration": 15,
    "start_time": "2024-01-26T03:18:03.806Z"
   },
   {
    "duration": 23,
    "start_time": "2024-01-26T03:18:03.823Z"
   },
   {
    "duration": 118,
    "start_time": "2024-01-26T03:18:03.847Z"
   },
   {
    "duration": 0,
    "start_time": "2024-01-26T03:18:03.967Z"
   },
   {
    "duration": 0,
    "start_time": "2024-01-26T03:18:03.968Z"
   },
   {
    "duration": 0,
    "start_time": "2024-01-26T03:18:03.970Z"
   },
   {
    "duration": 0,
    "start_time": "2024-01-26T03:18:03.971Z"
   },
   {
    "duration": 0,
    "start_time": "2024-01-26T03:18:03.972Z"
   },
   {
    "duration": 0,
    "start_time": "2024-01-26T03:18:03.973Z"
   },
   {
    "duration": 484,
    "start_time": "2024-01-26T03:18:19.117Z"
   },
   {
    "duration": 9,
    "start_time": "2024-01-26T03:18:27.629Z"
   },
   {
    "duration": 410,
    "start_time": "2024-01-26T03:18:56.053Z"
   },
   {
    "duration": 5,
    "start_time": "2024-01-26T03:19:08.873Z"
   },
   {
    "duration": 5,
    "start_time": "2024-01-26T03:19:19.725Z"
   },
   {
    "duration": 1263,
    "start_time": "2024-01-26T03:19:33.711Z"
   },
   {
    "duration": 73,
    "start_time": "2024-01-26T03:19:34.975Z"
   },
   {
    "duration": 48,
    "start_time": "2024-01-26T03:19:35.050Z"
   },
   {
    "duration": 23,
    "start_time": "2024-01-26T03:19:35.101Z"
   },
   {
    "duration": 5,
    "start_time": "2024-01-26T03:19:35.126Z"
   },
   {
    "duration": 14,
    "start_time": "2024-01-26T03:19:35.132Z"
   },
   {
    "duration": 5,
    "start_time": "2024-01-26T03:19:35.148Z"
   },
   {
    "duration": 7,
    "start_time": "2024-01-26T03:19:35.155Z"
   },
   {
    "duration": 5,
    "start_time": "2024-01-26T03:19:35.163Z"
   },
   {
    "duration": 5,
    "start_time": "2024-01-26T03:19:35.171Z"
   },
   {
    "duration": 8,
    "start_time": "2024-01-26T03:19:35.177Z"
   },
   {
    "duration": 37,
    "start_time": "2024-01-26T03:19:35.187Z"
   },
   {
    "duration": 6,
    "start_time": "2024-01-26T03:19:35.226Z"
   },
   {
    "duration": 5,
    "start_time": "2024-01-26T03:19:35.233Z"
   },
   {
    "duration": 185,
    "start_time": "2024-01-26T03:19:35.240Z"
   },
   {
    "duration": 11,
    "start_time": "2024-01-26T03:19:35.426Z"
   },
   {
    "duration": 103,
    "start_time": "2024-01-26T03:19:35.439Z"
   },
   {
    "duration": 201,
    "start_time": "2024-01-26T03:19:35.544Z"
   },
   {
    "duration": 6,
    "start_time": "2024-01-26T03:19:35.747Z"
   },
   {
    "duration": 178,
    "start_time": "2024-01-26T03:19:35.755Z"
   },
   {
    "duration": 336,
    "start_time": "2024-01-26T03:19:35.935Z"
   },
   {
    "duration": 400,
    "start_time": "2024-01-26T03:19:36.273Z"
   },
   {
    "duration": 168,
    "start_time": "2024-01-26T03:19:36.675Z"
   },
   {
    "duration": 345,
    "start_time": "2024-01-26T03:19:36.845Z"
   },
   {
    "duration": 9,
    "start_time": "2024-01-26T03:19:37.192Z"
   },
   {
    "duration": 25,
    "start_time": "2024-01-26T03:19:37.203Z"
   },
   {
    "duration": 25,
    "start_time": "2024-01-26T03:19:37.230Z"
   },
   {
    "duration": 11,
    "start_time": "2024-01-26T03:19:37.258Z"
   },
   {
    "duration": 27,
    "start_time": "2024-01-26T03:19:37.271Z"
   },
   {
    "duration": 25,
    "start_time": "2024-01-26T03:19:37.324Z"
   },
   {
    "duration": 12,
    "start_time": "2024-01-26T03:19:37.350Z"
   },
   {
    "duration": 280,
    "start_time": "2024-01-26T03:19:37.363Z"
   },
   {
    "duration": 12,
    "start_time": "2024-01-26T03:19:37.645Z"
   },
   {
    "duration": 252,
    "start_time": "2024-01-26T03:19:37.658Z"
   },
   {
    "duration": 18,
    "start_time": "2024-01-26T03:19:37.911Z"
   },
   {
    "duration": 3,
    "start_time": "2024-01-26T03:19:37.930Z"
   },
   {
    "duration": 23,
    "start_time": "2024-01-26T03:19:37.935Z"
   },
   {
    "duration": 24,
    "start_time": "2024-01-26T03:19:37.959Z"
   },
   {
    "duration": 64,
    "start_time": "2024-01-26T03:19:37.984Z"
   },
   {
    "duration": 7,
    "start_time": "2024-01-26T03:19:38.049Z"
   },
   {
    "duration": 12,
    "start_time": "2024-01-26T03:19:38.057Z"
   },
   {
    "duration": 15,
    "start_time": "2024-01-26T03:19:38.071Z"
   },
   {
    "duration": 10,
    "start_time": "2024-01-26T03:19:38.087Z"
   },
   {
    "duration": 25,
    "start_time": "2024-01-26T03:19:38.099Z"
   },
   {
    "duration": 15,
    "start_time": "2024-01-26T03:19:38.126Z"
   },
   {
    "duration": 10,
    "start_time": "2024-01-26T03:19:38.143Z"
   },
   {
    "duration": 13,
    "start_time": "2024-01-26T03:19:38.155Z"
   },
   {
    "duration": 12,
    "start_time": "2024-01-26T03:19:38.169Z"
   },
   {
    "duration": 41,
    "start_time": "2024-01-26T03:19:38.183Z"
   },
   {
    "duration": 6,
    "start_time": "2024-01-26T03:19:38.226Z"
   },
   {
    "duration": 336,
    "start_time": "2024-01-26T03:19:38.233Z"
   },
   {
    "duration": 5,
    "start_time": "2024-01-26T03:19:38.570Z"
   },
   {
    "duration": 469,
    "start_time": "2024-01-26T03:19:38.577Z"
   },
   {
    "duration": 243,
    "start_time": "2024-01-26T03:19:39.048Z"
   },
   {
    "duration": 1893,
    "start_time": "2024-01-26T03:19:39.292Z"
   },
   {
    "duration": 222,
    "start_time": "2024-01-26T03:19:41.187Z"
   },
   {
    "duration": 1824,
    "start_time": "2024-01-26T03:20:40.867Z"
   },
   {
    "duration": 1248,
    "start_time": "2024-01-26T03:30:57.399Z"
   },
   {
    "duration": 74,
    "start_time": "2024-01-26T03:30:58.649Z"
   },
   {
    "duration": 47,
    "start_time": "2024-01-26T03:30:58.725Z"
   },
   {
    "duration": 13,
    "start_time": "2024-01-26T03:30:58.774Z"
   },
   {
    "duration": 13,
    "start_time": "2024-01-26T03:30:58.788Z"
   },
   {
    "duration": 24,
    "start_time": "2024-01-26T03:30:58.802Z"
   },
   {
    "duration": 15,
    "start_time": "2024-01-26T03:30:58.828Z"
   },
   {
    "duration": 12,
    "start_time": "2024-01-26T03:30:58.844Z"
   },
   {
    "duration": 16,
    "start_time": "2024-01-26T03:30:58.858Z"
   },
   {
    "duration": 31,
    "start_time": "2024-01-26T03:30:58.877Z"
   },
   {
    "duration": 20,
    "start_time": "2024-01-26T03:30:58.910Z"
   },
   {
    "duration": 56,
    "start_time": "2024-01-26T03:30:58.932Z"
   },
   {
    "duration": 34,
    "start_time": "2024-01-26T03:30:58.989Z"
   },
   {
    "duration": 8,
    "start_time": "2024-01-26T03:30:59.025Z"
   },
   {
    "duration": 183,
    "start_time": "2024-01-26T03:30:59.035Z"
   },
   {
    "duration": 13,
    "start_time": "2024-01-26T03:30:59.220Z"
   },
   {
    "duration": 99,
    "start_time": "2024-01-26T03:30:59.234Z"
   },
   {
    "duration": 213,
    "start_time": "2024-01-26T03:30:59.335Z"
   },
   {
    "duration": 6,
    "start_time": "2024-01-26T03:30:59.550Z"
   },
   {
    "duration": 181,
    "start_time": "2024-01-26T03:30:59.558Z"
   },
   {
    "duration": 327,
    "start_time": "2024-01-26T03:30:59.740Z"
   },
   {
    "duration": 404,
    "start_time": "2024-01-26T03:31:00.069Z"
   },
   {
    "duration": 159,
    "start_time": "2024-01-26T03:31:00.474Z"
   },
   {
    "duration": 362,
    "start_time": "2024-01-26T03:31:00.634Z"
   },
   {
    "duration": 10,
    "start_time": "2024-01-26T03:31:00.997Z"
   },
   {
    "duration": 51,
    "start_time": "2024-01-26T03:31:01.009Z"
   },
   {
    "duration": 55,
    "start_time": "2024-01-26T03:31:01.061Z"
   },
   {
    "duration": 16,
    "start_time": "2024-01-26T03:31:01.120Z"
   },
   {
    "duration": 49,
    "start_time": "2024-01-26T03:31:01.138Z"
   },
   {
    "duration": 37,
    "start_time": "2024-01-26T03:31:01.189Z"
   },
   {
    "duration": 22,
    "start_time": "2024-01-26T03:31:01.228Z"
   },
   {
    "duration": 275,
    "start_time": "2024-01-26T03:31:01.252Z"
   },
   {
    "duration": 11,
    "start_time": "2024-01-26T03:31:01.529Z"
   },
   {
    "duration": 264,
    "start_time": "2024-01-26T03:31:01.541Z"
   },
   {
    "duration": 20,
    "start_time": "2024-01-26T03:31:01.807Z"
   },
   {
    "duration": 25,
    "start_time": "2024-01-26T03:31:01.829Z"
   },
   {
    "duration": 57,
    "start_time": "2024-01-26T03:31:01.856Z"
   },
   {
    "duration": 31,
    "start_time": "2024-01-26T03:31:01.915Z"
   },
   {
    "duration": 48,
    "start_time": "2024-01-26T03:31:01.948Z"
   },
   {
    "duration": 7,
    "start_time": "2024-01-26T03:31:01.998Z"
   },
   {
    "duration": 60,
    "start_time": "2024-01-26T03:31:02.006Z"
   },
   {
    "duration": 41,
    "start_time": "2024-01-26T03:31:02.069Z"
   },
   {
    "duration": 33,
    "start_time": "2024-01-26T03:31:02.112Z"
   },
   {
    "duration": 20,
    "start_time": "2024-01-26T03:31:02.147Z"
   },
   {
    "duration": 31,
    "start_time": "2024-01-26T03:31:02.169Z"
   },
   {
    "duration": 28,
    "start_time": "2024-01-26T03:31:02.202Z"
   },
   {
    "duration": 30,
    "start_time": "2024-01-26T03:31:02.232Z"
   },
   {
    "duration": 48,
    "start_time": "2024-01-26T03:31:02.264Z"
   },
   {
    "duration": 31,
    "start_time": "2024-01-26T03:31:02.313Z"
   },
   {
    "duration": 27,
    "start_time": "2024-01-26T03:31:02.345Z"
   },
   {
    "duration": 349,
    "start_time": "2024-01-26T03:31:02.374Z"
   },
   {
    "duration": 6,
    "start_time": "2024-01-26T03:31:02.725Z"
   },
   {
    "duration": 493,
    "start_time": "2024-01-26T03:31:02.732Z"
   },
   {
    "duration": 269,
    "start_time": "2024-01-26T03:31:03.227Z"
   },
   {
    "duration": 1904,
    "start_time": "2024-01-26T03:31:03.497Z"
   },
   {
    "duration": 236,
    "start_time": "2024-01-26T03:31:05.402Z"
   },
   {
    "duration": 1205,
    "start_time": "2024-01-26T03:31:31.169Z"
   },
   {
    "duration": 73,
    "start_time": "2024-01-26T03:31:32.377Z"
   },
   {
    "duration": 46,
    "start_time": "2024-01-26T03:31:32.451Z"
   },
   {
    "duration": 24,
    "start_time": "2024-01-26T03:31:32.499Z"
   },
   {
    "duration": 19,
    "start_time": "2024-01-26T03:31:32.525Z"
   },
   {
    "duration": 19,
    "start_time": "2024-01-26T03:31:32.546Z"
   },
   {
    "duration": 10,
    "start_time": "2024-01-26T03:31:32.567Z"
   },
   {
    "duration": 27,
    "start_time": "2024-01-26T03:31:32.579Z"
   },
   {
    "duration": 23,
    "start_time": "2024-01-26T03:31:32.608Z"
   },
   {
    "duration": 43,
    "start_time": "2024-01-26T03:31:32.634Z"
   },
   {
    "duration": 22,
    "start_time": "2024-01-26T03:31:32.679Z"
   },
   {
    "duration": 36,
    "start_time": "2024-01-26T03:31:32.703Z"
   },
   {
    "duration": 84,
    "start_time": "2024-01-26T03:31:32.740Z"
   },
   {
    "duration": 72,
    "start_time": "2024-01-26T03:31:32.826Z"
   },
   {
    "duration": 184,
    "start_time": "2024-01-26T03:31:32.899Z"
   },
   {
    "duration": 10,
    "start_time": "2024-01-26T03:31:33.085Z"
   },
   {
    "duration": 97,
    "start_time": "2024-01-26T03:31:33.097Z"
   },
   {
    "duration": 208,
    "start_time": "2024-01-26T03:31:33.196Z"
   },
   {
    "duration": 5,
    "start_time": "2024-01-26T03:31:33.406Z"
   },
   {
    "duration": 176,
    "start_time": "2024-01-26T03:31:33.412Z"
   },
   {
    "duration": 333,
    "start_time": "2024-01-26T03:31:33.590Z"
   },
   {
    "duration": 398,
    "start_time": "2024-01-26T03:31:33.925Z"
   },
   {
    "duration": 148,
    "start_time": "2024-01-26T03:31:34.325Z"
   },
   {
    "duration": 339,
    "start_time": "2024-01-26T03:31:34.475Z"
   },
   {
    "duration": 14,
    "start_time": "2024-01-26T03:31:34.816Z"
   },
   {
    "duration": 10,
    "start_time": "2024-01-26T03:31:34.832Z"
   },
   {
    "duration": 28,
    "start_time": "2024-01-26T03:31:34.843Z"
   },
   {
    "duration": 11,
    "start_time": "2024-01-26T03:31:34.875Z"
   },
   {
    "duration": 56,
    "start_time": "2024-01-26T03:31:34.888Z"
   },
   {
    "duration": 26,
    "start_time": "2024-01-26T03:31:34.946Z"
   },
   {
    "duration": 12,
    "start_time": "2024-01-26T03:31:34.973Z"
   },
   {
    "duration": 271,
    "start_time": "2024-01-26T03:31:34.987Z"
   },
   {
    "duration": 11,
    "start_time": "2024-01-26T03:31:35.260Z"
   },
   {
    "duration": 283,
    "start_time": "2024-01-26T03:31:35.273Z"
   },
   {
    "duration": 10,
    "start_time": "2024-01-26T03:31:35.558Z"
   },
   {
    "duration": 3,
    "start_time": "2024-01-26T03:31:35.570Z"
   },
   {
    "duration": 24,
    "start_time": "2024-01-26T03:31:35.575Z"
   },
   {
    "duration": 44,
    "start_time": "2024-01-26T03:31:35.601Z"
   },
   {
    "duration": 39,
    "start_time": "2024-01-26T03:31:35.647Z"
   },
   {
    "duration": 35,
    "start_time": "2024-01-26T03:31:35.688Z"
   },
   {
    "duration": 5,
    "start_time": "2024-01-26T03:31:35.725Z"
   },
   {
    "duration": 19,
    "start_time": "2024-01-26T03:31:35.731Z"
   },
   {
    "duration": 26,
    "start_time": "2024-01-26T03:31:35.752Z"
   },
   {
    "duration": 20,
    "start_time": "2024-01-26T03:31:35.780Z"
   },
   {
    "duration": 25,
    "start_time": "2024-01-26T03:31:35.802Z"
   },
   {
    "duration": 15,
    "start_time": "2024-01-26T03:31:35.829Z"
   },
   {
    "duration": 3,
    "start_time": "2024-01-26T03:31:35.846Z"
   },
   {
    "duration": 12,
    "start_time": "2024-01-26T03:31:35.850Z"
   },
   {
    "duration": 24,
    "start_time": "2024-01-26T03:31:35.864Z"
   },
   {
    "duration": 5,
    "start_time": "2024-01-26T03:31:35.890Z"
   },
   {
    "duration": 353,
    "start_time": "2024-01-26T03:31:35.896Z"
   },
   {
    "duration": 6,
    "start_time": "2024-01-26T03:31:36.250Z"
   },
   {
    "duration": 506,
    "start_time": "2024-01-26T03:31:36.258Z"
   },
   {
    "duration": 246,
    "start_time": "2024-01-26T03:31:36.766Z"
   },
   {
    "duration": 1865,
    "start_time": "2024-01-26T03:31:37.014Z"
   },
   {
    "duration": 222,
    "start_time": "2024-01-26T03:31:38.881Z"
   },
   {
    "duration": 46,
    "start_time": "2024-01-26T12:36:21.920Z"
   },
   {
    "duration": 1205,
    "start_time": "2024-01-26T12:36:29.387Z"
   },
   {
    "duration": 70,
    "start_time": "2024-01-26T12:36:30.594Z"
   },
   {
    "duration": 45,
    "start_time": "2024-01-26T12:36:30.666Z"
   },
   {
    "duration": 18,
    "start_time": "2024-01-26T12:36:30.712Z"
   },
   {
    "duration": 55,
    "start_time": "2024-01-26T12:36:30.732Z"
   },
   {
    "duration": 51,
    "start_time": "2024-01-26T12:36:30.788Z"
   },
   {
    "duration": 46,
    "start_time": "2024-01-26T12:36:30.841Z"
   },
   {
    "duration": 38,
    "start_time": "2024-01-26T12:36:30.888Z"
   },
   {
    "duration": 58,
    "start_time": "2024-01-26T12:36:30.928Z"
   },
   {
    "duration": 20,
    "start_time": "2024-01-26T12:36:30.987Z"
   },
   {
    "duration": 73,
    "start_time": "2024-01-26T12:36:31.008Z"
   },
   {
    "duration": 50,
    "start_time": "2024-01-26T12:36:31.083Z"
   },
   {
    "duration": 27,
    "start_time": "2024-01-26T12:36:31.135Z"
   },
   {
    "duration": 39,
    "start_time": "2024-01-26T12:36:31.164Z"
   },
   {
    "duration": 34,
    "start_time": "2024-01-26T12:36:31.205Z"
   },
   {
    "duration": 184,
    "start_time": "2024-01-26T12:36:31.241Z"
   },
   {
    "duration": 11,
    "start_time": "2024-01-26T12:36:31.427Z"
   },
   {
    "duration": 101,
    "start_time": "2024-01-26T12:36:31.440Z"
   },
   {
    "duration": 188,
    "start_time": "2024-01-26T12:36:31.543Z"
   },
   {
    "duration": 5,
    "start_time": "2024-01-26T12:36:31.733Z"
   },
   {
    "duration": 245,
    "start_time": "2024-01-26T12:36:31.739Z"
   },
   {
    "duration": 328,
    "start_time": "2024-01-26T12:36:31.985Z"
   },
   {
    "duration": 390,
    "start_time": "2024-01-26T12:36:32.314Z"
   },
   {
    "duration": 146,
    "start_time": "2024-01-26T12:36:32.706Z"
   },
   {
    "duration": 348,
    "start_time": "2024-01-26T12:36:32.853Z"
   },
   {
    "duration": 12,
    "start_time": "2024-01-26T12:36:33.203Z"
   },
   {
    "duration": 10,
    "start_time": "2024-01-26T12:36:33.216Z"
   },
   {
    "duration": 53,
    "start_time": "2024-01-26T12:36:33.228Z"
   },
   {
    "duration": 11,
    "start_time": "2024-01-26T12:36:33.283Z"
   },
   {
    "duration": 29,
    "start_time": "2024-01-26T12:36:33.296Z"
   },
   {
    "duration": 24,
    "start_time": "2024-01-26T12:36:33.326Z"
   },
   {
    "duration": 37,
    "start_time": "2024-01-26T12:36:33.353Z"
   },
   {
    "duration": 233,
    "start_time": "2024-01-26T12:36:33.392Z"
   },
   {
    "duration": 10,
    "start_time": "2024-01-26T12:36:33.626Z"
   },
   {
    "duration": 251,
    "start_time": "2024-01-26T12:36:33.637Z"
   },
   {
    "duration": 11,
    "start_time": "2024-01-26T12:36:33.890Z"
   },
   {
    "duration": 4,
    "start_time": "2024-01-26T12:36:33.903Z"
   },
   {
    "duration": 33,
    "start_time": "2024-01-26T12:36:33.908Z"
   },
   {
    "duration": 41,
    "start_time": "2024-01-26T12:36:33.943Z"
   },
   {
    "duration": 39,
    "start_time": "2024-01-26T12:36:33.986Z"
   },
   {
    "duration": 6,
    "start_time": "2024-01-26T12:36:34.030Z"
   },
   {
    "duration": 22,
    "start_time": "2024-01-26T12:36:34.038Z"
   },
   {
    "duration": 27,
    "start_time": "2024-01-26T12:36:34.062Z"
   },
   {
    "duration": 12,
    "start_time": "2024-01-26T12:36:34.091Z"
   },
   {
    "duration": 20,
    "start_time": "2024-01-26T12:36:34.105Z"
   },
   {
    "duration": 32,
    "start_time": "2024-01-26T12:36:34.126Z"
   },
   {
    "duration": 18,
    "start_time": "2024-01-26T12:36:34.160Z"
   },
   {
    "duration": 24,
    "start_time": "2024-01-26T12:36:34.180Z"
   },
   {
    "duration": 12,
    "start_time": "2024-01-26T12:36:34.206Z"
   },
   {
    "duration": 19,
    "start_time": "2024-01-26T12:36:34.220Z"
   },
   {
    "duration": 6,
    "start_time": "2024-01-26T12:36:34.240Z"
   },
   {
    "duration": 353,
    "start_time": "2024-01-26T12:36:34.247Z"
   },
   {
    "duration": 6,
    "start_time": "2024-01-26T12:36:34.602Z"
   },
   {
    "duration": 455,
    "start_time": "2024-01-26T12:36:34.610Z"
   },
   {
    "duration": 220,
    "start_time": "2024-01-26T12:36:35.067Z"
   },
   {
    "duration": 1759,
    "start_time": "2024-01-26T12:36:35.289Z"
   },
   {
    "duration": 222,
    "start_time": "2024-01-26T12:36:37.049Z"
   },
   {
    "duration": 15,
    "start_time": "2024-01-26T12:51:36.725Z"
   },
   {
    "duration": 16,
    "start_time": "2024-01-26T12:52:09.381Z"
   },
   {
    "duration": 4,
    "start_time": "2024-01-26T12:53:41.408Z"
   },
   {
    "duration": 18,
    "start_time": "2024-01-26T12:53:44.013Z"
   },
   {
    "duration": 4,
    "start_time": "2024-01-26T12:53:45.079Z"
   },
   {
    "duration": 2,
    "start_time": "2024-01-26T12:53:47.991Z"
   },
   {
    "duration": 2,
    "start_time": "2024-01-26T12:53:48.439Z"
   },
   {
    "duration": 104,
    "start_time": "2024-01-26T12:53:49.128Z"
   },
   {
    "duration": 3,
    "start_time": "2024-01-26T12:54:03.120Z"
   },
   {
    "duration": 7,
    "start_time": "2024-01-26T12:54:03.464Z"
   },
   {
    "duration": 128,
    "start_time": "2024-01-26T12:54:04.188Z"
   },
   {
    "duration": 121,
    "start_time": "2024-01-26T12:54:08.703Z"
   },
   {
    "duration": 6,
    "start_time": "2024-01-26T12:54:20.273Z"
   },
   {
    "duration": 23,
    "start_time": "2024-01-26T12:54:40.873Z"
   },
   {
    "duration": 4,
    "start_time": "2024-01-26T12:54:41.313Z"
   },
   {
    "duration": 18,
    "start_time": "2024-01-26T12:54:41.681Z"
   },
   {
    "duration": 3,
    "start_time": "2024-01-26T12:54:47.144Z"
   },
   {
    "duration": 2,
    "start_time": "2024-01-26T12:54:47.353Z"
   },
   {
    "duration": 11,
    "start_time": "2024-01-26T12:54:47.812Z"
   },
   {
    "duration": 917,
    "start_time": "2024-01-26T12:54:48.561Z"
   },
   {
    "duration": 1260,
    "start_time": "2024-01-26T12:54:55.555Z"
   },
   {
    "duration": 71,
    "start_time": "2024-01-26T12:54:56.817Z"
   },
   {
    "duration": 44,
    "start_time": "2024-01-26T12:54:56.889Z"
   },
   {
    "duration": 12,
    "start_time": "2024-01-26T12:54:56.935Z"
   },
   {
    "duration": 39,
    "start_time": "2024-01-26T12:54:56.949Z"
   },
   {
    "duration": 22,
    "start_time": "2024-01-26T12:54:56.989Z"
   },
   {
    "duration": 26,
    "start_time": "2024-01-26T12:54:57.013Z"
   },
   {
    "duration": 31,
    "start_time": "2024-01-26T12:54:57.041Z"
   },
   {
    "duration": 53,
    "start_time": "2024-01-26T12:54:57.074Z"
   },
   {
    "duration": 41,
    "start_time": "2024-01-26T12:54:57.129Z"
   },
   {
    "duration": 32,
    "start_time": "2024-01-26T12:54:57.171Z"
   },
   {
    "duration": 23,
    "start_time": "2024-01-26T12:54:57.205Z"
   },
   {
    "duration": 33,
    "start_time": "2024-01-26T12:54:57.230Z"
   },
   {
    "duration": 33,
    "start_time": "2024-01-26T12:54:57.265Z"
   },
   {
    "duration": 179,
    "start_time": "2024-01-26T12:54:57.300Z"
   },
   {
    "duration": 11,
    "start_time": "2024-01-26T12:54:57.481Z"
   },
   {
    "duration": 110,
    "start_time": "2024-01-26T12:54:57.494Z"
   },
   {
    "duration": 195,
    "start_time": "2024-01-26T12:54:57.606Z"
   },
   {
    "duration": 5,
    "start_time": "2024-01-26T12:54:57.803Z"
   },
   {
    "duration": 186,
    "start_time": "2024-01-26T12:54:57.810Z"
   },
   {
    "duration": 335,
    "start_time": "2024-01-26T12:54:57.998Z"
   },
   {
    "duration": 391,
    "start_time": "2024-01-26T12:54:58.335Z"
   },
   {
    "duration": 151,
    "start_time": "2024-01-26T12:54:58.727Z"
   },
   {
    "duration": 348,
    "start_time": "2024-01-26T12:54:58.882Z"
   },
   {
    "duration": 10,
    "start_time": "2024-01-26T12:54:59.232Z"
   },
   {
    "duration": 10,
    "start_time": "2024-01-26T12:54:59.243Z"
   },
   {
    "duration": 40,
    "start_time": "2024-01-26T12:54:59.255Z"
   },
   {
    "duration": 10,
    "start_time": "2024-01-26T12:54:59.299Z"
   },
   {
    "duration": 27,
    "start_time": "2024-01-26T12:54:59.310Z"
   },
   {
    "duration": 49,
    "start_time": "2024-01-26T12:54:59.339Z"
   },
   {
    "duration": 10,
    "start_time": "2024-01-26T12:54:59.390Z"
   },
   {
    "duration": 257,
    "start_time": "2024-01-26T12:54:59.402Z"
   },
   {
    "duration": 11,
    "start_time": "2024-01-26T12:54:59.660Z"
   },
   {
    "duration": 260,
    "start_time": "2024-01-26T12:54:59.682Z"
   },
   {
    "duration": 10,
    "start_time": "2024-01-26T12:54:59.944Z"
   },
   {
    "duration": 3,
    "start_time": "2024-01-26T12:54:59.956Z"
   },
   {
    "duration": 40,
    "start_time": "2024-01-26T12:54:59.960Z"
   },
   {
    "duration": 25,
    "start_time": "2024-01-26T12:55:00.001Z"
   },
   {
    "duration": 55,
    "start_time": "2024-01-26T12:55:00.028Z"
   },
   {
    "duration": 6,
    "start_time": "2024-01-26T12:55:00.086Z"
   },
   {
    "duration": 33,
    "start_time": "2024-01-26T12:55:00.093Z"
   },
   {
    "duration": 45,
    "start_time": "2024-01-26T12:55:00.128Z"
   },
   {
    "duration": 61,
    "start_time": "2024-01-26T12:55:00.174Z"
   },
   {
    "duration": 38,
    "start_time": "2024-01-26T12:55:00.236Z"
   },
   {
    "duration": 48,
    "start_time": "2024-01-26T12:55:00.275Z"
   },
   {
    "duration": 47,
    "start_time": "2024-01-26T12:55:00.325Z"
   },
   {
    "duration": 57,
    "start_time": "2024-01-26T12:55:00.374Z"
   },
   {
    "duration": 59,
    "start_time": "2024-01-26T12:55:00.433Z"
   },
   {
    "duration": 44,
    "start_time": "2024-01-26T12:55:00.493Z"
   },
   {
    "duration": 28,
    "start_time": "2024-01-26T12:55:00.538Z"
   },
   {
    "duration": 387,
    "start_time": "2024-01-26T12:55:00.567Z"
   },
   {
    "duration": 5,
    "start_time": "2024-01-26T12:55:00.955Z"
   },
   {
    "duration": 627,
    "start_time": "2024-01-26T12:55:00.962Z"
   },
   {
    "duration": 396,
    "start_time": "2024-01-26T12:55:01.591Z"
   },
   {
    "duration": 1948,
    "start_time": "2024-01-26T12:55:01.988Z"
   },
   {
    "duration": 234,
    "start_time": "2024-01-26T12:55:03.938Z"
   },
   {
    "duration": 6,
    "start_time": "2024-01-26T12:55:04.174Z"
   },
   {
    "duration": 38,
    "start_time": "2024-01-26T12:55:04.182Z"
   },
   {
    "duration": 29,
    "start_time": "2024-01-26T12:55:04.222Z"
   },
   {
    "duration": 25,
    "start_time": "2024-01-26T12:55:04.253Z"
   },
   {
    "duration": 14,
    "start_time": "2024-01-26T12:55:04.279Z"
   },
   {
    "duration": 13,
    "start_time": "2024-01-26T12:55:04.295Z"
   },
   {
    "duration": 4,
    "start_time": "2024-01-26T12:55:04.310Z"
   },
   {
    "duration": 25,
    "start_time": "2024-01-26T12:55:04.316Z"
   },
   {
    "duration": 4,
    "start_time": "2024-01-26T12:55:04.343Z"
   },
   {
    "duration": 43,
    "start_time": "2024-01-26T12:55:04.348Z"
   },
   {
    "duration": 19,
    "start_time": "2024-01-26T12:55:04.392Z"
   },
   {
    "duration": 4,
    "start_time": "2024-01-26T12:55:04.412Z"
   },
   {
    "duration": 10,
    "start_time": "2024-01-26T12:55:04.417Z"
   },
   {
    "duration": 798,
    "start_time": "2024-01-26T12:55:04.429Z"
   },
   {
    "duration": 4,
    "start_time": "2024-01-26T12:55:05.229Z"
   },
   {
    "duration": 14,
    "start_time": "2024-01-26T12:55:05.236Z"
   },
   {
    "duration": 15,
    "start_time": "2024-01-26T12:55:05.251Z"
   },
   {
    "duration": 23,
    "start_time": "2024-01-26T12:55:05.267Z"
   },
   {
    "duration": 11,
    "start_time": "2024-01-26T12:55:05.291Z"
   },
   {
    "duration": 977,
    "start_time": "2024-01-26T12:55:05.303Z"
   },
   {
    "duration": 108,
    "start_time": "2024-01-26T12:55:06.282Z"
   },
   {
    "duration": 6,
    "start_time": "2024-01-26T12:55:11.683Z"
   },
   {
    "duration": 1212,
    "start_time": "2024-01-26T12:56:26.193Z"
   },
   {
    "duration": 71,
    "start_time": "2024-01-26T12:56:27.407Z"
   },
   {
    "duration": 52,
    "start_time": "2024-01-26T12:56:27.480Z"
   },
   {
    "duration": 13,
    "start_time": "2024-01-26T12:56:27.534Z"
   },
   {
    "duration": 33,
    "start_time": "2024-01-26T12:56:27.549Z"
   },
   {
    "duration": 4,
    "start_time": "2024-01-26T12:56:27.584Z"
   },
   {
    "duration": 5,
    "start_time": "2024-01-26T12:56:27.590Z"
   },
   {
    "duration": 12,
    "start_time": "2024-01-26T12:56:27.597Z"
   },
   {
    "duration": 5,
    "start_time": "2024-01-26T12:56:27.611Z"
   },
   {
    "duration": 11,
    "start_time": "2024-01-26T12:56:27.617Z"
   },
   {
    "duration": 11,
    "start_time": "2024-01-26T12:56:27.629Z"
   },
   {
    "duration": 5,
    "start_time": "2024-01-26T12:56:27.641Z"
   },
   {
    "duration": 36,
    "start_time": "2024-01-26T12:56:27.647Z"
   },
   {
    "duration": 6,
    "start_time": "2024-01-26T12:56:27.686Z"
   },
   {
    "duration": 186,
    "start_time": "2024-01-26T12:56:27.694Z"
   },
   {
    "duration": 12,
    "start_time": "2024-01-26T12:56:27.882Z"
   },
   {
    "duration": 105,
    "start_time": "2024-01-26T12:56:27.896Z"
   },
   {
    "duration": 193,
    "start_time": "2024-01-26T12:56:28.004Z"
   },
   {
    "duration": 5,
    "start_time": "2024-01-26T12:56:28.199Z"
   },
   {
    "duration": 168,
    "start_time": "2024-01-26T12:56:28.205Z"
   },
   {
    "duration": 327,
    "start_time": "2024-01-26T12:56:28.374Z"
   },
   {
    "duration": 392,
    "start_time": "2024-01-26T12:56:28.703Z"
   },
   {
    "duration": 152,
    "start_time": "2024-01-26T12:56:29.097Z"
   },
   {
    "duration": 323,
    "start_time": "2024-01-26T12:56:29.250Z"
   },
   {
    "duration": 15,
    "start_time": "2024-01-26T12:56:29.574Z"
   },
   {
    "duration": 31,
    "start_time": "2024-01-26T12:56:29.591Z"
   },
   {
    "duration": 26,
    "start_time": "2024-01-26T12:56:29.623Z"
   },
   {
    "duration": 18,
    "start_time": "2024-01-26T12:56:29.651Z"
   },
   {
    "duration": 42,
    "start_time": "2024-01-26T12:56:29.671Z"
   },
   {
    "duration": 24,
    "start_time": "2024-01-26T12:56:29.715Z"
   },
   {
    "duration": 11,
    "start_time": "2024-01-26T12:56:29.741Z"
   },
   {
    "duration": 285,
    "start_time": "2024-01-26T12:56:29.754Z"
   },
   {
    "duration": 14,
    "start_time": "2024-01-26T12:56:30.041Z"
   },
   {
    "duration": 278,
    "start_time": "2024-01-26T12:56:30.057Z"
   },
   {
    "duration": 10,
    "start_time": "2024-01-26T12:56:30.337Z"
   },
   {
    "duration": 60,
    "start_time": "2024-01-26T12:56:30.349Z"
   },
   {
    "duration": 54,
    "start_time": "2024-01-26T12:56:30.410Z"
   },
   {
    "duration": 73,
    "start_time": "2024-01-26T12:56:30.466Z"
   },
   {
    "duration": 59,
    "start_time": "2024-01-26T12:56:30.541Z"
   },
   {
    "duration": 6,
    "start_time": "2024-01-26T12:56:30.602Z"
   },
   {
    "duration": 61,
    "start_time": "2024-01-26T12:56:30.612Z"
   },
   {
    "duration": 41,
    "start_time": "2024-01-26T12:56:30.675Z"
   },
   {
    "duration": 57,
    "start_time": "2024-01-26T12:56:30.718Z"
   },
   {
    "duration": 29,
    "start_time": "2024-01-26T12:56:30.776Z"
   },
   {
    "duration": 35,
    "start_time": "2024-01-26T12:56:30.807Z"
   },
   {
    "duration": 31,
    "start_time": "2024-01-26T12:56:30.844Z"
   },
   {
    "duration": 30,
    "start_time": "2024-01-26T12:56:30.877Z"
   },
   {
    "duration": 35,
    "start_time": "2024-01-26T12:56:30.908Z"
   },
   {
    "duration": 87,
    "start_time": "2024-01-26T12:56:30.945Z"
   },
   {
    "duration": 121,
    "start_time": "2024-01-26T12:56:31.034Z"
   },
   {
    "duration": 370,
    "start_time": "2024-01-26T12:56:31.157Z"
   },
   {
    "duration": 5,
    "start_time": "2024-01-26T12:56:31.529Z"
   },
   {
    "duration": 499,
    "start_time": "2024-01-26T12:56:31.535Z"
   },
   {
    "duration": 232,
    "start_time": "2024-01-26T12:56:32.035Z"
   },
   {
    "duration": 1910,
    "start_time": "2024-01-26T12:56:32.269Z"
   },
   {
    "duration": 221,
    "start_time": "2024-01-26T12:56:34.182Z"
   },
   {
    "duration": 7,
    "start_time": "2024-01-26T12:56:34.404Z"
   },
   {
    "duration": 19,
    "start_time": "2024-01-26T12:56:34.412Z"
   },
   {
    "duration": 23,
    "start_time": "2024-01-26T12:56:34.433Z"
   },
   {
    "duration": 36,
    "start_time": "2024-01-26T12:56:34.458Z"
   },
   {
    "duration": 13,
    "start_time": "2024-01-26T12:56:34.496Z"
   },
   {
    "duration": 26,
    "start_time": "2024-01-26T12:56:34.510Z"
   },
   {
    "duration": 9,
    "start_time": "2024-01-26T12:56:34.538Z"
   },
   {
    "duration": 37,
    "start_time": "2024-01-26T12:56:34.549Z"
   },
   {
    "duration": 4,
    "start_time": "2024-01-26T12:56:34.588Z"
   },
   {
    "duration": 36,
    "start_time": "2024-01-26T12:56:34.593Z"
   },
   {
    "duration": 40,
    "start_time": "2024-01-26T12:56:34.631Z"
   },
   {
    "duration": 18,
    "start_time": "2024-01-26T12:56:34.673Z"
   },
   {
    "duration": 17,
    "start_time": "2024-01-26T12:56:34.692Z"
   },
   {
    "duration": 819,
    "start_time": "2024-01-26T12:56:34.711Z"
   },
   {
    "duration": 3,
    "start_time": "2024-01-26T12:56:35.532Z"
   },
   {
    "duration": 18,
    "start_time": "2024-01-26T12:56:35.537Z"
   },
   {
    "duration": 30,
    "start_time": "2024-01-26T12:56:35.556Z"
   },
   {
    "duration": 11,
    "start_time": "2024-01-26T12:56:35.588Z"
   },
   {
    "duration": 17,
    "start_time": "2024-01-26T12:56:35.600Z"
   },
   {
    "duration": 988,
    "start_time": "2024-01-26T12:56:35.618Z"
   },
   {
    "duration": 7,
    "start_time": "2024-01-26T12:56:36.608Z"
   }
  ],
  "kernelspec": {
   "display_name": "Python 3 (ipykernel)",
   "language": "python",
   "name": "python3"
  },
  "language_info": {
   "codemirror_mode": {
    "name": "ipython",
    "version": 3
   },
   "file_extension": ".py",
   "mimetype": "text/x-python",
   "name": "python",
   "nbconvert_exporter": "python",
   "pygments_lexer": "ipython3",
   "version": "3.9.5"
  },
  "toc": {
   "base_numbering": 1,
   "nav_menu": {},
   "number_sections": true,
   "sideBar": true,
   "skip_h1_title": true,
   "title_cell": "Table of Contents",
   "title_sidebar": "Contents",
   "toc_cell": false,
   "toc_position": {
    "height": "calc(100% - 180px)",
    "left": "10px",
    "top": "150px",
    "width": "305.6px"
   },
   "toc_section_display": true,
   "toc_window_display": true
  }
 },
 "nbformat": 4,
 "nbformat_minor": 5
}
