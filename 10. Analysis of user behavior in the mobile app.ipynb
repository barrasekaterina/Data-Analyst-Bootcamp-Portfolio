{
 "cells": [
  {
   "cell_type": "markdown",
   "metadata": {},
   "source": [
    "# Сборный проект: \"Анализ Воронки Продаж и Оценка Эффективности A/A/B-Теста в Мобильном Приложении Продовольственного Стартапа\""
   ]
  },
  {
   "cell_type": "markdown",
   "metadata": {},
   "source": [
    "**Описание проекта**\n",
    "\n",
    "Вы работаете в стартапе, который продаёт продукты питания. Нужно разобраться, как ведут себя пользователи вашего мобильного приложения. \n",
    "\n",
    "Изучите воронку продаж. Узнайте, как пользователи доходят до покупки. Сколько пользователей доходит до покупки, а сколько — «застревает» на предыдущих шагах? На каких именно?\n",
    "После этого исследуйте результаты A/A/B-эксперимента. Дизайнеры захотели поменять шрифты во всём приложении, а менеджеры испугались, что пользователям будет непривычно. Договорились принять решение по результатам A/A/B-теста. Пользователей разбили на 3 группы: 2 контрольные со старыми шрифтами и одну экспериментальную — с новыми. Выясните, какой шрифт лучше.\n",
    "\n",
    "Создание двух групп A вместо одной имеет определённые преимущества. Если две контрольные группы окажутся равны, вы можете быть уверены в точности проведенного тестирования. Если же между значениями A и A будут существенные различия, это поможет обнаружить факторы, которые привели к искажению результатов. Сравнение контрольных групп также помогает понять, сколько времени и данных потребуется для дальнейших тестов.\n",
    "В случае общей аналитики и A/A/B-эксперимента работайте с одними и теми же данными. В реальных проектах всегда идут эксперименты. Аналитики исследуют качество работы приложения по общим данным, не учитывая принадлежность пользователей к экспериментам."
   ]
  },
  {
   "cell_type": "markdown",
   "metadata": {},
   "source": [
    "<hr style=\"border: 1px solid black;\">"
   ]
  },
  {
   "cell_type": "markdown",
   "metadata": {},
   "source": [
    "# Основные этапы проекта:"
   ]
  },
  {
   "cell_type": "markdown",
   "metadata": {},
   "source": [
    "Проект включал ряд шагов по подготовке и анализу данных, а также проведение A/A/B-тестирования для оценки влияния изменения шрифтов в мобильном приложении на поведение пользователей. Основные этапы проекта охватывали:\n",
    "\n",
    "**Подготовку данных:** данные были тщательно подготовлены, включая переименование столбцов для удобства, удаление дубликатов для повышения точности данных, и преобразование дат в соответствующий формат для упрощения анализа.\n",
    "\n",
    "**Проверку полноты данных и отсутствие пересечений между группами:** было подтверждено, что данные полны и не содержат пропусков. Также была выполнена проверка на пересечение пользователей между экспериментальными группами, исключая возможность нарушения условий чистоты эксперимента.\n",
    "\n",
    "**Анализ воронки событий и результатов A/A/B-тестирования:** было проанализировано поведение пользователей в мобильном приложении, включая частоту встречаемости различных событий. Кроме того, проведен статистический анализ для оценки различий между контрольными и экспериментальными группами, что позволило оценить влияние изменений в приложении.\n",
    "\n",
    "**Статистическая проверка гипотез:** использование Z-теста для сравнения долей показало, что нет статистически значимых различий между долями пользователей, совершивших ключевые действия в приложении, в различных группах. Это указывает на то, что изменение шрифтов не оказало значительного влияния на поведение пользователей.\n",
    "\n",
    "**Выводы из эксперимента:** на основании проведенного анализа было сделано заключение о том, что изменение шрифтов в мобильном приложении не привело к статистически значимым изменениям в поведении пользователей. Эксперимент подтвердил корректность разбиения пользователей на группы и показал, что система сплитования работает надежно."
   ]
  },
  {
   "cell_type": "markdown",
   "metadata": {},
   "source": [
    "<hr style=\"border: 1px solid black;\">"
   ]
  },
  {
   "cell_type": "code",
   "execution_count": 1,
   "metadata": {},
   "outputs": [],
   "source": [
    "# Импортируем необходимые библиотеки\n",
    "from scipy import stats as st\n",
    "import numpy as np\n",
    "import pandas as pd  \n",
    "import matplotlib.pyplot as plt  \n",
    "import datetime as dt\n",
    "from scipy.stats import norm\n",
    "from statsmodels.stats.proportion import proportions_ztest"
   ]
  },
  {
   "cell_type": "markdown",
   "metadata": {},
   "source": [
    "<hr style=\"border: 1px solid black;\">"
   ]
  },
  {
   "cell_type": "markdown",
   "metadata": {},
   "source": [
    "# **Шаг 1. Откройте файл с данными и изучите общую информацию**"
   ]
  },
  {
   "cell_type": "code",
   "execution_count": 2,
   "metadata": {},
   "outputs": [],
   "source": [
    "# Загрузка данных\n",
    "file_path = '/datasets/logs_exp.csv'\n",
    "logs_exp = pd.read_csv(file_path, sep='\\t')"
   ]
  },
  {
   "cell_type": "code",
   "execution_count": 3,
   "metadata": {},
   "outputs": [
    {
     "data": {
      "text/html": [
       "<div>\n",
       "<style scoped>\n",
       "    .dataframe tbody tr th:only-of-type {\n",
       "        vertical-align: middle;\n",
       "    }\n",
       "\n",
       "    .dataframe tbody tr th {\n",
       "        vertical-align: top;\n",
       "    }\n",
       "\n",
       "    .dataframe thead th {\n",
       "        text-align: right;\n",
       "    }\n",
       "</style>\n",
       "<table border=\"1\" class=\"dataframe\">\n",
       "  <thead>\n",
       "    <tr style=\"text-align: right;\">\n",
       "      <th></th>\n",
       "      <th>EventName</th>\n",
       "      <th>DeviceIDHash</th>\n",
       "      <th>EventTimestamp</th>\n",
       "      <th>ExpId</th>\n",
       "    </tr>\n",
       "  </thead>\n",
       "  <tbody>\n",
       "    <tr>\n",
       "      <th>0</th>\n",
       "      <td>MainScreenAppear</td>\n",
       "      <td>4575588528974610257</td>\n",
       "      <td>1564029816</td>\n",
       "      <td>246</td>\n",
       "    </tr>\n",
       "    <tr>\n",
       "      <th>1</th>\n",
       "      <td>MainScreenAppear</td>\n",
       "      <td>7416695313311560658</td>\n",
       "      <td>1564053102</td>\n",
       "      <td>246</td>\n",
       "    </tr>\n",
       "    <tr>\n",
       "      <th>2</th>\n",
       "      <td>PaymentScreenSuccessful</td>\n",
       "      <td>3518123091307005509</td>\n",
       "      <td>1564054127</td>\n",
       "      <td>248</td>\n",
       "    </tr>\n",
       "    <tr>\n",
       "      <th>3</th>\n",
       "      <td>CartScreenAppear</td>\n",
       "      <td>3518123091307005509</td>\n",
       "      <td>1564054127</td>\n",
       "      <td>248</td>\n",
       "    </tr>\n",
       "    <tr>\n",
       "      <th>4</th>\n",
       "      <td>PaymentScreenSuccessful</td>\n",
       "      <td>6217807653094995999</td>\n",
       "      <td>1564055322</td>\n",
       "      <td>248</td>\n",
       "    </tr>\n",
       "  </tbody>\n",
       "</table>\n",
       "</div>"
      ],
      "text/plain": [
       "                 EventName         DeviceIDHash  EventTimestamp  ExpId\n",
       "0         MainScreenAppear  4575588528974610257      1564029816    246\n",
       "1         MainScreenAppear  7416695313311560658      1564053102    246\n",
       "2  PaymentScreenSuccessful  3518123091307005509      1564054127    248\n",
       "3         CartScreenAppear  3518123091307005509      1564054127    248\n",
       "4  PaymentScreenSuccessful  6217807653094995999      1564055322    248"
      ]
     },
     "execution_count": 3,
     "metadata": {},
     "output_type": "execute_result"
    }
   ],
   "source": [
    "# Отображение первых строк и общей информации о данных\n",
    "logs_exp.head()"
   ]
  },
  {
   "cell_type": "code",
   "execution_count": 4,
   "metadata": {},
   "outputs": [
    {
     "name": "stdout",
     "output_type": "stream",
     "text": [
      "<class 'pandas.core.frame.DataFrame'>\n",
      "RangeIndex: 244126 entries, 0 to 244125\n",
      "Data columns (total 4 columns):\n",
      " #   Column          Non-Null Count   Dtype \n",
      "---  ------          --------------   ----- \n",
      " 0   EventName       244126 non-null  object\n",
      " 1   DeviceIDHash    244126 non-null  int64 \n",
      " 2   EventTimestamp  244126 non-null  int64 \n",
      " 3   ExpId           244126 non-null  int64 \n",
      "dtypes: int64(3), object(1)\n",
      "memory usage: 7.5+ MB\n"
     ]
    }
   ],
   "source": [
    "# Отображение общей информации о данных, включая типы данных и количество непустых значений в каждом столбце\n",
    "logs_exp.info()"
   ]
  },
  {
   "cell_type": "markdown",
   "metadata": {},
   "source": [
    "Этот набор данных содержит информацию о пользовательских событиях в мобильном приложении. Всего в нем четыре столбца: EventName, DeviceIDHash, EventTimestamp и ExpId. \n",
    "\n",
    "- **EventName** обозначает название события, например появление основного экрана (MainScreenAppear) или успешное завершение платежа (PaymentScreenSuccessful).\n",
    "- **DeviceIDHash** — это уникальный идентификатор устройства пользователя.\n",
    "- **EventTimestamp** представляет собой временную метку события.\n",
    "- **ExpId** указывает на экспериментальную группу, в которую был включен пользователь.\n",
    "\n",
    "Всего в наборе данных 244126 записей, и все столбцы полностью заполнены. Типы данных в столбцах следующие: EventName является текстовым объектом, в то время как DeviceIDHash, EventTimestamp и ExpId — числовыми значениями целочисленного типа. Общий объем используемой памяти данных составляет 7.5 МБ."
   ]
  },
  {
   "cell_type": "markdown",
   "metadata": {},
   "source": [
    "**Промежуточный Вывод:**\n",
    "\n",
    "Данный анализ представляет собой изучение данных о событиях в мобильном приложении, собранных в рамках эксперимента. Фрейм данных содержит 244126 записей, разделенных на 4 столбца: название события (EventName), уникальный идентификатор пользователя (DeviceIDHash), временную метку события (EventTimestamp) и идентификатор эксперимента (ExpId). Столбцы представлены в различных типах данных: строковый для названий событий и целочисленный для остальных параметров. Эти данные позволяют анализировать поведение пользователей в приложении, выявляя, какие действия они выполняют, когда эти действия происходят, и как это соотносится с различными экспериментальными группами. Такой подход может быть использован для оптимизации пользовательского интерфейса и повышения эффективности маркетинговых стратегий."
   ]
  },
  {
   "cell_type": "markdown",
   "metadata": {},
   "source": [
    "<hr style=\"border: 1px solid black;\">"
   ]
  },
  {
   "cell_type": "markdown",
   "metadata": {},
   "source": [
    "# **Шаг 2: Подготовка данных**"
   ]
  },
  {
   "cell_type": "markdown",
   "metadata": {},
   "source": [
    "**Замена названий столбцов для удобства работы: приведение к более понятным и коротким именам.**"
   ]
  },
  {
   "cell_type": "code",
   "execution_count": 5,
   "metadata": {},
   "outputs": [],
   "source": [
    "# Замена названий столбцов\n",
    "logs_exp.columns = ['event_name', 'user_id', 'event_timestamp', 'exp_id']"
   ]
  },
  {
   "cell_type": "markdown",
   "metadata": {},
   "source": [
    "**Проверка на наличие пропусков: пропущенные значения не обнаружены в данных.**"
   ]
  },
  {
   "cell_type": "code",
   "execution_count": 6,
   "metadata": {},
   "outputs": [
    {
     "data": {
      "text/plain": [
       "event_name         0\n",
       "user_id            0\n",
       "event_timestamp    0\n",
       "exp_id             0\n",
       "dtype: int64"
      ]
     },
     "execution_count": 6,
     "metadata": {},
     "output_type": "execute_result"
    }
   ],
   "source": [
    "# Проверка на наличие пропусков\n",
    "missing_values = logs_exp.isnull().sum()\n",
    "\n",
    "missing_values"
   ]
  },
  {
   "cell_type": "markdown",
   "metadata": {},
   "source": [
    "**Удаление дубликатов: было обнаружено и удалено 413 дублирующих записей, что улучшает качество данных для анализа.**"
   ]
  },
  {
   "cell_type": "code",
   "execution_count": 7,
   "metadata": {},
   "outputs": [
    {
     "data": {
      "text/plain": [
       "413"
      ]
     },
     "execution_count": 7,
     "metadata": {},
     "output_type": "execute_result"
    }
   ],
   "source": [
    "# Подсчет количества дубликатов в данных\n",
    "logs_exp.duplicated().sum()"
   ]
  },
  {
   "cell_type": "code",
   "execution_count": 8,
   "metadata": {},
   "outputs": [],
   "source": [
    "# Удаление дубликатов из данных\n",
    "logs_exp = logs_exp.drop_duplicates()"
   ]
  },
  {
   "cell_type": "markdown",
   "metadata": {},
   "source": [
    "**Добавление столбцов с датой и временем: преобразование Unix timestamp в более удобные для восприятия форматы даты и времени. Это позволяет проводить временной анализ событий.**"
   ]
  },
  {
   "cell_type": "code",
   "execution_count": 9,
   "metadata": {},
   "outputs": [],
   "source": [
    "# Преобразование timestamp в формат даты и времени и добавление его в отдельный столбец\n",
    "logs_exp['datetime'] = pd.to_datetime(logs_exp['event_timestamp'], unit='s')"
   ]
  },
  {
   "cell_type": "code",
   "execution_count": 10,
   "metadata": {},
   "outputs": [],
   "source": [
    "# Добавление отдельного столбца только для даты\n",
    "logs_exp['date'] = logs_exp['datetime'].dt.date"
   ]
  },
  {
   "cell_type": "code",
   "execution_count": 11,
   "metadata": {},
   "outputs": [],
   "source": [
    "# Преобразование столбца 'date' в тип datetime64\n",
    "logs_exp['date'] = logs_exp['date'].astype('datetime64')"
   ]
  },
  {
   "cell_type": "markdown",
   "metadata": {},
   "source": [
    "**Проверка на пересечение пользователей между экспериментальными группами: подтверждено отсутствие пользователей, которые были бы включены в более чем одну экспериментальную группу.**"
   ]
  },
  {
   "cell_type": "code",
   "execution_count": 12,
   "metadata": {},
   "outputs": [],
   "source": [
    "# Проверка на пересечение пользователей между экспериментальными группами\n",
    "user_groups = logs_exp.groupby('user_id')['exp_id'].nunique()"
   ]
  },
  {
   "cell_type": "code",
   "execution_count": 13,
   "metadata": {},
   "outputs": [
    {
     "data": {
      "text/plain": [
       "Series([], Name: exp_id, dtype: int64)"
      ]
     },
     "execution_count": 13,
     "metadata": {},
     "output_type": "execute_result"
    }
   ],
   "source": [
    "# Пользователи, находящиеся в более чем одной экспериментальной группе\n",
    "users_in_multiple_groups = user_groups[user_groups > 1]\n",
    "users_in_multiple_groups"
   ]
  },
  {
   "cell_type": "markdown",
   "metadata": {},
   "source": [
    "**Промежуточный Вывод:**\n",
    "\n",
    "В ходе подготовки данных были выполнены ключевые шаги: заменены названия столбцов для удобства, проверено отсутствие пропусков, удалены дубликаты (413 записей), добавлены столбцы для даты и времени из Unix timestamp, и подтверждено, что пользователи не пересекаются между экспериментальными группами. Эти действия обеспечивают точность и надежность последующего анализа."
   ]
  },
  {
   "cell_type": "markdown",
   "metadata": {},
   "source": [
    "<hr style=\"border: 1px solid black;\">"
   ]
  },
  {
   "cell_type": "markdown",
   "metadata": {},
   "source": [
    "# **Шаг 3. Изучите и проверьте данные**"
   ]
  },
  {
   "cell_type": "markdown",
   "metadata": {},
   "source": [
    "**Сколько всего событий в логе?**"
   ]
  },
  {
   "cell_type": "code",
   "execution_count": 14,
   "metadata": {},
   "outputs": [
    {
     "data": {
      "text/plain": [
       "243713"
      ]
     },
     "execution_count": 14,
     "metadata": {},
     "output_type": "execute_result"
    }
   ],
   "source": [
    "total_events = logs_exp.shape[0]\n",
    "total_events"
   ]
  },
  {
   "cell_type": "markdown",
   "metadata": {},
   "source": [
    "Общее количество событий в логе: 244,126"
   ]
  },
  {
   "cell_type": "markdown",
   "metadata": {},
   "source": [
    "**Сколько всего пользователей в логе?**"
   ]
  },
  {
   "cell_type": "code",
   "execution_count": 15,
   "metadata": {},
   "outputs": [
    {
     "data": {
      "text/plain": [
       "7551"
      ]
     },
     "execution_count": 15,
     "metadata": {},
     "output_type": "execute_result"
    }
   ],
   "source": [
    "unique_users = logs_exp['user_id'].nunique()\n",
    "unique_users"
   ]
  },
  {
   "cell_type": "markdown",
   "metadata": {},
   "source": [
    "Общее количество уникальных пользователей в логе: 7,551"
   ]
  },
  {
   "cell_type": "markdown",
   "metadata": {},
   "source": [
    "**Сколько в среднем событий приходится на пользователя?**"
   ]
  },
  {
   "cell_type": "code",
   "execution_count": 16,
   "metadata": {},
   "outputs": [
    {
     "data": {
      "text/plain": [
       "32.27559263673685"
      ]
     },
     "execution_count": 16,
     "metadata": {},
     "output_type": "execute_result"
    }
   ],
   "source": [
    "average_events_per_user = total_events / unique_users\n",
    "average_events_per_user"
   ]
  },
  {
   "cell_type": "markdown",
   "metadata": {},
   "source": [
    "Среднее количество событий на пользователя: примерно 32.3"
   ]
  },
  {
   "cell_type": "markdown",
   "metadata": {},
   "source": [
    "**Данными за какой период вы располагаете? Найдите максимальную и минимальную дату. Изучите, как меняется количество данных: постройте столбчатую диаграмму, которая отобразит количество событий в зависимости от времени в разрезе групп. Можно ли быть уверенным, что у вас одинаково полные данные за весь период? Технически в логи новых дней по некоторым пользователям могут «доезжать» события из прошлого — это может «перекашивать данные». Определите, с какого момента данные полные и отбросьте более старые. Данными за какой период времени вы располагаете на самом деле?**"
   ]
  },
  {
   "cell_type": "markdown",
   "metadata": {},
   "source": [
    "**Данными за какой период вы располагаете? Найдите максимальную и минимальную дату.**"
   ]
  },
  {
   "cell_type": "code",
   "execution_count": 17,
   "metadata": {},
   "outputs": [
    {
     "name": "stdout",
     "output_type": "stream",
     "text": [
      "2019-07-25 04:43:36\n",
      "2019-08-07 21:15:17\n"
     ]
    }
   ],
   "source": [
    "# Нахождение минимальной и максимальной даты\n",
    "max_date = logs_exp['datetime'].max()\n",
    "min_date = logs_exp['datetime'].min()\n",
    "\n",
    "print(min_date)\n",
    "print(max_date)"
   ]
  },
  {
   "cell_type": "markdown",
   "metadata": {},
   "source": [
    "Период данных: с 25 июля 2019 года 04:43:36 до 7 августа 2019 года 21:15:17"
   ]
  },
  {
   "cell_type": "markdown",
   "metadata": {},
   "source": [
    "**Изучите, как меняется количество данных: постройте столбчатую диаграмму, которая отобразит количество событий в зависимости от времени в разрезе групп.**"
   ]
  },
  {
   "cell_type": "code",
   "execution_count": 18,
   "metadata": {},
   "outputs": [
    {
     "data": {
      "image/png": "[encoded data removed]",
      "text/plain": [
       "<Figure size 864x432 with 1 Axes>"
      ]
     },
     "metadata": {
      "needs_background": "light"
     },
     "output_type": "display_data"
    }
   ],
   "source": [
    "# Группировка данных по дате и экспериментальной группе для подсчета событий\n",
    "events_by_date_group = logs_exp.groupby(['date', 'exp_id']).size().unstack(fill_value=0)\n",
    "\n",
    "# Построение столбчатой диаграммы\n",
    "events_by_date_group.plot(kind='bar', stacked=True, figsize=(12,6))\n",
    "plt.title('Количество событий в день по экспериментальным группам')\n",
    "plt.xlabel('Дата')\n",
    "plt.ylabel('Количество событий')\n",
    "plt.xticks(rotation=45)\n",
    "plt.legend(title='Экспериментальная группа')\n",
    "plt.grid(axis='y')\n",
    "plt.tight_layout()\n",
    "plt.show()"
   ]
  },
  {
   "cell_type": "markdown",
   "metadata": {},
   "source": [
    "**Можно ли быть уверенным, что у вас одинаково полные данные за весь период? Технически в логи новых дней по некоторым пользователям могут «доезжать» события из прошлого — это может «перекашивать данные».**"
   ]
  },
  {
   "cell_type": "markdown",
   "metadata": {},
   "source": [
    "На столбчатой диаграмме отображено количество событий по датам и группам эксперимента. Из диаграммы видно, что количество событий в различные дни неоднородно. Особенно малое количество событий наблюдается в начале периода, что может указывать на неполноту данных за эти даты. С течением времени количество событий увеличивается и становится более стабильным."
   ]
  },
  {
   "cell_type": "markdown",
   "metadata": {},
   "source": [
    "**Определите, с какого момента данные полные и отбросьте более старые. Данными за какой период времени вы располагаете на самом деле?**\n",
    "\n",
    "Чтобы определить, с какого момента данные можно считать полными, стоит исключить начальный период, где наблюдается значительное колебание в количестве событий. Основываясь на визуализации, полными данные могут считаться начиная примерно с 1 августа 2019 года, когда количество событий стабилизируется и сохраняется на одном уровне во всех группах.\n",
    "\n",
    "Анализ количества событий по датам показывает, что существенное увеличение количества событий происходит с 1 августа 2019 года. До этого дня количество событий нарастает, но остаётся относительно низким, что указывает на возможную неполноту данных. С 1 августа количество событий в день стабилизируется на уровне более 30 тысяч, что позволяет сделать вывод о том, что данные за период с 1 по 7 августа 2019 года можно считать полными и представительными для анализа.\n",
    "\n",
    "Таким образом, реально доступными для анализа данными являются записи за период с 1 по 7 августа 2019 года. "
   ]
  },
  {
   "cell_type": "code",
   "execution_count": 19,
   "metadata": {},
   "outputs": [
    {
     "data": {
      "text/html": [
       "<div>\n",
       "<style scoped>\n",
       "    .dataframe tbody tr th:only-of-type {\n",
       "        vertical-align: middle;\n",
       "    }\n",
       "\n",
       "    .dataframe tbody tr th {\n",
       "        vertical-align: top;\n",
       "    }\n",
       "\n",
       "    .dataframe thead th {\n",
       "        text-align: right;\n",
       "    }\n",
       "</style>\n",
       "<table border=\"1\" class=\"dataframe\">\n",
       "  <thead>\n",
       "    <tr style=\"text-align: right;\">\n",
       "      <th></th>\n",
       "      <th>event_name</th>\n",
       "      <th>user_id</th>\n",
       "      <th>event_timestamp</th>\n",
       "      <th>exp_id</th>\n",
       "      <th>datetime</th>\n",
       "      <th>date</th>\n",
       "    </tr>\n",
       "  </thead>\n",
       "  <tbody>\n",
       "    <tr>\n",
       "      <th>2828</th>\n",
       "      <td>Tutorial</td>\n",
       "      <td>3737462046622621720</td>\n",
       "      <td>1564618048</td>\n",
       "      <td>246</td>\n",
       "      <td>2019-08-01 00:07:28</td>\n",
       "      <td>2019-08-01</td>\n",
       "    </tr>\n",
       "    <tr>\n",
       "      <th>2829</th>\n",
       "      <td>MainScreenAppear</td>\n",
       "      <td>3737462046622621720</td>\n",
       "      <td>1564618080</td>\n",
       "      <td>246</td>\n",
       "      <td>2019-08-01 00:08:00</td>\n",
       "      <td>2019-08-01</td>\n",
       "    </tr>\n",
       "    <tr>\n",
       "      <th>2830</th>\n",
       "      <td>MainScreenAppear</td>\n",
       "      <td>3737462046622621720</td>\n",
       "      <td>1564618135</td>\n",
       "      <td>246</td>\n",
       "      <td>2019-08-01 00:08:55</td>\n",
       "      <td>2019-08-01</td>\n",
       "    </tr>\n",
       "    <tr>\n",
       "      <th>2831</th>\n",
       "      <td>OffersScreenAppear</td>\n",
       "      <td>3737462046622621720</td>\n",
       "      <td>1564618138</td>\n",
       "      <td>246</td>\n",
       "      <td>2019-08-01 00:08:58</td>\n",
       "      <td>2019-08-01</td>\n",
       "    </tr>\n",
       "    <tr>\n",
       "      <th>2832</th>\n",
       "      <td>MainScreenAppear</td>\n",
       "      <td>1433840883824088890</td>\n",
       "      <td>1564618139</td>\n",
       "      <td>247</td>\n",
       "      <td>2019-08-01 00:08:59</td>\n",
       "      <td>2019-08-01</td>\n",
       "    </tr>\n",
       "    <tr>\n",
       "      <th>...</th>\n",
       "      <td>...</td>\n",
       "      <td>...</td>\n",
       "      <td>...</td>\n",
       "      <td>...</td>\n",
       "      <td>...</td>\n",
       "      <td>...</td>\n",
       "    </tr>\n",
       "    <tr>\n",
       "      <th>244121</th>\n",
       "      <td>MainScreenAppear</td>\n",
       "      <td>4599628364049201812</td>\n",
       "      <td>1565212345</td>\n",
       "      <td>247</td>\n",
       "      <td>2019-08-07 21:12:25</td>\n",
       "      <td>2019-08-07</td>\n",
       "    </tr>\n",
       "    <tr>\n",
       "      <th>244122</th>\n",
       "      <td>MainScreenAppear</td>\n",
       "      <td>5849806612437486590</td>\n",
       "      <td>1565212439</td>\n",
       "      <td>246</td>\n",
       "      <td>2019-08-07 21:13:59</td>\n",
       "      <td>2019-08-07</td>\n",
       "    </tr>\n",
       "    <tr>\n",
       "      <th>244123</th>\n",
       "      <td>MainScreenAppear</td>\n",
       "      <td>5746969938801999050</td>\n",
       "      <td>1565212483</td>\n",
       "      <td>246</td>\n",
       "      <td>2019-08-07 21:14:43</td>\n",
       "      <td>2019-08-07</td>\n",
       "    </tr>\n",
       "    <tr>\n",
       "      <th>244124</th>\n",
       "      <td>MainScreenAppear</td>\n",
       "      <td>5746969938801999050</td>\n",
       "      <td>1565212498</td>\n",
       "      <td>246</td>\n",
       "      <td>2019-08-07 21:14:58</td>\n",
       "      <td>2019-08-07</td>\n",
       "    </tr>\n",
       "    <tr>\n",
       "      <th>244125</th>\n",
       "      <td>OffersScreenAppear</td>\n",
       "      <td>5746969938801999050</td>\n",
       "      <td>1565212517</td>\n",
       "      <td>246</td>\n",
       "      <td>2019-08-07 21:15:17</td>\n",
       "      <td>2019-08-07</td>\n",
       "    </tr>\n",
       "  </tbody>\n",
       "</table>\n",
       "<p>240887 rows × 6 columns</p>\n",
       "</div>"
      ],
      "text/plain": [
       "                event_name              user_id  event_timestamp  exp_id  \\\n",
       "2828              Tutorial  3737462046622621720       1564618048     246   \n",
       "2829      MainScreenAppear  3737462046622621720       1564618080     246   \n",
       "2830      MainScreenAppear  3737462046622621720       1564618135     246   \n",
       "2831    OffersScreenAppear  3737462046622621720       1564618138     246   \n",
       "2832      MainScreenAppear  1433840883824088890       1564618139     247   \n",
       "...                    ...                  ...              ...     ...   \n",
       "244121    MainScreenAppear  4599628364049201812       1565212345     247   \n",
       "244122    MainScreenAppear  5849806612437486590       1565212439     246   \n",
       "244123    MainScreenAppear  5746969938801999050       1565212483     246   \n",
       "244124    MainScreenAppear  5746969938801999050       1565212498     246   \n",
       "244125  OffersScreenAppear  5746969938801999050       1565212517     246   \n",
       "\n",
       "                  datetime       date  \n",
       "2828   2019-08-01 00:07:28 2019-08-01  \n",
       "2829   2019-08-01 00:08:00 2019-08-01  \n",
       "2830   2019-08-01 00:08:55 2019-08-01  \n",
       "2831   2019-08-01 00:08:58 2019-08-01  \n",
       "2832   2019-08-01 00:08:59 2019-08-01  \n",
       "...                    ...        ...  \n",
       "244121 2019-08-07 21:12:25 2019-08-07  \n",
       "244122 2019-08-07 21:13:59 2019-08-07  \n",
       "244123 2019-08-07 21:14:43 2019-08-07  \n",
       "244124 2019-08-07 21:14:58 2019-08-07  \n",
       "244125 2019-08-07 21:15:17 2019-08-07  \n",
       "\n",
       "[240887 rows x 6 columns]"
      ]
     },
     "execution_count": 19,
     "metadata": {},
     "output_type": "execute_result"
    }
   ],
   "source": [
    "# Фильтрация данных, начиная с 1 августа 2019 года\n",
    "filtered_logs = logs_exp[logs_exp['date'] >= pd.to_datetime('2019-08-01')]\n",
    "filtered_logs"
   ]
  },
  {
   "cell_type": "markdown",
   "metadata": {},
   "source": [
    "**Много ли событий и пользователей вы потеряли, отбросив старые данные?**"
   ]
  },
  {
   "cell_type": "code",
   "execution_count": 20,
   "metadata": {},
   "outputs": [
    {
     "name": "stdout",
     "output_type": "stream",
     "text": [
      "2826\n",
      "17\n"
     ]
    }
   ],
   "source": [
    "# Подсчет потерянных событий и пользователей после фильтрации\n",
    "lost_events = total_events - filtered_logs.shape[0]\n",
    "lost_users = unique_users - filtered_logs['user_id'].nunique()\n",
    "\n",
    "print(lost_events)\n",
    "print(lost_users)"
   ]
  },
  {
   "cell_type": "markdown",
   "metadata": {},
   "source": [
    "После исключения данных до 1 августа 2019 года было потеряно 2 828 событий, что составляет менее 1.2% от общего числа событий. Количество уникальных пользователей сократилось с 7 551 до 7 534, что указывает на утрату 17 пользователей. Эти потери незначительны по сравнению с общим объемом данных, что свидетельствует о том, что основная часть данных остается неизменной и пригодна для анализа."
   ]
  },
  {
   "cell_type": "markdown",
   "metadata": {},
   "source": [
    "**Проверьте, что у вас есть пользователи из всех трёх экспериментальных групп.**"
   ]
  },
  {
   "cell_type": "code",
   "execution_count": 21,
   "metadata": {},
   "outputs": [
    {
     "data": {
      "text/plain": [
       "exp_id\n",
       "246    2484\n",
       "247    2513\n",
       "248    2537\n",
       "Name: user_id, dtype: int64"
      ]
     },
     "execution_count": 21,
     "metadata": {},
     "output_type": "execute_result"
    }
   ],
   "source": [
    "# Проверка наличия пользователей из всех трех экспериментальных групп\n",
    "users_in_groups = filtered_logs.groupby('exp_id')['user_id'].nunique()\n",
    "\n",
    "users_in_groups"
   ]
  },
  {
   "cell_type": "markdown",
   "metadata": {},
   "source": [
    "В отфильтрованных данных также присутствуют пользователи из всех трех экспериментальных групп (246, 247 и 248), что обеспечивает возможность проведения корректного анализа в разрезе экспериментальных групп."
   ]
  },
  {
   "cell_type": "markdown",
   "metadata": {},
   "source": [
    "**Промежуточный Вывод:**\n",
    "\n",
    "1. Данные охватывают период с 25 июля 2019 года по 7 августа 2019 года.\n",
    "2. После анализа количества событий по датам и группам эксперимента выявлена неравномерность данных в начале периода, что может свидетельствовать о неполноте данных.\n",
    "3. Определено, что начиная с 1 августа 2019 года данные становятся более стабильными и полными.\n",
    "4. После фильтрации данных до 1 августа было потеряно незначительное количество событий (менее 1.2%) и пользователей (17), что несущественно для анализа.\n",
    "5. Проверка показала, что в отфильтрованных данных присутствуют пользователи из всех трех экспериментальных групп, что важно для корректного анализа результатов эксперимента.\n",
    "6. Таким образом, я могу продолжать анализировать данные, начиная с 1 августа 2019 года, с уверенностью в их полноте и репрезентативности."
   ]
  },
  {
   "cell_type": "markdown",
   "metadata": {},
   "source": [
    "<hr style=\"border: 1px solid black;\">"
   ]
  },
  {
   "cell_type": "markdown",
   "metadata": {},
   "source": [
    "# **Шаг 4. Изучите воронку событий**"
   ]
  },
  {
   "cell_type": "markdown",
   "metadata": {},
   "source": [
    "**Посмотрите, какие события есть в логах, как часто они встречаются. Отсортируйте события по частоте.**"
   ]
  },
  {
   "cell_type": "code",
   "execution_count": 22,
   "metadata": {},
   "outputs": [
    {
     "data": {
      "text/plain": [
       "MainScreenAppear           117328\n",
       "OffersScreenAppear          46333\n",
       "CartScreenAppear            42303\n",
       "PaymentScreenSuccessful     33918\n",
       "Tutorial                     1005\n",
       "Name: event_name, dtype: int64"
      ]
     },
     "execution_count": 22,
     "metadata": {},
     "output_type": "execute_result"
    }
   ],
   "source": [
    "# Подсчет частоты событий в логах\n",
    "event_frequency = filtered_logs['event_name'].value_counts().sort_values(ascending=False)\n",
    "event_frequency"
   ]
  },
  {
   "cell_type": "markdown",
   "metadata": {},
   "source": [
    "После анализа логов обнаружены следующие события и их частота встречаемости (отсортированы по убыванию):\n",
    "\n",
    "1. MainScreenAppear (Отображение главного экрана) - 117 328 раз\n",
    "2. OffersScreenAppear (Отображение экрана предложений) - 46 333 раза\n",
    "3. CartScreenAppear (Отображение экрана корзины) - 42 303 раза\n",
    "4. PaymentScreenSuccessful (Успешное отображение экрана оплаты) - 33 918 раз\n",
    "5. Tutorial (Обучение) - 1 005 раз"
   ]
  },
  {
   "cell_type": "markdown",
   "metadata": {},
   "source": [
    "**Посчитайте, сколько пользователей совершали каждое из этих событий. Отсортируйте события по числу пользователей. Посчитайте долю пользователей, которые хоть раз совершали событие.**"
   ]
  },
  {
   "cell_type": "code",
   "execution_count": 23,
   "metadata": {},
   "outputs": [
    {
     "data": {
      "text/html": [
       "<div>\n",
       "<style scoped>\n",
       "    .dataframe tbody tr th:only-of-type {\n",
       "        vertical-align: middle;\n",
       "    }\n",
       "\n",
       "    .dataframe tbody tr th {\n",
       "        vertical-align: top;\n",
       "    }\n",
       "\n",
       "    .dataframe thead th {\n",
       "        text-align: right;\n",
       "    }\n",
       "</style>\n",
       "<table border=\"1\" class=\"dataframe\">\n",
       "  <thead>\n",
       "    <tr style=\"text-align: right;\">\n",
       "      <th></th>\n",
       "      <th>Users</th>\n",
       "      <th>Percentage</th>\n",
       "    </tr>\n",
       "    <tr>\n",
       "      <th>event_name</th>\n",
       "      <th></th>\n",
       "      <th></th>\n",
       "    </tr>\n",
       "  </thead>\n",
       "  <tbody>\n",
       "    <tr>\n",
       "      <th>MainScreenAppear</th>\n",
       "      <td>7419</td>\n",
       "      <td>98.47%</td>\n",
       "    </tr>\n",
       "    <tr>\n",
       "      <th>OffersScreenAppear</th>\n",
       "      <td>4593</td>\n",
       "      <td>60.96%</td>\n",
       "    </tr>\n",
       "    <tr>\n",
       "      <th>CartScreenAppear</th>\n",
       "      <td>3734</td>\n",
       "      <td>49.56%</td>\n",
       "    </tr>\n",
       "    <tr>\n",
       "      <th>PaymentScreenSuccessful</th>\n",
       "      <td>3539</td>\n",
       "      <td>46.97%</td>\n",
       "    </tr>\n",
       "    <tr>\n",
       "      <th>Tutorial</th>\n",
       "      <td>840</td>\n",
       "      <td>11.15%</td>\n",
       "    </tr>\n",
       "  </tbody>\n",
       "</table>\n",
       "</div>"
      ],
      "text/plain": [
       "                         Users Percentage\n",
       "event_name                               \n",
       "MainScreenAppear          7419     98.47%\n",
       "OffersScreenAppear        4593     60.96%\n",
       "CartScreenAppear          3734     49.56%\n",
       "PaymentScreenSuccessful   3539     46.97%\n",
       "Tutorial                   840     11.15%"
      ]
     },
     "execution_count": 23,
     "metadata": {},
     "output_type": "execute_result"
    }
   ],
   "source": [
    "# Подсчет количества уникальных пользователей для каждого события\n",
    "users_per_event = filtered_logs.groupby('event_name')['user_id'].nunique().sort_values(ascending=False)\n",
    "\n",
    "# Общее количество уникальных пользователей в отфильтрованных данных\n",
    "total_filtered_users = filtered_logs['user_id'].nunique()\n",
    "\n",
    "# Расчет доли пользователей, которые хоть раз совершали событие\n",
    "users_per_event_percentage = (users_per_event / total_filtered_users).map(lambda x: f\"{x:.2%}\")\n",
    "\n",
    "# Соединение результатов в один DataFrame для удобства представления\n",
    "event_user_statistics = pd.DataFrame({\n",
    "    'Users': users_per_event,\n",
    "    'Percentage': users_per_event_percentage\n",
    "})\n",
    "\n",
    "event_user_statistics"
   ]
  },
  {
   "cell_type": "markdown",
   "metadata": {},
   "source": [
    "После анализа логов было рассчитано количество пользователей, совершивших каждое из указанных событий, и их доля от общего числа пользователей:\n",
    "\n",
    "1. MainScreenAppear (Отображение главного экрана) - 7 419 пользователей, доля 98.47%\n",
    "2. OffersScreenAppear (Отображение экрана предложений) - 4 593 пользователя, доля 60.96%\n",
    "3. CartScreenAppear (Отображение экрана корзины) - 3 734 пользователя, доля 49.56%\n",
    "4. PaymentScreenSuccessful (Успешное отображение экрана оплаты) - 3 539 пользователей, доля 46.97%\n",
    "5. Tutorial (Обучение) - 840 пользователей, доля 11.15%\n",
    "\n",
    "Эти данные позволяют понять, какие этапы взаимодействия с приложением наиболее популярны среди пользователей, а также определить, насколько успешными являются конверсии на различных этапах пользовательского пути. Например, большинство пользователей (почти 99%) видели главный экран, но менее половины пользователей переходили на экран оплаты."
   ]
  },
  {
   "cell_type": "markdown",
   "metadata": {},
   "source": [
    "**Предположите, в каком порядке происходят события. Все ли они выстраиваются в последовательную цепочку? Их не нужно учитывать при расчёте воронки.**"
   ]
  },
  {
   "cell_type": "markdown",
   "metadata": {},
   "source": [
    "Исходя из названий и частоты событий, можно предположить следующий порядок взаимодействия пользователя с приложением, который выстраивается в типичную воронку продаж:\n",
    "\n",
    "1. **MainScreenAppear (Появление главного экрана)**: Пользователь запускает приложение и видит главный экран. Это начальная точка для большинства сценариев использования приложения.\n",
    "2. **OffersScreenAppear (Появление экрана предложений)**: После того как пользователь ознакомится с главным экраном, он может перейти к просмотру предложений. Этот шаг может включать в себя выбор конкретных товаров или услуг.\n",
    "3. **CartScreenAppear (Появление экрана корзины)**: Пользователь, заинтересованный в покупке, добавляет товары в корзину и переходит к её просмотру.\n",
    "4. **PaymentScreenSuccessful (Успешная оплата)**: Последний шаг в воронке продаж – успешная оплата выбранных товаров или услуг, что означает завершение транзакции.\n",
    "\n",
    "**Tutorial (Обучение)** не вписывается напрямую в эту цепочку, так как это событие может происходить в любой момент взаимодействия с приложением. Обучение может быть как вступительным, так и вызванным из какого-либо меню помощи в приложении. Пользователи могут пропустить этот шаг или вернуться к нему после изучения приложения. Следовательно, его не стоит учитывать при расчёте воронки, так как это не обязательный шаг для совершения покупки и может не отражать намерения пользователя совершить покупку.\n",
    "\n",
    "Таким образом, основные этапы воронки (за исключением обучения) выстраиваются в последовательную цепочку, отражающую путь пользователя от первого взаимодействия с приложением до совершения покупки."
   ]
  },
  {
   "cell_type": "markdown",
   "metadata": {},
   "source": [
    "**По воронке событий посчитайте, какая доля пользователей проходит на следующий шаг воронки (от числа пользователей на предыдущем). То есть для последовательности событий A → B → C посчитайте отношение числа пользователей с событием B к количеству пользователей с событием A, а также отношение числа пользователей с событием C к количеству пользователей с событием B.**"
   ]
  },
  {
   "cell_type": "code",
   "execution_count": 24,
   "metadata": {},
   "outputs": [
    {
     "data": {
      "text/html": [
       "<div>\n",
       "<style scoped>\n",
       "    .dataframe tbody tr th:only-of-type {\n",
       "        vertical-align: middle;\n",
       "    }\n",
       "\n",
       "    .dataframe tbody tr th {\n",
       "        vertical-align: top;\n",
       "    }\n",
       "\n",
       "    .dataframe thead th {\n",
       "        text-align: right;\n",
       "    }\n",
       "</style>\n",
       "<table border=\"1\" class=\"dataframe\">\n",
       "  <thead>\n",
       "    <tr style=\"text-align: right;\">\n",
       "      <th></th>\n",
       "      <th>Step Transition</th>\n",
       "      <th>Conversion Rate</th>\n",
       "    </tr>\n",
       "  </thead>\n",
       "  <tbody>\n",
       "    <tr>\n",
       "      <th>0</th>\n",
       "      <td>MainScreenAppear → OffersScreenAppear</td>\n",
       "      <td>61.91%</td>\n",
       "    </tr>\n",
       "    <tr>\n",
       "      <th>1</th>\n",
       "      <td>OffersScreenAppear → CartScreenAppear</td>\n",
       "      <td>81.30%</td>\n",
       "    </tr>\n",
       "    <tr>\n",
       "      <th>2</th>\n",
       "      <td>CartScreenAppear → PaymentScreenSuccessful</td>\n",
       "      <td>94.78%</td>\n",
       "    </tr>\n",
       "  </tbody>\n",
       "</table>\n",
       "</div>"
      ],
      "text/plain": [
       "                              Step Transition Conversion Rate\n",
       "0       MainScreenAppear → OffersScreenAppear          61.91%\n",
       "1       OffersScreenAppear → CartScreenAppear          81.30%\n",
       "2  CartScreenAppear → PaymentScreenSuccessful          94.78%"
      ]
     },
     "execution_count": 24,
     "metadata": {},
     "output_type": "execute_result"
    }
   ],
   "source": [
    "# Создаем список событий в порядке воронки продаж, исключая Tutorial\n",
    "funnel_events = ['MainScreenAppear', 'OffersScreenAppear', 'CartScreenAppear', 'PaymentScreenSuccessful']\n",
    "\n",
    "# Фильтрация пользователей по событиям воронки\n",
    "users_at_steps = {event: filtered_logs[filtered_logs['event_name'] == event]['user_id'].nunique() for event in funnel_events}\n",
    "\n",
    "# Расчет доли пользователей, проходящих на следующий шаг воронки\n",
    "conversion_rates = {}\n",
    "for i in range(len(funnel_events) - 1):\n",
    "    current_step_user_count = users_at_steps[funnel_events[i]]\n",
    "    next_step_user_count = users_at_steps[funnel_events[i + 1]]\n",
    "    conversion_rate = next_step_user_count / current_step_user_count\n",
    "    conversion_rates[f\"{funnel_events[i]} → {funnel_events[i + 1]}\"] = conversion_rate\n",
    "\n",
    "# Переводим в DataFrame для наглядности\n",
    "conversion_df = pd.DataFrame(list(conversion_rates.items()), columns=['Step Transition', 'Conversion Rate'])\n",
    "conversion_df['Conversion Rate'] = conversion_df['Conversion Rate'].map(lambda x: f\"{x:.2%}\")\n",
    "\n",
    "conversion_df"
   ]
  },
  {
   "cell_type": "markdown",
   "metadata": {},
   "source": [
    "Рассчитаны доли пользователей, проходящих на следующий шаг воронки событий:\n",
    "\n",
    "1. От главного экрана (MainScreenAppear) к экрану предложений (OffersScreenAppear): 61.91% пользователей переходят на экран предложений.\n",
    "2. От экрана предложений (OffersScreenAppear) к экрану корзины (CartScreenAppear): 81.30% пользователей переходят на экран корзины.\n",
    "3. От экрана корзины (CartScreenAppear) к успешной оплате (PaymentScreenSuccessful): 94.78% пользователей успешно завершают оплату после добавления товаров в корзину."
   ]
  },
  {
   "cell_type": "markdown",
   "metadata": {},
   "source": [
    "**На каком шаге теряете больше всего пользователей?**"
   ]
  },
  {
   "cell_type": "markdown",
   "metadata": {},
   "source": [
    "Чтобы определить, где теряется больше всего пользователей, нужно найти наименьший конверсионный коэффициент. Судя по предоставленным данным, наименьший конверсионный коэффициент у первого перехода (от главного экрана к экрану предложений) - 0.6191. Следовательно, больше всего пользователей теряется при переходе от главного экрана к экрану предложений."
   ]
  },
  {
   "cell_type": "markdown",
   "metadata": {},
   "source": [
    "**Какая доля пользователей доходит от первого события до оплаты?**"
   ]
  },
  {
   "cell_type": "code",
   "execution_count": 25,
   "metadata": {},
   "outputs": [
    {
     "data": {
      "text/plain": [
       "'47.70%'"
      ]
     },
     "execution_count": 25,
     "metadata": {},
     "output_type": "execute_result"
    }
   ],
   "source": [
    "# Вычисление доли пользователей, доходящих от первого события до оплаты\n",
    "first_event_users = users_at_steps['MainScreenAppear']\n",
    "last_event_users = users_at_steps['PaymentScreenSuccessful']\n",
    "overall_conversion_rate = last_event_users / first_event_users\n",
    "\n",
    "f\"{overall_conversion_rate:.2%}\""
   ]
  },
  {
   "cell_type": "markdown",
   "metadata": {},
   "source": [
    "Доля пользователей, доходящих от первого события (главного экрана) до оплаты, составляет примерно 47.70%. Это означает, что менее половины пользователей, начавших с главного экрана, доходят до успешной оплаты."
   ]
  },
  {
   "cell_type": "markdown",
   "metadata": {},
   "source": [
    "**Промежуточный Вывод:**\n",
    "\n",
    "1. **Порядок событий:** Исходя из анализа, можно предположить, что основные этапы взаимодействия пользователя с приложением следуют в порядке: MainScreenAppear (главный экран) → OffersScreenAppear (экран предложений) → CartScreenAppear (экран корзины) → PaymentScreenSuccessful (успешная оплата). Однако, Tutorial (обучение) не вписывается напрямую в эту последовательность, так как его событие может происходить в любой момент взаимодействия с приложением.\n",
    "\n",
    "2. **Воронка продаж:** Анализ воронки продаж позволил выявить, что наибольшее количество пользователей теряется на первом переходе от главного экрана к экрану предложений, где конверсионный коэффициент составляет 61.91%. Затем конверсионные коэффициенты возрастают на последующих этапах, достигая 94.78% при переходе от экрана корзины к успешной оплате.\n",
    "\n",
    "3. **Доля пользователей до оплаты:** Приблизительно 47.70% пользователей, начавших взаимодействие с главного экрана, доходят до успешной оплаты. Это говорит о том, что менее половины пользователей завершают покупку после посещения главного экрана."
   ]
  },
  {
   "cell_type": "markdown",
   "metadata": {},
   "source": [
    "<hr style=\"border: 1px solid black;\">"
   ]
  },
  {
   "cell_type": "markdown",
   "metadata": {},
   "source": [
    "# **Шаг 5. Изучите результаты эксперимента**"
   ]
  },
  {
   "cell_type": "markdown",
   "metadata": {},
   "source": [
    "Изменение числовых идентификаторов экспериментальных групп на буквенные в копии DataFrame и последующее разделение данных по группам A и B облегчает анализ и интерпретацию результатов эксперимента."
   ]
  },
  {
   "cell_type": "code",
   "execution_count": 26,
   "metadata": {},
   "outputs": [],
   "source": [
    "# Создаем копию DataFrame, чтобы изменения не затрагивали оригинальные данные\n",
    "filtered_logs_copy = filtered_logs.copy()\n",
    "\n",
    "# Заменяем числовые идентификаторы экспериментальных групп на буквенные обозначения для более понятного анализа\n",
    "exp_id_replacements = {246: 'A', 247: 'B', 248: 'C'}\n",
    "filtered_logs_copy['exp_id'] = filtered_logs_copy['exp_id'].replace(exp_id_replacements)\n",
    "\n",
    "# Разделяем данные по экспериментальным группам для дальнейшего анализа\n",
    "A = filtered_logs_copy[filtered_logs_copy['exp_id'] == 'A']\n",
    "B = filtered_logs_copy[filtered_logs_copy['exp_id'] == 'B']\n",
    "C = filtered_logs_copy[filtered_logs_copy['exp_id'] == 'C']\n",
    "D = filtered_logs_copy[filtered_logs_copy['exp_id'] == 'C']"
   ]
  },
  {
   "cell_type": "markdown",
   "metadata": {},
   "source": [
    "**Сколько пользователей в каждой экспериментальной группе?**"
   ]
  },
  {
   "cell_type": "code",
   "execution_count": 27,
   "metadata": {},
   "outputs": [
    {
     "data": {
      "text/plain": [
       "exp_id\n",
       "A    2484\n",
       "B    2513\n",
       "C    2537\n",
       "Name: user_id, dtype: int64"
      ]
     },
     "metadata": {},
     "output_type": "display_data"
    }
   ],
   "source": [
    "# Подсчет количества уникальных пользователей в каждой экспериментальной группе\n",
    "total_unique_users = filtered_logs_copy.groupby('exp_id')['user_id'].nunique()\n",
    "display(total_unique_users)"
   ]
  },
  {
   "cell_type": "markdown",
   "metadata": {},
   "source": [
    "В экспериментальной группе A находится 2484 уникальных пользователя, в группе B - 2513 уникальных пользователей, и в группе C - 2537 уникальных пользователей."
   ]
  },
  {
   "cell_type": "markdown",
   "metadata": {},
   "source": [
    "**Есть 2 контрольные группы для А/А-эксперимента, чтобы проверить корректность всех механизмов и расчётов. Проверьте, находят ли статистические критерии разницу между выборками 246 и 247.**"
   ]
  },
  {
   "cell_type": "code",
   "execution_count": 28,
   "metadata": {},
   "outputs": [],
   "source": [
    "def z_test_for_events(events_list, group1, group2, total_users, alpha=0.01):\n",
    "    for event in events_list:\n",
    "        # Расчет количества уникальных пользователей для каждого события в каждой группе\n",
    "        event_users_group1 = group1[group1['event_name'] == event]['user_id'].nunique()\n",
    "        event_users_group2 = group2[group2['event_name'] == event]['user_id'].nunique()\n",
    "        \n",
    "        # Общее количество пользователей в каждой группе\n",
    "        total_users_group1 = total_users.get('A', 0) \n",
    "        total_users_group2 = total_users.get('B', 0)\n",
    "        \n",
    "        # Подготовка данных для Z-теста\n",
    "        counts = np.array([event_users_group1, event_users_group2])\n",
    "        nobs = np.array([total_users_group1, total_users_group2])\n",
    "        \n",
    "        # Выполнение Z-теста\n",
    "        stat, pval = proportions_ztest(counts, nobs)\n",
    "        \n",
    "        # Вывод результата с указанным уровнем значимости\n",
    "        print(f\"Событие: {event}, p-значение: {pval:.2f}\")\n",
    "        if pval < alpha:\n",
    "            print(\"  Отклоняем нулевую гипотезу: есть значительная разница между долями.\")\n",
    "        else:\n",
    "            print(\"  Не отклоняем нулевую гипотезу: нет значительной разницы между долями.\")\n",
    "        print(\"\")  "
   ]
  },
  {
   "cell_type": "code",
   "execution_count": 29,
   "metadata": {},
   "outputs": [],
   "source": [
    "events = ['MainScreenAppear', 'OffersScreenAppear', 'CartScreenAppear', 'PaymentScreenSuccessful']"
   ]
  },
  {
   "cell_type": "markdown",
   "metadata": {},
   "source": [
    "Общая формулировка гипотез:\n",
    "- Нулевая гипотеза (H₀): Между долями события в группах A и B нет статистически значимой разницы.\n",
    "- Альтернативная гипотеза (H₁): Между долями события в группах A и B есть статистически значимая разница."
   ]
  },
  {
   "cell_type": "code",
   "execution_count": 30,
   "metadata": {},
   "outputs": [
    {
     "name": "stdout",
     "output_type": "stream",
     "text": [
      "Событие: MainScreenAppear, p-значение: 0.76\n",
      "  Не отклоняем нулевую гипотезу: нет значительной разницы между долями.\n",
      "\n",
      "Событие: OffersScreenAppear, p-значение: 0.25\n",
      "  Не отклоняем нулевую гипотезу: нет значительной разницы между долями.\n",
      "\n",
      "Событие: CartScreenAppear, p-значение: 0.23\n",
      "  Не отклоняем нулевую гипотезу: нет значительной разницы между долями.\n",
      "\n",
      "Событие: PaymentScreenSuccessful, p-значение: 0.11\n",
      "  Не отклоняем нулевую гипотезу: нет значительной разницы между долями.\n",
      "\n"
     ]
    }
   ],
   "source": [
    "z_test_for_events(events, A, B, total_unique_users, alpha=0.01)"
   ]
  },
  {
   "cell_type": "markdown",
   "metadata": {},
   "source": [
    "На основе результатов А/А-эксперимента и использования Z-теста для сравнения двух контрольных групп A и B по четырем событиям (MainScreenAppear, OffersScreenAppear, CartScreenAppear, PaymentScreenSuccessful), видно, что p-значения для каждого события выше установленного порога альфа (0.01). Это означает, что статистически значимой разницы между долями пользователей, совершивших эти события в двух группах, нет. \n",
    "\n",
    "Полученные результаты свидетельствуют о корректности механизмов и расчетов, используемых в эксперименте, поскольку они не обнаружили значимой разницы между контрольными группами. Это указывает на то, что система сплитования работает правильно и не вносит искажений в распределение пользователей по группам."
   ]
  },
  {
   "cell_type": "markdown",
   "metadata": {},
   "source": [
    "**Выберите самое популярное событие.**"
   ]
  },
  {
   "cell_type": "code",
   "execution_count": 31,
   "metadata": {},
   "outputs": [
    {
     "data": {
      "text/html": [
       "<div>\n",
       "<style scoped>\n",
       "    .dataframe tbody tr th:only-of-type {\n",
       "        vertical-align: middle;\n",
       "    }\n",
       "\n",
       "    .dataframe tbody tr th {\n",
       "        vertical-align: top;\n",
       "    }\n",
       "\n",
       "    .dataframe thead th {\n",
       "        text-align: right;\n",
       "    }\n",
       "</style>\n",
       "<table border=\"1\" class=\"dataframe\">\n",
       "  <thead>\n",
       "    <tr style=\"text-align: right;\">\n",
       "      <th>exp_id</th>\n",
       "      <th>A</th>\n",
       "      <th>B</th>\n",
       "      <th>C</th>\n",
       "    </tr>\n",
       "    <tr>\n",
       "      <th>event_name</th>\n",
       "      <th></th>\n",
       "      <th></th>\n",
       "      <th></th>\n",
       "    </tr>\n",
       "  </thead>\n",
       "  <tbody>\n",
       "    <tr>\n",
       "      <th>MainScreenAppear</th>\n",
       "      <td>2450</td>\n",
       "      <td>2476</td>\n",
       "      <td>2493</td>\n",
       "    </tr>\n",
       "    <tr>\n",
       "      <th>OffersScreenAppear</th>\n",
       "      <td>1542</td>\n",
       "      <td>1520</td>\n",
       "      <td>1531</td>\n",
       "    </tr>\n",
       "    <tr>\n",
       "      <th>CartScreenAppear</th>\n",
       "      <td>1266</td>\n",
       "      <td>1238</td>\n",
       "      <td>1230</td>\n",
       "    </tr>\n",
       "    <tr>\n",
       "      <th>PaymentScreenSuccessful</th>\n",
       "      <td>1200</td>\n",
       "      <td>1158</td>\n",
       "      <td>1181</td>\n",
       "    </tr>\n",
       "  </tbody>\n",
       "</table>\n",
       "</div>"
      ],
      "text/plain": [
       "exp_id                      A     B     C\n",
       "event_name                               \n",
       "MainScreenAppear         2450  2476  2493\n",
       "OffersScreenAppear       1542  1520  1531\n",
       "CartScreenAppear         1266  1238  1230\n",
       "PaymentScreenSuccessful  1200  1158  1181"
      ]
     },
     "metadata": {},
     "output_type": "display_data"
    }
   ],
   "source": [
    "# Создание сводной таблицы для сравнения активности пользователей в группах 'A', 'B', и 'C'\n",
    "groups = filtered_logs_copy[filtered_logs_copy['exp_id'].isin(['A', 'B', 'C'])] \\\n",
    "    .pivot_table(index='event_name', \n",
    "                 columns='exp_id', \n",
    "                 values='user_id', \n",
    "                 aggfunc=pd.Series.nunique) \\\n",
    "    .sort_values('A', ascending=False)\n",
    "\n",
    "# Исключение события 'Tutorial' из анализа, если оно не несет ценности для исследования\n",
    "groups.drop(['Tutorial'], inplace=True)\n",
    "\n",
    "# Вывод обновленной сводной таблицы для наглядного сравнения активности пользователей в группах 'A', 'B', и 'C'\n",
    "display(groups)"
   ]
  },
  {
   "cell_type": "markdown",
   "metadata": {},
   "source": [
    "Самое популярное событие среди пользователей групп 'A', 'B', и 'C' — это \"MainScreenAppear\". Количество уникальных пользователей для этого события составило 2450 в группе 'A', 2476 в группе 'B', и 2493 в группе 'C'."
   ]
  },
  {
   "cell_type": "markdown",
   "metadata": {},
   "source": [
    "**Посчитайте число пользователей, совершивших это событие в каждой из контрольных групп. Посчитайте долю пользователей, совершивших это событие.**"
   ]
  },
  {
   "cell_type": "code",
   "execution_count": 32,
   "metadata": {},
   "outputs": [
    {
     "data": {
      "text/html": [
       "<div>\n",
       "<style scoped>\n",
       "    .dataframe tbody tr th:only-of-type {\n",
       "        vertical-align: middle;\n",
       "    }\n",
       "\n",
       "    .dataframe tbody tr th {\n",
       "        vertical-align: top;\n",
       "    }\n",
       "\n",
       "    .dataframe thead th {\n",
       "        text-align: right;\n",
       "    }\n",
       "</style>\n",
       "<table border=\"1\" class=\"dataframe\">\n",
       "  <thead>\n",
       "    <tr style=\"text-align: right;\">\n",
       "      <th></th>\n",
       "      <th>users_A</th>\n",
       "      <th>proportion_A</th>\n",
       "      <th>users_B</th>\n",
       "      <th>proportion_B</th>\n",
       "    </tr>\n",
       "    <tr>\n",
       "      <th>event_name</th>\n",
       "      <th></th>\n",
       "      <th></th>\n",
       "      <th></th>\n",
       "      <th></th>\n",
       "    </tr>\n",
       "  </thead>\n",
       "  <tbody>\n",
       "    <tr>\n",
       "      <th>MainScreenAppear</th>\n",
       "      <td>2450</td>\n",
       "      <td>98.63%</td>\n",
       "      <td>2476</td>\n",
       "      <td>98.53%</td>\n",
       "    </tr>\n",
       "  </tbody>\n",
       "</table>\n",
       "</div>"
      ],
      "text/plain": [
       "                  users_A proportion_A  users_B proportion_B\n",
       "event_name                                                  \n",
       "MainScreenAppear     2450       98.63%     2476       98.53%"
      ]
     },
     "metadata": {},
     "output_type": "display_data"
    }
   ],
   "source": [
    "# Расчет общего количества уникальных пользователей в контрольных группах 'A' и 'B' для всех событий\n",
    "total_users_per_control_group = filtered_logs_copy[filtered_logs_copy['exp_id'].isin(['A', 'B'])].groupby('exp_id')['user_id'].nunique()\n",
    "\n",
    "# Создание сводной таблицы для контрольных групп 'A' и 'B' для события \"MainScreenAppear\"\n",
    "control_groups = filtered_logs_copy[filtered_logs_copy['exp_id'].isin(['A', 'B']) & (filtered_logs_copy['event_name'] == 'MainScreenAppear')] \\\n",
    "    .pivot_table(index='event_name', \n",
    "                 columns='exp_id', \n",
    "                 values='user_id', \n",
    "                 aggfunc=pd.Series.nunique) \\\n",
    "    .sort_values('A', ascending=False)\n",
    "\n",
    "# Создание нового DataFrame для обновленных контрольных групп с долями пользователей для события \"MainScreenAppear\"\n",
    "updated_control_groups = pd.DataFrame(index=control_groups.index)\n",
    "\n",
    "# Добавление столбцов с количеством пользователей и долями для контрольных групп 'A' и 'B' для события \"MainScreenAppear\"\n",
    "for exp_id in ['A', 'B']:\n",
    "    updated_control_groups[f'users_{exp_id}'] = control_groups[exp_id]  # Столбец с количеством пользователей\n",
    "    updated_control_groups[f'proportion_{exp_id}'] = (control_groups[exp_id] / total_users_per_control_group[exp_id]).map(\"{:.2%}\".format)  # Столбец с долями, отформатированными в процентах\n",
    "\n",
    "# Вывод обновленной сводной таблицы для события \"MainScreenAppear\"\n",
    "display(updated_control_groups)"
   ]
  },
  {
   "cell_type": "markdown",
   "metadata": {},
   "source": [
    "Для события \"MainScreenAppear\", которое является самым популярным событием среди пользователей контрольных групп 'A' и 'B', численность и доля пользователей, совершивших это событие, представлены следующим образом:\n",
    "\n",
    "- В группе 'A': 2450 пользователей, что составляет 98.63% от общего числа пользователей в группе.\n",
    "- В группе 'B': 2476 пользователей, что составляет 98.53% от общего числа пользователей в группе."
   ]
  },
  {
   "cell_type": "markdown",
   "metadata": {},
   "source": [
    "**Проверьте, будет ли отличие между группами статистически достоверным.**"
   ]
  },
  {
   "cell_type": "markdown",
   "metadata": {},
   "source": [
    "Общая формулировка гипотез:\n",
    "\n",
    "- Нулевая гипотеза (H₀): Между долями события в группах A и B нет статистически значимой разницы.\n",
    "- Альтернативная гипотеза (H₁): Между долями события в группах A и B есть статистически значимая разница."
   ]
  },
  {
   "cell_type": "code",
   "execution_count": 33,
   "metadata": {},
   "outputs": [
    {
     "name": "stdout",
     "output_type": "stream",
     "text": [
      "p-значение: 0.76\n",
      "Не отклоняем нулевую гипотезу: нет значительной разницы между долями.\n",
      "\n"
     ]
    }
   ],
   "source": [
    "def z_test_for_proportions(event_users_group1, event_users_group2, total_users_group1, total_users_group2, alpha=0.01):\n",
    "    # Подготовка данных для Z-теста\n",
    "    counts = np.array([event_users_group1, event_users_group2])\n",
    "    nobs = np.array([total_users_group1, total_users_group2])\n",
    "\n",
    "    # Выполнение Z-теста\n",
    "    stat, pval = proportions_ztest(counts, nobs)\n",
    "\n",
    "    # Вывод результата с указанным уровнем значимости\n",
    "    print(f\"p-значение: {pval:.2f}\")\n",
    "    if pval < alpha:\n",
    "        print(\"Отклоняем нулевую гипотезу: есть значительная разница между долями.\")\n",
    "    else:\n",
    "        print(\"Не отклоняем нулевую гипотезу: нет значительной разницы между долями.\")\n",
    "    print(\"\")\n",
    "\n",
    "# Получение количества пользователей в группах 'A' и 'B' для события \"MainScreenAppear\"\n",
    "event_users_group_A = updated_control_groups.loc['MainScreenAppear', 'users_A']\n",
    "event_users_group_B = updated_control_groups.loc['MainScreenAppear', 'users_B']\n",
    "\n",
    "# Получение общего количества пользователей в группах 'A' и 'B'\n",
    "total_users_group_A = total_users_per_control_group['A']\n",
    "total_users_group_B = total_users_per_control_group['B']\n",
    "\n",
    "# Выполнение Z-теста для сравнения долей пользователей между группами 'A' и 'B'\n",
    "z_test_for_proportions(event_users_group_A, event_users_group_B, total_users_group_A, total_users_group_B, alpha=0.01)"
   ]
  },
  {
   "cell_type": "markdown",
   "metadata": {},
   "source": [
    "Поскольку p-значение равно 0.76 и больше уровня значимости alpha (0.01), мы не отклоняем нулевую гипотезу о том, что нет значительной разницы между долями уникальных пользователей в группах. Это означает, что статистические данные не подтверждают наличие значимой разницы между группами."
   ]
  },
  {
   "cell_type": "markdown",
   "metadata": {},
   "source": [
    "**Проделайте то же самое для всех других событий (удобно обернуть проверку в отдельную функцию). Можно ли сказать, что разбиение на группы работает корректно?**"
   ]
  },
  {
   "cell_type": "markdown",
   "metadata": {},
   "source": [
    "Общая формулировка гипотез:\n",
    "\n",
    "- Нулевая гипотеза (H₀): Между долями события в группах A и B нет статистически значимой разницы.\n",
    "- Альтернативная гипотеза (H₁): Между долями события в группах A и B есть статистически значимая разница."
   ]
  },
  {
   "cell_type": "code",
   "execution_count": 34,
   "metadata": {},
   "outputs": [
    {
     "name": "stdout",
     "output_type": "stream",
     "text": [
      "Анализ для события: MainScreenAppear\n"
     ]
    },
    {
     "data": {
      "text/html": [
       "<div>\n",
       "<style scoped>\n",
       "    .dataframe tbody tr th:only-of-type {\n",
       "        vertical-align: middle;\n",
       "    }\n",
       "\n",
       "    .dataframe tbody tr th {\n",
       "        vertical-align: top;\n",
       "    }\n",
       "\n",
       "    .dataframe thead th {\n",
       "        text-align: right;\n",
       "    }\n",
       "</style>\n",
       "<table border=\"1\" class=\"dataframe\">\n",
       "  <thead>\n",
       "    <tr style=\"text-align: right;\">\n",
       "      <th></th>\n",
       "      <th>users_A</th>\n",
       "      <th>proportion_A</th>\n",
       "      <th>users_B</th>\n",
       "      <th>proportion_B</th>\n",
       "    </tr>\n",
       "    <tr>\n",
       "      <th>event_name</th>\n",
       "      <th></th>\n",
       "      <th></th>\n",
       "      <th></th>\n",
       "      <th></th>\n",
       "    </tr>\n",
       "  </thead>\n",
       "  <tbody>\n",
       "    <tr>\n",
       "      <th>MainScreenAppear</th>\n",
       "      <td>2450</td>\n",
       "      <td>98.63%</td>\n",
       "      <td>2476</td>\n",
       "      <td>98.53%</td>\n",
       "    </tr>\n",
       "  </tbody>\n",
       "</table>\n",
       "</div>"
      ],
      "text/plain": [
       "                  users_A proportion_A  users_B proportion_B\n",
       "event_name                                                  \n",
       "MainScreenAppear     2450       98.63%     2476       98.53%"
      ]
     },
     "metadata": {},
     "output_type": "display_data"
    },
    {
     "name": "stdout",
     "output_type": "stream",
     "text": [
      "Z-тест для долей между группами 'A' и 'B' при alpha=0.05:\n",
      "p-значение: 0.76\n",
      "Не отклоняем нулевую гипотезу: нет значительной разницы между долями.\n",
      "\n",
      "\n",
      "\n",
      "Анализ для события: OffersScreenAppear\n"
     ]
    },
    {
     "data": {
      "text/html": [
       "<div>\n",
       "<style scoped>\n",
       "    .dataframe tbody tr th:only-of-type {\n",
       "        vertical-align: middle;\n",
       "    }\n",
       "\n",
       "    .dataframe tbody tr th {\n",
       "        vertical-align: top;\n",
       "    }\n",
       "\n",
       "    .dataframe thead th {\n",
       "        text-align: right;\n",
       "    }\n",
       "</style>\n",
       "<table border=\"1\" class=\"dataframe\">\n",
       "  <thead>\n",
       "    <tr style=\"text-align: right;\">\n",
       "      <th></th>\n",
       "      <th>users_A</th>\n",
       "      <th>proportion_A</th>\n",
       "      <th>users_B</th>\n",
       "      <th>proportion_B</th>\n",
       "    </tr>\n",
       "    <tr>\n",
       "      <th>event_name</th>\n",
       "      <th></th>\n",
       "      <th></th>\n",
       "      <th></th>\n",
       "      <th></th>\n",
       "    </tr>\n",
       "  </thead>\n",
       "  <tbody>\n",
       "    <tr>\n",
       "      <th>OffersScreenAppear</th>\n",
       "      <td>1542</td>\n",
       "      <td>62.08%</td>\n",
       "      <td>1520</td>\n",
       "      <td>60.49%</td>\n",
       "    </tr>\n",
       "  </tbody>\n",
       "</table>\n",
       "</div>"
      ],
      "text/plain": [
       "                    users_A proportion_A  users_B proportion_B\n",
       "event_name                                                    \n",
       "OffersScreenAppear     1542       62.08%     1520       60.49%"
      ]
     },
     "metadata": {},
     "output_type": "display_data"
    },
    {
     "name": "stdout",
     "output_type": "stream",
     "text": [
      "Z-тест для долей между группами 'A' и 'B' при alpha=0.05:\n",
      "p-значение: 0.25\n",
      "Не отклоняем нулевую гипотезу: нет значительной разницы между долями.\n",
      "\n",
      "\n",
      "\n",
      "Анализ для события: CartScreenAppear\n"
     ]
    },
    {
     "data": {
      "text/html": [
       "<div>\n",
       "<style scoped>\n",
       "    .dataframe tbody tr th:only-of-type {\n",
       "        vertical-align: middle;\n",
       "    }\n",
       "\n",
       "    .dataframe tbody tr th {\n",
       "        vertical-align: top;\n",
       "    }\n",
       "\n",
       "    .dataframe thead th {\n",
       "        text-align: right;\n",
       "    }\n",
       "</style>\n",
       "<table border=\"1\" class=\"dataframe\">\n",
       "  <thead>\n",
       "    <tr style=\"text-align: right;\">\n",
       "      <th></th>\n",
       "      <th>users_A</th>\n",
       "      <th>proportion_A</th>\n",
       "      <th>users_B</th>\n",
       "      <th>proportion_B</th>\n",
       "    </tr>\n",
       "    <tr>\n",
       "      <th>event_name</th>\n",
       "      <th></th>\n",
       "      <th></th>\n",
       "      <th></th>\n",
       "      <th></th>\n",
       "    </tr>\n",
       "  </thead>\n",
       "  <tbody>\n",
       "    <tr>\n",
       "      <th>CartScreenAppear</th>\n",
       "      <td>1266</td>\n",
       "      <td>50.97%</td>\n",
       "      <td>1238</td>\n",
       "      <td>49.26%</td>\n",
       "    </tr>\n",
       "  </tbody>\n",
       "</table>\n",
       "</div>"
      ],
      "text/plain": [
       "                  users_A proportion_A  users_B proportion_B\n",
       "event_name                                                  \n",
       "CartScreenAppear     1266       50.97%     1238       49.26%"
      ]
     },
     "metadata": {},
     "output_type": "display_data"
    },
    {
     "name": "stdout",
     "output_type": "stream",
     "text": [
      "Z-тест для долей между группами 'A' и 'B' при alpha=0.05:\n",
      "p-значение: 0.23\n",
      "Не отклоняем нулевую гипотезу: нет значительной разницы между долями.\n",
      "\n",
      "\n",
      "\n",
      "Анализ для события: PaymentScreenSuccessful\n"
     ]
    },
    {
     "data": {
      "text/html": [
       "<div>\n",
       "<style scoped>\n",
       "    .dataframe tbody tr th:only-of-type {\n",
       "        vertical-align: middle;\n",
       "    }\n",
       "\n",
       "    .dataframe tbody tr th {\n",
       "        vertical-align: top;\n",
       "    }\n",
       "\n",
       "    .dataframe thead th {\n",
       "        text-align: right;\n",
       "    }\n",
       "</style>\n",
       "<table border=\"1\" class=\"dataframe\">\n",
       "  <thead>\n",
       "    <tr style=\"text-align: right;\">\n",
       "      <th></th>\n",
       "      <th>users_A</th>\n",
       "      <th>proportion_A</th>\n",
       "      <th>users_B</th>\n",
       "      <th>proportion_B</th>\n",
       "    </tr>\n",
       "    <tr>\n",
       "      <th>event_name</th>\n",
       "      <th></th>\n",
       "      <th></th>\n",
       "      <th></th>\n",
       "      <th></th>\n",
       "    </tr>\n",
       "  </thead>\n",
       "  <tbody>\n",
       "    <tr>\n",
       "      <th>PaymentScreenSuccessful</th>\n",
       "      <td>1200</td>\n",
       "      <td>48.31%</td>\n",
       "      <td>1158</td>\n",
       "      <td>46.08%</td>\n",
       "    </tr>\n",
       "  </tbody>\n",
       "</table>\n",
       "</div>"
      ],
      "text/plain": [
       "                         users_A proportion_A  users_B proportion_B\n",
       "event_name                                                         \n",
       "PaymentScreenSuccessful     1200       48.31%     1158       46.08%"
      ]
     },
     "metadata": {},
     "output_type": "display_data"
    },
    {
     "name": "stdout",
     "output_type": "stream",
     "text": [
      "Z-тест для долей между группами 'A' и 'B' при alpha=0.05:\n",
      "p-значение: 0.11\n",
      "Не отклоняем нулевую гипотезу: нет значительной разницы между долями.\n",
      "\n",
      "\n",
      "\n"
     ]
    }
   ],
   "source": [
    "def analyze_events(filtered_logs_copy, total_users_per_control_group, event_names, group_A, group_B, alpha=0.05):\n",
    "    # Проход по каждому событию\n",
    "    for event_name in event_names:\n",
    "        # Создание сводной таблицы для события и контрольных групп\n",
    "        control_groups = filtered_logs_copy[(filtered_logs_copy['exp_id'].isin([group_A, group_B])) & (filtered_logs_copy['event_name'] == event_name)] \\\n",
    "            .pivot_table(index='event_name', \n",
    "                         columns='exp_id', \n",
    "                         values='user_id', \n",
    "                         aggfunc=pd.Series.nunique) \\\n",
    "            .sort_values(group_A, ascending=False)\n",
    "        \n",
    "        # Обновление данных контрольных групп\n",
    "        updated_control_groups = pd.DataFrame(index=control_groups.index)\n",
    "        \n",
    "        # Заполнение таблицы данными по контрольным группам\n",
    "        for exp_id in [group_A, group_B]:\n",
    "            updated_control_groups[f'users_{exp_id}'] = control_groups[exp_id]\n",
    "            updated_control_groups[f'proportion_{exp_id}'] = (control_groups[exp_id] / total_users_per_control_group[exp_id]).map(\"{:.2%}\".format)\n",
    "        \n",
    "        # Вывод информации о событии и контрольных группах\n",
    "        print(f\"Анализ для события: {event_name}\")\n",
    "        display(updated_control_groups)\n",
    "        \n",
    "        # Получение данных для z-теста\n",
    "        event_users_group_A = updated_control_groups.loc[event_name, f'users_{group_A}']\n",
    "        event_users_group_B = updated_control_groups.loc[event_name, f'users_{group_B}']\n",
    "        total_users_group_A = total_users_per_control_group[group_A]\n",
    "        total_users_group_B = total_users_per_control_group[group_B]\n",
    "        \n",
    "        # Выполнение z-теста и вывод результатов\n",
    "        print(f\"Z-тест для долей между группами '{group_A}' и '{group_B}' при alpha={alpha}:\")\n",
    "        z_test_for_proportions(event_users_group_A, event_users_group_B, total_users_group_A, total_users_group_B, alpha)\n",
    "        print(\"\\n\")\n",
    "\n",
    "# Вызов функции для анализа всех четырех событий\n",
    "event_names_to_analyze = ['MainScreenAppear', 'OffersScreenAppear', 'CartScreenAppear', 'PaymentScreenSuccessful']\n",
    "group_A = 'A'\n",
    "group_B = 'B'\n",
    "alpha_level = 0.05\n",
    "analyze_events(filtered_logs_copy, total_users_per_control_group, event_names_to_analyze, group_A, group_B, alpha_level)"
   ]
  },
  {
   "cell_type": "markdown",
   "metadata": {},
   "source": [
    "На основе результатов анализа каждого события можно сделать вывод о корректности разбиения на группы. Если для всех событий не отклоняется нулевая гипотеза о статистически незначимой разнице между группами, это может указывать на то, что разбиение на группы работает корректно."
   ]
  },
  {
   "cell_type": "markdown",
   "metadata": {},
   "source": [
    "**Аналогично поступите с группой с изменённым шрифтом. Сравните результаты с каждой из контрольных групп в отдельности по каждому событию.**"
   ]
  },
  {
   "cell_type": "code",
   "execution_count": 35,
   "metadata": {},
   "outputs": [
    {
     "data": {
      "text/plain": [
       "exp_id\n",
       "A    2484\n",
       "B    2513\n",
       "C    2537\n",
       "D    4997\n",
       "Name: user_id, dtype: int64"
      ]
     },
     "execution_count": 35,
     "metadata": {},
     "output_type": "execute_result"
    }
   ],
   "source": [
    "# Добавляем информацию о группе D, которая является суммой групп A и B\n",
    "total_unique_users['D'] = total_unique_users['A'] + total_unique_users['B']\n",
    "\n",
    "# Выводим обновленные данные\n",
    "total_unique_users"
   ]
  },
  {
   "cell_type": "code",
   "execution_count": 36,
   "metadata": {},
   "outputs": [
    {
     "data": {
      "text/html": [
       "<div>\n",
       "<style scoped>\n",
       "    .dataframe tbody tr th:only-of-type {\n",
       "        vertical-align: middle;\n",
       "    }\n",
       "\n",
       "    .dataframe tbody tr th {\n",
       "        vertical-align: top;\n",
       "    }\n",
       "\n",
       "    .dataframe thead th {\n",
       "        text-align: right;\n",
       "    }\n",
       "</style>\n",
       "<table border=\"1\" class=\"dataframe\">\n",
       "  <thead>\n",
       "    <tr style=\"text-align: right;\">\n",
       "      <th></th>\n",
       "      <th>users_A</th>\n",
       "      <th>proportion_A</th>\n",
       "      <th>users_B</th>\n",
       "      <th>proportion_B</th>\n",
       "      <th>users_C</th>\n",
       "      <th>proportion_C</th>\n",
       "    </tr>\n",
       "    <tr>\n",
       "      <th>event_name</th>\n",
       "      <th></th>\n",
       "      <th></th>\n",
       "      <th></th>\n",
       "      <th></th>\n",
       "      <th></th>\n",
       "      <th></th>\n",
       "    </tr>\n",
       "  </thead>\n",
       "  <tbody>\n",
       "    <tr>\n",
       "      <th>MainScreenAppear</th>\n",
       "      <td>2450</td>\n",
       "      <td>98.67%</td>\n",
       "      <td>2476</td>\n",
       "      <td>98.57%</td>\n",
       "      <td>2493</td>\n",
       "      <td>98.34%</td>\n",
       "    </tr>\n",
       "    <tr>\n",
       "      <th>OffersScreenAppear</th>\n",
       "      <td>1542</td>\n",
       "      <td>62.10%</td>\n",
       "      <td>1520</td>\n",
       "      <td>60.51%</td>\n",
       "      <td>1531</td>\n",
       "      <td>60.39%</td>\n",
       "    </tr>\n",
       "    <tr>\n",
       "      <th>CartScreenAppear</th>\n",
       "      <td>1266</td>\n",
       "      <td>50.99%</td>\n",
       "      <td>1238</td>\n",
       "      <td>49.28%</td>\n",
       "      <td>1230</td>\n",
       "      <td>48.52%</td>\n",
       "    </tr>\n",
       "    <tr>\n",
       "      <th>PaymentScreenSuccessful</th>\n",
       "      <td>1200</td>\n",
       "      <td>48.33%</td>\n",
       "      <td>1158</td>\n",
       "      <td>46.10%</td>\n",
       "      <td>1181</td>\n",
       "      <td>46.59%</td>\n",
       "    </tr>\n",
       "  </tbody>\n",
       "</table>\n",
       "</div>"
      ],
      "text/plain": [
       "                         users_A proportion_A  users_B proportion_B  users_C  \\\n",
       "event_name                                                                     \n",
       "MainScreenAppear            2450       98.67%     2476       98.57%     2493   \n",
       "OffersScreenAppear          1542       62.10%     1520       60.51%     1531   \n",
       "CartScreenAppear            1266       50.99%     1238       49.28%     1230   \n",
       "PaymentScreenSuccessful     1200       48.33%     1158       46.10%     1181   \n",
       "\n",
       "                        proportion_C  \n",
       "event_name                            \n",
       "MainScreenAppear              98.34%  \n",
       "OffersScreenAppear            60.39%  \n",
       "CartScreenAppear              48.52%  \n",
       "PaymentScreenSuccessful       46.59%  "
      ]
     },
     "metadata": {},
     "output_type": "display_data"
    }
   ],
   "source": [
    "# Исключение события 'Tutorial' из данных\n",
    "filtered_logs_no_tutorial = filtered_logs_copy[~filtered_logs_copy['event_name'].eq('Tutorial')]\n",
    "\n",
    "# Расчет общего количества уникальных пользователей в контрольных группах 'A', 'B', 'C', исключая событие 'Tutorial'\n",
    "total_users_per_control_group_no_tutorial = filtered_logs_no_tutorial[filtered_logs_no_tutorial['exp_id'].isin(['A', 'B', 'C'])].groupby('exp_id')['user_id'].nunique()\n",
    "\n",
    "# Создание сводной таблицы для контрольных групп 'A', 'B', 'C', исключая событие 'Tutorial'\n",
    "control_groups_no_tutorial = filtered_logs_no_tutorial[filtered_logs_no_tutorial['exp_id'].isin(['A', 'B', 'C'])] \\\n",
    "    .pivot_table(index='event_name', \n",
    "                 columns='exp_id', \n",
    "                 values='user_id', \n",
    "                 aggfunc='nunique') \\\n",
    "    .sort_values('A', ascending=False)\n",
    "\n",
    "# Создание нового DataFrame для обновленных контрольных групп без события 'Tutorial' с долями пользователей для всех событий\n",
    "updated_control_groups_no_tutorial = pd.DataFrame(index=control_groups_no_tutorial.index)\n",
    "\n",
    "# Добавление столбцов с количеством пользователей и долями для контрольных групп 'A', 'B', 'C', исключая событие 'Tutorial'\n",
    "for exp_id in ['A', 'B', 'C']:\n",
    "    updated_control_groups_no_tutorial[f'users_{exp_id}'] = control_groups_no_tutorial[exp_id]  # Столбец с количеством пользователей\n",
    "    updated_control_groups_no_tutorial[f'proportion_{exp_id}'] = (control_groups_no_tutorial[exp_id] / total_users_per_control_group_no_tutorial[exp_id]).map(\"{:.2%}\".format)  # Столбец с долями, отформатированными в процентах\n",
    "\n",
    "display(updated_control_groups_no_tutorial)"
   ]
  },
  {
   "cell_type": "markdown",
   "metadata": {},
   "source": [
    "Этот блок данных представляет собой сравнение трех различных групп пользователей (группы A, B и C) по нескольким событиям. Для каждого события приведены количество пользователей и их доля от общего числа пользователей в каждой группе.\n",
    "\n",
    "Из этой таблицы можно сделать следующие выводы:\n",
    "\n",
    "1. **MainScreenAppear (Отображение главного экрана):**\n",
    "   - В группе A отсутствует сильное преимущество перед группами B и C. Доля пользователей в группе A составляет 98.67%, в группе B - 98.57%, а в группе C - 98.34%. Различия между долями пользователей в группах незначительны.\n",
    "\n",
    "2. **OffersScreenAppear (Отображение экрана предложений):**\n",
    "   - Доля пользователей в группе A составляет 62.10%, в группе B - 60.51%, а в группе C - 60.39%. Похоже, что доля пользователей в группе A немного выше, чем в группах B и C, но различия между группами также не значительны.\n",
    "\n",
    "3. **CartScreenAppear (Отображение экрана корзины):**\n",
    "   - Доля пользователей в группе A составляет 50.99%, в группе B - 49.28%, а в группе C - 48.52%. В этом случае также видно незначительное преимущество группы A перед группами B и C.\n",
    "\n",
    "4. **PaymentScreenSuccessful (Успешное отображение экрана оплаты):**\n",
    "   - Доля пользователей в группе A составляет 48.33%, в группе B - 46.10%, а в группе C - 46.59%. Группа A имеет незначительное преимущество перед группами B и C в этом событии.\n",
    "\n",
    "В целом, хотя некоторые различия между группами могут быть замечены, они не выглядят статистически значимыми. Вероятно, что разбиение на группы работает достаточно корректно, но для более точного вывода необходимо провести статистические тесты на значимость различий между группами."
   ]
  },
  {
   "cell_type": "markdown",
   "metadata": {},
   "source": [
    "Общая формулировка гипотез:\n",
    "\n",
    "- Нулевая гипотеза (H₀): Между долями события в группах A и C нет статистически значимой разницы.\n",
    "- Альтернативная гипотеза (H₁): Между долями события в группах A и C есть статистически значимая разница."
   ]
  },
  {
   "cell_type": "markdown",
   "metadata": {},
   "source": [
    "Общая формулировка гипотез:\n",
    "\n",
    "- Нулевая гипотеза (H₀): Между долями события в группах B и C нет статистически значимой разницы.\n",
    "- Альтернативная гипотеза (H₁): Между долями события в группах B и C есть статистически значимая разница."
   ]
  },
  {
   "cell_type": "code",
   "execution_count": 37,
   "metadata": {},
   "outputs": [
    {
     "name": "stdout",
     "output_type": "stream",
     "text": [
      "Анализ между группами A и C:\n",
      "Анализ для события: MainScreenAppear\n"
     ]
    },
    {
     "data": {
      "text/html": [
       "<div>\n",
       "<style scoped>\n",
       "    .dataframe tbody tr th:only-of-type {\n",
       "        vertical-align: middle;\n",
       "    }\n",
       "\n",
       "    .dataframe tbody tr th {\n",
       "        vertical-align: top;\n",
       "    }\n",
       "\n",
       "    .dataframe thead th {\n",
       "        text-align: right;\n",
       "    }\n",
       "</style>\n",
       "<table border=\"1\" class=\"dataframe\">\n",
       "  <thead>\n",
       "    <tr style=\"text-align: right;\">\n",
       "      <th></th>\n",
       "      <th>users_A</th>\n",
       "      <th>proportion_A</th>\n",
       "      <th>users_C</th>\n",
       "      <th>proportion_C</th>\n",
       "    </tr>\n",
       "    <tr>\n",
       "      <th>event_name</th>\n",
       "      <th></th>\n",
       "      <th></th>\n",
       "      <th></th>\n",
       "      <th></th>\n",
       "    </tr>\n",
       "  </thead>\n",
       "  <tbody>\n",
       "    <tr>\n",
       "      <th>MainScreenAppear</th>\n",
       "      <td>2450</td>\n",
       "      <td>98.67%</td>\n",
       "      <td>2493</td>\n",
       "      <td>98.34%</td>\n",
       "    </tr>\n",
       "  </tbody>\n",
       "</table>\n",
       "</div>"
      ],
      "text/plain": [
       "                  users_A proportion_A  users_C proportion_C\n",
       "event_name                                                  \n",
       "MainScreenAppear     2450       98.67%     2493       98.34%"
      ]
     },
     "metadata": {},
     "output_type": "display_data"
    },
    {
     "name": "stdout",
     "output_type": "stream",
     "text": [
      "Z-тест для долей между группами 'A' и 'C' при alpha=0.05:\n",
      "p-значение: 0.34\n",
      "Не отклоняем нулевую гипотезу: нет значительной разницы между долями.\n",
      "\n",
      "\n",
      "\n",
      "Анализ для события: OffersScreenAppear\n"
     ]
    },
    {
     "data": {
      "text/html": [
       "<div>\n",
       "<style scoped>\n",
       "    .dataframe tbody tr th:only-of-type {\n",
       "        vertical-align: middle;\n",
       "    }\n",
       "\n",
       "    .dataframe tbody tr th {\n",
       "        vertical-align: top;\n",
       "    }\n",
       "\n",
       "    .dataframe thead th {\n",
       "        text-align: right;\n",
       "    }\n",
       "</style>\n",
       "<table border=\"1\" class=\"dataframe\">\n",
       "  <thead>\n",
       "    <tr style=\"text-align: right;\">\n",
       "      <th></th>\n",
       "      <th>users_A</th>\n",
       "      <th>proportion_A</th>\n",
       "      <th>users_C</th>\n",
       "      <th>proportion_C</th>\n",
       "    </tr>\n",
       "    <tr>\n",
       "      <th>event_name</th>\n",
       "      <th></th>\n",
       "      <th></th>\n",
       "      <th></th>\n",
       "      <th></th>\n",
       "    </tr>\n",
       "  </thead>\n",
       "  <tbody>\n",
       "    <tr>\n",
       "      <th>OffersScreenAppear</th>\n",
       "      <td>1542</td>\n",
       "      <td>62.10%</td>\n",
       "      <td>1531</td>\n",
       "      <td>60.39%</td>\n",
       "    </tr>\n",
       "  </tbody>\n",
       "</table>\n",
       "</div>"
      ],
      "text/plain": [
       "                    users_A proportion_A  users_C proportion_C\n",
       "event_name                                                    \n",
       "OffersScreenAppear     1542       62.10%     1531       60.39%"
      ]
     },
     "metadata": {},
     "output_type": "display_data"
    },
    {
     "name": "stdout",
     "output_type": "stream",
     "text": [
      "Z-тест для долей между группами 'A' и 'C' при alpha=0.05:\n",
      "p-значение: 0.21\n",
      "Не отклоняем нулевую гипотезу: нет значительной разницы между долями.\n",
      "\n",
      "\n",
      "\n",
      "Анализ для события: CartScreenAppear\n"
     ]
    },
    {
     "data": {
      "text/html": [
       "<div>\n",
       "<style scoped>\n",
       "    .dataframe tbody tr th:only-of-type {\n",
       "        vertical-align: middle;\n",
       "    }\n",
       "\n",
       "    .dataframe tbody tr th {\n",
       "        vertical-align: top;\n",
       "    }\n",
       "\n",
       "    .dataframe thead th {\n",
       "        text-align: right;\n",
       "    }\n",
       "</style>\n",
       "<table border=\"1\" class=\"dataframe\">\n",
       "  <thead>\n",
       "    <tr style=\"text-align: right;\">\n",
       "      <th></th>\n",
       "      <th>users_A</th>\n",
       "      <th>proportion_A</th>\n",
       "      <th>users_C</th>\n",
       "      <th>proportion_C</th>\n",
       "    </tr>\n",
       "    <tr>\n",
       "      <th>event_name</th>\n",
       "      <th></th>\n",
       "      <th></th>\n",
       "      <th></th>\n",
       "      <th></th>\n",
       "    </tr>\n",
       "  </thead>\n",
       "  <tbody>\n",
       "    <tr>\n",
       "      <th>CartScreenAppear</th>\n",
       "      <td>1266</td>\n",
       "      <td>50.99%</td>\n",
       "      <td>1230</td>\n",
       "      <td>48.52%</td>\n",
       "    </tr>\n",
       "  </tbody>\n",
       "</table>\n",
       "</div>"
      ],
      "text/plain": [
       "                  users_A proportion_A  users_C proportion_C\n",
       "event_name                                                  \n",
       "CartScreenAppear     1266       50.99%     1230       48.52%"
      ]
     },
     "metadata": {},
     "output_type": "display_data"
    },
    {
     "name": "stdout",
     "output_type": "stream",
     "text": [
      "Z-тест для долей между группами 'A' и 'C' при alpha=0.05:\n",
      "p-значение: 0.08\n",
      "Не отклоняем нулевую гипотезу: нет значительной разницы между долями.\n",
      "\n",
      "\n",
      "\n",
      "Анализ для события: PaymentScreenSuccessful\n"
     ]
    },
    {
     "data": {
      "text/html": [
       "<div>\n",
       "<style scoped>\n",
       "    .dataframe tbody tr th:only-of-type {\n",
       "        vertical-align: middle;\n",
       "    }\n",
       "\n",
       "    .dataframe tbody tr th {\n",
       "        vertical-align: top;\n",
       "    }\n",
       "\n",
       "    .dataframe thead th {\n",
       "        text-align: right;\n",
       "    }\n",
       "</style>\n",
       "<table border=\"1\" class=\"dataframe\">\n",
       "  <thead>\n",
       "    <tr style=\"text-align: right;\">\n",
       "      <th></th>\n",
       "      <th>users_A</th>\n",
       "      <th>proportion_A</th>\n",
       "      <th>users_C</th>\n",
       "      <th>proportion_C</th>\n",
       "    </tr>\n",
       "    <tr>\n",
       "      <th>event_name</th>\n",
       "      <th></th>\n",
       "      <th></th>\n",
       "      <th></th>\n",
       "      <th></th>\n",
       "    </tr>\n",
       "  </thead>\n",
       "  <tbody>\n",
       "    <tr>\n",
       "      <th>PaymentScreenSuccessful</th>\n",
       "      <td>1200</td>\n",
       "      <td>48.33%</td>\n",
       "      <td>1181</td>\n",
       "      <td>46.59%</td>\n",
       "    </tr>\n",
       "  </tbody>\n",
       "</table>\n",
       "</div>"
      ],
      "text/plain": [
       "                         users_A proportion_A  users_C proportion_C\n",
       "event_name                                                         \n",
       "PaymentScreenSuccessful     1200       48.33%     1181       46.59%"
      ]
     },
     "metadata": {},
     "output_type": "display_data"
    },
    {
     "name": "stdout",
     "output_type": "stream",
     "text": [
      "Z-тест для долей между группами 'A' и 'C' при alpha=0.05:\n",
      "p-значение: 0.22\n",
      "Не отклоняем нулевую гипотезу: нет значительной разницы между долями.\n",
      "\n",
      "\n",
      "\n",
      "Анализ между группами B и C:\n",
      "Анализ для события: MainScreenAppear\n"
     ]
    },
    {
     "data": {
      "text/html": [
       "<div>\n",
       "<style scoped>\n",
       "    .dataframe tbody tr th:only-of-type {\n",
       "        vertical-align: middle;\n",
       "    }\n",
       "\n",
       "    .dataframe tbody tr th {\n",
       "        vertical-align: top;\n",
       "    }\n",
       "\n",
       "    .dataframe thead th {\n",
       "        text-align: right;\n",
       "    }\n",
       "</style>\n",
       "<table border=\"1\" class=\"dataframe\">\n",
       "  <thead>\n",
       "    <tr style=\"text-align: right;\">\n",
       "      <th></th>\n",
       "      <th>users_B</th>\n",
       "      <th>proportion_B</th>\n",
       "      <th>users_C</th>\n",
       "      <th>proportion_C</th>\n",
       "    </tr>\n",
       "    <tr>\n",
       "      <th>event_name</th>\n",
       "      <th></th>\n",
       "      <th></th>\n",
       "      <th></th>\n",
       "      <th></th>\n",
       "    </tr>\n",
       "  </thead>\n",
       "  <tbody>\n",
       "    <tr>\n",
       "      <th>MainScreenAppear</th>\n",
       "      <td>2476</td>\n",
       "      <td>98.57%</td>\n",
       "      <td>2493</td>\n",
       "      <td>98.34%</td>\n",
       "    </tr>\n",
       "  </tbody>\n",
       "</table>\n",
       "</div>"
      ],
      "text/plain": [
       "                  users_B proportion_B  users_C proportion_C\n",
       "event_name                                                  \n",
       "MainScreenAppear     2476       98.57%     2493       98.34%"
      ]
     },
     "metadata": {},
     "output_type": "display_data"
    },
    {
     "name": "stdout",
     "output_type": "stream",
     "text": [
      "Z-тест для долей между группами 'B' и 'C' при alpha=0.05:\n",
      "p-значение: 0.52\n",
      "Не отклоняем нулевую гипотезу: нет значительной разницы между долями.\n",
      "\n",
      "\n",
      "\n",
      "Анализ для события: OffersScreenAppear\n"
     ]
    },
    {
     "data": {
      "text/html": [
       "<div>\n",
       "<style scoped>\n",
       "    .dataframe tbody tr th:only-of-type {\n",
       "        vertical-align: middle;\n",
       "    }\n",
       "\n",
       "    .dataframe tbody tr th {\n",
       "        vertical-align: top;\n",
       "    }\n",
       "\n",
       "    .dataframe thead th {\n",
       "        text-align: right;\n",
       "    }\n",
       "</style>\n",
       "<table border=\"1\" class=\"dataframe\">\n",
       "  <thead>\n",
       "    <tr style=\"text-align: right;\">\n",
       "      <th></th>\n",
       "      <th>users_B</th>\n",
       "      <th>proportion_B</th>\n",
       "      <th>users_C</th>\n",
       "      <th>proportion_C</th>\n",
       "    </tr>\n",
       "    <tr>\n",
       "      <th>event_name</th>\n",
       "      <th></th>\n",
       "      <th></th>\n",
       "      <th></th>\n",
       "      <th></th>\n",
       "    </tr>\n",
       "  </thead>\n",
       "  <tbody>\n",
       "    <tr>\n",
       "      <th>OffersScreenAppear</th>\n",
       "      <td>1520</td>\n",
       "      <td>60.51%</td>\n",
       "      <td>1531</td>\n",
       "      <td>60.39%</td>\n",
       "    </tr>\n",
       "  </tbody>\n",
       "</table>\n",
       "</div>"
      ],
      "text/plain": [
       "                    users_B proportion_B  users_C proportion_C\n",
       "event_name                                                    \n",
       "OffersScreenAppear     1520       60.51%     1531       60.39%"
      ]
     },
     "metadata": {},
     "output_type": "display_data"
    },
    {
     "name": "stdout",
     "output_type": "stream",
     "text": [
      "Z-тест для долей между группами 'B' и 'C' при alpha=0.05:\n",
      "p-значение: 0.93\n",
      "Не отклоняем нулевую гипотезу: нет значительной разницы между долями.\n",
      "\n",
      "\n",
      "\n",
      "Анализ для события: CartScreenAppear\n"
     ]
    },
    {
     "data": {
      "text/html": [
       "<div>\n",
       "<style scoped>\n",
       "    .dataframe tbody tr th:only-of-type {\n",
       "        vertical-align: middle;\n",
       "    }\n",
       "\n",
       "    .dataframe tbody tr th {\n",
       "        vertical-align: top;\n",
       "    }\n",
       "\n",
       "    .dataframe thead th {\n",
       "        text-align: right;\n",
       "    }\n",
       "</style>\n",
       "<table border=\"1\" class=\"dataframe\">\n",
       "  <thead>\n",
       "    <tr style=\"text-align: right;\">\n",
       "      <th></th>\n",
       "      <th>users_B</th>\n",
       "      <th>proportion_B</th>\n",
       "      <th>users_C</th>\n",
       "      <th>proportion_C</th>\n",
       "    </tr>\n",
       "    <tr>\n",
       "      <th>event_name</th>\n",
       "      <th></th>\n",
       "      <th></th>\n",
       "      <th></th>\n",
       "      <th></th>\n",
       "    </tr>\n",
       "  </thead>\n",
       "  <tbody>\n",
       "    <tr>\n",
       "      <th>CartScreenAppear</th>\n",
       "      <td>1238</td>\n",
       "      <td>49.28%</td>\n",
       "      <td>1230</td>\n",
       "      <td>48.52%</td>\n",
       "    </tr>\n",
       "  </tbody>\n",
       "</table>\n",
       "</div>"
      ],
      "text/plain": [
       "                  users_B proportion_B  users_C proportion_C\n",
       "event_name                                                  \n",
       "CartScreenAppear     1238       49.28%     1230       48.52%"
      ]
     },
     "metadata": {},
     "output_type": "display_data"
    },
    {
     "name": "stdout",
     "output_type": "stream",
     "text": [
      "Z-тест для долей между группами 'B' и 'C' при alpha=0.05:\n",
      "p-значение: 0.59\n",
      "Не отклоняем нулевую гипотезу: нет значительной разницы между долями.\n",
      "\n",
      "\n",
      "\n",
      "Анализ для события: PaymentScreenSuccessful\n"
     ]
    },
    {
     "data": {
      "text/html": [
       "<div>\n",
       "<style scoped>\n",
       "    .dataframe tbody tr th:only-of-type {\n",
       "        vertical-align: middle;\n",
       "    }\n",
       "\n",
       "    .dataframe tbody tr th {\n",
       "        vertical-align: top;\n",
       "    }\n",
       "\n",
       "    .dataframe thead th {\n",
       "        text-align: right;\n",
       "    }\n",
       "</style>\n",
       "<table border=\"1\" class=\"dataframe\">\n",
       "  <thead>\n",
       "    <tr style=\"text-align: right;\">\n",
       "      <th></th>\n",
       "      <th>users_B</th>\n",
       "      <th>proportion_B</th>\n",
       "      <th>users_C</th>\n",
       "      <th>proportion_C</th>\n",
       "    </tr>\n",
       "    <tr>\n",
       "      <th>event_name</th>\n",
       "      <th></th>\n",
       "      <th></th>\n",
       "      <th></th>\n",
       "      <th></th>\n",
       "    </tr>\n",
       "  </thead>\n",
       "  <tbody>\n",
       "    <tr>\n",
       "      <th>PaymentScreenSuccessful</th>\n",
       "      <td>1158</td>\n",
       "      <td>46.10%</td>\n",
       "      <td>1181</td>\n",
       "      <td>46.59%</td>\n",
       "    </tr>\n",
       "  </tbody>\n",
       "</table>\n",
       "</div>"
      ],
      "text/plain": [
       "                         users_B proportion_B  users_C proportion_C\n",
       "event_name                                                         \n",
       "PaymentScreenSuccessful     1158       46.10%     1181       46.59%"
      ]
     },
     "metadata": {},
     "output_type": "display_data"
    },
    {
     "name": "stdout",
     "output_type": "stream",
     "text": [
      "Z-тест для долей между группами 'B' и 'C' при alpha=0.05:\n",
      "p-значение: 0.73\n",
      "Не отклоняем нулевую гипотезу: нет значительной разницы между долями.\n",
      "\n",
      "\n",
      "\n"
     ]
    }
   ],
   "source": [
    "def analyze_events(filtered_logs_copy, total_users_per_control_group, event_names, group_1, group_2, alpha=0.05):\n",
    "    \"\"\"\n",
    "    Функция для анализа событий между двумя группами.\n",
    "\n",
    "    Параметры:\n",
    "        filtered_logs_copy (DataFrame): Отфильтрованные логи.\n",
    "        total_users_per_control_group (Series): Общее количество пользователей в каждой контрольной группе.\n",
    "        event_names (list): Список имен событий для анализа.\n",
    "        group_1 (str): Идентификатор первой контрольной группы.\n",
    "        group_2 (str): Идентификатор второй контрольной группы.\n",
    "        alpha (float): Уровень значимости для статистического теста (по умолчанию 0.05).\n",
    "    \"\"\"\n",
    "    for event_name in event_names:\n",
    "        control_groups = filtered_logs_copy[(filtered_logs_copy['exp_id'].isin([group_1, group_2])) & (filtered_logs_copy['event_name'] == event_name)] \\\n",
    "            .pivot_table(index='event_name', \n",
    "                         columns='exp_id', \n",
    "                         values='user_id', \n",
    "                         aggfunc=pd.Series.nunique) \\\n",
    "            .sort_values(group_1, ascending=False)\n",
    "        \n",
    "        updated_control_groups = pd.DataFrame(index=control_groups.index)\n",
    "        \n",
    "        for exp_id in [group_1, group_2]:\n",
    "            updated_control_groups[f'users_{exp_id}'] = control_groups[exp_id]\n",
    "            updated_control_groups[f'proportion_{exp_id}'] = (control_groups[exp_id] / total_users_per_control_group[exp_id]).map(\"{:.2%}\".format)\n",
    "        \n",
    "        print(f\"Анализ для события: {event_name}\")\n",
    "        display(updated_control_groups)\n",
    "        \n",
    "        event_users_group_1 = updated_control_groups.loc[event_name, f'users_{group_1}']\n",
    "        event_users_group_2 = updated_control_groups.loc[event_name, f'users_{group_2}']\n",
    "        total_users_group_1 = total_users_per_control_group[group_1]\n",
    "        total_users_group_2 = total_users_per_control_group[group_2]\n",
    "        \n",
    "        print(f\"Z-тест для долей между группами '{group_1}' и '{group_2}' при alpha={alpha}:\")\n",
    "        z_test_for_proportions(event_users_group_1, event_users_group_2, total_users_group_1, total_users_group_2, alpha)\n",
    "        print(\"\\n\")\n",
    "\n",
    "# Вызов функции для анализа всех четырех событий\n",
    "event_names_to_analyze = ['MainScreenAppear', 'OffersScreenAppear', 'CartScreenAppear', 'PaymentScreenSuccessful']\n",
    "group_A = 'A'\n",
    "group_B = 'B'\n",
    "group_C = 'C'\n",
    "alpha_level = 0.05\n",
    "\n",
    "# Анализ между группами A и C\n",
    "print('Анализ между группами A и C:')\n",
    "analyze_events(filtered_logs_copy, total_users_per_control_group_no_tutorial, event_names_to_analyze, group_A, group_C, alpha_level)\n",
    "\n",
    "# Анализ между группами B и C\n",
    "print('Анализ между группами B и C:')\n",
    "analyze_events(filtered_logs_copy, total_users_per_control_group_no_tutorial, event_names_to_analyze, group_B, group_C, alpha_level)"
   ]
  },
  {
   "cell_type": "markdown",
   "metadata": {},
   "source": [
    "Исходя из результатов Z-теста для сравнения долей между группами A, B и C, можно сказать, что разбиение на группы работает корректно. Во всех анализируемых событиях (MainScreenAppear, OffersScreenAppear, CartScreenAppear и PaymentScreenSuccessful) не удалось обнаружить статистически значимых различий между долями пользователей в различных группах. Таким образом, нет оснований для предположения о том, что разбиение на группы не является случайным или неправильным."
   ]
  },
  {
   "cell_type": "markdown",
   "metadata": {},
   "source": [
    "**Сравните результаты с объединённой контрольной группой. Какие выводы из эксперимента можно сделать?**"
   ]
  },
  {
   "cell_type": "code",
   "execution_count": 38,
   "metadata": {},
   "outputs": [
    {
     "data": {
      "text/html": [
       "<div>\n",
       "<style scoped>\n",
       "    .dataframe tbody tr th:only-of-type {\n",
       "        vertical-align: middle;\n",
       "    }\n",
       "\n",
       "    .dataframe tbody tr th {\n",
       "        vertical-align: top;\n",
       "    }\n",
       "\n",
       "    .dataframe thead th {\n",
       "        text-align: right;\n",
       "    }\n",
       "</style>\n",
       "<table border=\"1\" class=\"dataframe\">\n",
       "  <thead>\n",
       "    <tr style=\"text-align: right;\">\n",
       "      <th></th>\n",
       "      <th>users_A</th>\n",
       "      <th>proportion_A</th>\n",
       "      <th>users_B</th>\n",
       "      <th>proportion_B</th>\n",
       "      <th>users_C</th>\n",
       "      <th>proportion_C</th>\n",
       "      <th>users_D</th>\n",
       "      <th>proportion_D</th>\n",
       "    </tr>\n",
       "    <tr>\n",
       "      <th>event_name</th>\n",
       "      <th></th>\n",
       "      <th></th>\n",
       "      <th></th>\n",
       "      <th></th>\n",
       "      <th></th>\n",
       "      <th></th>\n",
       "      <th></th>\n",
       "      <th></th>\n",
       "    </tr>\n",
       "  </thead>\n",
       "  <tbody>\n",
       "    <tr>\n",
       "      <th>MainScreenAppear</th>\n",
       "      <td>2450</td>\n",
       "      <td>98.67%</td>\n",
       "      <td>2476</td>\n",
       "      <td>98.57%</td>\n",
       "      <td>2493</td>\n",
       "      <td>98.34%</td>\n",
       "      <td>4926</td>\n",
       "      <td>98.62%</td>\n",
       "    </tr>\n",
       "    <tr>\n",
       "      <th>OffersScreenAppear</th>\n",
       "      <td>1542</td>\n",
       "      <td>62.10%</td>\n",
       "      <td>1520</td>\n",
       "      <td>60.51%</td>\n",
       "      <td>1531</td>\n",
       "      <td>60.39%</td>\n",
       "      <td>3062</td>\n",
       "      <td>61.30%</td>\n",
       "    </tr>\n",
       "    <tr>\n",
       "      <th>CartScreenAppear</th>\n",
       "      <td>1266</td>\n",
       "      <td>50.99%</td>\n",
       "      <td>1238</td>\n",
       "      <td>49.28%</td>\n",
       "      <td>1230</td>\n",
       "      <td>48.52%</td>\n",
       "      <td>2504</td>\n",
       "      <td>50.13%</td>\n",
       "    </tr>\n",
       "    <tr>\n",
       "      <th>PaymentScreenSuccessful</th>\n",
       "      <td>1200</td>\n",
       "      <td>48.33%</td>\n",
       "      <td>1158</td>\n",
       "      <td>46.10%</td>\n",
       "      <td>1181</td>\n",
       "      <td>46.59%</td>\n",
       "      <td>2358</td>\n",
       "      <td>47.21%</td>\n",
       "    </tr>\n",
       "  </tbody>\n",
       "</table>\n",
       "</div>"
      ],
      "text/plain": [
       "                         users_A proportion_A  users_B proportion_B  users_C  \\\n",
       "event_name                                                                     \n",
       "MainScreenAppear            2450       98.67%     2476       98.57%     2493   \n",
       "OffersScreenAppear          1542       62.10%     1520       60.51%     1531   \n",
       "CartScreenAppear            1266       50.99%     1238       49.28%     1230   \n",
       "PaymentScreenSuccessful     1200       48.33%     1158       46.10%     1181   \n",
       "\n",
       "                        proportion_C  users_D proportion_D  \n",
       "event_name                                                  \n",
       "MainScreenAppear              98.34%     4926       98.62%  \n",
       "OffersScreenAppear            60.39%     3062       61.30%  \n",
       "CartScreenAppear              48.52%     2504       50.13%  \n",
       "PaymentScreenSuccessful       46.59%     2358       47.21%  "
      ]
     },
     "metadata": {},
     "output_type": "display_data"
    }
   ],
   "source": [
    "# Исключение события 'Tutorial' из данных\n",
    "filtered_logs_no_tutorial = filtered_logs_copy[~filtered_logs_copy['event_name'].eq('Tutorial')]\n",
    "\n",
    "# Расчет общего количества уникальных пользователей в контрольных группах 'A', 'B', 'C', исключая событие 'Tutorial'\n",
    "total_users_per_control_group_no_tutorial = filtered_logs_no_tutorial[filtered_logs_no_tutorial['exp_id'].isin(['A', 'B', 'C'])].groupby('exp_id')['user_id'].nunique()\n",
    "\n",
    "# Создание сводной таблицы для контрольных групп 'A', 'B', 'C', исключая событие 'Tutorial'\n",
    "control_groups_no_tutorial = filtered_logs_no_tutorial[filtered_logs_no_tutorial['exp_id'].isin(['A', 'B', 'C'])] \\\n",
    "    .pivot_table(index='event_name', \n",
    "                 columns='exp_id', \n",
    "                 values='user_id', \n",
    "                 aggfunc='nunique') \\\n",
    "    .sort_values('A', ascending=False)\n",
    "\n",
    "# Создание нового DataFrame для обновленных контрольных групп без события 'Tutorial' с долями пользователей для всех событий\n",
    "updated_control_groups_no_tutorial = pd.DataFrame(index=control_groups_no_tutorial.index)\n",
    "\n",
    "# Добавление столбцов с количеством пользователей и долями для контрольных групп 'A', 'B', 'C', исключая событие 'Tutorial'\n",
    "for exp_id in ['A', 'B','C']:\n",
    "    updated_control_groups_no_tutorial[f'users_{exp_id}'] = control_groups_no_tutorial[exp_id]  # Столбец с количеством пользователей\n",
    "    updated_control_groups_no_tutorial[f'proportion_{exp_id}'] = (control_groups_no_tutorial[exp_id] / total_users_per_control_group_no_tutorial[exp_id]).map(\"{:.2%}\".format)  # Столбец с долями, отформатированными в процентах\n",
    "\n",
    "# Добавление нового столбца для группы 'D' как суммы 'A' и 'B'\n",
    "updated_control_groups_no_tutorial['users_D'] = updated_control_groups_no_tutorial['users_A'] + updated_control_groups_no_tutorial['users_B']\n",
    "\n",
    "# Расчет общего количества пользователей в 'A' и 'B' вместе, исключая 'Tutorial'\n",
    "total_users_AB_combined = total_users_per_control_group_no_tutorial['A'] + total_users_per_control_group_no_tutorial['B']\n",
    "\n",
    "# Добавление столбца долей для 'D'\n",
    "updated_control_groups_no_tutorial['proportion_D'] = (updated_control_groups_no_tutorial['users_D'] / total_users_AB_combined).map(\"{:.2%}\".format)\n",
    "\n",
    "display(updated_control_groups_no_tutorial)"
   ]
  },
  {
   "cell_type": "markdown",
   "metadata": {},
   "source": [
    "Общая формулировка гипотез:\n",
    "\n",
    "- Нулевая гипотеза (H₀): Между долями события в группах C и D нет статистически значимой разницы.\n",
    "- Альтернативная гипотеза (H₁): Между долями события в группах C и D есть статистически значимая разница."
   ]
  },
  {
   "cell_type": "code",
   "execution_count": 39,
   "metadata": {},
   "outputs": [
    {
     "data": {
      "text/plain": [
       "'Event: MainScreenAppear, Z-score: 0.31512026353759287, P-value: 0.7526703436483039'"
      ]
     },
     "metadata": {},
     "output_type": "display_data"
    },
    {
     "data": {
      "text/plain": [
       "'Event: OffersScreenAppear, Z-score: 1.155560508362548, P-value: 0.24786096925282275'"
      ]
     },
     "metadata": {},
     "output_type": "display_data"
    },
    {
     "data": {
      "text/plain": [
       "'Event: CartScreenAppear, Z-score: 1.203775303516804, P-value: 0.22867643757335676'"
      ]
     },
     "metadata": {},
     "output_type": "display_data"
    },
    {
     "data": {
      "text/plain": [
       "'Event: PaymentScreenSuccessful, Z-score: 1.578432523853264, P-value: 0.11446627829276619'"
      ]
     },
     "metadata": {},
     "output_type": "display_data"
    },
    {
     "data": {
      "text/html": [
       "<div>\n",
       "<style scoped>\n",
       "    .dataframe tbody tr th:only-of-type {\n",
       "        vertical-align: middle;\n",
       "    }\n",
       "\n",
       "    .dataframe tbody tr th {\n",
       "        vertical-align: top;\n",
       "    }\n",
       "\n",
       "    .dataframe thead th {\n",
       "        text-align: right;\n",
       "    }\n",
       "</style>\n",
       "<table border=\"1\" class=\"dataframe\">\n",
       "  <thead>\n",
       "    <tr style=\"text-align: right;\">\n",
       "      <th></th>\n",
       "      <th>Event</th>\n",
       "      <th>Z-score</th>\n",
       "      <th>P-value</th>\n",
       "      <th>Significant</th>\n",
       "    </tr>\n",
       "  </thead>\n",
       "  <tbody>\n",
       "    <tr>\n",
       "      <th>0</th>\n",
       "      <td>MainScreenAppear</td>\n",
       "      <td>0.315120</td>\n",
       "      <td>0.752670</td>\n",
       "      <td>False</td>\n",
       "    </tr>\n",
       "    <tr>\n",
       "      <th>1</th>\n",
       "      <td>OffersScreenAppear</td>\n",
       "      <td>1.155561</td>\n",
       "      <td>0.247861</td>\n",
       "      <td>False</td>\n",
       "    </tr>\n",
       "    <tr>\n",
       "      <th>2</th>\n",
       "      <td>CartScreenAppear</td>\n",
       "      <td>1.203775</td>\n",
       "      <td>0.228676</td>\n",
       "      <td>False</td>\n",
       "    </tr>\n",
       "    <tr>\n",
       "      <th>3</th>\n",
       "      <td>PaymentScreenSuccessful</td>\n",
       "      <td>1.578433</td>\n",
       "      <td>0.114466</td>\n",
       "      <td>False</td>\n",
       "    </tr>\n",
       "  </tbody>\n",
       "</table>\n",
       "</div>"
      ],
      "text/plain": [
       "                     Event   Z-score   P-value  Significant\n",
       "0         MainScreenAppear  0.315120  0.752670        False\n",
       "1       OffersScreenAppear  1.155561  0.247861        False\n",
       "2         CartScreenAppear  1.203775  0.228676        False\n",
       "3  PaymentScreenSuccessful  1.578433  0.114466        False"
      ]
     },
     "execution_count": 39,
     "metadata": {},
     "output_type": "execute_result"
    }
   ],
   "source": [
    "# Correct calculation of total users in group 'C' and 'D' (combined 'A' + 'B')\n",
    "users_C = updated_control_groups_no_tutorial.loc['MainScreenAppear', 'users_C']\n",
    "total_C = total_users_per_control_group_no_tutorial['C']  # Total number of users in group 'C'\n",
    "users_D = updated_control_groups_no_tutorial.loc['MainScreenAppear', 'users_D']\n",
    "total_D = total_users_AB_combined  # Total number of users in combined groups 'A' and 'B'\n",
    "\n",
    "# Perform Z-test for 'MainScreenAppear' event\n",
    "z_score, p_value = proportions_ztest([users_C, users_D], [total_C, total_D])\n",
    "\n",
    "# Define the function to analyze all four events\n",
    "def analyze_events(df, total_users_per_group, event_names, group1, group2, alpha):\n",
    "    results = []\n",
    "    for event in event_names:\n",
    "        users_group1 = df.loc[event, f'users_{group1}']\n",
    "        users_group2 = df.loc[event, f'users_{group2}']\n",
    "        total_group1 = total_users_per_group[group1]\n",
    "        total_group2 = total_users_per_group[group2]\n",
    "        \n",
    "        z_score, p_value = proportions_ztest([users_group1, users_group2], [total_group1, total_group2])\n",
    "        \n",
    "        display(f\"Event: {event}, Z-score: {z_score}, P-value: {p_value}\")\n",
    "        results.append((event, z_score, p_value, p_value < alpha))\n",
    "    \n",
    "    return pd.DataFrame(results, columns=['Event', 'Z-score', 'P-value', 'Significant'])\n",
    "\n",
    "# Call the function for analysis\n",
    "event_names_to_analyze = ['MainScreenAppear', 'OffersScreenAppear', 'CartScreenAppear', 'PaymentScreenSuccessful']\n",
    "group_C = 'C'\n",
    "group_D = 'D'\n",
    "alpha_level = 0.05\n",
    "\n",
    "# Assuming 'filtered_logs_no_tutorial' is your updated DataFrame excluding 'Tutorial' events\n",
    "# and 'total_users_per_control_group' is a Series or dict with totals for each group\n",
    "analyze_events(updated_control_groups_no_tutorial, total_users_per_control_group_no_tutorial, event_names_to_analyze, group_A, group_B, alpha_level)"
   ]
  },
  {
   "cell_type": "markdown",
   "metadata": {},
   "source": [
    "Результаты показывают, что ни для одного из событий не обнаружены статистически значимые различия между контрольными группами 'C' и 'D', так как все P-значения превышают уровень значимости 0.05. Это означает, что нет оснований отвергнуть нулевую гипотезу о равенстве долей пользователей, совершивших соответствующие события, между группами 'C' и 'D'.\n",
    "\n",
    "Таким образом, на текущем этапе эксперимента не обнаружено статистически значимых различий между контрольными группами 'C' и 'D' по четырем рассматриваемым событиям."
   ]
  },
  {
   "cell_type": "markdown",
   "metadata": {},
   "source": [
    "**Какой уровень значимости вы выбрали при проверке статистических гипотез выше? Посчитайте, сколько проверок статистических гипотез вы сделали. При уровне значимости 0.1 в 10% случаев можно ошибочно отклонить нулевую гипотезу при условии, что она верна. Какой уровень значимости стоит применить? Если вы хотите изменить его, проделайте предыдущие пункты и проверьте свои выводы.**"
   ]
  },
  {
   "cell_type": "markdown",
   "metadata": {},
   "source": [
    "**Какой уровень значимости вы выбрали при проверке статистических гипотез выше?**"
   ]
  },
  {
   "cell_type": "markdown",
   "metadata": {},
   "source": [
    "В анализе сравнивались:\n",
    "- Группа A с группой B\n",
    "- Группа A с группой C\n",
    "- Группа B с группой C\n",
    "- Группа C с объединённой группой (A+B), которая рассматривается как одна группа D в этом контексте.\n",
    "\n",
    "Для каждого из четырёх событий проводились все эти сравнения:\n",
    "- MainScreenAppear\n",
    "- OffersScreenAppear\n",
    "- CartScreenAppear\n",
    "- PaymentScreenSuccessful\n",
    "\n",
    "Таким образом, для каждого события было выполнено 4 проверки статистических гипотез."
   ]
  },
  {
   "cell_type": "code",
   "execution_count": 40,
   "metadata": {},
   "outputs": [
    {
     "data": {
      "text/plain": [
       "16"
      ]
     },
     "execution_count": 40,
     "metadata": {},
     "output_type": "execute_result"
    }
   ],
   "source": [
    "# Количество событий\n",
    "events_count = 4\n",
    "\n",
    "# Количество сравнений для каждого события\n",
    "comparisons_per_event = 4\n",
    "\n",
    "# Общее количество проверок статистических гипотез\n",
    "total_hypothesis_tests = events_count * comparisons_per_event\n",
    "total_hypothesis_tests"
   ]
  },
  {
   "cell_type": "markdown",
   "metadata": {},
   "source": [
    "Всего было проведено 16 проверок статистических гипотез."
   ]
  },
  {
   "cell_type": "markdown",
   "metadata": {},
   "source": [
    "**При уровне значимости 0.1 в 10% случаев можно ошибочно отклонить нулевую гипотезу при условии, что она верна. Какой уровень значимости стоит применить?**"
   ]
  },
  {
   "cell_type": "markdown",
   "metadata": {},
   "source": [
    "При множественных проверках статистических гипотез, когда исходный уровень значимости задан как 0.1, риск ложноположительных результатов (ошибок первого рода) увеличивается с каждым дополнительным тестом. Чтобы контролировать общую вероятность ошибочного отклонения хотя бы одной верной нулевой гипотезы на всём множестве тестов (семейный уровень ошибки), используются методы коррекции, такие как поправка Бонферрони.\n",
    "\n",
    "Поправка Бонферрони предлагает разделить исходный уровень значимости на количество проведённых тестов (N), тем самым снижая вероятность ложноположительного результата для каждого отдельного теста."
   ]
  },
  {
   "cell_type": "code",
   "execution_count": 41,
   "metadata": {},
   "outputs": [
    {
     "data": {
      "text/plain": [
       "0.003125"
      ]
     },
     "execution_count": 41,
     "metadata": {},
     "output_type": "execute_result"
    }
   ],
   "source": [
    "# Расчет скорректированного уровня значимости при альфа = 0.05\n",
    "alpha_original_05 = 0.05\n",
    "alpha_corrected_05 = alpha_original_05 / total_hypothesis_tests\n",
    "alpha_corrected_05"
   ]
  },
  {
   "cell_type": "markdown",
   "metadata": {},
   "source": [
    "Скорректированный уровень значимости, который стоит применить при исходном уровне значимости 0.05 и проведении 16 тестов, составляет 0.003125. Это поможет контролировать общий риск ложноположительных результатов при множественных тестированиях."
   ]
  },
  {
   "cell_type": "markdown",
   "metadata": {},
   "source": [
    "**Если вы хотите изменить его, проделайте предыдущие пункты и проверьте свои выводы.**"
   ]
  },
  {
   "cell_type": "markdown",
   "metadata": {},
   "source": [
    "Общая формулировка гипотез:\n",
    "\n",
    "- Нулевая гипотеза (H₀): Между долями события в группах A и B нет статистически значимой разницы.\n",
    "- Альтернативная гипотеза (H₁): Между долями события в группах A и B есть статистически значимая разница."
   ]
  },
  {
   "cell_type": "code",
   "execution_count": 42,
   "metadata": {},
   "outputs": [
    {
     "name": "stdout",
     "output_type": "stream",
     "text": [
      "Анализ для события: MainScreenAppear\n"
     ]
    },
    {
     "data": {
      "text/html": [
       "<div>\n",
       "<style scoped>\n",
       "    .dataframe tbody tr th:only-of-type {\n",
       "        vertical-align: middle;\n",
       "    }\n",
       "\n",
       "    .dataframe tbody tr th {\n",
       "        vertical-align: top;\n",
       "    }\n",
       "\n",
       "    .dataframe thead th {\n",
       "        text-align: right;\n",
       "    }\n",
       "</style>\n",
       "<table border=\"1\" class=\"dataframe\">\n",
       "  <thead>\n",
       "    <tr style=\"text-align: right;\">\n",
       "      <th></th>\n",
       "      <th>users_A</th>\n",
       "      <th>proportion_A</th>\n",
       "      <th>users_B</th>\n",
       "      <th>proportion_B</th>\n",
       "    </tr>\n",
       "    <tr>\n",
       "      <th>event_name</th>\n",
       "      <th></th>\n",
       "      <th></th>\n",
       "      <th></th>\n",
       "      <th></th>\n",
       "    </tr>\n",
       "  </thead>\n",
       "  <tbody>\n",
       "    <tr>\n",
       "      <th>MainScreenAppear</th>\n",
       "      <td>2450</td>\n",
       "      <td>98.63%</td>\n",
       "      <td>2476</td>\n",
       "      <td>98.53%</td>\n",
       "    </tr>\n",
       "  </tbody>\n",
       "</table>\n",
       "</div>"
      ],
      "text/plain": [
       "                  users_A proportion_A  users_B proportion_B\n",
       "event_name                                                  \n",
       "MainScreenAppear     2450       98.63%     2476       98.53%"
      ]
     },
     "metadata": {},
     "output_type": "display_data"
    },
    {
     "name": "stdout",
     "output_type": "stream",
     "text": [
      "Z-тест для долей между группами 'A' и 'B' при alpha=0.003125:\n",
      "p-значение: 0.76\n",
      "Не отклоняем нулевую гипотезу: нет значительной разницы между долями.\n",
      "\n",
      "\n",
      "\n",
      "Анализ для события: OffersScreenAppear\n"
     ]
    },
    {
     "data": {
      "text/html": [
       "<div>\n",
       "<style scoped>\n",
       "    .dataframe tbody tr th:only-of-type {\n",
       "        vertical-align: middle;\n",
       "    }\n",
       "\n",
       "    .dataframe tbody tr th {\n",
       "        vertical-align: top;\n",
       "    }\n",
       "\n",
       "    .dataframe thead th {\n",
       "        text-align: right;\n",
       "    }\n",
       "</style>\n",
       "<table border=\"1\" class=\"dataframe\">\n",
       "  <thead>\n",
       "    <tr style=\"text-align: right;\">\n",
       "      <th></th>\n",
       "      <th>users_A</th>\n",
       "      <th>proportion_A</th>\n",
       "      <th>users_B</th>\n",
       "      <th>proportion_B</th>\n",
       "    </tr>\n",
       "    <tr>\n",
       "      <th>event_name</th>\n",
       "      <th></th>\n",
       "      <th></th>\n",
       "      <th></th>\n",
       "      <th></th>\n",
       "    </tr>\n",
       "  </thead>\n",
       "  <tbody>\n",
       "    <tr>\n",
       "      <th>OffersScreenAppear</th>\n",
       "      <td>1542</td>\n",
       "      <td>62.08%</td>\n",
       "      <td>1520</td>\n",
       "      <td>60.49%</td>\n",
       "    </tr>\n",
       "  </tbody>\n",
       "</table>\n",
       "</div>"
      ],
      "text/plain": [
       "                    users_A proportion_A  users_B proportion_B\n",
       "event_name                                                    \n",
       "OffersScreenAppear     1542       62.08%     1520       60.49%"
      ]
     },
     "metadata": {},
     "output_type": "display_data"
    },
    {
     "name": "stdout",
     "output_type": "stream",
     "text": [
      "Z-тест для долей между группами 'A' и 'B' при alpha=0.003125:\n",
      "p-значение: 0.25\n",
      "Не отклоняем нулевую гипотезу: нет значительной разницы между долями.\n",
      "\n",
      "\n",
      "\n",
      "Анализ для события: CartScreenAppear\n"
     ]
    },
    {
     "data": {
      "text/html": [
       "<div>\n",
       "<style scoped>\n",
       "    .dataframe tbody tr th:only-of-type {\n",
       "        vertical-align: middle;\n",
       "    }\n",
       "\n",
       "    .dataframe tbody tr th {\n",
       "        vertical-align: top;\n",
       "    }\n",
       "\n",
       "    .dataframe thead th {\n",
       "        text-align: right;\n",
       "    }\n",
       "</style>\n",
       "<table border=\"1\" class=\"dataframe\">\n",
       "  <thead>\n",
       "    <tr style=\"text-align: right;\">\n",
       "      <th></th>\n",
       "      <th>users_A</th>\n",
       "      <th>proportion_A</th>\n",
       "      <th>users_B</th>\n",
       "      <th>proportion_B</th>\n",
       "    </tr>\n",
       "    <tr>\n",
       "      <th>event_name</th>\n",
       "      <th></th>\n",
       "      <th></th>\n",
       "      <th></th>\n",
       "      <th></th>\n",
       "    </tr>\n",
       "  </thead>\n",
       "  <tbody>\n",
       "    <tr>\n",
       "      <th>CartScreenAppear</th>\n",
       "      <td>1266</td>\n",
       "      <td>50.97%</td>\n",
       "      <td>1238</td>\n",
       "      <td>49.26%</td>\n",
       "    </tr>\n",
       "  </tbody>\n",
       "</table>\n",
       "</div>"
      ],
      "text/plain": [
       "                  users_A proportion_A  users_B proportion_B\n",
       "event_name                                                  \n",
       "CartScreenAppear     1266       50.97%     1238       49.26%"
      ]
     },
     "metadata": {},
     "output_type": "display_data"
    },
    {
     "name": "stdout",
     "output_type": "stream",
     "text": [
      "Z-тест для долей между группами 'A' и 'B' при alpha=0.003125:\n",
      "p-значение: 0.23\n",
      "Не отклоняем нулевую гипотезу: нет значительной разницы между долями.\n",
      "\n",
      "\n",
      "\n",
      "Анализ для события: PaymentScreenSuccessful\n"
     ]
    },
    {
     "data": {
      "text/html": [
       "<div>\n",
       "<style scoped>\n",
       "    .dataframe tbody tr th:only-of-type {\n",
       "        vertical-align: middle;\n",
       "    }\n",
       "\n",
       "    .dataframe tbody tr th {\n",
       "        vertical-align: top;\n",
       "    }\n",
       "\n",
       "    .dataframe thead th {\n",
       "        text-align: right;\n",
       "    }\n",
       "</style>\n",
       "<table border=\"1\" class=\"dataframe\">\n",
       "  <thead>\n",
       "    <tr style=\"text-align: right;\">\n",
       "      <th></th>\n",
       "      <th>users_A</th>\n",
       "      <th>proportion_A</th>\n",
       "      <th>users_B</th>\n",
       "      <th>proportion_B</th>\n",
       "    </tr>\n",
       "    <tr>\n",
       "      <th>event_name</th>\n",
       "      <th></th>\n",
       "      <th></th>\n",
       "      <th></th>\n",
       "      <th></th>\n",
       "    </tr>\n",
       "  </thead>\n",
       "  <tbody>\n",
       "    <tr>\n",
       "      <th>PaymentScreenSuccessful</th>\n",
       "      <td>1200</td>\n",
       "      <td>48.31%</td>\n",
       "      <td>1158</td>\n",
       "      <td>46.08%</td>\n",
       "    </tr>\n",
       "  </tbody>\n",
       "</table>\n",
       "</div>"
      ],
      "text/plain": [
       "                         users_A proportion_A  users_B proportion_B\n",
       "event_name                                                         \n",
       "PaymentScreenSuccessful     1200       48.31%     1158       46.08%"
      ]
     },
     "metadata": {},
     "output_type": "display_data"
    },
    {
     "name": "stdout",
     "output_type": "stream",
     "text": [
      "Z-тест для долей между группами 'A' и 'B' при alpha=0.003125:\n",
      "p-значение: 0.11\n",
      "Не отклоняем нулевую гипотезу: нет значительной разницы между долями.\n",
      "\n",
      "\n",
      "\n"
     ]
    }
   ],
   "source": [
    "def analyze_events(filtered_logs_copy, total_users_per_control_group, event_names, group_A, group_B, alpha=0.05):\n",
    "    for event_name in event_names:\n",
    "        control_groups = filtered_logs_copy[(filtered_logs_copy['exp_id'].isin([group_A, group_B])) & (filtered_logs_copy['event_name'] == event_name)] \\\n",
    "            .pivot_table(index='event_name', \n",
    "                         columns='exp_id', \n",
    "                         values='user_id', \n",
    "                         aggfunc=pd.Series.nunique) \\\n",
    "            .sort_values(group_A, ascending=False)\n",
    "        \n",
    "        updated_control_groups = pd.DataFrame(index=control_groups.index)\n",
    "        \n",
    "        for exp_id in [group_A, group_B]:\n",
    "            updated_control_groups[f'users_{exp_id}'] = control_groups[exp_id]\n",
    "            updated_control_groups[f'proportion_{exp_id}'] = (control_groups[exp_id] / total_users_per_control_group[exp_id]).map(\"{:.2%}\".format)\n",
    "        \n",
    "        print(f\"Анализ для события: {event_name}\")\n",
    "        display(updated_control_groups)\n",
    "        \n",
    "        event_users_group_A = updated_control_groups.loc[event_name, f'users_{group_A}']\n",
    "        event_users_group_B = updated_control_groups.loc[event_name, f'users_{group_B}']\n",
    "        total_users_group_A = total_users_per_control_group[group_A]\n",
    "        total_users_group_B = total_users_per_control_group[group_B]\n",
    "        \n",
    "        print(f\"Z-тест для долей между группами '{group_A}' и '{group_B}' при alpha={alpha}:\")\n",
    "        z_test_for_proportions(event_users_group_A, event_users_group_B, total_users_group_A, total_users_group_B, alpha)\n",
    "        print(\"\\n\")\n",
    "\n",
    "# Вызов функции для анализа всех четырех событий\n",
    "event_names_to_analyze = ['MainScreenAppear', 'OffersScreenAppear', 'CartScreenAppear', 'PaymentScreenSuccessful']\n",
    "group_A = 'A'\n",
    "group_B = 'B'\n",
    "alpha_level = 0.003125\n",
    "analyze_events(filtered_logs_copy, total_users_per_control_group, event_names_to_analyze, group_A, group_B, alpha_level)"
   ]
  },
  {
   "cell_type": "markdown",
   "metadata": {},
   "source": [
    "Общая формулировка гипотез:\n",
    "\n",
    "- Нулевая гипотеза (H₀): Между долями события в группах A и C нет статистически значимой разницы.\n",
    "- Альтернативная гипотеза (H₁): Между долями события в группах A и C есть статистически значимая разница."
   ]
  },
  {
   "cell_type": "markdown",
   "metadata": {},
   "source": [
    "Общая формулировка гипотез:\n",
    "\n",
    "- Нулевая гипотеза (H₀): Между долями события в группах B и C нет статистически значимой разницы.\n",
    "- Альтернативная гипотеза (H₁): Между долями события в группах B и C есть статистически значимая разница."
   ]
  },
  {
   "cell_type": "code",
   "execution_count": 43,
   "metadata": {},
   "outputs": [
    {
     "name": "stdout",
     "output_type": "stream",
     "text": [
      "Анализ между группами A и C:\n",
      "Анализ для события: MainScreenAppear\n"
     ]
    },
    {
     "data": {
      "text/html": [
       "<div>\n",
       "<style scoped>\n",
       "    .dataframe tbody tr th:only-of-type {\n",
       "        vertical-align: middle;\n",
       "    }\n",
       "\n",
       "    .dataframe tbody tr th {\n",
       "        vertical-align: top;\n",
       "    }\n",
       "\n",
       "    .dataframe thead th {\n",
       "        text-align: right;\n",
       "    }\n",
       "</style>\n",
       "<table border=\"1\" class=\"dataframe\">\n",
       "  <thead>\n",
       "    <tr style=\"text-align: right;\">\n",
       "      <th></th>\n",
       "      <th>users_A</th>\n",
       "      <th>proportion_A</th>\n",
       "      <th>users_C</th>\n",
       "      <th>proportion_C</th>\n",
       "    </tr>\n",
       "    <tr>\n",
       "      <th>event_name</th>\n",
       "      <th></th>\n",
       "      <th></th>\n",
       "      <th></th>\n",
       "      <th></th>\n",
       "    </tr>\n",
       "  </thead>\n",
       "  <tbody>\n",
       "    <tr>\n",
       "      <th>MainScreenAppear</th>\n",
       "      <td>2450</td>\n",
       "      <td>98.67%</td>\n",
       "      <td>2493</td>\n",
       "      <td>98.34%</td>\n",
       "    </tr>\n",
       "  </tbody>\n",
       "</table>\n",
       "</div>"
      ],
      "text/plain": [
       "                  users_A proportion_A  users_C proportion_C\n",
       "event_name                                                  \n",
       "MainScreenAppear     2450       98.67%     2493       98.34%"
      ]
     },
     "metadata": {},
     "output_type": "display_data"
    },
    {
     "name": "stdout",
     "output_type": "stream",
     "text": [
      "Z-тест для долей между группами 'A' и 'C' при alpha=0.003125:\n",
      "p-значение: 0.34\n",
      "Не отклоняем нулевую гипотезу: нет значительной разницы между долями.\n",
      "\n",
      "\n",
      "\n",
      "Анализ для события: OffersScreenAppear\n"
     ]
    },
    {
     "data": {
      "text/html": [
       "<div>\n",
       "<style scoped>\n",
       "    .dataframe tbody tr th:only-of-type {\n",
       "        vertical-align: middle;\n",
       "    }\n",
       "\n",
       "    .dataframe tbody tr th {\n",
       "        vertical-align: top;\n",
       "    }\n",
       "\n",
       "    .dataframe thead th {\n",
       "        text-align: right;\n",
       "    }\n",
       "</style>\n",
       "<table border=\"1\" class=\"dataframe\">\n",
       "  <thead>\n",
       "    <tr style=\"text-align: right;\">\n",
       "      <th></th>\n",
       "      <th>users_A</th>\n",
       "      <th>proportion_A</th>\n",
       "      <th>users_C</th>\n",
       "      <th>proportion_C</th>\n",
       "    </tr>\n",
       "    <tr>\n",
       "      <th>event_name</th>\n",
       "      <th></th>\n",
       "      <th></th>\n",
       "      <th></th>\n",
       "      <th></th>\n",
       "    </tr>\n",
       "  </thead>\n",
       "  <tbody>\n",
       "    <tr>\n",
       "      <th>OffersScreenAppear</th>\n",
       "      <td>1542</td>\n",
       "      <td>62.10%</td>\n",
       "      <td>1531</td>\n",
       "      <td>60.39%</td>\n",
       "    </tr>\n",
       "  </tbody>\n",
       "</table>\n",
       "</div>"
      ],
      "text/plain": [
       "                    users_A proportion_A  users_C proportion_C\n",
       "event_name                                                    \n",
       "OffersScreenAppear     1542       62.10%     1531       60.39%"
      ]
     },
     "metadata": {},
     "output_type": "display_data"
    },
    {
     "name": "stdout",
     "output_type": "stream",
     "text": [
      "Z-тест для долей между группами 'A' и 'C' при alpha=0.003125:\n",
      "p-значение: 0.21\n",
      "Не отклоняем нулевую гипотезу: нет значительной разницы между долями.\n",
      "\n",
      "\n",
      "\n",
      "Анализ для события: CartScreenAppear\n"
     ]
    },
    {
     "data": {
      "text/html": [
       "<div>\n",
       "<style scoped>\n",
       "    .dataframe tbody tr th:only-of-type {\n",
       "        vertical-align: middle;\n",
       "    }\n",
       "\n",
       "    .dataframe tbody tr th {\n",
       "        vertical-align: top;\n",
       "    }\n",
       "\n",
       "    .dataframe thead th {\n",
       "        text-align: right;\n",
       "    }\n",
       "</style>\n",
       "<table border=\"1\" class=\"dataframe\">\n",
       "  <thead>\n",
       "    <tr style=\"text-align: right;\">\n",
       "      <th></th>\n",
       "      <th>users_A</th>\n",
       "      <th>proportion_A</th>\n",
       "      <th>users_C</th>\n",
       "      <th>proportion_C</th>\n",
       "    </tr>\n",
       "    <tr>\n",
       "      <th>event_name</th>\n",
       "      <th></th>\n",
       "      <th></th>\n",
       "      <th></th>\n",
       "      <th></th>\n",
       "    </tr>\n",
       "  </thead>\n",
       "  <tbody>\n",
       "    <tr>\n",
       "      <th>CartScreenAppear</th>\n",
       "      <td>1266</td>\n",
       "      <td>50.99%</td>\n",
       "      <td>1230</td>\n",
       "      <td>48.52%</td>\n",
       "    </tr>\n",
       "  </tbody>\n",
       "</table>\n",
       "</div>"
      ],
      "text/plain": [
       "                  users_A proportion_A  users_C proportion_C\n",
       "event_name                                                  \n",
       "CartScreenAppear     1266       50.99%     1230       48.52%"
      ]
     },
     "metadata": {},
     "output_type": "display_data"
    },
    {
     "name": "stdout",
     "output_type": "stream",
     "text": [
      "Z-тест для долей между группами 'A' и 'C' при alpha=0.003125:\n",
      "p-значение: 0.08\n",
      "Не отклоняем нулевую гипотезу: нет значительной разницы между долями.\n",
      "\n",
      "\n",
      "\n",
      "Анализ для события: PaymentScreenSuccessful\n"
     ]
    },
    {
     "data": {
      "text/html": [
       "<div>\n",
       "<style scoped>\n",
       "    .dataframe tbody tr th:only-of-type {\n",
       "        vertical-align: middle;\n",
       "    }\n",
       "\n",
       "    .dataframe tbody tr th {\n",
       "        vertical-align: top;\n",
       "    }\n",
       "\n",
       "    .dataframe thead th {\n",
       "        text-align: right;\n",
       "    }\n",
       "</style>\n",
       "<table border=\"1\" class=\"dataframe\">\n",
       "  <thead>\n",
       "    <tr style=\"text-align: right;\">\n",
       "      <th></th>\n",
       "      <th>users_A</th>\n",
       "      <th>proportion_A</th>\n",
       "      <th>users_C</th>\n",
       "      <th>proportion_C</th>\n",
       "    </tr>\n",
       "    <tr>\n",
       "      <th>event_name</th>\n",
       "      <th></th>\n",
       "      <th></th>\n",
       "      <th></th>\n",
       "      <th></th>\n",
       "    </tr>\n",
       "  </thead>\n",
       "  <tbody>\n",
       "    <tr>\n",
       "      <th>PaymentScreenSuccessful</th>\n",
       "      <td>1200</td>\n",
       "      <td>48.33%</td>\n",
       "      <td>1181</td>\n",
       "      <td>46.59%</td>\n",
       "    </tr>\n",
       "  </tbody>\n",
       "</table>\n",
       "</div>"
      ],
      "text/plain": [
       "                         users_A proportion_A  users_C proportion_C\n",
       "event_name                                                         \n",
       "PaymentScreenSuccessful     1200       48.33%     1181       46.59%"
      ]
     },
     "metadata": {},
     "output_type": "display_data"
    },
    {
     "name": "stdout",
     "output_type": "stream",
     "text": [
      "Z-тест для долей между группами 'A' и 'C' при alpha=0.003125:\n",
      "p-значение: 0.22\n",
      "Не отклоняем нулевую гипотезу: нет значительной разницы между долями.\n",
      "\n",
      "\n",
      "\n",
      "Анализ между группами B и C:\n",
      "Анализ для события: MainScreenAppear\n"
     ]
    },
    {
     "data": {
      "text/html": [
       "<div>\n",
       "<style scoped>\n",
       "    .dataframe tbody tr th:only-of-type {\n",
       "        vertical-align: middle;\n",
       "    }\n",
       "\n",
       "    .dataframe tbody tr th {\n",
       "        vertical-align: top;\n",
       "    }\n",
       "\n",
       "    .dataframe thead th {\n",
       "        text-align: right;\n",
       "    }\n",
       "</style>\n",
       "<table border=\"1\" class=\"dataframe\">\n",
       "  <thead>\n",
       "    <tr style=\"text-align: right;\">\n",
       "      <th></th>\n",
       "      <th>users_B</th>\n",
       "      <th>proportion_B</th>\n",
       "      <th>users_C</th>\n",
       "      <th>proportion_C</th>\n",
       "    </tr>\n",
       "    <tr>\n",
       "      <th>event_name</th>\n",
       "      <th></th>\n",
       "      <th></th>\n",
       "      <th></th>\n",
       "      <th></th>\n",
       "    </tr>\n",
       "  </thead>\n",
       "  <tbody>\n",
       "    <tr>\n",
       "      <th>MainScreenAppear</th>\n",
       "      <td>2476</td>\n",
       "      <td>98.57%</td>\n",
       "      <td>2493</td>\n",
       "      <td>98.34%</td>\n",
       "    </tr>\n",
       "  </tbody>\n",
       "</table>\n",
       "</div>"
      ],
      "text/plain": [
       "                  users_B proportion_B  users_C proportion_C\n",
       "event_name                                                  \n",
       "MainScreenAppear     2476       98.57%     2493       98.34%"
      ]
     },
     "metadata": {},
     "output_type": "display_data"
    },
    {
     "name": "stdout",
     "output_type": "stream",
     "text": [
      "Z-тест для долей между группами 'B' и 'C' при alpha=0.003125:\n",
      "p-значение: 0.52\n",
      "Не отклоняем нулевую гипотезу: нет значительной разницы между долями.\n",
      "\n",
      "\n",
      "\n",
      "Анализ для события: OffersScreenAppear\n"
     ]
    },
    {
     "data": {
      "text/html": [
       "<div>\n",
       "<style scoped>\n",
       "    .dataframe tbody tr th:only-of-type {\n",
       "        vertical-align: middle;\n",
       "    }\n",
       "\n",
       "    .dataframe tbody tr th {\n",
       "        vertical-align: top;\n",
       "    }\n",
       "\n",
       "    .dataframe thead th {\n",
       "        text-align: right;\n",
       "    }\n",
       "</style>\n",
       "<table border=\"1\" class=\"dataframe\">\n",
       "  <thead>\n",
       "    <tr style=\"text-align: right;\">\n",
       "      <th></th>\n",
       "      <th>users_B</th>\n",
       "      <th>proportion_B</th>\n",
       "      <th>users_C</th>\n",
       "      <th>proportion_C</th>\n",
       "    </tr>\n",
       "    <tr>\n",
       "      <th>event_name</th>\n",
       "      <th></th>\n",
       "      <th></th>\n",
       "      <th></th>\n",
       "      <th></th>\n",
       "    </tr>\n",
       "  </thead>\n",
       "  <tbody>\n",
       "    <tr>\n",
       "      <th>OffersScreenAppear</th>\n",
       "      <td>1520</td>\n",
       "      <td>60.51%</td>\n",
       "      <td>1531</td>\n",
       "      <td>60.39%</td>\n",
       "    </tr>\n",
       "  </tbody>\n",
       "</table>\n",
       "</div>"
      ],
      "text/plain": [
       "                    users_B proportion_B  users_C proportion_C\n",
       "event_name                                                    \n",
       "OffersScreenAppear     1520       60.51%     1531       60.39%"
      ]
     },
     "metadata": {},
     "output_type": "display_data"
    },
    {
     "name": "stdout",
     "output_type": "stream",
     "text": [
      "Z-тест для долей между группами 'B' и 'C' при alpha=0.003125:\n",
      "p-значение: 0.93\n",
      "Не отклоняем нулевую гипотезу: нет значительной разницы между долями.\n",
      "\n",
      "\n",
      "\n",
      "Анализ для события: CartScreenAppear\n"
     ]
    },
    {
     "data": {
      "text/html": [
       "<div>\n",
       "<style scoped>\n",
       "    .dataframe tbody tr th:only-of-type {\n",
       "        vertical-align: middle;\n",
       "    }\n",
       "\n",
       "    .dataframe tbody tr th {\n",
       "        vertical-align: top;\n",
       "    }\n",
       "\n",
       "    .dataframe thead th {\n",
       "        text-align: right;\n",
       "    }\n",
       "</style>\n",
       "<table border=\"1\" class=\"dataframe\">\n",
       "  <thead>\n",
       "    <tr style=\"text-align: right;\">\n",
       "      <th></th>\n",
       "      <th>users_B</th>\n",
       "      <th>proportion_B</th>\n",
       "      <th>users_C</th>\n",
       "      <th>proportion_C</th>\n",
       "    </tr>\n",
       "    <tr>\n",
       "      <th>event_name</th>\n",
       "      <th></th>\n",
       "      <th></th>\n",
       "      <th></th>\n",
       "      <th></th>\n",
       "    </tr>\n",
       "  </thead>\n",
       "  <tbody>\n",
       "    <tr>\n",
       "      <th>CartScreenAppear</th>\n",
       "      <td>1238</td>\n",
       "      <td>49.28%</td>\n",
       "      <td>1230</td>\n",
       "      <td>48.52%</td>\n",
       "    </tr>\n",
       "  </tbody>\n",
       "</table>\n",
       "</div>"
      ],
      "text/plain": [
       "                  users_B proportion_B  users_C proportion_C\n",
       "event_name                                                  \n",
       "CartScreenAppear     1238       49.28%     1230       48.52%"
      ]
     },
     "metadata": {},
     "output_type": "display_data"
    },
    {
     "name": "stdout",
     "output_type": "stream",
     "text": [
      "Z-тест для долей между группами 'B' и 'C' при alpha=0.003125:\n",
      "p-значение: 0.59\n",
      "Не отклоняем нулевую гипотезу: нет значительной разницы между долями.\n",
      "\n",
      "\n",
      "\n",
      "Анализ для события: PaymentScreenSuccessful\n"
     ]
    },
    {
     "data": {
      "text/html": [
       "<div>\n",
       "<style scoped>\n",
       "    .dataframe tbody tr th:only-of-type {\n",
       "        vertical-align: middle;\n",
       "    }\n",
       "\n",
       "    .dataframe tbody tr th {\n",
       "        vertical-align: top;\n",
       "    }\n",
       "\n",
       "    .dataframe thead th {\n",
       "        text-align: right;\n",
       "    }\n",
       "</style>\n",
       "<table border=\"1\" class=\"dataframe\">\n",
       "  <thead>\n",
       "    <tr style=\"text-align: right;\">\n",
       "      <th></th>\n",
       "      <th>users_B</th>\n",
       "      <th>proportion_B</th>\n",
       "      <th>users_C</th>\n",
       "      <th>proportion_C</th>\n",
       "    </tr>\n",
       "    <tr>\n",
       "      <th>event_name</th>\n",
       "      <th></th>\n",
       "      <th></th>\n",
       "      <th></th>\n",
       "      <th></th>\n",
       "    </tr>\n",
       "  </thead>\n",
       "  <tbody>\n",
       "    <tr>\n",
       "      <th>PaymentScreenSuccessful</th>\n",
       "      <td>1158</td>\n",
       "      <td>46.10%</td>\n",
       "      <td>1181</td>\n",
       "      <td>46.59%</td>\n",
       "    </tr>\n",
       "  </tbody>\n",
       "</table>\n",
       "</div>"
      ],
      "text/plain": [
       "                         users_B proportion_B  users_C proportion_C\n",
       "event_name                                                         \n",
       "PaymentScreenSuccessful     1158       46.10%     1181       46.59%"
      ]
     },
     "metadata": {},
     "output_type": "display_data"
    },
    {
     "name": "stdout",
     "output_type": "stream",
     "text": [
      "Z-тест для долей между группами 'B' и 'C' при alpha=0.003125:\n",
      "p-значение: 0.73\n",
      "Не отклоняем нулевую гипотезу: нет значительной разницы между долями.\n",
      "\n",
      "\n",
      "\n"
     ]
    }
   ],
   "source": [
    "def analyze_events(filtered_logs_copy, total_users_per_control_group, event_names, group_1, group_2, alpha=0.05):\n",
    "    for event_name in event_names:\n",
    "        control_groups = filtered_logs_copy[(filtered_logs_copy['exp_id'].isin([group_1, group_2])) & (filtered_logs_copy['event_name'] == event_name)] \\\n",
    "            .pivot_table(index='event_name', \n",
    "                         columns='exp_id', \n",
    "                         values='user_id', \n",
    "                         aggfunc=pd.Series.nunique) \\\n",
    "            .sort_values(group_1, ascending=False)\n",
    "        \n",
    "        updated_control_groups = pd.DataFrame(index=control_groups.index)\n",
    "        \n",
    "        for exp_id in [group_1, group_2]:\n",
    "            updated_control_groups[f'users_{exp_id}'] = control_groups[exp_id]\n",
    "            updated_control_groups[f'proportion_{exp_id}'] = (control_groups[exp_id] / total_users_per_control_group[exp_id]).map(\"{:.2%}\".format)\n",
    "        \n",
    "        print(f\"Анализ для события: {event_name}\")\n",
    "        display(updated_control_groups)\n",
    "        \n",
    "        event_users_group_1 = updated_control_groups.loc[event_name, f'users_{group_1}']\n",
    "        event_users_group_2 = updated_control_groups.loc[event_name, f'users_{group_2}']\n",
    "        total_users_group_1 = total_users_per_control_group[group_1]\n",
    "        total_users_group_2 = total_users_per_control_group[group_2]\n",
    "        \n",
    "        print(f\"Z-тест для долей между группами '{group_1}' и '{group_2}' при alpha={alpha}:\")\n",
    "        z_test_for_proportions(event_users_group_1, event_users_group_2, total_users_group_1, total_users_group_2, alpha)\n",
    "        print(\"\\n\")\n",
    "\n",
    "# Вызов функции для анализа всех четырех событий\n",
    "event_names_to_analyze = ['MainScreenAppear', 'OffersScreenAppear', 'CartScreenAppear', 'PaymentScreenSuccessful']\n",
    "group_A = 'A'\n",
    "group_B = 'B'\n",
    "group_C = 'C'\n",
    "alpha_level = 0.003125\n",
    "\n",
    "# Анализ между группами A и C\n",
    "print('Анализ между группами A и C:')\n",
    "analyze_events(filtered_logs_copy, total_users_per_control_group_no_tutorial, event_names_to_analyze, group_A, group_C, alpha_level)\n",
    "\n",
    "# Анализ между группами B и C\n",
    "print('Анализ между группами B и C:')\n",
    "analyze_events(filtered_logs_copy, total_users_per_control_group_no_tutorial, event_names_to_analyze, group_B, group_C, alpha_level)"
   ]
  },
  {
   "cell_type": "markdown",
   "metadata": {},
   "source": [
    "Общая формулировка гипотез:\n",
    "\n",
    "- Нулевая гипотеза (H₀): Между долями события в группах C и D нет статистически значимой разницы.\n",
    "- Альтернативная гипотеза (H₁): Между долями события в группах C и D есть статистически значимая разница."
   ]
  },
  {
   "cell_type": "code",
   "execution_count": 44,
   "metadata": {},
   "outputs": [
    {
     "data": {
      "text/plain": [
       "'Event: MainScreenAppear, Z-score: 0.31512026353759287, P-value: 0.7526703436483039'"
      ]
     },
     "metadata": {},
     "output_type": "display_data"
    },
    {
     "data": {
      "text/plain": [
       "'Event: OffersScreenAppear, Z-score: 1.155560508362548, P-value: 0.24786096925282275'"
      ]
     },
     "metadata": {},
     "output_type": "display_data"
    },
    {
     "data": {
      "text/plain": [
       "'Event: CartScreenAppear, Z-score: 1.203775303516804, P-value: 0.22867643757335676'"
      ]
     },
     "metadata": {},
     "output_type": "display_data"
    },
    {
     "data": {
      "text/plain": [
       "'Event: PaymentScreenSuccessful, Z-score: 1.578432523853264, P-value: 0.11446627829276619'"
      ]
     },
     "metadata": {},
     "output_type": "display_data"
    },
    {
     "data": {
      "text/html": [
       "<div>\n",
       "<style scoped>\n",
       "    .dataframe tbody tr th:only-of-type {\n",
       "        vertical-align: middle;\n",
       "    }\n",
       "\n",
       "    .dataframe tbody tr th {\n",
       "        vertical-align: top;\n",
       "    }\n",
       "\n",
       "    .dataframe thead th {\n",
       "        text-align: right;\n",
       "    }\n",
       "</style>\n",
       "<table border=\"1\" class=\"dataframe\">\n",
       "  <thead>\n",
       "    <tr style=\"text-align: right;\">\n",
       "      <th></th>\n",
       "      <th>Event</th>\n",
       "      <th>Z-score</th>\n",
       "      <th>P-value</th>\n",
       "      <th>Significant</th>\n",
       "    </tr>\n",
       "  </thead>\n",
       "  <tbody>\n",
       "    <tr>\n",
       "      <th>0</th>\n",
       "      <td>MainScreenAppear</td>\n",
       "      <td>0.315120</td>\n",
       "      <td>0.752670</td>\n",
       "      <td>False</td>\n",
       "    </tr>\n",
       "    <tr>\n",
       "      <th>1</th>\n",
       "      <td>OffersScreenAppear</td>\n",
       "      <td>1.155561</td>\n",
       "      <td>0.247861</td>\n",
       "      <td>False</td>\n",
       "    </tr>\n",
       "    <tr>\n",
       "      <th>2</th>\n",
       "      <td>CartScreenAppear</td>\n",
       "      <td>1.203775</td>\n",
       "      <td>0.228676</td>\n",
       "      <td>False</td>\n",
       "    </tr>\n",
       "    <tr>\n",
       "      <th>3</th>\n",
       "      <td>PaymentScreenSuccessful</td>\n",
       "      <td>1.578433</td>\n",
       "      <td>0.114466</td>\n",
       "      <td>False</td>\n",
       "    </tr>\n",
       "  </tbody>\n",
       "</table>\n",
       "</div>"
      ],
      "text/plain": [
       "                     Event   Z-score   P-value  Significant\n",
       "0         MainScreenAppear  0.315120  0.752670        False\n",
       "1       OffersScreenAppear  1.155561  0.247861        False\n",
       "2         CartScreenAppear  1.203775  0.228676        False\n",
       "3  PaymentScreenSuccessful  1.578433  0.114466        False"
      ]
     },
     "execution_count": 44,
     "metadata": {},
     "output_type": "execute_result"
    }
   ],
   "source": [
    "# Correct calculation of total users in group 'C' and 'D' (combined 'A' + 'B')\n",
    "users_C = updated_control_groups_no_tutorial.loc['MainScreenAppear', 'users_C']\n",
    "total_C = total_users_per_control_group_no_tutorial['C']  # Total number of users in group 'C'\n",
    "users_D = updated_control_groups_no_tutorial.loc['MainScreenAppear', 'users_D']\n",
    "total_D = total_users_AB_combined  # Total number of users in combined groups 'A' and 'B'\n",
    "\n",
    "# Perform Z-test for 'MainScreenAppear' event\n",
    "z_score, p_value = proportions_ztest([users_C, users_D], [total_C, total_D])\n",
    "\n",
    "# Define the function to analyze all four events\n",
    "def analyze_events(df, total_users_per_group, event_names, group1, group2, alpha):\n",
    "    results = []\n",
    "    for event in event_names:\n",
    "        users_group1 = df.loc[event, f'users_{group1}']\n",
    "        users_group2 = df.loc[event, f'users_{group2}']\n",
    "        total_group1 = total_users_per_group[group1]\n",
    "        total_group2 = total_users_per_group[group2]\n",
    "        \n",
    "        z_score, p_value = proportions_ztest([users_group1, users_group2], [total_group1, total_group2])\n",
    "        \n",
    "        display(f\"Event: {event}, Z-score: {z_score}, P-value: {p_value}\")\n",
    "        results.append((event, z_score, p_value, p_value < alpha))\n",
    "    \n",
    "    return pd.DataFrame(results, columns=['Event', 'Z-score', 'P-value', 'Significant'])\n",
    "\n",
    "# Call the function for analysis\n",
    "event_names_to_analyze = ['MainScreenAppear', 'OffersScreenAppear', 'CartScreenAppear', 'PaymentScreenSuccessful']\n",
    "group_C = 'C'\n",
    "group_D = 'D'\n",
    "alpha_level = 0.003125\n",
    "\n",
    "# Assuming 'filtered_logs_no_tutorial' is your updated DataFrame excluding 'Tutorial' events\n",
    "# and 'total_users_per_control_group' is a Series or dict with totals for each group\n",
    "analyze_events(updated_control_groups_no_tutorial, total_users_per_control_group_no_tutorial, event_names_to_analyze, group_A, group_B, alpha_level)"
   ]
  },
  {
   "cell_type": "markdown",
   "metadata": {},
   "source": [
    "При проверке статистических гипотез выше использовался скорректированный уровень значимости alpha = 0.003125, который был рассчитан с учетом поправки Бонферрони для управления ошибкой первого рода при множественных сравнениях.\n",
    "\n",
    "Было проведено 16 проверок статистических гипотез, поскольку для каждого из четырех событий анализировались сравнения между группами A и B, A и C, B и C, а также между группой C и объединенной группой (A+B), рассматриваемой как группа D.\n",
    "\n",
    "После проведения анализа при использовании скорректированного уровня значимости alpha = 0.003125 результаты остаются схожими: для всех событий не обнаружены статистически значимые различия между контрольными группами. Все P-значения оказались выше уровня значимости, и, следовательно, нулевая гипотеза о равенстве долей пользователей не отвергается.\n",
    "\n",
    "Таким образом, после применения поправки Бонферрони выводы остаются неизменными: не существует статистически значимых различий между контрольными группами по четырем рассматриваемым событиям."
   ]
  },
  {
   "cell_type": "markdown",
   "metadata": {},
   "source": [
    "**Промежуточный Вывод:**\n",
    "\n",
    "На основании предоставленной информации и анализа проведенных статистических тестов можно сделать следующие выводы:\n",
    "\n",
    "1. **Корректность Разбиения на Группы:**\n",
    "   - Анализ контрольных групп A и B через А/А-эксперимент показал, что статистически значимых различий между этими группами не обнаружено. Это подтверждает, что механизмы и расчеты эксперимента работают корректно, и система сплитования эффективно разделяет пользователей без искажения данных.\n",
    "\n",
    "\n",
    "2. **Популярность Событий:**\n",
    "   - Самым популярным событием среди пользователей всех трех групп (A, B, и C) является \"MainScreenAppear\". Это указывает на высокую вовлеченность пользователей в использование приложения, начиная с главного экрана.\n",
    "\n",
    "\n",
    "3. **Отсутствие Статистически Значимых Различий:**\n",
    "   - При сравнении результатов между группами по различным событиям (MainScreenAppear, OffersScreenAppear, CartScreenAppear, PaymentScreenSuccessful) не обнаружено статистически значимых различий. Это касается как сравнения между контрольными группами, так и сравнения контрольных групп с экспериментальной группой, в которой был изменен шрифт.\n",
    "\n",
    "\n",
    "4. **Множественные Проверки и Уровень Значимости:**\n",
    "   - Учитывая множество проведенных тестов, применение поправки Бонферрони для коррекции уровня значимости было обоснованным подходом. Это помогло управлять риском ложноположительных выводов при множественных сравнениях. Использование скорректированного уровня значимости 0.003125 подтвердило отсутствие значимых различий между группами.\n",
    "\n",
    "\n",
    "5. **Выводы из Эксперимента:**\n",
    "   - Результаты эксперимента показывают, что внедрение измененного шрифта не оказало статистически значимого влияния на поведение пользователей по отношению к рассматриваемым событиям. Это может свидетельствовать о том, что изменение шрифта не повлияло на пользовательский опыт в контексте исследованных событий.\n",
    "\n",
    "Исходя из проведенного анализа, можно заключить, что эксперимент был корректно спланирован и проведен. Механизмы сплитования работают эффективно, обеспечивая равномерное и непредвзятое распределение пользователей по группам. Изменение шрифта, по результатам данного эксперимента, не оказало заметного влияния на действия пользователей в приложении."
   ]
  },
  {
   "cell_type": "markdown",
   "metadata": {},
   "source": [
    "<hr style=\"border: 1px solid black;\">"
   ]
  },
  {
   "cell_type": "markdown",
   "metadata": {},
   "source": [
    "# **Итоговый Вывод:**"
   ]
  },
  {
   "cell_type": "markdown",
   "metadata": {},
   "source": [
    "Исходя из проведенного анализа данных эксперимента в мобильном приложении, можно сделать следующие обобщенные выводы:\n",
    "\n",
    "1. **Качество данных и подготовка к анализу**: Данные были тщательно подготовлены к анализу, включая удаление дубликатов, проверку на пропуски и добавление дополнительных столбцов для удобства анализа. Несмотря на некоторую потерю данных при фильтрации по датам, этот шаг позволил сфокусироваться на наиболее полном и стабильном наборе данных для анализа.\n",
    "\n",
    "2. **Порядок событий и воронка продаж**: Анализ показал, что взаимодействие пользователей с приложением следует определенной последовательности, начиная с посещения главного экрана и завершая успешной оплатой. Отмечена потеря пользователей на каждом этапе воронки, особенно на первом переходе от главного экрана к экрану предложений. Тем не менее, процент пользователей, завершающих покупку, является важным показателем вовлеченности и эффективности приложения.\n",
    "\n",
    "3. **Эффективность эксперимента и анализ групп**: Проведенный А/А-эксперимент подтвердил отсутствие статистически значимых различий между контрольными группами, что свидетельствует о корректности разбиения пользователей на группы и надежности механизмов сплитования. Сравнение контрольных и экспериментальных групп показало, что изменение шрифта в приложении не оказало статистически значимого влияния на поведение пользователей, что указывает на его незначительное влияние на пользовательский опыт в контексте анализируемых событий.\n",
    "\n",
    "4. **Множественные проверки и статистическая значимость**: Применение поправки Бонферрони позволило корректно управлять уровнем значимости при множественных сравнениях, уменьшая риск ложноположительных результатов. Отсутствие значимых различий между группами после коррекции подтверждает выводы о влиянии изменений в приложении.\n",
    "\n",
    "В заключение, эксперимент был корректно спланирован и проведен, с эффективным разделением пользователей на группы и точным сбором данных. Изменение шрифта в приложении не оказало значимого влияния на действия пользователей."
   ]
  },
  {
   "cell_type": "code",
   "execution_count": null,
   "metadata": {},
   "outputs": [],
   "source": []
  }
 ],
 "metadata": {
  "ExecuteTimeLog": [
   {
    "duration": 41,
    "start_time": "2024-03-08T07:12:17.839Z"
   },
   {
    "duration": 370,
    "start_time": "2024-03-08T07:12:39.851Z"
   },
   {
    "duration": 594,
    "start_time": "2024-03-08T07:13:08.365Z"
   },
   {
    "duration": 168,
    "start_time": "2024-03-08T07:13:48.386Z"
   },
   {
    "duration": 25,
    "start_time": "2024-03-08T07:14:01.351Z"
   },
   {
    "duration": 7,
    "start_time": "2024-03-08T07:14:09.765Z"
   },
   {
    "duration": 18,
    "start_time": "2024-03-08T07:14:12.368Z"
   },
   {
    "duration": 9,
    "start_time": "2024-03-08T07:14:33.990Z"
   },
   {
    "duration": 65,
    "start_time": "2024-03-08T07:14:34.574Z"
   },
   {
    "duration": 18,
    "start_time": "2024-03-08T07:14:39.708Z"
   },
   {
    "duration": 6,
    "start_time": "2024-03-08T07:19:03.008Z"
   },
   {
    "duration": 18,
    "start_time": "2024-03-08T07:19:03.813Z"
   },
   {
    "duration": 21,
    "start_time": "2024-03-08T07:19:32.778Z"
   },
   {
    "duration": 17,
    "start_time": "2024-03-08T07:19:55.679Z"
   },
   {
    "duration": 7,
    "start_time": "2024-03-08T07:19:59.156Z"
   },
   {
    "duration": 17,
    "start_time": "2024-03-08T07:19:59.758Z"
   },
   {
    "duration": 1189,
    "start_time": "2024-03-08T07:30:06.571Z"
   },
   {
    "duration": 3,
    "start_time": "2024-03-08T07:37:04.071Z"
   },
   {
    "duration": 7,
    "start_time": "2024-03-08T07:37:04.815Z"
   },
   {
    "duration": 70,
    "start_time": "2024-03-08T07:37:33.477Z"
   },
   {
    "duration": 26,
    "start_time": "2024-03-08T07:37:39.448Z"
   },
   {
    "duration": 32,
    "start_time": "2024-03-08T07:37:45.075Z"
   },
   {
    "duration": 294,
    "start_time": "2024-03-08T07:39:39.171Z"
   },
   {
    "duration": 0,
    "start_time": "2024-03-08T07:39:39.467Z"
   },
   {
    "duration": 69,
    "start_time": "2024-03-08T07:39:39.570Z"
   },
   {
    "duration": 27,
    "start_time": "2024-03-08T07:39:45.699Z"
   },
   {
    "duration": 279,
    "start_time": "2024-03-08T07:39:47.743Z"
   },
   {
    "duration": 342,
    "start_time": "2024-03-08T07:39:54.885Z"
   },
   {
    "duration": 159,
    "start_time": "2024-03-08T07:39:55.229Z"
   },
   {
    "duration": 13,
    "start_time": "2024-03-08T07:39:55.389Z"
   },
   {
    "duration": 20,
    "start_time": "2024-03-08T07:39:55.403Z"
   },
   {
    "duration": 2,
    "start_time": "2024-03-08T07:39:55.425Z"
   },
   {
    "duration": 10,
    "start_time": "2024-03-08T07:39:55.444Z"
   },
   {
    "duration": 71,
    "start_time": "2024-03-08T07:39:55.455Z"
   },
   {
    "duration": 34,
    "start_time": "2024-03-08T07:39:55.528Z"
   },
   {
    "duration": 31,
    "start_time": "2024-03-08T07:39:55.563Z"
   },
   {
    "duration": 357,
    "start_time": "2024-03-08T07:40:36.162Z"
   },
   {
    "duration": 160,
    "start_time": "2024-03-08T07:40:36.521Z"
   },
   {
    "duration": 12,
    "start_time": "2024-03-08T07:40:36.682Z"
   },
   {
    "duration": 39,
    "start_time": "2024-03-08T07:40:36.695Z"
   },
   {
    "duration": 7,
    "start_time": "2024-03-08T07:40:36.736Z"
   },
   {
    "duration": 15,
    "start_time": "2024-03-08T07:40:36.744Z"
   },
   {
    "duration": 91,
    "start_time": "2024-03-08T07:40:36.760Z"
   },
   {
    "duration": 27,
    "start_time": "2024-03-08T07:40:36.853Z"
   },
   {
    "duration": 28,
    "start_time": "2024-03-08T07:40:36.882Z"
   },
   {
    "duration": 34,
    "start_time": "2024-03-08T08:34:34.787Z"
   },
   {
    "duration": 4,
    "start_time": "2024-03-08T08:34:37.998Z"
   },
   {
    "duration": 5,
    "start_time": "2024-03-08T08:34:49.448Z"
   },
   {
    "duration": 29,
    "start_time": "2024-03-08T08:35:46.297Z"
   },
   {
    "duration": 27,
    "start_time": "2024-03-08T08:35:56.545Z"
   },
   {
    "duration": 4,
    "start_time": "2024-03-08T08:35:57.028Z"
   },
   {
    "duration": 4,
    "start_time": "2024-03-08T08:36:07.624Z"
   },
   {
    "duration": 23,
    "start_time": "2024-03-08T08:36:36.466Z"
   },
   {
    "duration": 5,
    "start_time": "2024-03-08T08:36:36.843Z"
   },
   {
    "duration": 378,
    "start_time": "2024-03-08T10:59:03.129Z"
   },
   {
    "duration": 519,
    "start_time": "2024-03-08T10:59:03.509Z"
   },
   {
    "duration": 17,
    "start_time": "2024-03-08T10:59:04.030Z"
   },
   {
    "duration": 21,
    "start_time": "2024-03-08T10:59:04.049Z"
   },
   {
    "duration": 3,
    "start_time": "2024-03-08T10:59:04.072Z"
   },
   {
    "duration": 41,
    "start_time": "2024-03-08T10:59:04.076Z"
   },
   {
    "duration": 81,
    "start_time": "2024-03-08T10:59:04.118Z"
   },
   {
    "duration": 35,
    "start_time": "2024-03-08T10:59:04.200Z"
   },
   {
    "duration": 5,
    "start_time": "2024-03-08T10:59:04.237Z"
   },
   {
    "duration": 394,
    "start_time": "2024-03-08T11:31:08.491Z"
   },
   {
    "duration": 0,
    "start_time": "2024-03-08T11:31:08.887Z"
   },
   {
    "duration": 0,
    "start_time": "2024-03-08T11:31:08.888Z"
   },
   {
    "duration": 26,
    "start_time": "2024-03-08T11:31:09.115Z"
   },
   {
    "duration": 4,
    "start_time": "2024-03-08T11:31:09.290Z"
   },
   {
    "duration": 389,
    "start_time": "2024-03-08T11:31:14.517Z"
   },
   {
    "duration": 190,
    "start_time": "2024-03-08T11:31:14.907Z"
   },
   {
    "duration": 13,
    "start_time": "2024-03-08T11:31:15.099Z"
   },
   {
    "duration": 24,
    "start_time": "2024-03-08T11:31:15.114Z"
   },
   {
    "duration": 4,
    "start_time": "2024-03-08T11:31:15.140Z"
   },
   {
    "duration": 59,
    "start_time": "2024-03-08T11:31:15.145Z"
   },
   {
    "duration": 90,
    "start_time": "2024-03-08T11:31:15.206Z"
   },
   {
    "duration": 27,
    "start_time": "2024-03-08T11:31:15.298Z"
   },
   {
    "duration": 6,
    "start_time": "2024-03-08T11:31:15.327Z"
   },
   {
    "duration": 66,
    "start_time": "2024-03-08T11:32:23.877Z"
   },
   {
    "duration": 5,
    "start_time": "2024-03-08T11:32:28.837Z"
   },
   {
    "duration": 62,
    "start_time": "2024-03-08T11:32:29.773Z"
   },
   {
    "duration": 88,
    "start_time": "2024-03-08T11:32:30.025Z"
   },
   {
    "duration": 36,
    "start_time": "2024-03-08T11:33:25.723Z"
   },
   {
    "duration": 6,
    "start_time": "2024-03-08T11:33:51.678Z"
   },
   {
    "duration": 7,
    "start_time": "2024-03-08T11:34:05.740Z"
   },
   {
    "duration": 6,
    "start_time": "2024-03-08T11:34:45.484Z"
   },
   {
    "duration": 31,
    "start_time": "2024-03-08T11:35:06.127Z"
   },
   {
    "duration": 317,
    "start_time": "2024-03-08T11:35:10.021Z"
   },
   {
    "duration": 32,
    "start_time": "2024-03-08T11:35:10.370Z"
   },
   {
    "duration": 5,
    "start_time": "2024-03-08T11:35:10.525Z"
   },
   {
    "duration": 51,
    "start_time": "2024-03-08T11:35:11.441Z"
   },
   {
    "duration": 75,
    "start_time": "2024-03-08T11:35:11.978Z"
   },
   {
    "duration": 9,
    "start_time": "2024-03-08T11:35:53.339Z"
   },
   {
    "duration": 90,
    "start_time": "2024-03-08T11:35:53.669Z"
   },
   {
    "duration": 3,
    "start_time": "2024-03-08T11:36:45.708Z"
   },
   {
    "duration": 11,
    "start_time": "2024-03-08T11:36:59.571Z"
   },
   {
    "duration": 452,
    "start_time": "2024-03-08T11:37:05.829Z"
   },
   {
    "duration": 179,
    "start_time": "2024-03-08T11:37:06.283Z"
   },
   {
    "duration": 19,
    "start_time": "2024-03-08T11:37:06.463Z"
   },
   {
    "duration": 30,
    "start_time": "2024-03-08T11:37:06.483Z"
   },
   {
    "duration": 10,
    "start_time": "2024-03-08T11:37:06.515Z"
   },
   {
    "duration": 29,
    "start_time": "2024-03-08T11:37:06.527Z"
   },
   {
    "duration": 6,
    "start_time": "2024-03-08T11:37:06.558Z"
   },
   {
    "duration": 20,
    "start_time": "2024-03-08T11:37:06.565Z"
   },
   {
    "duration": 78,
    "start_time": "2024-03-08T11:37:06.587Z"
   },
   {
    "duration": 46,
    "start_time": "2024-03-08T11:37:06.667Z"
   },
   {
    "duration": 71,
    "start_time": "2024-03-08T11:37:06.715Z"
   },
   {
    "duration": 3,
    "start_time": "2024-03-08T11:37:11.798Z"
   },
   {
    "duration": 2,
    "start_time": "2024-03-08T11:38:58.121Z"
   },
   {
    "duration": 4,
    "start_time": "2024-03-08T11:38:59.293Z"
   },
   {
    "duration": 3,
    "start_time": "2024-03-08T11:39:05.005Z"
   },
   {
    "duration": 3,
    "start_time": "2024-03-08T11:39:20.578Z"
   },
   {
    "duration": 3,
    "start_time": "2024-03-08T11:39:21.681Z"
   },
   {
    "duration": 103,
    "start_time": "2024-03-08T11:40:12.929Z"
   },
   {
    "duration": 9,
    "start_time": "2024-03-08T11:40:39.161Z"
   },
   {
    "duration": 108,
    "start_time": "2024-03-08T11:40:44.583Z"
   },
   {
    "duration": 90,
    "start_time": "2024-03-08T11:40:52.538Z"
   },
   {
    "duration": 14,
    "start_time": "2024-03-08T12:34:51.095Z"
   },
   {
    "duration": 3,
    "start_time": "2024-03-08T12:36:08.403Z"
   },
   {
    "duration": 3,
    "start_time": "2024-03-08T12:36:09.013Z"
   },
   {
    "duration": 3,
    "start_time": "2024-03-08T12:36:33.822Z"
   },
   {
    "duration": 8,
    "start_time": "2024-03-08T12:36:34.279Z"
   },
   {
    "duration": 76,
    "start_time": "2024-03-08T12:36:37.279Z"
   },
   {
    "duration": 4,
    "start_time": "2024-03-08T12:36:41.480Z"
   },
   {
    "duration": 4,
    "start_time": "2024-03-08T12:36:50.652Z"
   },
   {
    "duration": 97,
    "start_time": "2024-03-08T12:41:30.912Z"
   },
   {
    "duration": 106,
    "start_time": "2024-03-08T12:41:47.013Z"
   },
   {
    "duration": 9,
    "start_time": "2024-03-08T12:41:48.407Z"
   },
   {
    "duration": 94,
    "start_time": "2024-03-08T12:41:48.584Z"
   },
   {
    "duration": 79,
    "start_time": "2024-03-08T12:43:14.451Z"
   },
   {
    "duration": 5,
    "start_time": "2024-03-08T12:43:14.866Z"
   },
   {
    "duration": 2,
    "start_time": "2024-03-08T12:43:57.222Z"
   },
   {
    "duration": 4,
    "start_time": "2024-03-08T12:43:58.790Z"
   },
   {
    "duration": 3,
    "start_time": "2024-03-08T12:44:35.461Z"
   },
   {
    "duration": 4,
    "start_time": "2024-03-08T12:44:36.410Z"
   },
   {
    "duration": 7,
    "start_time": "2024-03-08T12:45:10.697Z"
   },
   {
    "duration": 4,
    "start_time": "2024-03-08T12:45:12.432Z"
   },
   {
    "duration": 3,
    "start_time": "2024-03-08T12:48:03.310Z"
   },
   {
    "duration": 4,
    "start_time": "2024-03-08T12:48:07.851Z"
   },
   {
    "duration": 2,
    "start_time": "2024-03-08T12:48:09.291Z"
   },
   {
    "duration": 5,
    "start_time": "2024-03-08T12:48:20.762Z"
   },
   {
    "duration": 25,
    "start_time": "2024-03-08T12:49:00.598Z"
   },
   {
    "duration": 34,
    "start_time": "2024-03-08T12:49:13.365Z"
   },
   {
    "duration": 440,
    "start_time": "2024-03-08T12:50:07.478Z"
   },
   {
    "duration": 691,
    "start_time": "2024-03-08T12:50:12.380Z"
   },
   {
    "duration": 194,
    "start_time": "2024-03-08T12:50:13.082Z"
   },
   {
    "duration": 11,
    "start_time": "2024-03-08T12:50:13.278Z"
   },
   {
    "duration": 43,
    "start_time": "2024-03-08T12:50:13.290Z"
   },
   {
    "duration": 6,
    "start_time": "2024-03-08T12:50:13.336Z"
   },
   {
    "duration": 56,
    "start_time": "2024-03-08T12:50:13.343Z"
   },
   {
    "duration": 19,
    "start_time": "2024-03-08T12:50:13.401Z"
   },
   {
    "duration": 98,
    "start_time": "2024-03-08T12:50:13.421Z"
   },
   {
    "duration": 95,
    "start_time": "2024-03-08T12:50:13.521Z"
   },
   {
    "duration": 9,
    "start_time": "2024-03-08T12:50:13.618Z"
   },
   {
    "duration": 113,
    "start_time": "2024-03-08T12:50:13.628Z"
   },
   {
    "duration": 3,
    "start_time": "2024-03-08T12:50:13.743Z"
   },
   {
    "duration": 38,
    "start_time": "2024-03-08T12:50:13.747Z"
   },
   {
    "duration": 53,
    "start_time": "2024-03-08T12:50:13.787Z"
   },
   {
    "duration": 81,
    "start_time": "2024-03-08T12:50:13.842Z"
   },
   {
    "duration": 10,
    "start_time": "2024-03-08T12:50:13.925Z"
   },
   {
    "duration": 13,
    "start_time": "2024-03-08T12:50:13.936Z"
   },
   {
    "duration": 23,
    "start_time": "2024-03-08T12:50:13.950Z"
   },
   {
    "duration": 36,
    "start_time": "2024-03-08T12:50:13.975Z"
   },
   {
    "duration": 80,
    "start_time": "2024-03-08T12:50:44.257Z"
   },
   {
    "duration": 583,
    "start_time": "2024-03-08T12:51:49.610Z"
   },
   {
    "duration": 1154,
    "start_time": "2024-03-08T12:51:54.257Z"
   },
   {
    "duration": 195,
    "start_time": "2024-03-08T12:51:55.413Z"
   },
   {
    "duration": 12,
    "start_time": "2024-03-08T12:51:55.610Z"
   },
   {
    "duration": 23,
    "start_time": "2024-03-08T12:51:55.623Z"
   },
   {
    "duration": 8,
    "start_time": "2024-03-08T12:51:55.668Z"
   },
   {
    "duration": 21,
    "start_time": "2024-03-08T12:51:55.678Z"
   },
   {
    "duration": 5,
    "start_time": "2024-03-08T12:51:55.700Z"
   },
   {
    "duration": 85,
    "start_time": "2024-03-08T12:51:55.707Z"
   },
   {
    "duration": 101,
    "start_time": "2024-03-08T12:51:55.794Z"
   },
   {
    "duration": 8,
    "start_time": "2024-03-08T12:51:55.897Z"
   },
   {
    "duration": 97,
    "start_time": "2024-03-08T12:51:55.907Z"
   },
   {
    "duration": 13,
    "start_time": "2024-03-08T12:51:56.006Z"
   },
   {
    "duration": 4,
    "start_time": "2024-03-08T12:51:56.021Z"
   },
   {
    "duration": 24,
    "start_time": "2024-03-08T12:51:56.028Z"
   },
   {
    "duration": 47,
    "start_time": "2024-03-08T12:51:56.053Z"
   },
   {
    "duration": 115,
    "start_time": "2024-03-08T12:51:56.102Z"
   },
   {
    "duration": 0,
    "start_time": "2024-03-08T12:51:56.219Z"
   },
   {
    "duration": 0,
    "start_time": "2024-03-08T12:51:56.220Z"
   },
   {
    "duration": 0,
    "start_time": "2024-03-08T12:51:56.221Z"
   },
   {
    "duration": 0,
    "start_time": "2024-03-08T12:51:56.223Z"
   },
   {
    "duration": 163,
    "start_time": "2024-03-08T12:52:04.375Z"
   },
   {
    "duration": 190,
    "start_time": "2024-03-08T12:52:14.097Z"
   },
   {
    "duration": 215,
    "start_time": "2024-03-08T12:52:36.522Z"
   },
   {
    "duration": 4,
    "start_time": "2024-03-08T12:53:32.611Z"
   },
   {
    "duration": 24,
    "start_time": "2024-03-08T12:53:40.025Z"
   },
   {
    "duration": 34,
    "start_time": "2024-03-08T12:53:57.067Z"
   },
   {
    "duration": 199,
    "start_time": "2024-03-08T12:54:11.021Z"
   },
   {
    "duration": 9,
    "start_time": "2024-03-08T12:54:52.727Z"
   },
   {
    "duration": 1176,
    "start_time": "2024-03-08T12:55:02.268Z"
   },
   {
    "duration": 217,
    "start_time": "2024-03-08T12:55:03.445Z"
   },
   {
    "duration": 24,
    "start_time": "2024-03-08T12:55:03.665Z"
   },
   {
    "duration": 32,
    "start_time": "2024-03-08T12:55:03.693Z"
   },
   {
    "duration": 4,
    "start_time": "2024-03-08T12:55:03.726Z"
   },
   {
    "duration": 35,
    "start_time": "2024-03-08T12:55:03.732Z"
   },
   {
    "duration": 10,
    "start_time": "2024-03-08T12:55:03.771Z"
   },
   {
    "duration": 80,
    "start_time": "2024-03-08T12:55:03.788Z"
   },
   {
    "duration": 74,
    "start_time": "2024-03-08T12:55:03.870Z"
   },
   {
    "duration": 6,
    "start_time": "2024-03-08T12:55:03.947Z"
   },
   {
    "duration": 83,
    "start_time": "2024-03-08T12:55:03.954Z"
   },
   {
    "duration": 2,
    "start_time": "2024-03-08T12:55:04.039Z"
   },
   {
    "duration": 5,
    "start_time": "2024-03-08T12:55:04.043Z"
   },
   {
    "duration": 46,
    "start_time": "2024-03-08T12:55:04.050Z"
   },
   {
    "duration": 27,
    "start_time": "2024-03-08T12:55:04.097Z"
   },
   {
    "duration": 226,
    "start_time": "2024-03-08T12:55:04.125Z"
   },
   {
    "duration": 24,
    "start_time": "2024-03-08T12:55:04.353Z"
   },
   {
    "duration": 3,
    "start_time": "2024-03-08T12:55:04.379Z"
   },
   {
    "duration": 10,
    "start_time": "2024-03-08T12:55:04.384Z"
   },
   {
    "duration": 7,
    "start_time": "2024-03-08T12:55:04.396Z"
   },
   {
    "duration": 100,
    "start_time": "2024-03-08T13:04:14.221Z"
   },
   {
    "duration": 110,
    "start_time": "2024-03-08T13:05:05.980Z"
   },
   {
    "duration": 125,
    "start_time": "2024-03-08T13:05:51.501Z"
   },
   {
    "duration": 169,
    "start_time": "2024-03-08T13:06:34.455Z"
   },
   {
    "duration": 82,
    "start_time": "2024-03-08T13:07:29.381Z"
   },
   {
    "duration": 27,
    "start_time": "2024-03-08T13:07:46.806Z"
   },
   {
    "duration": 165,
    "start_time": "2024-03-08T13:08:05.972Z"
   },
   {
    "duration": 3,
    "start_time": "2024-03-08T13:09:04.987Z"
   },
   {
    "duration": 17,
    "start_time": "2024-03-08T13:09:04.991Z"
   },
   {
    "duration": 39,
    "start_time": "2024-03-08T13:09:05.011Z"
   },
   {
    "duration": 54,
    "start_time": "2024-03-08T13:09:53.933Z"
   },
   {
    "duration": 12347,
    "start_time": "2024-03-08T13:09:53.989Z"
   },
   {
    "duration": 1126,
    "start_time": "2024-03-08T13:33:16.655Z"
   },
   {
    "duration": 178,
    "start_time": "2024-03-08T13:33:17.783Z"
   },
   {
    "duration": 15,
    "start_time": "2024-03-08T13:33:17.963Z"
   },
   {
    "duration": 29,
    "start_time": "2024-03-08T13:33:17.980Z"
   },
   {
    "duration": 3,
    "start_time": "2024-03-08T13:33:18.010Z"
   },
   {
    "duration": 20,
    "start_time": "2024-03-08T13:33:18.014Z"
   },
   {
    "duration": 8,
    "start_time": "2024-03-08T13:33:18.035Z"
   },
   {
    "duration": 78,
    "start_time": "2024-03-08T13:33:18.044Z"
   },
   {
    "duration": 75,
    "start_time": "2024-03-08T13:33:18.123Z"
   },
   {
    "duration": 6,
    "start_time": "2024-03-08T13:33:18.200Z"
   },
   {
    "duration": 86,
    "start_time": "2024-03-08T13:33:18.208Z"
   },
   {
    "duration": 6,
    "start_time": "2024-03-08T13:33:18.297Z"
   },
   {
    "duration": 7,
    "start_time": "2024-03-08T13:33:18.304Z"
   },
   {
    "duration": 29,
    "start_time": "2024-03-08T13:33:18.312Z"
   },
   {
    "duration": 49,
    "start_time": "2024-03-08T13:33:18.343Z"
   },
   {
    "duration": 214,
    "start_time": "2024-03-08T13:33:18.393Z"
   },
   {
    "duration": 8,
    "start_time": "2024-03-08T13:33:18.608Z"
   },
   {
    "duration": 3,
    "start_time": "2024-03-08T13:33:18.617Z"
   },
   {
    "duration": 68,
    "start_time": "2024-03-08T13:33:18.621Z"
   },
   {
    "duration": 187,
    "start_time": "2024-03-08T13:33:18.691Z"
   },
   {
    "duration": 167,
    "start_time": "2024-03-08T13:35:21.321Z"
   },
   {
    "duration": 170,
    "start_time": "2024-03-08T13:35:46.138Z"
   },
   {
    "duration": 171,
    "start_time": "2024-03-08T13:35:59.886Z"
   },
   {
    "duration": 168,
    "start_time": "2024-03-08T13:36:33.847Z"
   },
   {
    "duration": 170,
    "start_time": "2024-03-08T13:36:44.277Z"
   },
   {
    "duration": 164,
    "start_time": "2024-03-08T13:36:52.079Z"
   },
   {
    "duration": 241,
    "start_time": "2024-03-08T13:37:00.091Z"
   },
   {
    "duration": 179,
    "start_time": "2024-03-08T13:37:04.799Z"
   },
   {
    "duration": 32,
    "start_time": "2024-03-08T13:37:09.874Z"
   },
   {
    "duration": 174,
    "start_time": "2024-03-08T13:37:10.855Z"
   },
   {
    "duration": 30,
    "start_time": "2024-03-08T13:37:19.470Z"
   },
   {
    "duration": 27,
    "start_time": "2024-03-08T13:37:25.114Z"
   },
   {
    "duration": 26,
    "start_time": "2024-03-08T13:37:49.808Z"
   },
   {
    "duration": 185,
    "start_time": "2024-03-08T13:38:10.761Z"
   },
   {
    "duration": 180,
    "start_time": "2024-03-08T13:38:47.628Z"
   },
   {
    "duration": 182,
    "start_time": "2024-03-08T13:39:11.709Z"
   },
   {
    "duration": 214,
    "start_time": "2024-03-08T13:39:39.850Z"
   },
   {
    "duration": 185,
    "start_time": "2024-03-08T13:40:03.075Z"
   },
   {
    "duration": 193,
    "start_time": "2024-03-08T13:42:46.038Z"
   },
   {
    "duration": 198,
    "start_time": "2024-03-08T13:43:43.703Z"
   },
   {
    "duration": 215,
    "start_time": "2024-03-08T13:43:54.623Z"
   },
   {
    "duration": 262,
    "start_time": "2024-03-08T13:44:46.084Z"
   },
   {
    "duration": 193,
    "start_time": "2024-03-08T13:47:14.204Z"
   },
   {
    "duration": 44,
    "start_time": "2024-03-08T13:49:39.941Z"
   },
   {
    "duration": 594,
    "start_time": "2024-03-08T13:50:12.899Z"
   },
   {
    "duration": 526,
    "start_time": "2024-03-08T13:50:44.587Z"
   },
   {
    "duration": 527,
    "start_time": "2024-03-08T13:51:03.958Z"
   },
   {
    "duration": 623,
    "start_time": "2024-03-08T13:51:15.755Z"
   },
   {
    "duration": 568,
    "start_time": "2024-03-08T13:51:25.446Z"
   },
   {
    "duration": 530,
    "start_time": "2024-03-08T13:51:42.538Z"
   },
   {
    "duration": 518,
    "start_time": "2024-03-08T13:52:47.209Z"
   },
   {
    "duration": 538,
    "start_time": "2024-03-08T13:53:11.714Z"
   },
   {
    "duration": 555,
    "start_time": "2024-03-08T13:53:37.362Z"
   },
   {
    "duration": 543,
    "start_time": "2024-03-08T13:53:48.414Z"
   },
   {
    "duration": 472,
    "start_time": "2024-03-08T13:54:30.188Z"
   },
   {
    "duration": 561,
    "start_time": "2024-03-08T13:55:13.103Z"
   },
   {
    "duration": 562,
    "start_time": "2024-03-08T13:55:27.068Z"
   },
   {
    "duration": 608,
    "start_time": "2024-03-08T13:56:55.901Z"
   },
   {
    "duration": 133,
    "start_time": "2024-03-08T13:59:46.849Z"
   },
   {
    "duration": 502,
    "start_time": "2024-03-08T14:11:40.269Z"
   },
   {
    "duration": 192,
    "start_time": "2024-03-08T14:59:56.445Z"
   },
   {
    "duration": 328,
    "start_time": "2024-03-08T15:05:06.486Z"
   },
   {
    "duration": 3,
    "start_time": "2024-03-08T15:05:45.335Z"
   },
   {
    "duration": 1203,
    "start_time": "2024-03-08T15:05:49.795Z"
   },
   {
    "duration": 210,
    "start_time": "2024-03-08T15:05:50.999Z"
   },
   {
    "duration": 10,
    "start_time": "2024-03-08T15:05:51.211Z"
   },
   {
    "duration": 33,
    "start_time": "2024-03-08T15:05:51.223Z"
   },
   {
    "duration": 8,
    "start_time": "2024-03-08T15:05:51.258Z"
   },
   {
    "duration": 21,
    "start_time": "2024-03-08T15:05:51.269Z"
   },
   {
    "duration": 5,
    "start_time": "2024-03-08T15:05:51.291Z"
   },
   {
    "duration": 86,
    "start_time": "2024-03-08T15:05:51.297Z"
   },
   {
    "duration": 85,
    "start_time": "2024-03-08T15:05:51.384Z"
   },
   {
    "duration": 10,
    "start_time": "2024-03-08T15:05:51.474Z"
   },
   {
    "duration": 128,
    "start_time": "2024-03-08T15:05:51.486Z"
   },
   {
    "duration": 3,
    "start_time": "2024-03-08T15:05:51.616Z"
   },
   {
    "duration": 25,
    "start_time": "2024-03-08T15:05:51.620Z"
   },
   {
    "duration": 33,
    "start_time": "2024-03-08T15:05:51.646Z"
   },
   {
    "duration": 56,
    "start_time": "2024-03-08T15:05:51.681Z"
   },
   {
    "duration": 200,
    "start_time": "2024-03-08T15:05:51.738Z"
   },
   {
    "duration": 8,
    "start_time": "2024-03-08T15:05:51.940Z"
   },
   {
    "duration": 15,
    "start_time": "2024-03-08T15:05:51.950Z"
   },
   {
    "duration": 40,
    "start_time": "2024-03-08T15:05:51.973Z"
   },
   {
    "duration": 191,
    "start_time": "2024-03-08T15:05:52.014Z"
   },
   {
    "duration": 205,
    "start_time": "2024-03-08T15:05:52.206Z"
   },
   {
    "duration": 203,
    "start_time": "2024-03-08T15:05:52.413Z"
   },
   {
    "duration": 31,
    "start_time": "2024-03-08T15:05:52.618Z"
   },
   {
    "duration": 542,
    "start_time": "2024-03-08T15:05:52.651Z"
   },
   {
    "duration": 387,
    "start_time": "2024-03-08T15:05:53.195Z"
   },
   {
    "duration": 649,
    "start_time": "2024-03-08T15:06:03.002Z"
   },
   {
    "duration": 407,
    "start_time": "2024-03-08T15:06:31.136Z"
   },
   {
    "duration": 520,
    "start_time": "2024-03-08T15:06:53.454Z"
   },
   {
    "duration": 488,
    "start_time": "2024-03-08T15:31:43.060Z"
   },
   {
    "duration": 1146,
    "start_time": "2024-03-08T15:36:56.124Z"
   },
   {
    "duration": 186,
    "start_time": "2024-03-08T15:36:57.272Z"
   },
   {
    "duration": 13,
    "start_time": "2024-03-08T15:36:57.459Z"
   },
   {
    "duration": 43,
    "start_time": "2024-03-08T15:36:57.475Z"
   },
   {
    "duration": 13,
    "start_time": "2024-03-08T15:36:57.520Z"
   },
   {
    "duration": 25,
    "start_time": "2024-03-08T15:36:57.535Z"
   },
   {
    "duration": 26,
    "start_time": "2024-03-08T15:36:57.561Z"
   },
   {
    "duration": 78,
    "start_time": "2024-03-08T15:36:57.589Z"
   },
   {
    "duration": 70,
    "start_time": "2024-03-08T15:36:57.669Z"
   },
   {
    "duration": 27,
    "start_time": "2024-03-08T15:36:57.742Z"
   },
   {
    "duration": 80,
    "start_time": "2024-03-08T15:36:57.771Z"
   },
   {
    "duration": 33,
    "start_time": "2024-03-08T15:36:57.852Z"
   },
   {
    "duration": 21,
    "start_time": "2024-03-08T15:36:57.886Z"
   },
   {
    "duration": 47,
    "start_time": "2024-03-08T15:36:57.908Z"
   },
   {
    "duration": 51,
    "start_time": "2024-03-08T15:36:57.957Z"
   },
   {
    "duration": 232,
    "start_time": "2024-03-08T15:36:58.010Z"
   },
   {
    "duration": 8,
    "start_time": "2024-03-08T15:36:58.244Z"
   },
   {
    "duration": 21,
    "start_time": "2024-03-08T15:36:58.254Z"
   },
   {
    "duration": 55,
    "start_time": "2024-03-08T15:36:58.278Z"
   },
   {
    "duration": 187,
    "start_time": "2024-03-08T15:36:58.334Z"
   },
   {
    "duration": 226,
    "start_time": "2024-03-08T15:36:58.523Z"
   },
   {
    "duration": 219,
    "start_time": "2024-03-08T15:36:58.750Z"
   },
   {
    "duration": 36,
    "start_time": "2024-03-08T15:36:58.971Z"
   },
   {
    "duration": 525,
    "start_time": "2024-03-08T15:36:59.008Z"
   },
   {
    "duration": 48,
    "start_time": "2024-03-08T15:44:57.192Z"
   },
   {
    "duration": 1204,
    "start_time": "2024-03-08T15:45:08.941Z"
   },
   {
    "duration": 523,
    "start_time": "2024-03-08T15:45:10.147Z"
   },
   {
    "duration": 14,
    "start_time": "2024-03-08T15:45:10.673Z"
   },
   {
    "duration": 44,
    "start_time": "2024-03-08T15:45:10.689Z"
   },
   {
    "duration": 5,
    "start_time": "2024-03-08T15:45:10.735Z"
   },
   {
    "duration": 55,
    "start_time": "2024-03-08T15:45:10.742Z"
   },
   {
    "duration": 25,
    "start_time": "2024-03-08T15:45:10.799Z"
   },
   {
    "duration": 98,
    "start_time": "2024-03-08T15:45:10.826Z"
   },
   {
    "duration": 83,
    "start_time": "2024-03-08T15:45:10.925Z"
   },
   {
    "duration": 7,
    "start_time": "2024-03-08T15:45:11.010Z"
   },
   {
    "duration": 99,
    "start_time": "2024-03-08T15:45:11.018Z"
   },
   {
    "duration": 13,
    "start_time": "2024-03-08T15:45:11.119Z"
   },
   {
    "duration": 23,
    "start_time": "2024-03-08T15:45:11.134Z"
   },
   {
    "duration": 45,
    "start_time": "2024-03-08T15:45:11.159Z"
   },
   {
    "duration": 57,
    "start_time": "2024-03-08T15:45:11.206Z"
   },
   {
    "duration": 207,
    "start_time": "2024-03-08T15:45:11.264Z"
   },
   {
    "duration": 11,
    "start_time": "2024-03-08T15:45:11.473Z"
   },
   {
    "duration": 19,
    "start_time": "2024-03-08T15:45:11.486Z"
   },
   {
    "duration": 55,
    "start_time": "2024-03-08T15:45:11.506Z"
   },
   {
    "duration": 176,
    "start_time": "2024-03-08T15:45:11.562Z"
   },
   {
    "duration": 211,
    "start_time": "2024-03-08T15:45:11.740Z"
   },
   {
    "duration": 205,
    "start_time": "2024-03-08T15:45:11.953Z"
   },
   {
    "duration": 44,
    "start_time": "2024-03-08T15:45:12.160Z"
   },
   {
    "duration": 532,
    "start_time": "2024-03-08T15:45:12.206Z"
   },
   {
    "duration": 490,
    "start_time": "2024-03-08T15:45:12.740Z"
   },
   {
    "duration": 114,
    "start_time": "2024-03-08T16:07:40.364Z"
   },
   {
    "duration": 343,
    "start_time": "2024-03-08T16:58:57.672Z"
   },
   {
    "duration": 17,
    "start_time": "2024-03-08T17:00:47.949Z"
   },
   {
    "duration": 15,
    "start_time": "2024-03-08T17:01:06.139Z"
   },
   {
    "duration": 14,
    "start_time": "2024-03-08T17:01:29.974Z"
   },
   {
    "duration": 3,
    "start_time": "2024-03-08T17:01:35.959Z"
   },
   {
    "duration": 3,
    "start_time": "2024-03-08T17:02:48.378Z"
   },
   {
    "duration": 13,
    "start_time": "2024-03-08T17:02:48.777Z"
   },
   {
    "duration": 4,
    "start_time": "2024-03-08T17:02:49.247Z"
   },
   {
    "duration": 13,
    "start_time": "2024-03-08T18:03:09.029Z"
   },
   {
    "duration": 42,
    "start_time": "2024-03-08T18:04:14.876Z"
   },
   {
    "duration": 24,
    "start_time": "2024-03-08T18:04:55.023Z"
   },
   {
    "duration": 9,
    "start_time": "2024-03-08T18:04:55.826Z"
   },
   {
    "duration": 25,
    "start_time": "2024-03-08T18:05:16.739Z"
   },
   {
    "duration": 26,
    "start_time": "2024-03-08T18:05:17.155Z"
   },
   {
    "duration": 34,
    "start_time": "2024-03-08T18:08:08.240Z"
   },
   {
    "duration": 31,
    "start_time": "2024-03-08T18:08:36.875Z"
   },
   {
    "duration": 1135,
    "start_time": "2024-03-08T18:08:40.940Z"
   },
   {
    "duration": 178,
    "start_time": "2024-03-08T18:08:42.076Z"
   },
   {
    "duration": 10,
    "start_time": "2024-03-08T18:08:42.256Z"
   },
   {
    "duration": 26,
    "start_time": "2024-03-08T18:08:42.268Z"
   },
   {
    "duration": 3,
    "start_time": "2024-03-08T18:08:42.296Z"
   },
   {
    "duration": 17,
    "start_time": "2024-03-08T18:08:42.300Z"
   },
   {
    "duration": 5,
    "start_time": "2024-03-08T18:08:42.318Z"
   },
   {
    "duration": 84,
    "start_time": "2024-03-08T18:08:42.324Z"
   },
   {
    "duration": 70,
    "start_time": "2024-03-08T18:08:42.410Z"
   },
   {
    "duration": 8,
    "start_time": "2024-03-08T18:08:42.481Z"
   },
   {
    "duration": 90,
    "start_time": "2024-03-08T18:08:42.490Z"
   },
   {
    "duration": 2,
    "start_time": "2024-03-08T18:08:42.582Z"
   },
   {
    "duration": 14,
    "start_time": "2024-03-08T18:08:42.586Z"
   },
   {
    "duration": 24,
    "start_time": "2024-03-08T18:08:42.604Z"
   },
   {
    "duration": 41,
    "start_time": "2024-03-08T18:08:42.630Z"
   },
   {
    "duration": 202,
    "start_time": "2024-03-08T18:08:42.673Z"
   },
   {
    "duration": 9,
    "start_time": "2024-03-08T18:08:42.876Z"
   },
   {
    "duration": 4,
    "start_time": "2024-03-08T18:08:42.886Z"
   },
   {
    "duration": 37,
    "start_time": "2024-03-08T18:08:42.891Z"
   },
   {
    "duration": 189,
    "start_time": "2024-03-08T18:08:42.930Z"
   },
   {
    "duration": 203,
    "start_time": "2024-03-08T18:08:43.121Z"
   },
   {
    "duration": 196,
    "start_time": "2024-03-08T18:08:43.325Z"
   },
   {
    "duration": 42,
    "start_time": "2024-03-08T18:08:43.523Z"
   },
   {
    "duration": 492,
    "start_time": "2024-03-08T18:08:43.567Z"
   },
   {
    "duration": 462,
    "start_time": "2024-03-08T18:08:44.064Z"
   },
   {
    "duration": 120,
    "start_time": "2024-03-08T18:08:44.527Z"
   },
   {
    "duration": 10,
    "start_time": "2024-03-08T18:09:41.467Z"
   },
   {
    "duration": 1086,
    "start_time": "2024-03-08T18:09:46.190Z"
   },
   {
    "duration": 171,
    "start_time": "2024-03-08T18:09:47.279Z"
   },
   {
    "duration": 11,
    "start_time": "2024-03-08T18:09:47.451Z"
   },
   {
    "duration": 44,
    "start_time": "2024-03-08T18:09:47.466Z"
   },
   {
    "duration": 7,
    "start_time": "2024-03-08T18:09:47.511Z"
   },
   {
    "duration": 45,
    "start_time": "2024-03-08T18:09:47.519Z"
   },
   {
    "duration": 34,
    "start_time": "2024-03-08T18:09:47.565Z"
   },
   {
    "duration": 79,
    "start_time": "2024-03-08T18:09:47.601Z"
   },
   {
    "duration": 65,
    "start_time": "2024-03-08T18:09:47.682Z"
   },
   {
    "duration": 19,
    "start_time": "2024-03-08T18:09:47.749Z"
   },
   {
    "duration": 68,
    "start_time": "2024-03-08T18:09:47.770Z"
   },
   {
    "duration": 2,
    "start_time": "2024-03-08T18:09:47.840Z"
   },
   {
    "duration": 21,
    "start_time": "2024-03-08T18:09:47.844Z"
   },
   {
    "duration": 24,
    "start_time": "2024-03-08T18:09:47.867Z"
   },
   {
    "duration": 28,
    "start_time": "2024-03-08T18:09:47.892Z"
   },
   {
    "duration": 204,
    "start_time": "2024-03-08T18:09:47.922Z"
   },
   {
    "duration": 9,
    "start_time": "2024-03-08T18:09:48.128Z"
   },
   {
    "duration": 7,
    "start_time": "2024-03-08T18:09:48.138Z"
   },
   {
    "duration": 46,
    "start_time": "2024-03-08T18:09:48.146Z"
   },
   {
    "duration": 168,
    "start_time": "2024-03-08T18:09:48.194Z"
   },
   {
    "duration": 194,
    "start_time": "2024-03-08T18:09:48.365Z"
   },
   {
    "duration": 217,
    "start_time": "2024-03-08T18:09:48.561Z"
   },
   {
    "duration": 31,
    "start_time": "2024-03-08T18:09:48.780Z"
   },
   {
    "duration": 462,
    "start_time": "2024-03-08T18:09:48.812Z"
   },
   {
    "duration": 446,
    "start_time": "2024-03-08T18:09:49.276Z"
   },
   {
    "duration": 106,
    "start_time": "2024-03-08T18:09:49.724Z"
   },
   {
    "duration": 13,
    "start_time": "2024-03-08T18:12:35.242Z"
   },
   {
    "duration": 10,
    "start_time": "2024-03-08T18:13:07.575Z"
   },
   {
    "duration": 73,
    "start_time": "2024-03-08T18:13:19.320Z"
   },
   {
    "duration": 11,
    "start_time": "2024-03-08T18:13:26.520Z"
   },
   {
    "duration": 52,
    "start_time": "2024-03-08T18:15:55.984Z"
   },
   {
    "duration": 11,
    "start_time": "2024-03-08T18:16:50.727Z"
   },
   {
    "duration": 11,
    "start_time": "2024-03-08T18:18:26.105Z"
   },
   {
    "duration": 13,
    "start_time": "2024-03-08T18:18:49.436Z"
   },
   {
    "duration": 11,
    "start_time": "2024-03-08T18:19:16.503Z"
   },
   {
    "duration": 320,
    "start_time": "2024-03-08T18:20:31.529Z"
   },
   {
    "duration": 1172,
    "start_time": "2024-03-08T18:22:54.305Z"
   },
   {
    "duration": 193,
    "start_time": "2024-03-08T18:22:55.479Z"
   },
   {
    "duration": 11,
    "start_time": "2024-03-08T18:22:55.674Z"
   },
   {
    "duration": 29,
    "start_time": "2024-03-08T18:22:55.687Z"
   },
   {
    "duration": 3,
    "start_time": "2024-03-08T18:22:55.717Z"
   },
   {
    "duration": 15,
    "start_time": "2024-03-08T18:22:55.722Z"
   },
   {
    "duration": 30,
    "start_time": "2024-03-08T18:22:55.738Z"
   },
   {
    "duration": 71,
    "start_time": "2024-03-08T18:22:55.769Z"
   },
   {
    "duration": 100,
    "start_time": "2024-03-08T18:22:55.842Z"
   },
   {
    "duration": 9,
    "start_time": "2024-03-08T18:22:55.944Z"
   },
   {
    "duration": 86,
    "start_time": "2024-03-08T18:22:55.965Z"
   },
   {
    "duration": 14,
    "start_time": "2024-03-08T18:22:56.053Z"
   },
   {
    "duration": 8,
    "start_time": "2024-03-08T18:22:56.068Z"
   },
   {
    "duration": 26,
    "start_time": "2024-03-08T18:22:56.078Z"
   },
   {
    "duration": 26,
    "start_time": "2024-03-08T18:22:56.106Z"
   },
   {
    "duration": 253,
    "start_time": "2024-03-08T18:22:56.133Z"
   },
   {
    "duration": 10,
    "start_time": "2024-03-08T18:22:56.388Z"
   },
   {
    "duration": 4,
    "start_time": "2024-03-08T18:22:56.400Z"
   },
   {
    "duration": 49,
    "start_time": "2024-03-08T18:22:56.406Z"
   },
   {
    "duration": 183,
    "start_time": "2024-03-08T18:22:56.457Z"
   },
   {
    "duration": 223,
    "start_time": "2024-03-08T18:22:56.642Z"
   },
   {
    "duration": 213,
    "start_time": "2024-03-08T18:22:56.867Z"
   },
   {
    "duration": 31,
    "start_time": "2024-03-08T18:22:57.082Z"
   },
   {
    "duration": 481,
    "start_time": "2024-03-08T18:22:57.114Z"
   },
   {
    "duration": 454,
    "start_time": "2024-03-08T18:22:57.596Z"
   },
   {
    "duration": 408,
    "start_time": "2024-03-08T18:22:58.052Z"
   },
   {
    "duration": 0,
    "start_time": "2024-03-08T18:22:58.463Z"
   },
   {
    "duration": 446,
    "start_time": "2024-03-08T18:27:13.108Z"
   },
   {
    "duration": 337,
    "start_time": "2024-03-08T18:27:17.279Z"
   },
   {
    "duration": 14,
    "start_time": "2024-03-08T18:27:32.425Z"
   },
   {
    "duration": 11,
    "start_time": "2024-03-08T18:27:46.793Z"
   },
   {
    "duration": 11,
    "start_time": "2024-03-08T18:30:49.873Z"
   },
   {
    "duration": 7,
    "start_time": "2024-03-08T18:32:22.340Z"
   },
   {
    "duration": 294,
    "start_time": "2024-03-08T18:34:14.638Z"
   },
   {
    "duration": 45,
    "start_time": "2024-03-08T18:35:03.133Z"
   },
   {
    "duration": 12,
    "start_time": "2024-03-08T18:35:04.738Z"
   },
   {
    "duration": 95,
    "start_time": "2024-03-08T18:35:14.020Z"
   },
   {
    "duration": 1116,
    "start_time": "2024-03-08T18:35:23.878Z"
   },
   {
    "duration": 4,
    "start_time": "2024-03-08T18:35:33.355Z"
   },
   {
    "duration": 8,
    "start_time": "2024-03-08T18:36:32.376Z"
   },
   {
    "duration": 11,
    "start_time": "2024-03-08T18:36:47.265Z"
   },
   {
    "duration": 7,
    "start_time": "2024-03-08T18:40:37.737Z"
   },
   {
    "duration": 11,
    "start_time": "2024-03-08T18:43:35.002Z"
   },
   {
    "duration": 14,
    "start_time": "2024-03-08T18:44:31.959Z"
   },
   {
    "duration": 11,
    "start_time": "2024-03-08T18:44:40.891Z"
   },
   {
    "duration": 20,
    "start_time": "2024-03-08T18:53:26.103Z"
   },
   {
    "duration": 25,
    "start_time": "2024-03-08T18:54:15.325Z"
   },
   {
    "duration": 72,
    "start_time": "2024-03-08T18:56:26.117Z"
   },
   {
    "duration": 55,
    "start_time": "2024-03-08T18:56:48.286Z"
   },
   {
    "duration": 61,
    "start_time": "2024-03-08T18:58:15.612Z"
   },
   {
    "duration": 28,
    "start_time": "2024-03-08T19:00:54.049Z"
   },
   {
    "duration": 349,
    "start_time": "2024-03-08T19:06:02.627Z"
   },
   {
    "duration": 11,
    "start_time": "2024-03-08T19:06:06.965Z"
   },
   {
    "duration": 6,
    "start_time": "2024-03-08T19:06:08.687Z"
   },
   {
    "duration": 24,
    "start_time": "2024-03-08T19:06:09.126Z"
   },
   {
    "duration": 73,
    "start_time": "2024-03-08T19:06:09.446Z"
   },
   {
    "duration": 10,
    "start_time": "2024-03-08T19:06:33.633Z"
   },
   {
    "duration": 7,
    "start_time": "2024-03-08T19:06:48.288Z"
   },
   {
    "duration": 1064,
    "start_time": "2024-03-08T19:07:22.100Z"
   },
   {
    "duration": 174,
    "start_time": "2024-03-08T19:07:23.166Z"
   },
   {
    "duration": 10,
    "start_time": "2024-03-08T19:07:23.341Z"
   },
   {
    "duration": 29,
    "start_time": "2024-03-08T19:07:23.353Z"
   },
   {
    "duration": 2,
    "start_time": "2024-03-08T19:07:23.383Z"
   },
   {
    "duration": 15,
    "start_time": "2024-03-08T19:07:23.387Z"
   },
   {
    "duration": 4,
    "start_time": "2024-03-08T19:07:23.403Z"
   },
   {
    "duration": 81,
    "start_time": "2024-03-08T19:07:23.408Z"
   },
   {
    "duration": 77,
    "start_time": "2024-03-08T19:07:23.490Z"
   },
   {
    "duration": 7,
    "start_time": "2024-03-08T19:07:23.569Z"
   },
   {
    "duration": 75,
    "start_time": "2024-03-08T19:07:23.577Z"
   },
   {
    "duration": 3,
    "start_time": "2024-03-08T19:07:23.665Z"
   },
   {
    "duration": 4,
    "start_time": "2024-03-08T19:07:23.670Z"
   },
   {
    "duration": 24,
    "start_time": "2024-03-08T19:07:23.676Z"
   },
   {
    "duration": 48,
    "start_time": "2024-03-08T19:07:23.702Z"
   },
   {
    "duration": 203,
    "start_time": "2024-03-08T19:07:23.752Z"
   },
   {
    "duration": 15,
    "start_time": "2024-03-08T19:07:23.957Z"
   },
   {
    "duration": 3,
    "start_time": "2024-03-08T19:07:23.974Z"
   },
   {
    "duration": 38,
    "start_time": "2024-03-08T19:07:23.979Z"
   },
   {
    "duration": 183,
    "start_time": "2024-03-08T19:07:24.019Z"
   },
   {
    "duration": 188,
    "start_time": "2024-03-08T19:07:24.204Z"
   },
   {
    "duration": 191,
    "start_time": "2024-03-08T19:07:24.394Z"
   },
   {
    "duration": 33,
    "start_time": "2024-03-08T19:07:24.587Z"
   },
   {
    "duration": 585,
    "start_time": "2024-03-08T19:07:24.621Z"
   },
   {
    "duration": 434,
    "start_time": "2024-03-08T19:07:25.208Z"
   },
   {
    "duration": 10,
    "start_time": "2024-03-08T19:07:25.644Z"
   },
   {
    "duration": 13,
    "start_time": "2024-03-08T19:07:25.655Z"
   },
   {
    "duration": 26,
    "start_time": "2024-03-08T19:07:25.671Z"
   },
   {
    "duration": 82,
    "start_time": "2024-03-08T19:07:25.699Z"
   },
   {
    "duration": 24,
    "start_time": "2024-03-08T19:07:47.131Z"
   },
   {
    "duration": 52,
    "start_time": "2024-03-08T19:07:59.928Z"
   },
   {
    "duration": 6,
    "start_time": "2024-03-08T19:08:08.649Z"
   },
   {
    "duration": 10,
    "start_time": "2024-03-08T19:08:16.809Z"
   },
   {
    "duration": 3,
    "start_time": "2024-03-08T19:08:26.078Z"
   },
   {
    "duration": 7,
    "start_time": "2024-03-08T19:08:35.842Z"
   },
   {
    "duration": 88,
    "start_time": "2024-03-08T19:13:06.369Z"
   },
   {
    "duration": 96,
    "start_time": "2024-03-08T19:14:05.381Z"
   },
   {
    "duration": 65,
    "start_time": "2024-03-08T19:14:20.429Z"
   },
   {
    "duration": 91,
    "start_time": "2024-03-08T19:15:34.707Z"
   },
   {
    "duration": 64,
    "start_time": "2024-03-08T19:16:49.778Z"
   },
   {
    "duration": 64,
    "start_time": "2024-03-08T19:17:02.501Z"
   },
   {
    "duration": 67,
    "start_time": "2024-03-08T19:17:04.433Z"
   },
   {
    "duration": 8,
    "start_time": "2024-03-08T19:18:08.227Z"
   },
   {
    "duration": 12,
    "start_time": "2024-03-08T19:18:20.732Z"
   },
   {
    "duration": 204,
    "start_time": "2024-03-08T19:19:08.247Z"
   },
   {
    "duration": 174,
    "start_time": "2024-03-08T19:21:17.075Z"
   },
   {
    "duration": 60,
    "start_time": "2024-03-08T19:21:42.376Z"
   },
   {
    "duration": 198,
    "start_time": "2024-03-08T19:22:49.858Z"
   },
   {
    "duration": 128,
    "start_time": "2024-03-08T19:22:56.581Z"
   },
   {
    "duration": 117,
    "start_time": "2024-03-08T19:23:12.988Z"
   },
   {
    "duration": 66,
    "start_time": "2024-03-08T19:23:17.716Z"
   },
   {
    "duration": 58,
    "start_time": "2024-03-08T19:23:39.650Z"
   },
   {
    "duration": 12,
    "start_time": "2024-03-08T19:24:23.445Z"
   },
   {
    "duration": 59,
    "start_time": "2024-03-08T19:24:50.321Z"
   },
   {
    "duration": 10,
    "start_time": "2024-03-08T19:24:59.758Z"
   },
   {
    "duration": 1110,
    "start_time": "2024-03-08T19:25:13.217Z"
   },
   {
    "duration": 12,
    "start_time": "2024-03-08T19:26:51.476Z"
   },
   {
    "duration": 16,
    "start_time": "2024-03-08T19:31:36.667Z"
   },
   {
    "duration": 13,
    "start_time": "2024-03-08T19:33:51.341Z"
   },
   {
    "duration": 1491,
    "start_time": "2024-03-08T19:34:13.757Z"
   },
   {
    "duration": 1144,
    "start_time": "2024-03-08T19:35:26.616Z"
   },
   {
    "duration": 13,
    "start_time": "2024-03-08T19:36:22.616Z"
   },
   {
    "duration": 67,
    "start_time": "2024-03-08T19:36:43.571Z"
   },
   {
    "duration": 65,
    "start_time": "2024-03-08T19:37:18.408Z"
   },
   {
    "duration": 284,
    "start_time": "2024-03-08T19:41:42.569Z"
   },
   {
    "duration": 67,
    "start_time": "2024-03-08T19:41:46.549Z"
   },
   {
    "duration": 1149,
    "start_time": "2024-03-08T19:41:51.619Z"
   },
   {
    "duration": 179,
    "start_time": "2024-03-08T19:41:52.770Z"
   },
   {
    "duration": 11,
    "start_time": "2024-03-08T19:41:52.950Z"
   },
   {
    "duration": 37,
    "start_time": "2024-03-08T19:41:52.965Z"
   },
   {
    "duration": 3,
    "start_time": "2024-03-08T19:41:53.003Z"
   },
   {
    "duration": 30,
    "start_time": "2024-03-08T19:41:53.008Z"
   },
   {
    "duration": 9,
    "start_time": "2024-03-08T19:41:53.039Z"
   },
   {
    "duration": 80,
    "start_time": "2024-03-08T19:41:53.049Z"
   },
   {
    "duration": 72,
    "start_time": "2024-03-08T19:41:53.130Z"
   },
   {
    "duration": 12,
    "start_time": "2024-03-08T19:41:53.206Z"
   },
   {
    "duration": 89,
    "start_time": "2024-03-08T19:41:53.220Z"
   },
   {
    "duration": 3,
    "start_time": "2024-03-08T19:41:53.311Z"
   },
   {
    "duration": 21,
    "start_time": "2024-03-08T19:41:53.315Z"
   },
   {
    "duration": 30,
    "start_time": "2024-03-08T19:41:53.338Z"
   },
   {
    "duration": 64,
    "start_time": "2024-03-08T19:41:53.369Z"
   },
   {
    "duration": 193,
    "start_time": "2024-03-08T19:41:53.435Z"
   },
   {
    "duration": 8,
    "start_time": "2024-03-08T19:41:53.629Z"
   },
   {
    "duration": 9,
    "start_time": "2024-03-08T19:41:53.639Z"
   },
   {
    "duration": 57,
    "start_time": "2024-03-08T19:41:53.649Z"
   },
   {
    "duration": 164,
    "start_time": "2024-03-08T19:41:53.708Z"
   },
   {
    "duration": 192,
    "start_time": "2024-03-08T19:41:53.873Z"
   },
   {
    "duration": 192,
    "start_time": "2024-03-08T19:41:54.067Z"
   },
   {
    "duration": 31,
    "start_time": "2024-03-08T19:41:54.261Z"
   },
   {
    "duration": 496,
    "start_time": "2024-03-08T19:41:54.294Z"
   },
   {
    "duration": 438,
    "start_time": "2024-03-08T19:41:54.791Z"
   },
   {
    "duration": 11,
    "start_time": "2024-03-08T19:41:55.231Z"
   },
   {
    "duration": 23,
    "start_time": "2024-03-08T19:41:55.243Z"
   },
   {
    "duration": 55,
    "start_time": "2024-03-08T19:41:55.270Z"
   },
   {
    "duration": 11,
    "start_time": "2024-03-08T19:41:55.327Z"
   },
   {
    "duration": 143,
    "start_time": "2024-03-08T19:41:55.339Z"
   },
   {
    "duration": 67,
    "start_time": "2024-03-08T19:41:55.484Z"
   },
   {
    "duration": 96,
    "start_time": "2024-03-08T19:43:17.687Z"
   },
   {
    "duration": 1132,
    "start_time": "2024-03-08T19:43:32.086Z"
   },
   {
    "duration": 174,
    "start_time": "2024-03-08T19:43:33.220Z"
   },
   {
    "duration": 10,
    "start_time": "2024-03-08T19:43:33.395Z"
   },
   {
    "duration": 36,
    "start_time": "2024-03-08T19:43:33.407Z"
   },
   {
    "duration": 3,
    "start_time": "2024-03-08T19:43:33.445Z"
   },
   {
    "duration": 46,
    "start_time": "2024-03-08T19:43:33.450Z"
   },
   {
    "duration": 15,
    "start_time": "2024-03-08T19:43:33.497Z"
   },
   {
    "duration": 86,
    "start_time": "2024-03-08T19:43:33.514Z"
   },
   {
    "duration": 77,
    "start_time": "2024-03-08T19:43:33.601Z"
   },
   {
    "duration": 8,
    "start_time": "2024-03-08T19:43:33.680Z"
   },
   {
    "duration": 80,
    "start_time": "2024-03-08T19:43:33.689Z"
   },
   {
    "duration": 6,
    "start_time": "2024-03-08T19:43:33.771Z"
   },
   {
    "duration": 12,
    "start_time": "2024-03-08T19:43:33.778Z"
   },
   {
    "duration": 52,
    "start_time": "2024-03-08T19:43:33.793Z"
   },
   {
    "duration": 42,
    "start_time": "2024-03-08T19:43:33.846Z"
   },
   {
    "duration": 212,
    "start_time": "2024-03-08T19:43:33.890Z"
   },
   {
    "duration": 8,
    "start_time": "2024-03-08T19:43:34.104Z"
   },
   {
    "duration": 3,
    "start_time": "2024-03-08T19:43:34.114Z"
   },
   {
    "duration": 71,
    "start_time": "2024-03-08T19:43:34.118Z"
   },
   {
    "duration": 176,
    "start_time": "2024-03-08T19:43:34.191Z"
   },
   {
    "duration": 214,
    "start_time": "2024-03-08T19:43:34.369Z"
   },
   {
    "duration": 216,
    "start_time": "2024-03-08T19:43:34.584Z"
   },
   {
    "duration": 31,
    "start_time": "2024-03-08T19:43:34.802Z"
   },
   {
    "duration": 500,
    "start_time": "2024-03-08T19:43:34.834Z"
   },
   {
    "duration": 413,
    "start_time": "2024-03-08T19:43:35.335Z"
   },
   {
    "duration": 22,
    "start_time": "2024-03-08T19:43:35.750Z"
   },
   {
    "duration": 24,
    "start_time": "2024-03-08T19:43:35.774Z"
   },
   {
    "duration": 93,
    "start_time": "2024-03-08T19:43:35.799Z"
   },
   {
    "duration": 15,
    "start_time": "2024-03-08T19:43:35.894Z"
   },
   {
    "duration": 154,
    "start_time": "2024-03-08T19:43:35.911Z"
   },
   {
    "duration": 63,
    "start_time": "2024-03-08T19:43:36.067Z"
   },
   {
    "duration": 72,
    "start_time": "2024-03-08T19:45:59.603Z"
   },
   {
    "duration": 1242,
    "start_time": "2024-03-08T19:46:45.643Z"
   },
   {
    "duration": 3,
    "start_time": "2024-03-08T19:47:02.720Z"
   },
   {
    "duration": 71,
    "start_time": "2024-03-08T19:47:29.951Z"
   },
   {
    "duration": 4,
    "start_time": "2024-03-08T19:47:36.382Z"
   },
   {
    "duration": 41,
    "start_time": "2024-03-08T19:49:33.001Z"
   },
   {
    "duration": 14,
    "start_time": "2024-03-08T19:52:14.192Z"
   },
   {
    "duration": 68,
    "start_time": "2024-03-08T20:00:44.249Z"
   },
   {
    "duration": 1188,
    "start_time": "2024-03-08T20:01:14.401Z"
   },
   {
    "duration": 185,
    "start_time": "2024-03-08T20:01:15.591Z"
   },
   {
    "duration": 10,
    "start_time": "2024-03-08T20:01:15.778Z"
   },
   {
    "duration": 20,
    "start_time": "2024-03-08T20:01:15.790Z"
   },
   {
    "duration": 2,
    "start_time": "2024-03-08T20:01:15.812Z"
   },
   {
    "duration": 16,
    "start_time": "2024-03-08T20:01:15.816Z"
   },
   {
    "duration": 5,
    "start_time": "2024-03-08T20:01:15.834Z"
   },
   {
    "duration": 106,
    "start_time": "2024-03-08T20:01:15.841Z"
   },
   {
    "duration": 85,
    "start_time": "2024-03-08T20:01:15.949Z"
   },
   {
    "duration": 9,
    "start_time": "2024-03-08T20:01:16.037Z"
   },
   {
    "duration": 90,
    "start_time": "2024-03-08T20:01:16.048Z"
   },
   {
    "duration": 6,
    "start_time": "2024-03-08T20:01:16.140Z"
   },
   {
    "duration": 5,
    "start_time": "2024-03-08T20:01:16.147Z"
   },
   {
    "duration": 33,
    "start_time": "2024-03-08T20:01:16.154Z"
   },
   {
    "duration": 25,
    "start_time": "2024-03-08T20:01:16.189Z"
   },
   {
    "duration": 204,
    "start_time": "2024-03-08T20:01:16.216Z"
   },
   {
    "duration": 9,
    "start_time": "2024-03-08T20:01:16.422Z"
   },
   {
    "duration": 5,
    "start_time": "2024-03-08T20:01:16.432Z"
   },
   {
    "duration": 58,
    "start_time": "2024-03-08T20:01:16.438Z"
   },
   {
    "duration": 188,
    "start_time": "2024-03-08T20:01:16.498Z"
   },
   {
    "duration": 204,
    "start_time": "2024-03-08T20:01:16.688Z"
   },
   {
    "duration": 202,
    "start_time": "2024-03-08T20:01:16.894Z"
   },
   {
    "duration": 32,
    "start_time": "2024-03-08T20:01:17.098Z"
   },
   {
    "duration": 478,
    "start_time": "2024-03-08T20:01:17.132Z"
   },
   {
    "duration": 430,
    "start_time": "2024-03-08T20:01:17.613Z"
   },
   {
    "duration": 20,
    "start_time": "2024-03-08T20:01:18.045Z"
   },
   {
    "duration": 6,
    "start_time": "2024-03-08T20:01:18.067Z"
   },
   {
    "duration": 52,
    "start_time": "2024-03-08T20:01:18.076Z"
   },
   {
    "duration": 10,
    "start_time": "2024-03-08T20:01:18.130Z"
   },
   {
    "duration": 146,
    "start_time": "2024-03-08T20:01:18.141Z"
   },
   {
    "duration": 59,
    "start_time": "2024-03-08T20:01:18.288Z"
   },
   {
    "duration": 4,
    "start_time": "2024-03-08T20:01:18.348Z"
   },
   {
    "duration": 61,
    "start_time": "2024-03-08T20:01:18.365Z"
   },
   {
    "duration": 95,
    "start_time": "2024-03-08T20:01:18.427Z"
   },
   {
    "duration": 67,
    "start_time": "2024-03-08T20:01:35.553Z"
   },
   {
    "duration": 60,
    "start_time": "2024-03-08T20:01:59.325Z"
   },
   {
    "duration": 17,
    "start_time": "2024-03-08T20:05:48.610Z"
   },
   {
    "duration": 1113,
    "start_time": "2024-03-08T20:09:20.613Z"
   },
   {
    "duration": 172,
    "start_time": "2024-03-08T20:09:21.727Z"
   },
   {
    "duration": 11,
    "start_time": "2024-03-08T20:09:21.901Z"
   },
   {
    "duration": 22,
    "start_time": "2024-03-08T20:09:21.914Z"
   },
   {
    "duration": 2,
    "start_time": "2024-03-08T20:09:21.938Z"
   },
   {
    "duration": 29,
    "start_time": "2024-03-08T20:09:21.942Z"
   },
   {
    "duration": 4,
    "start_time": "2024-03-08T20:09:21.973Z"
   },
   {
    "duration": 63,
    "start_time": "2024-03-08T20:09:21.979Z"
   },
   {
    "duration": 83,
    "start_time": "2024-03-08T20:09:22.044Z"
   },
   {
    "duration": 7,
    "start_time": "2024-03-08T20:09:22.130Z"
   },
   {
    "duration": 80,
    "start_time": "2024-03-08T20:09:22.139Z"
   },
   {
    "duration": 6,
    "start_time": "2024-03-08T20:09:22.221Z"
   },
   {
    "duration": 6,
    "start_time": "2024-03-08T20:09:22.228Z"
   },
   {
    "duration": 36,
    "start_time": "2024-03-08T20:09:22.235Z"
   },
   {
    "duration": 29,
    "start_time": "2024-03-08T20:09:22.273Z"
   },
   {
    "duration": 192,
    "start_time": "2024-03-08T20:09:22.303Z"
   },
   {
    "duration": 9,
    "start_time": "2024-03-08T20:09:22.497Z"
   },
   {
    "duration": 22,
    "start_time": "2024-03-08T20:09:22.508Z"
   },
   {
    "duration": 40,
    "start_time": "2024-03-08T20:09:22.531Z"
   },
   {
    "duration": 174,
    "start_time": "2024-03-08T20:09:22.573Z"
   },
   {
    "duration": 226,
    "start_time": "2024-03-08T20:09:22.749Z"
   },
   {
    "duration": 195,
    "start_time": "2024-03-08T20:09:22.977Z"
   },
   {
    "duration": 31,
    "start_time": "2024-03-08T20:09:23.174Z"
   },
   {
    "duration": 489,
    "start_time": "2024-03-08T20:09:23.207Z"
   },
   {
    "duration": 451,
    "start_time": "2024-03-08T20:09:23.698Z"
   },
   {
    "duration": 18,
    "start_time": "2024-03-08T20:09:24.151Z"
   },
   {
    "duration": 10,
    "start_time": "2024-03-08T20:09:24.170Z"
   },
   {
    "duration": 59,
    "start_time": "2024-03-08T20:09:24.183Z"
   },
   {
    "duration": 27,
    "start_time": "2024-03-08T20:09:24.244Z"
   },
   {
    "duration": 123,
    "start_time": "2024-03-08T20:09:24.273Z"
   },
   {
    "duration": 70,
    "start_time": "2024-03-08T20:09:24.397Z"
   },
   {
    "duration": 3,
    "start_time": "2024-03-08T20:09:24.469Z"
   },
   {
    "duration": 68,
    "start_time": "2024-03-08T20:09:24.474Z"
   },
   {
    "duration": 31,
    "start_time": "2024-03-08T20:11:48.783Z"
   },
   {
    "duration": 1259,
    "start_time": "2024-03-08T20:15:15.591Z"
   },
   {
    "duration": 1174,
    "start_time": "2024-03-08T20:15:49.501Z"
   },
   {
    "duration": 46,
    "start_time": "2024-03-08T20:16:19.483Z"
   },
   {
    "duration": 61,
    "start_time": "2024-03-08T20:36:43.718Z"
   },
   {
    "duration": 16,
    "start_time": "2024-03-08T20:37:05.678Z"
   },
   {
    "duration": 70,
    "start_time": "2024-03-08T20:38:29.392Z"
   },
   {
    "duration": 71,
    "start_time": "2024-03-08T20:38:39.956Z"
   },
   {
    "duration": 1056,
    "start_time": "2024-03-08T20:38:57.415Z"
   },
   {
    "duration": 176,
    "start_time": "2024-03-08T20:38:58.472Z"
   },
   {
    "duration": 16,
    "start_time": "2024-03-08T20:38:58.650Z"
   },
   {
    "duration": 26,
    "start_time": "2024-03-08T20:38:58.668Z"
   },
   {
    "duration": 16,
    "start_time": "2024-03-08T20:38:58.696Z"
   },
   {
    "duration": 39,
    "start_time": "2024-03-08T20:38:58.713Z"
   },
   {
    "duration": 24,
    "start_time": "2024-03-08T20:38:58.754Z"
   },
   {
    "duration": 73,
    "start_time": "2024-03-08T20:38:58.779Z"
   },
   {
    "duration": 67,
    "start_time": "2024-03-08T20:38:58.854Z"
   },
   {
    "duration": 8,
    "start_time": "2024-03-08T20:38:58.923Z"
   },
   {
    "duration": 82,
    "start_time": "2024-03-08T20:38:58.932Z"
   },
   {
    "duration": 3,
    "start_time": "2024-03-08T20:38:59.015Z"
   },
   {
    "duration": 4,
    "start_time": "2024-03-08T20:38:59.019Z"
   },
   {
    "duration": 25,
    "start_time": "2024-03-08T20:38:59.025Z"
   },
   {
    "duration": 25,
    "start_time": "2024-03-08T20:38:59.066Z"
   },
   {
    "duration": 208,
    "start_time": "2024-03-08T20:38:59.093Z"
   },
   {
    "duration": 9,
    "start_time": "2024-03-08T20:38:59.302Z"
   },
   {
    "duration": 3,
    "start_time": "2024-03-08T20:38:59.313Z"
   },
   {
    "duration": 52,
    "start_time": "2024-03-08T20:38:59.318Z"
   },
   {
    "duration": 176,
    "start_time": "2024-03-08T20:38:59.372Z"
   },
   {
    "duration": 198,
    "start_time": "2024-03-08T20:38:59.550Z"
   },
   {
    "duration": 196,
    "start_time": "2024-03-08T20:38:59.749Z"
   },
   {
    "duration": 38,
    "start_time": "2024-03-08T20:38:59.947Z"
   },
   {
    "duration": 504,
    "start_time": "2024-03-08T20:38:59.986Z"
   },
   {
    "duration": 456,
    "start_time": "2024-03-08T20:39:00.493Z"
   },
   {
    "duration": 20,
    "start_time": "2024-03-08T20:39:00.951Z"
   },
   {
    "duration": 43,
    "start_time": "2024-03-08T20:39:00.973Z"
   },
   {
    "duration": 127,
    "start_time": "2024-03-08T20:39:01.020Z"
   },
   {
    "duration": 46,
    "start_time": "2024-03-08T20:39:01.149Z"
   },
   {
    "duration": 1280,
    "start_time": "2024-03-08T20:39:01.197Z"
   },
   {
    "duration": 0,
    "start_time": "2024-03-08T20:39:02.479Z"
   },
   {
    "duration": 0,
    "start_time": "2024-03-08T20:39:02.480Z"
   },
   {
    "duration": 0,
    "start_time": "2024-03-08T20:39:02.481Z"
   },
   {
    "duration": 0,
    "start_time": "2024-03-08T20:39:02.482Z"
   },
   {
    "duration": 65,
    "start_time": "2024-03-08T20:42:57.792Z"
   },
   {
    "duration": 1144,
    "start_time": "2024-03-08T20:49:09.646Z"
   },
   {
    "duration": 176,
    "start_time": "2024-03-08T20:49:10.792Z"
   },
   {
    "duration": 11,
    "start_time": "2024-03-08T20:49:10.970Z"
   },
   {
    "duration": 22,
    "start_time": "2024-03-08T20:49:10.983Z"
   },
   {
    "duration": 3,
    "start_time": "2024-03-08T20:49:11.007Z"
   },
   {
    "duration": 17,
    "start_time": "2024-03-08T20:49:11.012Z"
   },
   {
    "duration": 8,
    "start_time": "2024-03-08T20:49:11.031Z"
   },
   {
    "duration": 66,
    "start_time": "2024-03-08T20:49:11.065Z"
   },
   {
    "duration": 86,
    "start_time": "2024-03-08T20:49:11.133Z"
   },
   {
    "duration": 7,
    "start_time": "2024-03-08T20:49:11.222Z"
   },
   {
    "duration": 77,
    "start_time": "2024-03-08T20:49:11.230Z"
   },
   {
    "duration": 5,
    "start_time": "2024-03-08T20:49:11.309Z"
   },
   {
    "duration": 4,
    "start_time": "2024-03-08T20:49:11.316Z"
   },
   {
    "duration": 25,
    "start_time": "2024-03-08T20:49:11.321Z"
   },
   {
    "duration": 37,
    "start_time": "2024-03-08T20:49:11.348Z"
   },
   {
    "duration": 197,
    "start_time": "2024-03-08T20:49:11.386Z"
   },
   {
    "duration": 9,
    "start_time": "2024-03-08T20:49:11.584Z"
   },
   {
    "duration": 6,
    "start_time": "2024-03-08T20:49:11.594Z"
   },
   {
    "duration": 37,
    "start_time": "2024-03-08T20:49:11.601Z"
   },
   {
    "duration": 180,
    "start_time": "2024-03-08T20:49:11.640Z"
   },
   {
    "duration": 218,
    "start_time": "2024-03-08T20:49:11.821Z"
   },
   {
    "duration": 194,
    "start_time": "2024-03-08T20:49:12.041Z"
   },
   {
    "duration": 46,
    "start_time": "2024-03-08T20:49:12.237Z"
   },
   {
    "duration": 482,
    "start_time": "2024-03-08T20:49:12.285Z"
   },
   {
    "duration": 438,
    "start_time": "2024-03-08T20:49:12.769Z"
   },
   {
    "duration": 10,
    "start_time": "2024-03-08T20:49:13.208Z"
   },
   {
    "duration": 5,
    "start_time": "2024-03-08T20:49:13.220Z"
   },
   {
    "duration": 84,
    "start_time": "2024-03-08T20:49:13.228Z"
   },
   {
    "duration": 10,
    "start_time": "2024-03-08T20:49:13.314Z"
   },
   {
    "duration": 83,
    "start_time": "2024-03-08T20:49:13.325Z"
   },
   {
    "duration": 4,
    "start_time": "2024-03-08T20:49:13.409Z"
   },
   {
    "duration": 59,
    "start_time": "2024-03-08T20:49:13.414Z"
   },
   {
    "duration": 42,
    "start_time": "2024-03-08T20:49:13.475Z"
   },
   {
    "duration": 56,
    "start_time": "2024-03-08T20:50:36.875Z"
   },
   {
    "duration": 51,
    "start_time": "2024-03-08T20:51:16.746Z"
   },
   {
    "duration": 6,
    "start_time": "2024-03-08T20:51:23.895Z"
   },
   {
    "duration": 7,
    "start_time": "2024-03-08T20:51:30.810Z"
   },
   {
    "duration": 92,
    "start_time": "2024-03-08T20:51:40.846Z"
   },
   {
    "duration": 41,
    "start_time": "2024-03-08T20:52:07.683Z"
   },
   {
    "duration": 10,
    "start_time": "2024-03-08T20:52:32.273Z"
   },
   {
    "duration": 32,
    "start_time": "2024-03-08T20:53:16.937Z"
   },
   {
    "duration": 1082,
    "start_time": "2024-03-08T20:53:24.602Z"
   },
   {
    "duration": 176,
    "start_time": "2024-03-08T20:53:25.686Z"
   },
   {
    "duration": 14,
    "start_time": "2024-03-08T20:53:25.863Z"
   },
   {
    "duration": 30,
    "start_time": "2024-03-08T20:53:25.879Z"
   },
   {
    "duration": 4,
    "start_time": "2024-03-08T20:53:25.911Z"
   },
   {
    "duration": 23,
    "start_time": "2024-03-08T20:53:25.917Z"
   },
   {
    "duration": 5,
    "start_time": "2024-03-08T20:53:25.966Z"
   },
   {
    "duration": 78,
    "start_time": "2024-03-08T20:53:25.973Z"
   },
   {
    "duration": 82,
    "start_time": "2024-03-08T20:53:26.053Z"
   },
   {
    "duration": 7,
    "start_time": "2024-03-08T20:53:26.138Z"
   },
   {
    "duration": 76,
    "start_time": "2024-03-08T20:53:26.146Z"
   },
   {
    "duration": 10,
    "start_time": "2024-03-08T20:53:26.224Z"
   },
   {
    "duration": 20,
    "start_time": "2024-03-08T20:53:26.235Z"
   },
   {
    "duration": 42,
    "start_time": "2024-03-08T20:53:26.257Z"
   },
   {
    "duration": 40,
    "start_time": "2024-03-08T20:53:26.301Z"
   },
   {
    "duration": 196,
    "start_time": "2024-03-08T20:53:26.342Z"
   },
   {
    "duration": 9,
    "start_time": "2024-03-08T20:53:26.539Z"
   },
   {
    "duration": 4,
    "start_time": "2024-03-08T20:53:26.549Z"
   },
   {
    "duration": 39,
    "start_time": "2024-03-08T20:53:26.566Z"
   },
   {
    "duration": 186,
    "start_time": "2024-03-08T20:53:26.607Z"
   },
   {
    "duration": 199,
    "start_time": "2024-03-08T20:53:26.795Z"
   },
   {
    "duration": 202,
    "start_time": "2024-03-08T20:53:26.995Z"
   },
   {
    "duration": 31,
    "start_time": "2024-03-08T20:53:27.198Z"
   },
   {
    "duration": 482,
    "start_time": "2024-03-08T20:53:27.231Z"
   },
   {
    "duration": 415,
    "start_time": "2024-03-08T20:53:27.715Z"
   },
   {
    "duration": 10,
    "start_time": "2024-03-08T20:53:28.132Z"
   },
   {
    "duration": 18,
    "start_time": "2024-03-08T20:53:28.143Z"
   },
   {
    "duration": 70,
    "start_time": "2024-03-08T20:53:28.167Z"
   },
   {
    "duration": 9,
    "start_time": "2024-03-08T20:53:28.239Z"
   },
   {
    "duration": 69,
    "start_time": "2024-03-08T20:53:28.249Z"
   },
   {
    "duration": 4,
    "start_time": "2024-03-08T20:53:28.319Z"
   },
   {
    "duration": 61,
    "start_time": "2024-03-08T20:53:28.324Z"
   },
   {
    "duration": 57,
    "start_time": "2024-03-08T20:53:28.387Z"
   },
   {
    "duration": 60,
    "start_time": "2024-03-08T20:53:28.445Z"
   },
   {
    "duration": 45,
    "start_time": "2024-03-08T20:53:28.506Z"
   },
   {
    "duration": 18,
    "start_time": "2024-03-08T20:53:28.552Z"
   },
   {
    "duration": 12,
    "start_time": "2024-03-08T20:53:28.572Z"
   },
   {
    "duration": 179,
    "start_time": "2024-03-08T20:53:28.585Z"
   },
   {
    "duration": 99,
    "start_time": "2024-03-08T20:53:28.766Z"
   },
   {
    "duration": 82,
    "start_time": "2024-03-08T20:54:42.244Z"
   },
   {
    "duration": 99,
    "start_time": "2024-03-08T20:54:55.557Z"
   },
   {
    "duration": 10,
    "start_time": "2024-03-08T20:56:17.612Z"
   },
   {
    "duration": 12,
    "start_time": "2024-03-08T20:56:38.022Z"
   },
   {
    "duration": 11,
    "start_time": "2024-03-08T20:58:50.711Z"
   },
   {
    "duration": 6,
    "start_time": "2024-03-08T20:58:58.014Z"
   },
   {
    "duration": 10,
    "start_time": "2024-03-08T20:59:20.637Z"
   },
   {
    "duration": 7,
    "start_time": "2024-03-08T21:00:02.359Z"
   },
   {
    "duration": 8,
    "start_time": "2024-03-08T21:00:33.407Z"
   },
   {
    "duration": 6,
    "start_time": "2024-03-08T21:00:39.550Z"
   },
   {
    "duration": 8,
    "start_time": "2024-03-08T21:00:45.913Z"
   },
   {
    "duration": 6,
    "start_time": "2024-03-08T21:00:46.322Z"
   },
   {
    "duration": 7,
    "start_time": "2024-03-08T21:00:49.768Z"
   },
   {
    "duration": 13,
    "start_time": "2024-03-08T21:01:00.672Z"
   },
   {
    "duration": 12,
    "start_time": "2024-03-08T21:01:03.376Z"
   },
   {
    "duration": 7,
    "start_time": "2024-03-08T21:01:06.206Z"
   },
   {
    "duration": 6,
    "start_time": "2024-03-08T21:01:06.642Z"
   },
   {
    "duration": 7,
    "start_time": "2024-03-08T21:01:07.260Z"
   },
   {
    "duration": 6,
    "start_time": "2024-03-08T21:01:23.530Z"
   },
   {
    "duration": 5,
    "start_time": "2024-03-08T21:01:26.924Z"
   },
   {
    "duration": 7,
    "start_time": "2024-03-08T21:01:31.064Z"
   },
   {
    "duration": 6,
    "start_time": "2024-03-08T21:01:32.032Z"
   },
   {
    "duration": 7,
    "start_time": "2024-03-08T21:01:33.112Z"
   },
   {
    "duration": 7,
    "start_time": "2024-03-08T21:02:15.343Z"
   },
   {
    "duration": 1209,
    "start_time": "2024-03-08T21:02:28.285Z"
   },
   {
    "duration": 1190,
    "start_time": "2024-03-08T21:02:46.666Z"
   },
   {
    "duration": 173,
    "start_time": "2024-03-08T21:02:47.857Z"
   },
   {
    "duration": 10,
    "start_time": "2024-03-08T21:02:48.032Z"
   },
   {
    "duration": 33,
    "start_time": "2024-03-08T21:02:48.044Z"
   },
   {
    "duration": 3,
    "start_time": "2024-03-08T21:02:48.078Z"
   },
   {
    "duration": 22,
    "start_time": "2024-03-08T21:02:48.083Z"
   },
   {
    "duration": 7,
    "start_time": "2024-03-08T21:02:48.106Z"
   },
   {
    "duration": 81,
    "start_time": "2024-03-08T21:02:48.114Z"
   },
   {
    "duration": 80,
    "start_time": "2024-03-08T21:02:48.197Z"
   },
   {
    "duration": 7,
    "start_time": "2024-03-08T21:02:48.279Z"
   },
   {
    "duration": 88,
    "start_time": "2024-03-08T21:02:48.288Z"
   },
   {
    "duration": 3,
    "start_time": "2024-03-08T21:02:48.378Z"
   },
   {
    "duration": 9,
    "start_time": "2024-03-08T21:02:48.382Z"
   },
   {
    "duration": 27,
    "start_time": "2024-03-08T21:02:48.392Z"
   },
   {
    "duration": 48,
    "start_time": "2024-03-08T21:02:48.421Z"
   },
   {
    "duration": 195,
    "start_time": "2024-03-08T21:02:48.471Z"
   },
   {
    "duration": 11,
    "start_time": "2024-03-08T21:02:48.668Z"
   },
   {
    "duration": 4,
    "start_time": "2024-03-08T21:02:48.681Z"
   },
   {
    "duration": 42,
    "start_time": "2024-03-08T21:02:48.686Z"
   },
   {
    "duration": 183,
    "start_time": "2024-03-08T21:02:48.729Z"
   },
   {
    "duration": 191,
    "start_time": "2024-03-08T21:02:48.914Z"
   },
   {
    "duration": 196,
    "start_time": "2024-03-08T21:02:49.107Z"
   },
   {
    "duration": 33,
    "start_time": "2024-03-08T21:02:49.304Z"
   },
   {
    "duration": 518,
    "start_time": "2024-03-08T21:02:49.338Z"
   },
   {
    "duration": 464,
    "start_time": "2024-03-08T21:02:49.858Z"
   },
   {
    "duration": 10,
    "start_time": "2024-03-08T21:02:50.324Z"
   },
   {
    "duration": 6,
    "start_time": "2024-03-08T21:02:50.335Z"
   },
   {
    "duration": 65,
    "start_time": "2024-03-08T21:02:50.365Z"
   },
   {
    "duration": 9,
    "start_time": "2024-03-08T21:02:50.432Z"
   },
   {
    "duration": 73,
    "start_time": "2024-03-08T21:02:50.442Z"
   },
   {
    "duration": 3,
    "start_time": "2024-03-08T21:02:50.516Z"
   },
   {
    "duration": 58,
    "start_time": "2024-03-08T21:02:50.521Z"
   },
   {
    "duration": 60,
    "start_time": "2024-03-08T21:02:50.581Z"
   },
   {
    "duration": 60,
    "start_time": "2024-03-08T21:02:50.643Z"
   },
   {
    "duration": 45,
    "start_time": "2024-03-08T21:02:50.705Z"
   },
   {
    "duration": 16,
    "start_time": "2024-03-08T21:02:50.752Z"
   },
   {
    "duration": 6,
    "start_time": "2024-03-08T21:02:50.769Z"
   },
   {
    "duration": 159,
    "start_time": "2024-03-08T21:02:50.777Z"
   },
   {
    "duration": 58,
    "start_time": "2024-03-08T21:02:50.938Z"
   },
   {
    "duration": 136,
    "start_time": "2024-03-08T21:02:50.998Z"
   },
   {
    "duration": 6,
    "start_time": "2024-03-08T21:02:51.136Z"
   },
   {
    "duration": 24,
    "start_time": "2024-03-08T21:02:51.143Z"
   },
   {
    "duration": 14,
    "start_time": "2024-03-08T21:02:51.168Z"
   },
   {
    "duration": 36,
    "start_time": "2024-03-08T21:02:51.183Z"
   },
   {
    "duration": 1303,
    "start_time": "2024-03-08T21:02:51.221Z"
   },
   {
    "duration": 1143,
    "start_time": "2024-03-08T21:18:35.720Z"
   },
   {
    "duration": 171,
    "start_time": "2024-03-08T21:18:36.865Z"
   },
   {
    "duration": 9,
    "start_time": "2024-03-08T21:18:37.038Z"
   },
   {
    "duration": 28,
    "start_time": "2024-03-08T21:18:37.049Z"
   },
   {
    "duration": 3,
    "start_time": "2024-03-08T21:18:37.078Z"
   },
   {
    "duration": 15,
    "start_time": "2024-03-08T21:18:37.082Z"
   },
   {
    "duration": 5,
    "start_time": "2024-03-08T21:18:37.099Z"
   },
   {
    "duration": 85,
    "start_time": "2024-03-08T21:18:37.106Z"
   },
   {
    "duration": 75,
    "start_time": "2024-03-08T21:18:37.193Z"
   },
   {
    "duration": 6,
    "start_time": "2024-03-08T21:18:37.270Z"
   },
   {
    "duration": 68,
    "start_time": "2024-03-08T21:18:37.278Z"
   },
   {
    "duration": 17,
    "start_time": "2024-03-08T21:18:37.348Z"
   },
   {
    "duration": 4,
    "start_time": "2024-03-08T21:18:37.366Z"
   },
   {
    "duration": 24,
    "start_time": "2024-03-08T21:18:37.372Z"
   },
   {
    "duration": 33,
    "start_time": "2024-03-08T21:18:37.397Z"
   },
   {
    "duration": 199,
    "start_time": "2024-03-08T21:18:37.431Z"
   },
   {
    "duration": 9,
    "start_time": "2024-03-08T21:18:37.632Z"
   },
   {
    "duration": 3,
    "start_time": "2024-03-08T21:18:37.642Z"
   },
   {
    "duration": 51,
    "start_time": "2024-03-08T21:18:37.646Z"
   },
   {
    "duration": 166,
    "start_time": "2024-03-08T21:18:37.699Z"
   },
   {
    "duration": 205,
    "start_time": "2024-03-08T21:18:37.867Z"
   },
   {
    "duration": 191,
    "start_time": "2024-03-08T21:18:38.074Z"
   },
   {
    "duration": 31,
    "start_time": "2024-03-08T21:18:38.266Z"
   },
   {
    "duration": 500,
    "start_time": "2024-03-08T21:18:38.298Z"
   },
   {
    "duration": 431,
    "start_time": "2024-03-08T21:18:38.800Z"
   },
   {
    "duration": 10,
    "start_time": "2024-03-08T21:18:39.233Z"
   },
   {
    "duration": 21,
    "start_time": "2024-03-08T21:18:39.245Z"
   },
   {
    "duration": 63,
    "start_time": "2024-03-08T21:18:39.267Z"
   },
   {
    "duration": 9,
    "start_time": "2024-03-08T21:18:39.331Z"
   },
   {
    "duration": 75,
    "start_time": "2024-03-08T21:18:39.342Z"
   },
   {
    "duration": 4,
    "start_time": "2024-03-08T21:18:39.418Z"
   },
   {
    "duration": 60,
    "start_time": "2024-03-08T21:18:39.423Z"
   },
   {
    "duration": 55,
    "start_time": "2024-03-08T21:18:39.484Z"
   },
   {
    "duration": 58,
    "start_time": "2024-03-08T21:18:39.540Z"
   },
   {
    "duration": 44,
    "start_time": "2024-03-08T21:18:39.599Z"
   },
   {
    "duration": 3,
    "start_time": "2024-03-08T21:18:39.645Z"
   },
   {
    "duration": 17,
    "start_time": "2024-03-08T21:18:39.649Z"
   },
   {
    "duration": 150,
    "start_time": "2024-03-08T21:18:39.668Z"
   },
   {
    "duration": 67,
    "start_time": "2024-03-08T21:18:39.819Z"
   },
   {
    "duration": 130,
    "start_time": "2024-03-08T21:18:39.887Z"
   },
   {
    "duration": 7,
    "start_time": "2024-03-08T21:18:40.020Z"
   },
   {
    "duration": 19,
    "start_time": "2024-03-08T21:18:40.028Z"
   },
   {
    "duration": 17,
    "start_time": "2024-03-08T21:18:40.050Z"
   },
   {
    "duration": 12,
    "start_time": "2024-03-08T21:18:40.068Z"
   },
   {
    "duration": 116,
    "start_time": "2024-03-08T21:18:40.081Z"
   },
   {
    "duration": 1278,
    "start_time": "2024-03-08T21:31:00.381Z"
   },
   {
    "duration": 1205,
    "start_time": "2024-03-08T21:31:11.475Z"
   },
   {
    "duration": 1211,
    "start_time": "2024-03-08T21:33:15.920Z"
   },
   {
    "duration": 11,
    "start_time": "2024-03-08T21:33:28.620Z"
   },
   {
    "duration": 97,
    "start_time": "2024-03-08T21:34:43.268Z"
   },
   {
    "duration": 123,
    "start_time": "2024-03-08T21:35:05.928Z"
   },
   {
    "duration": 111,
    "start_time": "2024-03-08T21:35:41.325Z"
   },
   {
    "duration": 6,
    "start_time": "2024-03-08T21:36:20.381Z"
   },
   {
    "duration": 5,
    "start_time": "2024-03-08T21:36:29.850Z"
   },
   {
    "duration": 1201,
    "start_time": "2024-03-08T21:37:15.734Z"
   },
   {
    "duration": 1321,
    "start_time": "2024-03-08T21:38:44.127Z"
   },
   {
    "duration": 1142,
    "start_time": "2024-03-08T21:38:57.429Z"
   },
   {
    "duration": 178,
    "start_time": "2024-03-08T21:38:58.573Z"
   },
   {
    "duration": 14,
    "start_time": "2024-03-08T21:38:58.752Z"
   },
   {
    "duration": 21,
    "start_time": "2024-03-08T21:38:58.767Z"
   },
   {
    "duration": 2,
    "start_time": "2024-03-08T21:38:58.790Z"
   },
   {
    "duration": 16,
    "start_time": "2024-03-08T21:38:58.794Z"
   },
   {
    "duration": 4,
    "start_time": "2024-03-08T21:38:58.812Z"
   },
   {
    "duration": 84,
    "start_time": "2024-03-08T21:38:58.817Z"
   },
   {
    "duration": 78,
    "start_time": "2024-03-08T21:38:58.903Z"
   },
   {
    "duration": 6,
    "start_time": "2024-03-08T21:38:58.983Z"
   },
   {
    "duration": 93,
    "start_time": "2024-03-08T21:38:58.991Z"
   },
   {
    "duration": 3,
    "start_time": "2024-03-08T21:38:59.086Z"
   },
   {
    "duration": 5,
    "start_time": "2024-03-08T21:38:59.090Z"
   },
   {
    "duration": 30,
    "start_time": "2024-03-08T21:38:59.099Z"
   },
   {
    "duration": 46,
    "start_time": "2024-03-08T21:38:59.131Z"
   },
   {
    "duration": 198,
    "start_time": "2024-03-08T21:38:59.179Z"
   },
   {
    "duration": 11,
    "start_time": "2024-03-08T21:38:59.379Z"
   },
   {
    "duration": 17,
    "start_time": "2024-03-08T21:38:59.392Z"
   },
   {
    "duration": 44,
    "start_time": "2024-03-08T21:38:59.411Z"
   },
   {
    "duration": 167,
    "start_time": "2024-03-08T21:38:59.457Z"
   },
   {
    "duration": 202,
    "start_time": "2024-03-08T21:38:59.626Z"
   },
   {
    "duration": 212,
    "start_time": "2024-03-08T21:38:59.830Z"
   },
   {
    "duration": 34,
    "start_time": "2024-03-08T21:39:00.044Z"
   },
   {
    "duration": 512,
    "start_time": "2024-03-08T21:39:00.080Z"
   },
   {
    "duration": 443,
    "start_time": "2024-03-08T21:39:00.594Z"
   },
   {
    "duration": 11,
    "start_time": "2024-03-08T21:39:01.038Z"
   },
   {
    "duration": 57,
    "start_time": "2024-03-08T21:39:01.051Z"
   },
   {
    "duration": 134,
    "start_time": "2024-03-08T21:39:01.110Z"
   },
   {
    "duration": 9,
    "start_time": "2024-03-08T21:39:01.246Z"
   },
   {
    "duration": 92,
    "start_time": "2024-03-08T21:39:01.256Z"
   },
   {
    "duration": 4,
    "start_time": "2024-03-08T21:39:01.350Z"
   },
   {
    "duration": 65,
    "start_time": "2024-03-08T21:39:01.355Z"
   },
   {
    "duration": 195,
    "start_time": "2024-03-08T21:39:01.422Z"
   },
   {
    "duration": 0,
    "start_time": "2024-03-08T21:39:01.619Z"
   },
   {
    "duration": 0,
    "start_time": "2024-03-08T21:39:01.620Z"
   },
   {
    "duration": 0,
    "start_time": "2024-03-08T21:39:01.621Z"
   },
   {
    "duration": 125,
    "start_time": "2024-03-08T21:39:12.572Z"
   },
   {
    "duration": 5,
    "start_time": "2024-03-08T21:39:58.145Z"
   },
   {
    "duration": 1173,
    "start_time": "2024-03-08T21:40:00.248Z"
   },
   {
    "duration": 116,
    "start_time": "2024-03-08T21:40:42.086Z"
   },
   {
    "duration": 5,
    "start_time": "2024-03-08T21:40:43.344Z"
   },
   {
    "duration": 5,
    "start_time": "2024-03-08T21:40:46.026Z"
   },
   {
    "duration": 15,
    "start_time": "2024-03-08T21:42:23.306Z"
   },
   {
    "duration": 1129,
    "start_time": "2024-03-08T21:43:03.742Z"
   },
   {
    "duration": 174,
    "start_time": "2024-03-08T21:43:04.872Z"
   },
   {
    "duration": 10,
    "start_time": "2024-03-08T21:43:05.047Z"
   },
   {
    "duration": 21,
    "start_time": "2024-03-08T21:43:05.066Z"
   },
   {
    "duration": 2,
    "start_time": "2024-03-08T21:43:05.089Z"
   },
   {
    "duration": 15,
    "start_time": "2024-03-08T21:43:05.093Z"
   },
   {
    "duration": 6,
    "start_time": "2024-03-08T21:43:05.110Z"
   },
   {
    "duration": 82,
    "start_time": "2024-03-08T21:43:05.117Z"
   },
   {
    "duration": 77,
    "start_time": "2024-03-08T21:43:05.201Z"
   },
   {
    "duration": 6,
    "start_time": "2024-03-08T21:43:05.281Z"
   },
   {
    "duration": 71,
    "start_time": "2024-03-08T21:43:05.289Z"
   },
   {
    "duration": 5,
    "start_time": "2024-03-08T21:43:05.366Z"
   },
   {
    "duration": 5,
    "start_time": "2024-03-08T21:43:05.373Z"
   },
   {
    "duration": 24,
    "start_time": "2024-03-08T21:43:05.379Z"
   },
   {
    "duration": 31,
    "start_time": "2024-03-08T21:43:05.405Z"
   },
   {
    "duration": 206,
    "start_time": "2024-03-08T21:43:05.437Z"
   },
   {
    "duration": 24,
    "start_time": "2024-03-08T21:43:05.646Z"
   },
   {
    "duration": 4,
    "start_time": "2024-03-08T21:43:05.672Z"
   },
   {
    "duration": 37,
    "start_time": "2024-03-08T21:43:05.677Z"
   },
   {
    "duration": 207,
    "start_time": "2024-03-08T21:43:05.715Z"
   },
   {
    "duration": 216,
    "start_time": "2024-03-08T21:43:05.926Z"
   },
   {
    "duration": 193,
    "start_time": "2024-03-08T21:43:06.143Z"
   },
   {
    "duration": 38,
    "start_time": "2024-03-08T21:43:06.338Z"
   },
   {
    "duration": 492,
    "start_time": "2024-03-08T21:43:06.377Z"
   },
   {
    "duration": 447,
    "start_time": "2024-03-08T21:43:06.871Z"
   },
   {
    "duration": 11,
    "start_time": "2024-03-08T21:43:07.320Z"
   },
   {
    "duration": 6,
    "start_time": "2024-03-08T21:43:07.332Z"
   },
   {
    "duration": 95,
    "start_time": "2024-03-08T21:43:07.341Z"
   },
   {
    "duration": 11,
    "start_time": "2024-03-08T21:43:07.438Z"
   },
   {
    "duration": 75,
    "start_time": "2024-03-08T21:43:07.451Z"
   },
   {
    "duration": 4,
    "start_time": "2024-03-08T21:43:07.528Z"
   },
   {
    "duration": 65,
    "start_time": "2024-03-08T21:43:07.533Z"
   },
   {
    "duration": 124,
    "start_time": "2024-03-08T21:43:07.600Z"
   },
   {
    "duration": 6,
    "start_time": "2024-03-08T21:43:07.726Z"
   },
   {
    "duration": 11,
    "start_time": "2024-03-08T21:43:07.733Z"
   },
   {
    "duration": 20,
    "start_time": "2024-03-08T21:43:07.746Z"
   },
   {
    "duration": 1170,
    "start_time": "2024-03-08T21:44:32.780Z"
   },
   {
    "duration": 801,
    "start_time": "2024-03-08T21:45:33.218Z"
   },
   {
    "duration": 844,
    "start_time": "2024-03-08T21:45:53.171Z"
   },
   {
    "duration": 8,
    "start_time": "2024-03-08T21:47:05.420Z"
   },
   {
    "duration": 1136,
    "start_time": "2024-03-08T21:49:07.136Z"
   },
   {
    "duration": 10,
    "start_time": "2024-03-08T21:50:51.632Z"
   },
   {
    "duration": 8,
    "start_time": "2024-03-08T21:51:33.979Z"
   },
   {
    "duration": 12,
    "start_time": "2024-03-08T21:52:01.020Z"
   },
   {
    "duration": 10,
    "start_time": "2024-03-08T21:53:06.915Z"
   },
   {
    "duration": 5,
    "start_time": "2024-03-08T21:53:52.287Z"
   },
   {
    "duration": 9,
    "start_time": "2024-03-08T21:54:17.595Z"
   },
   {
    "duration": 9,
    "start_time": "2024-03-08T21:54:36.543Z"
   },
   {
    "duration": 10,
    "start_time": "2024-03-08T21:57:20.213Z"
   },
   {
    "duration": 9,
    "start_time": "2024-03-08T21:58:09.565Z"
   },
   {
    "duration": 1151,
    "start_time": "2024-03-08T22:23:03.230Z"
   },
   {
    "duration": 195,
    "start_time": "2024-03-08T22:23:04.383Z"
   },
   {
    "duration": 11,
    "start_time": "2024-03-08T22:23:04.580Z"
   },
   {
    "duration": 21,
    "start_time": "2024-03-08T22:23:04.593Z"
   },
   {
    "duration": 3,
    "start_time": "2024-03-08T22:23:04.616Z"
   },
   {
    "duration": 28,
    "start_time": "2024-03-08T22:23:04.620Z"
   },
   {
    "duration": 17,
    "start_time": "2024-03-08T22:23:04.650Z"
   },
   {
    "duration": 66,
    "start_time": "2024-03-08T22:23:04.668Z"
   },
   {
    "duration": 96,
    "start_time": "2024-03-08T22:23:04.736Z"
   },
   {
    "duration": 8,
    "start_time": "2024-03-08T22:23:04.836Z"
   },
   {
    "duration": 87,
    "start_time": "2024-03-08T22:23:04.846Z"
   },
   {
    "duration": 4,
    "start_time": "2024-03-08T22:23:04.934Z"
   },
   {
    "duration": 9,
    "start_time": "2024-03-08T22:23:04.939Z"
   },
   {
    "duration": 34,
    "start_time": "2024-03-08T22:23:04.950Z"
   },
   {
    "duration": 27,
    "start_time": "2024-03-08T22:23:04.986Z"
   },
   {
    "duration": 201,
    "start_time": "2024-03-08T22:23:05.014Z"
   },
   {
    "duration": 10,
    "start_time": "2024-03-08T22:23:05.217Z"
   },
   {
    "duration": 16,
    "start_time": "2024-03-08T22:23:05.228Z"
   },
   {
    "duration": 59,
    "start_time": "2024-03-08T22:23:05.246Z"
   },
   {
    "duration": 169,
    "start_time": "2024-03-08T22:23:05.307Z"
   },
   {
    "duration": 203,
    "start_time": "2024-03-08T22:23:05.478Z"
   },
   {
    "duration": 218,
    "start_time": "2024-03-08T22:23:05.683Z"
   },
   {
    "duration": 41,
    "start_time": "2024-03-08T22:23:05.903Z"
   },
   {
    "duration": 542,
    "start_time": "2024-03-08T22:23:05.946Z"
   },
   {
    "duration": 467,
    "start_time": "2024-03-08T22:23:06.490Z"
   },
   {
    "duration": 12,
    "start_time": "2024-03-08T22:23:06.965Z"
   },
   {
    "duration": 16,
    "start_time": "2024-03-08T22:23:06.979Z"
   },
   {
    "duration": 88,
    "start_time": "2024-03-08T22:23:06.998Z"
   },
   {
    "duration": 12,
    "start_time": "2024-03-08T22:23:07.088Z"
   },
   {
    "duration": 83,
    "start_time": "2024-03-08T22:23:07.102Z"
   },
   {
    "duration": 5,
    "start_time": "2024-03-08T22:23:07.187Z"
   },
   {
    "duration": 51,
    "start_time": "2024-03-08T22:23:07.193Z"
   },
   {
    "duration": 145,
    "start_time": "2024-03-08T22:23:07.246Z"
   },
   {
    "duration": 6,
    "start_time": "2024-03-08T22:23:07.392Z"
   },
   {
    "duration": 29,
    "start_time": "2024-03-08T22:23:07.399Z"
   },
   {
    "duration": 18,
    "start_time": "2024-03-08T22:23:07.430Z"
   },
   {
    "duration": 15,
    "start_time": "2024-03-08T22:23:07.450Z"
   },
   {
    "duration": 16,
    "start_time": "2024-03-08T22:23:07.467Z"
   },
   {
    "duration": 11,
    "start_time": "2024-03-08T22:23:07.485Z"
   },
   {
    "duration": 28,
    "start_time": "2024-03-08T22:23:07.498Z"
   },
   {
    "duration": 30,
    "start_time": "2024-03-08T22:23:07.527Z"
   },
   {
    "duration": 101,
    "start_time": "2024-03-08T22:23:19.272Z"
   },
   {
    "duration": 9,
    "start_time": "2024-03-08T22:23:32.852Z"
   },
   {
    "duration": 1136,
    "start_time": "2024-03-08T22:25:56.774Z"
   },
   {
    "duration": 55,
    "start_time": "2024-03-08T22:26:32.552Z"
   },
   {
    "duration": 9,
    "start_time": "2024-03-08T22:27:15.173Z"
   },
   {
    "duration": 10,
    "start_time": "2024-03-08T22:27:46.162Z"
   },
   {
    "duration": 175,
    "start_time": "2024-03-08T22:31:42.014Z"
   },
   {
    "duration": 7,
    "start_time": "2024-03-08T22:31:42.738Z"
   },
   {
    "duration": 21,
    "start_time": "2024-03-08T22:31:43.704Z"
   },
   {
    "duration": 3,
    "start_time": "2024-03-08T22:32:11.894Z"
   },
   {
    "duration": 7,
    "start_time": "2024-03-08T22:32:27.464Z"
   },
   {
    "duration": 53,
    "start_time": "2024-03-08T22:32:54.833Z"
   },
   {
    "duration": 1160,
    "start_time": "2024-03-08T22:33:41.781Z"
   },
   {
    "duration": 100,
    "start_time": "2024-03-08T22:34:18.157Z"
   },
   {
    "duration": 170,
    "start_time": "2024-03-08T22:34:19.231Z"
   },
   {
    "duration": 7,
    "start_time": "2024-03-08T22:34:19.812Z"
   },
   {
    "duration": 20,
    "start_time": "2024-03-08T22:34:21.780Z"
   },
   {
    "duration": 3,
    "start_time": "2024-03-08T22:34:26.121Z"
   },
   {
    "duration": 15,
    "start_time": "2024-03-08T22:34:27.849Z"
   },
   {
    "duration": 5,
    "start_time": "2024-03-08T22:34:28.417Z"
   },
   {
    "duration": 60,
    "start_time": "2024-03-08T22:34:30.737Z"
   },
   {
    "duration": 64,
    "start_time": "2024-03-08T22:34:32.053Z"
   },
   {
    "duration": 6,
    "start_time": "2024-03-08T22:34:36.263Z"
   },
   {
    "duration": 71,
    "start_time": "2024-03-08T22:34:36.716Z"
   },
   {
    "duration": 51,
    "start_time": "2024-03-08T22:34:38.086Z"
   },
   {
    "duration": 74,
    "start_time": "2024-03-08T22:34:40.686Z"
   },
   {
    "duration": 24,
    "start_time": "2024-03-08T22:35:07.994Z"
   },
   {
    "duration": 26,
    "start_time": "2024-03-08T22:35:26.771Z"
   },
   {
    "duration": 9,
    "start_time": "2024-03-08T22:35:27.619Z"
   },
   {
    "duration": 68,
    "start_time": "2024-03-08T22:35:27.823Z"
   },
   {
    "duration": 49,
    "start_time": "2024-03-08T22:35:28.019Z"
   },
   {
    "duration": 63,
    "start_time": "2024-03-08T22:35:29.024Z"
   },
   {
    "duration": 24,
    "start_time": "2024-03-08T22:35:32.229Z"
   },
   {
    "duration": 28,
    "start_time": "2024-03-08T22:35:45.522Z"
   },
   {
    "duration": 67,
    "start_time": "2024-03-08T22:35:51.941Z"
   },
   {
    "duration": 1306,
    "start_time": "2024-03-08T22:36:05.530Z"
   },
   {
    "duration": 177,
    "start_time": "2024-03-08T22:36:06.838Z"
   },
   {
    "duration": 11,
    "start_time": "2024-03-08T22:36:07.016Z"
   },
   {
    "duration": 37,
    "start_time": "2024-03-08T22:36:07.029Z"
   },
   {
    "duration": 3,
    "start_time": "2024-03-08T22:36:07.068Z"
   },
   {
    "duration": 21,
    "start_time": "2024-03-08T22:36:07.072Z"
   },
   {
    "duration": 13,
    "start_time": "2024-03-08T22:36:07.095Z"
   },
   {
    "duration": 80,
    "start_time": "2024-03-08T22:36:07.109Z"
   },
   {
    "duration": 54,
    "start_time": "2024-03-08T22:36:07.190Z"
   },
   {
    "duration": 68,
    "start_time": "2024-03-08T22:36:07.246Z"
   },
   {
    "duration": 24,
    "start_time": "2024-03-08T22:36:07.315Z"
   },
   {
    "duration": 1336,
    "start_time": "2024-03-08T22:36:07.340Z"
   },
   {
    "duration": 0,
    "start_time": "2024-03-08T22:36:08.678Z"
   },
   {
    "duration": 0,
    "start_time": "2024-03-08T22:36:08.679Z"
   },
   {
    "duration": 0,
    "start_time": "2024-03-08T22:36:08.680Z"
   },
   {
    "duration": 1,
    "start_time": "2024-03-08T22:36:08.681Z"
   },
   {
    "duration": 0,
    "start_time": "2024-03-08T22:36:08.682Z"
   },
   {
    "duration": 0,
    "start_time": "2024-03-08T22:36:08.683Z"
   },
   {
    "duration": 0,
    "start_time": "2024-03-08T22:36:08.684Z"
   },
   {
    "duration": 0,
    "start_time": "2024-03-08T22:36:08.686Z"
   },
   {
    "duration": 0,
    "start_time": "2024-03-08T22:36:08.687Z"
   },
   {
    "duration": 0,
    "start_time": "2024-03-08T22:36:08.688Z"
   },
   {
    "duration": 0,
    "start_time": "2024-03-08T22:36:08.689Z"
   },
   {
    "duration": 0,
    "start_time": "2024-03-08T22:36:08.690Z"
   },
   {
    "duration": 0,
    "start_time": "2024-03-08T22:36:08.691Z"
   },
   {
    "duration": 0,
    "start_time": "2024-03-08T22:36:08.693Z"
   },
   {
    "duration": 0,
    "start_time": "2024-03-08T22:36:08.693Z"
   },
   {
    "duration": 0,
    "start_time": "2024-03-08T22:36:08.695Z"
   },
   {
    "duration": 0,
    "start_time": "2024-03-08T22:36:08.695Z"
   },
   {
    "duration": 0,
    "start_time": "2024-03-08T22:36:08.697Z"
   },
   {
    "duration": 0,
    "start_time": "2024-03-08T22:36:08.697Z"
   },
   {
    "duration": 0,
    "start_time": "2024-03-08T22:36:08.699Z"
   },
   {
    "duration": 0,
    "start_time": "2024-03-08T22:36:08.699Z"
   },
   {
    "duration": 0,
    "start_time": "2024-03-08T22:36:08.700Z"
   },
   {
    "duration": 1191,
    "start_time": "2024-03-08T22:36:54.986Z"
   },
   {
    "duration": 174,
    "start_time": "2024-03-08T22:36:56.179Z"
   },
   {
    "duration": 15,
    "start_time": "2024-03-08T22:36:56.355Z"
   },
   {
    "duration": 22,
    "start_time": "2024-03-08T22:36:56.372Z"
   },
   {
    "duration": 3,
    "start_time": "2024-03-08T22:36:56.397Z"
   },
   {
    "duration": 37,
    "start_time": "2024-03-08T22:36:56.401Z"
   },
   {
    "duration": 71,
    "start_time": "2024-03-08T22:36:56.440Z"
   },
   {
    "duration": 87,
    "start_time": "2024-03-08T22:36:56.513Z"
   },
   {
    "duration": 8,
    "start_time": "2024-03-08T22:36:56.602Z"
   },
   {
    "duration": 86,
    "start_time": "2024-03-08T22:36:56.612Z"
   },
   {
    "duration": 53,
    "start_time": "2024-03-08T22:36:56.700Z"
   },
   {
    "duration": 57,
    "start_time": "2024-03-08T22:36:56.765Z"
   },
   {
    "duration": 42,
    "start_time": "2024-03-08T22:36:56.824Z"
   },
   {
    "duration": 1240,
    "start_time": "2024-03-08T22:36:56.869Z"
   },
   {
    "duration": 0,
    "start_time": "2024-03-08T22:36:58.111Z"
   },
   {
    "duration": 0,
    "start_time": "2024-03-08T22:36:58.112Z"
   },
   {
    "duration": 0,
    "start_time": "2024-03-08T22:36:58.113Z"
   },
   {
    "duration": 0,
    "start_time": "2024-03-08T22:36:58.114Z"
   },
   {
    "duration": 0,
    "start_time": "2024-03-08T22:36:58.115Z"
   },
   {
    "duration": 0,
    "start_time": "2024-03-08T22:36:58.116Z"
   },
   {
    "duration": 0,
    "start_time": "2024-03-08T22:36:58.117Z"
   },
   {
    "duration": 0,
    "start_time": "2024-03-08T22:36:58.118Z"
   },
   {
    "duration": 0,
    "start_time": "2024-03-08T22:36:58.119Z"
   },
   {
    "duration": 0,
    "start_time": "2024-03-08T22:36:58.120Z"
   },
   {
    "duration": 1,
    "start_time": "2024-03-08T22:36:58.120Z"
   },
   {
    "duration": 0,
    "start_time": "2024-03-08T22:36:58.122Z"
   },
   {
    "duration": 0,
    "start_time": "2024-03-08T22:36:58.123Z"
   },
   {
    "duration": 0,
    "start_time": "2024-03-08T22:36:58.124Z"
   },
   {
    "duration": 0,
    "start_time": "2024-03-08T22:36:58.125Z"
   },
   {
    "duration": 0,
    "start_time": "2024-03-08T22:36:58.126Z"
   },
   {
    "duration": 0,
    "start_time": "2024-03-08T22:36:58.127Z"
   },
   {
    "duration": 0,
    "start_time": "2024-03-08T22:36:58.128Z"
   },
   {
    "duration": 0,
    "start_time": "2024-03-08T22:36:58.129Z"
   },
   {
    "duration": 0,
    "start_time": "2024-03-08T22:36:58.130Z"
   },
   {
    "duration": 0,
    "start_time": "2024-03-08T22:36:58.131Z"
   },
   {
    "duration": 0,
    "start_time": "2024-03-08T22:36:58.132Z"
   },
   {
    "duration": 21,
    "start_time": "2024-03-08T22:37:32.232Z"
   },
   {
    "duration": 96,
    "start_time": "2024-03-08T22:37:58.769Z"
   },
   {
    "duration": 24,
    "start_time": "2024-03-08T22:38:19.564Z"
   },
   {
    "duration": 55,
    "start_time": "2024-03-08T22:38:36.542Z"
   },
   {
    "duration": 7,
    "start_time": "2024-03-08T22:38:47.289Z"
   },
   {
    "duration": 4,
    "start_time": "2024-03-08T22:38:59.002Z"
   },
   {
    "duration": 12,
    "start_time": "2024-03-08T22:39:32.137Z"
   },
   {
    "duration": 10,
    "start_time": "2024-03-08T22:39:36.403Z"
   },
   {
    "duration": 11,
    "start_time": "2024-03-08T22:39:40.802Z"
   },
   {
    "duration": 25,
    "start_time": "2024-03-08T22:39:54.660Z"
   },
   {
    "duration": 263,
    "start_time": "2024-03-08T22:39:57.093Z"
   },
   {
    "duration": 5,
    "start_time": "2024-03-08T22:40:07.902Z"
   },
   {
    "duration": 8,
    "start_time": "2024-03-08T22:40:17.637Z"
   },
   {
    "duration": 1016,
    "start_time": "2024-03-08T22:40:46.008Z"
   },
   {
    "duration": 58,
    "start_time": "2024-03-08T22:41:28.054Z"
   },
   {
    "duration": 19,
    "start_time": "2024-03-08T22:41:49.696Z"
   },
   {
    "duration": 23,
    "start_time": "2024-03-08T22:42:29.882Z"
   },
   {
    "duration": 41,
    "start_time": "2024-03-08T22:42:40.407Z"
   },
   {
    "duration": 25,
    "start_time": "2024-03-08T22:42:51.505Z"
   },
   {
    "duration": 188,
    "start_time": "2024-03-08T22:43:06.368Z"
   },
   {
    "duration": 83,
    "start_time": "2024-03-08T22:43:20.611Z"
   },
   {
    "duration": 156,
    "start_time": "2024-03-08T22:43:44.245Z"
   },
   {
    "duration": 17,
    "start_time": "2024-03-08T22:44:10.215Z"
   },
   {
    "duration": 145,
    "start_time": "2024-03-08T22:44:33.208Z"
   },
   {
    "duration": 4,
    "start_time": "2024-03-08T22:44:58.359Z"
   },
   {
    "duration": 458,
    "start_time": "2024-03-08T22:45:11.648Z"
   },
   {
    "duration": 517,
    "start_time": "2024-03-08T22:46:24.024Z"
   },
   {
    "duration": 10,
    "start_time": "2024-03-08T22:46:54.023Z"
   },
   {
    "duration": 8,
    "start_time": "2024-03-08T22:47:05.270Z"
   },
   {
    "duration": 1118,
    "start_time": "2024-03-08T22:48:36.464Z"
   },
   {
    "duration": 18,
    "start_time": "2024-03-08T22:49:15.808Z"
   },
   {
    "duration": 8,
    "start_time": "2024-03-08T22:49:29.881Z"
   },
   {
    "duration": 89,
    "start_time": "2024-03-08T22:50:20.898Z"
   },
   {
    "duration": 85,
    "start_time": "2024-03-08T22:50:33.648Z"
   },
   {
    "duration": 72,
    "start_time": "2024-03-08T22:50:36.685Z"
   },
   {
    "duration": 108,
    "start_time": "2024-03-08T22:50:49.500Z"
   },
   {
    "duration": 7,
    "start_time": "2024-03-08T22:50:56.983Z"
   },
   {
    "duration": 8,
    "start_time": "2024-03-08T22:51:08.754Z"
   },
   {
    "duration": 29,
    "start_time": "2024-03-08T22:51:32.579Z"
   },
   {
    "duration": 4,
    "start_time": "2024-03-08T22:51:45.264Z"
   },
   {
    "duration": 58,
    "start_time": "2024-03-08T22:51:58.785Z"
   },
   {
    "duration": 54,
    "start_time": "2024-03-08T22:52:12.293Z"
   },
   {
    "duration": 125,
    "start_time": "2024-03-08T22:52:30.912Z"
   },
   {
    "duration": 25,
    "start_time": "2024-03-08T22:52:44.381Z"
   },
   {
    "duration": 11,
    "start_time": "2024-03-08T22:52:56.136Z"
   },
   {
    "duration": 9,
    "start_time": "2024-03-08T22:53:07.514Z"
   },
   {
    "duration": 8,
    "start_time": "2024-03-08T22:53:20.460Z"
   },
   {
    "duration": 8,
    "start_time": "2024-03-08T22:53:27.034Z"
   },
   {
    "duration": 3,
    "start_time": "2024-03-08T22:54:16.511Z"
   },
   {
    "duration": 26,
    "start_time": "2024-03-08T22:54:33.787Z"
   },
   {
    "duration": 62,
    "start_time": "2024-03-08T22:55:53.224Z"
   },
   {
    "duration": 26,
    "start_time": "2024-03-08T22:56:35.888Z"
   },
   {
    "duration": 52,
    "start_time": "2024-03-08T22:57:17.212Z"
   },
   {
    "duration": 49,
    "start_time": "2024-03-08T22:57:46.178Z"
   },
   {
    "duration": 3,
    "start_time": "2024-03-08T22:58:30.868Z"
   },
   {
    "duration": 176,
    "start_time": "2024-03-08T22:58:31.364Z"
   },
   {
    "duration": 8,
    "start_time": "2024-03-08T22:58:31.555Z"
   },
   {
    "duration": 19,
    "start_time": "2024-03-08T22:58:31.796Z"
   },
   {
    "duration": 3,
    "start_time": "2024-03-08T22:58:32.777Z"
   },
   {
    "duration": 16,
    "start_time": "2024-03-08T22:58:33.276Z"
   },
   {
    "duration": 56,
    "start_time": "2024-03-08T22:58:33.508Z"
   },
   {
    "duration": 60,
    "start_time": "2024-03-08T22:58:33.752Z"
   },
   {
    "duration": 8,
    "start_time": "2024-03-08T22:58:34.375Z"
   },
   {
    "duration": 69,
    "start_time": "2024-03-08T22:58:34.611Z"
   },
   {
    "duration": 72,
    "start_time": "2024-03-08T22:58:34.851Z"
   },
   {
    "duration": 58,
    "start_time": "2024-03-08T22:58:35.107Z"
   },
   {
    "duration": 22,
    "start_time": "2024-03-08T22:58:35.366Z"
   },
   {
    "duration": 22,
    "start_time": "2024-03-08T22:58:36.506Z"
   },
   {
    "duration": 91,
    "start_time": "2024-03-08T22:58:39.464Z"
   },
   {
    "duration": 73,
    "start_time": "2024-03-08T22:58:46.890Z"
   },
   {
    "duration": 78,
    "start_time": "2024-03-08T23:03:22.501Z"
   },
   {
    "duration": 87,
    "start_time": "2024-03-08T23:04:47.771Z"
   },
   {
    "duration": 61,
    "start_time": "2024-03-08T23:05:00.283Z"
   },
   {
    "duration": 25,
    "start_time": "2024-03-08T23:05:16.195Z"
   },
   {
    "duration": 77,
    "start_time": "2024-03-08T23:06:09.913Z"
   },
   {
    "duration": 6,
    "start_time": "2024-03-08T23:06:43.068Z"
   },
   {
    "duration": 41,
    "start_time": "2024-03-08T23:07:09.682Z"
   },
   {
    "duration": 17,
    "start_time": "2024-03-08T23:07:17.252Z"
   },
   {
    "duration": 47,
    "start_time": "2024-03-08T23:07:18.479Z"
   },
   {
    "duration": 1249,
    "start_time": "2024-03-08T23:07:30.828Z"
   },
   {
    "duration": 170,
    "start_time": "2024-03-08T23:07:32.079Z"
   },
   {
    "duration": 10,
    "start_time": "2024-03-08T23:07:32.251Z"
   },
   {
    "duration": 21,
    "start_time": "2024-03-08T23:07:32.265Z"
   },
   {
    "duration": 3,
    "start_time": "2024-03-08T23:07:32.287Z"
   },
   {
    "duration": 25,
    "start_time": "2024-03-08T23:07:32.291Z"
   },
   {
    "duration": 70,
    "start_time": "2024-03-08T23:07:32.318Z"
   },
   {
    "duration": 77,
    "start_time": "2024-03-08T23:07:32.389Z"
   },
   {
    "duration": 8,
    "start_time": "2024-03-08T23:07:32.467Z"
   },
   {
    "duration": 71,
    "start_time": "2024-03-08T23:07:32.477Z"
   },
   {
    "duration": 61,
    "start_time": "2024-03-08T23:07:32.550Z"
   },
   {
    "duration": 72,
    "start_time": "2024-03-08T23:07:32.613Z"
   },
   {
    "duration": 23,
    "start_time": "2024-03-08T23:07:32.686Z"
   },
   {
    "duration": 28,
    "start_time": "2024-03-08T23:07:32.711Z"
   },
   {
    "duration": 104,
    "start_time": "2024-03-08T23:07:32.740Z"
   },
   {
    "duration": 28,
    "start_time": "2024-03-08T23:07:32.845Z"
   },
   {
    "duration": 75,
    "start_time": "2024-03-08T23:07:32.874Z"
   },
   {
    "duration": 7,
    "start_time": "2024-03-08T23:07:32.950Z"
   },
   {
    "duration": 7,
    "start_time": "2024-03-08T23:07:32.958Z"
   },
   {
    "duration": 25,
    "start_time": "2024-03-08T23:07:32.966Z"
   },
   {
    "duration": 256,
    "start_time": "2024-03-08T23:07:32.993Z"
   },
   {
    "duration": 15,
    "start_time": "2024-03-08T23:07:33.250Z"
   },
   {
    "duration": 6,
    "start_time": "2024-03-08T23:07:33.267Z"
   },
   {
    "duration": 110,
    "start_time": "2024-03-08T23:07:33.274Z"
   },
   {
    "duration": 0,
    "start_time": "2024-03-08T23:07:33.386Z"
   },
   {
    "duration": 0,
    "start_time": "2024-03-08T23:07:33.387Z"
   },
   {
    "duration": 0,
    "start_time": "2024-03-08T23:07:33.388Z"
   },
   {
    "duration": 0,
    "start_time": "2024-03-08T23:07:33.389Z"
   },
   {
    "duration": 0,
    "start_time": "2024-03-08T23:07:33.390Z"
   },
   {
    "duration": 0,
    "start_time": "2024-03-08T23:07:33.391Z"
   },
   {
    "duration": 0,
    "start_time": "2024-03-08T23:07:33.391Z"
   },
   {
    "duration": 0,
    "start_time": "2024-03-08T23:07:33.393Z"
   },
   {
    "duration": 0,
    "start_time": "2024-03-08T23:07:33.393Z"
   },
   {
    "duration": 0,
    "start_time": "2024-03-08T23:07:33.394Z"
   },
   {
    "duration": 0,
    "start_time": "2024-03-08T23:07:33.395Z"
   },
   {
    "duration": 0,
    "start_time": "2024-03-08T23:07:33.396Z"
   },
   {
    "duration": 0,
    "start_time": "2024-03-08T23:07:33.397Z"
   },
   {
    "duration": 0,
    "start_time": "2024-03-08T23:07:33.398Z"
   },
   {
    "duration": 0,
    "start_time": "2024-03-08T23:07:33.398Z"
   },
   {
    "duration": 0,
    "start_time": "2024-03-08T23:07:33.399Z"
   },
   {
    "duration": 0,
    "start_time": "2024-03-08T23:07:33.400Z"
   },
   {
    "duration": 0,
    "start_time": "2024-03-08T23:07:33.401Z"
   },
   {
    "duration": 0,
    "start_time": "2024-03-08T23:07:33.402Z"
   },
   {
    "duration": 0,
    "start_time": "2024-03-08T23:07:33.403Z"
   },
   {
    "duration": 0,
    "start_time": "2024-03-08T23:07:33.404Z"
   },
   {
    "duration": 0,
    "start_time": "2024-03-08T23:07:33.405Z"
   },
   {
    "duration": 0,
    "start_time": "2024-03-08T23:07:33.406Z"
   },
   {
    "duration": 0,
    "start_time": "2024-03-08T23:07:33.406Z"
   },
   {
    "duration": 0,
    "start_time": "2024-03-08T23:07:33.407Z"
   },
   {
    "duration": 0,
    "start_time": "2024-03-08T23:07:33.408Z"
   },
   {
    "duration": 0,
    "start_time": "2024-03-08T23:07:33.409Z"
   },
   {
    "duration": 0,
    "start_time": "2024-03-08T23:07:33.410Z"
   },
   {
    "duration": 0,
    "start_time": "2024-03-08T23:07:33.411Z"
   },
   {
    "duration": 0,
    "start_time": "2024-03-08T23:07:33.412Z"
   },
   {
    "duration": 3,
    "start_time": "2024-03-08T23:08:04.990Z"
   },
   {
    "duration": 23,
    "start_time": "2024-03-08T23:08:16.946Z"
   },
   {
    "duration": 253,
    "start_time": "2024-03-08T23:09:04.614Z"
   },
   {
    "duration": 236,
    "start_time": "2024-03-08T23:09:22.012Z"
   },
   {
    "duration": 328,
    "start_time": "2024-03-08T23:09:28.323Z"
   },
   {
    "duration": 4,
    "start_time": "2024-03-08T23:09:44.288Z"
   },
   {
    "duration": 8,
    "start_time": "2024-03-08T23:10:03.018Z"
   },
   {
    "duration": 16,
    "start_time": "2024-03-08T23:10:09.583Z"
   },
   {
    "duration": 372,
    "start_time": "2024-03-08T23:10:35.299Z"
   },
   {
    "duration": 1353,
    "start_time": "2024-03-08T23:12:36.695Z"
   },
   {
    "duration": 61,
    "start_time": "2024-03-08T23:12:58.850Z"
   },
   {
    "duration": 18,
    "start_time": "2024-03-08T23:13:16.274Z"
   },
   {
    "duration": 37,
    "start_time": "2024-03-08T23:13:33.368Z"
   },
   {
    "duration": 42,
    "start_time": "2024-03-08T23:13:47.089Z"
   },
   {
    "duration": 26,
    "start_time": "2024-03-08T23:14:01.054Z"
   },
   {
    "duration": 163,
    "start_time": "2024-03-08T23:14:20.051Z"
   },
   {
    "duration": 66,
    "start_time": "2024-03-08T23:14:43.441Z"
   },
   {
    "duration": 325,
    "start_time": "2024-03-08T23:15:10.407Z"
   },
   {
    "duration": 345,
    "start_time": "2024-03-08T23:15:27.705Z"
   },
   {
    "duration": 157,
    "start_time": "2024-03-08T23:15:50.763Z"
   },
   {
    "duration": 4,
    "start_time": "2024-03-08T23:16:07.024Z"
   },
   {
    "duration": 570,
    "start_time": "2024-03-08T23:16:34.118Z"
   },
   {
    "duration": 550,
    "start_time": "2024-03-08T23:16:51.506Z"
   },
   {
    "duration": 648,
    "start_time": "2024-03-08T23:17:11.051Z"
   },
   {
    "duration": 646,
    "start_time": "2024-03-08T23:17:32.026Z"
   },
   {
    "duration": 627,
    "start_time": "2024-03-08T23:17:41.323Z"
   },
   {
    "duration": 534,
    "start_time": "2024-03-08T23:18:00.919Z"
   },
   {
    "duration": 10,
    "start_time": "2024-03-08T23:18:40.137Z"
   },
   {
    "duration": 16,
    "start_time": "2024-03-08T23:19:05.152Z"
   },
   {
    "duration": 104,
    "start_time": "2024-03-08T23:19:33.402Z"
   },
   {
    "duration": 9,
    "start_time": "2024-03-08T23:19:48.784Z"
   },
   {
    "duration": 27,
    "start_time": "2024-03-08T23:20:04.938Z"
   },
   {
    "duration": 23,
    "start_time": "2024-03-08T23:20:28.027Z"
   },
   {
    "duration": 24,
    "start_time": "2024-03-08T23:20:37.903Z"
   },
   {
    "duration": 58,
    "start_time": "2024-03-08T23:20:53.419Z"
   },
   {
    "duration": 42,
    "start_time": "2024-03-08T23:21:05.937Z"
   },
   {
    "duration": 123,
    "start_time": "2024-03-08T23:21:24.815Z"
   },
   {
    "duration": 24,
    "start_time": "2024-03-08T23:21:38.282Z"
   },
   {
    "duration": 11,
    "start_time": "2024-03-08T23:21:58.354Z"
   },
   {
    "duration": 8,
    "start_time": "2024-03-08T23:22:08.172Z"
   },
   {
    "duration": 9,
    "start_time": "2024-03-08T23:22:09.190Z"
   },
   {
    "duration": 9,
    "start_time": "2024-03-08T23:22:09.396Z"
   },
   {
    "duration": 9,
    "start_time": "2024-03-08T23:23:02.444Z"
   },
   {
    "duration": 8,
    "start_time": "2024-03-08T23:23:17.967Z"
   },
   {
    "duration": 8,
    "start_time": "2024-03-08T23:23:35.643Z"
   },
   {
    "duration": 70,
    "start_time": "2024-03-08T23:28:41.379Z"
   },
   {
    "duration": 8,
    "start_time": "2024-03-08T23:37:45.568Z"
   },
   {
    "duration": 9,
    "start_time": "2024-03-08T23:40:09.458Z"
   },
   {
    "duration": 1156,
    "start_time": "2024-03-08T23:44:47.675Z"
   },
   {
    "duration": 178,
    "start_time": "2024-03-08T23:44:48.833Z"
   },
   {
    "duration": 10,
    "start_time": "2024-03-08T23:44:49.012Z"
   },
   {
    "duration": 24,
    "start_time": "2024-03-08T23:44:49.024Z"
   },
   {
    "duration": 2,
    "start_time": "2024-03-08T23:44:49.050Z"
   },
   {
    "duration": 26,
    "start_time": "2024-03-08T23:44:49.065Z"
   },
   {
    "duration": 73,
    "start_time": "2024-03-08T23:44:49.093Z"
   },
   {
    "duration": 67,
    "start_time": "2024-03-08T23:44:49.167Z"
   },
   {
    "duration": 9,
    "start_time": "2024-03-08T23:44:49.235Z"
   },
   {
    "duration": 82,
    "start_time": "2024-03-08T23:44:49.246Z"
   },
   {
    "duration": 57,
    "start_time": "2024-03-08T23:44:49.330Z"
   },
   {
    "duration": 54,
    "start_time": "2024-03-08T23:44:49.389Z"
   },
   {
    "duration": 34,
    "start_time": "2024-03-08T23:44:49.444Z"
   },
   {
    "duration": 22,
    "start_time": "2024-03-08T23:44:49.480Z"
   },
   {
    "duration": 107,
    "start_time": "2024-03-08T23:44:49.504Z"
   },
   {
    "duration": 24,
    "start_time": "2024-03-08T23:44:49.613Z"
   },
   {
    "duration": 78,
    "start_time": "2024-03-08T23:44:49.639Z"
   },
   {
    "duration": 6,
    "start_time": "2024-03-08T23:44:49.719Z"
   },
   {
    "duration": 3,
    "start_time": "2024-03-08T23:44:49.727Z"
   },
   {
    "duration": 34,
    "start_time": "2024-03-08T23:44:49.732Z"
   },
   {
    "duration": 259,
    "start_time": "2024-03-08T23:44:49.768Z"
   },
   {
    "duration": 4,
    "start_time": "2024-03-08T23:44:50.028Z"
   },
   {
    "duration": 12,
    "start_time": "2024-03-08T23:44:50.034Z"
   },
   {
    "duration": 1483,
    "start_time": "2024-03-08T23:44:50.048Z"
   },
   {
    "duration": 65,
    "start_time": "2024-03-08T23:44:51.533Z"
   },
   {
    "duration": 17,
    "start_time": "2024-03-08T23:44:51.600Z"
   },
   {
    "duration": 36,
    "start_time": "2024-03-08T23:44:51.619Z"
   },
   {
    "duration": 40,
    "start_time": "2024-03-08T23:44:51.665Z"
   },
   {
    "duration": 24,
    "start_time": "2024-03-08T23:44:51.707Z"
   },
   {
    "duration": 236,
    "start_time": "2024-03-08T23:44:51.733Z"
   },
   {
    "duration": 211,
    "start_time": "2024-03-08T23:44:51.971Z"
   },
   {
    "duration": 287,
    "start_time": "2024-03-08T23:44:52.184Z"
   },
   {
    "duration": 150,
    "start_time": "2024-03-08T23:44:52.473Z"
   },
   {
    "duration": 4,
    "start_time": "2024-03-08T23:44:52.625Z"
   },
   {
    "duration": 592,
    "start_time": "2024-03-08T23:44:52.631Z"
   },
   {
    "duration": 507,
    "start_time": "2024-03-08T23:44:53.224Z"
   },
   {
    "duration": 9,
    "start_time": "2024-03-08T23:44:53.733Z"
   },
   {
    "duration": 8,
    "start_time": "2024-03-08T23:44:53.743Z"
   },
   {
    "duration": 16,
    "start_time": "2024-03-08T23:44:53.765Z"
   },
   {
    "duration": 17,
    "start_time": "2024-03-08T23:44:53.782Z"
   },
   {
    "duration": 113,
    "start_time": "2024-03-08T23:44:53.800Z"
   },
   {
    "duration": 5,
    "start_time": "2024-03-08T23:44:53.915Z"
   },
   {
    "duration": 19,
    "start_time": "2024-03-08T23:44:53.922Z"
   },
   {
    "duration": 37,
    "start_time": "2024-03-08T23:44:53.942Z"
   },
   {
    "duration": 4,
    "start_time": "2024-03-08T23:44:53.980Z"
   },
   {
    "duration": 71,
    "start_time": "2024-03-08T23:44:53.985Z"
   },
   {
    "duration": 43,
    "start_time": "2024-03-08T23:44:54.057Z"
   },
   {
    "duration": 132,
    "start_time": "2024-03-08T23:44:54.101Z"
   },
   {
    "duration": 31,
    "start_time": "2024-03-08T23:44:54.235Z"
   },
   {
    "duration": 10,
    "start_time": "2024-03-08T23:44:54.268Z"
   },
   {
    "duration": 43,
    "start_time": "2024-03-08T23:44:54.280Z"
   },
   {
    "duration": 19,
    "start_time": "2024-03-08T23:44:54.325Z"
   },
   {
    "duration": 11,
    "start_time": "2024-03-08T23:44:54.346Z"
   },
   {
    "duration": 1538,
    "start_time": "2024-03-09T04:59:53.323Z"
   },
   {
    "duration": 528,
    "start_time": "2024-03-09T04:59:54.863Z"
   },
   {
    "duration": 12,
    "start_time": "2024-03-09T04:59:55.393Z"
   },
   {
    "duration": 24,
    "start_time": "2024-03-09T04:59:55.406Z"
   },
   {
    "duration": 4,
    "start_time": "2024-03-09T04:59:55.434Z"
   },
   {
    "duration": 43,
    "start_time": "2024-03-09T04:59:55.440Z"
   },
   {
    "duration": 95,
    "start_time": "2024-03-09T04:59:55.485Z"
   },
   {
    "duration": 90,
    "start_time": "2024-03-09T04:59:55.582Z"
   },
   {
    "duration": 8,
    "start_time": "2024-03-09T04:59:55.674Z"
   },
   {
    "duration": 94,
    "start_time": "2024-03-09T04:59:55.684Z"
   },
   {
    "duration": 96,
    "start_time": "2024-03-09T04:59:55.780Z"
   },
   {
    "duration": 81,
    "start_time": "2024-03-09T04:59:55.879Z"
   },
   {
    "duration": 25,
    "start_time": "2024-03-09T04:59:55.962Z"
   },
   {
    "duration": 38,
    "start_time": "2024-03-09T04:59:55.990Z"
   },
   {
    "duration": 108,
    "start_time": "2024-03-09T04:59:56.030Z"
   },
   {
    "duration": 27,
    "start_time": "2024-03-09T04:59:56.140Z"
   },
   {
    "duration": 71,
    "start_time": "2024-03-09T04:59:56.169Z"
   },
   {
    "duration": 7,
    "start_time": "2024-03-09T04:59:56.241Z"
   },
   {
    "duration": 3,
    "start_time": "2024-03-09T04:59:56.250Z"
   },
   {
    "duration": 25,
    "start_time": "2024-03-09T04:59:56.255Z"
   },
   {
    "duration": 308,
    "start_time": "2024-03-09T04:59:56.282Z"
   },
   {
    "duration": 5,
    "start_time": "2024-03-09T04:59:56.592Z"
   },
   {
    "duration": 9,
    "start_time": "2024-03-09T04:59:56.598Z"
   },
   {
    "duration": 1607,
    "start_time": "2024-03-09T04:59:56.609Z"
   },
   {
    "duration": 70,
    "start_time": "2024-03-09T04:59:58.222Z"
   },
   {
    "duration": 32,
    "start_time": "2024-03-09T04:59:58.294Z"
   },
   {
    "duration": 24,
    "start_time": "2024-03-09T04:59:58.328Z"
   },
   {
    "duration": 55,
    "start_time": "2024-03-09T04:59:58.354Z"
   },
   {
    "duration": 28,
    "start_time": "2024-03-09T04:59:58.424Z"
   },
   {
    "duration": 275,
    "start_time": "2024-03-09T04:59:58.454Z"
   },
   {
    "duration": 206,
    "start_time": "2024-03-09T04:59:58.731Z"
   },
   {
    "duration": 369,
    "start_time": "2024-03-09T04:59:58.938Z"
   },
   {
    "duration": 177,
    "start_time": "2024-03-09T04:59:59.309Z"
   },
   {
    "duration": 6,
    "start_time": "2024-03-09T04:59:59.488Z"
   },
   {
    "duration": 643,
    "start_time": "2024-03-09T04:59:59.495Z"
   },
   {
    "duration": 568,
    "start_time": "2024-03-09T05:00:00.139Z"
   },
   {
    "duration": 16,
    "start_time": "2024-03-09T05:00:00.709Z"
   },
   {
    "duration": 62,
    "start_time": "2024-03-09T05:00:00.728Z"
   },
   {
    "duration": 60,
    "start_time": "2024-03-09T05:00:00.791Z"
   },
   {
    "duration": 60,
    "start_time": "2024-03-09T05:00:00.853Z"
   },
   {
    "duration": 128,
    "start_time": "2024-03-09T05:00:00.918Z"
   },
   {
    "duration": 7,
    "start_time": "2024-03-09T05:00:01.048Z"
   },
   {
    "duration": 36,
    "start_time": "2024-03-09T05:00:01.057Z"
   },
   {
    "duration": 46,
    "start_time": "2024-03-09T05:00:01.095Z"
   },
   {
    "duration": 4,
    "start_time": "2024-03-09T05:00:01.143Z"
   },
   {
    "duration": 98,
    "start_time": "2024-03-09T05:00:01.149Z"
   },
   {
    "duration": 54,
    "start_time": "2024-03-09T05:00:01.249Z"
   },
   {
    "duration": 149,
    "start_time": "2024-03-09T05:00:01.305Z"
   },
   {
    "duration": 28,
    "start_time": "2024-03-09T05:00:01.456Z"
   },
   {
    "duration": 53,
    "start_time": "2024-03-09T05:00:01.485Z"
   },
   {
    "duration": 25,
    "start_time": "2024-03-09T05:00:01.540Z"
   },
   {
    "duration": 83,
    "start_time": "2024-03-09T05:00:01.567Z"
   },
   {
    "duration": 87,
    "start_time": "2024-03-09T05:00:01.651Z"
   },
   {
    "duration": 16,
    "start_time": "2024-03-09T05:01:34.203Z"
   },
   {
    "duration": 8,
    "start_time": "2024-03-09T05:04:22.401Z"
   },
   {
    "duration": 26,
    "start_time": "2024-03-09T05:09:15.283Z"
   },
   {
    "duration": 26,
    "start_time": "2024-03-09T05:09:22.563Z"
   },
   {
    "duration": 132,
    "start_time": "2024-03-09T05:19:54.960Z"
   },
   {
    "duration": 1519,
    "start_time": "2024-03-09T05:28:52.759Z"
   },
   {
    "duration": 87,
    "start_time": "2024-03-09T05:50:47.160Z"
   },
   {
    "duration": 11,
    "start_time": "2024-03-09T06:06:00.258Z"
   },
   {
    "duration": 139,
    "start_time": "2024-03-09T06:14:19.653Z"
   },
   {
    "duration": 1570,
    "start_time": "2024-03-09T06:15:13.056Z"
   },
   {
    "duration": 276,
    "start_time": "2024-03-09T06:15:35.430Z"
   },
   {
    "duration": 1450,
    "start_time": "2024-03-09T06:15:44.962Z"
   },
   {
    "duration": 59,
    "start_time": "2024-03-09T06:17:10.604Z"
   },
   {
    "duration": 1524,
    "start_time": "2024-03-09T06:17:36.686Z"
   },
   {
    "duration": 267,
    "start_time": "2024-03-09T06:17:43.767Z"
   },
   {
    "duration": 351,
    "start_time": "2024-03-09T06:18:42.187Z"
   },
   {
    "duration": 128,
    "start_time": "2024-03-09T06:18:48.926Z"
   },
   {
    "duration": 322,
    "start_time": "2024-03-09T06:18:54.404Z"
   },
   {
    "duration": 313,
    "start_time": "2024-03-09T06:19:13.043Z"
   },
   {
    "duration": 320,
    "start_time": "2024-03-09T06:19:33.556Z"
   },
   {
    "duration": 600,
    "start_time": "2024-03-09T06:20:50.458Z"
   },
   {
    "duration": 547,
    "start_time": "2024-03-09T06:21:16.798Z"
   },
   {
    "duration": 108,
    "start_time": "2024-03-09T06:21:35.968Z"
   },
   {
    "duration": 10,
    "start_time": "2024-03-09T06:22:04.570Z"
   },
   {
    "duration": 12,
    "start_time": "2024-03-09T06:22:31.520Z"
   },
   {
    "duration": 11,
    "start_time": "2024-03-09T06:22:50.740Z"
   },
   {
    "duration": 80,
    "start_time": "2024-03-09T06:23:18.227Z"
   },
   {
    "duration": 26,
    "start_time": "2024-03-09T06:23:26.787Z"
   },
   {
    "duration": 55,
    "start_time": "2024-03-09T06:24:30.921Z"
   },
   {
    "duration": 302,
    "start_time": "2024-03-09T06:24:38.801Z"
   },
   {
    "duration": 1338,
    "start_time": "2024-03-09T06:24:44.351Z"
   },
   {
    "duration": 197,
    "start_time": "2024-03-09T06:24:45.691Z"
   },
   {
    "duration": 13,
    "start_time": "2024-03-09T06:24:45.890Z"
   },
   {
    "duration": 39,
    "start_time": "2024-03-09T06:24:45.906Z"
   },
   {
    "duration": 2,
    "start_time": "2024-03-09T06:24:45.948Z"
   },
   {
    "duration": 25,
    "start_time": "2024-03-09T06:24:45.952Z"
   },
   {
    "duration": 101,
    "start_time": "2024-03-09T06:24:45.979Z"
   },
   {
    "duration": 80,
    "start_time": "2024-03-09T06:24:46.082Z"
   },
   {
    "duration": 8,
    "start_time": "2024-03-09T06:24:46.164Z"
   },
   {
    "duration": 83,
    "start_time": "2024-03-09T06:24:46.174Z"
   },
   {
    "duration": 68,
    "start_time": "2024-03-09T06:24:46.259Z"
   },
   {
    "duration": 59,
    "start_time": "2024-03-09T06:24:46.329Z"
   },
   {
    "duration": 40,
    "start_time": "2024-03-09T06:24:46.389Z"
   },
   {
    "duration": 35,
    "start_time": "2024-03-09T06:24:46.432Z"
   },
   {
    "duration": 104,
    "start_time": "2024-03-09T06:24:46.468Z"
   },
   {
    "duration": 27,
    "start_time": "2024-03-09T06:24:46.574Z"
   },
   {
    "duration": 73,
    "start_time": "2024-03-09T06:24:46.602Z"
   },
   {
    "duration": 7,
    "start_time": "2024-03-09T06:24:46.677Z"
   },
   {
    "duration": 3,
    "start_time": "2024-03-09T06:24:46.686Z"
   },
   {
    "duration": 48,
    "start_time": "2024-03-09T06:24:46.690Z"
   },
   {
    "duration": 296,
    "start_time": "2024-03-09T06:24:46.739Z"
   },
   {
    "duration": 5,
    "start_time": "2024-03-09T06:24:47.036Z"
   },
   {
    "duration": 12,
    "start_time": "2024-03-09T06:24:47.042Z"
   },
   {
    "duration": 1575,
    "start_time": "2024-03-09T06:24:47.056Z"
   },
   {
    "duration": 67,
    "start_time": "2024-03-09T06:24:48.633Z"
   },
   {
    "duration": 33,
    "start_time": "2024-03-09T06:24:48.701Z"
   },
   {
    "duration": 62,
    "start_time": "2024-03-09T06:24:48.736Z"
   },
   {
    "duration": 53,
    "start_time": "2024-03-09T06:24:48.800Z"
   },
   {
    "duration": 28,
    "start_time": "2024-03-09T06:24:48.855Z"
   },
   {
    "duration": 265,
    "start_time": "2024-03-09T06:24:48.884Z"
   },
   {
    "duration": 118,
    "start_time": "2024-03-09T06:24:49.151Z"
   },
   {
    "duration": 358,
    "start_time": "2024-03-09T06:24:49.271Z"
   },
   {
    "duration": 173,
    "start_time": "2024-03-09T06:24:49.631Z"
   },
   {
    "duration": 5,
    "start_time": "2024-03-09T06:24:49.805Z"
   },
   {
    "duration": 628,
    "start_time": "2024-03-09T06:24:49.812Z"
   },
   {
    "duration": 568,
    "start_time": "2024-03-09T06:24:50.442Z"
   },
   {
    "duration": 19,
    "start_time": "2024-03-09T06:24:51.011Z"
   },
   {
    "duration": 11,
    "start_time": "2024-03-09T06:24:51.032Z"
   },
   {
    "duration": 33,
    "start_time": "2024-03-09T06:24:51.045Z"
   },
   {
    "duration": 37,
    "start_time": "2024-03-09T06:24:51.080Z"
   },
   {
    "duration": 12,
    "start_time": "2024-03-09T06:24:51.121Z"
   },
   {
    "duration": 127,
    "start_time": "2024-03-09T06:24:51.134Z"
   },
   {
    "duration": 6,
    "start_time": "2024-03-09T06:24:51.263Z"
   },
   {
    "duration": 13,
    "start_time": "2024-03-09T06:24:51.271Z"
   },
   {
    "duration": 46,
    "start_time": "2024-03-09T06:24:51.286Z"
   },
   {
    "duration": 4,
    "start_time": "2024-03-09T06:24:51.334Z"
   },
   {
    "duration": 70,
    "start_time": "2024-03-09T06:24:51.339Z"
   },
   {
    "duration": 65,
    "start_time": "2024-03-09T06:24:51.423Z"
   },
   {
    "duration": 183,
    "start_time": "2024-03-09T06:24:51.490Z"
   },
   {
    "duration": 26,
    "start_time": "2024-03-09T06:24:51.674Z"
   },
   {
    "duration": 25,
    "start_time": "2024-03-09T06:24:51.701Z"
   },
   {
    "duration": 15,
    "start_time": "2024-03-09T06:24:51.727Z"
   },
   {
    "duration": 23,
    "start_time": "2024-03-09T06:24:51.744Z"
   },
   {
    "duration": 31,
    "start_time": "2024-03-09T06:24:51.769Z"
   },
   {
    "duration": 9,
    "start_time": "2024-03-09T06:25:34.190Z"
   },
   {
    "duration": 10,
    "start_time": "2024-03-09T06:25:35.520Z"
   },
   {
    "duration": 69,
    "start_time": "2024-03-09T06:27:12.387Z"
   },
   {
    "duration": 82,
    "start_time": "2024-03-09T06:30:58.619Z"
   },
   {
    "duration": 1228,
    "start_time": "2024-03-09T10:14:57.882Z"
   },
   {
    "duration": 468,
    "start_time": "2024-03-09T10:14:59.112Z"
   },
   {
    "duration": 10,
    "start_time": "2024-03-09T10:14:59.581Z"
   },
   {
    "duration": 19,
    "start_time": "2024-03-09T10:14:59.592Z"
   },
   {
    "duration": 2,
    "start_time": "2024-03-09T10:14:59.613Z"
   },
   {
    "duration": 15,
    "start_time": "2024-03-09T10:14:59.616Z"
   },
   {
    "duration": 66,
    "start_time": "2024-03-09T10:14:59.632Z"
   },
   {
    "duration": 70,
    "start_time": "2024-03-09T10:14:59.700Z"
   },
   {
    "duration": 8,
    "start_time": "2024-03-09T10:14:59.771Z"
   },
   {
    "duration": 70,
    "start_time": "2024-03-09T10:14:59.780Z"
   },
   {
    "duration": 46,
    "start_time": "2024-03-09T10:14:59.852Z"
   },
   {
    "duration": 64,
    "start_time": "2024-03-09T10:14:59.900Z"
   },
   {
    "duration": 22,
    "start_time": "2024-03-09T10:14:59.965Z"
   },
   {
    "duration": 20,
    "start_time": "2024-03-09T10:14:59.990Z"
   },
   {
    "duration": 109,
    "start_time": "2024-03-09T10:15:00.012Z"
   },
   {
    "duration": 28,
    "start_time": "2024-03-09T10:15:00.122Z"
   },
   {
    "duration": 83,
    "start_time": "2024-03-09T10:15:00.151Z"
   },
   {
    "duration": 25,
    "start_time": "2024-03-09T10:15:00.236Z"
   },
   {
    "duration": 53,
    "start_time": "2024-03-09T10:15:00.263Z"
   },
   {
    "duration": 77,
    "start_time": "2024-03-09T10:15:00.318Z"
   },
   {
    "duration": 242,
    "start_time": "2024-03-09T10:15:00.396Z"
   },
   {
    "duration": 8,
    "start_time": "2024-03-09T10:15:00.639Z"
   },
   {
    "duration": 23,
    "start_time": "2024-03-09T10:15:00.648Z"
   },
   {
    "duration": 1421,
    "start_time": "2024-03-09T10:15:00.673Z"
   },
   {
    "duration": 63,
    "start_time": "2024-03-09T10:15:02.095Z"
   },
   {
    "duration": 28,
    "start_time": "2024-03-09T10:15:02.159Z"
   },
   {
    "duration": 47,
    "start_time": "2024-03-09T10:15:02.189Z"
   },
   {
    "duration": 80,
    "start_time": "2024-03-09T10:15:02.238Z"
   },
   {
    "duration": 106,
    "start_time": "2024-03-09T10:15:02.320Z"
   },
   {
    "duration": 402,
    "start_time": "2024-03-09T10:15:02.427Z"
   },
   {
    "duration": 62,
    "start_time": "2024-03-09T10:15:02.831Z"
   },
   {
    "duration": 329,
    "start_time": "2024-03-09T10:15:02.894Z"
   },
   {
    "duration": 148,
    "start_time": "2024-03-09T10:15:03.224Z"
   },
   {
    "duration": 3,
    "start_time": "2024-03-09T10:15:03.373Z"
   },
   {
    "duration": 572,
    "start_time": "2024-03-09T10:15:03.378Z"
   },
   {
    "duration": 441,
    "start_time": "2024-03-09T10:15:03.951Z"
   },
   {
    "duration": 11,
    "start_time": "2024-03-09T10:15:04.393Z"
   },
   {
    "duration": 29,
    "start_time": "2024-03-09T10:15:04.405Z"
   },
   {
    "duration": 20,
    "start_time": "2024-03-09T10:15:04.436Z"
   },
   {
    "duration": 15,
    "start_time": "2024-03-09T10:15:04.457Z"
   },
   {
    "duration": 14,
    "start_time": "2024-03-09T10:15:04.476Z"
   },
   {
    "duration": 116,
    "start_time": "2024-03-09T10:15:04.491Z"
   },
   {
    "duration": 5,
    "start_time": "2024-03-09T10:15:04.608Z"
   },
   {
    "duration": 10,
    "start_time": "2024-03-09T10:15:04.614Z"
   },
   {
    "duration": 38,
    "start_time": "2024-03-09T10:15:04.625Z"
   },
   {
    "duration": 3,
    "start_time": "2024-03-09T10:15:04.664Z"
   },
   {
    "duration": 58,
    "start_time": "2024-03-09T10:15:04.668Z"
   },
   {
    "duration": 53,
    "start_time": "2024-03-09T10:15:04.727Z"
   },
   {
    "duration": 128,
    "start_time": "2024-03-09T10:15:04.782Z"
   },
   {
    "duration": 34,
    "start_time": "2024-03-09T10:15:04.912Z"
   },
   {
    "duration": 11,
    "start_time": "2024-03-09T10:15:04.947Z"
   },
   {
    "duration": 14,
    "start_time": "2024-03-09T10:15:04.959Z"
   },
   {
    "duration": 17,
    "start_time": "2024-03-09T10:15:04.974Z"
   },
   {
    "duration": 16,
    "start_time": "2024-03-09T10:15:04.993Z"
   },
   {
    "duration": 54,
    "start_time": "2024-03-09T13:38:08.525Z"
   },
   {
    "duration": 1495,
    "start_time": "2024-03-09T13:38:19.274Z"
   },
   {
    "duration": 533,
    "start_time": "2024-03-09T13:38:22.729Z"
   },
   {
    "duration": 11,
    "start_time": "2024-03-09T13:38:23.471Z"
   },
   {
    "duration": 23,
    "start_time": "2024-03-09T13:38:25.424Z"
   },
   {
    "duration": 3,
    "start_time": "2024-03-09T13:38:30.193Z"
   },
   {
    "duration": 61,
    "start_time": "2024-03-09T13:42:30.914Z"
   },
   {
    "duration": 108,
    "start_time": "2024-03-09T13:45:25.068Z"
   },
   {
    "duration": 4,
    "start_time": "2024-03-09T13:45:28.008Z"
   },
   {
    "duration": 195,
    "start_time": "2024-03-09T13:45:37.041Z"
   },
   {
    "duration": 7,
    "start_time": "2024-03-09T13:45:39.019Z"
   },
   {
    "duration": 8,
    "start_time": "2024-03-09T13:45:41.617Z"
   },
   {
    "duration": 195,
    "start_time": "2024-03-09T13:45:53.296Z"
   },
   {
    "duration": 7,
    "start_time": "2024-03-09T13:45:53.819Z"
   },
   {
    "duration": 25,
    "start_time": "2024-03-09T13:45:54.976Z"
   },
   {
    "duration": 3,
    "start_time": "2024-03-09T13:46:03.644Z"
   },
   {
    "duration": 19,
    "start_time": "2024-03-09T13:46:07.487Z"
   },
   {
    "duration": 54,
    "start_time": "2024-03-09T13:46:52.634Z"
   },
   {
    "duration": 9,
    "start_time": "2024-03-09T13:49:37.737Z"
   },
   {
    "duration": 4,
    "start_time": "2024-03-09T13:50:12.043Z"
   },
   {
    "duration": 5,
    "start_time": "2024-03-09T13:51:36.122Z"
   },
   {
    "duration": 184,
    "start_time": "2024-03-09T13:51:36.671Z"
   },
   {
    "duration": 8,
    "start_time": "2024-03-09T13:51:36.857Z"
   },
   {
    "duration": 23,
    "start_time": "2024-03-09T13:51:37.026Z"
   },
   {
    "duration": 3,
    "start_time": "2024-03-09T13:51:38.476Z"
   },
   {
    "duration": 18,
    "start_time": "2024-03-09T13:51:39.061Z"
   },
   {
    "duration": 65,
    "start_time": "2024-03-09T13:51:39.445Z"
   },
   {
    "duration": 66,
    "start_time": "2024-03-09T13:51:39.612Z"
   },
   {
    "duration": 1154,
    "start_time": "2024-03-09T13:51:40.185Z"
   },
   {
    "duration": 0,
    "start_time": "2024-03-09T13:51:41.341Z"
   },
   {
    "duration": 0,
    "start_time": "2024-03-09T13:51:41.342Z"
   },
   {
    "duration": 10,
    "start_time": "2024-03-09T13:51:51.825Z"
   },
   {
    "duration": 92,
    "start_time": "2024-03-09T13:51:54.179Z"
   },
   {
    "duration": 62,
    "start_time": "2024-03-09T13:51:55.128Z"
   },
   {
    "duration": 4,
    "start_time": "2024-03-09T13:52:01.784Z"
   },
   {
    "duration": 4,
    "start_time": "2024-03-09T13:52:06.950Z"
   },
   {
    "duration": 9,
    "start_time": "2024-03-09T13:52:09.097Z"
   },
   {
    "duration": 3,
    "start_time": "2024-03-09T13:52:32.497Z"
   },
   {
    "duration": 4,
    "start_time": "2024-03-09T13:52:38.357Z"
   },
   {
    "duration": 1304,
    "start_time": "2024-03-09T13:52:57.915Z"
   },
   {
    "duration": 5,
    "start_time": "2024-03-09T13:53:05.693Z"
   },
   {
    "duration": 6,
    "start_time": "2024-03-09T13:53:15.393Z"
   },
   {
    "duration": 8,
    "start_time": "2024-03-09T13:53:19.486Z"
   },
   {
    "duration": 5,
    "start_time": "2024-03-09T13:53:35.127Z"
   },
   {
    "duration": 18,
    "start_time": "2024-03-09T13:53:58.333Z"
   },
   {
    "duration": 622,
    "start_time": "2024-03-09T13:54:03.747Z"
   },
   {
    "duration": 16,
    "start_time": "2024-03-09T13:54:58.584Z"
   },
   {
    "duration": 1097,
    "start_time": "2024-03-09T13:55:18.388Z"
   },
   {
    "duration": 29,
    "start_time": "2024-03-09T13:55:24.123Z"
   },
   {
    "duration": 32,
    "start_time": "2024-03-09T13:56:45.733Z"
   },
   {
    "duration": 21,
    "start_time": "2024-03-09T13:57:40.777Z"
   },
   {
    "duration": 6,
    "start_time": "2024-03-09T13:57:41.680Z"
   },
   {
    "duration": 5,
    "start_time": "2024-03-09T13:57:47.461Z"
   },
   {
    "duration": 7,
    "start_time": "2024-03-09T13:58:16.041Z"
   },
   {
    "duration": 12,
    "start_time": "2024-03-09T13:58:19.316Z"
   },
   {
    "duration": 78,
    "start_time": "2024-03-09T13:58:38.871Z"
   },
   {
    "duration": 9,
    "start_time": "2024-03-09T13:58:41.322Z"
   },
   {
    "duration": 22,
    "start_time": "2024-03-09T13:58:49.750Z"
   },
   {
    "duration": 8,
    "start_time": "2024-03-09T13:58:55.910Z"
   },
   {
    "duration": 6,
    "start_time": "2024-03-09T13:58:59.168Z"
   },
   {
    "duration": 12,
    "start_time": "2024-03-09T13:59:06.014Z"
   },
   {
    "duration": 255,
    "start_time": "2024-03-09T14:01:06.708Z"
   },
   {
    "duration": 63,
    "start_time": "2024-03-09T14:02:31.649Z"
   },
   {
    "duration": 53,
    "start_time": "2024-03-09T14:02:47.891Z"
   },
   {
    "duration": 14,
    "start_time": "2024-03-09T14:21:42.985Z"
   },
   {
    "duration": 8,
    "start_time": "2024-03-09T14:24:32.846Z"
   },
   {
    "duration": 55,
    "start_time": "2024-03-09T14:24:59.031Z"
   },
   {
    "duration": 56,
    "start_time": "2024-03-09T14:25:15.582Z"
   },
   {
    "duration": 58,
    "start_time": "2024-03-09T14:25:27.258Z"
   },
   {
    "duration": 71,
    "start_time": "2024-03-09T14:25:50.352Z"
   },
   {
    "duration": 58,
    "start_time": "2024-03-09T14:26:01.931Z"
   },
   {
    "duration": 58,
    "start_time": "2024-03-09T14:26:11.277Z"
   },
   {
    "duration": 61,
    "start_time": "2024-03-09T14:26:27.132Z"
   },
   {
    "duration": 68,
    "start_time": "2024-03-09T14:26:32.129Z"
   },
   {
    "duration": 27,
    "start_time": "2024-03-09T14:27:48.058Z"
   },
   {
    "duration": 94,
    "start_time": "2024-03-09T14:31:53.044Z"
   },
   {
    "duration": 5,
    "start_time": "2024-03-09T14:34:30.840Z"
   },
   {
    "duration": 32,
    "start_time": "2024-03-09T14:36:15.223Z"
   },
   {
    "duration": 71,
    "start_time": "2024-03-09T16:30:47.628Z"
   },
   {
    "duration": 4,
    "start_time": "2024-03-09T16:31:06.240Z"
   },
   {
    "duration": 1341,
    "start_time": "2024-03-09T16:31:11.153Z"
   },
   {
    "duration": 216,
    "start_time": "2024-03-09T16:31:12.497Z"
   },
   {
    "duration": 17,
    "start_time": "2024-03-09T16:31:12.714Z"
   },
   {
    "duration": 33,
    "start_time": "2024-03-09T16:31:12.733Z"
   },
   {
    "duration": 3,
    "start_time": "2024-03-09T16:31:12.768Z"
   },
   {
    "duration": 28,
    "start_time": "2024-03-09T16:31:12.772Z"
   },
   {
    "duration": 102,
    "start_time": "2024-03-09T16:31:12.802Z"
   },
   {
    "duration": 82,
    "start_time": "2024-03-09T16:31:12.906Z"
   },
   {
    "duration": 13,
    "start_time": "2024-03-09T16:31:12.990Z"
   },
   {
    "duration": 123,
    "start_time": "2024-03-09T16:31:13.005Z"
   },
   {
    "duration": 68,
    "start_time": "2024-03-09T16:31:13.130Z"
   },
   {
    "duration": 5,
    "start_time": "2024-03-09T16:31:13.200Z"
   },
   {
    "duration": 11,
    "start_time": "2024-03-09T16:31:13.207Z"
   },
   {
    "duration": 6,
    "start_time": "2024-03-09T16:31:13.221Z"
   },
   {
    "duration": 7,
    "start_time": "2024-03-09T16:31:13.228Z"
   },
   {
    "duration": 589,
    "start_time": "2024-03-09T16:31:13.237Z"
   },
   {
    "duration": 30,
    "start_time": "2024-03-09T16:31:13.830Z"
   },
   {
    "duration": 10,
    "start_time": "2024-03-09T16:31:13.862Z"
   },
   {
    "duration": 10,
    "start_time": "2024-03-09T16:31:13.882Z"
   },
   {
    "duration": 29,
    "start_time": "2024-03-09T16:31:13.894Z"
   },
   {
    "duration": 98,
    "start_time": "2024-03-09T16:31:13.925Z"
   },
   {
    "duration": 173,
    "start_time": "2024-03-09T16:31:14.026Z"
   },
   {
    "duration": 6,
    "start_time": "2024-03-09T16:31:14.202Z"
   },
   {
    "duration": 62,
    "start_time": "2024-03-09T16:31:14.210Z"
   },
   {
    "duration": 74,
    "start_time": "2024-03-09T16:31:14.274Z"
   },
   {
    "duration": 1309,
    "start_time": "2024-03-09T16:43:26.690Z"
   },
   {
    "duration": 74,
    "start_time": "2024-03-09T16:44:27.149Z"
   },
   {
    "duration": 4,
    "start_time": "2024-03-09T16:45:39.178Z"
   },
   {
    "duration": 1443,
    "start_time": "2024-03-09T16:45:43.978Z"
   },
   {
    "duration": 211,
    "start_time": "2024-03-09T16:45:45.423Z"
   },
   {
    "duration": 12,
    "start_time": "2024-03-09T16:45:45.636Z"
   },
   {
    "duration": 39,
    "start_time": "2024-03-09T16:45:45.650Z"
   },
   {
    "duration": 5,
    "start_time": "2024-03-09T16:45:45.693Z"
   },
   {
    "duration": 24,
    "start_time": "2024-03-09T16:45:45.700Z"
   },
   {
    "duration": 86,
    "start_time": "2024-03-09T16:45:45.725Z"
   },
   {
    "duration": 91,
    "start_time": "2024-03-09T16:45:45.814Z"
   },
   {
    "duration": 8,
    "start_time": "2024-03-09T16:45:45.907Z"
   },
   {
    "duration": 102,
    "start_time": "2024-03-09T16:45:45.916Z"
   },
   {
    "duration": 62,
    "start_time": "2024-03-09T16:45:46.020Z"
   },
   {
    "duration": 7,
    "start_time": "2024-03-09T16:45:46.085Z"
   },
   {
    "duration": 16,
    "start_time": "2024-03-09T16:45:46.094Z"
   },
   {
    "duration": 5,
    "start_time": "2024-03-09T16:45:46.113Z"
   },
   {
    "duration": 12,
    "start_time": "2024-03-09T16:45:46.119Z"
   },
   {
    "duration": 608,
    "start_time": "2024-03-09T16:45:46.132Z"
   },
   {
    "duration": 40,
    "start_time": "2024-03-09T16:45:46.742Z"
   },
   {
    "duration": 15,
    "start_time": "2024-03-09T16:45:46.785Z"
   },
   {
    "duration": 7,
    "start_time": "2024-03-09T16:45:46.802Z"
   },
   {
    "duration": 34,
    "start_time": "2024-03-09T16:45:46.811Z"
   },
   {
    "duration": 92,
    "start_time": "2024-03-09T16:45:46.847Z"
   },
   {
    "duration": 103,
    "start_time": "2024-03-09T16:45:46.941Z"
   },
   {
    "duration": 4,
    "start_time": "2024-03-09T16:45:47.046Z"
   },
   {
    "duration": 62,
    "start_time": "2024-03-09T16:45:47.051Z"
   },
   {
    "duration": 269,
    "start_time": "2024-03-09T16:45:47.115Z"
   },
   {
    "duration": 277,
    "start_time": "2024-03-09T16:47:25.196Z"
   },
   {
    "duration": 82,
    "start_time": "2024-03-09T16:49:16.857Z"
   },
   {
    "duration": 5,
    "start_time": "2024-03-09T16:50:28.344Z"
   },
   {
    "duration": 55,
    "start_time": "2024-03-09T16:50:38.096Z"
   },
   {
    "duration": 75,
    "start_time": "2024-03-09T16:52:41.727Z"
   },
   {
    "duration": 71,
    "start_time": "2024-03-09T16:52:48.789Z"
   },
   {
    "duration": 6,
    "start_time": "2024-03-09T16:53:04.211Z"
   },
   {
    "duration": 57,
    "start_time": "2024-03-09T16:53:06.627Z"
   },
   {
    "duration": 71,
    "start_time": "2024-03-09T16:53:07.992Z"
   },
   {
    "duration": 50,
    "start_time": "2024-03-09T16:53:34.857Z"
   },
   {
    "duration": 54,
    "start_time": "2024-03-09T16:53:58.378Z"
   },
   {
    "duration": 49,
    "start_time": "2024-03-09T16:54:14.690Z"
   },
   {
    "duration": 56,
    "start_time": "2024-03-09T16:55:37.173Z"
   },
   {
    "duration": 50,
    "start_time": "2024-03-09T16:55:37.750Z"
   },
   {
    "duration": 53,
    "start_time": "2024-03-09T16:55:40.764Z"
   },
   {
    "duration": 48,
    "start_time": "2024-03-09T16:55:42.243Z"
   },
   {
    "duration": 54,
    "start_time": "2024-03-09T16:56:10.162Z"
   },
   {
    "duration": 49,
    "start_time": "2024-03-09T16:56:10.722Z"
   },
   {
    "duration": 73,
    "start_time": "2024-03-09T16:56:11.294Z"
   },
   {
    "duration": 49,
    "start_time": "2024-03-09T16:56:11.819Z"
   },
   {
    "duration": 5,
    "start_time": "2024-03-09T16:58:08.722Z"
   },
   {
    "duration": 5,
    "start_time": "2024-03-09T16:58:14.531Z"
   },
   {
    "duration": 6,
    "start_time": "2024-03-09T16:58:25.419Z"
   },
   {
    "duration": 46,
    "start_time": "2024-03-09T19:00:48.789Z"
   },
   {
    "duration": 7,
    "start_time": "2024-03-09T19:01:36.511Z"
   },
   {
    "duration": 1377,
    "start_time": "2024-03-09T19:01:44.584Z"
   },
   {
    "duration": 513,
    "start_time": "2024-03-09T19:01:45.963Z"
   },
   {
    "duration": 14,
    "start_time": "2024-03-09T19:01:46.478Z"
   },
   {
    "duration": 29,
    "start_time": "2024-03-09T19:01:46.494Z"
   },
   {
    "duration": 3,
    "start_time": "2024-03-09T19:01:46.524Z"
   },
   {
    "duration": 20,
    "start_time": "2024-03-09T19:01:46.528Z"
   },
   {
    "duration": 87,
    "start_time": "2024-03-09T19:01:46.550Z"
   },
   {
    "duration": 71,
    "start_time": "2024-03-09T19:01:46.638Z"
   },
   {
    "duration": 7,
    "start_time": "2024-03-09T19:01:46.711Z"
   },
   {
    "duration": 77,
    "start_time": "2024-03-09T19:01:46.721Z"
   },
   {
    "duration": 54,
    "start_time": "2024-03-09T19:01:46.800Z"
   },
   {
    "duration": 9,
    "start_time": "2024-03-09T19:01:46.856Z"
   },
   {
    "duration": 8,
    "start_time": "2024-03-09T19:01:46.866Z"
   },
   {
    "duration": 3,
    "start_time": "2024-03-09T19:01:46.875Z"
   },
   {
    "duration": 6,
    "start_time": "2024-03-09T19:01:46.879Z"
   },
   {
    "duration": 515,
    "start_time": "2024-03-09T19:01:46.886Z"
   },
   {
    "duration": 27,
    "start_time": "2024-03-09T19:01:47.402Z"
   },
   {
    "duration": 9,
    "start_time": "2024-03-09T19:01:47.430Z"
   },
   {
    "duration": 6,
    "start_time": "2024-03-09T19:01:47.440Z"
   },
   {
    "duration": 24,
    "start_time": "2024-03-09T19:01:47.465Z"
   },
   {
    "duration": 59,
    "start_time": "2024-03-09T19:01:47.490Z"
   },
   {
    "duration": 80,
    "start_time": "2024-03-09T19:01:47.565Z"
   },
   {
    "duration": 18,
    "start_time": "2024-03-09T19:01:47.647Z"
   },
   {
    "duration": 31,
    "start_time": "2024-03-09T19:01:47.667Z"
   },
   {
    "duration": 149,
    "start_time": "2024-03-09T19:01:47.699Z"
   },
   {
    "duration": 11,
    "start_time": "2024-03-09T19:04:32.887Z"
   },
   {
    "duration": 1151,
    "start_time": "2024-03-09T19:04:36.973Z"
   },
   {
    "duration": 171,
    "start_time": "2024-03-09T19:04:38.126Z"
   },
   {
    "duration": 10,
    "start_time": "2024-03-09T19:04:38.299Z"
   },
   {
    "duration": 20,
    "start_time": "2024-03-09T19:04:38.311Z"
   },
   {
    "duration": 3,
    "start_time": "2024-03-09T19:04:38.333Z"
   },
   {
    "duration": 35,
    "start_time": "2024-03-09T19:04:38.337Z"
   },
   {
    "duration": 73,
    "start_time": "2024-03-09T19:04:38.374Z"
   },
   {
    "duration": 82,
    "start_time": "2024-03-09T19:04:38.449Z"
   },
   {
    "duration": 8,
    "start_time": "2024-03-09T19:04:38.533Z"
   },
   {
    "duration": 80,
    "start_time": "2024-03-09T19:04:38.543Z"
   },
   {
    "duration": 56,
    "start_time": "2024-03-09T19:04:38.625Z"
   },
   {
    "duration": 4,
    "start_time": "2024-03-09T19:04:38.682Z"
   },
   {
    "duration": 10,
    "start_time": "2024-03-09T19:04:38.688Z"
   },
   {
    "duration": 4,
    "start_time": "2024-03-09T19:04:38.699Z"
   },
   {
    "duration": 8,
    "start_time": "2024-03-09T19:04:38.704Z"
   },
   {
    "duration": 511,
    "start_time": "2024-03-09T19:04:38.714Z"
   },
   {
    "duration": 26,
    "start_time": "2024-03-09T19:04:39.227Z"
   },
   {
    "duration": 16,
    "start_time": "2024-03-09T19:04:39.255Z"
   },
   {
    "duration": 5,
    "start_time": "2024-03-09T19:04:39.273Z"
   },
   {
    "duration": 23,
    "start_time": "2024-03-09T19:04:39.280Z"
   },
   {
    "duration": 78,
    "start_time": "2024-03-09T19:04:39.305Z"
   },
   {
    "duration": 92,
    "start_time": "2024-03-09T19:04:39.384Z"
   },
   {
    "duration": 3,
    "start_time": "2024-03-09T19:04:39.478Z"
   },
   {
    "duration": 27,
    "start_time": "2024-03-09T19:04:39.483Z"
   },
   {
    "duration": 55,
    "start_time": "2024-03-09T19:04:39.511Z"
   },
   {
    "duration": 1284,
    "start_time": "2024-03-09T19:08:07.390Z"
   },
   {
    "duration": 32,
    "start_time": "2024-03-09T19:09:02.523Z"
   },
   {
    "duration": 31,
    "start_time": "2024-03-09T19:10:06.834Z"
   },
   {
    "duration": 5,
    "start_time": "2024-03-09T19:15:59.196Z"
   },
   {
    "duration": 33,
    "start_time": "2024-03-09T19:16:09.184Z"
   },
   {
    "duration": 29,
    "start_time": "2024-03-09T19:17:37.897Z"
   },
   {
    "duration": 18,
    "start_time": "2024-03-09T19:31:39.467Z"
   },
   {
    "duration": 14,
    "start_time": "2024-03-09T19:31:48.500Z"
   },
   {
    "duration": 9,
    "start_time": "2024-03-09T19:31:51.167Z"
   },
   {
    "duration": 9,
    "start_time": "2024-03-09T19:32:11.042Z"
   },
   {
    "duration": 8,
    "start_time": "2024-03-09T19:32:47.491Z"
   },
   {
    "duration": 16,
    "start_time": "2024-03-09T19:32:50.947Z"
   },
   {
    "duration": 9,
    "start_time": "2024-03-09T19:32:51.566Z"
   },
   {
    "duration": 8,
    "start_time": "2024-03-09T19:33:05.062Z"
   },
   {
    "duration": 14,
    "start_time": "2024-03-09T19:33:41.769Z"
   },
   {
    "duration": 62,
    "start_time": "2024-03-09T19:33:42.956Z"
   },
   {
    "duration": 64,
    "start_time": "2024-03-09T19:37:45.673Z"
   },
   {
    "duration": 64,
    "start_time": "2024-03-09T19:47:24.153Z"
   },
   {
    "duration": 41,
    "start_time": "2024-03-09T19:54:30.446Z"
   },
   {
    "duration": 61,
    "start_time": "2024-03-09T20:00:25.298Z"
   },
   {
    "duration": 25,
    "start_time": "2024-03-09T20:07:21.027Z"
   },
   {
    "duration": 43,
    "start_time": "2024-03-09T20:13:21.139Z"
   },
   {
    "duration": 49,
    "start_time": "2024-03-09T20:28:06.271Z"
   },
   {
    "duration": 444,
    "start_time": "2024-03-09T20:29:41.950Z"
   },
   {
    "duration": 396,
    "start_time": "2024-03-09T20:30:49.131Z"
   },
   {
    "duration": 91,
    "start_time": "2024-03-09T20:32:54.622Z"
   },
   {
    "duration": 52,
    "start_time": "2024-03-09T20:56:53.537Z"
   },
   {
    "duration": 71,
    "start_time": "2024-03-09T20:59:32.926Z"
   },
   {
    "duration": 79,
    "start_time": "2024-03-09T21:00:38.911Z"
   },
   {
    "duration": 66,
    "start_time": "2024-03-09T21:01:43.233Z"
   },
   {
    "duration": 99,
    "start_time": "2024-03-09T21:01:54.556Z"
   },
   {
    "duration": 72,
    "start_time": "2024-03-09T21:02:03.461Z"
   },
   {
    "duration": 119,
    "start_time": "2024-03-09T21:02:31.596Z"
   },
   {
    "duration": 83,
    "start_time": "2024-03-09T21:02:41.301Z"
   },
   {
    "duration": 3,
    "start_time": "2024-03-09T21:02:49.266Z"
   },
   {
    "duration": 11,
    "start_time": "2024-03-09T21:02:59.256Z"
   },
   {
    "duration": 15,
    "start_time": "2024-03-09T21:08:47.944Z"
   },
   {
    "duration": 63,
    "start_time": "2024-03-09T21:08:50.887Z"
   },
   {
    "duration": 62,
    "start_time": "2024-03-09T21:23:54.375Z"
   },
   {
    "duration": 55,
    "start_time": "2024-03-09T21:24:59.371Z"
   },
   {
    "duration": 54,
    "start_time": "2024-03-09T21:25:53.990Z"
   },
   {
    "duration": 69,
    "start_time": "2024-03-09T21:26:48.580Z"
   },
   {
    "duration": 34,
    "start_time": "2024-03-09T21:28:59.256Z"
   },
   {
    "duration": 8,
    "start_time": "2024-03-09T21:34:49.405Z"
   },
   {
    "duration": 9,
    "start_time": "2024-03-09T21:34:58.719Z"
   },
   {
    "duration": 39,
    "start_time": "2024-03-09T21:36:31.229Z"
   },
   {
    "duration": 10,
    "start_time": "2024-03-09T21:36:34.016Z"
   },
   {
    "duration": 27,
    "start_time": "2024-03-09T21:36:49.208Z"
   },
   {
    "duration": 14,
    "start_time": "2024-03-09T21:36:50.013Z"
   },
   {
    "duration": 67,
    "start_time": "2024-03-09T21:37:21.620Z"
   },
   {
    "duration": 34,
    "start_time": "2024-03-09T21:37:23.815Z"
   },
   {
    "duration": 10,
    "start_time": "2024-03-09T21:37:24.405Z"
   },
   {
    "duration": 11,
    "start_time": "2024-03-09T21:54:26.963Z"
   },
   {
    "duration": 10,
    "start_time": "2024-03-09T21:55:25.090Z"
   },
   {
    "duration": 12,
    "start_time": "2024-03-09T21:55:33.344Z"
   },
   {
    "duration": 5,
    "start_time": "2024-03-09T23:28:58.563Z"
   },
   {
    "duration": 14,
    "start_time": "2024-03-09T23:29:04.426Z"
   },
   {
    "duration": 4,
    "start_time": "2024-03-09T23:29:05.970Z"
   },
   {
    "duration": 3,
    "start_time": "2024-03-09T23:29:12.236Z"
   },
   {
    "duration": 1162,
    "start_time": "2024-03-09T23:29:40.053Z"
   },
   {
    "duration": 171,
    "start_time": "2024-03-09T23:29:41.217Z"
   },
   {
    "duration": 10,
    "start_time": "2024-03-09T23:29:41.389Z"
   },
   {
    "duration": 35,
    "start_time": "2024-03-09T23:29:41.401Z"
   },
   {
    "duration": 2,
    "start_time": "2024-03-09T23:29:41.438Z"
   },
   {
    "duration": 29,
    "start_time": "2024-03-09T23:29:41.442Z"
   },
   {
    "duration": 77,
    "start_time": "2024-03-09T23:29:41.473Z"
   },
   {
    "duration": 63,
    "start_time": "2024-03-09T23:29:41.551Z"
   },
   {
    "duration": 7,
    "start_time": "2024-03-09T23:29:41.616Z"
   },
   {
    "duration": 74,
    "start_time": "2024-03-09T23:29:41.626Z"
   },
   {
    "duration": 62,
    "start_time": "2024-03-09T23:29:41.702Z"
   },
   {
    "duration": 5,
    "start_time": "2024-03-09T23:29:41.765Z"
   },
   {
    "duration": 17,
    "start_time": "2024-03-09T23:29:41.771Z"
   },
   {
    "duration": 9,
    "start_time": "2024-03-09T23:29:41.789Z"
   },
   {
    "duration": 22,
    "start_time": "2024-03-09T23:29:41.799Z"
   },
   {
    "duration": 503,
    "start_time": "2024-03-09T23:29:41.823Z"
   },
   {
    "duration": 25,
    "start_time": "2024-03-09T23:29:42.328Z"
   },
   {
    "duration": 18,
    "start_time": "2024-03-09T23:29:42.354Z"
   },
   {
    "duration": 6,
    "start_time": "2024-03-09T23:29:42.373Z"
   },
   {
    "duration": 33,
    "start_time": "2024-03-09T23:29:42.380Z"
   },
   {
    "duration": 73,
    "start_time": "2024-03-09T23:29:42.414Z"
   },
   {
    "duration": 83,
    "start_time": "2024-03-09T23:29:42.489Z"
   },
   {
    "duration": 4,
    "start_time": "2024-03-09T23:29:42.573Z"
   },
   {
    "duration": 43,
    "start_time": "2024-03-09T23:29:42.578Z"
   },
   {
    "duration": 13,
    "start_time": "2024-03-09T23:29:42.622Z"
   },
   {
    "duration": 79,
    "start_time": "2024-03-09T23:29:42.636Z"
   },
   {
    "duration": 63,
    "start_time": "2024-03-09T23:29:42.716Z"
   },
   {
    "duration": 106,
    "start_time": "2024-03-09T23:29:42.782Z"
   },
   {
    "duration": 0,
    "start_time": "2024-03-09T23:29:42.889Z"
   },
   {
    "duration": 10,
    "start_time": "2024-03-09T23:31:19.396Z"
   },
   {
    "duration": 42,
    "start_time": "2024-03-09T23:32:57.603Z"
   },
   {
    "duration": 4,
    "start_time": "2024-03-09T23:33:02.389Z"
   },
   {
    "duration": 4,
    "start_time": "2024-03-09T23:33:18.571Z"
   },
   {
    "duration": 4,
    "start_time": "2024-03-09T23:34:28.189Z"
   },
   {
    "duration": 4,
    "start_time": "2024-03-09T23:34:31.530Z"
   },
   {
    "duration": 5,
    "start_time": "2024-03-09T23:35:54.300Z"
   },
   {
    "duration": 1210,
    "start_time": "2024-03-09T23:35:59.535Z"
   },
   {
    "duration": 181,
    "start_time": "2024-03-09T23:36:00.746Z"
   },
   {
    "duration": 10,
    "start_time": "2024-03-09T23:36:00.929Z"
   },
   {
    "duration": 47,
    "start_time": "2024-03-09T23:36:00.941Z"
   },
   {
    "duration": 11,
    "start_time": "2024-03-09T23:36:00.989Z"
   },
   {
    "duration": 42,
    "start_time": "2024-03-09T23:36:01.001Z"
   },
   {
    "duration": 87,
    "start_time": "2024-03-09T23:36:01.045Z"
   },
   {
    "duration": 71,
    "start_time": "2024-03-09T23:36:01.134Z"
   },
   {
    "duration": 9,
    "start_time": "2024-03-09T23:36:01.206Z"
   },
   {
    "duration": 110,
    "start_time": "2024-03-09T23:36:01.218Z"
   },
   {
    "duration": 52,
    "start_time": "2024-03-09T23:36:01.329Z"
   },
   {
    "duration": 34,
    "start_time": "2024-03-09T23:36:01.383Z"
   },
   {
    "duration": 54,
    "start_time": "2024-03-09T23:36:01.419Z"
   },
   {
    "duration": 34,
    "start_time": "2024-03-09T23:36:01.475Z"
   },
   {
    "duration": 43,
    "start_time": "2024-03-09T23:36:01.511Z"
   },
   {
    "duration": 520,
    "start_time": "2024-03-09T23:36:01.556Z"
   },
   {
    "duration": 29,
    "start_time": "2024-03-09T23:36:02.078Z"
   },
   {
    "duration": 19,
    "start_time": "2024-03-09T23:36:02.109Z"
   },
   {
    "duration": 8,
    "start_time": "2024-03-09T23:36:02.130Z"
   },
   {
    "duration": 40,
    "start_time": "2024-03-09T23:36:02.140Z"
   },
   {
    "duration": 69,
    "start_time": "2024-03-09T23:36:02.181Z"
   },
   {
    "duration": 84,
    "start_time": "2024-03-09T23:36:02.252Z"
   },
   {
    "duration": 4,
    "start_time": "2024-03-09T23:36:02.337Z"
   },
   {
    "duration": 42,
    "start_time": "2024-03-09T23:36:02.342Z"
   },
   {
    "duration": 15,
    "start_time": "2024-03-09T23:36:02.386Z"
   },
   {
    "duration": 75,
    "start_time": "2024-03-09T23:36:02.402Z"
   },
   {
    "duration": 57,
    "start_time": "2024-03-09T23:36:02.479Z"
   },
   {
    "duration": 56,
    "start_time": "2024-03-09T23:36:02.540Z"
   },
   {
    "duration": 6,
    "start_time": "2024-03-09T23:36:02.598Z"
   },
   {
    "duration": 5,
    "start_time": "2024-03-09T23:36:24.487Z"
   },
   {
    "duration": 1143,
    "start_time": "2024-03-09T23:38:56.373Z"
   },
   {
    "duration": 172,
    "start_time": "2024-03-09T23:38:57.518Z"
   },
   {
    "duration": 10,
    "start_time": "2024-03-09T23:38:57.691Z"
   },
   {
    "duration": 20,
    "start_time": "2024-03-09T23:38:57.702Z"
   },
   {
    "duration": 3,
    "start_time": "2024-03-09T23:38:57.723Z"
   },
   {
    "duration": 32,
    "start_time": "2024-03-09T23:38:57.728Z"
   },
   {
    "duration": 61,
    "start_time": "2024-03-09T23:38:57.765Z"
   },
   {
    "duration": 76,
    "start_time": "2024-03-09T23:38:57.828Z"
   },
   {
    "duration": 10,
    "start_time": "2024-03-09T23:38:57.906Z"
   },
   {
    "duration": 73,
    "start_time": "2024-03-09T23:38:57.920Z"
   },
   {
    "duration": 47,
    "start_time": "2024-03-09T23:38:57.995Z"
   },
   {
    "duration": 3,
    "start_time": "2024-03-09T23:38:58.043Z"
   },
   {
    "duration": 8,
    "start_time": "2024-03-09T23:38:58.065Z"
   },
   {
    "duration": 3,
    "start_time": "2024-03-09T23:38:58.074Z"
   },
   {
    "duration": 6,
    "start_time": "2024-03-09T23:38:58.079Z"
   },
   {
    "duration": 460,
    "start_time": "2024-03-09T23:38:58.087Z"
   },
   {
    "duration": 36,
    "start_time": "2024-03-09T23:38:58.549Z"
   },
   {
    "duration": 9,
    "start_time": "2024-03-09T23:38:58.587Z"
   },
   {
    "duration": 7,
    "start_time": "2024-03-09T23:38:58.597Z"
   },
   {
    "duration": 24,
    "start_time": "2024-03-09T23:38:58.605Z"
   },
   {
    "duration": 80,
    "start_time": "2024-03-09T23:38:58.631Z"
   },
   {
    "duration": 85,
    "start_time": "2024-03-09T23:38:58.713Z"
   },
   {
    "duration": 4,
    "start_time": "2024-03-09T23:38:58.800Z"
   },
   {
    "duration": 30,
    "start_time": "2024-03-09T23:38:58.806Z"
   },
   {
    "duration": 37,
    "start_time": "2024-03-09T23:38:58.837Z"
   },
   {
    "duration": 95,
    "start_time": "2024-03-09T23:38:58.875Z"
   },
   {
    "duration": 56,
    "start_time": "2024-03-09T23:38:58.973Z"
   },
   {
    "duration": 56,
    "start_time": "2024-03-09T23:38:59.032Z"
   },
   {
    "duration": 141,
    "start_time": "2024-03-09T23:39:55.369Z"
   },
   {
    "duration": 51,
    "start_time": "2024-03-09T23:46:40.463Z"
   },
   {
    "duration": 41,
    "start_time": "2024-03-09T23:46:47.550Z"
   },
   {
    "duration": 64,
    "start_time": "2024-03-09T23:47:18.342Z"
   },
   {
    "duration": 54,
    "start_time": "2024-03-09T23:47:38.783Z"
   },
   {
    "duration": 59,
    "start_time": "2024-03-09T23:48:00.661Z"
   },
   {
    "duration": 49,
    "start_time": "2024-03-09T23:49:47.041Z"
   },
   {
    "duration": 1243,
    "start_time": "2024-03-09T23:50:56.288Z"
   },
   {
    "duration": 1166,
    "start_time": "2024-03-09T23:52:27.502Z"
   },
   {
    "duration": 60,
    "start_time": "2024-03-09T23:52:45.373Z"
   },
   {
    "duration": 924,
    "start_time": "2024-03-09T23:52:46.445Z"
   },
   {
    "duration": 55,
    "start_time": "2024-03-09T23:52:56.535Z"
   },
   {
    "duration": 834,
    "start_time": "2024-03-09T23:52:57.236Z"
   },
   {
    "duration": 858,
    "start_time": "2024-03-09T23:54:20.071Z"
   },
   {
    "duration": 25,
    "start_time": "2024-03-09T23:54:35.743Z"
   },
   {
    "duration": 23,
    "start_time": "2024-03-09T23:54:45.899Z"
   },
   {
    "duration": 53,
    "start_time": "2024-03-09T23:56:13.472Z"
   },
   {
    "duration": 55,
    "start_time": "2024-03-09T23:56:20.235Z"
   },
   {
    "duration": 54,
    "start_time": "2024-03-09T23:56:32.561Z"
   },
   {
    "duration": 33,
    "start_time": "2024-03-09T23:58:37.409Z"
   },
   {
    "duration": 27,
    "start_time": "2024-03-09T23:58:53.040Z"
   },
   {
    "duration": 1229,
    "start_time": "2024-03-10T00:00:10.761Z"
   },
   {
    "duration": 175,
    "start_time": "2024-03-10T00:00:11.992Z"
   },
   {
    "duration": 11,
    "start_time": "2024-03-10T00:00:12.168Z"
   },
   {
    "duration": 28,
    "start_time": "2024-03-10T00:00:12.181Z"
   },
   {
    "duration": 3,
    "start_time": "2024-03-10T00:00:12.210Z"
   },
   {
    "duration": 19,
    "start_time": "2024-03-10T00:00:12.214Z"
   },
   {
    "duration": 83,
    "start_time": "2024-03-10T00:00:12.235Z"
   },
   {
    "duration": 78,
    "start_time": "2024-03-10T00:00:12.320Z"
   },
   {
    "duration": 8,
    "start_time": "2024-03-10T00:00:12.400Z"
   },
   {
    "duration": 83,
    "start_time": "2024-03-10T00:00:12.411Z"
   },
   {
    "duration": 47,
    "start_time": "2024-03-10T00:00:12.496Z"
   },
   {
    "duration": 3,
    "start_time": "2024-03-10T00:00:12.545Z"
   },
   {
    "duration": 21,
    "start_time": "2024-03-10T00:00:12.550Z"
   },
   {
    "duration": 4,
    "start_time": "2024-03-10T00:00:12.572Z"
   },
   {
    "duration": 12,
    "start_time": "2024-03-10T00:00:12.578Z"
   },
   {
    "duration": 494,
    "start_time": "2024-03-10T00:00:12.591Z"
   },
   {
    "duration": 28,
    "start_time": "2024-03-10T00:00:13.087Z"
   },
   {
    "duration": 16,
    "start_time": "2024-03-10T00:00:13.117Z"
   },
   {
    "duration": 31,
    "start_time": "2024-03-10T00:00:13.135Z"
   },
   {
    "duration": 28,
    "start_time": "2024-03-10T00:00:13.168Z"
   },
   {
    "duration": 82,
    "start_time": "2024-03-10T00:00:13.197Z"
   },
   {
    "duration": 94,
    "start_time": "2024-03-10T00:00:13.281Z"
   },
   {
    "duration": 4,
    "start_time": "2024-03-10T00:00:13.376Z"
   },
   {
    "duration": 47,
    "start_time": "2024-03-10T00:00:13.382Z"
   },
   {
    "duration": 26,
    "start_time": "2024-03-10T00:00:13.431Z"
   },
   {
    "duration": 11,
    "start_time": "2024-03-10T00:00:13.465Z"
   },
   {
    "duration": 101,
    "start_time": "2024-03-10T00:00:13.477Z"
   },
   {
    "duration": 0,
    "start_time": "2024-03-10T00:00:13.579Z"
   },
   {
    "duration": 0,
    "start_time": "2024-03-10T00:00:13.581Z"
   },
   {
    "duration": 14,
    "start_time": "2024-03-10T00:00:34.539Z"
   },
   {
    "duration": 72,
    "start_time": "2024-03-10T00:01:47.635Z"
   },
   {
    "duration": 77,
    "start_time": "2024-03-10T00:02:49.196Z"
   },
   {
    "duration": 38,
    "start_time": "2024-03-10T00:02:54.441Z"
   },
   {
    "duration": 61,
    "start_time": "2024-03-10T00:02:57.068Z"
   },
   {
    "duration": 26,
    "start_time": "2024-03-10T00:04:24.930Z"
   },
   {
    "duration": 60,
    "start_time": "2024-03-10T00:05:23.773Z"
   },
   {
    "duration": 22,
    "start_time": "2024-03-10T00:05:46.890Z"
   },
   {
    "duration": 105,
    "start_time": "2024-03-10T00:06:11.191Z"
   },
   {
    "duration": 105,
    "start_time": "2024-03-10T00:06:28.506Z"
   },
   {
    "duration": 48,
    "start_time": "2024-03-10T00:06:43.355Z"
   },
   {
    "duration": 134,
    "start_time": "2024-03-10T00:30:28.672Z"
   },
   {
    "duration": 119,
    "start_time": "2024-03-10T00:30:47.213Z"
   },
   {
    "duration": 129,
    "start_time": "2024-03-10T01:11:35.633Z"
   },
   {
    "duration": 90,
    "start_time": "2024-03-10T01:35:49.158Z"
   },
   {
    "duration": 44,
    "start_time": "2024-03-10T01:37:25.805Z"
   },
   {
    "duration": 127,
    "start_time": "2024-03-10T01:39:20.703Z"
   },
   {
    "duration": 119,
    "start_time": "2024-03-10T01:40:18.144Z"
   },
   {
    "duration": 153,
    "start_time": "2024-03-10T01:40:20.806Z"
   },
   {
    "duration": 1217,
    "start_time": "2024-03-10T01:40:38.552Z"
   },
   {
    "duration": 67,
    "start_time": "2024-03-10T01:42:14.580Z"
   },
   {
    "duration": 75,
    "start_time": "2024-03-10T01:42:23.523Z"
   },
   {
    "duration": 5,
    "start_time": "2024-03-10T01:42:43.323Z"
   },
   {
    "duration": 4,
    "start_time": "2024-03-10T01:42:49.856Z"
   },
   {
    "duration": 88,
    "start_time": "2024-03-10T01:43:29.069Z"
   },
   {
    "duration": 8,
    "start_time": "2024-03-10T01:48:07.494Z"
   },
   {
    "duration": 39,
    "start_time": "2024-03-10T01:48:10.603Z"
   },
   {
    "duration": 64,
    "start_time": "2024-03-10T01:48:10.867Z"
   },
   {
    "duration": 1204,
    "start_time": "2024-03-10T01:59:12.542Z"
   },
   {
    "duration": 173,
    "start_time": "2024-03-10T01:59:13.748Z"
   },
   {
    "duration": 9,
    "start_time": "2024-03-10T01:59:13.923Z"
   },
   {
    "duration": 31,
    "start_time": "2024-03-10T01:59:13.934Z"
   },
   {
    "duration": 3,
    "start_time": "2024-03-10T01:59:13.966Z"
   },
   {
    "duration": 17,
    "start_time": "2024-03-10T01:59:13.970Z"
   },
   {
    "duration": 56,
    "start_time": "2024-03-10T01:59:13.989Z"
   },
   {
    "duration": 76,
    "start_time": "2024-03-10T01:59:14.047Z"
   },
   {
    "duration": 8,
    "start_time": "2024-03-10T01:59:14.124Z"
   },
   {
    "duration": 89,
    "start_time": "2024-03-10T01:59:14.134Z"
   },
   {
    "duration": 60,
    "start_time": "2024-03-10T01:59:14.225Z"
   },
   {
    "duration": 3,
    "start_time": "2024-03-10T01:59:14.287Z"
   },
   {
    "duration": 16,
    "start_time": "2024-03-10T01:59:14.292Z"
   },
   {
    "duration": 3,
    "start_time": "2024-03-10T01:59:14.310Z"
   },
   {
    "duration": 16,
    "start_time": "2024-03-10T01:59:14.314Z"
   },
   {
    "duration": 524,
    "start_time": "2024-03-10T01:59:14.331Z"
   },
   {
    "duration": 31,
    "start_time": "2024-03-10T01:59:14.857Z"
   },
   {
    "duration": 16,
    "start_time": "2024-03-10T01:59:14.889Z"
   },
   {
    "duration": 5,
    "start_time": "2024-03-10T01:59:14.907Z"
   },
   {
    "duration": 27,
    "start_time": "2024-03-10T01:59:14.914Z"
   },
   {
    "duration": 75,
    "start_time": "2024-03-10T01:59:14.943Z"
   },
   {
    "duration": 93,
    "start_time": "2024-03-10T01:59:15.020Z"
   },
   {
    "duration": 3,
    "start_time": "2024-03-10T01:59:15.115Z"
   },
   {
    "duration": 36,
    "start_time": "2024-03-10T01:59:15.120Z"
   },
   {
    "duration": 70,
    "start_time": "2024-03-10T01:59:15.157Z"
   },
   {
    "duration": 7,
    "start_time": "2024-03-10T01:59:15.229Z"
   },
   {
    "duration": 35,
    "start_time": "2024-03-10T01:59:15.237Z"
   },
   {
    "duration": 69,
    "start_time": "2024-03-10T01:59:15.275Z"
   },
   {
    "duration": 57,
    "start_time": "2024-03-10T01:59:15.346Z"
   },
   {
    "duration": 140,
    "start_time": "2024-03-10T01:59:15.404Z"
   },
   {
    "duration": 180,
    "start_time": "2024-03-10T01:59:15.546Z"
   },
   {
    "duration": 89,
    "start_time": "2024-03-10T01:59:15.727Z"
   },
   {
    "duration": 5,
    "start_time": "2024-03-10T01:59:15.817Z"
   },
   {
    "duration": 108,
    "start_time": "2024-03-10T01:59:15.823Z"
   },
   {
    "duration": 92,
    "start_time": "2024-03-10T01:59:34.914Z"
   },
   {
    "duration": 8,
    "start_time": "2024-03-10T01:59:36.919Z"
   },
   {
    "duration": 16,
    "start_time": "2024-03-10T01:59:37.792Z"
   },
   {
    "duration": 1107,
    "start_time": "2024-03-10T01:59:46.516Z"
   },
   {
    "duration": 166,
    "start_time": "2024-03-10T01:59:47.625Z"
   },
   {
    "duration": 10,
    "start_time": "2024-03-10T01:59:47.792Z"
   },
   {
    "duration": 20,
    "start_time": "2024-03-10T01:59:47.804Z"
   },
   {
    "duration": 3,
    "start_time": "2024-03-10T01:59:47.825Z"
   },
   {
    "duration": 40,
    "start_time": "2024-03-10T01:59:47.830Z"
   },
   {
    "duration": 62,
    "start_time": "2024-03-10T01:59:47.872Z"
   },
   {
    "duration": 85,
    "start_time": "2024-03-10T01:59:47.935Z"
   },
   {
    "duration": 6,
    "start_time": "2024-03-10T01:59:48.022Z"
   },
   {
    "duration": 84,
    "start_time": "2024-03-10T01:59:48.030Z"
   },
   {
    "duration": 55,
    "start_time": "2024-03-10T01:59:48.116Z"
   },
   {
    "duration": 4,
    "start_time": "2024-03-10T01:59:48.172Z"
   },
   {
    "duration": 12,
    "start_time": "2024-03-10T01:59:48.177Z"
   },
   {
    "duration": 4,
    "start_time": "2024-03-10T01:59:48.190Z"
   },
   {
    "duration": 10,
    "start_time": "2024-03-10T01:59:48.195Z"
   },
   {
    "duration": 495,
    "start_time": "2024-03-10T01:59:48.207Z"
   },
   {
    "duration": 32,
    "start_time": "2024-03-10T01:59:48.704Z"
   },
   {
    "duration": 17,
    "start_time": "2024-03-10T01:59:48.737Z"
   },
   {
    "duration": 8,
    "start_time": "2024-03-10T01:59:48.765Z"
   },
   {
    "duration": 25,
    "start_time": "2024-03-10T01:59:48.775Z"
   },
   {
    "duration": 86,
    "start_time": "2024-03-10T01:59:48.802Z"
   },
   {
    "duration": 95,
    "start_time": "2024-03-10T01:59:48.889Z"
   },
   {
    "duration": 4,
    "start_time": "2024-03-10T01:59:48.987Z"
   },
   {
    "duration": 30,
    "start_time": "2024-03-10T01:59:48.993Z"
   },
   {
    "duration": 91,
    "start_time": "2024-03-10T01:59:49.025Z"
   },
   {
    "duration": 8,
    "start_time": "2024-03-10T01:59:49.118Z"
   },
   {
    "duration": 19,
    "start_time": "2024-03-10T01:59:49.128Z"
   },
   {
    "duration": 59,
    "start_time": "2024-03-10T01:59:49.164Z"
   },
   {
    "duration": 66,
    "start_time": "2024-03-10T01:59:49.225Z"
   },
   {
    "duration": 139,
    "start_time": "2024-03-10T01:59:49.293Z"
   },
   {
    "duration": 175,
    "start_time": "2024-03-10T01:59:49.434Z"
   },
   {
    "duration": 80,
    "start_time": "2024-03-10T01:59:49.611Z"
   },
   {
    "duration": 5,
    "start_time": "2024-03-10T01:59:49.692Z"
   },
   {
    "duration": 110,
    "start_time": "2024-03-10T01:59:49.698Z"
   },
   {
    "duration": 54,
    "start_time": "2024-03-10T02:00:39.306Z"
   },
   {
    "duration": 58,
    "start_time": "2024-03-10T02:00:39.938Z"
   },
   {
    "duration": 48,
    "start_time": "2024-03-10T02:00:42.362Z"
   },
   {
    "duration": 126,
    "start_time": "2024-03-10T02:00:46.488Z"
   },
   {
    "duration": 155,
    "start_time": "2024-03-10T02:00:53.873Z"
   },
   {
    "duration": 67,
    "start_time": "2024-03-10T02:00:56.419Z"
   },
   {
    "duration": 5,
    "start_time": "2024-03-10T02:00:56.610Z"
   },
   {
    "duration": 95,
    "start_time": "2024-03-10T02:00:56.802Z"
   },
   {
    "duration": 79,
    "start_time": "2024-03-10T02:13:04.077Z"
   },
   {
    "duration": 4,
    "start_time": "2024-03-10T02:20:24.552Z"
   },
   {
    "duration": 5,
    "start_time": "2024-03-10T02:21:06.159Z"
   },
   {
    "duration": 4,
    "start_time": "2024-03-10T02:21:30.144Z"
   },
   {
    "duration": 3,
    "start_time": "2024-03-10T02:21:38.401Z"
   },
   {
    "duration": 3,
    "start_time": "2024-03-10T02:21:43.290Z"
   },
   {
    "duration": 4,
    "start_time": "2024-03-10T02:22:05.917Z"
   },
   {
    "duration": 4,
    "start_time": "2024-03-10T02:22:09.686Z"
   },
   {
    "duration": 3,
    "start_time": "2024-03-10T02:22:50.630Z"
   },
   {
    "duration": 105,
    "start_time": "2024-03-10T02:24:35.141Z"
   },
   {
    "duration": 93,
    "start_time": "2024-03-10T02:25:06.661Z"
   },
   {
    "duration": 97,
    "start_time": "2024-03-10T02:25:24.234Z"
   },
   {
    "duration": 125,
    "start_time": "2024-03-10T02:27:04.807Z"
   },
   {
    "duration": 120,
    "start_time": "2024-03-10T02:27:32.193Z"
   },
   {
    "duration": 171,
    "start_time": "2024-03-10T02:27:43.532Z"
   },
   {
    "duration": 54,
    "start_time": "2024-03-10T07:58:50.065Z"
   },
   {
    "duration": 1580,
    "start_time": "2024-03-10T07:58:55.530Z"
   },
   {
    "duration": 544,
    "start_time": "2024-03-10T07:58:57.113Z"
   },
   {
    "duration": 12,
    "start_time": "2024-03-10T07:58:57.658Z"
   },
   {
    "duration": 24,
    "start_time": "2024-03-10T07:58:57.673Z"
   },
   {
    "duration": 3,
    "start_time": "2024-03-10T07:58:57.698Z"
   },
   {
    "duration": 21,
    "start_time": "2024-03-10T07:58:57.703Z"
   },
   {
    "duration": 84,
    "start_time": "2024-03-10T07:58:57.726Z"
   },
   {
    "duration": 86,
    "start_time": "2024-03-10T07:58:57.811Z"
   },
   {
    "duration": 8,
    "start_time": "2024-03-10T07:58:57.899Z"
   },
   {
    "duration": 83,
    "start_time": "2024-03-10T07:58:57.909Z"
   },
   {
    "duration": 55,
    "start_time": "2024-03-10T07:58:57.993Z"
   },
   {
    "duration": 4,
    "start_time": "2024-03-10T07:58:58.050Z"
   },
   {
    "duration": 29,
    "start_time": "2024-03-10T07:58:58.055Z"
   },
   {
    "duration": 8,
    "start_time": "2024-03-10T07:58:58.086Z"
   },
   {
    "duration": 6,
    "start_time": "2024-03-10T07:58:58.096Z"
   },
   {
    "duration": 611,
    "start_time": "2024-03-10T07:58:58.103Z"
   },
   {
    "duration": 28,
    "start_time": "2024-03-10T07:58:58.716Z"
   },
   {
    "duration": 10,
    "start_time": "2024-03-10T07:58:58.746Z"
   },
   {
    "duration": 26,
    "start_time": "2024-03-10T07:58:58.757Z"
   },
   {
    "duration": 28,
    "start_time": "2024-03-10T07:58:58.784Z"
   },
   {
    "duration": 93,
    "start_time": "2024-03-10T07:58:58.814Z"
   },
   {
    "duration": 112,
    "start_time": "2024-03-10T07:58:58.908Z"
   },
   {
    "duration": 4,
    "start_time": "2024-03-10T07:58:59.021Z"
   },
   {
    "duration": 37,
    "start_time": "2024-03-10T07:58:59.027Z"
   },
   {
    "duration": 78,
    "start_time": "2024-03-10T07:58:59.083Z"
   },
   {
    "duration": 81,
    "start_time": "2024-03-10T07:58:59.163Z"
   },
   {
    "duration": 64,
    "start_time": "2024-03-10T07:58:59.245Z"
   },
   {
    "duration": 158,
    "start_time": "2024-03-10T07:58:59.313Z"
   },
   {
    "duration": 199,
    "start_time": "2024-03-10T07:58:59.473Z"
   },
   {
    "duration": 88,
    "start_time": "2024-03-10T07:58:59.683Z"
   },
   {
    "duration": 6,
    "start_time": "2024-03-10T07:58:59.783Z"
   },
   {
    "duration": 162,
    "start_time": "2024-03-10T07:58:59.791Z"
   },
   {
    "duration": 4,
    "start_time": "2024-03-10T07:58:59.955Z"
   },
   {
    "duration": 6,
    "start_time": "2024-03-10T07:58:59.960Z"
   },
   {
    "duration": 145,
    "start_time": "2024-03-10T07:58:59.981Z"
   },
   {
    "duration": 124,
    "start_time": "2024-03-10T07:59:00.128Z"
   },
   {
    "duration": 63,
    "start_time": "2024-03-10T08:01:10.267Z"
   },
   {
    "duration": 67,
    "start_time": "2024-03-10T08:01:11.896Z"
   },
   {
    "duration": 66,
    "start_time": "2024-03-10T08:01:47.513Z"
   },
   {
    "duration": 151,
    "start_time": "2024-03-10T08:03:53.890Z"
   },
   {
    "duration": 142,
    "start_time": "2024-03-10T08:06:18.315Z"
   },
   {
    "duration": 62,
    "start_time": "2024-03-10T08:09:13.443Z"
   },
   {
    "duration": 65,
    "start_time": "2024-03-10T08:09:27.603Z"
   },
   {
    "duration": 65,
    "start_time": "2024-03-10T08:11:21.237Z"
   },
   {
    "duration": 32,
    "start_time": "2024-03-10T08:11:22.372Z"
   },
   {
    "duration": 1367,
    "start_time": "2024-03-10T08:11:31.189Z"
   },
   {
    "duration": 189,
    "start_time": "2024-03-10T08:11:32.560Z"
   },
   {
    "duration": 12,
    "start_time": "2024-03-10T08:11:32.751Z"
   },
   {
    "duration": 52,
    "start_time": "2024-03-10T08:11:32.765Z"
   },
   {
    "duration": 3,
    "start_time": "2024-03-10T08:11:32.819Z"
   },
   {
    "duration": 22,
    "start_time": "2024-03-10T08:11:32.823Z"
   },
   {
    "duration": 83,
    "start_time": "2024-03-10T08:11:32.847Z"
   },
   {
    "duration": 89,
    "start_time": "2024-03-10T08:11:32.932Z"
   },
   {
    "duration": 8,
    "start_time": "2024-03-10T08:11:33.023Z"
   },
   {
    "duration": 115,
    "start_time": "2024-03-10T08:11:33.034Z"
   },
   {
    "duration": 66,
    "start_time": "2024-03-10T08:11:33.152Z"
   },
   {
    "duration": 5,
    "start_time": "2024-03-10T08:11:33.219Z"
   },
   {
    "duration": 11,
    "start_time": "2024-03-10T08:11:33.226Z"
   },
   {
    "duration": 4,
    "start_time": "2024-03-10T08:11:33.239Z"
   },
   {
    "duration": 40,
    "start_time": "2024-03-10T08:11:33.245Z"
   },
   {
    "duration": 564,
    "start_time": "2024-03-10T08:11:33.287Z"
   },
   {
    "duration": 38,
    "start_time": "2024-03-10T08:11:33.853Z"
   },
   {
    "duration": 12,
    "start_time": "2024-03-10T08:11:33.894Z"
   },
   {
    "duration": 9,
    "start_time": "2024-03-10T08:11:33.908Z"
   },
   {
    "duration": 68,
    "start_time": "2024-03-10T08:11:33.919Z"
   },
   {
    "duration": 96,
    "start_time": "2024-03-10T08:11:33.989Z"
   },
   {
    "duration": 97,
    "start_time": "2024-03-10T08:11:34.086Z"
   },
   {
    "duration": 4,
    "start_time": "2024-03-10T08:11:34.184Z"
   },
   {
    "duration": 77,
    "start_time": "2024-03-10T08:11:34.190Z"
   },
   {
    "duration": 39,
    "start_time": "2024-03-10T08:11:34.283Z"
   },
   {
    "duration": 160,
    "start_time": "2024-03-10T08:11:34.324Z"
   },
   {
    "duration": 71,
    "start_time": "2024-03-10T08:11:34.486Z"
   },
   {
    "duration": 67,
    "start_time": "2024-03-10T08:11:34.561Z"
   },
   {
    "duration": 203,
    "start_time": "2024-03-10T08:11:34.630Z"
   },
   {
    "duration": 95,
    "start_time": "2024-03-10T08:11:34.835Z"
   },
   {
    "duration": 5,
    "start_time": "2024-03-10T08:11:34.932Z"
   },
   {
    "duration": 132,
    "start_time": "2024-03-10T08:11:34.939Z"
   },
   {
    "duration": 10,
    "start_time": "2024-03-10T08:11:35.073Z"
   },
   {
    "duration": 11,
    "start_time": "2024-03-10T08:11:35.085Z"
   },
   {
    "duration": 168,
    "start_time": "2024-03-10T08:11:35.098Z"
   },
   {
    "duration": 128,
    "start_time": "2024-03-10T08:11:35.268Z"
   },
   {
    "duration": 42,
    "start_time": "2024-03-10T08:12:41.949Z"
   },
   {
    "duration": 64,
    "start_time": "2024-03-10T08:13:50.397Z"
   },
   {
    "duration": 49,
    "start_time": "2024-03-10T08:13:55.801Z"
   },
   {
    "duration": 6,
    "start_time": "2024-03-10T08:19:07.503Z"
   },
   {
    "duration": 5,
    "start_time": "2024-03-10T08:19:14.570Z"
   },
   {
    "duration": 5,
    "start_time": "2024-03-10T08:21:36.134Z"
   },
   {
    "duration": 107,
    "start_time": "2024-03-10T08:21:36.614Z"
   },
   {
    "duration": 63,
    "start_time": "2024-03-10T08:21:59.792Z"
   },
   {
    "duration": 65,
    "start_time": "2024-03-10T08:24:30.314Z"
   },
   {
    "duration": 103,
    "start_time": "2024-03-10T08:26:02.069Z"
   },
   {
    "duration": 68,
    "start_time": "2024-03-10T08:28:05.647Z"
   },
   {
    "duration": 59,
    "start_time": "2024-03-10T08:28:23.542Z"
   },
   {
    "duration": 62,
    "start_time": "2024-03-10T08:32:39.255Z"
   },
   {
    "duration": 16,
    "start_time": "2024-03-10T08:35:10.344Z"
   },
   {
    "duration": 1248,
    "start_time": "2024-03-10T09:23:02.831Z"
   },
   {
    "duration": 196,
    "start_time": "2024-03-10T09:23:04.082Z"
   },
   {
    "duration": 12,
    "start_time": "2024-03-10T09:23:04.280Z"
   },
   {
    "duration": 23,
    "start_time": "2024-03-10T09:23:04.294Z"
   },
   {
    "duration": 3,
    "start_time": "2024-03-10T09:23:04.319Z"
   },
   {
    "duration": 18,
    "start_time": "2024-03-10T09:23:04.323Z"
   },
   {
    "duration": 93,
    "start_time": "2024-03-10T09:23:04.342Z"
   },
   {
    "duration": 88,
    "start_time": "2024-03-10T09:23:04.436Z"
   },
   {
    "duration": 6,
    "start_time": "2024-03-10T09:23:04.526Z"
   },
   {
    "duration": 82,
    "start_time": "2024-03-10T09:23:04.536Z"
   },
   {
    "duration": 67,
    "start_time": "2024-03-10T09:23:04.621Z"
   },
   {
    "duration": 4,
    "start_time": "2024-03-10T09:23:04.690Z"
   },
   {
    "duration": 10,
    "start_time": "2024-03-10T09:23:04.696Z"
   },
   {
    "duration": 4,
    "start_time": "2024-03-10T09:23:04.708Z"
   },
   {
    "duration": 7,
    "start_time": "2024-03-10T09:23:04.714Z"
   },
   {
    "duration": 584,
    "start_time": "2024-03-10T09:23:04.723Z"
   },
   {
    "duration": 28,
    "start_time": "2024-03-10T09:23:05.308Z"
   },
   {
    "duration": 10,
    "start_time": "2024-03-10T09:23:05.338Z"
   },
   {
    "duration": 33,
    "start_time": "2024-03-10T09:23:05.350Z"
   },
   {
    "duration": 28,
    "start_time": "2024-03-10T09:23:05.385Z"
   },
   {
    "duration": 78,
    "start_time": "2024-03-10T09:23:05.415Z"
   },
   {
    "duration": 97,
    "start_time": "2024-03-10T09:23:05.495Z"
   },
   {
    "duration": 5,
    "start_time": "2024-03-10T09:23:05.594Z"
   },
   {
    "duration": 98,
    "start_time": "2024-03-10T09:23:05.600Z"
   },
   {
    "duration": 50,
    "start_time": "2024-03-10T09:23:05.699Z"
   },
   {
    "duration": 5,
    "start_time": "2024-03-10T09:23:05.750Z"
   },
   {
    "duration": 126,
    "start_time": "2024-03-10T09:23:05.757Z"
   },
   {
    "duration": 0,
    "start_time": "2024-03-10T09:23:05.886Z"
   },
   {
    "duration": 0,
    "start_time": "2024-03-10T09:23:05.887Z"
   },
   {
    "duration": 0,
    "start_time": "2024-03-10T09:23:05.889Z"
   },
   {
    "duration": 0,
    "start_time": "2024-03-10T09:23:05.890Z"
   },
   {
    "duration": 0,
    "start_time": "2024-03-10T09:23:05.890Z"
   },
   {
    "duration": 0,
    "start_time": "2024-03-10T09:23:05.891Z"
   },
   {
    "duration": 0,
    "start_time": "2024-03-10T09:23:05.892Z"
   },
   {
    "duration": 0,
    "start_time": "2024-03-10T09:23:05.893Z"
   },
   {
    "duration": 0,
    "start_time": "2024-03-10T09:23:05.895Z"
   },
   {
    "duration": 0,
    "start_time": "2024-03-10T09:23:05.896Z"
   },
   {
    "duration": 3,
    "start_time": "2024-03-10T09:24:12.171Z"
   },
   {
    "duration": 9,
    "start_time": "2024-03-10T09:24:12.607Z"
   },
   {
    "duration": 8,
    "start_time": "2024-03-10T09:24:49.174Z"
   },
   {
    "duration": 43,
    "start_time": "2024-03-10T09:24:54.378Z"
   },
   {
    "duration": 45,
    "start_time": "2024-03-10T09:25:03.463Z"
   },
   {
    "duration": 5,
    "start_time": "2024-03-10T09:25:05.404Z"
   },
   {
    "duration": 3,
    "start_time": "2024-03-10T09:25:05.992Z"
   },
   {
    "duration": 64,
    "start_time": "2024-03-10T09:25:06.427Z"
   },
   {
    "duration": 91,
    "start_time": "2024-03-10T09:25:29.137Z"
   },
   {
    "duration": 57,
    "start_time": "2024-03-10T09:25:43.035Z"
   },
   {
    "duration": 123,
    "start_time": "2024-03-10T09:26:09.219Z"
   },
   {
    "duration": 109,
    "start_time": "2024-03-10T09:26:48.849Z"
   },
   {
    "duration": 104,
    "start_time": "2024-03-10T09:27:29.322Z"
   },
   {
    "duration": 108,
    "start_time": "2024-03-10T09:28:47.136Z"
   },
   {
    "duration": 188,
    "start_time": "2024-03-10T09:28:56.281Z"
   },
   {
    "duration": 81,
    "start_time": "2024-03-10T09:31:45.801Z"
   },
   {
    "duration": 67,
    "start_time": "2024-03-10T09:32:20.736Z"
   },
   {
    "duration": 4,
    "start_time": "2024-03-10T09:32:31.321Z"
   },
   {
    "duration": 1127,
    "start_time": "2024-03-10T09:32:46.187Z"
   },
   {
    "duration": 1194,
    "start_time": "2024-03-10T09:33:18.144Z"
   },
   {
    "duration": 5,
    "start_time": "2024-03-10T09:49:13.256Z"
   },
   {
    "duration": 8,
    "start_time": "2024-03-10T09:51:32.728Z"
   },
   {
    "duration": 439,
    "start_time": "2024-03-10T09:53:12.216Z"
   },
   {
    "duration": 460,
    "start_time": "2024-03-10T09:53:57.929Z"
   },
   {
    "duration": 368,
    "start_time": "2024-03-10T09:54:27.565Z"
   },
   {
    "duration": 92,
    "start_time": "2024-03-10T09:55:24.255Z"
   },
   {
    "duration": 1182,
    "start_time": "2024-03-10T09:55:33.248Z"
   },
   {
    "duration": 112,
    "start_time": "2024-03-10T09:55:44.049Z"
   },
   {
    "duration": 7,
    "start_time": "2024-03-10T09:55:46.019Z"
   },
   {
    "duration": 1165,
    "start_time": "2024-03-10T09:56:11.167Z"
   },
   {
    "duration": 1092,
    "start_time": "2024-03-10T09:56:48.613Z"
   },
   {
    "duration": 287,
    "start_time": "2024-03-10T09:58:04.422Z"
   },
   {
    "duration": 275,
    "start_time": "2024-03-10T09:58:51.715Z"
   },
   {
    "duration": 260,
    "start_time": "2024-03-10T09:59:13.554Z"
   },
   {
    "duration": 55,
    "start_time": "2024-03-10T10:01:17.366Z"
   },
   {
    "duration": 54,
    "start_time": "2024-03-10T10:01:51.122Z"
   },
   {
    "duration": 53,
    "start_time": "2024-03-10T10:02:33.983Z"
   },
   {
    "duration": 53,
    "start_time": "2024-03-10T10:02:42.589Z"
   },
   {
    "duration": 65,
    "start_time": "2024-03-10T10:03:02.473Z"
   },
   {
    "duration": 55,
    "start_time": "2024-03-10T10:03:17.158Z"
   },
   {
    "duration": 60,
    "start_time": "2024-03-10T10:03:56.816Z"
   },
   {
    "duration": 53,
    "start_time": "2024-03-10T10:04:08.670Z"
   },
   {
    "duration": 57,
    "start_time": "2024-03-10T10:04:44.418Z"
   },
   {
    "duration": 53,
    "start_time": "2024-03-10T10:04:59.742Z"
   },
   {
    "duration": 82,
    "start_time": "2024-03-10T10:18:04.530Z"
   },
   {
    "duration": 104,
    "start_time": "2024-03-10T10:18:14.497Z"
   },
   {
    "duration": 80,
    "start_time": "2024-03-10T10:19:05.904Z"
   },
   {
    "duration": 100,
    "start_time": "2024-03-10T10:20:23.352Z"
   },
   {
    "duration": 64,
    "start_time": "2024-03-10T10:20:28.350Z"
   },
   {
    "duration": 44,
    "start_time": "2024-03-10T10:20:29.433Z"
   },
   {
    "duration": 83,
    "start_time": "2024-03-10T10:24:43.996Z"
   },
   {
    "duration": 90,
    "start_time": "2024-03-10T10:25:20.073Z"
   },
   {
    "duration": 96,
    "start_time": "2024-03-10T10:26:15.385Z"
   },
   {
    "duration": 52,
    "start_time": "2024-03-10T10:26:16.455Z"
   },
   {
    "duration": 95,
    "start_time": "2024-03-10T10:26:16.607Z"
   },
   {
    "duration": 6,
    "start_time": "2024-03-10T10:26:17.053Z"
   },
   {
    "duration": 3,
    "start_time": "2024-03-10T10:26:17.200Z"
   },
   {
    "duration": 71,
    "start_time": "2024-03-10T10:26:17.384Z"
   },
   {
    "duration": 92,
    "start_time": "2024-03-10T10:26:18.399Z"
   },
   {
    "duration": 106,
    "start_time": "2024-03-10T10:26:18.960Z"
   },
   {
    "duration": 7,
    "start_time": "2024-03-10T10:26:19.460Z"
   },
   {
    "duration": 61,
    "start_time": "2024-03-10T10:26:20.700Z"
   },
   {
    "duration": 59,
    "start_time": "2024-03-10T10:26:22.102Z"
   },
   {
    "duration": 60,
    "start_time": "2024-03-10T10:26:23.345Z"
   },
   {
    "duration": 1219,
    "start_time": "2024-03-10T10:26:47.599Z"
   },
   {
    "duration": 1360,
    "start_time": "2024-03-10T10:26:57.632Z"
   },
   {
    "duration": 197,
    "start_time": "2024-03-10T10:26:58.995Z"
   },
   {
    "duration": 12,
    "start_time": "2024-03-10T10:26:59.195Z"
   },
   {
    "duration": 23,
    "start_time": "2024-03-10T10:26:59.209Z"
   },
   {
    "duration": 3,
    "start_time": "2024-03-10T10:26:59.233Z"
   },
   {
    "duration": 17,
    "start_time": "2024-03-10T10:26:59.238Z"
   },
   {
    "duration": 103,
    "start_time": "2024-03-10T10:26:59.257Z"
   },
   {
    "duration": 100,
    "start_time": "2024-03-10T10:26:59.361Z"
   },
   {
    "duration": 22,
    "start_time": "2024-03-10T10:26:59.463Z"
   },
   {
    "duration": 82,
    "start_time": "2024-03-10T10:26:59.489Z"
   },
   {
    "duration": 71,
    "start_time": "2024-03-10T10:26:59.581Z"
   },
   {
    "duration": 4,
    "start_time": "2024-03-10T10:26:59.654Z"
   },
   {
    "duration": 24,
    "start_time": "2024-03-10T10:26:59.659Z"
   },
   {
    "duration": 5,
    "start_time": "2024-03-10T10:26:59.687Z"
   },
   {
    "duration": 7,
    "start_time": "2024-03-10T10:26:59.694Z"
   },
   {
    "duration": 570,
    "start_time": "2024-03-10T10:26:59.702Z"
   },
   {
    "duration": 38,
    "start_time": "2024-03-10T10:27:00.273Z"
   },
   {
    "duration": 22,
    "start_time": "2024-03-10T10:27:00.312Z"
   },
   {
    "duration": 87,
    "start_time": "2024-03-10T10:27:00.335Z"
   },
   {
    "duration": 75,
    "start_time": "2024-03-10T10:27:00.423Z"
   },
   {
    "duration": 122,
    "start_time": "2024-03-10T10:27:00.499Z"
   },
   {
    "duration": 99,
    "start_time": "2024-03-10T10:27:00.622Z"
   },
   {
    "duration": 51,
    "start_time": "2024-03-10T10:27:00.723Z"
   },
   {
    "duration": 160,
    "start_time": "2024-03-10T10:27:00.776Z"
   },
   {
    "duration": 71,
    "start_time": "2024-03-10T10:27:00.938Z"
   },
   {
    "duration": 95,
    "start_time": "2024-03-10T10:27:01.011Z"
   },
   {
    "duration": 5,
    "start_time": "2024-03-10T10:27:01.107Z"
   },
   {
    "duration": 48,
    "start_time": "2024-03-10T10:27:01.116Z"
   },
   {
    "duration": 112,
    "start_time": "2024-03-10T10:27:01.165Z"
   },
   {
    "duration": 114,
    "start_time": "2024-03-10T10:27:01.278Z"
   },
   {
    "duration": 141,
    "start_time": "2024-03-10T10:27:01.394Z"
   },
   {
    "duration": 8,
    "start_time": "2024-03-10T10:27:01.537Z"
   },
   {
    "duration": 179,
    "start_time": "2024-03-10T10:27:01.547Z"
   },
   {
    "duration": 116,
    "start_time": "2024-03-10T10:27:01.728Z"
   },
   {
    "duration": 136,
    "start_time": "2024-03-10T10:27:01.846Z"
   },
   {
    "duration": 1313,
    "start_time": "2024-03-10T10:27:01.987Z"
   },
   {
    "duration": 0,
    "start_time": "2024-03-10T10:27:03.301Z"
   },
   {
    "duration": 0,
    "start_time": "2024-03-10T10:27:03.303Z"
   },
   {
    "duration": 0,
    "start_time": "2024-03-10T10:27:03.304Z"
   },
   {
    "duration": 0,
    "start_time": "2024-03-10T10:27:03.305Z"
   },
   {
    "duration": 0,
    "start_time": "2024-03-10T10:27:03.306Z"
   },
   {
    "duration": 0,
    "start_time": "2024-03-10T10:27:03.307Z"
   },
   {
    "duration": 0,
    "start_time": "2024-03-10T10:27:03.308Z"
   },
   {
    "duration": 643,
    "start_time": "2024-03-10T10:29:01.064Z"
   },
   {
    "duration": 1315,
    "start_time": "2024-03-10T10:30:15.043Z"
   },
   {
    "duration": 123,
    "start_time": "2024-03-10T10:34:22.008Z"
   },
   {
    "duration": 1388,
    "start_time": "2024-03-10T10:34:43.394Z"
   },
   {
    "duration": 1323,
    "start_time": "2024-03-10T10:35:17.520Z"
   },
   {
    "duration": 1365,
    "start_time": "2024-03-10T10:35:46.549Z"
   },
   {
    "duration": 202,
    "start_time": "2024-03-10T10:35:47.916Z"
   },
   {
    "duration": 11,
    "start_time": "2024-03-10T10:35:48.119Z"
   },
   {
    "duration": 33,
    "start_time": "2024-03-10T10:35:48.132Z"
   },
   {
    "duration": 3,
    "start_time": "2024-03-10T10:35:48.167Z"
   },
   {
    "duration": 30,
    "start_time": "2024-03-10T10:35:48.182Z"
   },
   {
    "duration": 84,
    "start_time": "2024-03-10T10:35:48.214Z"
   },
   {
    "duration": 72,
    "start_time": "2024-03-10T10:35:48.299Z"
   },
   {
    "duration": 19,
    "start_time": "2024-03-10T10:35:48.373Z"
   },
   {
    "duration": 105,
    "start_time": "2024-03-10T10:35:48.394Z"
   },
   {
    "duration": 55,
    "start_time": "2024-03-10T10:35:48.500Z"
   },
   {
    "duration": 35,
    "start_time": "2024-03-10T10:35:48.556Z"
   },
   {
    "duration": 33,
    "start_time": "2024-03-10T10:35:48.595Z"
   },
   {
    "duration": 10,
    "start_time": "2024-03-10T10:35:48.631Z"
   },
   {
    "duration": 23,
    "start_time": "2024-03-10T10:35:48.643Z"
   },
   {
    "duration": 560,
    "start_time": "2024-03-10T10:35:48.667Z"
   },
   {
    "duration": 28,
    "start_time": "2024-03-10T10:35:49.229Z"
   },
   {
    "duration": 24,
    "start_time": "2024-03-10T10:35:49.258Z"
   },
   {
    "duration": 16,
    "start_time": "2024-03-10T10:35:49.285Z"
   },
   {
    "duration": 50,
    "start_time": "2024-03-10T10:35:49.302Z"
   },
   {
    "duration": 100,
    "start_time": "2024-03-10T10:35:49.353Z"
   },
   {
    "duration": 106,
    "start_time": "2024-03-10T10:35:49.455Z"
   },
   {
    "duration": 4,
    "start_time": "2024-03-10T10:35:49.563Z"
   },
   {
    "duration": 112,
    "start_time": "2024-03-10T10:35:49.568Z"
   },
   {
    "duration": 58,
    "start_time": "2024-03-10T10:35:49.683Z"
   },
   {
    "duration": 105,
    "start_time": "2024-03-10T10:35:49.743Z"
   },
   {
    "duration": 6,
    "start_time": "2024-03-10T10:35:49.850Z"
   },
   {
    "duration": 15,
    "start_time": "2024-03-10T10:35:49.860Z"
   },
   {
    "duration": 76,
    "start_time": "2024-03-10T10:35:49.876Z"
   },
   {
    "duration": 117,
    "start_time": "2024-03-10T10:35:49.954Z"
   },
   {
    "duration": 133,
    "start_time": "2024-03-10T10:35:50.073Z"
   },
   {
    "duration": 6,
    "start_time": "2024-03-10T10:35:50.208Z"
   },
   {
    "duration": 75,
    "start_time": "2024-03-10T10:35:50.215Z"
   },
   {
    "duration": 61,
    "start_time": "2024-03-10T10:35:50.293Z"
   },
   {
    "duration": 83,
    "start_time": "2024-03-10T10:35:50.356Z"
   },
   {
    "duration": 1403,
    "start_time": "2024-03-10T10:35:50.442Z"
   },
   {
    "duration": 0,
    "start_time": "2024-03-10T10:35:51.847Z"
   },
   {
    "duration": 0,
    "start_time": "2024-03-10T10:35:51.848Z"
   },
   {
    "duration": 0,
    "start_time": "2024-03-10T10:35:51.849Z"
   },
   {
    "duration": 0,
    "start_time": "2024-03-10T10:35:51.851Z"
   },
   {
    "duration": 0,
    "start_time": "2024-03-10T10:35:51.852Z"
   },
   {
    "duration": 0,
    "start_time": "2024-03-10T10:35:51.853Z"
   },
   {
    "duration": 0,
    "start_time": "2024-03-10T10:35:51.854Z"
   },
   {
    "duration": 0,
    "start_time": "2024-03-10T10:35:51.855Z"
   },
   {
    "duration": 70,
    "start_time": "2024-03-10T10:37:25.115Z"
   },
   {
    "duration": 1168,
    "start_time": "2024-03-10T10:37:34.385Z"
   },
   {
    "duration": 110,
    "start_time": "2024-03-10T10:38:13.520Z"
   },
   {
    "duration": 121,
    "start_time": "2024-03-10T10:38:23.108Z"
   },
   {
    "duration": 51,
    "start_time": "2024-03-10T10:38:50.374Z"
   },
   {
    "duration": 44,
    "start_time": "2024-03-10T10:39:13.287Z"
   },
   {
    "duration": 46,
    "start_time": "2024-03-10T10:39:22.631Z"
   },
   {
    "duration": 5,
    "start_time": "2024-03-10T10:39:23.674Z"
   },
   {
    "duration": 3,
    "start_time": "2024-03-10T10:39:23.867Z"
   },
   {
    "duration": 64,
    "start_time": "2024-03-10T10:39:24.629Z"
   },
   {
    "duration": 118,
    "start_time": "2024-03-10T10:39:25.260Z"
   },
   {
    "duration": 116,
    "start_time": "2024-03-10T10:39:26.085Z"
   },
   {
    "duration": 8,
    "start_time": "2024-03-10T10:39:26.811Z"
   },
   {
    "duration": 54,
    "start_time": "2024-03-10T10:39:27.472Z"
   },
   {
    "duration": 60,
    "start_time": "2024-03-10T10:39:28.133Z"
   },
   {
    "duration": 56,
    "start_time": "2024-03-10T10:39:28.688Z"
   },
   {
    "duration": 1344,
    "start_time": "2024-03-10T10:39:32.026Z"
   },
   {
    "duration": 187,
    "start_time": "2024-03-10T10:39:33.372Z"
   },
   {
    "duration": 11,
    "start_time": "2024-03-10T10:39:33.562Z"
   },
   {
    "duration": 28,
    "start_time": "2024-03-10T10:39:33.575Z"
   },
   {
    "duration": 3,
    "start_time": "2024-03-10T10:39:33.605Z"
   },
   {
    "duration": 31,
    "start_time": "2024-03-10T10:39:33.609Z"
   },
   {
    "duration": 92,
    "start_time": "2024-03-10T10:39:33.642Z"
   },
   {
    "duration": 96,
    "start_time": "2024-03-10T10:39:33.736Z"
   },
   {
    "duration": 8,
    "start_time": "2024-03-10T10:39:33.834Z"
   },
   {
    "duration": 101,
    "start_time": "2024-03-10T10:39:33.843Z"
   },
   {
    "duration": 65,
    "start_time": "2024-03-10T10:39:33.946Z"
   },
   {
    "duration": 4,
    "start_time": "2024-03-10T10:39:34.012Z"
   },
   {
    "duration": 11,
    "start_time": "2024-03-10T10:39:34.018Z"
   },
   {
    "duration": 4,
    "start_time": "2024-03-10T10:39:34.032Z"
   },
   {
    "duration": 13,
    "start_time": "2024-03-10T10:39:34.037Z"
   },
   {
    "duration": 564,
    "start_time": "2024-03-10T10:39:34.052Z"
   },
   {
    "duration": 28,
    "start_time": "2024-03-10T10:39:34.617Z"
   },
   {
    "duration": 10,
    "start_time": "2024-03-10T10:39:34.647Z"
   },
   {
    "duration": 26,
    "start_time": "2024-03-10T10:39:34.658Z"
   },
   {
    "duration": 28,
    "start_time": "2024-03-10T10:39:34.685Z"
   },
   {
    "duration": 84,
    "start_time": "2024-03-10T10:39:34.715Z"
   },
   {
    "duration": 101,
    "start_time": "2024-03-10T10:39:34.801Z"
   },
   {
    "duration": 5,
    "start_time": "2024-03-10T10:39:34.903Z"
   },
   {
    "duration": 121,
    "start_time": "2024-03-10T10:39:34.909Z"
   },
   {
    "duration": 62,
    "start_time": "2024-03-10T10:39:35.032Z"
   },
   {
    "duration": 61,
    "start_time": "2024-03-10T10:39:35.096Z"
   },
   {
    "duration": 24,
    "start_time": "2024-03-10T10:39:35.159Z"
   },
   {
    "duration": 7,
    "start_time": "2024-03-10T10:39:35.184Z"
   },
   {
    "duration": 73,
    "start_time": "2024-03-10T10:39:35.192Z"
   },
   {
    "duration": 103,
    "start_time": "2024-03-10T10:39:35.266Z"
   },
   {
    "duration": 127,
    "start_time": "2024-03-10T10:39:35.371Z"
   },
   {
    "duration": 7,
    "start_time": "2024-03-10T10:39:35.500Z"
   },
   {
    "duration": 72,
    "start_time": "2024-03-10T10:39:35.509Z"
   },
   {
    "duration": 55,
    "start_time": "2024-03-10T10:39:35.583Z"
   },
   {
    "duration": 83,
    "start_time": "2024-03-10T10:39:35.640Z"
   },
   {
    "duration": 210,
    "start_time": "2024-03-10T10:39:35.724Z"
   },
   {
    "duration": 6,
    "start_time": "2024-03-10T10:39:35.936Z"
   },
   {
    "duration": 124,
    "start_time": "2024-03-10T10:39:35.944Z"
   },
   {
    "duration": 0,
    "start_time": "2024-03-10T10:39:36.070Z"
   },
   {
    "duration": 0,
    "start_time": "2024-03-10T10:39:36.082Z"
   },
   {
    "duration": 0,
    "start_time": "2024-03-10T10:39:36.083Z"
   },
   {
    "duration": 0,
    "start_time": "2024-03-10T10:39:36.084Z"
   },
   {
    "duration": 44,
    "start_time": "2024-03-10T10:39:47.852Z"
   },
   {
    "duration": 48,
    "start_time": "2024-03-10T10:40:00.999Z"
   },
   {
    "duration": 47,
    "start_time": "2024-03-10T10:40:42.504Z"
   },
   {
    "duration": 118,
    "start_time": "2024-03-10T10:41:33.517Z"
   },
   {
    "duration": 59,
    "start_time": "2024-03-10T10:41:49.314Z"
   },
   {
    "duration": 121,
    "start_time": "2024-03-10T10:42:04.366Z"
   },
   {
    "duration": 129,
    "start_time": "2024-03-10T10:43:57.953Z"
   },
   {
    "duration": 123,
    "start_time": "2024-03-10T10:44:49.866Z"
   },
   {
    "duration": 121,
    "start_time": "2024-03-10T10:45:57.911Z"
   },
   {
    "duration": 145,
    "start_time": "2024-03-10T10:46:52.455Z"
   },
   {
    "duration": 124,
    "start_time": "2024-03-10T10:47:02.710Z"
   },
   {
    "duration": 174,
    "start_time": "2024-03-10T10:48:03.044Z"
   },
   {
    "duration": 162,
    "start_time": "2024-03-10T10:48:25.346Z"
   },
   {
    "duration": 1239,
    "start_time": "2024-03-10T10:49:11.142Z"
   },
   {
    "duration": 1257,
    "start_time": "2024-03-10T10:49:57.035Z"
   },
   {
    "duration": 58,
    "start_time": "2024-03-10T10:50:12.251Z"
   },
   {
    "duration": 1200,
    "start_time": "2024-03-10T10:50:31.572Z"
   },
   {
    "duration": 60,
    "start_time": "2024-03-10T10:51:42.710Z"
   },
   {
    "duration": 1337,
    "start_time": "2024-03-10T10:51:55.037Z"
   },
   {
    "duration": 189,
    "start_time": "2024-03-10T10:51:56.376Z"
   },
   {
    "duration": 18,
    "start_time": "2024-03-10T10:51:56.567Z"
   },
   {
    "duration": 24,
    "start_time": "2024-03-10T10:51:56.587Z"
   },
   {
    "duration": 4,
    "start_time": "2024-03-10T10:51:56.612Z"
   },
   {
    "duration": 27,
    "start_time": "2024-03-10T10:51:56.617Z"
   },
   {
    "duration": 88,
    "start_time": "2024-03-10T10:51:56.645Z"
   },
   {
    "duration": 81,
    "start_time": "2024-03-10T10:51:56.734Z"
   },
   {
    "duration": 8,
    "start_time": "2024-03-10T10:51:56.816Z"
   },
   {
    "duration": 90,
    "start_time": "2024-03-10T10:51:56.827Z"
   },
   {
    "duration": 68,
    "start_time": "2024-03-10T10:51:56.918Z"
   },
   {
    "duration": 3,
    "start_time": "2024-03-10T10:51:56.988Z"
   },
   {
    "duration": 8,
    "start_time": "2024-03-10T10:51:56.993Z"
   },
   {
    "duration": 4,
    "start_time": "2024-03-10T10:51:57.002Z"
   },
   {
    "duration": 6,
    "start_time": "2024-03-10T10:51:57.007Z"
   },
   {
    "duration": 599,
    "start_time": "2024-03-10T10:51:57.015Z"
   },
   {
    "duration": 27,
    "start_time": "2024-03-10T10:51:57.615Z"
   },
   {
    "duration": 10,
    "start_time": "2024-03-10T10:51:57.644Z"
   },
   {
    "duration": 29,
    "start_time": "2024-03-10T10:51:57.656Z"
   },
   {
    "duration": 28,
    "start_time": "2024-03-10T10:51:57.686Z"
   },
   {
    "duration": 80,
    "start_time": "2024-03-10T10:51:57.716Z"
   },
   {
    "duration": 100,
    "start_time": "2024-03-10T10:51:57.797Z"
   },
   {
    "duration": 4,
    "start_time": "2024-03-10T10:51:57.899Z"
   },
   {
    "duration": 115,
    "start_time": "2024-03-10T10:51:57.904Z"
   },
   {
    "duration": 61,
    "start_time": "2024-03-10T10:51:58.021Z"
   },
   {
    "duration": 6,
    "start_time": "2024-03-10T10:51:58.084Z"
   },
   {
    "duration": 15,
    "start_time": "2024-03-10T10:51:58.091Z"
   },
   {
    "duration": 73,
    "start_time": "2024-03-10T10:51:58.109Z"
   },
   {
    "duration": 99,
    "start_time": "2024-03-10T10:51:58.184Z"
   },
   {
    "duration": 115,
    "start_time": "2024-03-10T10:51:58.285Z"
   },
   {
    "duration": 7,
    "start_time": "2024-03-10T10:51:58.402Z"
   },
   {
    "duration": 56,
    "start_time": "2024-03-10T10:51:58.411Z"
   },
   {
    "duration": 55,
    "start_time": "2024-03-10T10:51:58.483Z"
   },
   {
    "duration": 70,
    "start_time": "2024-03-10T10:51:58.540Z"
   },
   {
    "duration": 47,
    "start_time": "2024-03-10T10:51:58.612Z"
   },
   {
    "duration": 1434,
    "start_time": "2024-03-10T10:51:58.683Z"
   },
   {
    "duration": 0,
    "start_time": "2024-03-10T10:52:00.119Z"
   },
   {
    "duration": 0,
    "start_time": "2024-03-10T10:52:00.120Z"
   },
   {
    "duration": 0,
    "start_time": "2024-03-10T10:52:00.122Z"
   },
   {
    "duration": 0,
    "start_time": "2024-03-10T10:52:00.124Z"
   },
   {
    "duration": 0,
    "start_time": "2024-03-10T10:52:00.125Z"
   },
   {
    "duration": 0,
    "start_time": "2024-03-10T10:52:00.127Z"
   },
   {
    "duration": 47,
    "start_time": "2024-03-10T10:52:12.219Z"
   },
   {
    "duration": 91,
    "start_time": "2024-03-10T10:52:26.890Z"
   },
   {
    "duration": 44,
    "start_time": "2024-03-10T10:52:27.975Z"
   },
   {
    "duration": 8,
    "start_time": "2024-03-10T10:52:30.299Z"
   },
   {
    "duration": 3,
    "start_time": "2024-03-10T10:52:30.796Z"
   },
   {
    "duration": 78,
    "start_time": "2024-03-10T10:52:31.746Z"
   },
   {
    "duration": 92,
    "start_time": "2024-03-10T10:52:32.767Z"
   },
   {
    "duration": 91,
    "start_time": "2024-03-10T10:52:35.550Z"
   },
   {
    "duration": 6,
    "start_time": "2024-03-10T10:52:36.406Z"
   },
   {
    "duration": 54,
    "start_time": "2024-03-10T10:52:36.983Z"
   },
   {
    "duration": 60,
    "start_time": "2024-03-10T10:52:37.396Z"
   },
   {
    "duration": 51,
    "start_time": "2024-03-10T10:52:37.996Z"
   },
   {
    "duration": 45,
    "start_time": "2024-03-10T10:52:38.372Z"
   },
   {
    "duration": 1149,
    "start_time": "2024-03-10T10:52:38.565Z"
   },
   {
    "duration": 0,
    "start_time": "2024-03-10T10:52:39.716Z"
   },
   {
    "duration": 0,
    "start_time": "2024-03-10T10:52:39.718Z"
   },
   {
    "duration": 1207,
    "start_time": "2024-03-10T10:53:41.273Z"
   },
   {
    "duration": 1331,
    "start_time": "2024-03-10T10:53:54.376Z"
   },
   {
    "duration": 196,
    "start_time": "2024-03-10T10:53:55.709Z"
   },
   {
    "duration": 16,
    "start_time": "2024-03-10T10:53:55.907Z"
   },
   {
    "duration": 61,
    "start_time": "2024-03-10T10:53:55.926Z"
   },
   {
    "duration": 15,
    "start_time": "2024-03-10T10:53:55.988Z"
   },
   {
    "duration": 30,
    "start_time": "2024-03-10T10:53:56.005Z"
   },
   {
    "duration": 125,
    "start_time": "2024-03-10T10:53:56.036Z"
   },
   {
    "duration": 86,
    "start_time": "2024-03-10T10:53:56.162Z"
   },
   {
    "duration": 10,
    "start_time": "2024-03-10T10:53:56.250Z"
   },
   {
    "duration": 107,
    "start_time": "2024-03-10T10:53:56.263Z"
   },
   {
    "duration": 63,
    "start_time": "2024-03-10T10:53:56.371Z"
   },
   {
    "duration": 29,
    "start_time": "2024-03-10T10:53:56.436Z"
   },
   {
    "duration": 23,
    "start_time": "2024-03-10T10:53:56.467Z"
   },
   {
    "duration": 35,
    "start_time": "2024-03-10T10:53:56.492Z"
   },
   {
    "duration": 34,
    "start_time": "2024-03-10T10:53:56.528Z"
   },
   {
    "duration": 558,
    "start_time": "2024-03-10T10:53:56.564Z"
   },
   {
    "duration": 30,
    "start_time": "2024-03-10T10:53:57.124Z"
   },
   {
    "duration": 29,
    "start_time": "2024-03-10T10:53:57.156Z"
   },
   {
    "duration": 14,
    "start_time": "2024-03-10T10:53:57.187Z"
   },
   {
    "duration": 35,
    "start_time": "2024-03-10T10:53:57.203Z"
   },
   {
    "duration": 69,
    "start_time": "2024-03-10T10:53:57.240Z"
   },
   {
    "duration": 100,
    "start_time": "2024-03-10T10:53:57.312Z"
   },
   {
    "duration": 5,
    "start_time": "2024-03-10T10:53:57.414Z"
   },
   {
    "duration": 112,
    "start_time": "2024-03-10T10:53:57.420Z"
   },
   {
    "duration": 58,
    "start_time": "2024-03-10T10:53:57.534Z"
   },
   {
    "duration": 6,
    "start_time": "2024-03-10T10:53:57.594Z"
   },
   {
    "duration": 22,
    "start_time": "2024-03-10T10:53:57.601Z"
   },
   {
    "duration": 80,
    "start_time": "2024-03-10T10:53:57.626Z"
   },
   {
    "duration": 96,
    "start_time": "2024-03-10T10:53:57.707Z"
   },
   {
    "duration": 120,
    "start_time": "2024-03-10T10:53:57.804Z"
   },
   {
    "duration": 9,
    "start_time": "2024-03-10T10:53:57.926Z"
   },
   {
    "duration": 79,
    "start_time": "2024-03-10T10:53:57.936Z"
   },
   {
    "duration": 72,
    "start_time": "2024-03-10T10:53:58.017Z"
   },
   {
    "duration": 53,
    "start_time": "2024-03-10T10:53:58.091Z"
   },
   {
    "duration": 215,
    "start_time": "2024-03-10T10:53:58.145Z"
   },
   {
    "duration": 126,
    "start_time": "2024-03-10T10:53:58.362Z"
   },
   {
    "duration": 0,
    "start_time": "2024-03-10T10:53:58.490Z"
   },
   {
    "duration": 0,
    "start_time": "2024-03-10T10:53:58.491Z"
   },
   {
    "duration": 0,
    "start_time": "2024-03-10T10:53:58.492Z"
   },
   {
    "duration": 0,
    "start_time": "2024-03-10T10:53:58.493Z"
   },
   {
    "duration": 17,
    "start_time": "2024-03-10T10:57:26.865Z"
   },
   {
    "duration": 9,
    "start_time": "2024-03-10T11:04:43.053Z"
   },
   {
    "duration": 8,
    "start_time": "2024-03-10T11:04:49.743Z"
   },
   {
    "duration": 93,
    "start_time": "2024-03-10T11:04:54.150Z"
   },
   {
    "duration": 8,
    "start_time": "2024-03-10T11:04:55.057Z"
   },
   {
    "duration": 16,
    "start_time": "2024-03-10T11:05:03.235Z"
   },
   {
    "duration": 17,
    "start_time": "2024-03-10T11:06:06.119Z"
   },
   {
    "duration": 99,
    "start_time": "2024-03-10T11:08:05.161Z"
   },
   {
    "duration": 97,
    "start_time": "2024-03-10T11:08:11.551Z"
   },
   {
    "duration": 93,
    "start_time": "2024-03-10T11:08:22.236Z"
   },
   {
    "duration": 1173,
    "start_time": "2024-03-10T11:09:21.038Z"
   },
   {
    "duration": 75,
    "start_time": "2024-03-10T11:09:42.894Z"
   },
   {
    "duration": 93,
    "start_time": "2024-03-10T11:09:49.973Z"
   },
   {
    "duration": 122,
    "start_time": "2024-03-10T11:12:12.442Z"
   },
   {
    "duration": 80,
    "start_time": "2024-03-10T11:12:53.863Z"
   },
   {
    "duration": 1318,
    "start_time": "2024-03-10T11:13:31.332Z"
   },
   {
    "duration": 127,
    "start_time": "2024-03-10T11:13:54.109Z"
   },
   {
    "duration": 1281,
    "start_time": "2024-03-10T11:15:55.939Z"
   },
   {
    "duration": 1335,
    "start_time": "2024-03-10T11:17:20.936Z"
   },
   {
    "duration": 139,
    "start_time": "2024-03-10T11:17:38.405Z"
   },
   {
    "duration": 150,
    "start_time": "2024-03-10T11:18:37.342Z"
   },
   {
    "duration": 154,
    "start_time": "2024-03-10T11:19:14.876Z"
   },
   {
    "duration": 1285,
    "start_time": "2024-03-10T11:20:10.821Z"
   },
   {
    "duration": 18,
    "start_time": "2024-03-10T11:23:45.892Z"
   },
   {
    "duration": 4,
    "start_time": "2024-03-10T11:23:58.623Z"
   },
   {
    "duration": 7,
    "start_time": "2024-03-10T11:24:48.725Z"
   },
   {
    "duration": 6,
    "start_time": "2024-03-10T11:25:02.057Z"
   },
   {
    "duration": 18,
    "start_time": "2024-03-10T11:25:09.987Z"
   },
   {
    "duration": 6,
    "start_time": "2024-03-10T11:25:10.963Z"
   },
   {
    "duration": 15,
    "start_time": "2024-03-10T11:25:22.764Z"
   },
   {
    "duration": 16,
    "start_time": "2024-03-10T11:25:35.210Z"
   },
   {
    "duration": 141,
    "start_time": "2024-03-10T11:25:44.530Z"
   },
   {
    "duration": 1172,
    "start_time": "2024-03-10T11:25:47.932Z"
   },
   {
    "duration": 1233,
    "start_time": "2024-03-10T11:26:50.534Z"
   },
   {
    "duration": 1159,
    "start_time": "2024-03-10T11:27:57.599Z"
   },
   {
    "duration": 1280,
    "start_time": "2024-03-10T11:28:21.602Z"
   },
   {
    "duration": 198,
    "start_time": "2024-03-10T11:28:22.884Z"
   },
   {
    "duration": 11,
    "start_time": "2024-03-10T11:28:23.084Z"
   },
   {
    "duration": 25,
    "start_time": "2024-03-10T11:28:23.097Z"
   },
   {
    "duration": 3,
    "start_time": "2024-03-10T11:28:23.124Z"
   },
   {
    "duration": 30,
    "start_time": "2024-03-10T11:28:23.128Z"
   },
   {
    "duration": 71,
    "start_time": "2024-03-10T11:28:23.181Z"
   },
   {
    "duration": 88,
    "start_time": "2024-03-10T11:28:23.254Z"
   },
   {
    "duration": 8,
    "start_time": "2024-03-10T11:28:23.344Z"
   },
   {
    "duration": 87,
    "start_time": "2024-03-10T11:28:23.355Z"
   },
   {
    "duration": 65,
    "start_time": "2024-03-10T11:28:23.444Z"
   },
   {
    "duration": 3,
    "start_time": "2024-03-10T11:28:23.511Z"
   },
   {
    "duration": 9,
    "start_time": "2024-03-10T11:28:23.516Z"
   },
   {
    "duration": 4,
    "start_time": "2024-03-10T11:28:23.526Z"
   },
   {
    "duration": 9,
    "start_time": "2024-03-10T11:28:23.531Z"
   },
   {
    "duration": 573,
    "start_time": "2024-03-10T11:28:23.541Z"
   },
   {
    "duration": 29,
    "start_time": "2024-03-10T11:28:24.116Z"
   },
   {
    "duration": 9,
    "start_time": "2024-03-10T11:28:24.146Z"
   },
   {
    "duration": 33,
    "start_time": "2024-03-10T11:28:24.157Z"
   },
   {
    "duration": 36,
    "start_time": "2024-03-10T11:28:24.192Z"
   },
   {
    "duration": 74,
    "start_time": "2024-03-10T11:28:24.230Z"
   },
   {
    "duration": 124,
    "start_time": "2024-03-10T11:28:24.306Z"
   },
   {
    "duration": 5,
    "start_time": "2024-03-10T11:28:24.432Z"
   },
   {
    "duration": 111,
    "start_time": "2024-03-10T11:28:24.439Z"
   },
   {
    "duration": 57,
    "start_time": "2024-03-10T11:28:24.551Z"
   },
   {
    "duration": 5,
    "start_time": "2024-03-10T11:28:24.609Z"
   },
   {
    "duration": 22,
    "start_time": "2024-03-10T11:28:24.616Z"
   },
   {
    "duration": 72,
    "start_time": "2024-03-10T11:28:24.641Z"
   },
   {
    "duration": 92,
    "start_time": "2024-03-10T11:28:24.715Z"
   },
   {
    "duration": 117,
    "start_time": "2024-03-10T11:28:24.808Z"
   },
   {
    "duration": 7,
    "start_time": "2024-03-10T11:28:24.927Z"
   },
   {
    "duration": 71,
    "start_time": "2024-03-10T11:28:24.936Z"
   },
   {
    "duration": 73,
    "start_time": "2024-03-10T11:28:25.009Z"
   },
   {
    "duration": 51,
    "start_time": "2024-03-10T11:28:25.084Z"
   },
   {
    "duration": 3,
    "start_time": "2024-03-10T11:28:25.137Z"
   },
   {
    "duration": 22,
    "start_time": "2024-03-10T11:28:25.142Z"
   },
   {
    "duration": 125,
    "start_time": "2024-03-10T11:28:25.166Z"
   },
   {
    "duration": 0,
    "start_time": "2024-03-10T11:28:25.293Z"
   },
   {
    "duration": 98,
    "start_time": "2024-03-10T11:28:56.117Z"
   },
   {
    "duration": 119,
    "start_time": "2024-03-10T11:29:05.206Z"
   },
   {
    "duration": 110,
    "start_time": "2024-03-10T11:29:10.437Z"
   },
   {
    "duration": 6,
    "start_time": "2024-03-10T11:30:52.738Z"
   },
   {
    "duration": 9,
    "start_time": "2024-03-10T11:32:29.527Z"
   },
   {
    "duration": 149,
    "start_time": "2024-03-10T11:33:20.656Z"
   },
   {
    "duration": 8,
    "start_time": "2024-03-10T11:34:23.637Z"
   },
   {
    "duration": 51,
    "start_time": "2024-03-10T11:34:48.727Z"
   },
   {
    "duration": 53,
    "start_time": "2024-03-10T11:35:21.739Z"
   },
   {
    "duration": 1195,
    "start_time": "2024-03-10T11:35:30.866Z"
   },
   {
    "duration": 1235,
    "start_time": "2024-03-10T11:35:45.487Z"
   },
   {
    "duration": 73,
    "start_time": "2024-03-10T11:36:16.719Z"
   },
   {
    "duration": 1155,
    "start_time": "2024-03-10T11:36:20.897Z"
   },
   {
    "duration": 55,
    "start_time": "2024-03-10T11:36:26.798Z"
   },
   {
    "duration": 1291,
    "start_time": "2024-03-10T11:37:35.373Z"
   },
   {
    "duration": 1204,
    "start_time": "2024-03-10T11:38:21.613Z"
   },
   {
    "duration": 65,
    "start_time": "2024-03-10T11:38:43.449Z"
   },
   {
    "duration": 83,
    "start_time": "2024-03-10T11:39:53.423Z"
   },
   {
    "duration": 63,
    "start_time": "2024-03-10T11:40:21.250Z"
   },
   {
    "duration": 64,
    "start_time": "2024-03-10T11:44:22.350Z"
   },
   {
    "duration": 72,
    "start_time": "2024-03-10T11:44:31.799Z"
   },
   {
    "duration": 65,
    "start_time": "2024-03-10T11:44:49.865Z"
   },
   {
    "duration": 65,
    "start_time": "2024-03-10T11:45:02.197Z"
   },
   {
    "duration": 65,
    "start_time": "2024-03-10T11:46:29.068Z"
   },
   {
    "duration": 62,
    "start_time": "2024-03-10T11:46:43.395Z"
   },
   {
    "duration": 82,
    "start_time": "2024-03-10T11:46:54.787Z"
   },
   {
    "duration": 65,
    "start_time": "2024-03-10T11:47:05.704Z"
   },
   {
    "duration": 52,
    "start_time": "2024-03-10T11:50:21.565Z"
   },
   {
    "duration": 72,
    "start_time": "2024-03-10T11:51:07.464Z"
   },
   {
    "duration": 65,
    "start_time": "2024-03-10T11:51:21.591Z"
   },
   {
    "duration": 53,
    "start_time": "2024-03-10T11:52:20.556Z"
   },
   {
    "duration": 55,
    "start_time": "2024-03-10T11:53:14.374Z"
   },
   {
    "duration": 54,
    "start_time": "2024-03-10T11:53:41.362Z"
   },
   {
    "duration": 55,
    "start_time": "2024-03-10T11:54:59.134Z"
   },
   {
    "duration": 52,
    "start_time": "2024-03-10T11:58:30.254Z"
   },
   {
    "duration": 68,
    "start_time": "2024-03-10T11:59:10.438Z"
   },
   {
    "duration": 65,
    "start_time": "2024-03-10T11:59:16.728Z"
   },
   {
    "duration": 65,
    "start_time": "2024-03-10T11:59:34.914Z"
   },
   {
    "duration": 67,
    "start_time": "2024-03-10T11:59:45.347Z"
   },
   {
    "duration": 64,
    "start_time": "2024-03-10T11:59:56.749Z"
   },
   {
    "duration": 64,
    "start_time": "2024-03-10T12:02:25.581Z"
   },
   {
    "duration": 77,
    "start_time": "2024-03-10T12:02:56.847Z"
   },
   {
    "duration": 223,
    "start_time": "2024-03-10T12:04:42.939Z"
   },
   {
    "duration": 213,
    "start_time": "2024-03-10T12:05:32.685Z"
   },
   {
    "duration": 28,
    "start_time": "2024-03-10T12:06:42.378Z"
   },
   {
    "duration": 52,
    "start_time": "2024-03-10T12:06:47.579Z"
   },
   {
    "duration": 208,
    "start_time": "2024-03-10T12:07:30.838Z"
   },
   {
    "duration": 205,
    "start_time": "2024-03-10T12:08:14.722Z"
   },
   {
    "duration": 197,
    "start_time": "2024-03-10T12:08:25.906Z"
   },
   {
    "duration": 1397,
    "start_time": "2024-03-10T12:10:12.296Z"
   },
   {
    "duration": 6,
    "start_time": "2024-03-10T12:13:34.677Z"
   },
   {
    "duration": 14,
    "start_time": "2024-03-10T12:29:15.054Z"
   },
   {
    "duration": 1317,
    "start_time": "2024-03-10T12:29:20.794Z"
   },
   {
    "duration": 194,
    "start_time": "2024-03-10T12:29:22.113Z"
   },
   {
    "duration": 12,
    "start_time": "2024-03-10T12:29:22.309Z"
   },
   {
    "duration": 24,
    "start_time": "2024-03-10T12:29:22.323Z"
   },
   {
    "duration": 3,
    "start_time": "2024-03-10T12:29:22.349Z"
   },
   {
    "duration": 40,
    "start_time": "2024-03-10T12:29:22.353Z"
   },
   {
    "duration": 70,
    "start_time": "2024-03-10T12:29:22.395Z"
   },
   {
    "duration": 89,
    "start_time": "2024-03-10T12:29:22.483Z"
   },
   {
    "duration": 8,
    "start_time": "2024-03-10T12:29:22.583Z"
   },
   {
    "duration": 91,
    "start_time": "2024-03-10T12:29:22.594Z"
   },
   {
    "duration": 56,
    "start_time": "2024-03-10T12:29:22.687Z"
   },
   {
    "duration": 4,
    "start_time": "2024-03-10T12:29:22.744Z"
   },
   {
    "duration": 10,
    "start_time": "2024-03-10T12:29:22.749Z"
   },
   {
    "duration": 3,
    "start_time": "2024-03-10T12:29:22.783Z"
   },
   {
    "duration": 10,
    "start_time": "2024-03-10T12:29:22.788Z"
   },
   {
    "duration": 578,
    "start_time": "2024-03-10T12:29:22.800Z"
   },
   {
    "duration": 30,
    "start_time": "2024-03-10T12:29:23.379Z"
   },
   {
    "duration": 11,
    "start_time": "2024-03-10T12:29:23.410Z"
   },
   {
    "duration": 9,
    "start_time": "2024-03-10T12:29:23.422Z"
   },
   {
    "duration": 51,
    "start_time": "2024-03-10T12:29:23.433Z"
   },
   {
    "duration": 69,
    "start_time": "2024-03-10T12:29:23.486Z"
   },
   {
    "duration": 103,
    "start_time": "2024-03-10T12:29:23.557Z"
   },
   {
    "duration": 21,
    "start_time": "2024-03-10T12:29:23.662Z"
   },
   {
    "duration": 128,
    "start_time": "2024-03-10T12:29:23.685Z"
   },
   {
    "duration": 56,
    "start_time": "2024-03-10T12:29:23.815Z"
   },
   {
    "duration": 14,
    "start_time": "2024-03-10T12:29:23.872Z"
   },
   {
    "duration": 36,
    "start_time": "2024-03-10T12:29:23.887Z"
   },
   {
    "duration": 66,
    "start_time": "2024-03-10T12:29:23.926Z"
   },
   {
    "duration": 98,
    "start_time": "2024-03-10T12:29:23.993Z"
   },
   {
    "duration": 120,
    "start_time": "2024-03-10T12:29:24.093Z"
   },
   {
    "duration": 6,
    "start_time": "2024-03-10T12:29:24.215Z"
   },
   {
    "duration": 231,
    "start_time": "2024-03-10T12:29:24.223Z"
   },
   {
    "duration": 1327,
    "start_time": "2024-03-10T12:29:24.456Z"
   },
   {
    "duration": 0,
    "start_time": "2024-03-10T12:29:25.786Z"
   },
   {
    "duration": 0,
    "start_time": "2024-03-10T12:29:25.787Z"
   },
   {
    "duration": 0,
    "start_time": "2024-03-10T12:29:25.788Z"
   },
   {
    "duration": 0,
    "start_time": "2024-03-10T12:29:25.789Z"
   },
   {
    "duration": 0,
    "start_time": "2024-03-10T12:29:25.790Z"
   },
   {
    "duration": 0,
    "start_time": "2024-03-10T12:29:25.792Z"
   },
   {
    "duration": 0,
    "start_time": "2024-03-10T12:29:25.793Z"
   },
   {
    "duration": 25,
    "start_time": "2024-03-10T12:31:37.975Z"
   },
   {
    "duration": 31,
    "start_time": "2024-03-10T12:31:53.069Z"
   },
   {
    "duration": 1243,
    "start_time": "2024-03-10T12:32:00.384Z"
   },
   {
    "duration": 1274,
    "start_time": "2024-03-10T12:32:06.994Z"
   },
   {
    "duration": 1257,
    "start_time": "2024-03-10T12:32:16.205Z"
   },
   {
    "duration": 184,
    "start_time": "2024-03-10T12:32:17.464Z"
   },
   {
    "duration": 11,
    "start_time": "2024-03-10T12:32:17.649Z"
   },
   {
    "duration": 24,
    "start_time": "2024-03-10T12:32:17.662Z"
   },
   {
    "duration": 3,
    "start_time": "2024-03-10T12:32:17.688Z"
   },
   {
    "duration": 18,
    "start_time": "2024-03-10T12:32:17.692Z"
   },
   {
    "duration": 99,
    "start_time": "2024-03-10T12:32:17.711Z"
   },
   {
    "duration": 88,
    "start_time": "2024-03-10T12:32:17.812Z"
   },
   {
    "duration": 8,
    "start_time": "2024-03-10T12:32:17.902Z"
   },
   {
    "duration": 91,
    "start_time": "2024-03-10T12:32:17.913Z"
   },
   {
    "duration": 65,
    "start_time": "2024-03-10T12:32:18.006Z"
   },
   {
    "duration": 11,
    "start_time": "2024-03-10T12:32:18.073Z"
   },
   {
    "duration": 21,
    "start_time": "2024-03-10T12:32:18.085Z"
   },
   {
    "duration": 3,
    "start_time": "2024-03-10T12:32:18.108Z"
   },
   {
    "duration": 6,
    "start_time": "2024-03-10T12:32:18.113Z"
   },
   {
    "duration": 538,
    "start_time": "2024-03-10T12:32:18.120Z"
   },
   {
    "duration": 38,
    "start_time": "2024-03-10T12:32:18.660Z"
   },
   {
    "duration": 9,
    "start_time": "2024-03-10T12:32:18.699Z"
   },
   {
    "duration": 7,
    "start_time": "2024-03-10T12:32:18.710Z"
   },
   {
    "duration": 27,
    "start_time": "2024-03-10T12:32:18.718Z"
   },
   {
    "duration": 92,
    "start_time": "2024-03-10T12:32:18.747Z"
   },
   {
    "duration": 94,
    "start_time": "2024-03-10T12:32:18.841Z"
   },
   {
    "duration": 5,
    "start_time": "2024-03-10T12:32:18.937Z"
   },
   {
    "duration": 135,
    "start_time": "2024-03-10T12:32:18.944Z"
   },
   {
    "duration": 61,
    "start_time": "2024-03-10T12:32:19.081Z"
   },
   {
    "duration": 5,
    "start_time": "2024-03-10T12:32:19.144Z"
   },
   {
    "duration": 10,
    "start_time": "2024-03-10T12:32:19.151Z"
   },
   {
    "duration": 75,
    "start_time": "2024-03-10T12:32:19.165Z"
   },
   {
    "duration": 101,
    "start_time": "2024-03-10T12:32:19.241Z"
   },
   {
    "duration": 113,
    "start_time": "2024-03-10T12:32:19.344Z"
   },
   {
    "duration": 7,
    "start_time": "2024-03-10T12:32:19.459Z"
   },
   {
    "duration": 215,
    "start_time": "2024-03-10T12:32:19.482Z"
   },
   {
    "duration": 1319,
    "start_time": "2024-03-10T12:32:19.699Z"
   },
   {
    "duration": 0,
    "start_time": "2024-03-10T12:32:21.020Z"
   },
   {
    "duration": 0,
    "start_time": "2024-03-10T12:32:21.021Z"
   },
   {
    "duration": 0,
    "start_time": "2024-03-10T12:32:21.022Z"
   },
   {
    "duration": 0,
    "start_time": "2024-03-10T12:32:21.024Z"
   },
   {
    "duration": 0,
    "start_time": "2024-03-10T12:32:21.025Z"
   },
   {
    "duration": 161,
    "start_time": "2024-03-10T13:04:17.699Z"
   },
   {
    "duration": 209,
    "start_time": "2024-03-10T13:06:24.603Z"
   },
   {
    "duration": 49,
    "start_time": "2024-03-10T13:08:50.711Z"
   },
   {
    "duration": 52,
    "start_time": "2024-03-10T13:09:32.457Z"
   },
   {
    "duration": 5,
    "start_time": "2024-03-10T13:09:47.962Z"
   },
   {
    "duration": 196,
    "start_time": "2024-03-10T13:09:54.952Z"
   },
   {
    "duration": 237,
    "start_time": "2024-03-10T13:12:09.077Z"
   },
   {
    "duration": 193,
    "start_time": "2024-03-10T13:16:47.520Z"
   },
   {
    "duration": 195,
    "start_time": "2024-03-10T13:18:48.358Z"
   },
   {
    "duration": 185,
    "start_time": "2024-03-10T13:20:26.773Z"
   },
   {
    "duration": 170,
    "start_time": "2024-03-10T13:20:49.448Z"
   },
   {
    "duration": 167,
    "start_time": "2024-03-10T13:20:55.474Z"
   },
   {
    "duration": 131,
    "start_time": "2024-03-10T13:21:08.208Z"
   },
   {
    "duration": 12,
    "start_time": "2024-03-10T13:28:32.774Z"
   },
   {
    "duration": 9,
    "start_time": "2024-03-10T13:28:56.871Z"
   },
   {
    "duration": 9,
    "start_time": "2024-03-10T13:29:04.253Z"
   },
   {
    "duration": 9,
    "start_time": "2024-03-10T13:29:10.170Z"
   },
   {
    "duration": 109,
    "start_time": "2024-03-10T13:30:29.355Z"
   },
   {
    "duration": 196,
    "start_time": "2024-03-10T13:33:25.467Z"
   },
   {
    "duration": 217,
    "start_time": "2024-03-10T13:33:45.713Z"
   },
   {
    "duration": 198,
    "start_time": "2024-03-10T13:35:24.595Z"
   },
   {
    "duration": 216,
    "start_time": "2024-03-10T13:35:35.203Z"
   },
   {
    "duration": 203,
    "start_time": "2024-03-10T13:35:55.613Z"
   },
   {
    "duration": 216,
    "start_time": "2024-03-10T13:36:01.627Z"
   },
   {
    "duration": 106,
    "start_time": "2024-03-10T13:36:42.245Z"
   },
   {
    "duration": 227,
    "start_time": "2024-03-10T13:36:49.342Z"
   },
   {
    "duration": 1131,
    "start_time": "2024-03-10T13:37:24.438Z"
   },
   {
    "duration": 1158,
    "start_time": "2024-03-10T13:37:31.748Z"
   },
   {
    "duration": 1155,
    "start_time": "2024-03-10T13:37:41.108Z"
   },
   {
    "duration": 218,
    "start_time": "2024-03-10T13:37:48.320Z"
   },
   {
    "duration": 6,
    "start_time": "2024-03-10T13:37:56.164Z"
   },
   {
    "duration": 202,
    "start_time": "2024-03-10T13:37:56.887Z"
   },
   {
    "duration": 206,
    "start_time": "2024-03-10T13:37:58.640Z"
   },
   {
    "duration": 220,
    "start_time": "2024-03-10T13:38:05.029Z"
   },
   {
    "duration": 202,
    "start_time": "2024-03-10T13:38:11.032Z"
   },
   {
    "duration": 1300,
    "start_time": "2024-03-10T13:38:15.737Z"
   },
   {
    "duration": 191,
    "start_time": "2024-03-10T13:38:17.039Z"
   },
   {
    "duration": 11,
    "start_time": "2024-03-10T13:38:17.232Z"
   },
   {
    "duration": 39,
    "start_time": "2024-03-10T13:38:17.245Z"
   },
   {
    "duration": 4,
    "start_time": "2024-03-10T13:38:17.286Z"
   },
   {
    "duration": 25,
    "start_time": "2024-03-10T13:38:17.291Z"
   },
   {
    "duration": 94,
    "start_time": "2024-03-10T13:38:17.317Z"
   },
   {
    "duration": 87,
    "start_time": "2024-03-10T13:38:17.413Z"
   },
   {
    "duration": 9,
    "start_time": "2024-03-10T13:38:17.502Z"
   },
   {
    "duration": 89,
    "start_time": "2024-03-10T13:38:17.513Z"
   },
   {
    "duration": 58,
    "start_time": "2024-03-10T13:38:17.604Z"
   },
   {
    "duration": 3,
    "start_time": "2024-03-10T13:38:17.664Z"
   },
   {
    "duration": 20,
    "start_time": "2024-03-10T13:38:17.669Z"
   },
   {
    "duration": 4,
    "start_time": "2024-03-10T13:38:17.692Z"
   },
   {
    "duration": 7,
    "start_time": "2024-03-10T13:38:17.697Z"
   },
   {
    "duration": 553,
    "start_time": "2024-03-10T13:38:17.705Z"
   },
   {
    "duration": 33,
    "start_time": "2024-03-10T13:38:18.260Z"
   },
   {
    "duration": 10,
    "start_time": "2024-03-10T13:38:18.295Z"
   },
   {
    "duration": 6,
    "start_time": "2024-03-10T13:38:18.307Z"
   },
   {
    "duration": 29,
    "start_time": "2024-03-10T13:38:18.314Z"
   },
   {
    "duration": 111,
    "start_time": "2024-03-10T13:38:18.345Z"
   },
   {
    "duration": 93,
    "start_time": "2024-03-10T13:38:18.457Z"
   },
   {
    "duration": 4,
    "start_time": "2024-03-10T13:38:18.552Z"
   },
   {
    "duration": 137,
    "start_time": "2024-03-10T13:38:18.558Z"
   },
   {
    "duration": 54,
    "start_time": "2024-03-10T13:38:18.696Z"
   },
   {
    "duration": 6,
    "start_time": "2024-03-10T13:38:18.752Z"
   },
   {
    "duration": 23,
    "start_time": "2024-03-10T13:38:18.760Z"
   },
   {
    "duration": 98,
    "start_time": "2024-03-10T13:38:18.785Z"
   },
   {
    "duration": 107,
    "start_time": "2024-03-10T13:38:18.884Z"
   },
   {
    "duration": 126,
    "start_time": "2024-03-10T13:38:18.993Z"
   },
   {
    "duration": 7,
    "start_time": "2024-03-10T13:38:19.121Z"
   },
   {
    "duration": 252,
    "start_time": "2024-03-10T13:38:19.130Z"
   },
   {
    "duration": 6,
    "start_time": "2024-03-10T13:38:19.384Z"
   },
   {
    "duration": 331,
    "start_time": "2024-03-10T13:38:19.392Z"
   },
   {
    "duration": 0,
    "start_time": "2024-03-10T13:38:19.725Z"
   },
   {
    "duration": 0,
    "start_time": "2024-03-10T13:38:19.727Z"
   },
   {
    "duration": 0,
    "start_time": "2024-03-10T13:38:19.728Z"
   },
   {
    "duration": 0,
    "start_time": "2024-03-10T13:38:19.730Z"
   },
   {
    "duration": 205,
    "start_time": "2024-03-10T13:38:56.581Z"
   },
   {
    "duration": 219,
    "start_time": "2024-03-10T13:39:05.448Z"
   },
   {
    "duration": 30,
    "start_time": "2024-03-10T13:40:04.972Z"
   },
   {
    "duration": 264,
    "start_time": "2024-03-10T13:40:05.873Z"
   },
   {
    "duration": 241,
    "start_time": "2024-03-10T13:40:31.949Z"
   },
   {
    "duration": 25,
    "start_time": "2024-03-10T13:40:39.115Z"
   },
   {
    "duration": 233,
    "start_time": "2024-03-10T13:40:55.656Z"
   },
   {
    "duration": 211,
    "start_time": "2024-03-10T13:40:56.734Z"
   },
   {
    "duration": 19,
    "start_time": "2024-03-10T13:41:02.222Z"
   },
   {
    "duration": 236,
    "start_time": "2024-03-10T13:41:03.376Z"
   },
   {
    "duration": 1568,
    "start_time": "2024-03-10T13:41:04.037Z"
   },
   {
    "duration": 275,
    "start_time": "2024-03-10T13:41:51.892Z"
   },
   {
    "duration": 213,
    "start_time": "2024-03-10T13:43:52.542Z"
   },
   {
    "duration": 238,
    "start_time": "2024-03-10T13:44:02.629Z"
   },
   {
    "duration": 199,
    "start_time": "2024-03-10T13:44:11.199Z"
   },
   {
    "duration": 222,
    "start_time": "2024-03-10T13:44:26.545Z"
   },
   {
    "duration": 1249,
    "start_time": "2024-03-10T13:45:47.300Z"
   },
   {
    "duration": 9,
    "start_time": "2024-03-10T13:49:19.161Z"
   },
   {
    "duration": 250,
    "start_time": "2024-03-10T13:50:46.504Z"
   },
   {
    "duration": 236,
    "start_time": "2024-03-10T13:53:56.376Z"
   },
   {
    "duration": 228,
    "start_time": "2024-03-10T13:54:09.839Z"
   },
   {
    "duration": 1251,
    "start_time": "2024-03-10T13:54:28.592Z"
   },
   {
    "duration": 186,
    "start_time": "2024-03-10T13:54:29.846Z"
   },
   {
    "duration": 16,
    "start_time": "2024-03-10T13:54:30.034Z"
   },
   {
    "duration": 39,
    "start_time": "2024-03-10T13:54:30.052Z"
   },
   {
    "duration": 2,
    "start_time": "2024-03-10T13:54:30.093Z"
   },
   {
    "duration": 30,
    "start_time": "2024-03-10T13:54:30.097Z"
   },
   {
    "duration": 86,
    "start_time": "2024-03-10T13:54:30.128Z"
   },
   {
    "duration": 83,
    "start_time": "2024-03-10T13:54:30.216Z"
   },
   {
    "duration": 7,
    "start_time": "2024-03-10T13:54:30.301Z"
   },
   {
    "duration": 109,
    "start_time": "2024-03-10T13:54:30.310Z"
   },
   {
    "duration": 76,
    "start_time": "2024-03-10T13:54:30.421Z"
   },
   {
    "duration": 27,
    "start_time": "2024-03-10T13:54:30.499Z"
   },
   {
    "duration": 56,
    "start_time": "2024-03-10T13:54:30.528Z"
   },
   {
    "duration": 47,
    "start_time": "2024-03-10T13:54:30.585Z"
   },
   {
    "duration": 39,
    "start_time": "2024-03-10T13:54:30.634Z"
   },
   {
    "duration": 594,
    "start_time": "2024-03-10T13:54:30.675Z"
   },
   {
    "duration": 30,
    "start_time": "2024-03-10T13:54:31.271Z"
   },
   {
    "duration": 18,
    "start_time": "2024-03-10T13:54:31.302Z"
   },
   {
    "duration": 27,
    "start_time": "2024-03-10T13:54:31.322Z"
   },
   {
    "duration": 29,
    "start_time": "2024-03-10T13:54:31.350Z"
   },
   {
    "duration": 116,
    "start_time": "2024-03-10T13:54:31.380Z"
   },
   {
    "duration": 91,
    "start_time": "2024-03-10T13:54:31.497Z"
   },
   {
    "duration": 5,
    "start_time": "2024-03-10T13:54:31.589Z"
   },
   {
    "duration": 133,
    "start_time": "2024-03-10T13:54:31.595Z"
   },
   {
    "duration": 59,
    "start_time": "2024-03-10T13:54:31.730Z"
   },
   {
    "duration": 6,
    "start_time": "2024-03-10T13:54:31.790Z"
   },
   {
    "duration": 70,
    "start_time": "2024-03-10T13:54:31.797Z"
   },
   {
    "duration": 99,
    "start_time": "2024-03-10T13:54:31.871Z"
   },
   {
    "duration": 93,
    "start_time": "2024-03-10T13:54:31.972Z"
   },
   {
    "duration": 121,
    "start_time": "2024-03-10T13:54:32.066Z"
   },
   {
    "duration": 7,
    "start_time": "2024-03-10T13:54:32.189Z"
   },
   {
    "duration": 237,
    "start_time": "2024-03-10T13:54:32.198Z"
   },
   {
    "duration": 5,
    "start_time": "2024-03-10T13:54:32.437Z"
   },
   {
    "duration": 250,
    "start_time": "2024-03-10T13:54:32.443Z"
   },
   {
    "duration": 242,
    "start_time": "2024-03-10T13:54:32.694Z"
   },
   {
    "duration": 4,
    "start_time": "2024-03-10T13:54:32.937Z"
   },
   {
    "duration": 17,
    "start_time": "2024-03-10T13:54:32.942Z"
   },
   {
    "duration": 126,
    "start_time": "2024-03-10T13:54:32.961Z"
   },
   {
    "duration": 0,
    "start_time": "2024-03-10T13:54:33.089Z"
   },
   {
    "duration": 13,
    "start_time": "2024-03-10T14:01:27.238Z"
   },
   {
    "duration": 12,
    "start_time": "2024-03-10T14:01:45.647Z"
   },
   {
    "duration": 14,
    "start_time": "2024-03-10T14:08:23.068Z"
   },
   {
    "duration": 161,
    "start_time": "2024-03-10T14:11:07.235Z"
   },
   {
    "duration": 175,
    "start_time": "2024-03-10T14:11:21.614Z"
   },
   {
    "duration": 161,
    "start_time": "2024-03-10T14:11:44.118Z"
   },
   {
    "duration": 167,
    "start_time": "2024-03-10T14:12:10.901Z"
   },
   {
    "duration": 76,
    "start_time": "2024-03-10T14:14:02.632Z"
   },
   {
    "duration": 171,
    "start_time": "2024-03-10T14:15:22.624Z"
   },
   {
    "duration": 189,
    "start_time": "2024-03-10T14:16:00.518Z"
   },
   {
    "duration": 145,
    "start_time": "2024-03-10T14:16:01.279Z"
   },
   {
    "duration": 5,
    "start_time": "2024-03-10T14:16:26.693Z"
   },
   {
    "duration": 215,
    "start_time": "2024-03-10T14:16:27.567Z"
   },
   {
    "duration": 186,
    "start_time": "2024-03-10T14:18:00.455Z"
   },
   {
    "duration": 1175,
    "start_time": "2024-03-10T14:20:44.360Z"
   },
   {
    "duration": 1625,
    "start_time": "2024-03-10T14:23:24.490Z"
   },
   {
    "duration": 1182,
    "start_time": "2024-03-10T14:24:54.438Z"
   },
   {
    "duration": 1190,
    "start_time": "2024-03-10T14:25:04.776Z"
   },
   {
    "duration": 1172,
    "start_time": "2024-03-10T14:28:46.844Z"
   },
   {
    "duration": 455,
    "start_time": "2024-03-10T14:29:00.847Z"
   },
   {
    "duration": 465,
    "start_time": "2024-03-10T14:30:50.248Z"
   },
   {
    "duration": 467,
    "start_time": "2024-03-10T14:31:09.061Z"
   },
   {
    "duration": 448,
    "start_time": "2024-03-10T14:31:26.739Z"
   },
   {
    "duration": 466,
    "start_time": "2024-03-10T14:31:50.149Z"
   },
   {
    "duration": 499,
    "start_time": "2024-03-10T14:32:42.152Z"
   },
   {
    "duration": 453,
    "start_time": "2024-03-10T14:32:58.003Z"
   },
   {
    "duration": 1681,
    "start_time": "2024-03-10T14:34:11.179Z"
   },
   {
    "duration": 1189,
    "start_time": "2024-03-10T14:35:58.516Z"
   },
   {
    "duration": 418,
    "start_time": "2024-03-10T14:37:06.033Z"
   },
   {
    "duration": 1235,
    "start_time": "2024-03-10T14:38:20.520Z"
   },
   {
    "duration": 194,
    "start_time": "2024-03-10T14:38:21.757Z"
   },
   {
    "duration": 11,
    "start_time": "2024-03-10T14:38:21.953Z"
   },
   {
    "duration": 40,
    "start_time": "2024-03-10T14:38:21.966Z"
   },
   {
    "duration": 3,
    "start_time": "2024-03-10T14:38:22.009Z"
   },
   {
    "duration": 20,
    "start_time": "2024-03-10T14:38:22.014Z"
   },
   {
    "duration": 89,
    "start_time": "2024-03-10T14:38:22.035Z"
   },
   {
    "duration": 85,
    "start_time": "2024-03-10T14:38:22.126Z"
   },
   {
    "duration": 7,
    "start_time": "2024-03-10T14:38:22.213Z"
   },
   {
    "duration": 95,
    "start_time": "2024-03-10T14:38:22.224Z"
   },
   {
    "duration": 67,
    "start_time": "2024-03-10T14:38:22.321Z"
   },
   {
    "duration": 4,
    "start_time": "2024-03-10T14:38:22.389Z"
   },
   {
    "duration": 10,
    "start_time": "2024-03-10T14:38:22.394Z"
   },
   {
    "duration": 4,
    "start_time": "2024-03-10T14:38:22.405Z"
   },
   {
    "duration": 6,
    "start_time": "2024-03-10T14:38:22.410Z"
   },
   {
    "duration": 597,
    "start_time": "2024-03-10T14:38:22.418Z"
   },
   {
    "duration": 29,
    "start_time": "2024-03-10T14:38:23.016Z"
   },
   {
    "duration": 9,
    "start_time": "2024-03-10T14:38:23.047Z"
   },
   {
    "duration": 25,
    "start_time": "2024-03-10T14:38:23.057Z"
   },
   {
    "duration": 30,
    "start_time": "2024-03-10T14:38:23.084Z"
   },
   {
    "duration": 82,
    "start_time": "2024-03-10T14:38:23.116Z"
   },
   {
    "duration": 97,
    "start_time": "2024-03-10T14:38:23.200Z"
   },
   {
    "duration": 3,
    "start_time": "2024-03-10T14:38:23.299Z"
   },
   {
    "duration": 127,
    "start_time": "2024-03-10T14:38:23.304Z"
   },
   {
    "duration": 59,
    "start_time": "2024-03-10T14:38:23.432Z"
   },
   {
    "duration": 5,
    "start_time": "2024-03-10T14:38:23.494Z"
   },
   {
    "duration": 7,
    "start_time": "2024-03-10T14:38:23.501Z"
   },
   {
    "duration": 84,
    "start_time": "2024-03-10T14:38:23.511Z"
   },
   {
    "duration": 112,
    "start_time": "2024-03-10T14:38:23.597Z"
   },
   {
    "duration": 143,
    "start_time": "2024-03-10T14:38:23.711Z"
   },
   {
    "duration": 7,
    "start_time": "2024-03-10T14:38:23.856Z"
   },
   {
    "duration": 255,
    "start_time": "2024-03-10T14:38:23.865Z"
   },
   {
    "duration": 7,
    "start_time": "2024-03-10T14:38:24.122Z"
   },
   {
    "duration": 246,
    "start_time": "2024-03-10T14:38:24.130Z"
   },
   {
    "duration": 476,
    "start_time": "2024-03-10T14:38:24.378Z"
   },
   {
    "duration": 4,
    "start_time": "2024-03-10T14:38:24.855Z"
   },
   {
    "duration": 4,
    "start_time": "2024-03-10T14:38:24.882Z"
   },
   {
    "duration": 137,
    "start_time": "2024-03-10T14:38:24.887Z"
   },
   {
    "duration": 0,
    "start_time": "2024-03-10T14:38:25.025Z"
   },
   {
    "duration": 1240,
    "start_time": "2024-03-10T14:40:17.473Z"
   },
   {
    "duration": 1297,
    "start_time": "2024-03-10T14:40:56.518Z"
   },
   {
    "duration": 205,
    "start_time": "2024-03-10T14:55:34.812Z"
   },
   {
    "duration": 217,
    "start_time": "2024-03-10T14:55:50.458Z"
   },
   {
    "duration": 1349,
    "start_time": "2024-03-10T14:57:42.708Z"
   },
   {
    "duration": 107,
    "start_time": "2024-03-10T14:58:07.058Z"
   },
   {
    "duration": 207,
    "start_time": "2024-03-10T14:58:19.919Z"
   },
   {
    "duration": 253,
    "start_time": "2024-03-10T14:59:34.819Z"
   },
   {
    "duration": 222,
    "start_time": "2024-03-10T14:59:41.252Z"
   },
   {
    "duration": 105,
    "start_time": "2024-03-10T15:04:06.316Z"
   },
   {
    "duration": 199,
    "start_time": "2024-03-10T15:04:14.197Z"
   },
   {
    "duration": 137,
    "start_time": "2024-03-10T15:04:38.617Z"
   },
   {
    "duration": 1306,
    "start_time": "2024-03-10T15:06:20.140Z"
   },
   {
    "duration": 187,
    "start_time": "2024-03-10T15:06:21.448Z"
   },
   {
    "duration": 12,
    "start_time": "2024-03-10T15:06:21.637Z"
   },
   {
    "duration": 34,
    "start_time": "2024-03-10T15:06:21.651Z"
   },
   {
    "duration": 4,
    "start_time": "2024-03-10T15:06:21.687Z"
   },
   {
    "duration": 27,
    "start_time": "2024-03-10T15:06:21.693Z"
   },
   {
    "duration": 94,
    "start_time": "2024-03-10T15:06:21.722Z"
   },
   {
    "duration": 90,
    "start_time": "2024-03-10T15:06:21.818Z"
   },
   {
    "duration": 7,
    "start_time": "2024-03-10T15:06:21.910Z"
   },
   {
    "duration": 82,
    "start_time": "2024-03-10T15:06:21.920Z"
   },
   {
    "duration": 58,
    "start_time": "2024-03-10T15:06:22.003Z"
   },
   {
    "duration": 19,
    "start_time": "2024-03-10T15:06:22.063Z"
   },
   {
    "duration": 10,
    "start_time": "2024-03-10T15:06:22.083Z"
   },
   {
    "duration": 4,
    "start_time": "2024-03-10T15:06:22.095Z"
   },
   {
    "duration": 7,
    "start_time": "2024-03-10T15:06:22.100Z"
   },
   {
    "duration": 594,
    "start_time": "2024-03-10T15:06:22.109Z"
   },
   {
    "duration": 28,
    "start_time": "2024-03-10T15:06:22.706Z"
   },
   {
    "duration": 10,
    "start_time": "2024-03-10T15:06:22.736Z"
   },
   {
    "duration": 8,
    "start_time": "2024-03-10T15:06:22.748Z"
   },
   {
    "duration": 28,
    "start_time": "2024-03-10T15:06:22.783Z"
   },
   {
    "duration": 83,
    "start_time": "2024-03-10T15:06:22.813Z"
   },
   {
    "duration": 99,
    "start_time": "2024-03-10T15:06:22.898Z"
   },
   {
    "duration": 5,
    "start_time": "2024-03-10T15:06:22.999Z"
   },
   {
    "duration": 145,
    "start_time": "2024-03-10T15:06:23.006Z"
   },
   {
    "duration": 61,
    "start_time": "2024-03-10T15:06:23.154Z"
   },
   {
    "duration": 5,
    "start_time": "2024-03-10T15:06:23.217Z"
   },
   {
    "duration": 5,
    "start_time": "2024-03-10T15:06:23.224Z"
   },
   {
    "duration": 82,
    "start_time": "2024-03-10T15:06:23.233Z"
   },
   {
    "duration": 108,
    "start_time": "2024-03-10T15:06:23.317Z"
   },
   {
    "duration": 144,
    "start_time": "2024-03-10T15:06:23.427Z"
   },
   {
    "duration": 11,
    "start_time": "2024-03-10T15:06:23.573Z"
   },
   {
    "duration": 250,
    "start_time": "2024-03-10T15:06:23.585Z"
   },
   {
    "duration": 7,
    "start_time": "2024-03-10T15:06:23.837Z"
   },
   {
    "duration": 262,
    "start_time": "2024-03-10T15:06:23.846Z"
   },
   {
    "duration": 483,
    "start_time": "2024-03-10T15:06:24.110Z"
   },
   {
    "duration": 150,
    "start_time": "2024-03-10T15:06:24.595Z"
   },
   {
    "duration": 4,
    "start_time": "2024-03-10T15:06:24.747Z"
   },
   {
    "duration": 6,
    "start_time": "2024-03-10T15:06:24.752Z"
   },
   {
    "duration": 129,
    "start_time": "2024-03-10T15:06:24.759Z"
   },
   {
    "duration": 0,
    "start_time": "2024-03-10T15:06:24.890Z"
   },
   {
    "duration": 70,
    "start_time": "2024-03-10T15:06:46.885Z"
   },
   {
    "duration": 75,
    "start_time": "2024-03-10T15:06:53.805Z"
   },
   {
    "duration": 1330,
    "start_time": "2024-03-10T15:07:04.702Z"
   },
   {
    "duration": 194,
    "start_time": "2024-03-10T15:07:06.034Z"
   },
   {
    "duration": 11,
    "start_time": "2024-03-10T15:07:06.230Z"
   },
   {
    "duration": 44,
    "start_time": "2024-03-10T15:07:06.243Z"
   },
   {
    "duration": 3,
    "start_time": "2024-03-10T15:07:06.289Z"
   },
   {
    "duration": 24,
    "start_time": "2024-03-10T15:07:06.294Z"
   },
   {
    "duration": 104,
    "start_time": "2024-03-10T15:07:06.320Z"
   },
   {
    "duration": 82,
    "start_time": "2024-03-10T15:07:06.426Z"
   },
   {
    "duration": 8,
    "start_time": "2024-03-10T15:07:06.510Z"
   },
   {
    "duration": 89,
    "start_time": "2024-03-10T15:07:06.521Z"
   },
   {
    "duration": 78,
    "start_time": "2024-03-10T15:07:06.611Z"
   },
   {
    "duration": 4,
    "start_time": "2024-03-10T15:07:06.691Z"
   },
   {
    "duration": 21,
    "start_time": "2024-03-10T15:07:06.696Z"
   },
   {
    "duration": 4,
    "start_time": "2024-03-10T15:07:06.719Z"
   },
   {
    "duration": 6,
    "start_time": "2024-03-10T15:07:06.724Z"
   },
   {
    "duration": 566,
    "start_time": "2024-03-10T15:07:06.732Z"
   },
   {
    "duration": 29,
    "start_time": "2024-03-10T15:07:07.299Z"
   },
   {
    "duration": 10,
    "start_time": "2024-03-10T15:07:07.330Z"
   },
   {
    "duration": 7,
    "start_time": "2024-03-10T15:07:07.342Z"
   },
   {
    "duration": 51,
    "start_time": "2024-03-10T15:07:07.350Z"
   },
   {
    "duration": 82,
    "start_time": "2024-03-10T15:07:07.403Z"
   },
   {
    "duration": 101,
    "start_time": "2024-03-10T15:07:07.486Z"
   },
   {
    "duration": 5,
    "start_time": "2024-03-10T15:07:07.588Z"
   },
   {
    "duration": 144,
    "start_time": "2024-03-10T15:07:07.595Z"
   },
   {
    "duration": 65,
    "start_time": "2024-03-10T15:07:07.740Z"
   },
   {
    "duration": 6,
    "start_time": "2024-03-10T15:07:07.807Z"
   },
   {
    "duration": 8,
    "start_time": "2024-03-10T15:07:07.815Z"
   },
   {
    "duration": 78,
    "start_time": "2024-03-10T15:07:07.827Z"
   },
   {
    "duration": 98,
    "start_time": "2024-03-10T15:07:07.907Z"
   },
   {
    "duration": 119,
    "start_time": "2024-03-10T15:07:08.007Z"
   },
   {
    "duration": 7,
    "start_time": "2024-03-10T15:07:08.128Z"
   },
   {
    "duration": 225,
    "start_time": "2024-03-10T15:07:08.136Z"
   },
   {
    "duration": 22,
    "start_time": "2024-03-10T15:07:08.363Z"
   },
   {
    "duration": 223,
    "start_time": "2024-03-10T15:07:08.387Z"
   },
   {
    "duration": 453,
    "start_time": "2024-03-10T15:07:08.612Z"
   },
   {
    "duration": 141,
    "start_time": "2024-03-10T15:07:09.081Z"
   },
   {
    "duration": 4,
    "start_time": "2024-03-10T15:07:09.224Z"
   },
   {
    "duration": 5,
    "start_time": "2024-03-10T15:07:09.229Z"
   },
   {
    "duration": 129,
    "start_time": "2024-03-10T15:07:09.235Z"
   },
   {
    "duration": 0,
    "start_time": "2024-03-10T15:07:09.365Z"
   },
   {
    "duration": 65,
    "start_time": "2024-03-10T15:07:19.560Z"
   },
   {
    "duration": 200,
    "start_time": "2024-03-10T15:07:26.898Z"
   },
   {
    "duration": 446,
    "start_time": "2024-03-10T15:07:27.648Z"
   },
   {
    "duration": 128,
    "start_time": "2024-03-10T15:07:36.992Z"
   },
   {
    "duration": 1173,
    "start_time": "2024-03-10T15:08:23.918Z"
   },
   {
    "duration": 7,
    "start_time": "2024-03-10T15:08:53.627Z"
   },
   {
    "duration": 1198,
    "start_time": "2024-03-10T15:09:02.029Z"
   },
   {
    "duration": 1316,
    "start_time": "2024-03-10T15:10:29.130Z"
   },
   {
    "duration": 210,
    "start_time": "2024-03-10T15:15:12.542Z"
   },
   {
    "duration": 11,
    "start_time": "2024-03-10T15:18:03.089Z"
   },
   {
    "duration": 6,
    "start_time": "2024-03-10T15:18:37.870Z"
   },
   {
    "duration": 6,
    "start_time": "2024-03-10T15:21:00.315Z"
   },
   {
    "duration": 5,
    "start_time": "2024-03-10T15:22:27.193Z"
   },
   {
    "duration": 17,
    "start_time": "2024-03-10T15:23:21.750Z"
   },
   {
    "duration": 16,
    "start_time": "2024-03-10T15:23:42.121Z"
   },
   {
    "duration": 22,
    "start_time": "2024-03-10T15:24:44.046Z"
   },
   {
    "duration": 1186,
    "start_time": "2024-03-10T15:27:09.055Z"
   },
   {
    "duration": 19,
    "start_time": "2024-03-10T15:27:14.925Z"
   },
   {
    "duration": 21,
    "start_time": "2024-03-10T15:27:44.354Z"
   },
   {
    "duration": 17,
    "start_time": "2024-03-10T15:29:29.375Z"
   },
   {
    "duration": 18,
    "start_time": "2024-03-10T15:29:54.856Z"
   },
   {
    "duration": 22,
    "start_time": "2024-03-10T15:30:40.949Z"
   },
   {
    "duration": 1128,
    "start_time": "2024-03-10T15:31:44.406Z"
   },
   {
    "duration": 22,
    "start_time": "2024-03-10T15:31:53.427Z"
   },
   {
    "duration": 23,
    "start_time": "2024-03-10T15:32:25.228Z"
   },
   {
    "duration": 25,
    "start_time": "2024-03-10T15:32:50.886Z"
   },
   {
    "duration": 23,
    "start_time": "2024-03-10T15:33:03.063Z"
   },
   {
    "duration": 1153,
    "start_time": "2024-03-10T15:37:20.581Z"
   },
   {
    "duration": 1163,
    "start_time": "2024-03-10T15:40:41.030Z"
   },
   {
    "duration": 1132,
    "start_time": "2024-03-10T15:41:06.992Z"
   },
   {
    "duration": 1173,
    "start_time": "2024-03-10T15:41:16.949Z"
   },
   {
    "duration": 1180,
    "start_time": "2024-03-10T15:42:04.324Z"
   },
   {
    "duration": 1230,
    "start_time": "2024-03-10T15:42:08.684Z"
   },
   {
    "duration": 202,
    "start_time": "2024-03-10T15:42:16.016Z"
   },
   {
    "duration": 1171,
    "start_time": "2024-03-10T15:42:16.578Z"
   },
   {
    "duration": 1169,
    "start_time": "2024-03-10T15:42:29.009Z"
   },
   {
    "duration": 18,
    "start_time": "2024-03-10T15:42:38.426Z"
   },
   {
    "duration": 18,
    "start_time": "2024-03-10T15:42:53.153Z"
   },
   {
    "duration": 20,
    "start_time": "2024-03-10T15:43:01.303Z"
   },
   {
    "duration": 14,
    "start_time": "2024-03-10T15:43:11.472Z"
   },
   {
    "duration": 22,
    "start_time": "2024-03-10T15:43:18.815Z"
   },
   {
    "duration": 21,
    "start_time": "2024-03-10T15:43:49.257Z"
   },
   {
    "duration": 6,
    "start_time": "2024-03-10T15:47:14.048Z"
   },
   {
    "duration": 1149,
    "start_time": "2024-03-10T15:47:23.529Z"
   },
   {
    "duration": 22,
    "start_time": "2024-03-10T15:48:08.376Z"
   },
   {
    "duration": 4,
    "start_time": "2024-03-10T15:53:26.529Z"
   },
   {
    "duration": 4,
    "start_time": "2024-03-10T16:13:04.988Z"
   },
   {
    "duration": 5,
    "start_time": "2024-03-10T16:16:04.389Z"
   },
   {
    "duration": 3,
    "start_time": "2024-03-10T16:16:25.726Z"
   },
   {
    "duration": 4,
    "start_time": "2024-03-10T16:16:51.934Z"
   },
   {
    "duration": 209,
    "start_time": "2024-03-10T16:20:05.422Z"
   },
   {
    "duration": 424,
    "start_time": "2024-03-10T16:20:40.276Z"
   },
   {
    "duration": 21,
    "start_time": "2024-03-10T16:21:11.155Z"
   },
   {
    "duration": 40,
    "start_time": "2024-03-10T16:24:10.874Z"
   },
   {
    "duration": 35,
    "start_time": "2024-03-10T16:32:02.973Z"
   },
   {
    "duration": 5,
    "start_time": "2024-03-10T16:32:10.402Z"
   },
   {
    "duration": 13,
    "start_time": "2024-03-10T16:37:24.288Z"
   },
   {
    "duration": 5,
    "start_time": "2024-03-10T16:38:03.017Z"
   },
   {
    "duration": 6,
    "start_time": "2024-03-10T16:38:31.465Z"
   },
   {
    "duration": 24,
    "start_time": "2024-03-10T17:06:21.481Z"
   },
   {
    "duration": 7,
    "start_time": "2024-03-10T17:12:06.886Z"
   },
   {
    "duration": 210,
    "start_time": "2024-03-10T17:39:08.341Z"
   },
   {
    "duration": 74,
    "start_time": "2024-03-10T17:39:59.321Z"
   },
   {
    "duration": 434,
    "start_time": "2024-03-10T17:40:45.178Z"
   },
   {
    "duration": 1314,
    "start_time": "2024-03-10T18:22:18.401Z"
   },
   {
    "duration": 201,
    "start_time": "2024-03-10T18:22:19.717Z"
   },
   {
    "duration": 12,
    "start_time": "2024-03-10T18:22:19.920Z"
   },
   {
    "duration": 33,
    "start_time": "2024-03-10T18:22:19.935Z"
   },
   {
    "duration": 3,
    "start_time": "2024-03-10T18:22:19.969Z"
   },
   {
    "duration": 17,
    "start_time": "2024-03-10T18:22:19.981Z"
   },
   {
    "duration": 67,
    "start_time": "2024-03-10T18:22:20.000Z"
   },
   {
    "duration": 75,
    "start_time": "2024-03-10T18:22:20.082Z"
   },
   {
    "duration": 24,
    "start_time": "2024-03-10T18:22:20.158Z"
   },
   {
    "duration": 79,
    "start_time": "2024-03-10T18:22:20.184Z"
   },
   {
    "duration": 67,
    "start_time": "2024-03-10T18:22:20.265Z"
   },
   {
    "duration": 50,
    "start_time": "2024-03-10T18:22:20.334Z"
   },
   {
    "duration": 6,
    "start_time": "2024-03-10T18:22:20.386Z"
   },
   {
    "duration": 3,
    "start_time": "2024-03-10T18:22:20.394Z"
   },
   {
    "duration": 11,
    "start_time": "2024-03-10T18:22:20.398Z"
   },
   {
    "duration": 11,
    "start_time": "2024-03-10T18:22:20.410Z"
   },
   {
    "duration": 6,
    "start_time": "2024-03-10T18:22:20.422Z"
   },
   {
    "duration": 575,
    "start_time": "2024-03-10T18:22:20.430Z"
   },
   {
    "duration": 29,
    "start_time": "2024-03-10T18:22:21.006Z"
   },
   {
    "duration": 10,
    "start_time": "2024-03-10T18:22:21.037Z"
   },
   {
    "duration": 17,
    "start_time": "2024-03-10T18:22:21.049Z"
   },
   {
    "duration": 28,
    "start_time": "2024-03-10T18:22:21.082Z"
   },
   {
    "duration": 83,
    "start_time": "2024-03-10T18:22:21.112Z"
   },
   {
    "duration": 101,
    "start_time": "2024-03-10T18:22:21.196Z"
   },
   {
    "duration": 5,
    "start_time": "2024-03-10T18:22:21.298Z"
   },
   {
    "duration": 137,
    "start_time": "2024-03-10T18:22:21.305Z"
   },
   {
    "duration": 59,
    "start_time": "2024-03-10T18:22:21.444Z"
   },
   {
    "duration": 5,
    "start_time": "2024-03-10T18:22:21.506Z"
   },
   {
    "duration": 19,
    "start_time": "2024-03-10T18:22:21.513Z"
   },
   {
    "duration": 70,
    "start_time": "2024-03-10T18:22:21.534Z"
   },
   {
    "duration": 104,
    "start_time": "2024-03-10T18:22:21.605Z"
   },
   {
    "duration": 127,
    "start_time": "2024-03-10T18:22:21.711Z"
   },
   {
    "duration": 9,
    "start_time": "2024-03-10T18:22:21.840Z"
   },
   {
    "duration": 256,
    "start_time": "2024-03-10T18:22:21.851Z"
   },
   {
    "duration": 6,
    "start_time": "2024-03-10T18:22:22.108Z"
   },
   {
    "duration": 239,
    "start_time": "2024-03-10T18:22:22.116Z"
   },
   {
    "duration": 501,
    "start_time": "2024-03-10T18:22:22.357Z"
   },
   {
    "duration": 242,
    "start_time": "2024-03-10T18:22:22.859Z"
   },
   {
    "duration": 26,
    "start_time": "2024-03-10T18:22:23.103Z"
   },
   {
    "duration": 27,
    "start_time": "2024-03-10T18:22:23.131Z"
   },
   {
    "duration": 17,
    "start_time": "2024-03-10T18:22:23.160Z"
   },
   {
    "duration": 238,
    "start_time": "2024-03-10T18:22:23.179Z"
   },
   {
    "duration": 473,
    "start_time": "2024-03-10T18:22:23.418Z"
   },
   {
    "duration": 20,
    "start_time": "2024-03-10T18:22:23.893Z"
   },
   {
    "duration": 1305,
    "start_time": "2024-03-10T18:24:12.391Z"
   },
   {
    "duration": 193,
    "start_time": "2024-03-10T18:24:13.698Z"
   },
   {
    "duration": 11,
    "start_time": "2024-03-10T18:24:13.892Z"
   },
   {
    "duration": 23,
    "start_time": "2024-03-10T18:24:13.904Z"
   },
   {
    "duration": 3,
    "start_time": "2024-03-10T18:24:13.929Z"
   },
   {
    "duration": 21,
    "start_time": "2024-03-10T18:24:13.933Z"
   },
   {
    "duration": 89,
    "start_time": "2024-03-10T18:24:13.956Z"
   },
   {
    "duration": 90,
    "start_time": "2024-03-10T18:24:14.046Z"
   },
   {
    "duration": 7,
    "start_time": "2024-03-10T18:24:14.137Z"
   },
   {
    "duration": 87,
    "start_time": "2024-03-10T18:24:14.146Z"
   },
   {
    "duration": 70,
    "start_time": "2024-03-10T18:24:14.234Z"
   },
   {
    "duration": 40,
    "start_time": "2024-03-10T18:24:14.306Z"
   },
   {
    "duration": 7,
    "start_time": "2024-03-10T18:24:14.347Z"
   },
   {
    "duration": 7,
    "start_time": "2024-03-10T18:24:14.358Z"
   },
   {
    "duration": 8,
    "start_time": "2024-03-10T18:24:14.383Z"
   },
   {
    "duration": 4,
    "start_time": "2024-03-10T18:24:14.392Z"
   },
   {
    "duration": 7,
    "start_time": "2024-03-10T18:24:14.397Z"
   },
   {
    "duration": 566,
    "start_time": "2024-03-10T18:24:14.406Z"
   },
   {
    "duration": 34,
    "start_time": "2024-03-10T18:24:14.974Z"
   },
   {
    "duration": 10,
    "start_time": "2024-03-10T18:24:15.010Z"
   },
   {
    "duration": 34,
    "start_time": "2024-03-10T18:24:15.021Z"
   },
   {
    "duration": 31,
    "start_time": "2024-03-10T18:24:15.057Z"
   },
   {
    "duration": 74,
    "start_time": "2024-03-10T18:24:15.090Z"
   },
   {
    "duration": 90,
    "start_time": "2024-03-10T18:24:15.166Z"
   },
   {
    "duration": 3,
    "start_time": "2024-03-10T18:24:15.258Z"
   },
   {
    "duration": 155,
    "start_time": "2024-03-10T18:24:15.263Z"
   },
   {
    "duration": 53,
    "start_time": "2024-03-10T18:24:15.419Z"
   },
   {
    "duration": 12,
    "start_time": "2024-03-10T18:24:15.473Z"
   },
   {
    "duration": 31,
    "start_time": "2024-03-10T18:24:15.486Z"
   },
   {
    "duration": 80,
    "start_time": "2024-03-10T18:24:15.519Z"
   },
   {
    "duration": 97,
    "start_time": "2024-03-10T18:24:15.600Z"
   },
   {
    "duration": 124,
    "start_time": "2024-03-10T18:24:15.699Z"
   },
   {
    "duration": 6,
    "start_time": "2024-03-10T18:24:15.825Z"
   },
   {
    "duration": 250,
    "start_time": "2024-03-10T18:24:15.833Z"
   },
   {
    "duration": 6,
    "start_time": "2024-03-10T18:24:16.084Z"
   },
   {
    "duration": 255,
    "start_time": "2024-03-10T18:24:16.091Z"
   },
   {
    "duration": 453,
    "start_time": "2024-03-10T18:24:16.348Z"
   },
   {
    "duration": 210,
    "start_time": "2024-03-10T18:24:16.802Z"
   },
   {
    "duration": 21,
    "start_time": "2024-03-10T18:24:17.014Z"
   },
   {
    "duration": 4,
    "start_time": "2024-03-10T18:24:17.036Z"
   },
   {
    "duration": 6,
    "start_time": "2024-03-10T18:24:17.043Z"
   },
   {
    "duration": 252,
    "start_time": "2024-03-10T18:24:17.050Z"
   },
   {
    "duration": 465,
    "start_time": "2024-03-10T18:24:17.303Z"
   },
   {
    "duration": 22,
    "start_time": "2024-03-10T18:24:17.782Z"
   },
   {
    "duration": 1236,
    "start_time": "2024-03-10T18:31:38.572Z"
   },
   {
    "duration": 203,
    "start_time": "2024-03-10T18:31:39.810Z"
   },
   {
    "duration": 11,
    "start_time": "2024-03-10T18:31:40.015Z"
   },
   {
    "duration": 37,
    "start_time": "2024-03-10T18:31:40.028Z"
   },
   {
    "duration": 4,
    "start_time": "2024-03-10T18:31:40.066Z"
   },
   {
    "duration": 29,
    "start_time": "2024-03-10T18:31:40.071Z"
   },
   {
    "duration": 92,
    "start_time": "2024-03-10T18:31:40.102Z"
   },
   {
    "duration": 86,
    "start_time": "2024-03-10T18:31:40.196Z"
   },
   {
    "duration": 9,
    "start_time": "2024-03-10T18:31:40.283Z"
   },
   {
    "duration": 89,
    "start_time": "2024-03-10T18:31:40.296Z"
   },
   {
    "duration": 57,
    "start_time": "2024-03-10T18:31:40.387Z"
   },
   {
    "duration": 55,
    "start_time": "2024-03-10T18:31:40.445Z"
   },
   {
    "duration": 6,
    "start_time": "2024-03-10T18:31:40.502Z"
   },
   {
    "duration": 4,
    "start_time": "2024-03-10T18:31:40.510Z"
   },
   {
    "duration": 11,
    "start_time": "2024-03-10T18:31:40.515Z"
   },
   {
    "duration": 4,
    "start_time": "2024-03-10T18:31:40.528Z"
   },
   {
    "duration": 6,
    "start_time": "2024-03-10T18:31:40.533Z"
   },
   {
    "duration": 575,
    "start_time": "2024-03-10T18:31:40.540Z"
   },
   {
    "duration": 28,
    "start_time": "2024-03-10T18:31:41.116Z"
   },
   {
    "duration": 9,
    "start_time": "2024-03-10T18:31:41.146Z"
   },
   {
    "duration": 26,
    "start_time": "2024-03-10T18:31:41.157Z"
   },
   {
    "duration": 28,
    "start_time": "2024-03-10T18:31:41.184Z"
   },
   {
    "duration": 83,
    "start_time": "2024-03-10T18:31:41.214Z"
   },
   {
    "duration": 100,
    "start_time": "2024-03-10T18:31:41.298Z"
   },
   {
    "duration": 4,
    "start_time": "2024-03-10T18:31:41.400Z"
   },
   {
    "duration": 157,
    "start_time": "2024-03-10T18:31:41.406Z"
   },
   {
    "duration": 71,
    "start_time": "2024-03-10T18:31:41.565Z"
   },
   {
    "duration": 5,
    "start_time": "2024-03-10T18:31:41.640Z"
   },
   {
    "duration": 7,
    "start_time": "2024-03-10T18:31:41.646Z"
   },
   {
    "duration": 81,
    "start_time": "2024-03-10T18:31:41.655Z"
   },
   {
    "duration": 114,
    "start_time": "2024-03-10T18:31:41.737Z"
   },
   {
    "duration": 142,
    "start_time": "2024-03-10T18:31:41.853Z"
   },
   {
    "duration": 7,
    "start_time": "2024-03-10T18:31:41.996Z"
   },
   {
    "duration": 247,
    "start_time": "2024-03-10T18:31:42.005Z"
   },
   {
    "duration": 6,
    "start_time": "2024-03-10T18:31:42.254Z"
   },
   {
    "duration": 241,
    "start_time": "2024-03-10T18:31:42.281Z"
   },
   {
    "duration": 515,
    "start_time": "2024-03-10T18:31:42.524Z"
   },
   {
    "duration": 248,
    "start_time": "2024-03-10T18:31:43.041Z"
   },
   {
    "duration": 22,
    "start_time": "2024-03-10T18:31:43.290Z"
   },
   {
    "duration": 4,
    "start_time": "2024-03-10T18:31:43.314Z"
   },
   {
    "duration": 8,
    "start_time": "2024-03-10T18:31:43.319Z"
   },
   {
    "duration": 259,
    "start_time": "2024-03-10T18:31:43.328Z"
   },
   {
    "duration": 467,
    "start_time": "2024-03-10T18:31:43.588Z"
   },
   {
    "duration": 40,
    "start_time": "2024-03-10T18:31:44.056Z"
   },
   {
    "duration": 4,
    "start_time": "2024-03-10T18:33:05.600Z"
   },
   {
    "duration": 1214,
    "start_time": "2024-03-10T18:33:09.976Z"
   },
   {
    "duration": 192,
    "start_time": "2024-03-10T18:33:11.192Z"
   },
   {
    "duration": 11,
    "start_time": "2024-03-10T18:33:11.386Z"
   },
   {
    "duration": 25,
    "start_time": "2024-03-10T18:33:11.399Z"
   },
   {
    "duration": 3,
    "start_time": "2024-03-10T18:33:11.425Z"
   },
   {
    "duration": 19,
    "start_time": "2024-03-10T18:33:11.430Z"
   },
   {
    "duration": 97,
    "start_time": "2024-03-10T18:33:11.451Z"
   },
   {
    "duration": 94,
    "start_time": "2024-03-10T18:33:11.550Z"
   },
   {
    "duration": 8,
    "start_time": "2024-03-10T18:33:11.645Z"
   },
   {
    "duration": 87,
    "start_time": "2024-03-10T18:33:11.657Z"
   },
   {
    "duration": 65,
    "start_time": "2024-03-10T18:33:11.745Z"
   },
   {
    "duration": 45,
    "start_time": "2024-03-10T18:33:11.812Z"
   },
   {
    "duration": 24,
    "start_time": "2024-03-10T18:33:11.859Z"
   },
   {
    "duration": 4,
    "start_time": "2024-03-10T18:33:11.885Z"
   },
   {
    "duration": 8,
    "start_time": "2024-03-10T18:33:11.890Z"
   },
   {
    "duration": 3,
    "start_time": "2024-03-10T18:33:11.900Z"
   },
   {
    "duration": 6,
    "start_time": "2024-03-10T18:33:11.905Z"
   },
   {
    "duration": 589,
    "start_time": "2024-03-10T18:33:11.913Z"
   },
   {
    "duration": 37,
    "start_time": "2024-03-10T18:33:12.504Z"
   },
   {
    "duration": 11,
    "start_time": "2024-03-10T18:33:12.544Z"
   },
   {
    "duration": 28,
    "start_time": "2024-03-10T18:33:12.557Z"
   },
   {
    "duration": 29,
    "start_time": "2024-03-10T18:33:12.586Z"
   },
   {
    "duration": 83,
    "start_time": "2024-03-10T18:33:12.616Z"
   },
   {
    "duration": 100,
    "start_time": "2024-03-10T18:33:12.701Z"
   },
   {
    "duration": 4,
    "start_time": "2024-03-10T18:33:12.802Z"
   },
   {
    "duration": 132,
    "start_time": "2024-03-10T18:33:12.808Z"
   },
   {
    "duration": 59,
    "start_time": "2024-03-10T18:33:12.942Z"
   },
   {
    "duration": 5,
    "start_time": "2024-03-10T18:33:13.004Z"
   },
   {
    "duration": 5,
    "start_time": "2024-03-10T18:33:13.010Z"
   },
   {
    "duration": 76,
    "start_time": "2024-03-10T18:33:13.017Z"
   },
   {
    "duration": 115,
    "start_time": "2024-03-10T18:33:13.094Z"
   },
   {
    "duration": 128,
    "start_time": "2024-03-10T18:33:13.210Z"
   },
   {
    "duration": 6,
    "start_time": "2024-03-10T18:33:13.340Z"
   },
   {
    "duration": 249,
    "start_time": "2024-03-10T18:33:13.348Z"
   },
   {
    "duration": 5,
    "start_time": "2024-03-10T18:33:13.599Z"
   },
   {
    "duration": 248,
    "start_time": "2024-03-10T18:33:13.606Z"
   },
   {
    "duration": 473,
    "start_time": "2024-03-10T18:33:13.856Z"
   },
   {
    "duration": 224,
    "start_time": "2024-03-10T18:33:14.331Z"
   },
   {
    "duration": 35,
    "start_time": "2024-03-10T18:33:14.557Z"
   },
   {
    "duration": 3,
    "start_time": "2024-03-10T18:33:14.594Z"
   },
   {
    "duration": 25,
    "start_time": "2024-03-10T18:33:14.599Z"
   },
   {
    "duration": 238,
    "start_time": "2024-03-10T18:33:14.626Z"
   },
   {
    "duration": 485,
    "start_time": "2024-03-10T18:33:14.866Z"
   },
   {
    "duration": 39,
    "start_time": "2024-03-10T18:33:15.352Z"
   },
   {
    "duration": 4,
    "start_time": "2024-03-10T18:34:44.952Z"
   },
   {
    "duration": 1155,
    "start_time": "2024-03-10T18:34:53.498Z"
   },
   {
    "duration": 187,
    "start_time": "2024-03-10T18:34:54.654Z"
   },
   {
    "duration": 11,
    "start_time": "2024-03-10T18:34:54.843Z"
   },
   {
    "duration": 44,
    "start_time": "2024-03-10T18:34:54.856Z"
   },
   {
    "duration": 3,
    "start_time": "2024-03-10T18:34:54.902Z"
   },
   {
    "duration": 21,
    "start_time": "2024-03-10T18:34:54.907Z"
   },
   {
    "duration": 88,
    "start_time": "2024-03-10T18:34:54.930Z"
   },
   {
    "duration": 95,
    "start_time": "2024-03-10T18:34:55.020Z"
   },
   {
    "duration": 7,
    "start_time": "2024-03-10T18:34:55.117Z"
   },
   {
    "duration": 89,
    "start_time": "2024-03-10T18:34:55.126Z"
   },
   {
    "duration": 70,
    "start_time": "2024-03-10T18:34:55.217Z"
   },
   {
    "duration": 49,
    "start_time": "2024-03-10T18:34:55.289Z"
   },
   {
    "duration": 6,
    "start_time": "2024-03-10T18:34:55.340Z"
   },
   {
    "duration": 13,
    "start_time": "2024-03-10T18:34:55.348Z"
   },
   {
    "duration": 20,
    "start_time": "2024-03-10T18:34:55.363Z"
   },
   {
    "duration": 5,
    "start_time": "2024-03-10T18:34:55.384Z"
   },
   {
    "duration": 7,
    "start_time": "2024-03-10T18:34:55.391Z"
   },
   {
    "duration": 536,
    "start_time": "2024-03-10T18:34:55.399Z"
   },
   {
    "duration": 28,
    "start_time": "2024-03-10T18:34:55.936Z"
   },
   {
    "duration": 24,
    "start_time": "2024-03-10T18:34:55.966Z"
   },
   {
    "duration": 16,
    "start_time": "2024-03-10T18:34:55.992Z"
   },
   {
    "duration": 36,
    "start_time": "2024-03-10T18:34:56.010Z"
   },
   {
    "duration": 87,
    "start_time": "2024-03-10T18:34:56.048Z"
   },
   {
    "duration": 92,
    "start_time": "2024-03-10T18:34:56.136Z"
   },
   {
    "duration": 4,
    "start_time": "2024-03-10T18:34:56.230Z"
   },
   {
    "duration": 132,
    "start_time": "2024-03-10T18:34:56.235Z"
   },
   {
    "duration": 54,
    "start_time": "2024-03-10T18:34:56.369Z"
   },
   {
    "duration": 6,
    "start_time": "2024-03-10T18:34:56.427Z"
   },
   {
    "duration": 5,
    "start_time": "2024-03-10T18:34:56.435Z"
   },
   {
    "duration": 84,
    "start_time": "2024-03-10T18:34:56.441Z"
   },
   {
    "duration": 99,
    "start_time": "2024-03-10T18:34:56.527Z"
   },
   {
    "duration": 131,
    "start_time": "2024-03-10T18:34:56.628Z"
   },
   {
    "duration": 8,
    "start_time": "2024-03-10T18:34:56.761Z"
   },
   {
    "duration": 227,
    "start_time": "2024-03-10T18:34:56.771Z"
   },
   {
    "duration": 5,
    "start_time": "2024-03-10T18:34:57.000Z"
   },
   {
    "duration": 225,
    "start_time": "2024-03-10T18:34:57.007Z"
   },
   {
    "duration": 427,
    "start_time": "2024-03-10T18:34:57.234Z"
   },
   {
    "duration": 222,
    "start_time": "2024-03-10T18:34:57.663Z"
   },
   {
    "duration": 29,
    "start_time": "2024-03-10T18:34:57.887Z"
   },
   {
    "duration": 5,
    "start_time": "2024-03-10T18:34:57.917Z"
   },
   {
    "duration": 7,
    "start_time": "2024-03-10T18:34:57.923Z"
   },
   {
    "duration": 210,
    "start_time": "2024-03-10T18:34:57.983Z"
   },
   {
    "duration": 590,
    "start_time": "2024-03-10T18:34:58.195Z"
   },
   {
    "duration": 21,
    "start_time": "2024-03-10T18:34:58.787Z"
   },
   {
    "duration": 1231,
    "start_time": "2024-03-10T18:37:07.274Z"
   },
   {
    "duration": 191,
    "start_time": "2024-03-10T18:37:08.506Z"
   },
   {
    "duration": 11,
    "start_time": "2024-03-10T18:37:08.699Z"
   },
   {
    "duration": 24,
    "start_time": "2024-03-10T18:37:08.711Z"
   },
   {
    "duration": 3,
    "start_time": "2024-03-10T18:37:08.737Z"
   },
   {
    "duration": 41,
    "start_time": "2024-03-10T18:37:08.742Z"
   },
   {
    "duration": 69,
    "start_time": "2024-03-10T18:37:08.785Z"
   },
   {
    "duration": 89,
    "start_time": "2024-03-10T18:37:08.855Z"
   },
   {
    "duration": 7,
    "start_time": "2024-03-10T18:37:08.946Z"
   },
   {
    "duration": 87,
    "start_time": "2024-03-10T18:37:08.956Z"
   },
   {
    "duration": 66,
    "start_time": "2024-03-10T18:37:09.045Z"
   },
   {
    "duration": 39,
    "start_time": "2024-03-10T18:37:09.113Z"
   },
   {
    "duration": 6,
    "start_time": "2024-03-10T18:37:09.154Z"
   },
   {
    "duration": 21,
    "start_time": "2024-03-10T18:37:09.161Z"
   },
   {
    "duration": 16,
    "start_time": "2024-03-10T18:37:09.184Z"
   },
   {
    "duration": 4,
    "start_time": "2024-03-10T18:37:09.202Z"
   },
   {
    "duration": 6,
    "start_time": "2024-03-10T18:37:09.208Z"
   },
   {
    "duration": 567,
    "start_time": "2024-03-10T18:37:09.215Z"
   },
   {
    "duration": 29,
    "start_time": "2024-03-10T18:37:09.783Z"
   },
   {
    "duration": 9,
    "start_time": "2024-03-10T18:37:09.813Z"
   },
   {
    "duration": 6,
    "start_time": "2024-03-10T18:37:09.824Z"
   },
   {
    "duration": 55,
    "start_time": "2024-03-10T18:37:09.832Z"
   },
   {
    "duration": 64,
    "start_time": "2024-03-10T18:37:09.889Z"
   },
   {
    "duration": 104,
    "start_time": "2024-03-10T18:37:09.955Z"
   },
   {
    "duration": 3,
    "start_time": "2024-03-10T18:37:10.061Z"
   },
   {
    "duration": 132,
    "start_time": "2024-03-10T18:37:10.066Z"
   },
   {
    "duration": 51,
    "start_time": "2024-03-10T18:37:10.200Z"
   },
   {
    "duration": 5,
    "start_time": "2024-03-10T18:37:10.254Z"
   },
   {
    "duration": 5,
    "start_time": "2024-03-10T18:37:10.261Z"
   },
   {
    "duration": 63,
    "start_time": "2024-03-10T18:37:10.283Z"
   },
   {
    "duration": 110,
    "start_time": "2024-03-10T18:37:10.347Z"
   },
   {
    "duration": 116,
    "start_time": "2024-03-10T18:37:10.459Z"
   },
   {
    "duration": 6,
    "start_time": "2024-03-10T18:37:10.582Z"
   },
   {
    "duration": 233,
    "start_time": "2024-03-10T18:37:10.590Z"
   },
   {
    "duration": 6,
    "start_time": "2024-03-10T18:37:10.825Z"
   },
   {
    "duration": 240,
    "start_time": "2024-03-10T18:37:10.832Z"
   },
   {
    "duration": 453,
    "start_time": "2024-03-10T18:37:11.074Z"
   },
   {
    "duration": 209,
    "start_time": "2024-03-10T18:37:11.529Z"
   },
   {
    "duration": 22,
    "start_time": "2024-03-10T18:37:11.739Z"
   },
   {
    "duration": 4,
    "start_time": "2024-03-10T18:37:11.782Z"
   },
   {
    "duration": 12,
    "start_time": "2024-03-10T18:37:11.787Z"
   },
   {
    "duration": 245,
    "start_time": "2024-03-10T18:37:11.800Z"
   },
   {
    "duration": 488,
    "start_time": "2024-03-10T18:37:12.046Z"
   },
   {
    "duration": 23,
    "start_time": "2024-03-10T18:37:12.536Z"
   },
   {
    "duration": 1145,
    "start_time": "2024-03-10T21:39:32.663Z"
   },
   {
    "duration": 456,
    "start_time": "2024-03-10T21:39:33.809Z"
   },
   {
    "duration": 10,
    "start_time": "2024-03-10T21:39:34.267Z"
   },
   {
    "duration": 23,
    "start_time": "2024-03-10T21:39:34.278Z"
   },
   {
    "duration": 2,
    "start_time": "2024-03-10T21:39:34.302Z"
   },
   {
    "duration": 14,
    "start_time": "2024-03-10T21:39:34.306Z"
   },
   {
    "duration": 61,
    "start_time": "2024-03-10T21:39:34.322Z"
   },
   {
    "duration": 79,
    "start_time": "2024-03-10T21:39:34.385Z"
   },
   {
    "duration": 6,
    "start_time": "2024-03-10T21:39:34.465Z"
   },
   {
    "duration": 66,
    "start_time": "2024-03-10T21:39:34.473Z"
   },
   {
    "duration": 43,
    "start_time": "2024-03-10T21:39:34.541Z"
   },
   {
    "duration": 45,
    "start_time": "2024-03-10T21:39:34.586Z"
   },
   {
    "duration": 6,
    "start_time": "2024-03-10T21:39:34.633Z"
   },
   {
    "duration": 21,
    "start_time": "2024-03-10T21:39:34.640Z"
   },
   {
    "duration": 9,
    "start_time": "2024-03-10T21:39:34.662Z"
   },
   {
    "duration": 19,
    "start_time": "2024-03-10T21:39:34.672Z"
   },
   {
    "duration": 16,
    "start_time": "2024-03-10T21:39:34.692Z"
   },
   {
    "duration": 493,
    "start_time": "2024-03-10T21:39:34.709Z"
   },
   {
    "duration": 26,
    "start_time": "2024-03-10T21:39:35.203Z"
   },
   {
    "duration": 19,
    "start_time": "2024-03-10T21:39:35.230Z"
   },
   {
    "duration": 27,
    "start_time": "2024-03-10T21:39:35.250Z"
   },
   {
    "duration": 19,
    "start_time": "2024-03-10T21:39:35.278Z"
   },
   {
    "duration": 81,
    "start_time": "2024-03-10T21:39:35.298Z"
   },
   {
    "duration": 65,
    "start_time": "2024-03-10T21:39:35.380Z"
   },
   {
    "duration": 4,
    "start_time": "2024-03-10T21:39:35.447Z"
   },
   {
    "duration": 110,
    "start_time": "2024-03-10T21:39:35.452Z"
   },
   {
    "duration": 43,
    "start_time": "2024-03-10T21:39:35.564Z"
   },
   {
    "duration": 4,
    "start_time": "2024-03-10T21:39:35.610Z"
   },
   {
    "duration": 34,
    "start_time": "2024-03-10T21:39:35.615Z"
   },
   {
    "duration": 55,
    "start_time": "2024-03-10T21:39:35.650Z"
   },
   {
    "duration": 78,
    "start_time": "2024-03-10T21:39:35.706Z"
   },
   {
    "duration": 97,
    "start_time": "2024-03-10T21:39:35.785Z"
   },
   {
    "duration": 6,
    "start_time": "2024-03-10T21:39:35.883Z"
   },
   {
    "duration": 169,
    "start_time": "2024-03-10T21:39:35.901Z"
   },
   {
    "duration": 4,
    "start_time": "2024-03-10T21:39:36.071Z"
   },
   {
    "duration": 196,
    "start_time": "2024-03-10T21:39:36.076Z"
   },
   {
    "duration": 345,
    "start_time": "2024-03-10T21:39:36.273Z"
   },
   {
    "duration": 183,
    "start_time": "2024-03-10T21:39:36.619Z"
   },
   {
    "duration": 15,
    "start_time": "2024-03-10T21:39:36.804Z"
   },
   {
    "duration": 7,
    "start_time": "2024-03-10T21:39:36.821Z"
   },
   {
    "duration": 14,
    "start_time": "2024-03-10T21:39:36.829Z"
   },
   {
    "duration": 168,
    "start_time": "2024-03-10T21:39:36.845Z"
   },
   {
    "duration": 345,
    "start_time": "2024-03-10T21:39:37.015Z"
   },
   {
    "duration": 15,
    "start_time": "2024-03-10T21:39:37.361Z"
   },
   {
    "duration": 51,
    "start_time": "2024-03-11T00:22:59.591Z"
   },
   {
    "duration": 6,
    "start_time": "2024-03-11T00:24:52.315Z"
   },
   {
    "duration": 6,
    "start_time": "2024-03-11T00:24:59.869Z"
   },
   {
    "duration": 1396,
    "start_time": "2024-03-11T00:25:06.348Z"
   },
   {
    "duration": 727,
    "start_time": "2024-03-11T00:25:07.747Z"
   },
   {
    "duration": 12,
    "start_time": "2024-03-11T00:25:08.476Z"
   },
   {
    "duration": 24,
    "start_time": "2024-03-11T00:25:08.490Z"
   },
   {
    "duration": 3,
    "start_time": "2024-03-11T00:25:08.516Z"
   },
   {
    "duration": 32,
    "start_time": "2024-03-11T00:25:08.520Z"
   },
   {
    "duration": 73,
    "start_time": "2024-03-11T00:25:08.554Z"
   },
   {
    "duration": 93,
    "start_time": "2024-03-11T00:25:08.629Z"
   },
   {
    "duration": 7,
    "start_time": "2024-03-11T00:25:08.724Z"
   },
   {
    "duration": 91,
    "start_time": "2024-03-11T00:25:08.733Z"
   },
   {
    "duration": 87,
    "start_time": "2024-03-11T00:25:08.825Z"
   },
   {
    "duration": 38,
    "start_time": "2024-03-11T00:25:08.914Z"
   },
   {
    "duration": 6,
    "start_time": "2024-03-11T00:25:08.954Z"
   },
   {
    "duration": 10,
    "start_time": "2024-03-11T00:25:08.962Z"
   },
   {
    "duration": 21,
    "start_time": "2024-03-11T00:25:08.974Z"
   },
   {
    "duration": 4,
    "start_time": "2024-03-11T00:25:08.997Z"
   },
   {
    "duration": 6,
    "start_time": "2024-03-11T00:25:09.003Z"
   },
   {
    "duration": 600,
    "start_time": "2024-03-11T00:25:09.011Z"
   },
   {
    "duration": 28,
    "start_time": "2024-03-11T00:25:09.613Z"
   },
   {
    "duration": 23,
    "start_time": "2024-03-11T00:25:09.643Z"
   },
   {
    "duration": 24,
    "start_time": "2024-03-11T00:25:09.667Z"
   },
   {
    "duration": 49,
    "start_time": "2024-03-11T00:25:09.692Z"
   },
   {
    "duration": 87,
    "start_time": "2024-03-11T00:25:09.743Z"
   },
   {
    "duration": 103,
    "start_time": "2024-03-11T00:25:09.833Z"
   },
   {
    "duration": 5,
    "start_time": "2024-03-11T00:25:09.939Z"
   },
   {
    "duration": 134,
    "start_time": "2024-03-11T00:25:09.946Z"
   },
   {
    "duration": 53,
    "start_time": "2024-03-11T00:25:10.082Z"
   },
   {
    "duration": 6,
    "start_time": "2024-03-11T00:25:10.138Z"
   },
   {
    "duration": 9,
    "start_time": "2024-03-11T00:25:10.145Z"
   },
   {
    "duration": 80,
    "start_time": "2024-03-11T00:25:10.155Z"
   },
   {
    "duration": 105,
    "start_time": "2024-03-11T00:25:10.236Z"
   },
   {
    "duration": 118,
    "start_time": "2024-03-11T00:25:10.343Z"
   },
   {
    "duration": 7,
    "start_time": "2024-03-11T00:25:10.462Z"
   },
   {
    "duration": 244,
    "start_time": "2024-03-11T00:25:10.472Z"
   },
   {
    "duration": 7,
    "start_time": "2024-03-11T00:25:10.718Z"
   },
   {
    "duration": 266,
    "start_time": "2024-03-11T00:25:10.728Z"
   },
   {
    "duration": 505,
    "start_time": "2024-03-11T00:25:10.996Z"
   },
   {
    "duration": 210,
    "start_time": "2024-03-11T00:25:11.503Z"
   },
   {
    "duration": 23,
    "start_time": "2024-03-11T00:25:11.714Z"
   },
   {
    "duration": 4,
    "start_time": "2024-03-11T00:25:11.739Z"
   },
   {
    "duration": 7,
    "start_time": "2024-03-11T00:25:11.744Z"
   },
   {
    "duration": 269,
    "start_time": "2024-03-11T00:25:11.753Z"
   },
   {
    "duration": 500,
    "start_time": "2024-03-11T00:25:12.024Z"
   },
   {
    "duration": 20,
    "start_time": "2024-03-11T00:25:12.526Z"
   },
   {
    "duration": 7,
    "start_time": "2024-03-11T00:26:28.007Z"
   },
   {
    "duration": 110,
    "start_time": "2024-03-11T00:29:04.865Z"
   },
   {
    "duration": 33,
    "start_time": "2024-03-11T00:29:28.840Z"
   },
   {
    "duration": 1174,
    "start_time": "2024-03-11T00:29:42.214Z"
   },
   {
    "duration": 198,
    "start_time": "2024-03-11T00:29:43.390Z"
   },
   {
    "duration": 12,
    "start_time": "2024-03-11T00:29:43.590Z"
   },
   {
    "duration": 44,
    "start_time": "2024-03-11T00:29:43.604Z"
   },
   {
    "duration": 3,
    "start_time": "2024-03-11T00:29:43.650Z"
   },
   {
    "duration": 32,
    "start_time": "2024-03-11T00:29:43.655Z"
   },
   {
    "duration": 71,
    "start_time": "2024-03-11T00:29:43.689Z"
   },
   {
    "duration": 85,
    "start_time": "2024-03-11T00:29:43.762Z"
   },
   {
    "duration": 8,
    "start_time": "2024-03-11T00:29:43.849Z"
   },
   {
    "duration": 92,
    "start_time": "2024-03-11T00:29:43.860Z"
   },
   {
    "duration": 75,
    "start_time": "2024-03-11T00:29:43.954Z"
   },
   {
    "duration": 47,
    "start_time": "2024-03-11T00:29:44.031Z"
   },
   {
    "duration": 17,
    "start_time": "2024-03-11T00:29:44.079Z"
   },
   {
    "duration": 4,
    "start_time": "2024-03-11T00:29:44.098Z"
   },
   {
    "duration": 16,
    "start_time": "2024-03-11T00:29:44.104Z"
   },
   {
    "duration": 10,
    "start_time": "2024-03-11T00:29:44.121Z"
   },
   {
    "duration": 10,
    "start_time": "2024-03-11T00:29:44.133Z"
   },
   {
    "duration": 559,
    "start_time": "2024-03-11T00:29:44.144Z"
   },
   {
    "duration": 27,
    "start_time": "2024-03-11T00:29:44.705Z"
   },
   {
    "duration": 9,
    "start_time": "2024-03-11T00:29:44.734Z"
   },
   {
    "duration": 54,
    "start_time": "2024-03-11T00:29:44.745Z"
   },
   {
    "duration": 28,
    "start_time": "2024-03-11T00:29:44.800Z"
   },
   {
    "duration": 80,
    "start_time": "2024-03-11T00:29:44.830Z"
   },
   {
    "duration": 85,
    "start_time": "2024-03-11T00:29:44.912Z"
   },
   {
    "duration": 4,
    "start_time": "2024-03-11T00:29:44.999Z"
   },
   {
    "duration": 160,
    "start_time": "2024-03-11T00:29:45.005Z"
   },
   {
    "duration": 54,
    "start_time": "2024-03-11T00:29:45.166Z"
   },
   {
    "duration": 312,
    "start_time": "2024-03-11T00:29:45.223Z"
   },
   {
    "duration": 27,
    "start_time": "2024-03-11T00:29:45.536Z"
   },
   {
    "duration": 85,
    "start_time": "2024-03-11T00:29:45.564Z"
   },
   {
    "duration": 104,
    "start_time": "2024-03-11T00:29:45.651Z"
   },
   {
    "duration": 132,
    "start_time": "2024-03-11T00:29:45.756Z"
   },
   {
    "duration": 6,
    "start_time": "2024-03-11T00:29:45.892Z"
   },
   {
    "duration": 250,
    "start_time": "2024-03-11T00:29:45.900Z"
   },
   {
    "duration": 6,
    "start_time": "2024-03-11T00:29:46.152Z"
   },
   {
    "duration": 247,
    "start_time": "2024-03-11T00:29:46.159Z"
   },
   {
    "duration": 496,
    "start_time": "2024-03-11T00:29:46.407Z"
   },
   {
    "duration": 214,
    "start_time": "2024-03-11T00:29:46.904Z"
   },
   {
    "duration": 20,
    "start_time": "2024-03-11T00:29:47.119Z"
   },
   {
    "duration": 10,
    "start_time": "2024-03-11T00:29:47.141Z"
   },
   {
    "duration": 17,
    "start_time": "2024-03-11T00:29:47.152Z"
   },
   {
    "duration": 242,
    "start_time": "2024-03-11T00:29:47.171Z"
   },
   {
    "duration": 485,
    "start_time": "2024-03-11T00:29:47.415Z"
   },
   {
    "duration": 22,
    "start_time": "2024-03-11T00:29:47.902Z"
   },
   {
    "duration": 106,
    "start_time": "2024-03-11T00:30:10.846Z"
   },
   {
    "duration": 1154,
    "start_time": "2024-04-23T10:15:00.599Z"
   },
   {
    "duration": 296,
    "start_time": "2024-04-23T10:15:01.755Z"
   },
   {
    "duration": 13,
    "start_time": "2024-04-23T10:15:02.052Z"
   },
   {
    "duration": 69,
    "start_time": "2024-04-23T10:15:02.066Z"
   },
   {
    "duration": 17,
    "start_time": "2024-04-23T10:15:02.138Z"
   },
   {
    "duration": 61,
    "start_time": "2024-04-23T10:15:02.158Z"
   },
   {
    "duration": 73,
    "start_time": "2024-04-23T10:15:02.221Z"
   },
   {
    "duration": 87,
    "start_time": "2024-04-23T10:15:02.297Z"
   },
   {
    "duration": 7,
    "start_time": "2024-04-23T10:15:02.386Z"
   },
   {
    "duration": 142,
    "start_time": "2024-04-23T10:15:02.394Z"
   },
   {
    "duration": 63,
    "start_time": "2024-04-23T10:15:02.538Z"
   },
   {
    "duration": 279,
    "start_time": "2024-04-23T10:15:02.603Z"
   },
   {
    "duration": 192,
    "start_time": "2024-04-23T10:15:02.884Z"
   },
   {
    "duration": 140,
    "start_time": "2024-04-23T10:15:03.079Z"
   },
   {
    "duration": 24,
    "start_time": "2024-04-23T10:15:03.220Z"
   },
   {
    "duration": 4,
    "start_time": "2024-04-23T10:15:03.245Z"
   },
   {
    "duration": 13,
    "start_time": "2024-04-23T10:15:03.251Z"
   },
   {
    "duration": 530,
    "start_time": "2024-04-23T10:15:03.266Z"
   },
   {
    "duration": 29,
    "start_time": "2024-04-23T10:15:03.798Z"
   },
   {
    "duration": 35,
    "start_time": "2024-04-23T10:15:03.829Z"
   },
   {
    "duration": 90,
    "start_time": "2024-04-23T10:15:03.866Z"
   },
   {
    "duration": 27,
    "start_time": "2024-04-23T10:15:03.959Z"
   },
   {
    "duration": 102,
    "start_time": "2024-04-23T10:15:03.988Z"
   },
   {
    "duration": 98,
    "start_time": "2024-04-23T10:15:04.092Z"
   },
   {
    "duration": 5,
    "start_time": "2024-04-23T10:15:04.191Z"
   },
   {
    "duration": 131,
    "start_time": "2024-04-23T10:15:04.197Z"
   },
   {
    "duration": 58,
    "start_time": "2024-04-23T10:15:04.329Z"
   },
   {
    "duration": 6,
    "start_time": "2024-04-23T10:15:04.389Z"
   },
   {
    "duration": 24,
    "start_time": "2024-04-23T10:15:04.397Z"
   },
   {
    "duration": 65,
    "start_time": "2024-04-23T10:15:04.422Z"
   },
   {
    "duration": 95,
    "start_time": "2024-04-23T10:15:04.489Z"
   },
   {
    "duration": 122,
    "start_time": "2024-04-23T10:15:04.585Z"
   },
   {
    "duration": 10,
    "start_time": "2024-04-23T10:15:04.709Z"
   },
   {
    "duration": 216,
    "start_time": "2024-04-23T10:15:04.721Z"
   },
   {
    "duration": 23,
    "start_time": "2024-04-23T10:15:04.939Z"
   },
   {
    "duration": 235,
    "start_time": "2024-04-23T10:15:04.964Z"
   },
   {
    "duration": 440,
    "start_time": "2024-04-23T10:15:05.201Z"
   },
   {
    "duration": 220,
    "start_time": "2024-04-23T10:15:05.661Z"
   },
   {
    "duration": 26,
    "start_time": "2024-04-23T10:15:05.883Z"
   },
   {
    "duration": 5,
    "start_time": "2024-04-23T10:15:05.910Z"
   },
   {
    "duration": 51,
    "start_time": "2024-04-23T10:15:05.919Z"
   },
   {
    "duration": 246,
    "start_time": "2024-04-23T10:15:05.972Z"
   },
   {
    "duration": 511,
    "start_time": "2024-04-23T10:15:06.220Z"
   },
   {
    "duration": 43,
    "start_time": "2024-04-23T10:15:06.732Z"
   }
  ],
  "kernelspec": {
   "display_name": "Python 3 (ipykernel)",
   "language": "python",
   "name": "python3"
  },
  "language_info": {
   "codemirror_mode": {
    "name": "ipython",
    "version": 3
   },
   "file_extension": ".py",
   "mimetype": "text/x-python",
   "name": "python",
   "nbconvert_exporter": "python",
   "pygments_lexer": "ipython3",
   "version": "3.9.5"
  },
  "toc": {
   "base_numbering": 1,
   "nav_menu": {},
   "number_sections": true,
   "sideBar": true,
   "skip_h1_title": true,
   "title_cell": "Table of Contents",
   "title_sidebar": "Contents",
   "toc_cell": false,
   "toc_position": {
    "height": "calc(100% - 180px)",
    "left": "10px",
    "top": "150px",
    "width": "171.7px"
   },
   "toc_section_display": true,
   "toc_window_display": true
  }
 },
 "nbformat": 4,
 "nbformat_minor": 2
}
