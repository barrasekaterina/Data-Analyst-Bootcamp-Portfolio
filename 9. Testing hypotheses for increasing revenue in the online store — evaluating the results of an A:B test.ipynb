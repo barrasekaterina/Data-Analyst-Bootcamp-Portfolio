{
 "cells": [
  {
   "cell_type": "markdown",
   "metadata": {},
   "source": [
    "# Оптимизация маркетинговых стратегий для увеличения выручки интернет-магазина через анализ A/B-теста"
   ]
  },
  {
   "cell_type": "markdown",
   "metadata": {},
   "source": [
    "**Описание проекта**\n",
    "\n",
    "***Контекст***\n",
    "\n",
    "Вы — аналитик крупного интернет-магазина. Вместе с отделом маркетинга вы подготовили список гипотез для увеличения выручки.\n",
    "Приоритизируйте гипотезы, запустите A/B-тест и проанализируйте результаты. "
   ]
  },
  {
   "cell_type": "markdown",
   "metadata": {},
   "source": [
    "**Описание данных**\n",
    "\n",
    "***Данные для первой части***\n",
    "- Файл /datasets/hypothesis.csv. Скачать датасет\n",
    "- Hypothesis — краткое описание гипотезы;\n",
    "- Reach — охват пользователей по 10-балльной шкале;\n",
    "- Impact — влияние на пользователей по 10-балльной шкале;\n",
    "- Confidence — уверенность в гипотезе по 10-балльной шкале;\n",
    "- Efforts — затраты ресурсов на проверку гипотезы по 10-балльной шкале. Чем больше значение Efforts, тем дороже проверка гипотезы.\n",
    "\n",
    "***Данные для второй части***\n",
    "\n",
    "Файл /datasets/orders.csv. Скачать датасет\n",
    "- transactionId — идентификатор заказа;\n",
    "- visitorId — идентификатор пользователя, совершившего заказ;\n",
    "- date — дата, когда был совершён заказ;\n",
    "- revenue — выручка заказа;\n",
    "- group — группа A/B-теста, в которую попал заказ.\n",
    "\n",
    "Файл /datasets/visitors.csv. Скачать датасет\n",
    "- date — дата;\n",
    "- group — группа A/B-теста;\n",
    "- visitors — количество пользователей в указанную дату в указанной группе A/B-теста"
   ]
  },
  {
   "cell_type": "markdown",
   "metadata": {},
   "source": [
    "Основные этапы проекта:\n",
    "\n",
    "**Шаг 1: Предобработка данных**\n",
    "Сначала я загрузила данные о гипотезах, заказах и посетителях. После осмотра, я удостоверилась, что данные качественные: пропусков нет, дубликаты отсутствуют. Даты были представлены в формате object, что потребовало их преобразования в datetime для удобства анализа.\n",
    "\n",
    "**Шаг 2: Приоритизация гипотез**\n",
    "Я применила фреймворки ICE и RICE для приоритизации гипотез и обнаружила, что приоритеты меняются в зависимости от учета охвата изменений (параметр Reach). Это позволило мне определить, какие изменения окажут наибольшее влияние на пользователей.\n",
    "\n",
    "**Шаг 3: Анализ A/B-теста**\n",
    "Я построила графики кумулятивной выручки, среднего чека, и относительного изменения среднего чека и количества заказов между группами. Это дало мне возможность наблюдать за динамикой теста и выявить аномальные значения.\n",
    "\n",
    "**Шаг 4: Статистический анализ**\n",
    "Я проверила статистическую значимость различий в среднем количестве заказов и среднем чеке между группами. Использовала критерий Манна-Уитни, чтобы определить наличие значимых различий между группами A и B как по \"сырым\", так и по \"очищенным\" данным."
   ]
  },
  {
   "cell_type": "code",
   "execution_count": 1,
   "metadata": {},
   "outputs": [],
   "source": [
    "import pandas as pd\n",
    "import numpy as np\n",
    "import datetime\n",
    "import matplotlib.pyplot as plt\n",
    "from scipy.stats import mannwhitneyu"
   ]
  },
  {
   "cell_type": "markdown",
   "metadata": {},
   "source": [
    "**Обзор и предобработка данных**"
   ]
  },
  {
   "cell_type": "code",
   "execution_count": 2,
   "metadata": {},
   "outputs": [],
   "source": [
    "# Загрузка данных из файлов\n",
    "hypothesis = pd.read_csv('/datasets/hypothesis.csv')\n",
    "orders = pd.read_csv('/datasets/orders.csv')\n",
    "visitors = pd.read_csv('/datasets/visitors.csv')"
   ]
  },
  {
   "cell_type": "code",
   "execution_count": 3,
   "metadata": {
    "scrolled": true
   },
   "outputs": [
    {
     "data": {
      "text/html": [
       "<div>\n",
       "<style scoped>\n",
       "    .dataframe tbody tr th:only-of-type {\n",
       "        vertical-align: middle;\n",
       "    }\n",
       "\n",
       "    .dataframe tbody tr th {\n",
       "        vertical-align: top;\n",
       "    }\n",
       "\n",
       "    .dataframe thead th {\n",
       "        text-align: right;\n",
       "    }\n",
       "</style>\n",
       "<table border=\"1\" class=\"dataframe\">\n",
       "  <thead>\n",
       "    <tr style=\"text-align: right;\">\n",
       "      <th></th>\n",
       "      <th>Hypothesis</th>\n",
       "      <th>Reach</th>\n",
       "      <th>Impact</th>\n",
       "      <th>Confidence</th>\n",
       "      <th>Efforts</th>\n",
       "    </tr>\n",
       "  </thead>\n",
       "  <tbody>\n",
       "    <tr>\n",
       "      <th>0</th>\n",
       "      <td>Добавить два новых канала привлечения трафика, что позволит привлекать на 30% больше пользователей</td>\n",
       "      <td>3</td>\n",
       "      <td>10</td>\n",
       "      <td>8</td>\n",
       "      <td>6</td>\n",
       "    </tr>\n",
       "    <tr>\n",
       "      <th>1</th>\n",
       "      <td>Запустить собственную службу доставки, что сократит срок доставки заказов</td>\n",
       "      <td>2</td>\n",
       "      <td>5</td>\n",
       "      <td>4</td>\n",
       "      <td>10</td>\n",
       "    </tr>\n",
       "    <tr>\n",
       "      <th>2</th>\n",
       "      <td>Добавить блоки рекомендаций товаров на сайт интернет магазина, чтобы повысить конверсию и средний чек заказа</td>\n",
       "      <td>8</td>\n",
       "      <td>3</td>\n",
       "      <td>7</td>\n",
       "      <td>3</td>\n",
       "    </tr>\n",
       "    <tr>\n",
       "      <th>3</th>\n",
       "      <td>Изменить структура категорий, что увеличит конверсию, т.к. пользователи быстрее найдут нужный товар</td>\n",
       "      <td>8</td>\n",
       "      <td>3</td>\n",
       "      <td>3</td>\n",
       "      <td>8</td>\n",
       "    </tr>\n",
       "    <tr>\n",
       "      <th>4</th>\n",
       "      <td>Изменить цвет фона главной страницы, чтобы увеличить вовлеченность пользователей</td>\n",
       "      <td>3</td>\n",
       "      <td>1</td>\n",
       "      <td>1</td>\n",
       "      <td>1</td>\n",
       "    </tr>\n",
       "  </tbody>\n",
       "</table>\n",
       "</div>"
      ],
      "text/plain": [
       "                                                                                                     Hypothesis  \\\n",
       "0            Добавить два новых канала привлечения трафика, что позволит привлекать на 30% больше пользователей   \n",
       "1                                     Запустить собственную службу доставки, что сократит срок доставки заказов   \n",
       "2  Добавить блоки рекомендаций товаров на сайт интернет магазина, чтобы повысить конверсию и средний чек заказа   \n",
       "3           Изменить структура категорий, что увеличит конверсию, т.к. пользователи быстрее найдут нужный товар   \n",
       "4                              Изменить цвет фона главной страницы, чтобы увеличить вовлеченность пользователей   \n",
       "\n",
       "   Reach  Impact  Confidence  Efforts  \n",
       "0      3      10           8        6  \n",
       "1      2       5           4       10  \n",
       "2      8       3           7        3  \n",
       "3      8       3           3        8  \n",
       "4      3       1           1        1  "
      ]
     },
     "execution_count": 3,
     "metadata": {},
     "output_type": "execute_result"
    }
   ],
   "source": [
    "# Настройка отображения, чтобы названия гипотез выводились целиком\n",
    "pd.set_option('display.max_colwidth', None)\n",
    "\n",
    "# Показать первые пять строк датафрейма hypothesis\n",
    "hypothesis.head()"
   ]
  },
  {
   "cell_type": "code",
   "execution_count": 4,
   "metadata": {},
   "outputs": [
    {
     "name": "stdout",
     "output_type": "stream",
     "text": [
      "<class 'pandas.core.frame.DataFrame'>\n",
      "RangeIndex: 9 entries, 0 to 8\n",
      "Data columns (total 5 columns):\n",
      " #   Column      Non-Null Count  Dtype \n",
      "---  ------      --------------  ----- \n",
      " 0   Hypothesis  9 non-null      object\n",
      " 1   Reach       9 non-null      int64 \n",
      " 2   Impact      9 non-null      int64 \n",
      " 3   Confidence  9 non-null      int64 \n",
      " 4   Efforts     9 non-null      int64 \n",
      "dtypes: int64(4), object(1)\n",
      "memory usage: 488.0+ bytes\n"
     ]
    }
   ],
   "source": [
    "# Вывести информацию о DataFrame hypothesis, включая количество непустых значений и типы данных\n",
    "hypothesis.info()"
   ]
  },
  {
   "cell_type": "code",
   "execution_count": 5,
   "metadata": {},
   "outputs": [
    {
     "data": {
      "text/html": [
       "<div>\n",
       "<style scoped>\n",
       "    .dataframe tbody tr th:only-of-type {\n",
       "        vertical-align: middle;\n",
       "    }\n",
       "\n",
       "    .dataframe tbody tr th {\n",
       "        vertical-align: top;\n",
       "    }\n",
       "\n",
       "    .dataframe thead th {\n",
       "        text-align: right;\n",
       "    }\n",
       "</style>\n",
       "<table border=\"1\" class=\"dataframe\">\n",
       "  <thead>\n",
       "    <tr style=\"text-align: right;\">\n",
       "      <th></th>\n",
       "      <th>transactionId</th>\n",
       "      <th>visitorId</th>\n",
       "      <th>date</th>\n",
       "      <th>revenue</th>\n",
       "      <th>group</th>\n",
       "    </tr>\n",
       "  </thead>\n",
       "  <tbody>\n",
       "    <tr>\n",
       "      <th>0</th>\n",
       "      <td>3667963787</td>\n",
       "      <td>3312258926</td>\n",
       "      <td>2019-08-15</td>\n",
       "      <td>1650</td>\n",
       "      <td>B</td>\n",
       "    </tr>\n",
       "    <tr>\n",
       "      <th>1</th>\n",
       "      <td>2804400009</td>\n",
       "      <td>3642806036</td>\n",
       "      <td>2019-08-15</td>\n",
       "      <td>730</td>\n",
       "      <td>B</td>\n",
       "    </tr>\n",
       "    <tr>\n",
       "      <th>2</th>\n",
       "      <td>2961555356</td>\n",
       "      <td>4069496402</td>\n",
       "      <td>2019-08-15</td>\n",
       "      <td>400</td>\n",
       "      <td>A</td>\n",
       "    </tr>\n",
       "    <tr>\n",
       "      <th>3</th>\n",
       "      <td>3797467345</td>\n",
       "      <td>1196621759</td>\n",
       "      <td>2019-08-15</td>\n",
       "      <td>9759</td>\n",
       "      <td>B</td>\n",
       "    </tr>\n",
       "    <tr>\n",
       "      <th>4</th>\n",
       "      <td>2282983706</td>\n",
       "      <td>2322279887</td>\n",
       "      <td>2019-08-15</td>\n",
       "      <td>2308</td>\n",
       "      <td>B</td>\n",
       "    </tr>\n",
       "  </tbody>\n",
       "</table>\n",
       "</div>"
      ],
      "text/plain": [
       "   transactionId   visitorId        date  revenue group\n",
       "0     3667963787  3312258926  2019-08-15     1650     B\n",
       "1     2804400009  3642806036  2019-08-15      730     B\n",
       "2     2961555356  4069496402  2019-08-15      400     A\n",
       "3     3797467345  1196621759  2019-08-15     9759     B\n",
       "4     2282983706  2322279887  2019-08-15     2308     B"
      ]
     },
     "execution_count": 5,
     "metadata": {},
     "output_type": "execute_result"
    }
   ],
   "source": [
    "# Показать первые пять строк датафрейма orders\n",
    "orders.head()"
   ]
  },
  {
   "cell_type": "code",
   "execution_count": 6,
   "metadata": {},
   "outputs": [
    {
     "name": "stdout",
     "output_type": "stream",
     "text": [
      "<class 'pandas.core.frame.DataFrame'>\n",
      "RangeIndex: 1197 entries, 0 to 1196\n",
      "Data columns (total 5 columns):\n",
      " #   Column         Non-Null Count  Dtype \n",
      "---  ------         --------------  ----- \n",
      " 0   transactionId  1197 non-null   int64 \n",
      " 1   visitorId      1197 non-null   int64 \n",
      " 2   date           1197 non-null   object\n",
      " 3   revenue        1197 non-null   int64 \n",
      " 4   group          1197 non-null   object\n",
      "dtypes: int64(3), object(2)\n",
      "memory usage: 46.9+ KB\n"
     ]
    }
   ],
   "source": [
    "# Получить информацию о датафрейме orders, включая типы данных и количество непустых значений\n",
    "orders.info()"
   ]
  },
  {
   "cell_type": "code",
   "execution_count": 7,
   "metadata": {},
   "outputs": [
    {
     "data": {
      "text/html": [
       "<div>\n",
       "<style scoped>\n",
       "    .dataframe tbody tr th:only-of-type {\n",
       "        vertical-align: middle;\n",
       "    }\n",
       "\n",
       "    .dataframe tbody tr th {\n",
       "        vertical-align: top;\n",
       "    }\n",
       "\n",
       "    .dataframe thead th {\n",
       "        text-align: right;\n",
       "    }\n",
       "</style>\n",
       "<table border=\"1\" class=\"dataframe\">\n",
       "  <thead>\n",
       "    <tr style=\"text-align: right;\">\n",
       "      <th></th>\n",
       "      <th>date</th>\n",
       "      <th>group</th>\n",
       "      <th>visitors</th>\n",
       "    </tr>\n",
       "  </thead>\n",
       "  <tbody>\n",
       "    <tr>\n",
       "      <th>0</th>\n",
       "      <td>2019-08-01</td>\n",
       "      <td>A</td>\n",
       "      <td>719</td>\n",
       "    </tr>\n",
       "    <tr>\n",
       "      <th>1</th>\n",
       "      <td>2019-08-02</td>\n",
       "      <td>A</td>\n",
       "      <td>619</td>\n",
       "    </tr>\n",
       "    <tr>\n",
       "      <th>2</th>\n",
       "      <td>2019-08-03</td>\n",
       "      <td>A</td>\n",
       "      <td>507</td>\n",
       "    </tr>\n",
       "    <tr>\n",
       "      <th>3</th>\n",
       "      <td>2019-08-04</td>\n",
       "      <td>A</td>\n",
       "      <td>717</td>\n",
       "    </tr>\n",
       "    <tr>\n",
       "      <th>4</th>\n",
       "      <td>2019-08-05</td>\n",
       "      <td>A</td>\n",
       "      <td>756</td>\n",
       "    </tr>\n",
       "  </tbody>\n",
       "</table>\n",
       "</div>"
      ],
      "text/plain": [
       "         date group  visitors\n",
       "0  2019-08-01     A       719\n",
       "1  2019-08-02     A       619\n",
       "2  2019-08-03     A       507\n",
       "3  2019-08-04     A       717\n",
       "4  2019-08-05     A       756"
      ]
     },
     "execution_count": 7,
     "metadata": {},
     "output_type": "execute_result"
    }
   ],
   "source": [
    "# Показать первые пять строк датафрейма visitors\n",
    "visitors.head()"
   ]
  },
  {
   "cell_type": "code",
   "execution_count": 8,
   "metadata": {},
   "outputs": [
    {
     "name": "stdout",
     "output_type": "stream",
     "text": [
      "<class 'pandas.core.frame.DataFrame'>\n",
      "RangeIndex: 62 entries, 0 to 61\n",
      "Data columns (total 3 columns):\n",
      " #   Column    Non-Null Count  Dtype \n",
      "---  ------    --------------  ----- \n",
      " 0   date      62 non-null     object\n",
      " 1   group     62 non-null     object\n",
      " 2   visitors  62 non-null     int64 \n",
      "dtypes: int64(1), object(2)\n",
      "memory usage: 1.6+ KB\n"
     ]
    }
   ],
   "source": [
    "# Получить информацию о датафрейме visitors, включая типы данных и количество непустых значений\n",
    "visitors.info()"
   ]
  },
  {
   "cell_type": "code",
   "execution_count": 9,
   "metadata": {},
   "outputs": [
    {
     "name": "stdout",
     "output_type": "stream",
     "text": [
      "Количество дубликатов в hypothesis: 0\n",
      "Количество дубликатов в orders: 0\n",
      "Количество дубликатов в visitors: 0\n"
     ]
    }
   ],
   "source": [
    "# Проверить наличие дубликатов в датафрейме hypothesis и посчитать их количество\n",
    "duplicates_hypothesis = hypothesis.duplicated().sum()\n",
    "print(f'Количество дубликатов в hypothesis: {duplicates_hypothesis}')\n",
    "\n",
    "# Проверить наличие дубликатов в датафрейме orders и посчитать их количество\n",
    "duplicates_orders = orders.duplicated().sum()\n",
    "print(f'Количество дубликатов в orders: {duplicates_orders}')\n",
    "\n",
    "# Проверить наличие дубликатов в датафрейме visitors и посчитать их количество\n",
    "duplicates_visitors = visitors.duplicated().sum()\n",
    "print(f'Количество дубликатов в visitors: {duplicates_visitors}')"
   ]
  },
  {
   "cell_type": "markdown",
   "metadata": {},
   "source": [
    "Я провела первоначальный анализ предоставленных нам таблиц. В ходе осмотра данных было выявлено, что они не содержат пропусков, что является хорошим показателем их качества. Однако были обнаружены некоторые моменты, требующие внимания: в частности, столбцы, предназначенные для хранения дат, были обнаружены в формате `object`, что не является оптимальным выбором для дальнейшей работы с этими данными. Такой тип данных может усложнить выполнение операций, связанных с датами и временем, и потребует их преобразования в более подходящий формат, например, `datetime64[ns]`, для упрощения анализа и обработки."
   ]
  },
  {
   "cell_type": "code",
   "execution_count": 10,
   "metadata": {},
   "outputs": [
    {
     "name": "stdout",
     "output_type": "stream",
     "text": [
      "Уникальные группы в orders: ['B' 'A']\n",
      "Уникальные группы в visitors: ['A' 'B']\n"
     ]
    }
   ],
   "source": [
    "# Получаем уникальные значения в колонке 'group' из датафрейма orders\n",
    "unique_groups_orders = orders['group'].unique()\n",
    "# Выводим на экран уникальные группы, найденные в датафрейме orders\n",
    "print(f'Уникальные группы в orders: {unique_groups_orders}')\n",
    "\n",
    "# Получаем уникальные значения в колонке 'group' из датафрейма visitors\n",
    "unique_groups_visitors = visitors['group'].unique()\n",
    "# Выводим на экран уникальные группы, найденные в датафрейме visitors\n",
    "print(f'Уникальные группы в visitors: {unique_groups_visitors}')"
   ]
  },
  {
   "cell_type": "code",
   "execution_count": 11,
   "metadata": {},
   "outputs": [
    {
     "name": "stdout",
     "output_type": "stream",
     "text": [
      "Дата начала теста: 2019-08-01\n",
      "Дата окончания теста: 2019-08-31\n"
     ]
    }
   ],
   "source": [
    "# Находим минимальную дату в колонке 'date' датафрейма orders, что соответствует дате начала теста\n",
    "test_start_date = orders['date'].min()\n",
    "# Находим максимальную дату в колонке 'date' датафрейма orders, что соответствует дате окончания теста\n",
    "test_end_date = orders['date'].max()\n",
    "\n",
    "# Выводим дату начала теста\n",
    "print(f'Дата начала теста: {test_start_date}')\n",
    "# Выводим дату окончания теста\n",
    "print(f'Дата окончания теста: {test_end_date}')"
   ]
  },
  {
   "cell_type": "code",
   "execution_count": 12,
   "metadata": {},
   "outputs": [
    {
     "name": "stdout",
     "output_type": "stream",
     "text": [
      "Количество пользователей, попадающих в обе группы: 58\n"
     ]
    }
   ],
   "source": [
    "# Проверяем уникальность пользователей в группах\n",
    "unique_groups_per_user = orders.groupby('visitorId')['group'].nunique()\n",
    "users_in_both_groups = unique_groups_per_user[unique_groups_per_user > 1].count()\n",
    "\n",
    "print(f'Количество пользователей, попадающих в обе группы: {users_in_both_groups}')"
   ]
  },
  {
   "cell_type": "markdown",
   "metadata": {},
   "source": [
    "- Уникальность групп: В обоих датафреймах orders и visitors идентифицированы уникальные группы 'A' и 'B', что указывает на наличие двух различных групп для тестирования. Это стандартная практика для A/B тестирования, где одна группа обычно является контрольной, а другая — экспериментальной.\n",
    "\n",
    "- Период тестирования: Тестирование проводилось в течение месяца, с 1 по 31 августа 2019 года. Этот временной промежуток позволяет собрать достаточно данных для анализа результатов теста.\n",
    "\n",
    "- Проблема с пересечением групп: Было выявлено, что некоторые пользователи попадают в обе тестовые группы, что является серьёзной проблемой для A/B тестирования. Такое пересечение может исказить результаты теста, так как одни и те же пользователи подвергаются воздействию обоих условий теста, что может привести к невозможности чётко определить, какое воздействие привело к изменениям в поведении или результатах."
   ]
  },
  {
   "cell_type": "markdown",
   "metadata": {},
   "source": [
    "**Часть 1. Приоритизация гипотез.**\n",
    "\n",
    "В файле /datasets/hypothesis.csv 9 гипотез по увеличению выручки интернет-магазина с указанными параметрами Reach, Impact, Confidence, Effort."
   ]
  },
  {
   "cell_type": "markdown",
   "metadata": {},
   "source": [
    "**Примените фреймворк ICE для приоритизации гипотез. Отсортируйте их по убыванию приоритета.**"
   ]
  },
  {
   "cell_type": "code",
   "execution_count": 13,
   "metadata": {},
   "outputs": [
    {
     "data": {
      "text/html": [
       "<div>\n",
       "<style scoped>\n",
       "    .dataframe tbody tr th:only-of-type {\n",
       "        vertical-align: middle;\n",
       "    }\n",
       "\n",
       "    .dataframe tbody tr th {\n",
       "        vertical-align: top;\n",
       "    }\n",
       "\n",
       "    .dataframe thead th {\n",
       "        text-align: right;\n",
       "    }\n",
       "</style>\n",
       "<table border=\"1\" class=\"dataframe\">\n",
       "  <thead>\n",
       "    <tr style=\"text-align: right;\">\n",
       "      <th></th>\n",
       "      <th>Hypothesis</th>\n",
       "      <th>ICE</th>\n",
       "    </tr>\n",
       "  </thead>\n",
       "  <tbody>\n",
       "    <tr>\n",
       "      <th>8</th>\n",
       "      <td>Запустить акцию, дающую скидку на товар в день рождения</td>\n",
       "      <td>16.20</td>\n",
       "    </tr>\n",
       "    <tr>\n",
       "      <th>0</th>\n",
       "      <td>Добавить два новых канала привлечения трафика, что позволит привлекать на 30% больше пользователей</td>\n",
       "      <td>13.33</td>\n",
       "    </tr>\n",
       "    <tr>\n",
       "      <th>7</th>\n",
       "      <td>Добавить форму подписки на все основные страницы, чтобы собрать базу клиентов для email-рассылок</td>\n",
       "      <td>11.20</td>\n",
       "    </tr>\n",
       "    <tr>\n",
       "      <th>6</th>\n",
       "      <td>Показать на главной странице баннеры с актуальными акциями и распродажами, чтобы увеличить конверсию</td>\n",
       "      <td>8.00</td>\n",
       "    </tr>\n",
       "    <tr>\n",
       "      <th>2</th>\n",
       "      <td>Добавить блоки рекомендаций товаров на сайт интернет магазина, чтобы повысить конверсию и средний чек заказа</td>\n",
       "      <td>7.00</td>\n",
       "    </tr>\n",
       "    <tr>\n",
       "      <th>1</th>\n",
       "      <td>Запустить собственную службу доставки, что сократит срок доставки заказов</td>\n",
       "      <td>2.00</td>\n",
       "    </tr>\n",
       "    <tr>\n",
       "      <th>5</th>\n",
       "      <td>Добавить страницу отзывов клиентов о магазине, что позволит увеличить количество заказов</td>\n",
       "      <td>1.33</td>\n",
       "    </tr>\n",
       "    <tr>\n",
       "      <th>3</th>\n",
       "      <td>Изменить структура категорий, что увеличит конверсию, т.к. пользователи быстрее найдут нужный товар</td>\n",
       "      <td>1.12</td>\n",
       "    </tr>\n",
       "    <tr>\n",
       "      <th>4</th>\n",
       "      <td>Изменить цвет фона главной страницы, чтобы увеличить вовлеченность пользователей</td>\n",
       "      <td>1.00</td>\n",
       "    </tr>\n",
       "  </tbody>\n",
       "</table>\n",
       "</div>"
      ],
      "text/plain": [
       "                                                                                                     Hypothesis  \\\n",
       "8                                                       Запустить акцию, дающую скидку на товар в день рождения   \n",
       "0            Добавить два новых канала привлечения трафика, что позволит привлекать на 30% больше пользователей   \n",
       "7              Добавить форму подписки на все основные страницы, чтобы собрать базу клиентов для email-рассылок   \n",
       "6          Показать на главной странице баннеры с актуальными акциями и распродажами, чтобы увеличить конверсию   \n",
       "2  Добавить блоки рекомендаций товаров на сайт интернет магазина, чтобы повысить конверсию и средний чек заказа   \n",
       "1                                     Запустить собственную службу доставки, что сократит срок доставки заказов   \n",
       "5                      Добавить страницу отзывов клиентов о магазине, что позволит увеличить количество заказов   \n",
       "3           Изменить структура категорий, что увеличит конверсию, т.к. пользователи быстрее найдут нужный товар   \n",
       "4                              Изменить цвет фона главной страницы, чтобы увеличить вовлеченность пользователей   \n",
       "\n",
       "     ICE  \n",
       "8  16.20  \n",
       "0  13.33  \n",
       "7  11.20  \n",
       "6   8.00  \n",
       "2   7.00  \n",
       "1   2.00  \n",
       "5   1.33  \n",
       "3   1.12  \n",
       "4   1.00  "
      ]
     },
     "execution_count": 13,
     "metadata": {},
     "output_type": "execute_result"
    }
   ],
   "source": [
    "# Расчет ICE\n",
    "hypothesis['ICE'] = (hypothesis['Impact'] * hypothesis['Confidence']) / hypothesis['Efforts']\n",
    "\n",
    "# Округление значений ICE до двух знаков после запятой\n",
    "hypothesis['ICE'] = hypothesis['ICE'].round(2)\n",
    "\n",
    "# Сортировка гипотез по убыванию ICE и RICE\n",
    "ice_sorted = hypothesis.sort_values(by='ICE', ascending=False)\n",
    "\n",
    "# Вывод результатов\n",
    "ice_sorted[['Hypothesis', 'ICE']]"
   ]
  },
  {
   "cell_type": "markdown",
   "metadata": {},
   "source": [
    "Приоритизация гипотез с использованием фреймворка ICE показала, что наиболее перспективными являются следующие гипотезы:\n",
    "- Запустить акцию, дающую скидку на товар в день рождения.\n",
    "- Добавить два новых канала привлечения трафика, которые приведут 30% новых клиентов.\n",
    "- Добавить форму подписки на все основные страницы, чтобы собирать базу для email-рассылок."
   ]
  },
  {
   "cell_type": "markdown",
   "metadata": {},
   "source": [
    "**Примените фреймворк RICE для приоритизации гипотез. Отсортируйте их по убыванию приоритета.**"
   ]
  },
  {
   "cell_type": "code",
   "execution_count": 14,
   "metadata": {},
   "outputs": [
    {
     "data": {
      "text/html": [
       "<div>\n",
       "<style scoped>\n",
       "    .dataframe tbody tr th:only-of-type {\n",
       "        vertical-align: middle;\n",
       "    }\n",
       "\n",
       "    .dataframe tbody tr th {\n",
       "        vertical-align: top;\n",
       "    }\n",
       "\n",
       "    .dataframe thead th {\n",
       "        text-align: right;\n",
       "    }\n",
       "</style>\n",
       "<table border=\"1\" class=\"dataframe\">\n",
       "  <thead>\n",
       "    <tr style=\"text-align: right;\">\n",
       "      <th></th>\n",
       "      <th>Hypothesis</th>\n",
       "      <th>RICE</th>\n",
       "    </tr>\n",
       "  </thead>\n",
       "  <tbody>\n",
       "    <tr>\n",
       "      <th>7</th>\n",
       "      <td>Добавить форму подписки на все основные страницы, чтобы собрать базу клиентов для email-рассылок</td>\n",
       "      <td>112.0</td>\n",
       "    </tr>\n",
       "    <tr>\n",
       "      <th>2</th>\n",
       "      <td>Добавить блоки рекомендаций товаров на сайт интернет магазина, чтобы повысить конверсию и средний чек заказа</td>\n",
       "      <td>56.0</td>\n",
       "    </tr>\n",
       "    <tr>\n",
       "      <th>0</th>\n",
       "      <td>Добавить два новых канала привлечения трафика, что позволит привлекать на 30% больше пользователей</td>\n",
       "      <td>40.0</td>\n",
       "    </tr>\n",
       "    <tr>\n",
       "      <th>6</th>\n",
       "      <td>Показать на главной странице баннеры с актуальными акциями и распродажами, чтобы увеличить конверсию</td>\n",
       "      <td>40.0</td>\n",
       "    </tr>\n",
       "    <tr>\n",
       "      <th>8</th>\n",
       "      <td>Запустить акцию, дающую скидку на товар в день рождения</td>\n",
       "      <td>16.2</td>\n",
       "    </tr>\n",
       "    <tr>\n",
       "      <th>3</th>\n",
       "      <td>Изменить структура категорий, что увеличит конверсию, т.к. пользователи быстрее найдут нужный товар</td>\n",
       "      <td>9.0</td>\n",
       "    </tr>\n",
       "    <tr>\n",
       "      <th>1</th>\n",
       "      <td>Запустить собственную службу доставки, что сократит срок доставки заказов</td>\n",
       "      <td>4.0</td>\n",
       "    </tr>\n",
       "    <tr>\n",
       "      <th>5</th>\n",
       "      <td>Добавить страницу отзывов клиентов о магазине, что позволит увеличить количество заказов</td>\n",
       "      <td>4.0</td>\n",
       "    </tr>\n",
       "    <tr>\n",
       "      <th>4</th>\n",
       "      <td>Изменить цвет фона главной страницы, чтобы увеличить вовлеченность пользователей</td>\n",
       "      <td>3.0</td>\n",
       "    </tr>\n",
       "  </tbody>\n",
       "</table>\n",
       "</div>"
      ],
      "text/plain": [
       "                                                                                                     Hypothesis  \\\n",
       "7              Добавить форму подписки на все основные страницы, чтобы собрать базу клиентов для email-рассылок   \n",
       "2  Добавить блоки рекомендаций товаров на сайт интернет магазина, чтобы повысить конверсию и средний чек заказа   \n",
       "0            Добавить два новых канала привлечения трафика, что позволит привлекать на 30% больше пользователей   \n",
       "6          Показать на главной странице баннеры с актуальными акциями и распродажами, чтобы увеличить конверсию   \n",
       "8                                                       Запустить акцию, дающую скидку на товар в день рождения   \n",
       "3           Изменить структура категорий, что увеличит конверсию, т.к. пользователи быстрее найдут нужный товар   \n",
       "1                                     Запустить собственную службу доставки, что сократит срок доставки заказов   \n",
       "5                      Добавить страницу отзывов клиентов о магазине, что позволит увеличить количество заказов   \n",
       "4                              Изменить цвет фона главной страницы, чтобы увеличить вовлеченность пользователей   \n",
       "\n",
       "    RICE  \n",
       "7  112.0  \n",
       "2   56.0  \n",
       "0   40.0  \n",
       "6   40.0  \n",
       "8   16.2  \n",
       "3    9.0  \n",
       "1    4.0  \n",
       "5    4.0  \n",
       "4    3.0  "
      ]
     },
     "execution_count": 14,
     "metadata": {},
     "output_type": "execute_result"
    }
   ],
   "source": [
    "# Расчет RICE\n",
    "hypothesis['RICE'] = (hypothesis['Reach'] * hypothesis['Impact'] * hypothesis['Confidence']) / hypothesis['Efforts']\n",
    "\n",
    "# Сортировка гипотез по убыванию ICE и RICE\n",
    "rice_sorted = hypothesis.sort_values(by='RICE', ascending=False)\n",
    "\n",
    "# Вывод результатов\n",
    "rice_sorted[['Hypothesis', 'RICE']]"
   ]
  },
  {
   "cell_type": "markdown",
   "metadata": {},
   "source": [
    "Приоритизация гипотез с использованием фреймворка RICE показала немного иное распределение приоритетов:\n",
    "- Добавить форму подписки на все основные страницы, чтобы собирать базу для email-рассылок.\n",
    "- Добавить блоки рекомендаций товаров на сайт интернет-магазина, увеличив конверсию и средний чек.\n",
    "- Добавить два новых канала привлечения трафика, которые приведут 30% новых клиентов."
   ]
  },
  {
   "cell_type": "markdown",
   "metadata": {},
   "source": [
    "**Укажите, как изменилась приоритизация гипотез при применении RICE вместо ICE. Объясните, почему так произошло.**"
   ]
  },
  {
   "cell_type": "markdown",
   "metadata": {},
   "source": [
    "Изменение приоритизации гипотез при применении RICE вместо ICE произошло из-за учета параметра Reach (охват пользователей), который влияет на общую оценку эффективности гипотезы. Гипотеза о добавлении формы подписки стала лидером по RICE благодаря высокому охвату пользователей, что повышает ее потенциальное влияние на всю аудиторию. В то время как гипотезы с высокими показателями Impact и Confidence, но низким Reach, получают меньший приоритет при оценке по RICE."
   ]
  },
  {
   "cell_type": "markdown",
   "metadata": {},
   "source": [
    "**Часть 2. Анализ A/B-теста**"
   ]
  },
  {
   "cell_type": "code",
   "execution_count": 15,
   "metadata": {},
   "outputs": [],
   "source": [
    "# Преобразование даты в формат datetime\n",
    "orders['date'] = pd.to_datetime(orders['date'])\n",
    "visitors['date'] = pd.to_datetime(visitors['date'])"
   ]
  },
  {
   "cell_type": "markdown",
   "metadata": {},
   "source": [
    "**1. Постройте график кумулятивной выручки по группам. Сделайте выводы и предположения.**"
   ]
  },
  {
   "cell_type": "code",
   "execution_count": 16,
   "metadata": {},
   "outputs": [
    {
     "data": {
      "image/png": "[encoded data removed]",
      "text/plain": [
       "<Figure size 1008x504 with 1 Axes>"
      ]
     },
     "metadata": {
      "needs_background": "light"
     },
     "output_type": "display_data"
    }
   ],
   "source": [
    "# Сортировка данных по дате и группе\n",
    "orders_sorted = orders.sort_values(by=['date', 'group'])\n",
    "# Расчет кумулятивной выручки по дням и группам\n",
    "cumulative_revenue = orders_sorted.groupby(['date', 'group'])['revenue'].sum().groupby(level=1).cumsum().reset_index()\n",
    "# Подготовка данных для графиков\n",
    "cumulative_revenue_a = cumulative_revenue[cumulative_revenue['group'] == 'A']\n",
    "cumulative_revenue_b = cumulative_revenue[cumulative_revenue['group'] == 'B']\n",
    "# Построение графика\n",
    "plt.figure(figsize=(14, 7))\n",
    "plt.plot(cumulative_revenue_a['date'], cumulative_revenue_a['revenue'], label='Группа A')\n",
    "plt.plot(cumulative_revenue_b['date'], cumulative_revenue_b['revenue'], label='Группа B')\n",
    "plt.title('Кумулятивная выручка по группам')\n",
    "plt.xlabel('Дата')\n",
    "plt.ylabel('Кумулятивная выручка')\n",
    "plt.legend()\n",
    "plt.xticks(rotation=45)\n",
    "plt.grid(True)\n",
    "plt.show()"
   ]
  },
  {
   "cell_type": "markdown",
   "metadata": {},
   "source": [
    "На графике кумулятивной выручки видно, что выручка обеих групп увеличивается в течение всего теста. Однако для группы B наблюдается более резкий рост в середине тестового периода - примерно 18.08.2019. Это может указывать на наличие крупных заказов в группе B или более высокую эффективность тестируемых изменений.\n",
    "\n",
    "- Группа B демонстрирует более высокий рост кумулятивной выручки по сравнению с группой A, что может быть свидетельством более высокой конверсии или наличия крупных заказов.\n",
    "- Необходимо проанализировать распределение заказов по стоимости, чтобы определить, не искажают ли крупные заказы общую картину."
   ]
  },
  {
   "cell_type": "markdown",
   "metadata": {},
   "source": [
    "**2. Постройте график кумулятивного среднего чека по группам. Сделайте выводы и предположения.**"
   ]
  },
  {
   "cell_type": "code",
   "execution_count": 17,
   "metadata": {},
   "outputs": [
    {
     "data": {
      "image/png": "[encoded data removed]",
      "text/plain": [
       "<Figure size 1008x504 with 1 Axes>"
      ]
     },
     "metadata": {
      "needs_background": "light"
     },
     "output_type": "display_data"
    }
   ],
   "source": [
    "# Расчет кумулятивного среднего чека\n",
    "cumulative_revenue['cumulative_orders'] = orders_sorted.groupby(['date', 'group']).size().groupby(level=1).cumsum().reset_index(drop=True)\n",
    "cumulative_revenue['average_check'] = cumulative_revenue['revenue'] / cumulative_revenue['cumulative_orders']\n",
    "# Подготовка данных для графиков\n",
    "cumulative_revenue_a = cumulative_revenue[cumulative_revenue['group'] == 'A']\n",
    "cumulative_revenue_b = cumulative_revenue[cumulative_revenue['group'] == 'B']\n",
    "# Построение графика\n",
    "plt.figure(figsize=(14, 7))\n",
    "plt.plot(cumulative_revenue_a['date'], cumulative_revenue_a['average_check'], label='Группа A')\n",
    "plt.plot(cumulative_revenue_b['date'], cumulative_revenue_b['average_check'], label='Группа B')\n",
    "plt.title('Кумулятивный средний чек по группам')\n",
    "plt.xlabel('Дата')\n",
    "plt.ylabel('Кумулятивный средний чек')\n",
    "plt.legend()\n",
    "plt.xticks(rotation=45)\n",
    "plt.grid(True)\n",
    "plt.show()"
   ]
  },
  {
   "cell_type": "markdown",
   "metadata": {},
   "source": [
    "На графике кумулятивного среднего чека по группам видно, что средний чек группы B значительно превышает средний чек группы A, особенно после резкого скачка в середине периода. Этот скачок может указывать на наличие аномально крупных заказов в группе B. После скачка средний чек группы B постепенно снижается, что может быть следствием увеличения числа заказов с более низкой стоимостью.\n",
    "\n",
    "- Группа B демонстрирует более высокий средний чек по сравнению с группой A, что может свидетельствовать о повышенной покупательской способности или наличии дорогих заказов.\n",
    "- Важно провести дополнительный анализ для выявления аномальных заказов, так как они могут искажать общую картину."
   ]
  },
  {
   "cell_type": "markdown",
   "metadata": {},
   "source": [
    "**3. Постройте график относительного изменения кумулятивного среднего чека группы B к группе A. Сделайте выводы и предположения.**"
   ]
  },
  {
   "cell_type": "code",
   "execution_count": 18,
   "metadata": {},
   "outputs": [
    {
     "data": {
      "image/png": "[encoded data removed]",
      "text/plain": [
       "<Figure size 1008x504 with 1 Axes>"
      ]
     },
     "metadata": {
      "needs_background": "light"
     },
     "output_type": "display_data"
    }
   ],
   "source": [
    "# Слияние данных по среднему чеку двух групп\n",
    "merged_cumulative_revenue = cumulative_revenue_a[['date', 'average_check']].merge(\n",
    "    cumulative_revenue_b[['date', 'average_check']], left_on='date', right_on='date', how='left', suffixes=['_a', '_b']\n",
    ")\n",
    "# Расчет относительного изменения кумулятивного среднего чека\n",
    "merged_cumulative_revenue['relative_change'] = (merged_cumulative_revenue['average_check_b'] / merged_cumulative_revenue['average_check_a']) - 1\n",
    "# Построение графика\n",
    "plt.figure(figsize=(14, 7))\n",
    "plt.plot(merged_cumulative_revenue['date'], merged_cumulative_revenue['relative_change'])\n",
    "plt.title('Относительное изменение кумулятивного среднего чека группы B к группе A')\n",
    "plt.xlabel('Дата')\n",
    "plt.ylabel('Относительное изменение')\n",
    "plt.axhline(y=0, color='black', linestyle='--')\n",
    "plt.xticks(rotation=45)\n",
    "plt.grid(True)\n",
    "plt.show()"
   ]
  },
  {
   "cell_type": "markdown",
   "metadata": {},
   "source": [
    "На графике относительного изменения кумулятивного среднего чека группы B к группе A видно, что изменения между группами нестабильны на протяжении всего теста. В определенные дни наблюдаются существенные скачки, особенно после резкого роста в середине периода, что подтверждает предположение об аномально крупных заказах в группе B.\n",
    "\n",
    "- Нестабильность относительного изменения кумулятивного среднего чека указывает на наличие крупных заказов, которые искажают общую картину.\n",
    "- Для более точной оценки влияния изменений на средний чек необходимо провести анализ аномалий и возможно исключить их из рассмотрения."
   ]
  },
  {
   "cell_type": "markdown",
   "metadata": {},
   "source": [
    "**4. Постройте график кумулятивного среднего количества заказов на посетителя по группам. Сделайте выводы и предположения.**"
   ]
  },
  {
   "cell_type": "code",
   "execution_count": 19,
   "metadata": {},
   "outputs": [
    {
     "data": {
      "image/png": "[encoded data removed]",
      "text/plain": [
       "<Figure size 1008x504 with 1 Axes>"
      ]
     },
     "metadata": {
      "needs_background": "light"
     },
     "output_type": "display_data"
    }
   ],
   "source": [
    "# Расчет кумулятивного количества заказов и посетителей по дням и группам\n",
    "cumulative_orders = orders_sorted.groupby(['date', 'group']).size().groupby(level=1).cumsum().reset_index(name='cumulative_orders')\n",
    "cumulative_visitors = visitors.groupby(['date', 'group'])['visitors'].sum().groupby(level=1).cumsum().reset_index(name='cumulative_visitors')\n",
    "# Слияние данных по группам для расчета среднего количества заказов на посетителя\n",
    "cumulative_data = cumulative_orders.merge(cumulative_visitors, on=['date', 'group'])\n",
    "cumulative_data['avg_orders_per_visitor'] = cumulative_data['cumulative_orders'] / cumulative_data['cumulative_visitors']\n",
    "# Подготовка данных для графиков\n",
    "cumulative_data_a = cumulative_data[cumulative_data['group'] == 'A']\n",
    "cumulative_data_b = cumulative_data[cumulative_data['group'] == 'B']\n",
    "# Построение графика\n",
    "plt.figure(figsize=(14, 7))\n",
    "plt.plot(cumulative_data_a['date'], cumulative_data_a['avg_orders_per_visitor'], label='Группа A')\n",
    "plt.plot(cumulative_data_b['date'], cumulative_data_b['avg_orders_per_visitor'], label='Группа B')\n",
    "plt.title('Кумулятивное среднее количество заказов на посетителя по группам')\n",
    "plt.xlabel('Дата')\n",
    "plt.ylabel('Среднее количество заказов на посетителя')\n",
    "plt.legend()\n",
    "plt.xticks(rotation=45)\n",
    "plt.grid(True)\n",
    "plt.show()"
   ]
  },
  {
   "cell_type": "markdown",
   "metadata": {},
   "source": [
    "На графике кумулятивного среднего количества заказов на посетителя по группам видно, что значения для обеих групп в целом близки друг к другу на протяжении всего тестового периода. Однако, группа B показывает немного более высокие значения среднего количества заказов на посетителя, особенно в середине периода.\n",
    "\n",
    "- Группа B немного превосходит группу A по среднему количеству заказов на посетителя, что может свидетельствовать о более высокой конверсии или более эффективном привлечении целевой аудитории.\n",
    "- Различия между группами не настолько существенны, как в случае среднего чека, что указывает на более равномерное распределение заказов между посетителями."
   ]
  },
  {
   "cell_type": "markdown",
   "metadata": {},
   "source": [
    "**5. Постройте график относительного изменения кумулятивного среднего количества заказов на посетителя группы B к группе A. Сделайте выводы и предположения.**"
   ]
  },
  {
   "cell_type": "code",
   "execution_count": 20,
   "metadata": {},
   "outputs": [
    {
     "data": {
      "image/png": "[encoded data removed]",
      "text/plain": [
       "<Figure size 1008x504 with 1 Axes>"
      ]
     },
     "metadata": {
      "needs_background": "light"
     },
     "output_type": "display_data"
    }
   ],
   "source": [
    "# Слияние данных по среднему количеству заказов на посетителя двух групп\n",
    "merged_cumulative_orders = cumulative_data_a[['date', 'avg_orders_per_visitor']].merge(\n",
    "    cumulative_data_b[['date', 'avg_orders_per_visitor']], left_on='date', right_on='date', how='left', suffixes=['_a', '_b']\n",
    ")\n",
    "# Расчет относительного изменения кумулятивного среднего количества заказов на посетителя\n",
    "merged_cumulative_orders['relative_change'] = (merged_cumulative_orders['avg_orders_per_visitor_b'] / merged_cumulative_orders['avg_orders_per_visitor_a']) - 1\n",
    "# Построение графика\n",
    "plt.figure(figsize=(14, 7))\n",
    "plt.plot(merged_cumulative_orders['date'], merged_cumulative_orders['relative_change'])\n",
    "plt.title('Относительное изменение кумулятивного среднего количества заказов на посетителя группы B к группе A')\n",
    "plt.xlabel('Дата')\n",
    "plt.ylabel('Относительное изменение')\n",
    "plt.axhline(y=0, color='black', linestyle='--')\n",
    "plt.xticks(rotation=45)\n",
    "plt.grid(True)\n",
    "plt.show()"
   ]
  },
  {
   "cell_type": "markdown",
   "metadata": {},
   "source": [
    "На графике относительного изменения кумулятивного среднего количества заказов на посетителя между группами B и A видно, что относительное изменение, в среднем, составляет около 0.10, указывая на то, что группа B в среднем на 10% опережает группу A. Наблюдаются периоды, когда преимущество группы B становится еще более выраженным, особенно заметное в середине тестового периода, после чего различия между группами снова приближаются к среднему уровню преимущества в 10%."
   ]
  },
  {
   "cell_type": "markdown",
   "metadata": {},
   "source": [
    "**6. Постройте точечный график количества заказов по пользователям. Сделайте выводы и предположения.**"
   ]
  },
  {
   "cell_type": "code",
   "execution_count": 21,
   "metadata": {},
   "outputs": [
    {
     "data": {
      "image/png": "[encoded data removed]",
      "text/plain": [
       "<Figure size 720x432 with 1 Axes>"
      ]
     },
     "metadata": {
      "needs_background": "light"
     },
     "output_type": "display_data"
    }
   ],
   "source": [
    "# Подсчет количества заказов по пользователям\n",
    "orders_by_users = orders.groupby('visitorId').agg({'transactionId': pd.Series.nunique}).reset_index()\n",
    "orders_by_users.columns = ['visitorId', 'orders']\n",
    "# Построение точечного графика\n",
    "plt.figure(figsize=(10, 6))\n",
    "plt.scatter(orders_by_users['visitorId'], orders_by_users['orders'], alpha=0.5)\n",
    "plt.title('Количество заказов по пользователям')\n",
    "plt.xlabel('Идентификатор пользователя')\n",
    "plt.ylabel('Количество заказов')\n",
    "plt.grid(True)\n",
    "plt.show()"
   ]
  },
  {
   "cell_type": "code",
   "execution_count": 22,
   "metadata": {},
   "outputs": [
    {
     "data": {
      "text/plain": [
       "count    1031.000000\n",
       "mean        1.161009\n",
       "std         0.724919\n",
       "min         1.000000\n",
       "25%         1.000000\n",
       "50%         1.000000\n",
       "75%         1.000000\n",
       "max        11.000000\n",
       "Name: orders, dtype: float64"
      ]
     },
     "execution_count": 22,
     "metadata": {},
     "output_type": "execute_result"
    }
   ],
   "source": [
    "# Вывод распределения количества заказов на пользователя\n",
    "orders_by_users['orders'].describe()"
   ]
  },
  {
   "cell_type": "markdown",
   "metadata": {},
   "source": [
    "На точечном графике количества заказов по пользователям видно, что большинство пользователей совершают 1 заказ. Однако существует небольшое количество пользователей, совершающих более одного заказа, и очень немногие из них делают более двух заказов. Максимальное количество заказов на одного пользователя составляет 11.\n",
    "\n",
    "- Подавляющее большинство пользователей совершают только один заказ за период тестирования, что говорит о высокой доле однократных покупок.\n",
    "- Наличие пользователей с количеством заказов более одного может указывать на наличие лояльной аудитории или на то, что некоторые пользователи были более активны в период проведения теста.\n",
    "- Пользователи, совершающие более двух заказов, могут рассматриваться как аномальные, так как они существенно отклоняются от большинства."
   ]
  },
  {
   "cell_type": "markdown",
   "metadata": {},
   "source": [
    "**7. Посчитайте 95-й и 99-й перцентили количества заказов на пользователя. Выберите границу для определения аномальных пользователей.**"
   ]
  },
  {
   "cell_type": "code",
   "execution_count": 23,
   "metadata": {},
   "outputs": [
    {
     "data": {
      "text/plain": [
       "array([2., 4.])"
      ]
     },
     "execution_count": 23,
     "metadata": {},
     "output_type": "execute_result"
    }
   ],
   "source": [
    "# Расчет 95-го и 99-го перцентилей количества заказов на пользователя\n",
    "percentile_orders = np.percentile(orders_by_users['orders'], [95, 99])\n",
    "\n",
    "percentile_orders"
   ]
  },
  {
   "cell_type": "markdown",
   "metadata": {},
   "source": [
    "95-й и 99-й перцентили количества заказов на пользователя составляют 2 и 4 соответственно. Это означает, что только 5% пользователей совершают более двух заказов и только 1% пользователей совершают более четырех заказов.\n",
    "\n",
    "- Для определения аномальных пользователей можно использовать границу в 2 заказа, так как более 95% пользователей совершают не более двух заказов.\n",
    "- Установление границы аномальных пользователей поможет более точно оценить различия между группами без искажений, вызванных крайне активными пользователями."
   ]
  },
  {
   "cell_type": "markdown",
   "metadata": {},
   "source": [
    "**8. Постройте точечный график стоимостей заказов. Сделайте выводы и предположения.**"
   ]
  },
  {
   "cell_type": "code",
   "execution_count": 24,
   "metadata": {},
   "outputs": [
    {
     "data": {
      "image/png": "[encoded data removed]",
      "text/plain": [
       "<Figure size 720x432 with 1 Axes>"
      ]
     },
     "metadata": {
      "needs_background": "light"
     },
     "output_type": "display_data"
    }
   ],
   "source": [
    "# Построение точечного графика стоимостей заказов\n",
    "plt.figure(figsize=(10, 6))\n",
    "plt.scatter(orders['transactionId'], orders['revenue'], alpha=0.5)\n",
    "plt.title('Стоимости заказов')\n",
    "plt.xlabel('Идентификатор заказа')\n",
    "plt.ylabel('Стоимость заказа')\n",
    "plt.grid(True)\n",
    "plt.show()"
   ]
  },
  {
   "cell_type": "code",
   "execution_count": 25,
   "metadata": {},
   "outputs": [
    {
     "data": {
      "text/plain": [
       "count    1.197000e+03\n",
       "mean     8.348006e+03\n",
       "std      3.919113e+04\n",
       "min      5.000000e+01\n",
       "25%      1.220000e+03\n",
       "50%      2.978000e+03\n",
       "75%      8.290000e+03\n",
       "max      1.294500e+06\n",
       "Name: revenue, dtype: float64"
      ]
     },
     "execution_count": 25,
     "metadata": {},
     "output_type": "execute_result"
    }
   ],
   "source": [
    "# Вывод распределения стоимостей заказов\n",
    "orders['revenue'].describe()"
   ]
  },
  {
   "cell_type": "markdown",
   "metadata": {},
   "source": [
    "На точечном графике стоимостей заказов видно, что большинство заказов имеют относительно небольшую стоимость, однако существует несколько заказов с очень высокой стоимостью, в том числе один аномально большой заказ, стоимость которого существенно выше остальных.\n",
    "\n",
    "- Распределение стоимости заказов сильно скошено из-за наличия нескольких очень дорогих заказов, что может искажать общую картину, особенно при расчете средних значений."
   ]
  },
  {
   "cell_type": "markdown",
   "metadata": {},
   "source": [
    "**9. Посчитайте 95-й и 99-й перцентили стоимости заказов. Выберите границу для определения аномальных заказов.**"
   ]
  },
  {
   "cell_type": "code",
   "execution_count": 26,
   "metadata": {},
   "outputs": [
    {
     "data": {
      "text/plain": [
       "array([28000. , 58233.2])"
      ]
     },
     "execution_count": 26,
     "metadata": {},
     "output_type": "execute_result"
    }
   ],
   "source": [
    "# Расчет 95-го и 99-го перцентилей стоимости заказов\n",
    "percentile_revenue = np.percentile(orders['revenue'], [95, 99])\n",
    "\n",
    "percentile_revenue"
   ]
  },
  {
   "cell_type": "markdown",
   "metadata": {},
   "source": [
    "Эти значения указывают на то, что лишь 5% всех заказов имеют стоимость выше 28000, и только 1% заказов превышает стоимость в 58233.2. На основе этих данных мы можем выбрать нижнюю границу для определения аномальных заказов - 28000."
   ]
  },
  {
   "cell_type": "markdown",
   "metadata": {},
   "source": [
    "**10. Посчитайте статистическую значимость различий в среднем количестве заказов на посетителя между группами по «сырым» данным. Сделайте выводы и предположения.**"
   ]
  },
  {
   "cell_type": "markdown",
   "metadata": {},
   "source": [
    "***Формулировка гипотез:***\n",
    "\n",
    "- H0: Нет различий в среднем количестве заказов на посетителя между группами A и B.\n",
    "- H1: Есть различия в среднем количестве заказов на посетителя между группами A и B."
   ]
  },
  {
   "cell_type": "code",
   "execution_count": 27,
   "metadata": {},
   "outputs": [],
   "source": [
    "# Подготовка данных количества заказов по группам для группы A\n",
    "orders_by_users_a = orders[orders['group'] == 'A'].groupby('visitorId', as_index=False).agg({'transactionId': pd.Series.nunique})\n",
    "orders_by_users_a.columns = ['visitorId', 'orders']"
   ]
  },
  {
   "cell_type": "code",
   "execution_count": 28,
   "metadata": {},
   "outputs": [],
   "source": [
    "# Подготовка данных количества заказов по группам для группы B\n",
    "orders_by_users_b = orders[orders['group'] == 'B'].groupby('visitorId', as_index=False).agg({'transactionId': pd.Series.nunique})\n",
    "orders_by_users_b.columns = ['visitorId', 'orders']"
   ]
  },
  {
   "cell_type": "code",
   "execution_count": 29,
   "metadata": {},
   "outputs": [],
   "source": [
    "# Подготовка выборок с учетом нулевых значений для пользователей без заказов\n",
    "sample_a = pd.concat([orders_by_users_a['orders'],pd.Series(0, index=np.arange(visitors[visitors['group'] == 'A']['visitors'].sum() - len(orders_by_users_a)), name='orders')],axis=0)\n",
    "sample_b = pd.concat([orders_by_users_b['orders'],pd.Series(0, index=np.arange(visitors[visitors['group'] == 'B']['visitors'].sum() - len(orders_by_users_b)), name='orders')],axis=0)"
   ]
  },
  {
   "cell_type": "code",
   "execution_count": 30,
   "metadata": {},
   "outputs": [],
   "source": [
    "# Применение критерия Манна-Уитни\n",
    "stat, p_value = mannwhitneyu(sample_a, sample_b)"
   ]
  },
  {
   "cell_type": "code",
   "execution_count": 31,
   "metadata": {},
   "outputs": [],
   "source": [
    "# Расчет относительного различия в среднем количестве заказов между группами\n",
    "relative_difference = sample_b.mean() / sample_a.mean() - 1"
   ]
  },
  {
   "cell_type": "code",
   "execution_count": 32,
   "metadata": {},
   "outputs": [
    {
     "name": "stdout",
     "output_type": "stream",
     "text": [
      "P-value: 0.0168\n",
      "Отклоняем нулевую гипотезу: Есть различия в среднем количестве заказов на посетителя между группами A и B.\n",
      "Относительное различие в среднем количестве заказов между группами: 0.138\n"
     ]
    }
   ],
   "source": [
    "# Вывод результатов\n",
    "alpha = 0.05\n",
    "print(f'P-value: {p_value:.4f}')\n",
    "if p_value < alpha:\n",
    "    print(f'Отклоняем нулевую гипотезу: Есть различия в среднем количестве заказов на посетителя между группами A и B.')\n",
    "else:\n",
    "    print(f'Не отклоняем нулевую гипотезу: Нет различий в среднем количестве заказов на посетителя между группами A и B.')\n",
    "\n",
    "print(f'Относительное различие в среднем количестве заказов между группами: {relative_difference:.3f}')"
   ]
  },
  {
   "cell_type": "markdown",
   "metadata": {},
   "source": [
    "Статистический тест Манна-Уитни показал, что p-value составляет примерно 0.017, что меньше уровня значимости в 0.05. Это означает, что существуют статистически значимые различия в среднем количестве заказов на посетителя между группами A и B. Относительное различие в среднем количестве заказов между группой B и группой A составляет примерно 13.8%.\n",
    "\n",
    "Выводы:\n",
    "- Мы отвергаем нулевую гипотезу о том, что нет различий в среднем количестве заказов на посетителя между группами. Это говорит о том, что изменения, которые были внедрены для группы B, могли повлиять на увеличение количества заказов на посетителя.\n",
    "- Наблюдается положительное относительное различие в пользу группы B."
   ]
  },
  {
   "cell_type": "markdown",
   "metadata": {},
   "source": [
    "**11. Посчитайте статистическую значимость различий в среднем чеке заказа между группами по «сырым» данным. Сделайте выводы и предположения.**"
   ]
  },
  {
   "cell_type": "markdown",
   "metadata": {},
   "source": [
    "***Формулировка гипотез:***\n",
    "\n",
    "- H0: Нет различий в среднем чеке заказа между группами A и B.\n",
    "- H1: Есть различия в среднем чеке заказа между группами A и B."
   ]
  },
  {
   "cell_type": "code",
   "execution_count": 33,
   "metadata": {},
   "outputs": [],
   "source": [
    "# Выделение данных по среднему чеку для группы A\n",
    "revenue_a = orders[orders['group'] == 'A']['revenue']"
   ]
  },
  {
   "cell_type": "code",
   "execution_count": 34,
   "metadata": {},
   "outputs": [],
   "source": [
    "# Выделение данных по среднему чеку для группы B\n",
    "revenue_b = orders[orders['group'] == 'B']['revenue']"
   ]
  },
  {
   "cell_type": "code",
   "execution_count": 35,
   "metadata": {},
   "outputs": [],
   "source": [
    "# Применение критерия Манна-Уитни к данным по среднему чеку\n",
    "stat, p_value = mannwhitneyu(revenue_a, revenue_b)"
   ]
  },
  {
   "cell_type": "code",
   "execution_count": 36,
   "metadata": {},
   "outputs": [],
   "source": [
    "# Расчет относительного различия в среднем чеке между группами\n",
    "relative_difference_revenue = revenue_b.mean() / revenue_a.mean() - 1"
   ]
  },
  {
   "cell_type": "code",
   "execution_count": 37,
   "metadata": {},
   "outputs": [
    {
     "name": "stdout",
     "output_type": "stream",
     "text": [
      "P-value: 0.7293\n",
      "Не отвергаем нулевую гипотезу: Нет различий в среднем чеке заказа между группами A и B.\n",
      "Относительное различие в среднем количестве заказов между группами: 25.87%\n"
     ]
    }
   ],
   "source": [
    "# Вывод результатов\n",
    "alpha = 0.05\n",
    "print(f'P-value: {p_value:.4f}')\n",
    "\n",
    "if p_value < alpha:\n",
    "    print(\"Отвергаем нулевую гипотезу: Есть различия в среднем чеке заказа между группами A и B.\")\n",
    "else:\n",
    "    print(\"Не отвергаем нулевую гипотезу: Нет различий в среднем чеке заказа между группами A и B.\")\n",
    "\n",
    "    print(f'Относительное различие в среднем количестве заказов между группами: {relative_difference_revenue:.2%}')"
   ]
  },
  {
   "cell_type": "markdown",
   "metadata": {},
   "source": [
    "Статистический тест Манна-Уитни показал, что p-value составляет примерно 0.729, что значительно выше уровня значимости в 0.05. Это означает, что статистически значимых различий в среднем чеке заказа между группами A и B нет. Однако относительное различие в среднем чеке между группой B и группой A составляет примерно 25.9%.\n",
    "\n",
    "Выводы:\n",
    "- Не отвергаем нулевую гипотезу о том, что нет различий в среднем чеке заказа между группами. Это говорит о том, что, несмотря на наличие аномально крупных заказов, в целом изменения, внедренные для группы B, не привели к статистически значимому изменению среднего чека в сравнении с группой A.\n",
    "- Величина относительного различия указывает на то, что средний чек группы B выше среднего чека группы A, но эти различия не являются статистически значимыми из-за влияния аномальных заказов."
   ]
  },
  {
   "cell_type": "markdown",
   "metadata": {},
   "source": [
    "**12. Посчитайте статистическую значимость различий в среднем количестве заказов на посетителя между группами по «очищенным» данным. Сделайте выводы и предположения.**"
   ]
  },
  {
   "cell_type": "markdown",
   "metadata": {},
   "source": [
    "***Формулировка гипотез:***\n",
    "    \n",
    "- H0: Нет статистически значимых различий в среднем количестве заказов на посетителя между группами A и B после удаления аномалий.\n",
    "- H1: Есть статистически значимые различия в среднем количестве заказов на посетителя между группами A и B после удаления аномалий."
   ]
  },
  {
   "cell_type": "code",
   "execution_count": 40,
   "metadata": {},
   "outputs": [
    {
     "name": "stdout",
     "output_type": "stream",
     "text": [
      "P-value: 0.0122\n",
      "Отвергаем нулевую гипотезу: Есть статистически значимые различия в среднем количестве заказов на посетителя между группами A и B после удаления аномалий.\n",
      "Относительное различие в среднем количестве заказов между группами: 17.57%\n"
     ]
    }
   ],
   "source": [
    "# Использование 95-го перцентиля для определения аномальных пользователей по количеству заказов\n",
    "# Здесь фильтруются пользователи, совершившие более заказов, чем указано 95-м перцентилем\n",
    "users_with_many_orders = orders_by_users[orders_by_users['orders'] > percentile_orders[0]]['visitorId']\n",
    "\n",
    "# Использование 95-го перцентиля для определения аномальных заказов по стоимости\n",
    "# Здесь отбираются заказы, стоимость которых выше значения, указанного 95-м перцентилем\n",
    "expensive_orders = orders[orders['revenue'] > percentile_revenue[0]]['visitorId']\n",
    "\n",
    "# Объединение аномальных пользователей в один DataFrame и удаление дубликатов\n",
    "abnormal_users = pd.concat([users_with_many_orders, expensive_orders], axis=0).drop_duplicates().sort_values()\n",
    "\n",
    "# Фильтрация данных, исключая аномальных пользователей\n",
    "filtered_orders_a = orders[(~orders['visitorId'].isin(abnormal_users)) & (orders['group'] == 'A')]\n",
    "filtered_orders_b = orders[(~orders['visitorId'].isin(abnormal_users)) & (orders['group'] == 'B')]\n",
    "\n",
    "# Подготовка \"очищенных\" выборок для среднего количества заказов на посетителя\n",
    "# Создание выборки, где каждому пользователю соответствует количество его заказов, включая нулевые значения для тех, кто не совершил ни одного заказа\n",
    "filtered_sample_a = pd.concat([\n",
    "    filtered_orders_a.groupby('visitorId')['transactionId'].nunique(),\n",
    "    pd.Series(0, index=np.arange(visitors[visitors['group'] == 'A']['visitors'].sum() - filtered_orders_a['visitorId'].nunique()), name='orders')\n",
    "], axis=0)\n",
    "\n",
    "filtered_sample_b = pd.concat([\n",
    "    filtered_orders_b.groupby('visitorId')['transactionId'].nunique(),\n",
    "    pd.Series(0, index=np.arange(visitors[visitors['group'] == 'B']['visitors'].sum() - filtered_orders_b['visitorId'].nunique()), name='orders')\n",
    "], axis=0)\n",
    "\n",
    "# Применение критерия Манна-Уитни к \"очищенным\" данным для сравнения среднего количества заказов\n",
    "stat, p_value = mannwhitneyu(filtered_sample_a, filtered_sample_b)\n",
    "relative_difference_clean = filtered_sample_b.mean() / filtered_sample_a.mean() - 1\n",
    "\n",
    "# Вывод результатов анализа\n",
    "alpha = 0.05\n",
    "print(f'P-value: {p_value:.4f}')\n",
    "\n",
    "if p_value < alpha:\n",
    "    print(\"Отвергаем нулевую гипотезу: Есть статистически значимые различия в среднем количестве заказов на посетителя между группами A и B после удаления аномалий.\")\n",
    "else:\n",
    "    print(\"Не отвергаем нулевую гипотезу: Нет статистически значимых различий в среднем количестве заказов на посетителя между группами A и B после удаления аномалий.\")\n",
    "\n",
    "print(f'Относительное различие в среднем количестве заказов между группами: {relative_difference_clean:.2%}')"
   ]
  },
  {
   "cell_type": "markdown",
   "metadata": {},
   "source": [
    "После очистки данных от аномалий и применения критерия Манна-Уитни к \"очищенным\" данным для среднего количества заказов на посетителя, p-value составляет примерно 0.012. Это меньше уровня значимости в 0.05, что указывает на наличие статистически значимых различий в среднем количестве заказов между группами A и B даже после удаления аномалий. Относительное различие в среднем количестве заказов между группой B и группой A составляет примерно 17.57%.\n",
    "\n",
    "Выводы по \"очищенным\" данным:\n",
    "- Мы снова отвергаем нулевую гипотезу о том, что нет различий в среднем количестве заказов на посетителя между группами A и B после удаления аномалий. Это подтверждает, что изменения, внедренные для группы B, способствуют увеличению количества заказов.\n",
    "- Увеличение относительного различия после удаления аномалий подтверждает, что аномалии искажали реальную картину."
   ]
  },
  {
   "cell_type": "markdown",
   "metadata": {},
   "source": [
    "**13. Посчитайте статистическую значимость различий в среднем чеке заказа между группами по «очищенным» данным. Сделайте выводы и предположения.**"
   ]
  },
  {
   "cell_type": "markdown",
   "metadata": {},
   "source": [
    "***Формулировка гипотез:***\n",
    "    \n",
    "- H0: Нет статистически значимых различий в среднем чеке заказа между группами A и B после удаления аномалий.\n",
    "- H1: Есть статистически значимые различия в среднем чеке заказа между группами A и B после удаления аномалий.\n"
   ]
  },
  {
   "cell_type": "code",
   "execution_count": 39,
   "metadata": {},
   "outputs": [
    {
     "name": "stdout",
     "output_type": "stream",
     "text": [
      "P-value: 0.753\n",
      "Не отвергаем нулевую гипотезу: Нет статистически значимых различий в среднем чеке заказа между группами A и B после удаления аномалий.\n",
      "Относительное различие в среднем количестве заказов между группами: -2.21%\n"
     ]
    }
   ],
   "source": [
    "# Применение критерия Манна-Уитни к \"очищенным\" данным для среднего чека\n",
    "filtered_revenue_a = filtered_orders_a['revenue']\n",
    "filtered_revenue_b = filtered_orders_b['revenue']\n",
    "\n",
    "stat, p_value = mannwhitneyu(filtered_revenue_a, filtered_revenue_b)\n",
    "relative_difference_revenue_clean = filtered_revenue_b.mean() / filtered_revenue_a.mean() - 1\n",
    "\n",
    "stat, p_value, relative_difference_revenue_clean\n",
    "\n",
    "# Вывод результатов\n",
    "alpha = 0.05\n",
    "print(f'P-value: {p_value:.3f}')\n",
    "\n",
    "if p_value < alpha:\n",
    "    print(\"Отвергаем нулевую гипотезу: Есть статистически значимые различия в среднем чеке заказа между группами A и B после удаления аномалий.\")\n",
    "else:\n",
    "    print(\"Не отвергаем нулевую гипотезу: Нет статистически значимых различий в среднем чеке заказа между группами A и B после удаления аномалий.\")\n",
    "\n",
    "\n",
    "print(f'Относительное различие в среднем количестве заказов между группами: {relative_difference_revenue_clean:.2%}')"
   ]
  },
  {
   "cell_type": "markdown",
   "metadata": {},
   "source": [
    "После очистки данных от аномалий и применения критерия Манна-Уитни к \"очищенным\" данным для среднего чека, p-value составляет примерно 0.753. Это значительно выше уровня значимости в 0.05, подтверждая отсутствие статистически значимых различий в среднем чеке заказа между группами A и B даже после исключения аномальных заказов. Относительное различие в среднем чеке между группой B и группой A составляет примерно -2.21%, указывая на незначительное снижение среднего чека в группе B по сравнению с группой A после удаления аномалий."
   ]
  },
  {
   "cell_type": "markdown",
   "metadata": {},
   "source": [
    " **Общие выводы по результатам анализа:**\n",
    "- Среднее количество заказов на посетителя: есть статистически значимые различия между группами как по \"сырым\", так и по \"очищенным\" данным, при этом группа B демонстрирует лучшие результаты.\n",
    "- Средний чек заказа: не было обнаружено статистически значимых различий между группами ни по \"сырым\", ни по \"очищенным\" данным. После очистки данных от аномалий средний чек группы B незначительно снизился по сравнению с группой A."
   ]
  },
  {
   "cell_type": "markdown",
   "metadata": {},
   "source": [
    "**14. Примите решение по результатам теста и объясните его. Варианты решений:**\n",
    "1. Остановить тест, зафиксировать победу одной из групп.\n",
    "2. Остановить тест, зафиксировать отсутствие различий между группами.\n",
    "3. Продолжить тест."
   ]
  },
  {
   "cell_type": "markdown",
   "metadata": {},
   "source": [
    "На основе проведенного анализа результатов A/B-теста, можно принять следующее решение:\n",
    "\n",
    "1. Остановить тест, зафиксировать победу одной из групп.\n",
    "\n",
    "Обоснование решения:\n",
    "\n",
    "Количество заказов на пользователя: Мы обнаружили статистически значимые различия в среднем количестве заказов между группами A и B как по \"сырым\", так и по \"очищенным\" данным. Группа B демонстрирует более высокий показатель среднего количества заказов на пользователя, что указывает на успешность внесенных изменений в группе B в отношении привлечения большего количества заказов от пользователей.\n",
    "Средний чек: Не было обнаружено статистически значимых различий в среднем чеке между группами ни по \"сырым\", ни по \"очищенным\" данным. Это означает, что внесенные изменения не повлияли на сумму, которую пользователи тратят за один заказ. Важно отметить, что после исключения аномально крупных заказов различие в среднем чеке между группами стало еще менее значимым.\n",
    "Принимая во внимание, что основной целью A/B-теста обычно является увеличение эффективности интернет-магазина, в том числе через увеличение количества заказов и оптимизацию среднего чека, можно сделать вывод о том, что изменения, внесенные для группы B, положительно сказались на количестве заказов без ущерба для среднего чека.\n",
    "\n",
    "Таким образом, группа B демонстрирует лучшие результаты по ключевому показателю количества заказов, что является достаточным основанием для остановки теста и признания победы группы B. Внесенные изменения рекомендуется распространить на всю аудиторию интернет-магазина."
   ]
  },
  {
   "cell_type": "markdown",
   "metadata": {},
   "source": [
    "**Общий Вывод:**"
   ]
  },
  {
   "cell_type": "markdown",
   "metadata": {},
   "source": [
    "В ходе анализа A/B-теста были проведены следующие шаги:\n",
    "\n",
    "- Предобработка данных: Подготовлены данные без пропусков и дубликатов. Обратили внимание на формат дат, который требовал преобразования для дальнейшего анализа.\n",
    "\n",
    "- Приоритизация гипотез: Использование фреймворков ICE и RICE для приоритизации гипотез показало изменение приоритетов в зависимости от охвата (Reach).\n",
    "\n",
    "- Анализ A/B-теста:\n",
    "\n",
    " - Кумулятивная выручка и средний чек: Анализ показал резкий рост кумулятивной выручки и среднего чека для группы B, что может указывать на наличие аномально крупных заказов.\n",
    " - Кумулятивное количество заказов на посетителя: Незначительные различия между группами, но с небольшим преимуществом у группы B.\n",
    "\n",
    "- Статистическая значимость:\n",
    " - По \"сырым\" данным, были обнаружены статистически значимые различия в среднем количестве заказов на пользователя между группами, но не в среднем чеке.\n",
    " - По \"очищенным\" данным, подтвердилась значимость различий в количестве заказов, при этом различия в среднем чеке так и не были обнаружены, даже после удаления аномалий.\n",
    "\n",
    "Исходя из анализа, рекомендуется остановить тест и зафиксировать победу группы B. Причины для этого решения:\n",
    "\n",
    "- Увеличение количества заказов на пользователя в группе B по сравнению с группой A, что является ключевым показателем успешности внедрённых изменений.\n",
    "- Отсутствие статистически значимых различий в среднем чеке после исключения аномальных заказов свидетельствует о том, что изменения не нанесли ущерба финансовым показателям интернет-магазина.\n",
    "- Внесённые изменения для группы B способствовали увеличению количества заказов без существенного влияния на средний чек, что делает их целесообразными для распространения на всю аудиторию интернет-магазина."
   ]
  },
  {
   "cell_type": "code",
   "execution_count": null,
   "metadata": {},
   "outputs": [],
   "source": []
  }
 ],
 "metadata": {
  "ExecuteTimeLog": [
   {
    "duration": 43,
    "start_time": "2024-03-04T20:07:07.796Z"
   },
   {
    "duration": 1157,
    "start_time": "2024-03-04T20:07:19.672Z"
   },
   {
    "duration": 59,
    "start_time": "2024-03-04T20:07:20.831Z"
   },
   {
    "duration": 10,
    "start_time": "2024-03-04T20:07:34.224Z"
   },
   {
    "duration": 5,
    "start_time": "2024-03-04T20:14:47.710Z"
   },
   {
    "duration": 7,
    "start_time": "2024-03-04T20:16:23.668Z"
   },
   {
    "duration": 3,
    "start_time": "2024-03-04T20:20:42.731Z"
   },
   {
    "duration": 7,
    "start_time": "2024-03-04T20:21:02.911Z"
   },
   {
    "duration": 72,
    "start_time": "2024-03-04T21:00:32.111Z"
   },
   {
    "duration": 87,
    "start_time": "2024-03-04T21:02:28.372Z"
   },
   {
    "duration": 11,
    "start_time": "2024-03-04T21:03:12.756Z"
   },
   {
    "duration": 9,
    "start_time": "2024-03-04T21:03:37.744Z"
   },
   {
    "duration": 11,
    "start_time": "2024-03-04T21:06:16.296Z"
   },
   {
    "duration": 60,
    "start_time": "2024-03-04T21:07:05.359Z"
   },
   {
    "duration": 6,
    "start_time": "2024-03-04T21:09:06.335Z"
   },
   {
    "duration": 8,
    "start_time": "2024-03-04T21:09:26.270Z"
   },
   {
    "duration": 4,
    "start_time": "2024-03-04T21:10:55.835Z"
   },
   {
    "duration": 5,
    "start_time": "2024-03-04T21:11:21.388Z"
   },
   {
    "duration": 113,
    "start_time": "2024-03-04T21:18:01.915Z"
   },
   {
    "duration": 154,
    "start_time": "2024-03-04T21:24:15.036Z"
   },
   {
    "duration": 145,
    "start_time": "2024-03-04T21:24:52.205Z"
   },
   {
    "duration": 50,
    "start_time": "2024-03-04T21:26:19.790Z"
   },
   {
    "duration": 5,
    "start_time": "2024-03-04T21:26:32.638Z"
   },
   {
    "duration": 147,
    "start_time": "2024-03-04T21:26:33.465Z"
   },
   {
    "duration": 7,
    "start_time": "2024-03-04T21:26:34.365Z"
   },
   {
    "duration": 89,
    "start_time": "2024-03-04T21:28:15.791Z"
   },
   {
    "duration": 5,
    "start_time": "2024-03-04T21:28:17.008Z"
   },
   {
    "duration": 9,
    "start_time": "2024-03-04T21:28:52.152Z"
   },
   {
    "duration": 8,
    "start_time": "2024-03-04T21:29:58.452Z"
   },
   {
    "duration": 320,
    "start_time": "2024-03-04T21:29:58.819Z"
   },
   {
    "duration": 0,
    "start_time": "2024-03-04T21:29:59.140Z"
   },
   {
    "duration": 142,
    "start_time": "2024-03-04T21:29:59.399Z"
   },
   {
    "duration": 88,
    "start_time": "2024-03-04T21:29:59.851Z"
   },
   {
    "duration": 6,
    "start_time": "2024-03-04T21:30:00.780Z"
   },
   {
    "duration": 11,
    "start_time": "2024-03-04T21:30:01.918Z"
   },
   {
    "duration": 4,
    "start_time": "2024-03-04T21:30:29.115Z"
   },
   {
    "duration": 4,
    "start_time": "2024-03-04T21:30:49.639Z"
   },
   {
    "duration": 241,
    "start_time": "2024-03-04T21:31:10.810Z"
   },
   {
    "duration": 131,
    "start_time": "2024-03-04T21:33:59.575Z"
   },
   {
    "duration": 138,
    "start_time": "2024-03-04T21:34:11.361Z"
   },
   {
    "duration": 287,
    "start_time": "2024-03-04T21:35:40.254Z"
   },
   {
    "duration": 4,
    "start_time": "2024-03-04T21:37:17.317Z"
   },
   {
    "duration": 4,
    "start_time": "2024-03-04T21:38:32.513Z"
   },
   {
    "duration": 160,
    "start_time": "2024-03-04T21:40:04.309Z"
   },
   {
    "duration": 248,
    "start_time": "2024-03-04T21:40:09.056Z"
   },
   {
    "duration": 3,
    "start_time": "2024-03-04T21:40:09.658Z"
   },
   {
    "duration": 4,
    "start_time": "2024-03-04T21:40:09.925Z"
   },
   {
    "duration": 158,
    "start_time": "2024-03-04T21:40:10.207Z"
   },
   {
    "duration": 145,
    "start_time": "2024-03-04T21:40:48.926Z"
   },
   {
    "duration": 46,
    "start_time": "2024-03-05T04:39:02.732Z"
   },
   {
    "duration": 1296,
    "start_time": "2024-03-05T04:39:07.850Z"
   },
   {
    "duration": 69,
    "start_time": "2024-03-05T04:39:09.149Z"
   },
   {
    "duration": 11,
    "start_time": "2024-03-05T04:39:09.220Z"
   },
   {
    "duration": 5,
    "start_time": "2024-03-05T04:39:09.233Z"
   },
   {
    "duration": 9,
    "start_time": "2024-03-05T04:39:09.240Z"
   },
   {
    "duration": 7,
    "start_time": "2024-03-05T04:39:09.250Z"
   },
   {
    "duration": 11,
    "start_time": "2024-03-05T04:39:09.258Z"
   },
   {
    "duration": 85,
    "start_time": "2024-03-05T04:39:09.270Z"
   },
   {
    "duration": 11,
    "start_time": "2024-03-05T04:39:09.357Z"
   },
   {
    "duration": 20,
    "start_time": "2024-03-05T04:39:09.369Z"
   },
   {
    "duration": 22,
    "start_time": "2024-03-05T04:39:09.390Z"
   },
   {
    "duration": 60,
    "start_time": "2024-03-05T04:39:09.413Z"
   },
   {
    "duration": 6,
    "start_time": "2024-03-05T04:39:09.475Z"
   },
   {
    "duration": 14,
    "start_time": "2024-03-05T04:39:09.483Z"
   },
   {
    "duration": 7,
    "start_time": "2024-03-05T04:39:09.499Z"
   },
   {
    "duration": 13,
    "start_time": "2024-03-05T04:39:09.507Z"
   },
   {
    "duration": 178,
    "start_time": "2024-03-05T04:39:09.522Z"
   },
   {
    "duration": 115,
    "start_time": "2024-03-05T04:39:09.702Z"
   },
   {
    "duration": 6,
    "start_time": "2024-03-05T04:39:09.818Z"
   },
   {
    "duration": 11,
    "start_time": "2024-03-05T04:39:09.826Z"
   },
   {
    "duration": 4,
    "start_time": "2024-03-05T04:39:09.839Z"
   },
   {
    "duration": 14,
    "start_time": "2024-03-05T04:39:09.844Z"
   },
   {
    "duration": 275,
    "start_time": "2024-03-05T04:39:09.859Z"
   },
   {
    "duration": 174,
    "start_time": "2024-03-05T04:39:10.135Z"
   },
   {
    "duration": 302,
    "start_time": "2024-03-05T04:39:10.311Z"
   },
   {
    "duration": 4,
    "start_time": "2024-03-05T04:39:10.615Z"
   },
   {
    "duration": 9,
    "start_time": "2024-03-05T04:39:10.621Z"
   },
   {
    "duration": 189,
    "start_time": "2024-03-05T04:39:10.632Z"
   },
   {
    "duration": 8,
    "start_time": "2024-03-05T04:39:10.823Z"
   },
   {
    "duration": 326,
    "start_time": "2024-03-05T04:39:14.123Z"
   },
   {
    "duration": 7,
    "start_time": "2024-03-05T04:39:26.636Z"
   },
   {
    "duration": 249,
    "start_time": "2024-03-05T04:39:27.212Z"
   },
   {
    "duration": 1214,
    "start_time": "2024-03-05T05:37:40.706Z"
   },
   {
    "duration": 26,
    "start_time": "2024-03-05T05:37:41.922Z"
   },
   {
    "duration": 13,
    "start_time": "2024-03-05T05:37:41.950Z"
   },
   {
    "duration": 5,
    "start_time": "2024-03-05T05:37:41.965Z"
   },
   {
    "duration": 11,
    "start_time": "2024-03-05T05:37:41.971Z"
   },
   {
    "duration": 5,
    "start_time": "2024-03-05T05:37:41.984Z"
   },
   {
    "duration": 14,
    "start_time": "2024-03-05T05:37:41.991Z"
   },
   {
    "duration": 50,
    "start_time": "2024-03-05T05:37:42.007Z"
   },
   {
    "duration": 12,
    "start_time": "2024-03-05T05:37:42.058Z"
   },
   {
    "duration": 15,
    "start_time": "2024-03-05T05:37:42.073Z"
   },
   {
    "duration": 17,
    "start_time": "2024-03-05T05:37:42.090Z"
   },
   {
    "duration": 18,
    "start_time": "2024-03-05T05:37:42.109Z"
   },
   {
    "duration": 8,
    "start_time": "2024-03-05T05:37:42.129Z"
   },
   {
    "duration": 15,
    "start_time": "2024-03-05T05:37:42.138Z"
   },
   {
    "duration": 9,
    "start_time": "2024-03-05T05:37:42.154Z"
   },
   {
    "duration": 19,
    "start_time": "2024-03-05T05:37:42.164Z"
   },
   {
    "duration": 220,
    "start_time": "2024-03-05T05:37:42.185Z"
   },
   {
    "duration": 154,
    "start_time": "2024-03-05T05:37:42.406Z"
   },
   {
    "duration": 7,
    "start_time": "2024-03-05T05:37:42.561Z"
   },
   {
    "duration": 20,
    "start_time": "2024-03-05T05:37:42.570Z"
   },
   {
    "duration": 5,
    "start_time": "2024-03-05T05:37:42.591Z"
   },
   {
    "duration": 9,
    "start_time": "2024-03-05T05:37:42.598Z"
   },
   {
    "duration": 305,
    "start_time": "2024-03-05T05:37:42.609Z"
   },
   {
    "duration": 215,
    "start_time": "2024-03-05T05:37:42.916Z"
   },
   {
    "duration": 280,
    "start_time": "2024-03-05T05:37:43.133Z"
   },
   {
    "duration": 6,
    "start_time": "2024-03-05T05:37:43.414Z"
   },
   {
    "duration": 28,
    "start_time": "2024-03-05T05:37:43.421Z"
   },
   {
    "duration": 228,
    "start_time": "2024-03-05T05:37:43.452Z"
   },
   {
    "duration": 7,
    "start_time": "2024-03-05T05:37:43.682Z"
   },
   {
    "duration": 391,
    "start_time": "2024-03-05T05:37:43.691Z"
   },
   {
    "duration": 3,
    "start_time": "2024-03-05T05:39:40.265Z"
   },
   {
    "duration": 1191,
    "start_time": "2024-03-05T05:39:45.569Z"
   },
   {
    "duration": 27,
    "start_time": "2024-03-05T05:39:46.762Z"
   },
   {
    "duration": 12,
    "start_time": "2024-03-05T05:39:46.791Z"
   },
   {
    "duration": 15,
    "start_time": "2024-03-05T05:39:46.805Z"
   },
   {
    "duration": 23,
    "start_time": "2024-03-05T05:39:46.822Z"
   },
   {
    "duration": 8,
    "start_time": "2024-03-05T05:39:46.847Z"
   },
   {
    "duration": 13,
    "start_time": "2024-03-05T05:39:46.857Z"
   },
   {
    "duration": 38,
    "start_time": "2024-03-05T05:39:46.872Z"
   },
   {
    "duration": 13,
    "start_time": "2024-03-05T05:39:46.912Z"
   },
   {
    "duration": 14,
    "start_time": "2024-03-05T05:39:46.926Z"
   },
   {
    "duration": 18,
    "start_time": "2024-03-05T05:39:46.942Z"
   },
   {
    "duration": 26,
    "start_time": "2024-03-05T05:39:46.961Z"
   },
   {
    "duration": 8,
    "start_time": "2024-03-05T05:39:46.989Z"
   },
   {
    "duration": 27,
    "start_time": "2024-03-05T05:39:47.000Z"
   },
   {
    "duration": 14,
    "start_time": "2024-03-05T05:39:47.029Z"
   },
   {
    "duration": 8,
    "start_time": "2024-03-05T05:39:47.044Z"
   },
   {
    "duration": 207,
    "start_time": "2024-03-05T05:39:47.053Z"
   },
   {
    "duration": 145,
    "start_time": "2024-03-05T05:39:47.261Z"
   },
   {
    "duration": 8,
    "start_time": "2024-03-05T05:39:47.407Z"
   },
   {
    "duration": 20,
    "start_time": "2024-03-05T05:39:47.416Z"
   },
   {
    "duration": 5,
    "start_time": "2024-03-05T05:39:47.438Z"
   },
   {
    "duration": 8,
    "start_time": "2024-03-05T05:39:47.445Z"
   },
   {
    "duration": 327,
    "start_time": "2024-03-05T05:39:47.455Z"
   },
   {
    "duration": 222,
    "start_time": "2024-03-05T05:39:47.784Z"
   },
   {
    "duration": 289,
    "start_time": "2024-03-05T05:39:48.008Z"
   },
   {
    "duration": 4,
    "start_time": "2024-03-05T05:39:48.299Z"
   },
   {
    "duration": 13,
    "start_time": "2024-03-05T05:39:48.305Z"
   },
   {
    "duration": 221,
    "start_time": "2024-03-05T05:39:48.320Z"
   },
   {
    "duration": 9,
    "start_time": "2024-03-05T05:39:48.542Z"
   },
   {
    "duration": 428,
    "start_time": "2024-03-05T05:39:48.553Z"
   },
   {
    "duration": 337,
    "start_time": "2024-03-05T05:39:59.261Z"
   },
   {
    "duration": 156,
    "start_time": "2024-03-05T05:43:58.020Z"
   },
   {
    "duration": 95,
    "start_time": "2024-03-05T05:46:39.902Z"
   },
   {
    "duration": 129,
    "start_time": "2024-03-05T05:47:35.228Z"
   },
   {
    "duration": 5,
    "start_time": "2024-03-05T05:49:35.348Z"
   },
   {
    "duration": 158,
    "start_time": "2024-03-05T05:50:36.503Z"
   },
   {
    "duration": 3,
    "start_time": "2024-03-05T05:51:03.786Z"
   },
   {
    "duration": 8,
    "start_time": "2024-03-05T05:51:44.295Z"
   },
   {
    "duration": 104,
    "start_time": "2024-03-05T05:54:03.735Z"
   },
   {
    "duration": 230,
    "start_time": "2024-03-05T05:58:41.686Z"
   },
   {
    "duration": 117,
    "start_time": "2024-03-05T06:00:05.493Z"
   },
   {
    "duration": 5,
    "start_time": "2024-03-05T06:03:35.524Z"
   },
   {
    "duration": 104,
    "start_time": "2024-03-05T06:08:06.890Z"
   },
   {
    "duration": 5,
    "start_time": "2024-03-05T06:10:15.769Z"
   },
   {
    "duration": 3,
    "start_time": "2024-03-05T06:10:42.953Z"
   },
   {
    "duration": 45,
    "start_time": "2024-03-05T06:11:48.264Z"
   },
   {
    "duration": 2,
    "start_time": "2024-03-05T06:12:10.839Z"
   },
   {
    "duration": 4,
    "start_time": "2024-03-05T06:12:35.723Z"
   },
   {
    "duration": 5,
    "start_time": "2024-03-05T06:13:45.331Z"
   },
   {
    "duration": 3,
    "start_time": "2024-03-05T06:13:46.400Z"
   },
   {
    "duration": 14,
    "start_time": "2024-03-05T06:15:00.681Z"
   },
   {
    "duration": 3,
    "start_time": "2024-03-05T06:15:19.779Z"
   },
   {
    "duration": 48,
    "start_time": "2024-03-05T06:16:07.454Z"
   },
   {
    "duration": 4,
    "start_time": "2024-03-05T06:16:26.108Z"
   },
   {
    "duration": 15,
    "start_time": "2024-03-05T06:17:08.670Z"
   },
   {
    "duration": 3,
    "start_time": "2024-03-05T06:17:26.620Z"
   },
   {
    "duration": 51,
    "start_time": "2024-03-05T06:18:24.238Z"
   },
   {
    "duration": 3,
    "start_time": "2024-03-05T06:18:46.039Z"
   },
   {
    "duration": 107,
    "start_time": "2024-03-05T06:19:03.012Z"
   },
   {
    "duration": 27,
    "start_time": "2024-03-05T06:19:41.817Z"
   },
   {
    "duration": 3,
    "start_time": "2024-03-05T06:19:44.633Z"
   },
   {
    "duration": 26,
    "start_time": "2024-03-05T06:19:45.490Z"
   },
   {
    "duration": 1136,
    "start_time": "2024-03-05T06:19:50.945Z"
   },
   {
    "duration": 28,
    "start_time": "2024-03-05T06:19:52.084Z"
   },
   {
    "duration": 21,
    "start_time": "2024-03-05T06:19:52.114Z"
   },
   {
    "duration": 52,
    "start_time": "2024-03-05T06:19:52.137Z"
   },
   {
    "duration": 59,
    "start_time": "2024-03-05T06:19:52.192Z"
   },
   {
    "duration": 28,
    "start_time": "2024-03-05T06:19:52.253Z"
   },
   {
    "duration": 38,
    "start_time": "2024-03-05T06:19:52.283Z"
   },
   {
    "duration": 49,
    "start_time": "2024-03-05T06:19:52.322Z"
   },
   {
    "duration": 16,
    "start_time": "2024-03-05T06:19:52.374Z"
   },
   {
    "duration": 37,
    "start_time": "2024-03-05T06:19:52.392Z"
   },
   {
    "duration": 31,
    "start_time": "2024-03-05T06:19:52.431Z"
   },
   {
    "duration": 39,
    "start_time": "2024-03-05T06:19:52.463Z"
   },
   {
    "duration": 11,
    "start_time": "2024-03-05T06:19:52.503Z"
   },
   {
    "duration": 25,
    "start_time": "2024-03-05T06:19:52.518Z"
   },
   {
    "duration": 9,
    "start_time": "2024-03-05T06:19:52.545Z"
   },
   {
    "duration": 35,
    "start_time": "2024-03-05T06:19:52.555Z"
   },
   {
    "duration": 225,
    "start_time": "2024-03-05T06:19:52.592Z"
   },
   {
    "duration": 120,
    "start_time": "2024-03-05T06:19:52.819Z"
   },
   {
    "duration": 7,
    "start_time": "2024-03-05T06:19:52.940Z"
   },
   {
    "duration": 55,
    "start_time": "2024-03-05T06:19:52.948Z"
   },
   {
    "duration": 11,
    "start_time": "2024-03-05T06:19:53.005Z"
   },
   {
    "duration": 15,
    "start_time": "2024-03-05T06:19:53.017Z"
   },
   {
    "duration": 303,
    "start_time": "2024-03-05T06:19:53.034Z"
   },
   {
    "duration": 210,
    "start_time": "2024-03-05T06:19:53.339Z"
   },
   {
    "duration": 325,
    "start_time": "2024-03-05T06:19:53.550Z"
   },
   {
    "duration": 4,
    "start_time": "2024-03-05T06:19:53.881Z"
   },
   {
    "duration": 49,
    "start_time": "2024-03-05T06:19:53.887Z"
   },
   {
    "duration": 201,
    "start_time": "2024-03-05T06:19:53.938Z"
   },
   {
    "duration": 8,
    "start_time": "2024-03-05T06:19:54.140Z"
   },
   {
    "duration": 338,
    "start_time": "2024-03-05T06:19:54.150Z"
   },
   {
    "duration": 177,
    "start_time": "2024-03-05T06:19:54.490Z"
   },
   {
    "duration": 138,
    "start_time": "2024-03-05T06:19:54.669Z"
   },
   {
    "duration": 5,
    "start_time": "2024-03-05T06:19:54.809Z"
   },
   {
    "duration": 144,
    "start_time": "2024-03-05T06:19:54.815Z"
   },
   {
    "duration": 3,
    "start_time": "2024-03-05T06:19:54.961Z"
   },
   {
    "duration": 42,
    "start_time": "2024-03-05T06:19:54.965Z"
   },
   {
    "duration": 150,
    "start_time": "2024-03-05T06:19:55.009Z"
   },
   {
    "duration": 208,
    "start_time": "2024-03-05T06:19:55.161Z"
   },
   {
    "duration": 13,
    "start_time": "2024-03-05T06:19:55.370Z"
   },
   {
    "duration": 45,
    "start_time": "2024-03-05T06:19:55.384Z"
   },
   {
    "duration": 18,
    "start_time": "2024-03-05T06:19:55.432Z"
   },
   {
    "duration": 72,
    "start_time": "2024-03-05T06:19:55.451Z"
   },
   {
    "duration": 17,
    "start_time": "2024-03-05T06:19:55.525Z"
   },
   {
    "duration": 17,
    "start_time": "2024-03-05T06:19:55.543Z"
   },
   {
    "duration": 16,
    "start_time": "2024-03-05T06:19:55.562Z"
   },
   {
    "duration": 23,
    "start_time": "2024-03-05T06:19:55.580Z"
   },
   {
    "duration": 13,
    "start_time": "2024-03-05T06:19:55.604Z"
   },
   {
    "duration": 62,
    "start_time": "2024-03-05T06:19:55.618Z"
   },
   {
    "duration": 12,
    "start_time": "2024-03-05T06:19:55.681Z"
   },
   {
    "duration": 18,
    "start_time": "2024-03-05T06:19:55.695Z"
   },
   {
    "duration": 14,
    "start_time": "2024-03-05T06:19:55.715Z"
   },
   {
    "duration": 57,
    "start_time": "2024-03-05T06:19:55.731Z"
   },
   {
    "duration": 34,
    "start_time": "2024-03-05T06:19:55.790Z"
   },
   {
    "duration": 117,
    "start_time": "2024-03-05T06:19:55.825Z"
   },
   {
    "duration": 52,
    "start_time": "2024-03-05T06:39:45.769Z"
   },
   {
    "duration": 3,
    "start_time": "2024-03-05T06:40:13.583Z"
   },
   {
    "duration": 1270,
    "start_time": "2024-03-05T06:40:18.889Z"
   },
   {
    "duration": 28,
    "start_time": "2024-03-05T06:40:20.161Z"
   },
   {
    "duration": 29,
    "start_time": "2024-03-05T06:40:20.191Z"
   },
   {
    "duration": 31,
    "start_time": "2024-03-05T06:40:20.222Z"
   },
   {
    "duration": 31,
    "start_time": "2024-03-05T06:40:20.256Z"
   },
   {
    "duration": 52,
    "start_time": "2024-03-05T06:40:20.289Z"
   },
   {
    "duration": 49,
    "start_time": "2024-03-05T06:40:20.343Z"
   },
   {
    "duration": 50,
    "start_time": "2024-03-05T06:40:20.395Z"
   },
   {
    "duration": 14,
    "start_time": "2024-03-05T06:40:20.447Z"
   },
   {
    "duration": 35,
    "start_time": "2024-03-05T06:40:20.463Z"
   },
   {
    "duration": 66,
    "start_time": "2024-03-05T06:40:20.500Z"
   },
   {
    "duration": 49,
    "start_time": "2024-03-05T06:40:20.568Z"
   },
   {
    "duration": 52,
    "start_time": "2024-03-05T06:40:20.619Z"
   },
   {
    "duration": 47,
    "start_time": "2024-03-05T06:40:20.674Z"
   },
   {
    "duration": 42,
    "start_time": "2024-03-05T06:40:20.722Z"
   },
   {
    "duration": 33,
    "start_time": "2024-03-05T06:40:20.766Z"
   },
   {
    "duration": 250,
    "start_time": "2024-03-05T06:40:20.801Z"
   },
   {
    "duration": 144,
    "start_time": "2024-03-05T06:40:21.053Z"
   },
   {
    "duration": 7,
    "start_time": "2024-03-05T06:40:21.199Z"
   },
   {
    "duration": 59,
    "start_time": "2024-03-05T06:40:21.208Z"
   },
   {
    "duration": 47,
    "start_time": "2024-03-05T06:40:21.268Z"
   },
   {
    "duration": 36,
    "start_time": "2024-03-05T06:40:21.317Z"
   },
   {
    "duration": 408,
    "start_time": "2024-03-05T06:40:21.355Z"
   },
   {
    "duration": 220,
    "start_time": "2024-03-05T06:40:21.765Z"
   },
   {
    "duration": 297,
    "start_time": "2024-03-05T06:40:21.987Z"
   },
   {
    "duration": 5,
    "start_time": "2024-03-05T06:40:22.285Z"
   },
   {
    "duration": 60,
    "start_time": "2024-03-05T06:40:22.291Z"
   },
   {
    "duration": 246,
    "start_time": "2024-03-05T06:40:22.353Z"
   },
   {
    "duration": 8,
    "start_time": "2024-03-05T06:40:22.601Z"
   },
   {
    "duration": 387,
    "start_time": "2024-03-05T06:40:22.611Z"
   },
   {
    "duration": 192,
    "start_time": "2024-03-05T06:40:22.999Z"
   },
   {
    "duration": 156,
    "start_time": "2024-03-05T06:40:23.193Z"
   },
   {
    "duration": 5,
    "start_time": "2024-03-05T06:40:23.351Z"
   },
   {
    "duration": 180,
    "start_time": "2024-03-05T06:40:23.357Z"
   },
   {
    "duration": 3,
    "start_time": "2024-03-05T06:40:23.539Z"
   },
   {
    "duration": 64,
    "start_time": "2024-03-05T06:40:23.543Z"
   },
   {
    "duration": 234,
    "start_time": "2024-03-05T06:40:23.608Z"
   },
   {
    "duration": 265,
    "start_time": "2024-03-05T06:40:23.843Z"
   },
   {
    "duration": 6,
    "start_time": "2024-03-05T06:40:24.110Z"
   },
   {
    "duration": 45,
    "start_time": "2024-03-05T06:40:24.117Z"
   },
   {
    "duration": 34,
    "start_time": "2024-03-05T06:40:24.166Z"
   },
   {
    "duration": 98,
    "start_time": "2024-03-05T06:40:24.202Z"
   },
   {
    "duration": 29,
    "start_time": "2024-03-05T06:40:24.302Z"
   },
   {
    "duration": 28,
    "start_time": "2024-03-05T06:40:24.332Z"
   },
   {
    "duration": 44,
    "start_time": "2024-03-05T06:40:24.361Z"
   },
   {
    "duration": 98,
    "start_time": "2024-03-05T06:40:24.407Z"
   },
   {
    "duration": 22,
    "start_time": "2024-03-05T06:40:24.508Z"
   },
   {
    "duration": 55,
    "start_time": "2024-03-05T06:40:24.532Z"
   },
   {
    "duration": 45,
    "start_time": "2024-03-05T06:40:24.589Z"
   },
   {
    "duration": 94,
    "start_time": "2024-03-05T06:40:24.636Z"
   },
   {
    "duration": 42,
    "start_time": "2024-03-05T06:40:24.732Z"
   },
   {
    "duration": 48,
    "start_time": "2024-03-05T06:40:24.776Z"
   },
   {
    "duration": 28,
    "start_time": "2024-03-05T06:40:24.825Z"
   },
   {
    "duration": 88,
    "start_time": "2024-03-05T06:40:24.855Z"
   },
   {
    "duration": 61,
    "start_time": "2024-03-05T06:40:24.945Z"
   },
   {
    "duration": 33,
    "start_time": "2024-03-05T06:40:25.008Z"
   },
   {
    "duration": 15,
    "start_time": "2024-03-05T06:40:44.111Z"
   },
   {
    "duration": 81,
    "start_time": "2024-03-05T06:42:09.253Z"
   },
   {
    "duration": 84,
    "start_time": "2024-03-05T06:42:30.249Z"
   },
   {
    "duration": 5,
    "start_time": "2024-03-05T06:43:27.157Z"
   },
   {
    "duration": 5,
    "start_time": "2024-03-05T06:43:43.698Z"
   },
   {
    "duration": 102,
    "start_time": "2024-03-05T06:44:08.009Z"
   },
   {
    "duration": 117,
    "start_time": "2024-03-05T06:44:48.832Z"
   },
   {
    "duration": 126,
    "start_time": "2024-03-05T06:45:07.686Z"
   },
   {
    "duration": 5,
    "start_time": "2024-03-05T06:45:26.209Z"
   },
   {
    "duration": 6,
    "start_time": "2024-03-05T06:45:42.638Z"
   },
   {
    "duration": 30,
    "start_time": "2024-03-05T06:45:59.449Z"
   },
   {
    "duration": 16,
    "start_time": "2024-03-05T06:47:39.466Z"
   },
   {
    "duration": 14,
    "start_time": "2024-03-05T06:49:15.139Z"
   },
   {
    "duration": 7,
    "start_time": "2024-03-05T06:50:25.595Z"
   },
   {
    "duration": 5,
    "start_time": "2024-03-05T06:50:32.669Z"
   },
   {
    "duration": 6,
    "start_time": "2024-03-05T06:50:47.608Z"
   },
   {
    "duration": 30,
    "start_time": "2024-03-05T06:51:36.191Z"
   },
   {
    "duration": 30,
    "start_time": "2024-03-05T07:07:56.657Z"
   },
   {
    "duration": 32,
    "start_time": "2024-03-05T07:08:06.202Z"
   },
   {
    "duration": 9,
    "start_time": "2024-03-05T07:08:13.820Z"
   },
   {
    "duration": 11,
    "start_time": "2024-03-05T07:08:19.791Z"
   },
   {
    "duration": 106,
    "start_time": "2024-03-05T07:08:32.360Z"
   },
   {
    "duration": 11,
    "start_time": "2024-03-05T07:08:44.771Z"
   },
   {
    "duration": 98,
    "start_time": "2024-03-05T07:10:41.473Z"
   },
   {
    "duration": 32,
    "start_time": "2024-03-05T07:10:58.101Z"
   },
   {
    "duration": 654,
    "start_time": "2024-03-05T07:12:59.064Z"
   },
   {
    "duration": 100,
    "start_time": "2024-03-05T07:16:55.928Z"
   },
   {
    "duration": 11,
    "start_time": "2024-03-05T07:18:44.378Z"
   },
   {
    "duration": 47,
    "start_time": "2024-03-05T07:19:48.338Z"
   },
   {
    "duration": 11,
    "start_time": "2024-03-05T07:19:50.091Z"
   },
   {
    "duration": 72,
    "start_time": "2024-03-05T07:25:56.416Z"
   },
   {
    "duration": 455,
    "start_time": "2024-03-05T07:26:02.105Z"
   },
   {
    "duration": 14,
    "start_time": "2024-03-05T07:26:02.562Z"
   },
   {
    "duration": 33,
    "start_time": "2024-03-05T07:26:02.578Z"
   },
   {
    "duration": 696,
    "start_time": "2024-03-05T07:26:02.613Z"
   },
   {
    "duration": 561,
    "start_time": "2024-03-05T07:27:20.905Z"
   },
   {
    "duration": 429,
    "start_time": "2024-03-05T07:27:36.954Z"
   },
   {
    "duration": 456,
    "start_time": "2024-03-05T07:28:14.217Z"
   },
   {
    "duration": 404,
    "start_time": "2024-03-05T07:29:18.207Z"
   },
   {
    "duration": 461,
    "start_time": "2024-03-05T07:29:54.719Z"
   },
   {
    "duration": 938,
    "start_time": "2024-03-05T07:29:58.958Z"
   },
   {
    "duration": 39,
    "start_time": "2024-03-05T07:29:59.898Z"
   },
   {
    "duration": 13,
    "start_time": "2024-03-05T07:29:59.939Z"
   },
   {
    "duration": 33,
    "start_time": "2024-03-05T07:29:59.953Z"
   },
   {
    "duration": 535,
    "start_time": "2024-03-05T07:29:59.988Z"
   },
   {
    "duration": 0,
    "start_time": "2024-03-05T07:30:00.525Z"
   },
   {
    "duration": 476,
    "start_time": "2024-03-05T07:30:24.996Z"
   },
   {
    "duration": 3,
    "start_time": "2024-03-05T07:30:55.203Z"
   },
   {
    "duration": 3,
    "start_time": "2024-03-05T07:31:10.931Z"
   },
   {
    "duration": 842,
    "start_time": "2024-03-05T07:31:16.011Z"
   },
   {
    "duration": 39,
    "start_time": "2024-03-05T07:31:16.855Z"
   },
   {
    "duration": 13,
    "start_time": "2024-03-05T07:31:16.896Z"
   },
   {
    "duration": 22,
    "start_time": "2024-03-05T07:31:16.910Z"
   },
   {
    "duration": 520,
    "start_time": "2024-03-05T07:31:16.934Z"
   },
   {
    "duration": 0,
    "start_time": "2024-03-05T07:31:17.456Z"
   },
   {
    "duration": 3,
    "start_time": "2024-03-05T07:31:53.030Z"
   },
   {
    "duration": 969,
    "start_time": "2024-03-05T07:31:57.073Z"
   },
   {
    "duration": 38,
    "start_time": "2024-03-05T07:31:58.044Z"
   },
   {
    "duration": 12,
    "start_time": "2024-03-05T07:31:58.084Z"
   },
   {
    "duration": 22,
    "start_time": "2024-03-05T07:31:58.097Z"
   },
   {
    "duration": 494,
    "start_time": "2024-03-05T07:31:58.121Z"
   },
   {
    "duration": 0,
    "start_time": "2024-03-05T07:31:58.616Z"
   },
   {
    "duration": 28,
    "start_time": "2024-03-05T07:32:39.101Z"
   },
   {
    "duration": 57,
    "start_time": "2024-03-05T07:33:22.812Z"
   },
   {
    "duration": 4,
    "start_time": "2024-03-05T07:34:31.355Z"
   },
   {
    "duration": 51,
    "start_time": "2024-03-05T07:34:45.914Z"
   },
   {
    "duration": 3,
    "start_time": "2024-03-05T07:34:51.730Z"
   },
   {
    "duration": 51,
    "start_time": "2024-03-05T07:36:19.970Z"
   },
   {
    "duration": 49,
    "start_time": "2024-03-05T07:36:49.362Z"
   },
   {
    "duration": 17,
    "start_time": "2024-03-05T07:37:42.876Z"
   },
   {
    "duration": 63,
    "start_time": "2024-03-05T07:38:30.551Z"
   },
   {
    "duration": 61,
    "start_time": "2024-03-05T07:38:51.972Z"
   },
   {
    "duration": 22,
    "start_time": "2024-03-05T07:39:26.805Z"
   },
   {
    "duration": 7,
    "start_time": "2024-03-05T07:39:35.759Z"
   },
   {
    "duration": 616,
    "start_time": "2024-03-05T07:41:24.400Z"
   },
   {
    "duration": 247,
    "start_time": "2024-03-05T07:41:33.966Z"
   },
   {
    "duration": 24,
    "start_time": "2024-03-05T07:58:49.153Z"
   },
   {
    "duration": 14,
    "start_time": "2024-03-05T08:00:14.233Z"
   },
   {
    "duration": 70,
    "start_time": "2024-03-05T08:00:38.237Z"
   },
   {
    "duration": 77,
    "start_time": "2024-03-05T08:00:46.284Z"
   },
   {
    "duration": 6,
    "start_time": "2024-03-05T08:02:44.234Z"
   },
   {
    "duration": 5,
    "start_time": "2024-03-05T08:03:02.976Z"
   },
   {
    "duration": 869,
    "start_time": "2024-03-05T08:03:19.378Z"
   },
   {
    "duration": 38,
    "start_time": "2024-03-05T08:03:20.249Z"
   },
   {
    "duration": 11,
    "start_time": "2024-03-05T08:03:20.289Z"
   },
   {
    "duration": 21,
    "start_time": "2024-03-05T08:03:20.302Z"
   },
   {
    "duration": 33,
    "start_time": "2024-03-05T08:03:20.325Z"
   },
   {
    "duration": 45,
    "start_time": "2024-03-05T08:03:20.360Z"
   },
   {
    "duration": 54,
    "start_time": "2024-03-05T08:03:20.407Z"
   },
   {
    "duration": 50,
    "start_time": "2024-03-05T08:03:20.462Z"
   },
   {
    "duration": 77,
    "start_time": "2024-03-05T08:03:20.514Z"
   },
   {
    "duration": 59,
    "start_time": "2024-03-05T08:03:20.593Z"
   },
   {
    "duration": 32,
    "start_time": "2024-03-05T08:03:20.653Z"
   },
   {
    "duration": 107,
    "start_time": "2024-03-05T08:03:20.687Z"
   },
   {
    "duration": 0,
    "start_time": "2024-03-05T08:03:20.797Z"
   },
   {
    "duration": 0,
    "start_time": "2024-03-05T08:03:20.798Z"
   },
   {
    "duration": 0,
    "start_time": "2024-03-05T08:03:20.799Z"
   },
   {
    "duration": 0,
    "start_time": "2024-03-05T08:03:20.800Z"
   },
   {
    "duration": 11,
    "start_time": "2024-03-05T08:08:57.728Z"
   },
   {
    "duration": 10,
    "start_time": "2024-03-05T08:09:15.149Z"
   },
   {
    "duration": 11,
    "start_time": "2024-03-05T08:27:11.433Z"
   },
   {
    "duration": 88,
    "start_time": "2024-03-05T08:27:20.422Z"
   },
   {
    "duration": 9,
    "start_time": "2024-03-05T08:27:21.055Z"
   },
   {
    "duration": 5,
    "start_time": "2024-03-05T08:27:21.605Z"
   },
   {
    "duration": 924,
    "start_time": "2024-03-05T08:27:29.848Z"
   },
   {
    "duration": 39,
    "start_time": "2024-03-05T08:27:30.774Z"
   },
   {
    "duration": 278,
    "start_time": "2024-03-05T08:27:30.814Z"
   },
   {
    "duration": 125,
    "start_time": "2024-03-05T08:27:31.094Z"
   },
   {
    "duration": 76,
    "start_time": "2024-03-05T08:27:31.221Z"
   },
   {
    "duration": 106,
    "start_time": "2024-03-05T08:27:31.299Z"
   },
   {
    "duration": 310,
    "start_time": "2024-03-05T08:27:31.407Z"
   },
   {
    "duration": 102,
    "start_time": "2024-03-05T08:27:31.718Z"
   },
   {
    "duration": 294,
    "start_time": "2024-03-05T08:27:31.822Z"
   },
   {
    "duration": 206,
    "start_time": "2024-03-05T08:27:32.117Z"
   },
   {
    "duration": 69,
    "start_time": "2024-03-05T08:27:32.325Z"
   },
   {
    "duration": 116,
    "start_time": "2024-03-05T08:27:32.395Z"
   },
   {
    "duration": 199,
    "start_time": "2024-03-05T08:27:32.512Z"
   },
   {
    "duration": 137,
    "start_time": "2024-03-05T08:27:32.713Z"
   },
   {
    "duration": 75,
    "start_time": "2024-03-05T08:27:32.852Z"
   },
   {
    "duration": 70,
    "start_time": "2024-03-05T08:27:32.929Z"
   },
   {
    "duration": 10,
    "start_time": "2024-03-05T08:28:53.304Z"
   },
   {
    "duration": 13,
    "start_time": "2024-03-05T08:42:50.842Z"
   },
   {
    "duration": 12,
    "start_time": "2024-03-05T08:43:07.687Z"
   },
   {
    "duration": 12,
    "start_time": "2024-03-05T08:43:27.723Z"
   },
   {
    "duration": 13,
    "start_time": "2024-03-05T08:43:36.674Z"
   },
   {
    "duration": 11,
    "start_time": "2024-03-05T08:43:54.546Z"
   },
   {
    "duration": 11,
    "start_time": "2024-03-05T08:44:21.814Z"
   },
   {
    "duration": 49,
    "start_time": "2024-03-05T08:55:15.522Z"
   },
   {
    "duration": 119,
    "start_time": "2024-03-05T08:56:58.023Z"
   },
   {
    "duration": 506,
    "start_time": "2024-03-05T08:57:45.046Z"
   },
   {
    "duration": 99,
    "start_time": "2024-03-05T08:58:12.746Z"
   },
   {
    "duration": 25,
    "start_time": "2024-03-05T08:58:26.835Z"
   },
   {
    "duration": 12,
    "start_time": "2024-03-05T08:59:21.609Z"
   },
   {
    "duration": 290,
    "start_time": "2024-03-05T08:59:40.152Z"
   },
   {
    "duration": 271,
    "start_time": "2024-03-05T08:59:59.374Z"
   },
   {
    "duration": 1010,
    "start_time": "2024-03-05T09:00:03.334Z"
   },
   {
    "duration": 87,
    "start_time": "2024-03-05T09:00:04.346Z"
   },
   {
    "duration": 11,
    "start_time": "2024-03-05T09:00:04.435Z"
   },
   {
    "duration": 19,
    "start_time": "2024-03-05T09:00:04.448Z"
   },
   {
    "duration": 37,
    "start_time": "2024-03-05T09:00:04.479Z"
   },
   {
    "duration": 61,
    "start_time": "2024-03-05T09:00:04.518Z"
   },
   {
    "duration": 644,
    "start_time": "2024-03-05T09:00:04.580Z"
   },
   {
    "duration": 624,
    "start_time": "2024-03-05T09:00:06.710Z"
   },
   {
    "duration": 605,
    "start_time": "2024-03-05T09:01:21.161Z"
   },
   {
    "duration": 335,
    "start_time": "2024-03-05T09:02:31.631Z"
   },
   {
    "duration": 439,
    "start_time": "2024-03-05T09:03:53.858Z"
   },
   {
    "duration": 388,
    "start_time": "2024-03-05T09:07:20.230Z"
   },
   {
    "duration": 361,
    "start_time": "2024-03-05T09:10:00.622Z"
   },
   {
    "duration": 451,
    "start_time": "2024-03-05T09:10:30.050Z"
   },
   {
    "duration": 353,
    "start_time": "2024-03-05T09:11:22.428Z"
   },
   {
    "duration": 159,
    "start_time": "2024-03-05T09:12:43.877Z"
   },
   {
    "duration": 5,
    "start_time": "2024-03-05T09:13:56.643Z"
   },
   {
    "duration": 154,
    "start_time": "2024-03-05T09:14:42.828Z"
   },
   {
    "duration": 5,
    "start_time": "2024-03-05T09:15:10.582Z"
   },
   {
    "duration": 228,
    "start_time": "2024-03-05T09:15:57.557Z"
   },
   {
    "duration": 3,
    "start_time": "2024-03-05T09:16:11.049Z"
   },
   {
    "duration": 1104,
    "start_time": "2024-03-05T09:16:15.352Z"
   },
   {
    "duration": 96,
    "start_time": "2024-03-05T09:16:16.458Z"
   },
   {
    "duration": 16,
    "start_time": "2024-03-05T09:16:16.556Z"
   },
   {
    "duration": 16,
    "start_time": "2024-03-05T09:16:16.574Z"
   },
   {
    "duration": 15,
    "start_time": "2024-03-05T09:16:16.592Z"
   },
   {
    "duration": 45,
    "start_time": "2024-03-05T09:16:16.609Z"
   },
   {
    "duration": 625,
    "start_time": "2024-03-05T09:16:16.655Z"
   },
   {
    "duration": 344,
    "start_time": "2024-03-05T09:16:17.282Z"
   },
   {
    "duration": 410,
    "start_time": "2024-03-05T09:16:17.628Z"
   },
   {
    "duration": 390,
    "start_time": "2024-03-05T09:16:18.039Z"
   },
   {
    "duration": 455,
    "start_time": "2024-03-05T09:16:18.431Z"
   },
   {
    "duration": 322,
    "start_time": "2024-03-05T09:16:18.888Z"
   },
   {
    "duration": 5,
    "start_time": "2024-03-05T09:16:19.212Z"
   },
   {
    "duration": 184,
    "start_time": "2024-03-05T09:16:19.220Z"
   },
   {
    "duration": 5,
    "start_time": "2024-03-05T09:16:19.406Z"
   },
   {
    "duration": 220,
    "start_time": "2024-03-05T09:16:19.412Z"
   },
   {
    "duration": 11,
    "start_time": "2024-03-05T09:17:01.410Z"
   },
   {
    "duration": 49,
    "start_time": "2024-03-05T09:17:48.735Z"
   },
   {
    "duration": 7,
    "start_time": "2024-03-05T09:18:43.833Z"
   },
   {
    "duration": 1035,
    "start_time": "2024-03-05T09:47:31.938Z"
   },
   {
    "duration": 88,
    "start_time": "2024-03-05T09:47:32.975Z"
   },
   {
    "duration": 60,
    "start_time": "2024-03-05T09:47:33.065Z"
   },
   {
    "duration": 38,
    "start_time": "2024-03-05T09:47:33.126Z"
   },
   {
    "duration": 29,
    "start_time": "2024-03-05T09:47:33.166Z"
   },
   {
    "duration": 47,
    "start_time": "2024-03-05T09:47:33.197Z"
   },
   {
    "duration": 624,
    "start_time": "2024-03-05T09:47:33.246Z"
   },
   {
    "duration": 335,
    "start_time": "2024-03-05T09:47:33.871Z"
   },
   {
    "duration": 442,
    "start_time": "2024-03-05T09:47:34.208Z"
   },
   {
    "duration": 393,
    "start_time": "2024-03-05T09:47:34.652Z"
   },
   {
    "duration": 458,
    "start_time": "2024-03-05T09:47:35.047Z"
   },
   {
    "duration": 305,
    "start_time": "2024-03-05T09:47:35.506Z"
   },
   {
    "duration": 5,
    "start_time": "2024-03-05T09:47:35.812Z"
   },
   {
    "duration": 167,
    "start_time": "2024-03-05T09:47:35.820Z"
   },
   {
    "duration": 4,
    "start_time": "2024-03-05T09:47:35.989Z"
   },
   {
    "duration": 227,
    "start_time": "2024-03-05T09:47:35.995Z"
   },
   {
    "duration": 12,
    "start_time": "2024-03-05T09:47:36.223Z"
   },
   {
    "duration": 69,
    "start_time": "2024-03-05T09:47:36.236Z"
   },
   {
    "duration": 8,
    "start_time": "2024-03-05T09:47:36.306Z"
   },
   {
    "duration": 11,
    "start_time": "2024-03-05T09:49:10.949Z"
   },
   {
    "duration": 31,
    "start_time": "2024-03-05T09:49:13.112Z"
   },
   {
    "duration": 7,
    "start_time": "2024-03-05T09:49:14.142Z"
   },
   {
    "duration": 37,
    "start_time": "2024-03-05T09:50:08.364Z"
   },
   {
    "duration": 9,
    "start_time": "2024-03-05T09:50:10.235Z"
   },
   {
    "duration": 9,
    "start_time": "2024-03-05T09:50:24.026Z"
   },
   {
    "duration": 55,
    "start_time": "2024-03-05T09:50:26.586Z"
   },
   {
    "duration": 11,
    "start_time": "2024-03-05T09:50:27.949Z"
   },
   {
    "duration": 37,
    "start_time": "2024-03-05T09:50:44.888Z"
   },
   {
    "duration": 34,
    "start_time": "2024-03-05T09:50:53.768Z"
   },
   {
    "duration": 1089,
    "start_time": "2024-03-05T09:51:26.236Z"
   },
   {
    "duration": 84,
    "start_time": "2024-03-05T09:51:27.327Z"
   },
   {
    "duration": 12,
    "start_time": "2024-03-05T09:51:27.412Z"
   },
   {
    "duration": 15,
    "start_time": "2024-03-05T09:51:27.426Z"
   },
   {
    "duration": 35,
    "start_time": "2024-03-05T09:51:27.443Z"
   },
   {
    "duration": 36,
    "start_time": "2024-03-05T09:51:27.480Z"
   },
   {
    "duration": 611,
    "start_time": "2024-03-05T09:51:27.517Z"
   },
   {
    "duration": 336,
    "start_time": "2024-03-05T09:51:28.130Z"
   },
   {
    "duration": 451,
    "start_time": "2024-03-05T09:51:28.468Z"
   },
   {
    "duration": 379,
    "start_time": "2024-03-05T09:51:28.922Z"
   },
   {
    "duration": 418,
    "start_time": "2024-03-05T09:51:29.303Z"
   },
   {
    "duration": 259,
    "start_time": "2024-03-05T09:51:29.723Z"
   },
   {
    "duration": 5,
    "start_time": "2024-03-05T09:51:29.984Z"
   },
   {
    "duration": 203,
    "start_time": "2024-03-05T09:51:29.990Z"
   },
   {
    "duration": 5,
    "start_time": "2024-03-05T09:51:30.194Z"
   },
   {
    "duration": 233,
    "start_time": "2024-03-05T09:51:30.201Z"
   },
   {
    "duration": 234,
    "start_time": "2024-03-05T09:51:30.436Z"
   },
   {
    "duration": 217,
    "start_time": "2024-03-05T09:51:30.672Z"
   },
   {
    "duration": 162,
    "start_time": "2024-03-05T09:51:30.891Z"
   },
   {
    "duration": 136,
    "start_time": "2024-03-05T09:51:31.056Z"
   },
   {
    "duration": 0,
    "start_time": "2024-03-05T09:51:31.408Z"
   },
   {
    "duration": 0,
    "start_time": "2024-03-05T09:51:31.410Z"
   },
   {
    "duration": 1035,
    "start_time": "2024-03-05T09:51:38.832Z"
   },
   {
    "duration": 86,
    "start_time": "2024-03-05T09:51:39.869Z"
   },
   {
    "duration": 12,
    "start_time": "2024-03-05T09:51:39.956Z"
   },
   {
    "duration": 11,
    "start_time": "2024-03-05T09:51:39.970Z"
   },
   {
    "duration": 20,
    "start_time": "2024-03-05T09:51:39.983Z"
   },
   {
    "duration": 35,
    "start_time": "2024-03-05T09:51:40.005Z"
   },
   {
    "duration": 630,
    "start_time": "2024-03-05T09:51:40.042Z"
   },
   {
    "duration": 356,
    "start_time": "2024-03-05T09:51:40.674Z"
   },
   {
    "duration": 438,
    "start_time": "2024-03-05T09:51:41.032Z"
   },
   {
    "duration": 386,
    "start_time": "2024-03-05T09:51:41.471Z"
   },
   {
    "duration": 450,
    "start_time": "2024-03-05T09:51:41.859Z"
   },
   {
    "duration": 315,
    "start_time": "2024-03-05T09:51:42.311Z"
   },
   {
    "duration": 6,
    "start_time": "2024-03-05T09:51:42.628Z"
   },
   {
    "duration": 167,
    "start_time": "2024-03-05T09:51:42.637Z"
   },
   {
    "duration": 6,
    "start_time": "2024-03-05T09:51:42.806Z"
   },
   {
    "duration": 149,
    "start_time": "2024-03-05T09:51:42.814Z"
   },
   {
    "duration": 35,
    "start_time": "2024-03-05T09:51:42.965Z"
   },
   {
    "duration": 12,
    "start_time": "2024-03-05T09:51:43.002Z"
   },
   {
    "duration": 20,
    "start_time": "2024-03-05T09:51:43.016Z"
   },
   {
    "duration": 49,
    "start_time": "2024-03-05T09:51:43.038Z"
   },
   {
    "duration": 150,
    "start_time": "2024-03-05T09:51:43.088Z"
   },
   {
    "duration": 0,
    "start_time": "2024-03-05T09:51:43.240Z"
   },
   {
    "duration": 1066,
    "start_time": "2024-03-05T09:51:49.483Z"
   },
   {
    "duration": 88,
    "start_time": "2024-03-05T09:51:50.551Z"
   },
   {
    "duration": 13,
    "start_time": "2024-03-05T09:51:50.641Z"
   },
   {
    "duration": 12,
    "start_time": "2024-03-05T09:51:50.656Z"
   },
   {
    "duration": 15,
    "start_time": "2024-03-05T09:51:50.681Z"
   },
   {
    "duration": 37,
    "start_time": "2024-03-05T09:51:50.697Z"
   },
   {
    "duration": 642,
    "start_time": "2024-03-05T09:51:50.735Z"
   },
   {
    "duration": 335,
    "start_time": "2024-03-05T09:51:51.380Z"
   },
   {
    "duration": 435,
    "start_time": "2024-03-05T09:51:51.717Z"
   },
   {
    "duration": 426,
    "start_time": "2024-03-05T09:51:52.155Z"
   },
   {
    "duration": 439,
    "start_time": "2024-03-05T09:51:52.583Z"
   },
   {
    "duration": 275,
    "start_time": "2024-03-05T09:51:53.024Z"
   },
   {
    "duration": 5,
    "start_time": "2024-03-05T09:51:53.300Z"
   },
   {
    "duration": 174,
    "start_time": "2024-03-05T09:51:53.306Z"
   },
   {
    "duration": 5,
    "start_time": "2024-03-05T09:51:53.481Z"
   },
   {
    "duration": 159,
    "start_time": "2024-03-05T09:51:53.488Z"
   },
   {
    "duration": 25,
    "start_time": "2024-03-05T09:51:53.649Z"
   },
   {
    "duration": 10,
    "start_time": "2024-03-05T09:51:53.680Z"
   },
   {
    "duration": 9,
    "start_time": "2024-03-05T09:51:53.692Z"
   },
   {
    "duration": 33,
    "start_time": "2024-03-05T09:51:53.702Z"
   },
   {
    "duration": 8,
    "start_time": "2024-03-05T09:51:53.737Z"
   },
   {
    "duration": 109,
    "start_time": "2024-03-05T10:17:37.383Z"
   },
   {
    "duration": 14,
    "start_time": "2024-03-05T10:17:46.163Z"
   },
   {
    "duration": 27,
    "start_time": "2024-03-05T10:22:19.296Z"
   },
   {
    "duration": 11,
    "start_time": "2024-03-05T10:23:36.140Z"
   },
   {
    "duration": 4,
    "start_time": "2024-03-05T10:24:29.896Z"
   },
   {
    "duration": 1030,
    "start_time": "2024-03-05T10:24:33.733Z"
   },
   {
    "duration": 88,
    "start_time": "2024-03-05T10:24:34.766Z"
   },
   {
    "duration": 12,
    "start_time": "2024-03-05T10:24:34.855Z"
   },
   {
    "duration": 12,
    "start_time": "2024-03-05T10:24:34.869Z"
   },
   {
    "duration": 34,
    "start_time": "2024-03-05T10:24:34.882Z"
   },
   {
    "duration": 51,
    "start_time": "2024-03-05T10:24:34.917Z"
   },
   {
    "duration": 613,
    "start_time": "2024-03-05T10:24:34.970Z"
   },
   {
    "duration": 357,
    "start_time": "2024-03-05T10:24:35.585Z"
   },
   {
    "duration": 466,
    "start_time": "2024-03-05T10:24:35.943Z"
   },
   {
    "duration": 374,
    "start_time": "2024-03-05T10:24:36.411Z"
   },
   {
    "duration": 442,
    "start_time": "2024-03-05T10:24:36.787Z"
   },
   {
    "duration": 277,
    "start_time": "2024-03-05T10:24:37.231Z"
   },
   {
    "duration": 6,
    "start_time": "2024-03-05T10:24:37.510Z"
   },
   {
    "duration": 165,
    "start_time": "2024-03-05T10:24:37.517Z"
   },
   {
    "duration": 5,
    "start_time": "2024-03-05T10:24:37.683Z"
   },
   {
    "duration": 145,
    "start_time": "2024-03-05T10:24:37.689Z"
   },
   {
    "duration": 28,
    "start_time": "2024-03-05T10:24:37.836Z"
   },
   {
    "duration": 21,
    "start_time": "2024-03-05T10:24:37.866Z"
   },
   {
    "duration": 11,
    "start_time": "2024-03-05T10:24:37.889Z"
   },
   {
    "duration": 42,
    "start_time": "2024-03-05T10:24:37.901Z"
   },
   {
    "duration": 8,
    "start_time": "2024-03-05T10:24:37.945Z"
   },
   {
    "duration": 25,
    "start_time": "2024-03-05T10:25:23.606Z"
   },
   {
    "duration": 25,
    "start_time": "2024-03-05T10:25:27.668Z"
   },
   {
    "duration": 12,
    "start_time": "2024-03-05T10:31:02.700Z"
   },
   {
    "duration": 12,
    "start_time": "2024-03-05T10:31:14.787Z"
   },
   {
    "duration": 27,
    "start_time": "2024-03-05T10:40:27.432Z"
   },
   {
    "duration": 26,
    "start_time": "2024-03-05T10:40:46.285Z"
   },
   {
    "duration": 25,
    "start_time": "2024-03-05T10:42:16.729Z"
   },
   {
    "duration": 26,
    "start_time": "2024-03-05T10:43:33.991Z"
   },
   {
    "duration": 13,
    "start_time": "2024-03-05T10:43:45.078Z"
   },
   {
    "duration": 108,
    "start_time": "2024-03-05T10:44:29.467Z"
   },
   {
    "duration": 31,
    "start_time": "2024-03-05T10:44:40.523Z"
   },
   {
    "duration": 10,
    "start_time": "2024-03-05T10:45:24.331Z"
   },
   {
    "duration": 26,
    "start_time": "2024-03-05T10:45:42.781Z"
   },
   {
    "duration": 11,
    "start_time": "2024-03-05T10:45:43.403Z"
   },
   {
    "duration": 14,
    "start_time": "2024-03-05T10:58:34.565Z"
   },
   {
    "duration": 153,
    "start_time": "2024-03-05T10:59:27.782Z"
   },
   {
    "duration": 1056,
    "start_time": "2024-03-05T10:59:32.017Z"
   },
   {
    "duration": 89,
    "start_time": "2024-03-05T10:59:33.075Z"
   },
   {
    "duration": 12,
    "start_time": "2024-03-05T10:59:33.165Z"
   },
   {
    "duration": 35,
    "start_time": "2024-03-05T10:59:33.178Z"
   },
   {
    "duration": 28,
    "start_time": "2024-03-05T10:59:33.215Z"
   },
   {
    "duration": 36,
    "start_time": "2024-03-05T10:59:33.245Z"
   },
   {
    "duration": 640,
    "start_time": "2024-03-05T10:59:33.283Z"
   },
   {
    "duration": 345,
    "start_time": "2024-03-05T10:59:33.925Z"
   },
   {
    "duration": 451,
    "start_time": "2024-03-05T10:59:34.272Z"
   },
   {
    "duration": 400,
    "start_time": "2024-03-05T10:59:34.725Z"
   },
   {
    "duration": 432,
    "start_time": "2024-03-05T10:59:35.127Z"
   },
   {
    "duration": 298,
    "start_time": "2024-03-05T10:59:35.560Z"
   },
   {
    "duration": 6,
    "start_time": "2024-03-05T10:59:35.860Z"
   },
   {
    "duration": 179,
    "start_time": "2024-03-05T10:59:35.882Z"
   },
   {
    "duration": 5,
    "start_time": "2024-03-05T10:59:36.063Z"
   },
   {
    "duration": 276,
    "start_time": "2024-03-05T10:59:36.070Z"
   },
   {
    "duration": 36,
    "start_time": "2024-03-05T10:59:36.349Z"
   },
   {
    "duration": 12,
    "start_time": "2024-03-05T10:59:36.386Z"
   },
   {
    "duration": 13,
    "start_time": "2024-03-05T10:59:36.399Z"
   },
   {
    "duration": 143,
    "start_time": "2024-03-05T10:59:36.415Z"
   },
   {
    "duration": 0,
    "start_time": "2024-03-05T10:59:36.560Z"
   },
   {
    "duration": 1092,
    "start_time": "2024-03-05T11:00:00.130Z"
   },
   {
    "duration": 94,
    "start_time": "2024-03-05T11:00:01.224Z"
   },
   {
    "duration": 12,
    "start_time": "2024-03-05T11:00:01.320Z"
   },
   {
    "duration": 115,
    "start_time": "2024-03-05T11:00:01.333Z"
   },
   {
    "duration": 88,
    "start_time": "2024-03-05T11:00:01.451Z"
   },
   {
    "duration": 93,
    "start_time": "2024-03-05T11:00:01.540Z"
   },
   {
    "duration": 648,
    "start_time": "2024-03-05T11:00:01.635Z"
   },
   {
    "duration": 393,
    "start_time": "2024-03-05T11:00:02.284Z"
   },
   {
    "duration": 458,
    "start_time": "2024-03-05T11:00:02.678Z"
   },
   {
    "duration": 383,
    "start_time": "2024-03-05T11:00:03.138Z"
   },
   {
    "duration": 431,
    "start_time": "2024-03-05T11:00:03.523Z"
   },
   {
    "duration": 285,
    "start_time": "2024-03-05T11:00:03.957Z"
   },
   {
    "duration": 5,
    "start_time": "2024-03-05T11:00:04.244Z"
   },
   {
    "duration": 257,
    "start_time": "2024-03-05T11:00:04.251Z"
   },
   {
    "duration": 5,
    "start_time": "2024-03-05T11:00:04.510Z"
   },
   {
    "duration": 151,
    "start_time": "2024-03-05T11:00:04.516Z"
   },
   {
    "duration": 31,
    "start_time": "2024-03-05T11:00:04.669Z"
   },
   {
    "duration": 11,
    "start_time": "2024-03-05T11:00:04.702Z"
   },
   {
    "duration": 24,
    "start_time": "2024-03-05T11:00:04.714Z"
   },
   {
    "duration": 107,
    "start_time": "2024-03-05T11:00:04.739Z"
   },
   {
    "duration": 0,
    "start_time": "2024-03-05T11:00:04.848Z"
   },
   {
    "duration": 27,
    "start_time": "2024-03-05T11:02:50.036Z"
   },
   {
    "duration": 13,
    "start_time": "2024-03-05T11:03:14.124Z"
   },
   {
    "duration": 20,
    "start_time": "2024-03-05T11:04:47.270Z"
   },
   {
    "duration": 16,
    "start_time": "2024-03-05T11:06:00.916Z"
   },
   {
    "duration": 13,
    "start_time": "2024-03-05T11:40:54.638Z"
   },
   {
    "duration": 31,
    "start_time": "2024-03-05T11:51:27.299Z"
   },
   {
    "duration": 12,
    "start_time": "2024-03-05T11:52:31.371Z"
   },
   {
    "duration": 8,
    "start_time": "2024-03-05T11:53:11.842Z"
   },
   {
    "duration": 1051,
    "start_time": "2024-03-05T11:53:57.182Z"
   },
   {
    "duration": 83,
    "start_time": "2024-03-05T11:53:58.235Z"
   },
   {
    "duration": 12,
    "start_time": "2024-03-05T11:53:58.319Z"
   },
   {
    "duration": 10,
    "start_time": "2024-03-05T11:53:58.332Z"
   },
   {
    "duration": 107,
    "start_time": "2024-03-05T11:53:58.344Z"
   },
   {
    "duration": 0,
    "start_time": "2024-03-05T11:53:58.453Z"
   },
   {
    "duration": 0,
    "start_time": "2024-03-05T11:53:58.453Z"
   },
   {
    "duration": 0,
    "start_time": "2024-03-05T11:53:58.454Z"
   },
   {
    "duration": 0,
    "start_time": "2024-03-05T11:53:58.455Z"
   },
   {
    "duration": 0,
    "start_time": "2024-03-05T11:53:58.456Z"
   },
   {
    "duration": 0,
    "start_time": "2024-03-05T11:53:58.458Z"
   },
   {
    "duration": 0,
    "start_time": "2024-03-05T11:53:58.458Z"
   },
   {
    "duration": 0,
    "start_time": "2024-03-05T11:53:58.459Z"
   },
   {
    "duration": 0,
    "start_time": "2024-03-05T11:53:58.460Z"
   },
   {
    "duration": 0,
    "start_time": "2024-03-05T11:53:58.461Z"
   },
   {
    "duration": 0,
    "start_time": "2024-03-05T11:53:58.462Z"
   },
   {
    "duration": 0,
    "start_time": "2024-03-05T11:53:58.463Z"
   },
   {
    "duration": 0,
    "start_time": "2024-03-05T11:53:58.464Z"
   },
   {
    "duration": 0,
    "start_time": "2024-03-05T11:53:58.480Z"
   },
   {
    "duration": 0,
    "start_time": "2024-03-05T11:53:58.481Z"
   },
   {
    "duration": 0,
    "start_time": "2024-03-05T11:53:58.482Z"
   },
   {
    "duration": 1108,
    "start_time": "2024-03-05T11:54:22.784Z"
   },
   {
    "duration": 85,
    "start_time": "2024-03-05T11:54:23.893Z"
   },
   {
    "duration": 11,
    "start_time": "2024-03-05T11:54:23.980Z"
   },
   {
    "duration": 13,
    "start_time": "2024-03-05T11:54:23.993Z"
   },
   {
    "duration": 108,
    "start_time": "2024-03-05T11:54:24.008Z"
   },
   {
    "duration": 0,
    "start_time": "2024-03-05T11:54:24.118Z"
   },
   {
    "duration": 0,
    "start_time": "2024-03-05T11:54:24.119Z"
   },
   {
    "duration": 0,
    "start_time": "2024-03-05T11:54:24.121Z"
   },
   {
    "duration": 0,
    "start_time": "2024-03-05T11:54:24.122Z"
   },
   {
    "duration": 0,
    "start_time": "2024-03-05T11:54:24.122Z"
   },
   {
    "duration": 0,
    "start_time": "2024-03-05T11:54:24.123Z"
   },
   {
    "duration": 0,
    "start_time": "2024-03-05T11:54:24.124Z"
   },
   {
    "duration": 1,
    "start_time": "2024-03-05T11:54:24.125Z"
   },
   {
    "duration": 0,
    "start_time": "2024-03-05T11:54:24.127Z"
   },
   {
    "duration": 1,
    "start_time": "2024-03-05T11:54:24.127Z"
   },
   {
    "duration": 0,
    "start_time": "2024-03-05T11:54:24.128Z"
   },
   {
    "duration": 0,
    "start_time": "2024-03-05T11:54:24.130Z"
   },
   {
    "duration": 0,
    "start_time": "2024-03-05T11:54:24.131Z"
   },
   {
    "duration": 0,
    "start_time": "2024-03-05T11:54:24.131Z"
   },
   {
    "duration": 0,
    "start_time": "2024-03-05T11:54:24.132Z"
   },
   {
    "duration": 0,
    "start_time": "2024-03-05T11:54:24.134Z"
   },
   {
    "duration": 10,
    "start_time": "2024-03-05T12:00:55.638Z"
   },
   {
    "duration": 1131,
    "start_time": "2024-03-05T12:01:03.757Z"
   },
   {
    "duration": 91,
    "start_time": "2024-03-05T12:01:04.890Z"
   },
   {
    "duration": 13,
    "start_time": "2024-03-05T12:01:04.982Z"
   },
   {
    "duration": 25,
    "start_time": "2024-03-05T12:01:04.996Z"
   },
   {
    "duration": 101,
    "start_time": "2024-03-05T12:01:05.023Z"
   },
   {
    "duration": 0,
    "start_time": "2024-03-05T12:01:05.127Z"
   },
   {
    "duration": 0,
    "start_time": "2024-03-05T12:01:05.128Z"
   },
   {
    "duration": 0,
    "start_time": "2024-03-05T12:01:05.130Z"
   },
   {
    "duration": 0,
    "start_time": "2024-03-05T12:01:05.131Z"
   },
   {
    "duration": 0,
    "start_time": "2024-03-05T12:01:05.132Z"
   },
   {
    "duration": 0,
    "start_time": "2024-03-05T12:01:05.133Z"
   },
   {
    "duration": 0,
    "start_time": "2024-03-05T12:01:05.134Z"
   },
   {
    "duration": 0,
    "start_time": "2024-03-05T12:01:05.135Z"
   },
   {
    "duration": 0,
    "start_time": "2024-03-05T12:01:05.136Z"
   },
   {
    "duration": 0,
    "start_time": "2024-03-05T12:01:05.137Z"
   },
   {
    "duration": 0,
    "start_time": "2024-03-05T12:01:05.138Z"
   },
   {
    "duration": 0,
    "start_time": "2024-03-05T12:01:05.139Z"
   },
   {
    "duration": 0,
    "start_time": "2024-03-05T12:01:05.140Z"
   },
   {
    "duration": 0,
    "start_time": "2024-03-05T12:01:05.140Z"
   },
   {
    "duration": 0,
    "start_time": "2024-03-05T12:01:05.141Z"
   },
   {
    "duration": 0,
    "start_time": "2024-03-05T12:01:05.142Z"
   },
   {
    "duration": 14,
    "start_time": "2024-03-05T12:01:34.598Z"
   },
   {
    "duration": 1070,
    "start_time": "2024-03-05T12:01:38.579Z"
   },
   {
    "duration": 89,
    "start_time": "2024-03-05T12:01:39.650Z"
   },
   {
    "duration": 11,
    "start_time": "2024-03-05T12:01:39.741Z"
   },
   {
    "duration": 30,
    "start_time": "2024-03-05T12:01:39.754Z"
   },
   {
    "duration": 107,
    "start_time": "2024-03-05T12:01:39.786Z"
   },
   {
    "duration": 0,
    "start_time": "2024-03-05T12:01:39.895Z"
   },
   {
    "duration": 0,
    "start_time": "2024-03-05T12:01:39.896Z"
   },
   {
    "duration": 0,
    "start_time": "2024-03-05T12:01:39.898Z"
   },
   {
    "duration": 0,
    "start_time": "2024-03-05T12:01:39.899Z"
   },
   {
    "duration": 0,
    "start_time": "2024-03-05T12:01:39.900Z"
   },
   {
    "duration": 0,
    "start_time": "2024-03-05T12:01:39.901Z"
   },
   {
    "duration": 0,
    "start_time": "2024-03-05T12:01:39.902Z"
   },
   {
    "duration": 0,
    "start_time": "2024-03-05T12:01:39.903Z"
   },
   {
    "duration": 0,
    "start_time": "2024-03-05T12:01:39.904Z"
   },
   {
    "duration": 0,
    "start_time": "2024-03-05T12:01:39.905Z"
   },
   {
    "duration": 0,
    "start_time": "2024-03-05T12:01:39.906Z"
   },
   {
    "duration": 0,
    "start_time": "2024-03-05T12:01:39.908Z"
   },
   {
    "duration": 8,
    "start_time": "2024-03-05T12:02:06.874Z"
   },
   {
    "duration": 1064,
    "start_time": "2024-03-05T12:02:20.934Z"
   },
   {
    "duration": 80,
    "start_time": "2024-03-05T12:02:22.000Z"
   },
   {
    "duration": 36,
    "start_time": "2024-03-05T12:02:22.082Z"
   },
   {
    "duration": 48,
    "start_time": "2024-03-05T12:02:22.119Z"
   },
   {
    "duration": 31,
    "start_time": "2024-03-05T12:02:22.169Z"
   },
   {
    "duration": 21,
    "start_time": "2024-03-05T12:02:22.202Z"
   },
   {
    "duration": 53,
    "start_time": "2024-03-05T12:02:22.224Z"
   },
   {
    "duration": 658,
    "start_time": "2024-03-05T12:02:22.279Z"
   },
   {
    "duration": 4,
    "start_time": "2024-03-05T12:02:22.939Z"
   },
   {
    "duration": 360,
    "start_time": "2024-03-05T12:02:22.945Z"
   },
   {
    "duration": 425,
    "start_time": "2024-03-05T12:02:23.307Z"
   },
   {
    "duration": 399,
    "start_time": "2024-03-05T12:02:23.734Z"
   },
   {
    "duration": 461,
    "start_time": "2024-03-05T12:02:24.135Z"
   },
   {
    "duration": 325,
    "start_time": "2024-03-05T12:02:24.598Z"
   },
   {
    "duration": 6,
    "start_time": "2024-03-05T12:02:24.924Z"
   },
   {
    "duration": 192,
    "start_time": "2024-03-05T12:02:24.932Z"
   },
   {
    "duration": 6,
    "start_time": "2024-03-05T12:02:25.125Z"
   },
   {
    "duration": 99,
    "start_time": "2024-03-05T12:18:03.264Z"
   },
   {
    "duration": 435,
    "start_time": "2024-03-05T12:26:06.792Z"
   },
   {
    "duration": 1118,
    "start_time": "2024-03-05T12:26:22.770Z"
   },
   {
    "duration": 88,
    "start_time": "2024-03-05T12:26:23.890Z"
   },
   {
    "duration": 11,
    "start_time": "2024-03-05T12:26:23.980Z"
   },
   {
    "duration": 28,
    "start_time": "2024-03-05T12:26:23.993Z"
   },
   {
    "duration": 32,
    "start_time": "2024-03-05T12:26:24.022Z"
   },
   {
    "duration": 486,
    "start_time": "2024-03-05T12:26:24.056Z"
   },
   {
    "duration": 0,
    "start_time": "2024-03-05T12:26:24.545Z"
   },
   {
    "duration": 0,
    "start_time": "2024-03-05T12:26:24.547Z"
   },
   {
    "duration": 0,
    "start_time": "2024-03-05T12:26:24.548Z"
   },
   {
    "duration": 0,
    "start_time": "2024-03-05T12:26:24.550Z"
   },
   {
    "duration": 0,
    "start_time": "2024-03-05T12:26:24.551Z"
   },
   {
    "duration": 0,
    "start_time": "2024-03-05T12:26:24.553Z"
   },
   {
    "duration": 0,
    "start_time": "2024-03-05T12:26:24.554Z"
   },
   {
    "duration": 0,
    "start_time": "2024-03-05T12:26:24.555Z"
   },
   {
    "duration": 0,
    "start_time": "2024-03-05T12:26:24.557Z"
   },
   {
    "duration": 0,
    "start_time": "2024-03-05T12:26:24.558Z"
   },
   {
    "duration": 0,
    "start_time": "2024-03-05T12:26:24.560Z"
   },
   {
    "duration": 0,
    "start_time": "2024-03-05T12:26:24.561Z"
   },
   {
    "duration": 5,
    "start_time": "2024-03-05T12:27:32.425Z"
   },
   {
    "duration": 434,
    "start_time": "2024-03-05T12:27:53.336Z"
   },
   {
    "duration": 12,
    "start_time": "2024-03-05T12:28:52.155Z"
   },
   {
    "duration": 1123,
    "start_time": "2024-03-05T12:29:01.647Z"
   },
   {
    "duration": 86,
    "start_time": "2024-03-05T12:29:02.772Z"
   },
   {
    "duration": 108,
    "start_time": "2024-03-05T12:29:02.860Z"
   },
   {
    "duration": 289,
    "start_time": "2024-03-05T12:29:02.970Z"
   },
   {
    "duration": 494,
    "start_time": "2024-03-05T12:29:03.261Z"
   },
   {
    "duration": 46,
    "start_time": "2024-03-05T12:29:03.757Z"
   },
   {
    "duration": 276,
    "start_time": "2024-03-05T12:29:03.804Z"
   },
   {
    "duration": 633,
    "start_time": "2024-03-05T12:29:04.082Z"
   },
   {
    "duration": 373,
    "start_time": "2024-03-05T12:29:04.717Z"
   },
   {
    "duration": 451,
    "start_time": "2024-03-05T12:29:05.092Z"
   },
   {
    "duration": 384,
    "start_time": "2024-03-05T12:29:05.545Z"
   },
   {
    "duration": 450,
    "start_time": "2024-03-05T12:29:05.931Z"
   },
   {
    "duration": 292,
    "start_time": "2024-03-05T12:29:06.383Z"
   },
   {
    "duration": 5,
    "start_time": "2024-03-05T12:29:06.678Z"
   },
   {
    "duration": 195,
    "start_time": "2024-03-05T12:29:06.684Z"
   },
   {
    "duration": 5,
    "start_time": "2024-03-05T12:29:06.880Z"
   },
   {
    "duration": 119,
    "start_time": "2024-03-05T12:29:18.517Z"
   },
   {
    "duration": 1134,
    "start_time": "2024-03-05T12:29:23.959Z"
   },
   {
    "duration": 86,
    "start_time": "2024-03-05T12:29:25.097Z"
   },
   {
    "duration": 11,
    "start_time": "2024-03-05T12:29:25.185Z"
   },
   {
    "duration": 17,
    "start_time": "2024-03-05T12:29:25.198Z"
   },
   {
    "duration": 23,
    "start_time": "2024-03-05T12:29:25.217Z"
   },
   {
    "duration": 36,
    "start_time": "2024-03-05T12:29:25.242Z"
   },
   {
    "duration": 284,
    "start_time": "2024-03-05T12:29:25.279Z"
   },
   {
    "duration": 334,
    "start_time": "2024-03-05T12:29:25.565Z"
   },
   {
    "duration": 2007,
    "start_time": "2024-03-05T12:29:25.900Z"
   },
   {
    "duration": 0,
    "start_time": "2024-03-05T12:29:27.909Z"
   },
   {
    "duration": 0,
    "start_time": "2024-03-05T12:29:27.910Z"
   },
   {
    "duration": 0,
    "start_time": "2024-03-05T12:29:27.912Z"
   },
   {
    "duration": 0,
    "start_time": "2024-03-05T12:29:27.913Z"
   },
   {
    "duration": 0,
    "start_time": "2024-03-05T12:29:27.914Z"
   },
   {
    "duration": 0,
    "start_time": "2024-03-05T12:29:27.916Z"
   },
   {
    "duration": 0,
    "start_time": "2024-03-05T12:29:27.917Z"
   },
   {
    "duration": 337,
    "start_time": "2024-03-05T12:30:07.420Z"
   },
   {
    "duration": 398,
    "start_time": "2024-03-05T12:30:20.003Z"
   },
   {
    "duration": 368,
    "start_time": "2024-03-05T12:30:39.597Z"
   },
   {
    "duration": 467,
    "start_time": "2024-03-05T12:30:54.175Z"
   },
   {
    "duration": 310,
    "start_time": "2024-03-05T12:31:40.727Z"
   },
   {
    "duration": 438,
    "start_time": "2024-03-05T12:32:17.765Z"
   },
   {
    "duration": 368,
    "start_time": "2024-03-05T12:32:25.238Z"
   },
   {
    "duration": 405,
    "start_time": "2024-03-05T12:32:30.421Z"
   },
   {
    "duration": 329,
    "start_time": "2024-03-05T12:32:36.598Z"
   },
   {
    "duration": 209,
    "start_time": "2024-03-05T12:34:58.875Z"
   },
   {
    "duration": 5,
    "start_time": "2024-03-05T12:35:15.856Z"
   },
   {
    "duration": 133,
    "start_time": "2024-03-05T12:35:26.554Z"
   },
   {
    "duration": 3,
    "start_time": "2024-03-05T12:35:47.959Z"
   },
   {
    "duration": 1110,
    "start_time": "2024-03-05T12:35:51.699Z"
   },
   {
    "duration": 88,
    "start_time": "2024-03-05T12:35:52.811Z"
   },
   {
    "duration": 12,
    "start_time": "2024-03-05T12:35:52.901Z"
   },
   {
    "duration": 28,
    "start_time": "2024-03-05T12:35:52.915Z"
   },
   {
    "duration": 33,
    "start_time": "2024-03-05T12:35:52.944Z"
   },
   {
    "duration": 36,
    "start_time": "2024-03-05T12:35:52.978Z"
   },
   {
    "duration": 280,
    "start_time": "2024-03-05T12:35:53.016Z"
   },
   {
    "duration": 350,
    "start_time": "2024-03-05T12:35:53.298Z"
   },
   {
    "duration": 325,
    "start_time": "2024-03-05T12:35:53.649Z"
   },
   {
    "duration": 452,
    "start_time": "2024-03-05T12:35:53.979Z"
   },
   {
    "duration": 436,
    "start_time": "2024-03-05T12:35:54.433Z"
   },
   {
    "duration": 434,
    "start_time": "2024-03-05T12:35:54.871Z"
   },
   {
    "duration": 131,
    "start_time": "2024-03-05T12:35:55.307Z"
   },
   {
    "duration": 4,
    "start_time": "2024-03-05T12:35:55.440Z"
   },
   {
    "duration": 153,
    "start_time": "2024-03-05T12:35:55.445Z"
   },
   {
    "duration": 6,
    "start_time": "2024-03-05T12:35:55.599Z"
   },
   {
    "duration": 4,
    "start_time": "2024-03-05T12:36:07.265Z"
   },
   {
    "duration": 172,
    "start_time": "2024-03-05T12:36:25.435Z"
   },
   {
    "duration": 8,
    "start_time": "2024-03-05T12:36:58.052Z"
   },
   {
    "duration": 102,
    "start_time": "2024-03-05T12:37:25.041Z"
   },
   {
    "duration": 1806,
    "start_time": "2024-03-05T12:40:18.332Z"
   },
   {
    "duration": 251,
    "start_time": "2024-03-05T12:43:55.406Z"
   },
   {
    "duration": 4,
    "start_time": "2024-03-05T12:44:06.601Z"
   },
   {
    "duration": 144,
    "start_time": "2024-03-05T12:44:15.846Z"
   },
   {
    "duration": 4,
    "start_time": "2024-03-05T12:44:23.082Z"
   },
   {
    "duration": 39,
    "start_time": "2024-03-05T12:44:35.122Z"
   },
   {
    "duration": 12,
    "start_time": "2024-03-05T12:44:48.361Z"
   },
   {
    "duration": 8,
    "start_time": "2024-03-05T12:45:02.912Z"
   },
   {
    "duration": 37,
    "start_time": "2024-03-05T12:45:12.656Z"
   },
   {
    "duration": 13,
    "start_time": "2024-03-05T12:45:25.618Z"
   },
   {
    "duration": 9,
    "start_time": "2024-03-05T12:48:45.011Z"
   },
   {
    "duration": 34,
    "start_time": "2024-03-05T12:48:47.766Z"
   },
   {
    "duration": 25,
    "start_time": "2024-03-05T12:59:18.301Z"
   },
   {
    "duration": 15,
    "start_time": "2024-03-05T13:40:29.175Z"
   },
   {
    "duration": 13,
    "start_time": "2024-03-05T13:40:38.915Z"
   },
   {
    "duration": 4,
    "start_time": "2024-03-05T13:40:47.817Z"
   },
   {
    "duration": 14,
    "start_time": "2024-03-05T13:41:17.159Z"
   },
   {
    "duration": 11,
    "start_time": "2024-03-05T13:41:17.519Z"
   },
   {
    "duration": 9,
    "start_time": "2024-03-05T13:41:30.978Z"
   },
   {
    "duration": 8,
    "start_time": "2024-03-05T13:41:39.926Z"
   },
   {
    "duration": 7,
    "start_time": "2024-03-05T13:41:47.374Z"
   },
   {
    "duration": 410,
    "start_time": "2024-03-05T13:44:07.442Z"
   },
   {
    "duration": 7,
    "start_time": "2024-03-05T13:54:32.627Z"
   },
   {
    "duration": 413,
    "start_time": "2024-03-05T13:54:33.161Z"
   },
   {
    "duration": 26,
    "start_time": "2024-03-05T13:56:03.573Z"
   },
   {
    "duration": 37,
    "start_time": "2024-03-05T13:56:04.063Z"
   },
   {
    "duration": 6,
    "start_time": "2024-03-05T13:56:04.540Z"
   },
   {
    "duration": 13,
    "start_time": "2024-03-05T13:56:05.258Z"
   },
   {
    "duration": 4,
    "start_time": "2024-03-05T13:56:05.921Z"
   },
   {
    "duration": 6,
    "start_time": "2024-03-05T13:56:06.664Z"
   },
   {
    "duration": 38,
    "start_time": "2024-03-05T13:56:07.481Z"
   },
   {
    "duration": 5,
    "start_time": "2024-03-05T13:56:08.503Z"
   },
   {
    "duration": 27,
    "start_time": "2024-03-05T13:56:09.973Z"
   },
   {
    "duration": 3,
    "start_time": "2024-03-05T13:56:11.807Z"
   },
   {
    "duration": 4,
    "start_time": "2024-03-05T13:56:12.725Z"
   },
   {
    "duration": 17,
    "start_time": "2024-03-05T13:56:13.398Z"
   },
   {
    "duration": 6,
    "start_time": "2024-03-05T13:56:13.838Z"
   },
   {
    "duration": 16,
    "start_time": "2024-03-05T13:56:14.520Z"
   },
   {
    "duration": 13,
    "start_time": "2024-03-05T13:56:14.932Z"
   },
   {
    "duration": 13,
    "start_time": "2024-03-05T13:56:15.662Z"
   },
   {
    "duration": 399,
    "start_time": "2024-03-05T13:56:16.295Z"
   },
   {
    "duration": 8,
    "start_time": "2024-03-05T13:56:16.696Z"
   },
   {
    "duration": 188,
    "start_time": "2024-03-05T13:56:16.818Z"
   },
   {
    "duration": 1080,
    "start_time": "2024-03-05T13:56:20.119Z"
   },
   {
    "duration": 86,
    "start_time": "2024-03-05T13:56:21.201Z"
   },
   {
    "duration": 13,
    "start_time": "2024-03-05T13:56:21.289Z"
   },
   {
    "duration": 11,
    "start_time": "2024-03-05T13:56:21.303Z"
   },
   {
    "duration": 18,
    "start_time": "2024-03-05T13:56:21.317Z"
   },
   {
    "duration": 37,
    "start_time": "2024-03-05T13:56:21.336Z"
   },
   {
    "duration": 7,
    "start_time": "2024-03-05T13:56:21.374Z"
   },
   {
    "duration": 23,
    "start_time": "2024-03-05T13:56:21.383Z"
   },
   {
    "duration": 3,
    "start_time": "2024-03-05T13:56:21.408Z"
   },
   {
    "duration": 10,
    "start_time": "2024-03-05T13:56:21.413Z"
   },
   {
    "duration": 29,
    "start_time": "2024-03-05T13:56:21.424Z"
   },
   {
    "duration": 4,
    "start_time": "2024-03-05T13:56:21.455Z"
   },
   {
    "duration": 45,
    "start_time": "2024-03-05T13:56:21.461Z"
   },
   {
    "duration": 2,
    "start_time": "2024-03-05T13:56:21.511Z"
   },
   {
    "duration": 20,
    "start_time": "2024-03-05T13:56:21.515Z"
   },
   {
    "duration": 27,
    "start_time": "2024-03-05T13:56:21.536Z"
   },
   {
    "duration": 15,
    "start_time": "2024-03-05T13:56:21.565Z"
   },
   {
    "duration": 22,
    "start_time": "2024-03-05T13:56:21.582Z"
   },
   {
    "duration": 31,
    "start_time": "2024-03-05T13:56:21.606Z"
   },
   {
    "duration": 23,
    "start_time": "2024-03-05T13:56:21.639Z"
   },
   {
    "duration": 328,
    "start_time": "2024-03-05T13:56:21.664Z"
   },
   {
    "duration": 105,
    "start_time": "2024-03-05T13:56:21.993Z"
   },
   {
    "duration": 0,
    "start_time": "2024-03-05T13:56:22.099Z"
   },
   {
    "duration": 0,
    "start_time": "2024-03-05T13:56:22.101Z"
   },
   {
    "duration": 0,
    "start_time": "2024-03-05T13:56:22.102Z"
   },
   {
    "duration": 0,
    "start_time": "2024-03-05T13:56:22.104Z"
   },
   {
    "duration": 0,
    "start_time": "2024-03-05T13:56:22.105Z"
   },
   {
    "duration": 0,
    "start_time": "2024-03-05T13:56:22.106Z"
   },
   {
    "duration": 0,
    "start_time": "2024-03-05T13:56:22.107Z"
   },
   {
    "duration": 0,
    "start_time": "2024-03-05T13:56:22.108Z"
   },
   {
    "duration": 0,
    "start_time": "2024-03-05T13:56:22.109Z"
   },
   {
    "duration": 0,
    "start_time": "2024-03-05T13:56:22.110Z"
   },
   {
    "duration": 0,
    "start_time": "2024-03-05T13:56:22.111Z"
   },
   {
    "duration": 0,
    "start_time": "2024-03-05T13:56:22.112Z"
   },
   {
    "duration": 0,
    "start_time": "2024-03-05T13:56:22.113Z"
   },
   {
    "duration": 0,
    "start_time": "2024-03-05T13:56:22.114Z"
   },
   {
    "duration": 0,
    "start_time": "2024-03-05T13:56:22.116Z"
   },
   {
    "duration": 0,
    "start_time": "2024-03-05T13:56:22.117Z"
   },
   {
    "duration": 3,
    "start_time": "2024-03-05T13:57:24.782Z"
   },
   {
    "duration": 1018,
    "start_time": "2024-03-05T13:57:29.031Z"
   },
   {
    "duration": 89,
    "start_time": "2024-03-05T13:57:30.051Z"
   },
   {
    "duration": 31,
    "start_time": "2024-03-05T13:57:30.141Z"
   },
   {
    "duration": 68,
    "start_time": "2024-03-05T13:57:30.174Z"
   },
   {
    "duration": 299,
    "start_time": "2024-03-05T13:57:30.244Z"
   },
   {
    "duration": 385,
    "start_time": "2024-03-05T13:57:30.546Z"
   },
   {
    "duration": 62,
    "start_time": "2024-03-05T13:57:30.933Z"
   },
   {
    "duration": 70,
    "start_time": "2024-03-05T13:57:30.997Z"
   },
   {
    "duration": 41,
    "start_time": "2024-03-05T13:57:31.069Z"
   },
   {
    "duration": 65,
    "start_time": "2024-03-05T13:57:31.113Z"
   },
   {
    "duration": 38,
    "start_time": "2024-03-05T13:57:31.179Z"
   },
   {
    "duration": 24,
    "start_time": "2024-03-05T13:57:31.219Z"
   },
   {
    "duration": 58,
    "start_time": "2024-03-05T13:57:31.245Z"
   },
   {
    "duration": 19,
    "start_time": "2024-03-05T13:57:31.304Z"
   },
   {
    "duration": 68,
    "start_time": "2024-03-05T13:57:31.325Z"
   },
   {
    "duration": 48,
    "start_time": "2024-03-05T13:57:31.395Z"
   },
   {
    "duration": 20,
    "start_time": "2024-03-05T13:57:31.444Z"
   },
   {
    "duration": 63,
    "start_time": "2024-03-05T13:57:31.466Z"
   },
   {
    "duration": 54,
    "start_time": "2024-03-05T13:57:31.530Z"
   },
   {
    "duration": 58,
    "start_time": "2024-03-05T13:57:31.585Z"
   },
   {
    "duration": 312,
    "start_time": "2024-03-05T13:57:31.644Z"
   },
   {
    "duration": 7,
    "start_time": "2024-03-05T13:57:31.958Z"
   },
   {
    "duration": 95,
    "start_time": "2024-03-05T13:57:31.967Z"
   },
   {
    "duration": 0,
    "start_time": "2024-03-05T13:57:32.065Z"
   },
   {
    "duration": 0,
    "start_time": "2024-03-05T13:57:32.067Z"
   },
   {
    "duration": 0,
    "start_time": "2024-03-05T13:57:32.068Z"
   },
   {
    "duration": 0,
    "start_time": "2024-03-05T13:57:32.069Z"
   },
   {
    "duration": 0,
    "start_time": "2024-03-05T13:57:32.071Z"
   },
   {
    "duration": 0,
    "start_time": "2024-03-05T13:57:32.072Z"
   },
   {
    "duration": 0,
    "start_time": "2024-03-05T13:57:32.074Z"
   },
   {
    "duration": 0,
    "start_time": "2024-03-05T13:57:32.075Z"
   },
   {
    "duration": 0,
    "start_time": "2024-03-05T13:57:32.077Z"
   },
   {
    "duration": 0,
    "start_time": "2024-03-05T13:57:32.079Z"
   },
   {
    "duration": 0,
    "start_time": "2024-03-05T13:57:32.080Z"
   },
   {
    "duration": 0,
    "start_time": "2024-03-05T13:57:32.081Z"
   },
   {
    "duration": 0,
    "start_time": "2024-03-05T13:57:32.083Z"
   },
   {
    "duration": 0,
    "start_time": "2024-03-05T13:57:32.085Z"
   },
   {
    "duration": 0,
    "start_time": "2024-03-05T13:57:32.086Z"
   },
   {
    "duration": 135,
    "start_time": "2024-03-05T13:58:12.254Z"
   },
   {
    "duration": 2,
    "start_time": "2024-03-05T13:58:13.860Z"
   },
   {
    "duration": 316,
    "start_time": "2024-03-05T13:58:14.586Z"
   },
   {
    "duration": 198,
    "start_time": "2024-03-05T13:58:17.294Z"
   },
   {
    "duration": 316,
    "start_time": "2024-03-05T13:58:20.444Z"
   },
   {
    "duration": 206,
    "start_time": "2024-03-05T13:58:21.121Z"
   },
   {
    "duration": 299,
    "start_time": "2024-03-05T13:58:26.398Z"
   },
   {
    "duration": 335,
    "start_time": "2024-03-05T13:58:27.082Z"
   },
   {
    "duration": 5,
    "start_time": "2024-03-05T13:58:27.419Z"
   },
   {
    "duration": 126,
    "start_time": "2024-03-05T13:58:28.145Z"
   },
   {
    "duration": 5,
    "start_time": "2024-03-05T13:58:28.809Z"
   },
   {
    "duration": 101,
    "start_time": "2024-03-05T13:58:29.016Z"
   },
   {
    "duration": 11,
    "start_time": "2024-03-05T13:58:29.204Z"
   },
   {
    "duration": 9,
    "start_time": "2024-03-05T13:58:29.377Z"
   },
   {
    "duration": 8,
    "start_time": "2024-03-05T13:58:29.570Z"
   },
   {
    "duration": 11,
    "start_time": "2024-03-05T13:58:29.746Z"
   },
   {
    "duration": 115,
    "start_time": "2024-03-05T14:02:46.871Z"
   },
   {
    "duration": 1635,
    "start_time": "2024-03-05T14:03:29.571Z"
   },
   {
    "duration": 1677,
    "start_time": "2024-03-05T14:05:08.029Z"
   },
   {
    "duration": 435,
    "start_time": "2024-03-05T14:15:27.548Z"
   },
   {
    "duration": 6,
    "start_time": "2024-03-05T14:17:12.802Z"
   },
   {
    "duration": 17,
    "start_time": "2024-03-05T14:17:23.563Z"
   },
   {
    "duration": 4,
    "start_time": "2024-03-05T14:17:31.927Z"
   },
   {
    "duration": 6,
    "start_time": "2024-03-05T14:17:39.735Z"
   },
   {
    "duration": 14,
    "start_time": "2024-03-05T14:17:48.321Z"
   },
   {
    "duration": 19,
    "start_time": "2024-03-05T14:18:05.008Z"
   },
   {
    "duration": 1816,
    "start_time": "2024-03-05T14:18:34.125Z"
   },
   {
    "duration": 64,
    "start_time": "2024-03-05T14:19:51.278Z"
   },
   {
    "duration": 427,
    "start_time": "2024-03-05T14:21:29.543Z"
   },
   {
    "duration": 457,
    "start_time": "2024-03-05T14:21:46.867Z"
   },
   {
    "duration": 71,
    "start_time": "2024-03-05T14:22:16.288Z"
   },
   {
    "duration": 71,
    "start_time": "2024-03-05T14:22:57.189Z"
   },
   {
    "duration": 14,
    "start_time": "2024-03-05T14:28:29.275Z"
   },
   {
    "duration": 4,
    "start_time": "2024-03-05T14:28:37.873Z"
   },
   {
    "duration": 5,
    "start_time": "2024-03-05T14:28:43.352Z"
   },
   {
    "duration": 29,
    "start_time": "2024-03-05T14:28:49.459Z"
   },
   {
    "duration": 30,
    "start_time": "2024-03-05T14:28:59.152Z"
   },
   {
    "duration": 5,
    "start_time": "2024-03-05T14:29:09.064Z"
   },
   {
    "duration": 16,
    "start_time": "2024-03-05T14:29:18.347Z"
   },
   {
    "duration": 16,
    "start_time": "2024-03-05T14:29:26.453Z"
   },
   {
    "duration": 1602,
    "start_time": "2024-03-05T14:29:34.503Z"
   },
   {
    "duration": 20,
    "start_time": "2024-03-05T14:32:08.202Z"
   },
   {
    "duration": 2097,
    "start_time": "2024-03-05T14:32:16.836Z"
   },
   {
    "duration": 1693,
    "start_time": "2024-03-05T14:33:20.692Z"
   },
   {
    "duration": 1598,
    "start_time": "2024-03-05T14:36:23.351Z"
   },
   {
    "duration": 303,
    "start_time": "2024-03-05T14:40:49.303Z"
   },
   {
    "duration": 232,
    "start_time": "2024-03-05T14:41:35.976Z"
   },
   {
    "duration": 221,
    "start_time": "2024-03-05T14:42:04.823Z"
   },
   {
    "duration": 485,
    "start_time": "2024-03-05T14:42:26.974Z"
   },
   {
    "duration": 337,
    "start_time": "2024-03-05T14:42:29.754Z"
   },
   {
    "duration": 259,
    "start_time": "2024-03-05T14:42:54.460Z"
   },
   {
    "duration": 371,
    "start_time": "2024-03-05T14:43:10.355Z"
   },
   {
    "duration": 163,
    "start_time": "2024-03-05T14:43:49.855Z"
   },
   {
    "duration": 5,
    "start_time": "2024-03-05T14:44:03.233Z"
   },
   {
    "duration": 4,
    "start_time": "2024-03-05T14:44:13.648Z"
   },
   {
    "duration": 7,
    "start_time": "2024-03-05T14:56:57.769Z"
   },
   {
    "duration": 286,
    "start_time": "2024-03-05T14:57:05.988Z"
   },
   {
    "duration": 8,
    "start_time": "2024-03-05T14:57:17.217Z"
   },
   {
    "duration": 8,
    "start_time": "2024-03-05T14:57:24.791Z"
   },
   {
    "duration": 232,
    "start_time": "2024-03-05T14:57:32.974Z"
   },
   {
    "duration": 239,
    "start_time": "2024-03-05T14:58:50.961Z"
   },
   {
    "duration": 70,
    "start_time": "2024-03-05T14:59:21.951Z"
   },
   {
    "duration": 6,
    "start_time": "2024-03-05T14:59:22.898Z"
   },
   {
    "duration": 299,
    "start_time": "2024-03-05T14:59:23.656Z"
   },
   {
    "duration": 6,
    "start_time": "2024-03-05T14:59:24.215Z"
   },
   {
    "duration": 7,
    "start_time": "2024-03-05T14:59:24.741Z"
   },
   {
    "duration": 233,
    "start_time": "2024-03-05T14:59:25.541Z"
   },
   {
    "duration": 235,
    "start_time": "2024-03-05T14:59:50.445Z"
   },
   {
    "duration": 7,
    "start_time": "2024-03-05T15:00:45.777Z"
   },
   {
    "duration": 541,
    "start_time": "2024-03-05T15:01:30.974Z"
   },
   {
    "duration": 249,
    "start_time": "2024-03-05T15:02:03.274Z"
   },
   {
    "duration": 472,
    "start_time": "2024-03-05T15:02:36.266Z"
   },
   {
    "duration": 311,
    "start_time": "2024-03-05T15:02:51.898Z"
   },
   {
    "duration": 26,
    "start_time": "2024-03-05T15:05:05.901Z"
   },
   {
    "duration": 61,
    "start_time": "2024-03-05T15:05:56.598Z"
   },
   {
    "duration": 4,
    "start_time": "2024-03-05T15:07:15.669Z"
   },
   {
    "duration": 75,
    "start_time": "2024-03-05T15:07:27.694Z"
   },
   {
    "duration": 7,
    "start_time": "2024-03-05T15:07:50.107Z"
   },
   {
    "duration": 8,
    "start_time": "2024-03-05T15:18:48.703Z"
   },
   {
    "duration": 8,
    "start_time": "2024-03-05T15:19:09.859Z"
   },
   {
    "duration": 7,
    "start_time": "2024-03-05T15:19:17.753Z"
   },
   {
    "duration": 9,
    "start_time": "2024-03-05T15:19:35.258Z"
   },
   {
    "duration": 5,
    "start_time": "2024-03-05T15:20:13.402Z"
   },
   {
    "duration": 8,
    "start_time": "2024-03-05T15:20:23.593Z"
   },
   {
    "duration": 11,
    "start_time": "2024-03-05T15:20:36.894Z"
   },
   {
    "duration": 25,
    "start_time": "2024-03-05T15:21:11.966Z"
   },
   {
    "duration": 36,
    "start_time": "2024-03-05T15:21:12.380Z"
   },
   {
    "duration": 5,
    "start_time": "2024-03-05T15:21:12.935Z"
   },
   {
    "duration": 12,
    "start_time": "2024-03-05T15:21:13.458Z"
   },
   {
    "duration": 321,
    "start_time": "2024-03-05T15:22:28.579Z"
   },
   {
    "duration": 5,
    "start_time": "2024-03-05T15:22:50.319Z"
   },
   {
    "duration": 260,
    "start_time": "2024-03-05T15:22:54.761Z"
   },
   {
    "duration": 62,
    "start_time": "2024-03-05T15:22:55.023Z"
   },
   {
    "duration": 0,
    "start_time": "2024-03-05T15:22:55.086Z"
   },
   {
    "duration": 0,
    "start_time": "2024-03-05T15:22:55.087Z"
   },
   {
    "duration": 0,
    "start_time": "2024-03-05T15:22:55.089Z"
   },
   {
    "duration": 0,
    "start_time": "2024-03-05T15:22:55.090Z"
   },
   {
    "duration": 0,
    "start_time": "2024-03-05T15:22:55.091Z"
   },
   {
    "duration": 0,
    "start_time": "2024-03-05T15:22:55.092Z"
   },
   {
    "duration": 0,
    "start_time": "2024-03-05T15:22:55.093Z"
   },
   {
    "duration": 255,
    "start_time": "2024-03-05T15:23:18.347Z"
   },
   {
    "duration": 62,
    "start_time": "2024-03-05T15:23:18.604Z"
   },
   {
    "duration": 0,
    "start_time": "2024-03-05T15:23:18.668Z"
   },
   {
    "duration": 0,
    "start_time": "2024-03-05T15:23:18.669Z"
   },
   {
    "duration": 0,
    "start_time": "2024-03-05T15:23:18.670Z"
   },
   {
    "duration": 0,
    "start_time": "2024-03-05T15:23:18.671Z"
   },
   {
    "duration": 0,
    "start_time": "2024-03-05T15:23:18.672Z"
   },
   {
    "duration": 181,
    "start_time": "2024-03-05T15:23:50.078Z"
   },
   {
    "duration": 372,
    "start_time": "2024-03-05T15:23:54.135Z"
   },
   {
    "duration": 30,
    "start_time": "2024-03-05T15:23:54.509Z"
   },
   {
    "duration": 36,
    "start_time": "2024-03-05T15:23:54.541Z"
   },
   {
    "duration": 499,
    "start_time": "2024-03-05T15:23:54.579Z"
   },
   {
    "duration": 0,
    "start_time": "2024-03-05T15:23:55.080Z"
   },
   {
    "duration": 0,
    "start_time": "2024-03-05T15:23:55.081Z"
   },
   {
    "duration": 0,
    "start_time": "2024-03-05T15:23:55.082Z"
   },
   {
    "duration": 443,
    "start_time": "2024-03-05T15:24:41.751Z"
   },
   {
    "duration": 27,
    "start_time": "2024-03-05T15:24:42.196Z"
   },
   {
    "duration": 37,
    "start_time": "2024-03-05T15:24:42.224Z"
   },
   {
    "duration": 447,
    "start_time": "2024-03-05T15:24:42.263Z"
   },
   {
    "duration": 0,
    "start_time": "2024-03-05T15:24:42.711Z"
   },
   {
    "duration": 0,
    "start_time": "2024-03-05T15:24:42.712Z"
   },
   {
    "duration": 0,
    "start_time": "2024-03-05T15:24:42.714Z"
   },
   {
    "duration": 3,
    "start_time": "2024-03-05T15:25:09.059Z"
   },
   {
    "duration": 27,
    "start_time": "2024-03-05T15:25:10.907Z"
   },
   {
    "duration": 37,
    "start_time": "2024-03-05T15:25:11.042Z"
   },
   {
    "duration": 404,
    "start_time": "2024-03-05T15:25:11.220Z"
   },
   {
    "duration": 0,
    "start_time": "2024-03-05T15:25:11.626Z"
   },
   {
    "duration": 3,
    "start_time": "2024-03-05T15:26:02.233Z"
   },
   {
    "duration": 26,
    "start_time": "2024-03-05T15:26:05.215Z"
   },
   {
    "duration": 48,
    "start_time": "2024-03-05T15:26:06.710Z"
   },
   {
    "duration": 877,
    "start_time": "2024-03-05T15:26:27.030Z"
   },
   {
    "duration": 8,
    "start_time": "2024-03-05T15:26:52.244Z"
   },
   {
    "duration": 316,
    "start_time": "2024-03-05T15:27:05.977Z"
   },
   {
    "duration": 12,
    "start_time": "2024-03-05T15:27:06.536Z"
   },
   {
    "duration": 280,
    "start_time": "2024-03-05T15:27:54.743Z"
   },
   {
    "duration": 674,
    "start_time": "2024-03-05T15:27:59.506Z"
   },
   {
    "duration": 27,
    "start_time": "2024-03-05T15:28:00.182Z"
   },
   {
    "duration": 196,
    "start_time": "2024-03-05T15:28:00.211Z"
   },
   {
    "duration": 58,
    "start_time": "2024-03-05T15:28:00.409Z"
   },
   {
    "duration": 381,
    "start_time": "2024-03-05T15:28:00.469Z"
   },
   {
    "duration": 462,
    "start_time": "2024-03-05T15:28:00.852Z"
   },
   {
    "duration": 362,
    "start_time": "2024-03-05T15:29:01.785Z"
   },
   {
    "duration": 450,
    "start_time": "2024-03-05T15:29:18.651Z"
   },
   {
    "duration": 549,
    "start_time": "2024-03-05T15:29:31.740Z"
   },
   {
    "duration": 7,
    "start_time": "2024-03-05T15:39:25.905Z"
   },
   {
    "duration": 6,
    "start_time": "2024-03-05T15:39:26.565Z"
   },
   {
    "duration": 12,
    "start_time": "2024-03-05T15:39:27.288Z"
   },
   {
    "duration": 4,
    "start_time": "2024-03-05T15:39:27.909Z"
   },
   {
    "duration": 248,
    "start_time": "2024-03-05T15:39:28.465Z"
   },
   {
    "duration": 62,
    "start_time": "2024-03-05T15:40:32.737Z"
   },
   {
    "duration": 5,
    "start_time": "2024-03-05T15:41:08.390Z"
   },
   {
    "duration": 9,
    "start_time": "2024-03-05T15:41:09.058Z"
   },
   {
    "duration": 5,
    "start_time": "2024-03-05T15:41:09.834Z"
   },
   {
    "duration": 346,
    "start_time": "2024-03-05T15:41:10.745Z"
   },
   {
    "duration": 62,
    "start_time": "2024-03-05T15:41:14.399Z"
   },
   {
    "duration": 6,
    "start_time": "2024-03-05T15:41:15.027Z"
   },
   {
    "duration": 7,
    "start_time": "2024-03-05T15:41:15.822Z"
   },
   {
    "duration": 10,
    "start_time": "2024-03-05T15:41:16.007Z"
   },
   {
    "duration": 6,
    "start_time": "2024-03-05T15:41:16.180Z"
   },
   {
    "duration": 247,
    "start_time": "2024-03-05T15:41:16.344Z"
   },
   {
    "duration": 673,
    "start_time": "2024-03-05T15:41:20.582Z"
   },
   {
    "duration": 61,
    "start_time": "2024-03-05T15:41:21.257Z"
   },
   {
    "duration": 6,
    "start_time": "2024-03-05T15:41:21.319Z"
   },
   {
    "duration": 25,
    "start_time": "2024-03-05T15:41:21.327Z"
   },
   {
    "duration": 10,
    "start_time": "2024-03-05T15:41:21.353Z"
   },
   {
    "duration": 8,
    "start_time": "2024-03-05T15:41:21.364Z"
   },
   {
    "duration": 344,
    "start_time": "2024-03-05T15:41:21.373Z"
   },
   {
    "duration": 251,
    "start_time": "2024-03-05T15:41:46.870Z"
   },
   {
    "duration": 9,
    "start_time": "2024-03-05T15:42:08.499Z"
   },
   {
    "duration": 6,
    "start_time": "2024-03-05T15:42:08.935Z"
   },
   {
    "duration": 244,
    "start_time": "2024-03-05T15:42:10.097Z"
   },
   {
    "duration": 71,
    "start_time": "2024-03-05T15:42:40.350Z"
   },
   {
    "duration": 8,
    "start_time": "2024-03-05T15:42:52.500Z"
   },
   {
    "duration": 4,
    "start_time": "2024-03-05T15:42:53.036Z"
   },
   {
    "duration": 316,
    "start_time": "2024-03-05T15:42:58.734Z"
   },
   {
    "duration": 15,
    "start_time": "2024-03-05T15:44:00.007Z"
   },
   {
    "duration": 8,
    "start_time": "2024-03-05T15:44:00.491Z"
   },
   {
    "duration": 5,
    "start_time": "2024-03-05T15:44:01.029Z"
   },
   {
    "duration": 356,
    "start_time": "2024-03-05T15:44:01.633Z"
   },
   {
    "duration": 8,
    "start_time": "2024-03-05T15:44:39.460Z"
   },
   {
    "duration": 5,
    "start_time": "2024-03-05T15:44:39.862Z"
   },
   {
    "duration": 330,
    "start_time": "2024-03-05T15:44:40.604Z"
   },
   {
    "duration": 138,
    "start_time": "2024-03-05T15:45:47.425Z"
   },
   {
    "duration": 148,
    "start_time": "2024-03-05T15:45:47.954Z"
   },
   {
    "duration": 9,
    "start_time": "2024-03-05T15:45:48.570Z"
   },
   {
    "duration": 5,
    "start_time": "2024-03-05T15:46:16.570Z"
   },
   {
    "duration": 154,
    "start_time": "2024-03-05T15:47:19.236Z"
   },
   {
    "duration": 8,
    "start_time": "2024-03-05T15:47:27.468Z"
   },
   {
    "duration": 7,
    "start_time": "2024-03-05T15:49:09.080Z"
   },
   {
    "duration": 391,
    "start_time": "2024-03-05T15:53:26.211Z"
   },
   {
    "duration": 1221,
    "start_time": "2024-03-05T15:53:29.947Z"
   },
   {
    "duration": 61,
    "start_time": "2024-03-05T15:53:31.171Z"
   },
   {
    "duration": 182,
    "start_time": "2024-03-05T15:53:31.234Z"
   },
   {
    "duration": 427,
    "start_time": "2024-03-05T15:53:31.418Z"
   },
   {
    "duration": 175,
    "start_time": "2024-03-05T15:53:31.846Z"
   },
   {
    "duration": 72,
    "start_time": "2024-03-05T15:53:32.023Z"
   },
   {
    "duration": 357,
    "start_time": "2024-03-05T15:53:32.097Z"
   },
   {
    "duration": 10,
    "start_time": "2024-03-05T15:53:32.455Z"
   },
   {
    "duration": 16,
    "start_time": "2024-03-05T15:53:32.467Z"
   },
   {
    "duration": 297,
    "start_time": "2024-03-05T15:53:32.486Z"
   },
   {
    "duration": 8,
    "start_time": "2024-03-05T15:53:32.784Z"
   },
   {
    "duration": 25,
    "start_time": "2024-03-05T15:53:32.794Z"
   },
   {
    "duration": 362,
    "start_time": "2024-03-05T15:53:32.821Z"
   },
   {
    "duration": 14,
    "start_time": "2024-03-05T15:53:33.185Z"
   },
   {
    "duration": 114,
    "start_time": "2024-03-05T15:53:33.201Z"
   },
   {
    "duration": 22,
    "start_time": "2024-03-05T15:53:33.316Z"
   },
   {
    "duration": 293,
    "start_time": "2024-03-05T15:53:33.340Z"
   },
   {
    "duration": 8,
    "start_time": "2024-03-05T15:53:33.635Z"
   },
   {
    "duration": 11,
    "start_time": "2024-03-05T15:53:33.645Z"
   },
   {
    "duration": 394,
    "start_time": "2024-03-05T15:53:33.657Z"
   },
   {
    "duration": 145,
    "start_time": "2024-03-05T15:53:34.053Z"
   },
   {
    "duration": 149,
    "start_time": "2024-03-05T15:53:34.200Z"
   },
   {
    "duration": 8,
    "start_time": "2024-03-05T15:53:34.350Z"
   },
   {
    "duration": 19,
    "start_time": "2024-03-05T15:53:34.359Z"
   },
   {
    "duration": 161,
    "start_time": "2024-03-05T15:53:34.379Z"
   },
   {
    "duration": 20,
    "start_time": "2024-03-05T15:53:34.541Z"
   },
   {
    "duration": 6,
    "start_time": "2024-03-05T15:53:34.565Z"
   },
   {
    "duration": 108,
    "start_time": "2024-03-05T15:54:00.233Z"
   },
   {
    "duration": 129,
    "start_time": "2024-03-05T15:54:07.419Z"
   },
   {
    "duration": 8,
    "start_time": "2024-03-05T15:54:08.263Z"
   },
   {
    "duration": 10,
    "start_time": "2024-03-05T15:54:27.271Z"
   },
   {
    "duration": 26,
    "start_time": "2024-03-05T15:54:28.069Z"
   },
   {
    "duration": 4,
    "start_time": "2024-03-05T15:54:28.764Z"
   },
   {
    "duration": 10,
    "start_time": "2024-03-05T15:56:28.870Z"
   },
   {
    "duration": 42,
    "start_time": "2024-03-05T15:57:49.054Z"
   },
   {
    "duration": 41,
    "start_time": "2024-03-05T16:03:06.085Z"
   },
   {
    "duration": 8,
    "start_time": "2024-03-05T16:03:33.175Z"
   },
   {
    "duration": 71,
    "start_time": "2024-03-05T17:24:43.742Z"
   },
   {
    "duration": 81,
    "start_time": "2024-03-05T17:24:44.758Z"
   },
   {
    "duration": 7,
    "start_time": "2024-03-05T17:24:45.327Z"
   },
   {
    "duration": 24,
    "start_time": "2024-03-05T17:24:48.101Z"
   },
   {
    "duration": 4,
    "start_time": "2024-03-05T17:24:49.169Z"
   },
   {
    "duration": 4,
    "start_time": "2024-03-05T17:24:50.127Z"
   },
   {
    "duration": 13,
    "start_time": "2024-03-05T17:28:37.098Z"
   },
   {
    "duration": 16,
    "start_time": "2024-03-05T17:40:41.619Z"
   },
   {
    "duration": 16,
    "start_time": "2024-03-05T17:42:03.439Z"
   },
   {
    "duration": 42,
    "start_time": "2024-03-05T17:42:37.174Z"
   },
   {
    "duration": 40,
    "start_time": "2024-03-05T17:48:37.611Z"
   },
   {
    "duration": 7,
    "start_time": "2024-03-05T17:54:32.587Z"
   },
   {
    "duration": 4,
    "start_time": "2024-03-05T17:54:33.074Z"
   },
   {
    "duration": 5,
    "start_time": "2024-03-05T17:54:33.606Z"
   },
   {
    "duration": 9,
    "start_time": "2024-03-05T17:54:34.165Z"
   },
   {
    "duration": 11,
    "start_time": "2024-03-05T17:54:35.319Z"
   },
   {
    "duration": 36,
    "start_time": "2024-03-05T17:54:36.106Z"
   },
   {
    "duration": 4,
    "start_time": "2024-03-05T17:54:36.901Z"
   },
   {
    "duration": 1101,
    "start_time": "2024-03-05T18:22:56.644Z"
   },
   {
    "duration": 60,
    "start_time": "2024-03-05T18:22:57.747Z"
   },
   {
    "duration": 7,
    "start_time": "2024-03-05T18:22:57.808Z"
   },
   {
    "duration": 5,
    "start_time": "2024-03-05T18:22:57.817Z"
   },
   {
    "duration": 10,
    "start_time": "2024-03-05T18:22:57.824Z"
   },
   {
    "duration": 5,
    "start_time": "2024-03-05T18:22:57.835Z"
   },
   {
    "duration": 306,
    "start_time": "2024-03-05T18:22:57.842Z"
   },
   {
    "duration": 11,
    "start_time": "2024-03-05T18:22:58.150Z"
   },
   {
    "duration": 20,
    "start_time": "2024-03-05T18:22:58.162Z"
   },
   {
    "duration": 238,
    "start_time": "2024-03-05T18:22:58.185Z"
   },
   {
    "duration": 8,
    "start_time": "2024-03-05T18:22:58.425Z"
   },
   {
    "duration": 16,
    "start_time": "2024-03-05T18:22:58.435Z"
   },
   {
    "duration": 387,
    "start_time": "2024-03-05T18:22:58.452Z"
   },
   {
    "duration": 14,
    "start_time": "2024-03-05T18:22:58.841Z"
   },
   {
    "duration": 23,
    "start_time": "2024-03-05T18:22:58.857Z"
   },
   {
    "duration": 10,
    "start_time": "2024-03-05T18:22:58.882Z"
   },
   {
    "duration": 284,
    "start_time": "2024-03-05T18:22:58.893Z"
   },
   {
    "duration": 9,
    "start_time": "2024-03-05T18:22:59.179Z"
   },
   {
    "duration": 5,
    "start_time": "2024-03-05T18:22:59.190Z"
   },
   {
    "duration": 336,
    "start_time": "2024-03-05T18:22:59.196Z"
   },
   {
    "duration": 128,
    "start_time": "2024-03-05T18:22:59.534Z"
   },
   {
    "duration": 145,
    "start_time": "2024-03-05T18:22:59.663Z"
   },
   {
    "duration": 8,
    "start_time": "2024-03-05T18:22:59.809Z"
   },
   {
    "duration": 9,
    "start_time": "2024-03-05T18:22:59.818Z"
   },
   {
    "duration": 157,
    "start_time": "2024-03-05T18:22:59.828Z"
   },
   {
    "duration": 7,
    "start_time": "2024-03-05T18:22:59.987Z"
   },
   {
    "duration": 6,
    "start_time": "2024-03-05T18:22:59.996Z"
   },
   {
    "duration": 90,
    "start_time": "2024-03-05T18:23:00.005Z"
   },
   {
    "duration": 89,
    "start_time": "2024-03-05T18:23:00.097Z"
   },
   {
    "duration": 8,
    "start_time": "2024-03-05T18:23:00.188Z"
   },
   {
    "duration": 39,
    "start_time": "2024-03-05T18:23:00.198Z"
   },
   {
    "duration": 34,
    "start_time": "2024-03-05T18:23:00.239Z"
   },
   {
    "duration": 32,
    "start_time": "2024-03-05T18:23:00.275Z"
   },
   {
    "duration": 43,
    "start_time": "2024-03-05T18:23:00.309Z"
   },
   {
    "duration": 133,
    "start_time": "2024-03-05T18:23:00.355Z"
   },
   {
    "duration": 107,
    "start_time": "2024-03-05T18:23:00.490Z"
   },
   {
    "duration": 39,
    "start_time": "2024-03-05T18:23:00.598Z"
   },
   {
    "duration": 188,
    "start_time": "2024-03-05T18:23:00.639Z"
   },
   {
    "duration": 152,
    "start_time": "2024-03-05T18:23:00.828Z"
   },
   {
    "duration": 79,
    "start_time": "2024-03-05T18:23:00.982Z"
   },
   {
    "duration": 62,
    "start_time": "2024-03-05T18:23:01.063Z"
   },
   {
    "duration": 118,
    "start_time": "2024-03-05T18:23:01.126Z"
   },
   {
    "duration": 41,
    "start_time": "2024-03-05T18:24:02.133Z"
   },
   {
    "duration": 50,
    "start_time": "2024-03-05T18:28:02.074Z"
   },
   {
    "duration": 39,
    "start_time": "2024-03-05T18:28:12.505Z"
   },
   {
    "duration": 39,
    "start_time": "2024-03-05T18:28:17.691Z"
   },
   {
    "duration": 39,
    "start_time": "2024-03-05T18:29:29.926Z"
   },
   {
    "duration": 46,
    "start_time": "2024-03-05T18:32:41.171Z"
   },
   {
    "duration": 50,
    "start_time": "2024-03-05T18:34:22.046Z"
   },
   {
    "duration": 9,
    "start_time": "2024-03-05T18:34:44.026Z"
   },
   {
    "duration": 39,
    "start_time": "2024-03-05T19:09:19.091Z"
   },
   {
    "duration": 4,
    "start_time": "2024-03-05T19:10:48.895Z"
   },
   {
    "duration": 57,
    "start_time": "2024-03-05T19:12:48.188Z"
   },
   {
    "duration": 96,
    "start_time": "2024-03-05T19:12:48.730Z"
   },
   {
    "duration": 7,
    "start_time": "2024-03-05T19:12:48.972Z"
   },
   {
    "duration": 24,
    "start_time": "2024-03-05T19:12:49.181Z"
   },
   {
    "duration": 3,
    "start_time": "2024-03-05T19:12:49.759Z"
   },
   {
    "duration": 4,
    "start_time": "2024-03-05T19:12:51.440Z"
   },
   {
    "duration": 5,
    "start_time": "2024-03-05T19:13:27.161Z"
   },
   {
    "duration": 4,
    "start_time": "2024-03-05T19:13:27.532Z"
   },
   {
    "duration": 6,
    "start_time": "2024-03-05T19:13:27.930Z"
   },
   {
    "duration": 3,
    "start_time": "2024-03-05T19:13:28.504Z"
   },
   {
    "duration": 3,
    "start_time": "2024-03-05T19:13:29.345Z"
   },
   {
    "duration": 3,
    "start_time": "2024-03-05T19:13:30.017Z"
   },
   {
    "duration": 3,
    "start_time": "2024-03-05T19:13:33.280Z"
   },
   {
    "duration": 4,
    "start_time": "2024-03-05T19:14:26.917Z"
   },
   {
    "duration": 5,
    "start_time": "2024-03-05T19:14:27.302Z"
   },
   {
    "duration": 5,
    "start_time": "2024-03-05T19:14:27.569Z"
   },
   {
    "duration": 3,
    "start_time": "2024-03-05T19:14:28.009Z"
   },
   {
    "duration": 2,
    "start_time": "2024-03-05T19:14:28.409Z"
   },
   {
    "duration": 3,
    "start_time": "2024-03-05T19:14:34.899Z"
   },
   {
    "duration": 4,
    "start_time": "2024-03-05T19:14:35.515Z"
   },
   {
    "duration": 38,
    "start_time": "2024-03-05T19:16:20.428Z"
   },
   {
    "duration": 37,
    "start_time": "2024-03-05T19:16:42.450Z"
   },
   {
    "duration": 36,
    "start_time": "2024-03-05T19:19:17.647Z"
   },
   {
    "duration": 37,
    "start_time": "2024-03-05T19:19:44.406Z"
   },
   {
    "duration": 43,
    "start_time": "2024-03-05T19:19:57.683Z"
   },
   {
    "duration": 37,
    "start_time": "2024-03-05T19:20:04.933Z"
   },
   {
    "duration": 47,
    "start_time": "2024-03-05T19:21:12.308Z"
   },
   {
    "duration": 9,
    "start_time": "2024-03-05T19:22:55.279Z"
   },
   {
    "duration": 39,
    "start_time": "2024-03-05T19:23:44.584Z"
   },
   {
    "duration": 38,
    "start_time": "2024-03-05T19:24:08.879Z"
   },
   {
    "duration": 7,
    "start_time": "2024-03-05T19:24:09.828Z"
   },
   {
    "duration": 9,
    "start_time": "2024-03-05T19:24:20.301Z"
   },
   {
    "duration": 38,
    "start_time": "2024-03-05T19:25:01.506Z"
   },
   {
    "duration": 8,
    "start_time": "2024-03-05T19:25:03.916Z"
   },
   {
    "duration": 13,
    "start_time": "2024-03-05T19:46:33.983Z"
   },
   {
    "duration": 35,
    "start_time": "2024-03-05T19:47:20.899Z"
   },
   {
    "duration": 11,
    "start_time": "2024-03-05T19:47:29.097Z"
   },
   {
    "duration": 30,
    "start_time": "2024-03-05T19:47:42.552Z"
   },
   {
    "duration": 15,
    "start_time": "2024-03-05T19:47:49.936Z"
   },
   {
    "duration": 16,
    "start_time": "2024-03-05T19:47:56.066Z"
   },
   {
    "duration": 12,
    "start_time": "2024-03-05T19:49:00.578Z"
   },
   {
    "duration": 1111,
    "start_time": "2024-03-05T20:11:35.228Z"
   },
   {
    "duration": 36,
    "start_time": "2024-03-05T20:11:36.341Z"
   },
   {
    "duration": 12,
    "start_time": "2024-03-05T20:11:36.378Z"
   },
   {
    "duration": 12,
    "start_time": "2024-03-05T20:11:36.392Z"
   },
   {
    "duration": 56,
    "start_time": "2024-03-05T20:11:36.406Z"
   },
   {
    "duration": 6,
    "start_time": "2024-03-05T20:11:36.463Z"
   },
   {
    "duration": 6,
    "start_time": "2024-03-05T20:11:36.472Z"
   },
   {
    "duration": 12,
    "start_time": "2024-03-05T20:11:36.479Z"
   },
   {
    "duration": 5,
    "start_time": "2024-03-05T20:11:36.493Z"
   },
   {
    "duration": 328,
    "start_time": "2024-03-05T20:11:36.501Z"
   },
   {
    "duration": 10,
    "start_time": "2024-03-05T20:11:36.830Z"
   },
   {
    "duration": 10,
    "start_time": "2024-03-05T20:11:36.841Z"
   },
   {
    "duration": 247,
    "start_time": "2024-03-05T20:11:36.852Z"
   },
   {
    "duration": 7,
    "start_time": "2024-03-05T20:11:37.101Z"
   },
   {
    "duration": 5,
    "start_time": "2024-03-05T20:11:37.110Z"
   },
   {
    "duration": 366,
    "start_time": "2024-03-05T20:11:37.117Z"
   },
   {
    "duration": 12,
    "start_time": "2024-03-05T20:11:37.485Z"
   },
   {
    "duration": 11,
    "start_time": "2024-03-05T20:11:37.499Z"
   },
   {
    "duration": 47,
    "start_time": "2024-03-05T20:11:37.512Z"
   },
   {
    "duration": 277,
    "start_time": "2024-03-05T20:11:37.560Z"
   },
   {
    "duration": 7,
    "start_time": "2024-03-05T20:11:37.839Z"
   },
   {
    "duration": 7,
    "start_time": "2024-03-05T20:11:37.848Z"
   },
   {
    "duration": 385,
    "start_time": "2024-03-05T20:11:37.857Z"
   },
   {
    "duration": 130,
    "start_time": "2024-03-05T20:11:38.243Z"
   },
   {
    "duration": 177,
    "start_time": "2024-03-05T20:11:38.374Z"
   },
   {
    "duration": 8,
    "start_time": "2024-03-05T20:11:38.553Z"
   },
   {
    "duration": 39,
    "start_time": "2024-03-05T20:11:38.563Z"
   },
   {
    "duration": 175,
    "start_time": "2024-03-05T20:11:38.605Z"
   },
   {
    "duration": 8,
    "start_time": "2024-03-05T20:11:38.782Z"
   },
   {
    "duration": 37,
    "start_time": "2024-03-05T20:11:38.792Z"
   },
   {
    "duration": 69,
    "start_time": "2024-03-05T20:11:38.831Z"
   },
   {
    "duration": 85,
    "start_time": "2024-03-05T20:11:38.902Z"
   },
   {
    "duration": 8,
    "start_time": "2024-03-05T20:11:38.989Z"
   },
   {
    "duration": 24,
    "start_time": "2024-03-05T20:11:38.999Z"
   },
   {
    "duration": 4,
    "start_time": "2024-03-05T20:11:39.025Z"
   },
   {
    "duration": 31,
    "start_time": "2024-03-05T20:11:39.031Z"
   },
   {
    "duration": 6,
    "start_time": "2024-03-05T20:11:39.064Z"
   },
   {
    "duration": 12,
    "start_time": "2024-03-05T20:11:39.071Z"
   },
   {
    "duration": 13,
    "start_time": "2024-03-05T20:11:39.085Z"
   },
   {
    "duration": 10,
    "start_time": "2024-03-05T20:11:39.100Z"
   },
   {
    "duration": 10,
    "start_time": "2024-03-05T20:11:39.111Z"
   },
   {
    "duration": 39,
    "start_time": "2024-03-05T20:11:39.123Z"
   },
   {
    "duration": 22,
    "start_time": "2024-03-05T20:11:39.164Z"
   },
   {
    "duration": 1183,
    "start_time": "2024-03-05T20:19:13.549Z"
   },
   {
    "duration": 35,
    "start_time": "2024-03-05T20:19:14.734Z"
   },
   {
    "duration": 11,
    "start_time": "2024-03-05T20:19:14.771Z"
   },
   {
    "duration": 10,
    "start_time": "2024-03-05T20:19:14.784Z"
   },
   {
    "duration": 55,
    "start_time": "2024-03-05T20:19:14.795Z"
   },
   {
    "duration": 6,
    "start_time": "2024-03-05T20:19:14.851Z"
   },
   {
    "duration": 30,
    "start_time": "2024-03-05T20:19:14.858Z"
   },
   {
    "duration": 10,
    "start_time": "2024-03-05T20:19:14.890Z"
   },
   {
    "duration": 4,
    "start_time": "2024-03-05T20:19:14.901Z"
   },
   {
    "duration": 311,
    "start_time": "2024-03-05T20:19:14.908Z"
   },
   {
    "duration": 8,
    "start_time": "2024-03-05T20:19:15.221Z"
   },
   {
    "duration": 38,
    "start_time": "2024-03-05T20:19:15.230Z"
   },
   {
    "duration": 283,
    "start_time": "2024-03-05T20:19:15.270Z"
   },
   {
    "duration": 9,
    "start_time": "2024-03-05T20:19:15.554Z"
   },
   {
    "duration": 37,
    "start_time": "2024-03-05T20:19:15.564Z"
   },
   {
    "duration": 380,
    "start_time": "2024-03-05T20:19:15.602Z"
   },
   {
    "duration": 13,
    "start_time": "2024-03-05T20:19:15.984Z"
   },
   {
    "duration": 19,
    "start_time": "2024-03-05T20:19:15.998Z"
   },
   {
    "duration": 18,
    "start_time": "2024-03-05T20:19:16.019Z"
   },
   {
    "duration": 263,
    "start_time": "2024-03-05T20:19:16.038Z"
   },
   {
    "duration": 8,
    "start_time": "2024-03-05T20:19:16.302Z"
   },
   {
    "duration": 18,
    "start_time": "2024-03-05T20:19:16.311Z"
   },
   {
    "duration": 309,
    "start_time": "2024-03-05T20:19:16.330Z"
   },
   {
    "duration": 122,
    "start_time": "2024-03-05T20:19:16.640Z"
   },
   {
    "duration": 146,
    "start_time": "2024-03-05T20:19:16.764Z"
   },
   {
    "duration": 7,
    "start_time": "2024-03-05T20:19:16.911Z"
   },
   {
    "duration": 10,
    "start_time": "2024-03-05T20:19:16.920Z"
   },
   {
    "duration": 160,
    "start_time": "2024-03-05T20:19:16.933Z"
   },
   {
    "duration": 8,
    "start_time": "2024-03-05T20:19:17.095Z"
   },
   {
    "duration": 13,
    "start_time": "2024-03-05T20:19:17.104Z"
   },
   {
    "duration": 76,
    "start_time": "2024-03-05T20:19:17.119Z"
   },
   {
    "duration": 95,
    "start_time": "2024-03-05T20:19:17.197Z"
   },
   {
    "duration": 10,
    "start_time": "2024-03-05T20:19:17.294Z"
   },
   {
    "duration": 28,
    "start_time": "2024-03-05T20:19:17.306Z"
   },
   {
    "duration": 3,
    "start_time": "2024-03-05T20:19:17.336Z"
   },
   {
    "duration": 29,
    "start_time": "2024-03-05T20:19:17.340Z"
   },
   {
    "duration": 26,
    "start_time": "2024-03-05T20:19:17.371Z"
   },
   {
    "duration": 10,
    "start_time": "2024-03-05T20:19:17.398Z"
   },
   {
    "duration": 14,
    "start_time": "2024-03-05T20:19:17.410Z"
   },
   {
    "duration": 6,
    "start_time": "2024-03-05T20:19:17.425Z"
   },
   {
    "duration": 13,
    "start_time": "2024-03-05T20:19:17.432Z"
   },
   {
    "duration": 60,
    "start_time": "2024-03-05T20:19:17.447Z"
   },
   {
    "duration": 10,
    "start_time": "2024-03-05T20:19:17.509Z"
   },
   {
    "duration": 39,
    "start_time": "2024-03-05T20:19:29.787Z"
   },
   {
    "duration": 1099,
    "start_time": "2024-03-05T20:19:43.376Z"
   },
   {
    "duration": 35,
    "start_time": "2024-03-05T20:19:44.477Z"
   },
   {
    "duration": 14,
    "start_time": "2024-03-05T20:19:44.514Z"
   },
   {
    "duration": 11,
    "start_time": "2024-03-05T20:19:44.530Z"
   },
   {
    "duration": 51,
    "start_time": "2024-03-05T20:19:44.542Z"
   },
   {
    "duration": 5,
    "start_time": "2024-03-05T20:19:44.595Z"
   },
   {
    "duration": 8,
    "start_time": "2024-03-05T20:19:44.602Z"
   },
   {
    "duration": 17,
    "start_time": "2024-03-05T20:19:44.611Z"
   },
   {
    "duration": 6,
    "start_time": "2024-03-05T20:19:44.630Z"
   },
   {
    "duration": 301,
    "start_time": "2024-03-05T20:19:44.638Z"
   },
   {
    "duration": 8,
    "start_time": "2024-03-05T20:19:44.941Z"
   },
   {
    "duration": 4,
    "start_time": "2024-03-05T20:19:44.951Z"
   },
   {
    "duration": 243,
    "start_time": "2024-03-05T20:19:44.956Z"
   },
   {
    "duration": 7,
    "start_time": "2024-03-05T20:19:45.201Z"
   },
   {
    "duration": 24,
    "start_time": "2024-03-05T20:19:45.210Z"
   },
   {
    "duration": 388,
    "start_time": "2024-03-05T20:19:45.236Z"
   },
   {
    "duration": 15,
    "start_time": "2024-03-05T20:19:45.626Z"
   },
   {
    "duration": 30,
    "start_time": "2024-03-05T20:19:45.643Z"
   },
   {
    "duration": 41,
    "start_time": "2024-03-05T20:19:45.675Z"
   },
   {
    "duration": 272,
    "start_time": "2024-03-05T20:19:45.717Z"
   },
   {
    "duration": 8,
    "start_time": "2024-03-05T20:19:45.991Z"
   },
   {
    "duration": 21,
    "start_time": "2024-03-05T20:19:46.000Z"
   },
   {
    "duration": 304,
    "start_time": "2024-03-05T20:19:46.022Z"
   },
   {
    "duration": 126,
    "start_time": "2024-03-05T20:19:46.328Z"
   },
   {
    "duration": 179,
    "start_time": "2024-03-05T20:19:46.455Z"
   },
   {
    "duration": 8,
    "start_time": "2024-03-05T20:19:46.636Z"
   },
   {
    "duration": 45,
    "start_time": "2024-03-05T20:19:46.646Z"
   },
   {
    "duration": 144,
    "start_time": "2024-03-05T20:19:46.694Z"
   },
   {
    "duration": 8,
    "start_time": "2024-03-05T20:19:46.839Z"
   },
   {
    "duration": 7,
    "start_time": "2024-03-05T20:19:46.849Z"
   },
   {
    "duration": 74,
    "start_time": "2024-03-05T20:19:46.857Z"
   },
   {
    "duration": 83,
    "start_time": "2024-03-05T20:19:46.933Z"
   },
   {
    "duration": 7,
    "start_time": "2024-03-05T20:19:47.018Z"
   },
   {
    "duration": 31,
    "start_time": "2024-03-05T20:19:47.026Z"
   },
   {
    "duration": 4,
    "start_time": "2024-03-05T20:19:47.059Z"
   },
   {
    "duration": 17,
    "start_time": "2024-03-05T20:19:47.064Z"
   },
   {
    "duration": 12,
    "start_time": "2024-03-05T20:19:47.082Z"
   },
   {
    "duration": 13,
    "start_time": "2024-03-05T20:19:47.096Z"
   },
   {
    "duration": 24,
    "start_time": "2024-03-05T20:19:47.110Z"
   },
   {
    "duration": 4,
    "start_time": "2024-03-05T20:19:47.136Z"
   },
   {
    "duration": 26,
    "start_time": "2024-03-05T20:19:47.141Z"
   },
   {
    "duration": 38,
    "start_time": "2024-03-05T20:19:47.169Z"
   },
   {
    "duration": 7,
    "start_time": "2024-03-05T20:19:47.209Z"
   },
   {
    "duration": 41,
    "start_time": "2024-03-05T20:20:35.114Z"
   },
   {
    "duration": 8,
    "start_time": "2024-03-05T20:20:38.998Z"
   },
   {
    "duration": 39,
    "start_time": "2024-03-05T20:21:24.975Z"
   },
   {
    "duration": 1184,
    "start_time": "2024-03-05T20:21:29.871Z"
   },
   {
    "duration": 36,
    "start_time": "2024-03-05T20:21:31.057Z"
   },
   {
    "duration": 10,
    "start_time": "2024-03-05T20:21:31.095Z"
   },
   {
    "duration": 22,
    "start_time": "2024-03-05T20:21:31.107Z"
   },
   {
    "duration": 117,
    "start_time": "2024-03-05T20:21:31.131Z"
   },
   {
    "duration": 6,
    "start_time": "2024-03-05T20:21:31.249Z"
   },
   {
    "duration": 46,
    "start_time": "2024-03-05T20:21:31.256Z"
   },
   {
    "duration": 34,
    "start_time": "2024-03-05T20:21:31.304Z"
   },
   {
    "duration": 16,
    "start_time": "2024-03-05T20:21:31.339Z"
   },
   {
    "duration": 334,
    "start_time": "2024-03-05T20:21:31.357Z"
   },
   {
    "duration": 9,
    "start_time": "2024-03-05T20:21:31.692Z"
   },
   {
    "duration": 50,
    "start_time": "2024-03-05T20:21:31.703Z"
   },
   {
    "duration": 279,
    "start_time": "2024-03-05T20:21:31.755Z"
   },
   {
    "duration": 8,
    "start_time": "2024-03-05T20:21:32.036Z"
   },
   {
    "duration": 46,
    "start_time": "2024-03-05T20:21:32.047Z"
   },
   {
    "duration": 338,
    "start_time": "2024-03-05T20:21:32.095Z"
   },
   {
    "duration": 14,
    "start_time": "2024-03-05T20:21:32.435Z"
   },
   {
    "duration": 28,
    "start_time": "2024-03-05T20:21:32.451Z"
   },
   {
    "duration": 18,
    "start_time": "2024-03-05T20:21:32.480Z"
   },
   {
    "duration": 301,
    "start_time": "2024-03-05T20:21:32.500Z"
   },
   {
    "duration": 7,
    "start_time": "2024-03-05T20:21:32.803Z"
   },
   {
    "duration": 31,
    "start_time": "2024-03-05T20:21:32.812Z"
   },
   {
    "duration": 381,
    "start_time": "2024-03-05T20:21:32.845Z"
   },
   {
    "duration": 139,
    "start_time": "2024-03-05T20:21:33.228Z"
   },
   {
    "duration": 160,
    "start_time": "2024-03-05T20:21:33.368Z"
   },
   {
    "duration": 7,
    "start_time": "2024-03-05T20:21:33.530Z"
   },
   {
    "duration": 45,
    "start_time": "2024-03-05T20:21:33.538Z"
   },
   {
    "duration": 161,
    "start_time": "2024-03-05T20:21:33.587Z"
   },
   {
    "duration": 8,
    "start_time": "2024-03-05T20:21:33.750Z"
   },
   {
    "duration": 7,
    "start_time": "2024-03-05T20:21:33.759Z"
   },
   {
    "duration": 69,
    "start_time": "2024-03-05T20:21:33.767Z"
   },
   {
    "duration": 80,
    "start_time": "2024-03-05T20:21:33.837Z"
   },
   {
    "duration": 8,
    "start_time": "2024-03-05T20:21:33.918Z"
   },
   {
    "duration": 30,
    "start_time": "2024-03-05T20:21:33.928Z"
   },
   {
    "duration": 3,
    "start_time": "2024-03-05T20:21:33.960Z"
   },
   {
    "duration": 4,
    "start_time": "2024-03-05T20:21:33.981Z"
   },
   {
    "duration": 20,
    "start_time": "2024-03-05T20:21:33.987Z"
   },
   {
    "duration": 6,
    "start_time": "2024-03-05T20:21:34.009Z"
   },
   {
    "duration": 15,
    "start_time": "2024-03-05T20:21:34.016Z"
   },
   {
    "duration": 16,
    "start_time": "2024-03-05T20:21:34.032Z"
   },
   {
    "duration": 19,
    "start_time": "2024-03-05T20:21:34.050Z"
   },
   {
    "duration": 50,
    "start_time": "2024-03-05T20:21:34.071Z"
   },
   {
    "duration": 9,
    "start_time": "2024-03-05T20:21:34.123Z"
   },
   {
    "duration": 12,
    "start_time": "2024-03-05T20:33:12.884Z"
   },
   {
    "duration": 11,
    "start_time": "2024-03-05T20:33:13.548Z"
   },
   {
    "duration": 8,
    "start_time": "2024-03-05T20:34:42.345Z"
   },
   {
    "duration": 10,
    "start_time": "2024-03-05T20:34:42.843Z"
   },
   {
    "duration": 7,
    "start_time": "2024-03-05T20:34:43.482Z"
   },
   {
    "duration": 10,
    "start_time": "2024-03-05T20:34:44.186Z"
   },
   {
    "duration": 11,
    "start_time": "2024-03-05T20:38:32.712Z"
   },
   {
    "duration": 9,
    "start_time": "2024-03-05T20:39:33.263Z"
   },
   {
    "duration": 1122,
    "start_time": "2024-03-05T20:47:01.711Z"
   },
   {
    "duration": 95,
    "start_time": "2024-03-05T20:47:02.835Z"
   },
   {
    "duration": 0,
    "start_time": "2024-03-05T20:47:02.934Z"
   },
   {
    "duration": 0,
    "start_time": "2024-03-05T20:47:02.935Z"
   },
   {
    "duration": 0,
    "start_time": "2024-03-05T20:47:02.937Z"
   },
   {
    "duration": 0,
    "start_time": "2024-03-05T20:47:02.938Z"
   },
   {
    "duration": 0,
    "start_time": "2024-03-05T20:47:02.939Z"
   },
   {
    "duration": 0,
    "start_time": "2024-03-05T20:47:02.941Z"
   },
   {
    "duration": 0,
    "start_time": "2024-03-05T20:47:02.942Z"
   },
   {
    "duration": 0,
    "start_time": "2024-03-05T20:47:02.943Z"
   },
   {
    "duration": 0,
    "start_time": "2024-03-05T20:47:02.945Z"
   },
   {
    "duration": 0,
    "start_time": "2024-03-05T20:47:02.946Z"
   },
   {
    "duration": 0,
    "start_time": "2024-03-05T20:47:02.947Z"
   },
   {
    "duration": 1,
    "start_time": "2024-03-05T20:47:02.948Z"
   },
   {
    "duration": 0,
    "start_time": "2024-03-05T20:47:02.950Z"
   },
   {
    "duration": 0,
    "start_time": "2024-03-05T20:47:02.951Z"
   },
   {
    "duration": 0,
    "start_time": "2024-03-05T20:47:02.979Z"
   },
   {
    "duration": 0,
    "start_time": "2024-03-05T20:47:02.981Z"
   },
   {
    "duration": 0,
    "start_time": "2024-03-05T20:47:02.982Z"
   },
   {
    "duration": 0,
    "start_time": "2024-03-05T20:47:02.983Z"
   },
   {
    "duration": 0,
    "start_time": "2024-03-05T20:47:02.985Z"
   },
   {
    "duration": 0,
    "start_time": "2024-03-05T20:47:02.986Z"
   },
   {
    "duration": 0,
    "start_time": "2024-03-05T20:47:02.987Z"
   },
   {
    "duration": 0,
    "start_time": "2024-03-05T20:47:02.989Z"
   },
   {
    "duration": 0,
    "start_time": "2024-03-05T20:47:02.990Z"
   },
   {
    "duration": 0,
    "start_time": "2024-03-05T20:47:02.991Z"
   },
   {
    "duration": 0,
    "start_time": "2024-03-05T20:47:02.993Z"
   },
   {
    "duration": 0,
    "start_time": "2024-03-05T20:47:02.994Z"
   },
   {
    "duration": 0,
    "start_time": "2024-03-05T20:47:02.995Z"
   },
   {
    "duration": 1,
    "start_time": "2024-03-05T20:47:02.996Z"
   },
   {
    "duration": 0,
    "start_time": "2024-03-05T20:47:02.998Z"
   },
   {
    "duration": 0,
    "start_time": "2024-03-05T20:47:02.999Z"
   },
   {
    "duration": 0,
    "start_time": "2024-03-05T20:47:03.000Z"
   },
   {
    "duration": 0,
    "start_time": "2024-03-05T20:47:03.001Z"
   },
   {
    "duration": 0,
    "start_time": "2024-03-05T20:47:03.003Z"
   },
   {
    "duration": 0,
    "start_time": "2024-03-05T20:47:03.004Z"
   },
   {
    "duration": 0,
    "start_time": "2024-03-05T20:47:03.005Z"
   },
   {
    "duration": 0,
    "start_time": "2024-03-05T20:47:03.007Z"
   },
   {
    "duration": 0,
    "start_time": "2024-03-05T20:47:03.008Z"
   },
   {
    "duration": 0,
    "start_time": "2024-03-05T20:47:03.010Z"
   },
   {
    "duration": 0,
    "start_time": "2024-03-05T20:47:03.011Z"
   },
   {
    "duration": 0,
    "start_time": "2024-03-05T20:47:03.013Z"
   },
   {
    "duration": 0,
    "start_time": "2024-03-05T20:47:03.014Z"
   },
   {
    "duration": 0,
    "start_time": "2024-03-05T20:47:03.016Z"
   },
   {
    "duration": 0,
    "start_time": "2024-03-05T20:47:03.017Z"
   },
   {
    "duration": 0,
    "start_time": "2024-03-05T20:47:03.018Z"
   },
   {
    "duration": 0,
    "start_time": "2024-03-05T20:47:03.019Z"
   },
   {
    "duration": 0,
    "start_time": "2024-03-05T20:47:03.020Z"
   },
   {
    "duration": 0,
    "start_time": "2024-03-05T20:47:03.021Z"
   },
   {
    "duration": 0,
    "start_time": "2024-03-05T20:47:03.081Z"
   },
   {
    "duration": 72,
    "start_time": "2024-03-05T20:48:04.016Z"
   },
   {
    "duration": 10,
    "start_time": "2024-03-05T20:48:05.921Z"
   },
   {
    "duration": 1139,
    "start_time": "2024-03-05T20:48:10.793Z"
   },
   {
    "duration": 73,
    "start_time": "2024-03-05T20:48:11.933Z"
   },
   {
    "duration": 13,
    "start_time": "2024-03-05T20:48:12.008Z"
   },
   {
    "duration": 12,
    "start_time": "2024-03-05T20:48:12.022Z"
   },
   {
    "duration": 19,
    "start_time": "2024-03-05T20:48:12.036Z"
   },
   {
    "duration": 18,
    "start_time": "2024-03-05T20:48:12.057Z"
   },
   {
    "duration": 15,
    "start_time": "2024-03-05T20:48:12.076Z"
   },
   {
    "duration": 17,
    "start_time": "2024-03-05T20:48:12.093Z"
   },
   {
    "duration": 14,
    "start_time": "2024-03-05T20:48:12.111Z"
   },
   {
    "duration": 30,
    "start_time": "2024-03-05T20:48:12.127Z"
   },
   {
    "duration": 10,
    "start_time": "2024-03-05T20:48:12.158Z"
   },
   {
    "duration": 12,
    "start_time": "2024-03-05T20:48:12.170Z"
   },
   {
    "duration": 16,
    "start_time": "2024-03-05T20:48:12.183Z"
   },
   {
    "duration": 32,
    "start_time": "2024-03-05T20:48:12.201Z"
   },
   {
    "duration": 16,
    "start_time": "2024-03-05T20:48:12.235Z"
   },
   {
    "duration": 5,
    "start_time": "2024-03-05T20:48:12.252Z"
   },
   {
    "duration": 300,
    "start_time": "2024-03-05T20:48:12.258Z"
   },
   {
    "duration": 9,
    "start_time": "2024-03-05T20:48:12.559Z"
   },
   {
    "duration": 13,
    "start_time": "2024-03-05T20:48:12.569Z"
   },
   {
    "duration": 241,
    "start_time": "2024-03-05T20:48:12.584Z"
   },
   {
    "duration": 7,
    "start_time": "2024-03-05T20:48:12.827Z"
   },
   {
    "duration": 6,
    "start_time": "2024-03-05T20:48:12.835Z"
   },
   {
    "duration": 333,
    "start_time": "2024-03-05T20:48:12.842Z"
   },
   {
    "duration": 12,
    "start_time": "2024-03-05T20:48:13.179Z"
   },
   {
    "duration": 8,
    "start_time": "2024-03-05T20:48:13.193Z"
   },
   {
    "duration": 7,
    "start_time": "2024-03-05T20:48:13.202Z"
   },
   {
    "duration": 275,
    "start_time": "2024-03-05T20:48:13.211Z"
   },
   {
    "duration": 7,
    "start_time": "2024-03-05T20:48:13.490Z"
   },
   {
    "duration": 15,
    "start_time": "2024-03-05T20:48:13.498Z"
   },
   {
    "duration": 323,
    "start_time": "2024-03-05T20:48:13.514Z"
   },
   {
    "duration": 125,
    "start_time": "2024-03-05T20:48:13.839Z"
   },
   {
    "duration": 149,
    "start_time": "2024-03-05T20:48:13.966Z"
   },
   {
    "duration": 7,
    "start_time": "2024-03-05T20:48:14.116Z"
   },
   {
    "duration": 7,
    "start_time": "2024-03-05T20:48:14.124Z"
   },
   {
    "duration": 162,
    "start_time": "2024-03-05T20:48:14.133Z"
   },
   {
    "duration": 7,
    "start_time": "2024-03-05T20:48:14.297Z"
   },
   {
    "duration": 13,
    "start_time": "2024-03-05T20:48:14.306Z"
   },
   {
    "duration": 72,
    "start_time": "2024-03-05T20:48:14.321Z"
   },
   {
    "duration": 70,
    "start_time": "2024-03-05T20:48:14.394Z"
   },
   {
    "duration": 19,
    "start_time": "2024-03-05T20:48:14.465Z"
   },
   {
    "duration": 24,
    "start_time": "2024-03-05T20:48:14.486Z"
   },
   {
    "duration": 4,
    "start_time": "2024-03-05T20:48:14.511Z"
   },
   {
    "duration": 14,
    "start_time": "2024-03-05T20:48:14.516Z"
   },
   {
    "duration": 8,
    "start_time": "2024-03-05T20:48:14.540Z"
   },
   {
    "duration": 11,
    "start_time": "2024-03-05T20:48:14.550Z"
   },
   {
    "duration": 5,
    "start_time": "2024-03-05T20:48:14.562Z"
   },
   {
    "duration": 13,
    "start_time": "2024-03-05T20:48:14.569Z"
   },
   {
    "duration": 7,
    "start_time": "2024-03-05T20:48:14.583Z"
   },
   {
    "duration": 56,
    "start_time": "2024-03-05T20:48:14.592Z"
   },
   {
    "duration": 7,
    "start_time": "2024-03-05T20:48:14.650Z"
   },
   {
    "duration": 34,
    "start_time": "2024-03-05T20:49:04.139Z"
   },
   {
    "duration": 11,
    "start_time": "2024-03-05T20:49:22.790Z"
   },
   {
    "duration": 11,
    "start_time": "2024-03-05T20:49:25.659Z"
   },
   {
    "duration": 6,
    "start_time": "2024-03-05T20:49:31.262Z"
   },
   {
    "duration": 6,
    "start_time": "2024-03-05T20:49:32.279Z"
   },
   {
    "duration": 11,
    "start_time": "2024-03-05T20:49:32.515Z"
   },
   {
    "duration": 4,
    "start_time": "2024-03-05T20:49:32.737Z"
   },
   {
    "duration": 221,
    "start_time": "2024-03-05T20:49:32.979Z"
   },
   {
    "duration": 11,
    "start_time": "2024-03-05T20:49:33.731Z"
   },
   {
    "duration": 5,
    "start_time": "2024-03-05T20:49:34.018Z"
   },
   {
    "duration": 294,
    "start_time": "2024-03-05T20:49:34.225Z"
   },
   {
    "duration": 8,
    "start_time": "2024-03-05T20:49:34.941Z"
   },
   {
    "duration": 5,
    "start_time": "2024-03-05T20:49:35.165Z"
   },
   {
    "duration": 320,
    "start_time": "2024-03-05T20:49:35.389Z"
   },
   {
    "duration": 13,
    "start_time": "2024-03-05T20:49:35.982Z"
   },
   {
    "duration": 7,
    "start_time": "2024-03-05T20:49:36.191Z"
   },
   {
    "duration": 5,
    "start_time": "2024-03-05T20:49:36.414Z"
   },
   {
    "duration": 234,
    "start_time": "2024-03-05T20:49:36.626Z"
   },
   {
    "duration": 8,
    "start_time": "2024-03-05T20:49:37.257Z"
   },
   {
    "duration": 4,
    "start_time": "2024-03-05T20:49:37.464Z"
   },
   {
    "duration": 352,
    "start_time": "2024-03-05T20:49:37.670Z"
   },
   {
    "duration": 125,
    "start_time": "2024-03-05T20:49:38.439Z"
   },
   {
    "duration": 154,
    "start_time": "2024-03-05T20:49:38.607Z"
   },
   {
    "duration": 8,
    "start_time": "2024-03-05T20:49:38.812Z"
   },
   {
    "duration": 1036,
    "start_time": "2024-03-05T20:49:43.809Z"
   },
   {
    "duration": 75,
    "start_time": "2024-03-05T20:49:44.847Z"
   },
   {
    "duration": 14,
    "start_time": "2024-03-05T20:49:44.924Z"
   },
   {
    "duration": 36,
    "start_time": "2024-03-05T20:49:44.939Z"
   },
   {
    "duration": 7,
    "start_time": "2024-03-05T20:49:44.978Z"
   },
   {
    "duration": 54,
    "start_time": "2024-03-05T20:49:44.986Z"
   },
   {
    "duration": 59,
    "start_time": "2024-03-05T20:49:45.042Z"
   },
   {
    "duration": 79,
    "start_time": "2024-03-05T20:49:45.102Z"
   },
   {
    "duration": 76,
    "start_time": "2024-03-05T20:49:45.183Z"
   },
   {
    "duration": 60,
    "start_time": "2024-03-05T20:49:45.261Z"
   },
   {
    "duration": 33,
    "start_time": "2024-03-05T20:49:45.323Z"
   },
   {
    "duration": 44,
    "start_time": "2024-03-05T20:49:45.358Z"
   },
   {
    "duration": 18,
    "start_time": "2024-03-05T20:49:45.404Z"
   },
   {
    "duration": 28,
    "start_time": "2024-03-05T20:49:45.425Z"
   },
   {
    "duration": 30,
    "start_time": "2024-03-05T20:49:45.455Z"
   },
   {
    "duration": 312,
    "start_time": "2024-03-05T20:49:45.487Z"
   },
   {
    "duration": 9,
    "start_time": "2024-03-05T20:49:45.800Z"
   },
   {
    "duration": 23,
    "start_time": "2024-03-05T20:49:45.810Z"
   },
   {
    "duration": 246,
    "start_time": "2024-03-05T20:49:45.834Z"
   },
   {
    "duration": 8,
    "start_time": "2024-03-05T20:49:46.082Z"
   },
   {
    "duration": 44,
    "start_time": "2024-03-05T20:49:46.091Z"
   },
   {
    "duration": 381,
    "start_time": "2024-03-05T20:49:46.137Z"
   },
   {
    "duration": 14,
    "start_time": "2024-03-05T20:49:46.520Z"
   },
   {
    "duration": 8,
    "start_time": "2024-03-05T20:49:46.535Z"
   },
   {
    "duration": 6,
    "start_time": "2024-03-05T20:49:46.545Z"
   },
   {
    "duration": 285,
    "start_time": "2024-03-05T20:49:46.552Z"
   },
   {
    "duration": 8,
    "start_time": "2024-03-05T20:49:46.839Z"
   },
   {
    "duration": 10,
    "start_time": "2024-03-05T20:49:46.848Z"
   },
   {
    "duration": 348,
    "start_time": "2024-03-05T20:49:46.860Z"
   },
   {
    "duration": 145,
    "start_time": "2024-03-05T20:49:47.209Z"
   },
   {
    "duration": 138,
    "start_time": "2024-03-05T20:49:47.356Z"
   },
   {
    "duration": 8,
    "start_time": "2024-03-05T20:49:47.496Z"
   },
   {
    "duration": 18,
    "start_time": "2024-03-05T20:49:47.505Z"
   },
   {
    "duration": 158,
    "start_time": "2024-03-05T20:49:47.524Z"
   },
   {
    "duration": 7,
    "start_time": "2024-03-05T20:49:47.684Z"
   },
   {
    "duration": 4,
    "start_time": "2024-03-05T20:49:47.693Z"
   },
   {
    "duration": 92,
    "start_time": "2024-03-05T20:49:47.699Z"
   },
   {
    "duration": 94,
    "start_time": "2024-03-05T20:49:47.793Z"
   },
   {
    "duration": 8,
    "start_time": "2024-03-05T20:49:47.889Z"
   },
   {
    "duration": 32,
    "start_time": "2024-03-05T20:49:47.899Z"
   },
   {
    "duration": 3,
    "start_time": "2024-03-05T20:49:47.934Z"
   },
   {
    "duration": 14,
    "start_time": "2024-03-05T20:49:47.938Z"
   },
   {
    "duration": 9,
    "start_time": "2024-03-05T20:49:47.953Z"
   },
   {
    "duration": 18,
    "start_time": "2024-03-05T20:49:47.964Z"
   },
   {
    "duration": 8,
    "start_time": "2024-03-05T20:49:47.983Z"
   },
   {
    "duration": 3,
    "start_time": "2024-03-05T20:49:47.993Z"
   },
   {
    "duration": 5,
    "start_time": "2024-03-05T20:49:47.997Z"
   },
   {
    "duration": 36,
    "start_time": "2024-03-05T20:49:48.004Z"
   },
   {
    "duration": 8,
    "start_time": "2024-03-05T20:49:48.041Z"
   },
   {
    "duration": 4,
    "start_time": "2024-03-05T21:01:13.987Z"
   },
   {
    "duration": 1133,
    "start_time": "2024-03-05T21:06:21.601Z"
   },
   {
    "duration": 74,
    "start_time": "2024-03-05T21:06:22.736Z"
   },
   {
    "duration": 10,
    "start_time": "2024-03-05T21:06:22.812Z"
   },
   {
    "duration": 24,
    "start_time": "2024-03-05T21:06:22.824Z"
   },
   {
    "duration": 10,
    "start_time": "2024-03-05T21:06:22.850Z"
   },
   {
    "duration": 13,
    "start_time": "2024-03-05T21:06:22.861Z"
   },
   {
    "duration": 7,
    "start_time": "2024-03-05T21:06:22.876Z"
   },
   {
    "duration": 9,
    "start_time": "2024-03-05T21:06:22.885Z"
   },
   {
    "duration": 10,
    "start_time": "2024-03-05T21:06:22.895Z"
   },
   {
    "duration": 29,
    "start_time": "2024-03-05T21:06:22.906Z"
   },
   {
    "duration": 9,
    "start_time": "2024-03-05T21:06:22.937Z"
   },
   {
    "duration": 13,
    "start_time": "2024-03-05T21:06:22.947Z"
   },
   {
    "duration": 8,
    "start_time": "2024-03-05T21:06:22.961Z"
   },
   {
    "duration": 9,
    "start_time": "2024-03-05T21:06:22.980Z"
   },
   {
    "duration": 8,
    "start_time": "2024-03-05T21:06:22.991Z"
   },
   {
    "duration": 298,
    "start_time": "2024-03-05T21:06:23.000Z"
   },
   {
    "duration": 7,
    "start_time": "2024-03-05T21:06:23.300Z"
   },
   {
    "duration": 10,
    "start_time": "2024-03-05T21:06:23.309Z"
   },
   {
    "duration": 218,
    "start_time": "2024-03-05T21:06:23.320Z"
   },
   {
    "duration": 7,
    "start_time": "2024-03-05T21:06:23.540Z"
   },
   {
    "duration": 23,
    "start_time": "2024-03-05T21:06:23.548Z"
   },
   {
    "duration": 356,
    "start_time": "2024-03-05T21:06:23.573Z"
   },
   {
    "duration": 13,
    "start_time": "2024-03-05T21:06:23.931Z"
   },
   {
    "duration": 7,
    "start_time": "2024-03-05T21:06:23.945Z"
   },
   {
    "duration": 22,
    "start_time": "2024-03-05T21:06:23.954Z"
   },
   {
    "duration": 280,
    "start_time": "2024-03-05T21:06:23.977Z"
   },
   {
    "duration": 6,
    "start_time": "2024-03-05T21:06:24.259Z"
   },
   {
    "duration": 9,
    "start_time": "2024-03-05T21:06:24.267Z"
   },
   {
    "duration": 347,
    "start_time": "2024-03-05T21:06:24.277Z"
   },
   {
    "duration": 125,
    "start_time": "2024-03-05T21:06:24.626Z"
   },
   {
    "duration": 140,
    "start_time": "2024-03-05T21:06:24.752Z"
   },
   {
    "duration": 7,
    "start_time": "2024-03-05T21:06:24.893Z"
   },
   {
    "duration": 40,
    "start_time": "2024-03-05T21:06:24.901Z"
   },
   {
    "duration": 148,
    "start_time": "2024-03-05T21:06:24.942Z"
   },
   {
    "duration": 7,
    "start_time": "2024-03-05T21:06:25.092Z"
   },
   {
    "duration": 32,
    "start_time": "2024-03-05T21:06:25.101Z"
   },
   {
    "duration": 94,
    "start_time": "2024-03-05T21:06:25.135Z"
   },
   {
    "duration": 97,
    "start_time": "2024-03-05T21:06:25.230Z"
   },
   {
    "duration": 23,
    "start_time": "2024-03-05T21:06:25.328Z"
   },
   {
    "duration": 57,
    "start_time": "2024-03-05T21:06:25.353Z"
   },
   {
    "duration": 4,
    "start_time": "2024-03-05T21:06:25.413Z"
   },
   {
    "duration": 25,
    "start_time": "2024-03-05T21:06:25.418Z"
   },
   {
    "duration": 16,
    "start_time": "2024-03-05T21:06:25.444Z"
   },
   {
    "duration": 16,
    "start_time": "2024-03-05T21:06:25.461Z"
   },
   {
    "duration": 21,
    "start_time": "2024-03-05T21:06:25.478Z"
   },
   {
    "duration": 27,
    "start_time": "2024-03-05T21:06:25.500Z"
   },
   {
    "duration": 7,
    "start_time": "2024-03-05T21:06:25.529Z"
   },
   {
    "duration": 48,
    "start_time": "2024-03-05T21:06:25.537Z"
   },
   {
    "duration": 8,
    "start_time": "2024-03-05T21:06:25.586Z"
   },
   {
    "duration": 115,
    "start_time": "2024-03-05T21:08:05.206Z"
   },
   {
    "duration": 1000,
    "start_time": "2024-03-05T21:10:20.719Z"
   },
   {
    "duration": 73,
    "start_time": "2024-03-05T21:10:21.721Z"
   },
   {
    "duration": 12,
    "start_time": "2024-03-05T21:10:21.795Z"
   },
   {
    "duration": 10,
    "start_time": "2024-03-05T21:10:21.808Z"
   },
   {
    "duration": 9,
    "start_time": "2024-03-05T21:10:21.820Z"
   },
   {
    "duration": 16,
    "start_time": "2024-03-05T21:10:21.830Z"
   },
   {
    "duration": 16,
    "start_time": "2024-03-05T21:10:21.847Z"
   },
   {
    "duration": 13,
    "start_time": "2024-03-05T21:10:21.864Z"
   },
   {
    "duration": 9,
    "start_time": "2024-03-05T21:10:21.880Z"
   },
   {
    "duration": 11,
    "start_time": "2024-03-05T21:10:21.891Z"
   },
   {
    "duration": 10,
    "start_time": "2024-03-05T21:10:21.903Z"
   },
   {
    "duration": 13,
    "start_time": "2024-03-05T21:10:21.914Z"
   },
   {
    "duration": 10,
    "start_time": "2024-03-05T21:10:21.928Z"
   },
   {
    "duration": 11,
    "start_time": "2024-03-05T21:10:21.939Z"
   },
   {
    "duration": 4,
    "start_time": "2024-03-05T21:10:21.951Z"
   },
   {
    "duration": 349,
    "start_time": "2024-03-05T21:10:21.956Z"
   },
   {
    "duration": 7,
    "start_time": "2024-03-05T21:10:22.307Z"
   },
   {
    "duration": 5,
    "start_time": "2024-03-05T21:10:22.315Z"
   },
   {
    "duration": 244,
    "start_time": "2024-03-05T21:10:22.321Z"
   },
   {
    "duration": 14,
    "start_time": "2024-03-05T21:10:22.567Z"
   },
   {
    "duration": 5,
    "start_time": "2024-03-05T21:10:22.583Z"
   },
   {
    "duration": 330,
    "start_time": "2024-03-05T21:10:22.590Z"
   },
   {
    "duration": 14,
    "start_time": "2024-03-05T21:10:22.921Z"
   },
   {
    "duration": 7,
    "start_time": "2024-03-05T21:10:22.937Z"
   },
   {
    "duration": 11,
    "start_time": "2024-03-05T21:10:22.946Z"
   },
   {
    "duration": 279,
    "start_time": "2024-03-05T21:10:22.958Z"
   },
   {
    "duration": 7,
    "start_time": "2024-03-05T21:10:23.239Z"
   },
   {
    "duration": 6,
    "start_time": "2024-03-05T21:10:23.249Z"
   },
   {
    "duration": 336,
    "start_time": "2024-03-05T21:10:23.256Z"
   },
   {
    "duration": 120,
    "start_time": "2024-03-05T21:10:23.593Z"
   },
   {
    "duration": 141,
    "start_time": "2024-03-05T21:10:23.714Z"
   },
   {
    "duration": 8,
    "start_time": "2024-03-05T21:10:23.857Z"
   },
   {
    "duration": 16,
    "start_time": "2024-03-05T21:10:23.867Z"
   },
   {
    "duration": 147,
    "start_time": "2024-03-05T21:10:23.884Z"
   },
   {
    "duration": 8,
    "start_time": "2024-03-05T21:10:24.033Z"
   },
   {
    "duration": 17,
    "start_time": "2024-03-05T21:10:24.042Z"
   },
   {
    "duration": 66,
    "start_time": "2024-03-05T21:10:24.060Z"
   },
   {
    "duration": 70,
    "start_time": "2024-03-05T21:10:24.128Z"
   },
   {
    "duration": 7,
    "start_time": "2024-03-05T21:10:24.200Z"
   },
   {
    "duration": 30,
    "start_time": "2024-03-05T21:10:24.208Z"
   },
   {
    "duration": 3,
    "start_time": "2024-03-05T21:10:24.239Z"
   },
   {
    "duration": 9,
    "start_time": "2024-03-05T21:10:24.243Z"
   },
   {
    "duration": 10,
    "start_time": "2024-03-05T21:10:24.254Z"
   },
   {
    "duration": 15,
    "start_time": "2024-03-05T21:10:24.266Z"
   },
   {
    "duration": 4,
    "start_time": "2024-03-05T21:10:24.283Z"
   },
   {
    "duration": 14,
    "start_time": "2024-03-05T21:10:24.289Z"
   },
   {
    "duration": 16,
    "start_time": "2024-03-05T21:10:24.304Z"
   },
   {
    "duration": 46,
    "start_time": "2024-03-05T21:10:24.321Z"
   },
   {
    "duration": 7,
    "start_time": "2024-03-05T21:10:24.368Z"
   },
   {
    "duration": 71,
    "start_time": "2024-03-06T08:07:11.858Z"
   },
   {
    "duration": 1538,
    "start_time": "2024-03-06T08:07:22.445Z"
   },
   {
    "duration": 212,
    "start_time": "2024-03-06T08:07:23.985Z"
   },
   {
    "duration": 22,
    "start_time": "2024-03-06T08:07:24.210Z"
   },
   {
    "duration": 105,
    "start_time": "2024-03-06T08:07:24.234Z"
   },
   {
    "duration": 132,
    "start_time": "2024-03-06T08:07:24.340Z"
   },
   {
    "duration": 255,
    "start_time": "2024-03-06T08:07:24.474Z"
   },
   {
    "duration": 85,
    "start_time": "2024-03-06T08:07:24.731Z"
   },
   {
    "duration": 60,
    "start_time": "2024-03-06T08:07:24.820Z"
   },
   {
    "duration": 54,
    "start_time": "2024-03-06T08:07:24.882Z"
   },
   {
    "duration": 92,
    "start_time": "2024-03-06T08:07:24.939Z"
   },
   {
    "duration": 48,
    "start_time": "2024-03-06T08:07:25.036Z"
   },
   {
    "duration": 39,
    "start_time": "2024-03-06T08:07:25.086Z"
   },
   {
    "duration": 29,
    "start_time": "2024-03-06T08:07:25.129Z"
   },
   {
    "duration": 55,
    "start_time": "2024-03-06T08:07:25.160Z"
   },
   {
    "duration": 44,
    "start_time": "2024-03-06T08:07:25.218Z"
   },
   {
    "duration": 429,
    "start_time": "2024-03-06T08:07:25.263Z"
   },
   {
    "duration": 12,
    "start_time": "2024-03-06T08:07:25.693Z"
   },
   {
    "duration": 6,
    "start_time": "2024-03-06T08:07:25.706Z"
   },
   {
    "duration": 344,
    "start_time": "2024-03-06T08:07:25.714Z"
   },
   {
    "duration": 15,
    "start_time": "2024-03-06T08:07:26.060Z"
   },
   {
    "duration": 91,
    "start_time": "2024-03-06T08:07:26.077Z"
   },
   {
    "duration": 596,
    "start_time": "2024-03-06T08:07:26.169Z"
   },
   {
    "duration": 14,
    "start_time": "2024-03-06T08:07:26.767Z"
   },
   {
    "duration": 73,
    "start_time": "2024-03-06T08:07:26.783Z"
   },
   {
    "duration": 62,
    "start_time": "2024-03-06T08:07:26.858Z"
   },
   {
    "duration": 367,
    "start_time": "2024-03-06T08:07:26.923Z"
   },
   {
    "duration": 24,
    "start_time": "2024-03-06T08:07:27.293Z"
   },
   {
    "duration": 18,
    "start_time": "2024-03-06T08:07:27.323Z"
   },
   {
    "duration": 486,
    "start_time": "2024-03-06T08:07:27.345Z"
   },
   {
    "duration": 145,
    "start_time": "2024-03-06T08:07:27.834Z"
   },
   {
    "duration": 176,
    "start_time": "2024-03-06T08:07:27.980Z"
   },
   {
    "duration": 9,
    "start_time": "2024-03-06T08:07:28.158Z"
   },
   {
    "duration": 57,
    "start_time": "2024-03-06T08:07:28.168Z"
   },
   {
    "duration": 202,
    "start_time": "2024-03-06T08:07:28.227Z"
   },
   {
    "duration": 10,
    "start_time": "2024-03-06T08:07:28.431Z"
   },
   {
    "duration": 9,
    "start_time": "2024-03-06T08:07:28.444Z"
   },
   {
    "duration": 103,
    "start_time": "2024-03-06T08:07:28.455Z"
   },
   {
    "duration": 165,
    "start_time": "2024-03-06T08:07:28.560Z"
   },
   {
    "duration": 12,
    "start_time": "2024-03-06T08:07:28.735Z"
   },
   {
    "duration": 58,
    "start_time": "2024-03-06T08:07:28.749Z"
   },
   {
    "duration": 19,
    "start_time": "2024-03-06T08:07:28.808Z"
   },
   {
    "duration": 12,
    "start_time": "2024-03-06T08:07:28.832Z"
   },
   {
    "duration": 10,
    "start_time": "2024-03-06T08:07:28.846Z"
   },
   {
    "duration": 28,
    "start_time": "2024-03-06T08:07:28.857Z"
   },
   {
    "duration": 49,
    "start_time": "2024-03-06T08:07:28.887Z"
   },
   {
    "duration": 15,
    "start_time": "2024-03-06T08:07:28.939Z"
   },
   {
    "duration": 20,
    "start_time": "2024-03-06T08:07:28.956Z"
   },
   {
    "duration": 87,
    "start_time": "2024-03-06T08:07:28.978Z"
   },
   {
    "duration": 10,
    "start_time": "2024-03-06T08:07:29.068Z"
   },
   {
    "duration": 115,
    "start_time": "2024-03-06T08:08:13.112Z"
   },
   {
    "duration": 16,
    "start_time": "2024-03-06T08:09:40.190Z"
   },
   {
    "duration": 12,
    "start_time": "2024-03-06T08:09:40.585Z"
   },
   {
    "duration": 6,
    "start_time": "2024-03-06T08:15:57.927Z"
   },
   {
    "duration": 6,
    "start_time": "2024-03-06T08:16:13.759Z"
   },
   {
    "duration": 9,
    "start_time": "2024-03-06T08:18:00.916Z"
   },
   {
    "duration": 12,
    "start_time": "2024-03-06T08:18:58.597Z"
   },
   {
    "duration": 6,
    "start_time": "2024-03-06T08:19:41.380Z"
   },
   {
    "duration": 4,
    "start_time": "2024-03-06T08:19:49.380Z"
   },
   {
    "duration": 15,
    "start_time": "2024-03-06T08:19:49.913Z"
   },
   {
    "duration": 7,
    "start_time": "2024-03-06T08:19:50.667Z"
   },
   {
    "duration": 120,
    "start_time": "2024-03-06T09:18:05.526Z"
   },
   {
    "duration": 6,
    "start_time": "2024-03-06T09:18:09.751Z"
   },
   {
    "duration": 5,
    "start_time": "2024-03-06T09:18:10.173Z"
   },
   {
    "duration": 8,
    "start_time": "2024-03-06T09:18:11.514Z"
   },
   {
    "duration": 17,
    "start_time": "2024-03-06T09:18:16.412Z"
   },
   {
    "duration": 4,
    "start_time": "2024-03-06T09:18:20.359Z"
   },
   {
    "duration": 242,
    "start_time": "2024-03-06T09:18:20.729Z"
   },
   {
    "duration": 10,
    "start_time": "2024-03-06T09:18:24.277Z"
   },
   {
    "duration": 4,
    "start_time": "2024-03-06T09:18:26.841Z"
   },
   {
    "duration": 340,
    "start_time": "2024-03-06T09:18:28.290Z"
   },
   {
    "duration": 8,
    "start_time": "2024-03-06T09:18:31.963Z"
   },
   {
    "duration": 4,
    "start_time": "2024-03-06T09:18:35.968Z"
   },
   {
    "duration": 343,
    "start_time": "2024-03-06T09:18:36.809Z"
   },
   {
    "duration": 11,
    "start_time": "2024-03-06T09:24:49.110Z"
   },
   {
    "duration": 163,
    "start_time": "2024-03-06T09:26:20.958Z"
   },
   {
    "duration": 6,
    "start_time": "2024-03-06T09:26:50.486Z"
   },
   {
    "duration": 6,
    "start_time": "2024-03-06T09:27:32.060Z"
   },
   {
    "duration": 151,
    "start_time": "2024-03-06T09:27:44.454Z"
   },
   {
    "duration": 21,
    "start_time": "2024-03-06T09:31:25.402Z"
   },
   {
    "duration": 8,
    "start_time": "2024-03-06T09:31:28.236Z"
   },
   {
    "duration": 4,
    "start_time": "2024-03-06T09:31:38.087Z"
   },
   {
    "duration": 21,
    "start_time": "2024-03-06T09:31:38.702Z"
   },
   {
    "duration": 29,
    "start_time": "2024-03-06T09:33:06.307Z"
   },
   {
    "duration": 1236,
    "start_time": "2024-03-06T09:33:51.379Z"
   },
   {
    "duration": 77,
    "start_time": "2024-03-06T09:33:52.623Z"
   },
   {
    "duration": 28,
    "start_time": "2024-03-06T09:33:52.701Z"
   },
   {
    "duration": 12,
    "start_time": "2024-03-06T09:33:52.736Z"
   },
   {
    "duration": 40,
    "start_time": "2024-03-06T09:33:52.750Z"
   },
   {
    "duration": 52,
    "start_time": "2024-03-06T09:33:52.792Z"
   },
   {
    "duration": 25,
    "start_time": "2024-03-06T09:33:52.846Z"
   },
   {
    "duration": 64,
    "start_time": "2024-03-06T09:33:52.873Z"
   },
   {
    "duration": 11,
    "start_time": "2024-03-06T09:33:52.940Z"
   },
   {
    "duration": 18,
    "start_time": "2024-03-06T09:33:52.954Z"
   },
   {
    "duration": 57,
    "start_time": "2024-03-06T09:33:52.974Z"
   },
   {
    "duration": 25,
    "start_time": "2024-03-06T09:33:53.038Z"
   },
   {
    "duration": 52,
    "start_time": "2024-03-06T09:33:53.065Z"
   },
   {
    "duration": 39,
    "start_time": "2024-03-06T09:33:53.119Z"
   },
   {
    "duration": 31,
    "start_time": "2024-03-06T09:33:53.159Z"
   },
   {
    "duration": 41,
    "start_time": "2024-03-06T09:33:53.192Z"
   },
   {
    "duration": 15,
    "start_time": "2024-03-06T09:33:53.237Z"
   },
   {
    "duration": 39,
    "start_time": "2024-03-06T09:33:53.253Z"
   },
   {
    "duration": 426,
    "start_time": "2024-03-06T09:33:53.294Z"
   },
   {
    "duration": 17,
    "start_time": "2024-03-06T09:33:53.722Z"
   },
   {
    "duration": 9,
    "start_time": "2024-03-06T09:33:53.745Z"
   },
   {
    "duration": 335,
    "start_time": "2024-03-06T09:33:53.756Z"
   },
   {
    "duration": 20,
    "start_time": "2024-03-06T09:33:54.094Z"
   },
   {
    "duration": 29,
    "start_time": "2024-03-06T09:33:54.115Z"
   },
   {
    "duration": 396,
    "start_time": "2024-03-06T09:33:54.145Z"
   },
   {
    "duration": 14,
    "start_time": "2024-03-06T09:33:54.543Z"
   },
   {
    "duration": 17,
    "start_time": "2024-03-06T09:33:54.559Z"
   },
   {
    "duration": 19,
    "start_time": "2024-03-06T09:33:54.580Z"
   },
   {
    "duration": 346,
    "start_time": "2024-03-06T09:33:54.602Z"
   },
   {
    "duration": 11,
    "start_time": "2024-03-06T09:33:54.950Z"
   },
   {
    "duration": 26,
    "start_time": "2024-03-06T09:33:54.963Z"
   },
   {
    "duration": 370,
    "start_time": "2024-03-06T09:33:54.991Z"
   },
   {
    "duration": 157,
    "start_time": "2024-03-06T09:33:55.363Z"
   },
   {
    "duration": 164,
    "start_time": "2024-03-06T09:33:55.529Z"
   },
   {
    "duration": 20,
    "start_time": "2024-03-06T09:33:55.710Z"
   },
   {
    "duration": 50,
    "start_time": "2024-03-06T09:33:55.733Z"
   },
   {
    "duration": 260,
    "start_time": "2024-03-06T09:33:55.785Z"
   },
   {
    "duration": 8,
    "start_time": "2024-03-06T09:33:56.046Z"
   },
   {
    "duration": 20,
    "start_time": "2024-03-06T09:33:56.055Z"
   },
   {
    "duration": 133,
    "start_time": "2024-03-06T09:33:56.077Z"
   },
   {
    "duration": 78,
    "start_time": "2024-03-06T09:33:56.212Z"
   },
   {
    "duration": 13,
    "start_time": "2024-03-06T09:33:56.291Z"
   },
   {
    "duration": 48,
    "start_time": "2024-03-06T09:33:56.316Z"
   },
   {
    "duration": 3,
    "start_time": "2024-03-06T09:33:56.366Z"
   },
   {
    "duration": 7,
    "start_time": "2024-03-06T09:33:56.371Z"
   },
   {
    "duration": 40,
    "start_time": "2024-03-06T09:33:56.380Z"
   },
   {
    "duration": 6,
    "start_time": "2024-03-06T09:33:56.427Z"
   },
   {
    "duration": 42,
    "start_time": "2024-03-06T09:33:56.436Z"
   },
   {
    "duration": 5,
    "start_time": "2024-03-06T09:33:56.479Z"
   },
   {
    "duration": 19,
    "start_time": "2024-03-06T09:33:56.486Z"
   },
   {
    "duration": 61,
    "start_time": "2024-03-06T09:33:56.507Z"
   },
   {
    "duration": 8,
    "start_time": "2024-03-06T09:33:56.570Z"
   },
   {
    "duration": 5,
    "start_time": "2024-03-06T09:39:57.146Z"
   },
   {
    "duration": 5,
    "start_time": "2024-03-06T09:40:20.537Z"
   },
   {
    "duration": 1220,
    "start_time": "2024-03-06T09:41:38.769Z"
   },
   {
    "duration": 75,
    "start_time": "2024-03-06T09:41:39.992Z"
   },
   {
    "duration": 11,
    "start_time": "2024-03-06T09:41:40.069Z"
   },
   {
    "duration": 64,
    "start_time": "2024-03-06T09:41:40.082Z"
   },
   {
    "duration": 66,
    "start_time": "2024-03-06T09:41:40.148Z"
   },
   {
    "duration": 97,
    "start_time": "2024-03-06T09:41:40.216Z"
   },
   {
    "duration": 19,
    "start_time": "2024-03-06T09:41:40.315Z"
   },
   {
    "duration": 21,
    "start_time": "2024-03-06T09:41:40.340Z"
   },
   {
    "duration": 17,
    "start_time": "2024-03-06T09:41:40.363Z"
   },
   {
    "duration": 51,
    "start_time": "2024-03-06T09:41:40.382Z"
   },
   {
    "duration": 84,
    "start_time": "2024-03-06T09:41:40.436Z"
   },
   {
    "duration": 39,
    "start_time": "2024-03-06T09:41:40.530Z"
   },
   {
    "duration": 71,
    "start_time": "2024-03-06T09:41:40.570Z"
   },
   {
    "duration": 53,
    "start_time": "2024-03-06T09:41:40.642Z"
   },
   {
    "duration": 42,
    "start_time": "2024-03-06T09:41:40.697Z"
   },
   {
    "duration": 35,
    "start_time": "2024-03-06T09:41:40.740Z"
   },
   {
    "duration": 44,
    "start_time": "2024-03-06T09:41:40.776Z"
   },
   {
    "duration": 10,
    "start_time": "2024-03-06T09:41:40.824Z"
   },
   {
    "duration": 451,
    "start_time": "2024-03-06T09:41:40.835Z"
   },
   {
    "duration": 15,
    "start_time": "2024-03-06T09:41:41.287Z"
   },
   {
    "duration": 31,
    "start_time": "2024-03-06T09:41:41.306Z"
   },
   {
    "duration": 294,
    "start_time": "2024-03-06T09:41:41.338Z"
   },
   {
    "duration": 9,
    "start_time": "2024-03-06T09:41:41.634Z"
   },
   {
    "duration": 6,
    "start_time": "2024-03-06T09:41:41.646Z"
   },
   {
    "duration": 349,
    "start_time": "2024-03-06T09:41:41.654Z"
   },
   {
    "duration": 35,
    "start_time": "2024-03-06T09:41:42.008Z"
   },
   {
    "duration": 8,
    "start_time": "2024-03-06T09:41:42.045Z"
   },
   {
    "duration": 20,
    "start_time": "2024-03-06T09:41:42.056Z"
   },
   {
    "duration": 367,
    "start_time": "2024-03-06T09:41:42.078Z"
   },
   {
    "duration": 11,
    "start_time": "2024-03-06T09:41:42.448Z"
   },
   {
    "duration": 20,
    "start_time": "2024-03-06T09:41:42.460Z"
   },
   {
    "duration": 386,
    "start_time": "2024-03-06T09:41:42.482Z"
   },
   {
    "duration": 196,
    "start_time": "2024-03-06T09:41:42.869Z"
   },
   {
    "duration": 181,
    "start_time": "2024-03-06T09:41:43.067Z"
   },
   {
    "duration": 8,
    "start_time": "2024-03-06T09:41:43.250Z"
   },
   {
    "duration": 92,
    "start_time": "2024-03-06T09:41:43.259Z"
   },
   {
    "duration": 202,
    "start_time": "2024-03-06T09:41:43.352Z"
   },
   {
    "duration": 7,
    "start_time": "2024-03-06T09:41:43.556Z"
   },
   {
    "duration": 17,
    "start_time": "2024-03-06T09:41:43.565Z"
   },
   {
    "duration": 87,
    "start_time": "2024-03-06T09:41:43.583Z"
   },
   {
    "duration": 109,
    "start_time": "2024-03-06T09:41:43.672Z"
   },
   {
    "duration": 59,
    "start_time": "2024-03-06T09:41:43.783Z"
   },
   {
    "duration": 44,
    "start_time": "2024-03-06T09:41:43.843Z"
   },
   {
    "duration": 23,
    "start_time": "2024-03-06T09:41:43.889Z"
   },
   {
    "duration": 15,
    "start_time": "2024-03-06T09:41:43.918Z"
   },
   {
    "duration": 17,
    "start_time": "2024-03-06T09:41:43.935Z"
   },
   {
    "duration": 50,
    "start_time": "2024-03-06T09:41:43.954Z"
   },
   {
    "duration": 45,
    "start_time": "2024-03-06T09:41:44.012Z"
   },
   {
    "duration": 6,
    "start_time": "2024-03-06T09:41:44.059Z"
   },
   {
    "duration": 14,
    "start_time": "2024-03-06T09:41:44.066Z"
   },
   {
    "duration": 70,
    "start_time": "2024-03-06T09:41:44.082Z"
   },
   {
    "duration": 8,
    "start_time": "2024-03-06T09:41:44.153Z"
   },
   {
    "duration": 38,
    "start_time": "2024-03-06T09:42:16.049Z"
   },
   {
    "duration": 47,
    "start_time": "2024-03-06T09:43:29.719Z"
   },
   {
    "duration": 59,
    "start_time": "2024-03-06T09:43:39.977Z"
   },
   {
    "duration": 52,
    "start_time": "2024-03-06T09:44:59.447Z"
   },
   {
    "duration": 1131,
    "start_time": "2024-03-06T09:45:07.261Z"
   },
   {
    "duration": 83,
    "start_time": "2024-03-06T09:45:08.394Z"
   },
   {
    "duration": 13,
    "start_time": "2024-03-06T09:45:08.479Z"
   },
   {
    "duration": 95,
    "start_time": "2024-03-06T09:45:08.493Z"
   },
   {
    "duration": 55,
    "start_time": "2024-03-06T09:45:08.591Z"
   },
   {
    "duration": 24,
    "start_time": "2024-03-06T09:45:08.647Z"
   },
   {
    "duration": 39,
    "start_time": "2024-03-06T09:45:08.673Z"
   },
   {
    "duration": 25,
    "start_time": "2024-03-06T09:45:08.713Z"
   },
   {
    "duration": 16,
    "start_time": "2024-03-06T09:45:08.739Z"
   },
   {
    "duration": 19,
    "start_time": "2024-03-06T09:45:08.757Z"
   },
   {
    "duration": 36,
    "start_time": "2024-03-06T09:45:08.777Z"
   },
   {
    "duration": 21,
    "start_time": "2024-03-06T09:45:08.815Z"
   },
   {
    "duration": 37,
    "start_time": "2024-03-06T09:45:08.837Z"
   },
   {
    "duration": 63,
    "start_time": "2024-03-06T09:45:08.877Z"
   },
   {
    "duration": 16,
    "start_time": "2024-03-06T09:45:08.942Z"
   },
   {
    "duration": 50,
    "start_time": "2024-03-06T09:45:08.960Z"
   },
   {
    "duration": 32,
    "start_time": "2024-03-06T09:45:09.011Z"
   },
   {
    "duration": 18,
    "start_time": "2024-03-06T09:45:09.045Z"
   },
   {
    "duration": 423,
    "start_time": "2024-03-06T09:45:09.065Z"
   },
   {
    "duration": 22,
    "start_time": "2024-03-06T09:45:09.490Z"
   },
   {
    "duration": 38,
    "start_time": "2024-03-06T09:45:09.513Z"
   },
   {
    "duration": 319,
    "start_time": "2024-03-06T09:45:09.553Z"
   },
   {
    "duration": 8,
    "start_time": "2024-03-06T09:45:09.874Z"
   },
   {
    "duration": 46,
    "start_time": "2024-03-06T09:45:09.884Z"
   },
   {
    "duration": 339,
    "start_time": "2024-03-06T09:45:09.934Z"
   },
   {
    "duration": 31,
    "start_time": "2024-03-06T09:45:10.274Z"
   },
   {
    "duration": 20,
    "start_time": "2024-03-06T09:45:10.317Z"
   },
   {
    "duration": 43,
    "start_time": "2024-03-06T09:45:10.342Z"
   },
   {
    "duration": 340,
    "start_time": "2024-03-06T09:45:10.387Z"
   },
   {
    "duration": 11,
    "start_time": "2024-03-06T09:45:10.731Z"
   },
   {
    "duration": 43,
    "start_time": "2024-03-06T09:45:10.744Z"
   },
   {
    "duration": 442,
    "start_time": "2024-03-06T09:45:10.789Z"
   },
   {
    "duration": 146,
    "start_time": "2024-03-06T09:45:11.233Z"
   },
   {
    "duration": 173,
    "start_time": "2024-03-06T09:45:11.381Z"
   },
   {
    "duration": 9,
    "start_time": "2024-03-06T09:45:11.556Z"
   },
   {
    "duration": 7,
    "start_time": "2024-03-06T09:45:11.568Z"
   },
   {
    "duration": 191,
    "start_time": "2024-03-06T09:45:11.577Z"
   },
   {
    "duration": 8,
    "start_time": "2024-03-06T09:45:11.770Z"
   },
   {
    "duration": 16,
    "start_time": "2024-03-06T09:45:11.780Z"
   },
   {
    "duration": 128,
    "start_time": "2024-03-06T09:45:11.797Z"
   },
   {
    "duration": 86,
    "start_time": "2024-03-06T09:45:11.932Z"
   },
   {
    "duration": 17,
    "start_time": "2024-03-06T09:45:12.024Z"
   },
   {
    "duration": 34,
    "start_time": "2024-03-06T09:45:12.045Z"
   },
   {
    "duration": 31,
    "start_time": "2024-03-06T09:45:12.081Z"
   },
   {
    "duration": 23,
    "start_time": "2024-03-06T09:45:12.118Z"
   },
   {
    "duration": 31,
    "start_time": "2024-03-06T09:45:12.142Z"
   },
   {
    "duration": 41,
    "start_time": "2024-03-06T09:45:12.175Z"
   },
   {
    "duration": 18,
    "start_time": "2024-03-06T09:45:12.225Z"
   },
   {
    "duration": 22,
    "start_time": "2024-03-06T09:45:12.245Z"
   },
   {
    "duration": 12,
    "start_time": "2024-03-06T09:45:12.268Z"
   },
   {
    "duration": 74,
    "start_time": "2024-03-06T09:45:12.282Z"
   },
   {
    "duration": 9,
    "start_time": "2024-03-06T09:45:12.358Z"
   },
   {
    "duration": 97,
    "start_time": "2024-03-06T09:48:06.772Z"
   },
   {
    "duration": 1196,
    "start_time": "2024-03-06T09:48:14.642Z"
   },
   {
    "duration": 84,
    "start_time": "2024-03-06T09:48:15.845Z"
   },
   {
    "duration": 13,
    "start_time": "2024-03-06T09:48:15.931Z"
   },
   {
    "duration": 40,
    "start_time": "2024-03-06T09:48:15.946Z"
   },
   {
    "duration": 54,
    "start_time": "2024-03-06T09:48:15.989Z"
   },
   {
    "duration": 40,
    "start_time": "2024-03-06T09:48:16.045Z"
   },
   {
    "duration": 62,
    "start_time": "2024-03-06T09:48:16.087Z"
   },
   {
    "duration": 39,
    "start_time": "2024-03-06T09:48:16.152Z"
   },
   {
    "duration": 81,
    "start_time": "2024-03-06T09:48:16.193Z"
   },
   {
    "duration": 44,
    "start_time": "2024-03-06T09:48:16.278Z"
   },
   {
    "duration": 36,
    "start_time": "2024-03-06T09:48:16.327Z"
   },
   {
    "duration": 61,
    "start_time": "2024-03-06T09:48:16.365Z"
   },
   {
    "duration": 42,
    "start_time": "2024-03-06T09:48:16.428Z"
   },
   {
    "duration": 84,
    "start_time": "2024-03-06T09:48:16.472Z"
   },
   {
    "duration": 34,
    "start_time": "2024-03-06T09:48:16.558Z"
   },
   {
    "duration": 181,
    "start_time": "2024-03-06T09:48:16.598Z"
   },
   {
    "duration": 0,
    "start_time": "2024-03-06T09:48:16.781Z"
   },
   {
    "duration": 0,
    "start_time": "2024-03-06T09:48:16.782Z"
   },
   {
    "duration": 0,
    "start_time": "2024-03-06T09:48:16.783Z"
   },
   {
    "duration": 0,
    "start_time": "2024-03-06T09:48:16.784Z"
   },
   {
    "duration": 0,
    "start_time": "2024-03-06T09:48:16.785Z"
   },
   {
    "duration": 0,
    "start_time": "2024-03-06T09:48:16.786Z"
   },
   {
    "duration": 0,
    "start_time": "2024-03-06T09:48:16.787Z"
   },
   {
    "duration": 0,
    "start_time": "2024-03-06T09:48:16.788Z"
   },
   {
    "duration": 0,
    "start_time": "2024-03-06T09:48:16.788Z"
   },
   {
    "duration": 0,
    "start_time": "2024-03-06T09:48:16.789Z"
   },
   {
    "duration": 0,
    "start_time": "2024-03-06T09:48:16.793Z"
   },
   {
    "duration": 0,
    "start_time": "2024-03-06T09:48:16.794Z"
   },
   {
    "duration": 0,
    "start_time": "2024-03-06T09:48:16.794Z"
   },
   {
    "duration": 0,
    "start_time": "2024-03-06T09:48:16.795Z"
   },
   {
    "duration": 0,
    "start_time": "2024-03-06T09:48:16.796Z"
   },
   {
    "duration": 0,
    "start_time": "2024-03-06T09:48:16.796Z"
   },
   {
    "duration": 0,
    "start_time": "2024-03-06T09:48:16.797Z"
   },
   {
    "duration": 0,
    "start_time": "2024-03-06T09:48:16.801Z"
   },
   {
    "duration": 1,
    "start_time": "2024-03-06T09:48:16.801Z"
   },
   {
    "duration": 0,
    "start_time": "2024-03-06T09:48:16.802Z"
   },
   {
    "duration": 0,
    "start_time": "2024-03-06T09:48:16.803Z"
   },
   {
    "duration": 0,
    "start_time": "2024-03-06T09:48:16.803Z"
   },
   {
    "duration": 0,
    "start_time": "2024-03-06T09:48:16.804Z"
   },
   {
    "duration": 0,
    "start_time": "2024-03-06T09:48:16.805Z"
   },
   {
    "duration": 0,
    "start_time": "2024-03-06T09:48:16.805Z"
   },
   {
    "duration": 0,
    "start_time": "2024-03-06T09:48:16.806Z"
   },
   {
    "duration": 0,
    "start_time": "2024-03-06T09:48:16.807Z"
   },
   {
    "duration": 0,
    "start_time": "2024-03-06T09:48:16.813Z"
   },
   {
    "duration": 0,
    "start_time": "2024-03-06T09:48:16.813Z"
   },
   {
    "duration": 0,
    "start_time": "2024-03-06T09:48:16.814Z"
   },
   {
    "duration": 0,
    "start_time": "2024-03-06T09:48:16.814Z"
   },
   {
    "duration": 0,
    "start_time": "2024-03-06T09:48:16.815Z"
   },
   {
    "duration": 0,
    "start_time": "2024-03-06T09:48:16.816Z"
   },
   {
    "duration": 0,
    "start_time": "2024-03-06T09:48:16.816Z"
   },
   {
    "duration": 0,
    "start_time": "2024-03-06T09:48:16.817Z"
   },
   {
    "duration": 0,
    "start_time": "2024-03-06T09:48:16.818Z"
   },
   {
    "duration": 0,
    "start_time": "2024-03-06T09:48:16.819Z"
   },
   {
    "duration": 12,
    "start_time": "2024-03-06T09:49:00.617Z"
   },
   {
    "duration": 5,
    "start_time": "2024-03-06T09:49:01.966Z"
   },
   {
    "duration": 12,
    "start_time": "2024-03-06T09:49:02.892Z"
   },
   {
    "duration": 8,
    "start_time": "2024-03-06T09:49:03.128Z"
   },
   {
    "duration": 426,
    "start_time": "2024-03-06T09:49:03.321Z"
   },
   {
    "duration": 1211,
    "start_time": "2024-03-06T09:49:07.269Z"
   },
   {
    "duration": 77,
    "start_time": "2024-03-06T09:49:08.482Z"
   },
   {
    "duration": 13,
    "start_time": "2024-03-06T09:49:08.560Z"
   },
   {
    "duration": 53,
    "start_time": "2024-03-06T09:49:08.575Z"
   },
   {
    "duration": 24,
    "start_time": "2024-03-06T09:49:08.630Z"
   },
   {
    "duration": 19,
    "start_time": "2024-03-06T09:49:08.656Z"
   },
   {
    "duration": 12,
    "start_time": "2024-03-06T09:49:08.676Z"
   },
   {
    "duration": 44,
    "start_time": "2024-03-06T09:49:08.689Z"
   },
   {
    "duration": 11,
    "start_time": "2024-03-06T09:49:08.741Z"
   },
   {
    "duration": 21,
    "start_time": "2024-03-06T09:49:08.755Z"
   },
   {
    "duration": 30,
    "start_time": "2024-03-06T09:49:08.777Z"
   },
   {
    "duration": 27,
    "start_time": "2024-03-06T09:49:08.818Z"
   },
   {
    "duration": 15,
    "start_time": "2024-03-06T09:49:08.847Z"
   },
   {
    "duration": 44,
    "start_time": "2024-03-06T09:49:08.863Z"
   },
   {
    "duration": 10,
    "start_time": "2024-03-06T09:49:08.909Z"
   },
   {
    "duration": 21,
    "start_time": "2024-03-06T09:49:08.921Z"
   },
   {
    "duration": 29,
    "start_time": "2024-03-06T09:49:08.944Z"
   },
   {
    "duration": 12,
    "start_time": "2024-03-06T09:49:08.974Z"
   },
   {
    "duration": 413,
    "start_time": "2024-03-06T09:49:08.988Z"
   },
   {
    "duration": 10,
    "start_time": "2024-03-06T09:49:09.409Z"
   },
   {
    "duration": 31,
    "start_time": "2024-03-06T09:49:09.423Z"
   },
   {
    "duration": 294,
    "start_time": "2024-03-06T09:49:09.455Z"
   },
   {
    "duration": 9,
    "start_time": "2024-03-06T09:49:09.751Z"
   },
   {
    "duration": 21,
    "start_time": "2024-03-06T09:49:09.761Z"
   },
   {
    "duration": 396,
    "start_time": "2024-03-06T09:49:09.784Z"
   },
   {
    "duration": 41,
    "start_time": "2024-03-06T09:49:10.182Z"
   },
   {
    "duration": 32,
    "start_time": "2024-03-06T09:49:10.237Z"
   },
   {
    "duration": 47,
    "start_time": "2024-03-06T09:49:10.273Z"
   },
   {
    "duration": 340,
    "start_time": "2024-03-06T09:49:10.322Z"
   },
   {
    "duration": 8,
    "start_time": "2024-03-06T09:49:10.664Z"
   },
   {
    "duration": 15,
    "start_time": "2024-03-06T09:49:10.673Z"
   },
   {
    "duration": 424,
    "start_time": "2024-03-06T09:49:10.690Z"
   },
   {
    "duration": 148,
    "start_time": "2024-03-06T09:49:11.123Z"
   },
   {
    "duration": 236,
    "start_time": "2024-03-06T09:49:11.273Z"
   },
   {
    "duration": 14,
    "start_time": "2024-03-06T09:49:11.510Z"
   },
   {
    "duration": 31,
    "start_time": "2024-03-06T09:49:11.525Z"
   },
   {
    "duration": 279,
    "start_time": "2024-03-06T09:49:11.557Z"
   },
   {
    "duration": 10,
    "start_time": "2024-03-06T09:49:11.841Z"
   },
   {
    "duration": 64,
    "start_time": "2024-03-06T09:49:11.852Z"
   },
   {
    "duration": 168,
    "start_time": "2024-03-06T09:49:11.918Z"
   },
   {
    "duration": 91,
    "start_time": "2024-03-06T09:49:12.088Z"
   },
   {
    "duration": 6,
    "start_time": "2024-03-06T09:49:12.181Z"
   },
   {
    "duration": 60,
    "start_time": "2024-03-06T09:49:12.189Z"
   },
   {
    "duration": 71,
    "start_time": "2024-03-06T09:49:12.250Z"
   },
   {
    "duration": 11,
    "start_time": "2024-03-06T09:49:12.328Z"
   },
   {
    "duration": 17,
    "start_time": "2024-03-06T09:49:12.341Z"
   },
   {
    "duration": 15,
    "start_time": "2024-03-06T09:49:12.359Z"
   },
   {
    "duration": 51,
    "start_time": "2024-03-06T09:49:12.375Z"
   },
   {
    "duration": 13,
    "start_time": "2024-03-06T09:49:12.427Z"
   },
   {
    "duration": 16,
    "start_time": "2024-03-06T09:49:12.441Z"
   },
   {
    "duration": 51,
    "start_time": "2024-03-06T09:49:12.459Z"
   },
   {
    "duration": 19,
    "start_time": "2024-03-06T09:49:12.511Z"
   },
   {
    "duration": 6,
    "start_time": "2024-03-06T09:51:06.689Z"
   },
   {
    "duration": 267,
    "start_time": "2024-03-06T10:28:23.710Z"
   },
   {
    "duration": 356,
    "start_time": "2024-03-06T10:28:39.770Z"
   },
   {
    "duration": 392,
    "start_time": "2024-03-06T10:29:50.501Z"
   },
   {
    "duration": 329,
    "start_time": "2024-03-06T10:30:47.576Z"
   },
   {
    "duration": 327,
    "start_time": "2024-03-06T10:34:13.830Z"
   },
   {
    "duration": 291,
    "start_time": "2024-03-06T10:34:25.776Z"
   },
   {
    "duration": 331,
    "start_time": "2024-03-06T10:35:27.959Z"
   },
   {
    "duration": 340,
    "start_time": "2024-03-06T10:36:54.304Z"
   },
   {
    "duration": 8,
    "start_time": "2024-03-06T10:37:22.972Z"
   },
   {
    "duration": 5,
    "start_time": "2024-03-06T10:37:51.279Z"
   },
   {
    "duration": 255,
    "start_time": "2024-03-06T10:39:20.517Z"
   },
   {
    "duration": 282,
    "start_time": "2024-03-06T10:39:39.756Z"
   },
   {
    "duration": 400,
    "start_time": "2024-03-06T10:40:03.217Z"
   },
   {
    "duration": 313,
    "start_time": "2024-03-06T10:40:23.539Z"
   },
   {
    "duration": 415,
    "start_time": "2024-03-06T10:40:45.850Z"
   },
   {
    "duration": 306,
    "start_time": "2024-03-06T10:41:27.295Z"
   },
   {
    "duration": 13,
    "start_time": "2024-03-06T10:41:55.010Z"
   },
   {
    "duration": 15,
    "start_time": "2024-03-06T10:42:05.110Z"
   },
   {
    "duration": 5,
    "start_time": "2024-03-06T10:42:12.178Z"
   },
   {
    "duration": 183,
    "start_time": "2024-03-06T10:42:35.656Z"
   },
   {
    "duration": 5,
    "start_time": "2024-03-06T10:42:43.130Z"
   },
   {
    "duration": 18,
    "start_time": "2024-03-06T10:43:00.201Z"
   },
   {
    "duration": 4,
    "start_time": "2024-03-06T10:43:08.755Z"
   },
   {
    "duration": 19,
    "start_time": "2024-03-06T10:43:09.003Z"
   },
   {
    "duration": 11,
    "start_time": "2024-03-06T10:43:09.215Z"
   },
   {
    "duration": 9,
    "start_time": "2024-03-06T10:43:09.522Z"
   },
   {
    "duration": 1182,
    "start_time": "2024-03-06T10:43:13.689Z"
   },
   {
    "duration": 88,
    "start_time": "2024-03-06T10:43:14.872Z"
   },
   {
    "duration": 13,
    "start_time": "2024-03-06T10:43:14.962Z"
   },
   {
    "duration": 38,
    "start_time": "2024-03-06T10:43:14.977Z"
   },
   {
    "duration": 92,
    "start_time": "2024-03-06T10:43:15.017Z"
   },
   {
    "duration": 193,
    "start_time": "2024-03-06T10:43:15.120Z"
   },
   {
    "duration": 124,
    "start_time": "2024-03-06T10:43:15.314Z"
   },
   {
    "duration": 41,
    "start_time": "2024-03-06T10:43:15.440Z"
   },
   {
    "duration": 54,
    "start_time": "2024-03-06T10:43:15.482Z"
   },
   {
    "duration": 58,
    "start_time": "2024-03-06T10:43:15.539Z"
   },
   {
    "duration": 44,
    "start_time": "2024-03-06T10:43:15.599Z"
   },
   {
    "duration": 42,
    "start_time": "2024-03-06T10:43:15.645Z"
   },
   {
    "duration": 43,
    "start_time": "2024-03-06T10:43:15.688Z"
   },
   {
    "duration": 37,
    "start_time": "2024-03-06T10:43:15.733Z"
   },
   {
    "duration": 51,
    "start_time": "2024-03-06T10:43:15.772Z"
   },
   {
    "duration": 453,
    "start_time": "2024-03-06T10:43:15.828Z"
   },
   {
    "duration": 277,
    "start_time": "2024-03-06T10:43:16.283Z"
   },
   {
    "duration": 379,
    "start_time": "2024-03-06T10:43:16.561Z"
   },
   {
    "duration": 317,
    "start_time": "2024-03-06T10:43:16.941Z"
   },
   {
    "duration": 377,
    "start_time": "2024-03-06T10:43:17.260Z"
   },
   {
    "duration": 296,
    "start_time": "2024-03-06T10:43:17.638Z"
   },
   {
    "duration": 8,
    "start_time": "2024-03-06T10:43:17.936Z"
   },
   {
    "duration": 13,
    "start_time": "2024-03-06T10:43:17.945Z"
   },
   {
    "duration": 175,
    "start_time": "2024-03-06T10:43:17.960Z"
   },
   {
    "duration": 7,
    "start_time": "2024-03-06T10:43:18.137Z"
   },
   {
    "duration": 7,
    "start_time": "2024-03-06T10:43:18.145Z"
   },
   {
    "duration": 84,
    "start_time": "2024-03-06T10:43:18.154Z"
   },
   {
    "duration": 95,
    "start_time": "2024-03-06T10:43:18.241Z"
   },
   {
    "duration": 6,
    "start_time": "2024-03-06T10:43:18.337Z"
   },
   {
    "duration": 24,
    "start_time": "2024-03-06T10:43:18.345Z"
   },
   {
    "duration": 3,
    "start_time": "2024-03-06T10:43:18.370Z"
   },
   {
    "duration": 51,
    "start_time": "2024-03-06T10:43:18.374Z"
   },
   {
    "duration": 5,
    "start_time": "2024-03-06T10:43:18.431Z"
   },
   {
    "duration": 7,
    "start_time": "2024-03-06T10:43:18.438Z"
   },
   {
    "duration": 8,
    "start_time": "2024-03-06T10:43:18.446Z"
   },
   {
    "duration": 4,
    "start_time": "2024-03-06T10:43:18.456Z"
   },
   {
    "duration": 7,
    "start_time": "2024-03-06T10:43:18.461Z"
   },
   {
    "duration": 68,
    "start_time": "2024-03-06T10:43:18.470Z"
   },
   {
    "duration": 9,
    "start_time": "2024-03-06T10:43:18.540Z"
   },
   {
    "duration": 35,
    "start_time": "2024-03-06T10:50:34.445Z"
   },
   {
    "duration": 1103,
    "start_time": "2024-03-06T10:50:41.742Z"
   },
   {
    "duration": 80,
    "start_time": "2024-03-06T10:50:42.847Z"
   },
   {
    "duration": 12,
    "start_time": "2024-03-06T10:50:42.929Z"
   },
   {
    "duration": 41,
    "start_time": "2024-03-06T10:50:42.944Z"
   },
   {
    "duration": 30,
    "start_time": "2024-03-06T10:50:42.987Z"
   },
   {
    "duration": 34,
    "start_time": "2024-03-06T10:50:43.019Z"
   },
   {
    "duration": 67,
    "start_time": "2024-03-06T10:50:43.055Z"
   },
   {
    "duration": 45,
    "start_time": "2024-03-06T10:50:43.124Z"
   },
   {
    "duration": 53,
    "start_time": "2024-03-06T10:50:43.171Z"
   },
   {
    "duration": 26,
    "start_time": "2024-03-06T10:50:43.226Z"
   },
   {
    "duration": 30,
    "start_time": "2024-03-06T10:50:43.253Z"
   },
   {
    "duration": 14,
    "start_time": "2024-03-06T10:50:43.285Z"
   },
   {
    "duration": 22,
    "start_time": "2024-03-06T10:50:43.301Z"
   },
   {
    "duration": 33,
    "start_time": "2024-03-06T10:50:43.325Z"
   },
   {
    "duration": 10,
    "start_time": "2024-03-06T10:50:43.359Z"
   },
   {
    "duration": 356,
    "start_time": "2024-03-06T10:50:43.371Z"
   },
   {
    "duration": 273,
    "start_time": "2024-03-06T10:50:43.728Z"
   },
   {
    "duration": 332,
    "start_time": "2024-03-06T10:50:44.012Z"
   },
   {
    "duration": 289,
    "start_time": "2024-03-06T10:50:44.345Z"
   },
   {
    "duration": 315,
    "start_time": "2024-03-06T10:50:44.636Z"
   },
   {
    "duration": 284,
    "start_time": "2024-03-06T10:50:44.952Z"
   },
   {
    "duration": 9,
    "start_time": "2024-03-06T10:50:45.238Z"
   },
   {
    "duration": 91,
    "start_time": "2024-03-06T10:50:45.249Z"
   },
   {
    "duration": 185,
    "start_time": "2024-03-06T10:50:45.341Z"
   },
   {
    "duration": 7,
    "start_time": "2024-03-06T10:50:45.528Z"
   },
   {
    "duration": 21,
    "start_time": "2024-03-06T10:50:45.537Z"
   },
   {
    "duration": 120,
    "start_time": "2024-03-06T10:50:45.559Z"
   },
   {
    "duration": 87,
    "start_time": "2024-03-06T10:50:45.682Z"
   },
   {
    "duration": 36,
    "start_time": "2024-03-06T10:50:45.771Z"
   },
   {
    "duration": 24,
    "start_time": "2024-03-06T10:50:45.815Z"
   },
   {
    "duration": 3,
    "start_time": "2024-03-06T10:50:45.840Z"
   },
   {
    "duration": 6,
    "start_time": "2024-03-06T10:50:45.845Z"
   },
   {
    "duration": 10,
    "start_time": "2024-03-06T10:50:45.852Z"
   },
   {
    "duration": 23,
    "start_time": "2024-03-06T10:50:45.863Z"
   },
   {
    "duration": 21,
    "start_time": "2024-03-06T10:50:45.888Z"
   },
   {
    "duration": 10,
    "start_time": "2024-03-06T10:50:45.911Z"
   },
   {
    "duration": 7,
    "start_time": "2024-03-06T10:50:45.922Z"
   },
   {
    "duration": 50,
    "start_time": "2024-03-06T10:50:45.931Z"
   },
   {
    "duration": 8,
    "start_time": "2024-03-06T10:50:45.983Z"
   },
   {
    "duration": 39,
    "start_time": "2024-03-06T10:51:38.925Z"
   },
   {
    "duration": 52,
    "start_time": "2024-03-06T10:51:45.179Z"
   },
   {
    "duration": 50,
    "start_time": "2024-03-06T10:51:50.469Z"
   },
   {
    "duration": 11,
    "start_time": "2024-03-06T10:52:21.188Z"
   },
   {
    "duration": 1129,
    "start_time": "2024-03-06T10:53:05.080Z"
   },
   {
    "duration": 75,
    "start_time": "2024-03-06T10:53:06.215Z"
   },
   {
    "duration": 27,
    "start_time": "2024-03-06T10:53:06.291Z"
   },
   {
    "duration": 10,
    "start_time": "2024-03-06T10:53:06.322Z"
   },
   {
    "duration": 30,
    "start_time": "2024-03-06T10:53:06.333Z"
   },
   {
    "duration": 11,
    "start_time": "2024-03-06T10:53:06.365Z"
   },
   {
    "duration": 30,
    "start_time": "2024-03-06T10:53:06.378Z"
   },
   {
    "duration": 13,
    "start_time": "2024-03-06T10:53:06.413Z"
   },
   {
    "duration": 11,
    "start_time": "2024-03-06T10:53:06.427Z"
   },
   {
    "duration": 15,
    "start_time": "2024-03-06T10:53:06.440Z"
   },
   {
    "duration": 22,
    "start_time": "2024-03-06T10:53:06.456Z"
   },
   {
    "duration": 14,
    "start_time": "2024-03-06T10:53:06.479Z"
   },
   {
    "duration": 24,
    "start_time": "2024-03-06T10:53:06.497Z"
   },
   {
    "duration": 24,
    "start_time": "2024-03-06T10:53:06.522Z"
   },
   {
    "duration": 15,
    "start_time": "2024-03-06T10:53:06.547Z"
   },
   {
    "duration": 347,
    "start_time": "2024-03-06T10:53:06.564Z"
   },
   {
    "duration": 240,
    "start_time": "2024-03-06T10:53:06.912Z"
   },
   {
    "duration": 332,
    "start_time": "2024-03-06T10:53:07.154Z"
   },
   {
    "duration": 298,
    "start_time": "2024-03-06T10:53:07.488Z"
   },
   {
    "duration": 352,
    "start_time": "2024-03-06T10:53:07.787Z"
   },
   {
    "duration": 282,
    "start_time": "2024-03-06T10:53:08.140Z"
   },
   {
    "duration": 7,
    "start_time": "2024-03-06T10:53:08.423Z"
   },
   {
    "duration": 34,
    "start_time": "2024-03-06T10:53:08.431Z"
   },
   {
    "duration": 190,
    "start_time": "2024-03-06T10:53:08.467Z"
   },
   {
    "duration": 9,
    "start_time": "2024-03-06T10:53:08.659Z"
   },
   {
    "duration": 38,
    "start_time": "2024-03-06T10:53:08.669Z"
   },
   {
    "duration": 80,
    "start_time": "2024-03-06T10:53:08.711Z"
   },
   {
    "duration": 80,
    "start_time": "2024-03-06T10:53:08.795Z"
   },
   {
    "duration": 12,
    "start_time": "2024-03-06T10:53:08.877Z"
   },
   {
    "duration": 39,
    "start_time": "2024-03-06T10:53:08.891Z"
   },
   {
    "duration": 17,
    "start_time": "2024-03-06T10:53:08.932Z"
   },
   {
    "duration": 30,
    "start_time": "2024-03-06T10:53:08.951Z"
   },
   {
    "duration": 24,
    "start_time": "2024-03-06T10:53:08.982Z"
   },
   {
    "duration": 7,
    "start_time": "2024-03-06T10:53:09.012Z"
   },
   {
    "duration": 23,
    "start_time": "2024-03-06T10:53:09.021Z"
   },
   {
    "duration": 11,
    "start_time": "2024-03-06T10:53:09.046Z"
   },
   {
    "duration": 7,
    "start_time": "2024-03-06T10:53:09.059Z"
   },
   {
    "duration": 62,
    "start_time": "2024-03-06T10:53:09.068Z"
   },
   {
    "duration": 7,
    "start_time": "2024-03-06T10:53:09.132Z"
   },
   {
    "duration": 40,
    "start_time": "2024-03-06T10:54:00.512Z"
   }
  ],
  "kernelspec": {
   "display_name": "Python 3 (ipykernel)",
   "language": "python",
   "name": "python3"
  },
  "language_info": {
   "codemirror_mode": {
    "name": "ipython",
    "version": 3
   },
   "file_extension": ".py",
   "mimetype": "text/x-python",
   "name": "python",
   "nbconvert_exporter": "python",
   "pygments_lexer": "ipython3",
   "version": "3.9.5"
  },
  "toc": {
   "base_numbering": 1,
   "nav_menu": {},
   "number_sections": true,
   "sideBar": true,
   "skip_h1_title": true,
   "title_cell": "Table of Contents",
   "title_sidebar": "Contents",
   "toc_cell": false,
   "toc_position": {},
   "toc_section_display": true,
   "toc_window_display": false
  }
 },
 "nbformat": 4,
 "nbformat_minor": 2
}
