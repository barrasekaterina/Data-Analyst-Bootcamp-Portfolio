{
 "cells": [
  {
   "cell_type": "markdown",
   "id": "386f2ae7",
   "metadata": {
    "deletable": false,
    "editable": false,
    "id": "386f2ae7"
   },
   "source": [
    "# Исследование надежности заемщиков\n"
   ]
  },
  {
   "cell_type": "markdown",
   "id": "ffe86f65",
   "metadata": {
    "deletable": false,
    "editable": false,
    "id": "ffe86f65"
   },
   "source": [
    "Во второй части проекта вы выполните шаги 3 и 4. Их вручную проверит ревьюер.\n",
    "Чтобы вам не пришлось писать код заново для шагов 1 и 2, мы добавили авторские решения в ячейки с кодом. \n",
    "\n"
   ]
  },
  {
   "cell_type": "markdown",
   "id": "26613308",
   "metadata": {
    "deletable": false,
    "editable": false,
    "id": "26613308"
   },
   "source": [
    "## Откройте таблицу и изучите общую информацию о данных"
   ]
  },
  {
   "cell_type": "markdown",
   "id": "3c9f838e",
   "metadata": {
    "deletable": false,
    "editable": false,
    "id": "3c9f838e"
   },
   "source": [
    "**Задание 1. Импортируйте библиотеку pandas. Считайте данные из csv-файла в датафрейм и сохраните в переменную `data`. Путь к файлу:**\n",
    "\n",
    "`/datasets/data.csv`"
   ]
  },
  {
   "cell_type": "code",
   "execution_count": 1,
   "id": "77a68a90",
   "metadata": {
    "deletable": false,
    "id": "77a68a90"
   },
   "outputs": [],
   "source": [
    "import pandas as pd\n",
    "\n",
    "try:\n",
    "    data = pd.read_csv('/datasets/data.csv')\n",
    "except:\n",
    "    data = pd.read_csv('https://code.s3.yandex.net/datasets/data.csv')"
   ]
  },
  {
   "cell_type": "markdown",
   "id": "45365635",
   "metadata": {
    "deletable": false,
    "editable": false,
    "id": "45365635"
   },
   "source": [
    "**Задание 2. Выведите первые 20 строчек датафрейма `data` на экран.**"
   ]
  },
  {
   "cell_type": "code",
   "execution_count": 2,
   "id": "b0451a9a",
   "metadata": {
    "deletable": false,
    "id": "b0451a9a",
    "outputId": "1a8f3ef2-d323-4ec2-ddf7-89670b5944c4"
   },
   "outputs": [
    {
     "data": {
      "text/html": [
       "<div>\n",
       "<style scoped>\n",
       "    .dataframe tbody tr th:only-of-type {\n",
       "        vertical-align: middle;\n",
       "    }\n",
       "\n",
       "    .dataframe tbody tr th {\n",
       "        vertical-align: top;\n",
       "    }\n",
       "\n",
       "    .dataframe thead th {\n",
       "        text-align: right;\n",
       "    }\n",
       "</style>\n",
       "<table border=\"1\" class=\"dataframe\">\n",
       "  <thead>\n",
       "    <tr style=\"text-align: right;\">\n",
       "      <th></th>\n",
       "      <th>children</th>\n",
       "      <th>days_employed</th>\n",
       "      <th>dob_years</th>\n",
       "      <th>education</th>\n",
       "      <th>education_id</th>\n",
       "      <th>family_status</th>\n",
       "      <th>family_status_id</th>\n",
       "      <th>gender</th>\n",
       "      <th>income_type</th>\n",
       "      <th>debt</th>\n",
       "      <th>total_income</th>\n",
       "      <th>purpose</th>\n",
       "    </tr>\n",
       "  </thead>\n",
       "  <tbody>\n",
       "    <tr>\n",
       "      <th>0</th>\n",
       "      <td>1</td>\n",
       "      <td>-8437.673028</td>\n",
       "      <td>42</td>\n",
       "      <td>высшее</td>\n",
       "      <td>0</td>\n",
       "      <td>женат / замужем</td>\n",
       "      <td>0</td>\n",
       "      <td>F</td>\n",
       "      <td>сотрудник</td>\n",
       "      <td>0</td>\n",
       "      <td>253875.639453</td>\n",
       "      <td>покупка жилья</td>\n",
       "    </tr>\n",
       "    <tr>\n",
       "      <th>1</th>\n",
       "      <td>1</td>\n",
       "      <td>-4024.803754</td>\n",
       "      <td>36</td>\n",
       "      <td>среднее</td>\n",
       "      <td>1</td>\n",
       "      <td>женат / замужем</td>\n",
       "      <td>0</td>\n",
       "      <td>F</td>\n",
       "      <td>сотрудник</td>\n",
       "      <td>0</td>\n",
       "      <td>112080.014102</td>\n",
       "      <td>приобретение автомобиля</td>\n",
       "    </tr>\n",
       "    <tr>\n",
       "      <th>2</th>\n",
       "      <td>0</td>\n",
       "      <td>-5623.422610</td>\n",
       "      <td>33</td>\n",
       "      <td>Среднее</td>\n",
       "      <td>1</td>\n",
       "      <td>женат / замужем</td>\n",
       "      <td>0</td>\n",
       "      <td>M</td>\n",
       "      <td>сотрудник</td>\n",
       "      <td>0</td>\n",
       "      <td>145885.952297</td>\n",
       "      <td>покупка жилья</td>\n",
       "    </tr>\n",
       "    <tr>\n",
       "      <th>3</th>\n",
       "      <td>3</td>\n",
       "      <td>-4124.747207</td>\n",
       "      <td>32</td>\n",
       "      <td>среднее</td>\n",
       "      <td>1</td>\n",
       "      <td>женат / замужем</td>\n",
       "      <td>0</td>\n",
       "      <td>M</td>\n",
       "      <td>сотрудник</td>\n",
       "      <td>0</td>\n",
       "      <td>267628.550329</td>\n",
       "      <td>дополнительное образование</td>\n",
       "    </tr>\n",
       "    <tr>\n",
       "      <th>4</th>\n",
       "      <td>0</td>\n",
       "      <td>340266.072047</td>\n",
       "      <td>53</td>\n",
       "      <td>среднее</td>\n",
       "      <td>1</td>\n",
       "      <td>гражданский брак</td>\n",
       "      <td>1</td>\n",
       "      <td>F</td>\n",
       "      <td>пенсионер</td>\n",
       "      <td>0</td>\n",
       "      <td>158616.077870</td>\n",
       "      <td>сыграть свадьбу</td>\n",
       "    </tr>\n",
       "    <tr>\n",
       "      <th>5</th>\n",
       "      <td>0</td>\n",
       "      <td>-926.185831</td>\n",
       "      <td>27</td>\n",
       "      <td>высшее</td>\n",
       "      <td>0</td>\n",
       "      <td>гражданский брак</td>\n",
       "      <td>1</td>\n",
       "      <td>M</td>\n",
       "      <td>компаньон</td>\n",
       "      <td>0</td>\n",
       "      <td>255763.565419</td>\n",
       "      <td>покупка жилья</td>\n",
       "    </tr>\n",
       "    <tr>\n",
       "      <th>6</th>\n",
       "      <td>0</td>\n",
       "      <td>-2879.202052</td>\n",
       "      <td>43</td>\n",
       "      <td>высшее</td>\n",
       "      <td>0</td>\n",
       "      <td>женат / замужем</td>\n",
       "      <td>0</td>\n",
       "      <td>F</td>\n",
       "      <td>компаньон</td>\n",
       "      <td>0</td>\n",
       "      <td>240525.971920</td>\n",
       "      <td>операции с жильем</td>\n",
       "    </tr>\n",
       "    <tr>\n",
       "      <th>7</th>\n",
       "      <td>0</td>\n",
       "      <td>-152.779569</td>\n",
       "      <td>50</td>\n",
       "      <td>СРЕДНЕЕ</td>\n",
       "      <td>1</td>\n",
       "      <td>женат / замужем</td>\n",
       "      <td>0</td>\n",
       "      <td>M</td>\n",
       "      <td>сотрудник</td>\n",
       "      <td>0</td>\n",
       "      <td>135823.934197</td>\n",
       "      <td>образование</td>\n",
       "    </tr>\n",
       "    <tr>\n",
       "      <th>8</th>\n",
       "      <td>2</td>\n",
       "      <td>-6929.865299</td>\n",
       "      <td>35</td>\n",
       "      <td>ВЫСШЕЕ</td>\n",
       "      <td>0</td>\n",
       "      <td>гражданский брак</td>\n",
       "      <td>1</td>\n",
       "      <td>F</td>\n",
       "      <td>сотрудник</td>\n",
       "      <td>0</td>\n",
       "      <td>95856.832424</td>\n",
       "      <td>на проведение свадьбы</td>\n",
       "    </tr>\n",
       "    <tr>\n",
       "      <th>9</th>\n",
       "      <td>0</td>\n",
       "      <td>-2188.756445</td>\n",
       "      <td>41</td>\n",
       "      <td>среднее</td>\n",
       "      <td>1</td>\n",
       "      <td>женат / замужем</td>\n",
       "      <td>0</td>\n",
       "      <td>M</td>\n",
       "      <td>сотрудник</td>\n",
       "      <td>0</td>\n",
       "      <td>144425.938277</td>\n",
       "      <td>покупка жилья для семьи</td>\n",
       "    </tr>\n",
       "    <tr>\n",
       "      <th>10</th>\n",
       "      <td>2</td>\n",
       "      <td>-4171.483647</td>\n",
       "      <td>36</td>\n",
       "      <td>высшее</td>\n",
       "      <td>0</td>\n",
       "      <td>женат / замужем</td>\n",
       "      <td>0</td>\n",
       "      <td>M</td>\n",
       "      <td>компаньон</td>\n",
       "      <td>0</td>\n",
       "      <td>113943.491460</td>\n",
       "      <td>покупка недвижимости</td>\n",
       "    </tr>\n",
       "    <tr>\n",
       "      <th>11</th>\n",
       "      <td>0</td>\n",
       "      <td>-792.701887</td>\n",
       "      <td>40</td>\n",
       "      <td>среднее</td>\n",
       "      <td>1</td>\n",
       "      <td>женат / замужем</td>\n",
       "      <td>0</td>\n",
       "      <td>F</td>\n",
       "      <td>сотрудник</td>\n",
       "      <td>0</td>\n",
       "      <td>77069.234271</td>\n",
       "      <td>покупка коммерческой недвижимости</td>\n",
       "    </tr>\n",
       "    <tr>\n",
       "      <th>12</th>\n",
       "      <td>0</td>\n",
       "      <td>NaN</td>\n",
       "      <td>65</td>\n",
       "      <td>среднее</td>\n",
       "      <td>1</td>\n",
       "      <td>гражданский брак</td>\n",
       "      <td>1</td>\n",
       "      <td>M</td>\n",
       "      <td>пенсионер</td>\n",
       "      <td>0</td>\n",
       "      <td>NaN</td>\n",
       "      <td>сыграть свадьбу</td>\n",
       "    </tr>\n",
       "    <tr>\n",
       "      <th>13</th>\n",
       "      <td>0</td>\n",
       "      <td>-1846.641941</td>\n",
       "      <td>54</td>\n",
       "      <td>неоконченное высшее</td>\n",
       "      <td>2</td>\n",
       "      <td>женат / замужем</td>\n",
       "      <td>0</td>\n",
       "      <td>F</td>\n",
       "      <td>сотрудник</td>\n",
       "      <td>0</td>\n",
       "      <td>130458.228857</td>\n",
       "      <td>приобретение автомобиля</td>\n",
       "    </tr>\n",
       "    <tr>\n",
       "      <th>14</th>\n",
       "      <td>0</td>\n",
       "      <td>-1844.956182</td>\n",
       "      <td>56</td>\n",
       "      <td>высшее</td>\n",
       "      <td>0</td>\n",
       "      <td>гражданский брак</td>\n",
       "      <td>1</td>\n",
       "      <td>F</td>\n",
       "      <td>компаньон</td>\n",
       "      <td>1</td>\n",
       "      <td>165127.911772</td>\n",
       "      <td>покупка жилой недвижимости</td>\n",
       "    </tr>\n",
       "    <tr>\n",
       "      <th>15</th>\n",
       "      <td>1</td>\n",
       "      <td>-972.364419</td>\n",
       "      <td>26</td>\n",
       "      <td>среднее</td>\n",
       "      <td>1</td>\n",
       "      <td>женат / замужем</td>\n",
       "      <td>0</td>\n",
       "      <td>F</td>\n",
       "      <td>сотрудник</td>\n",
       "      <td>0</td>\n",
       "      <td>116820.904450</td>\n",
       "      <td>строительство собственной недвижимости</td>\n",
       "    </tr>\n",
       "    <tr>\n",
       "      <th>16</th>\n",
       "      <td>0</td>\n",
       "      <td>-1719.934226</td>\n",
       "      <td>35</td>\n",
       "      <td>среднее</td>\n",
       "      <td>1</td>\n",
       "      <td>женат / замужем</td>\n",
       "      <td>0</td>\n",
       "      <td>F</td>\n",
       "      <td>сотрудник</td>\n",
       "      <td>0</td>\n",
       "      <td>289202.704229</td>\n",
       "      <td>недвижимость</td>\n",
       "    </tr>\n",
       "    <tr>\n",
       "      <th>17</th>\n",
       "      <td>0</td>\n",
       "      <td>-2369.999720</td>\n",
       "      <td>33</td>\n",
       "      <td>высшее</td>\n",
       "      <td>0</td>\n",
       "      <td>гражданский брак</td>\n",
       "      <td>1</td>\n",
       "      <td>M</td>\n",
       "      <td>сотрудник</td>\n",
       "      <td>0</td>\n",
       "      <td>90410.586745</td>\n",
       "      <td>строительство недвижимости</td>\n",
       "    </tr>\n",
       "    <tr>\n",
       "      <th>18</th>\n",
       "      <td>0</td>\n",
       "      <td>400281.136913</td>\n",
       "      <td>53</td>\n",
       "      <td>среднее</td>\n",
       "      <td>1</td>\n",
       "      <td>вдовец / вдова</td>\n",
       "      <td>2</td>\n",
       "      <td>F</td>\n",
       "      <td>пенсионер</td>\n",
       "      <td>0</td>\n",
       "      <td>56823.777243</td>\n",
       "      <td>на покупку подержанного автомобиля</td>\n",
       "    </tr>\n",
       "    <tr>\n",
       "      <th>19</th>\n",
       "      <td>0</td>\n",
       "      <td>-10038.818549</td>\n",
       "      <td>48</td>\n",
       "      <td>СРЕДНЕЕ</td>\n",
       "      <td>1</td>\n",
       "      <td>в разводе</td>\n",
       "      <td>3</td>\n",
       "      <td>F</td>\n",
       "      <td>сотрудник</td>\n",
       "      <td>0</td>\n",
       "      <td>242831.107982</td>\n",
       "      <td>на покупку своего автомобиля</td>\n",
       "    </tr>\n",
       "  </tbody>\n",
       "</table>\n",
       "</div>"
      ],
      "text/plain": [
       "    children  days_employed  dob_years            education  education_id  \\\n",
       "0          1   -8437.673028         42               высшее             0   \n",
       "1          1   -4024.803754         36              среднее             1   \n",
       "2          0   -5623.422610         33              Среднее             1   \n",
       "3          3   -4124.747207         32              среднее             1   \n",
       "4          0  340266.072047         53              среднее             1   \n",
       "5          0    -926.185831         27               высшее             0   \n",
       "6          0   -2879.202052         43               высшее             0   \n",
       "7          0    -152.779569         50              СРЕДНЕЕ             1   \n",
       "8          2   -6929.865299         35               ВЫСШЕЕ             0   \n",
       "9          0   -2188.756445         41              среднее             1   \n",
       "10         2   -4171.483647         36               высшее             0   \n",
       "11         0    -792.701887         40              среднее             1   \n",
       "12         0            NaN         65              среднее             1   \n",
       "13         0   -1846.641941         54  неоконченное высшее             2   \n",
       "14         0   -1844.956182         56               высшее             0   \n",
       "15         1    -972.364419         26              среднее             1   \n",
       "16         0   -1719.934226         35              среднее             1   \n",
       "17         0   -2369.999720         33               высшее             0   \n",
       "18         0  400281.136913         53              среднее             1   \n",
       "19         0  -10038.818549         48              СРЕДНЕЕ             1   \n",
       "\n",
       "       family_status  family_status_id gender income_type  debt  \\\n",
       "0    женат / замужем                 0      F   сотрудник     0   \n",
       "1    женат / замужем                 0      F   сотрудник     0   \n",
       "2    женат / замужем                 0      M   сотрудник     0   \n",
       "3    женат / замужем                 0      M   сотрудник     0   \n",
       "4   гражданский брак                 1      F   пенсионер     0   \n",
       "5   гражданский брак                 1      M   компаньон     0   \n",
       "6    женат / замужем                 0      F   компаньон     0   \n",
       "7    женат / замужем                 0      M   сотрудник     0   \n",
       "8   гражданский брак                 1      F   сотрудник     0   \n",
       "9    женат / замужем                 0      M   сотрудник     0   \n",
       "10   женат / замужем                 0      M   компаньон     0   \n",
       "11   женат / замужем                 0      F   сотрудник     0   \n",
       "12  гражданский брак                 1      M   пенсионер     0   \n",
       "13   женат / замужем                 0      F   сотрудник     0   \n",
       "14  гражданский брак                 1      F   компаньон     1   \n",
       "15   женат / замужем                 0      F   сотрудник     0   \n",
       "16   женат / замужем                 0      F   сотрудник     0   \n",
       "17  гражданский брак                 1      M   сотрудник     0   \n",
       "18    вдовец / вдова                 2      F   пенсионер     0   \n",
       "19         в разводе                 3      F   сотрудник     0   \n",
       "\n",
       "     total_income                                 purpose  \n",
       "0   253875.639453                           покупка жилья  \n",
       "1   112080.014102                 приобретение автомобиля  \n",
       "2   145885.952297                           покупка жилья  \n",
       "3   267628.550329              дополнительное образование  \n",
       "4   158616.077870                         сыграть свадьбу  \n",
       "5   255763.565419                           покупка жилья  \n",
       "6   240525.971920                       операции с жильем  \n",
       "7   135823.934197                             образование  \n",
       "8    95856.832424                   на проведение свадьбы  \n",
       "9   144425.938277                 покупка жилья для семьи  \n",
       "10  113943.491460                    покупка недвижимости  \n",
       "11   77069.234271       покупка коммерческой недвижимости  \n",
       "12            NaN                         сыграть свадьбу  \n",
       "13  130458.228857                 приобретение автомобиля  \n",
       "14  165127.911772              покупка жилой недвижимости  \n",
       "15  116820.904450  строительство собственной недвижимости  \n",
       "16  289202.704229                            недвижимость  \n",
       "17   90410.586745              строительство недвижимости  \n",
       "18   56823.777243      на покупку подержанного автомобиля  \n",
       "19  242831.107982            на покупку своего автомобиля  "
      ]
     },
     "execution_count": 2,
     "metadata": {},
     "output_type": "execute_result"
    }
   ],
   "source": [
    "data.head(20)"
   ]
  },
  {
   "cell_type": "markdown",
   "id": "0ed8f27f",
   "metadata": {
    "deletable": false,
    "editable": false,
    "id": "0ed8f27f"
   },
   "source": [
    "**Задание 3. Выведите основную информацию о датафрейме с помощью метода `info()`.**"
   ]
  },
  {
   "cell_type": "code",
   "execution_count": 3,
   "id": "ab3f863b",
   "metadata": {
    "deletable": false,
    "id": "ab3f863b",
    "outputId": "15376089-8dad-46c9-b520-c05248d43158"
   },
   "outputs": [
    {
     "name": "stdout",
     "output_type": "stream",
     "text": [
      "<class 'pandas.core.frame.DataFrame'>\n",
      "RangeIndex: 21525 entries, 0 to 21524\n",
      "Data columns (total 12 columns):\n",
      " #   Column            Non-Null Count  Dtype  \n",
      "---  ------            --------------  -----  \n",
      " 0   children          21525 non-null  int64  \n",
      " 1   days_employed     19351 non-null  float64\n",
      " 2   dob_years         21525 non-null  int64  \n",
      " 3   education         21525 non-null  object \n",
      " 4   education_id      21525 non-null  int64  \n",
      " 5   family_status     21525 non-null  object \n",
      " 6   family_status_id  21525 non-null  int64  \n",
      " 7   gender            21525 non-null  object \n",
      " 8   income_type       21525 non-null  object \n",
      " 9   debt              21525 non-null  int64  \n",
      " 10  total_income      19351 non-null  float64\n",
      " 11  purpose           21525 non-null  object \n",
      "dtypes: float64(2), int64(5), object(5)\n",
      "memory usage: 2.0+ MB\n"
     ]
    }
   ],
   "source": [
    "data.info()"
   ]
  },
  {
   "cell_type": "markdown",
   "id": "60e3e22d",
   "metadata": {
    "deletable": false,
    "editable": false,
    "id": "60e3e22d"
   },
   "source": [
    "## Предобработка данных"
   ]
  },
  {
   "cell_type": "markdown",
   "id": "03dc170c",
   "metadata": {
    "deletable": false,
    "editable": false,
    "id": "03dc170c"
   },
   "source": [
    "### Удаление пропусков"
   ]
  },
  {
   "cell_type": "markdown",
   "id": "a4f54eef",
   "metadata": {
    "deletable": false,
    "editable": false,
    "id": "a4f54eef"
   },
   "source": [
    "**Задание 4. Выведите количество пропущенных значений для каждого столбца. Используйте комбинацию двух методов.**"
   ]
  },
  {
   "cell_type": "code",
   "execution_count": 4,
   "id": "2dc372b2",
   "metadata": {
    "deletable": false,
    "id": "2dc372b2",
    "outputId": "81f4d817-781c-465c-ed15-91ce4446810d"
   },
   "outputs": [
    {
     "data": {
      "text/plain": [
       "children               0\n",
       "days_employed       2174\n",
       "dob_years              0\n",
       "education              0\n",
       "education_id           0\n",
       "family_status          0\n",
       "family_status_id       0\n",
       "gender                 0\n",
       "income_type            0\n",
       "debt                   0\n",
       "total_income        2174\n",
       "purpose                0\n",
       "dtype: int64"
      ]
     },
     "execution_count": 4,
     "metadata": {},
     "output_type": "execute_result"
    }
   ],
   "source": [
    "data.isna().sum()"
   ]
  },
  {
   "cell_type": "markdown",
   "id": "14f011b1",
   "metadata": {
    "deletable": false,
    "editable": false,
    "id": "14f011b1"
   },
   "source": [
    "**Задание 5. В двух столбцах есть пропущенные значения. Один из них — `days_employed`. Пропуски в этом столбце вы обработаете на следующем этапе. Другой столбец с пропущенными значениями — `total_income` — хранит данные о доходах. На сумму дохода сильнее всего влияет тип занятости, поэтому заполнить пропуски в этом столбце нужно медианным значением по каждому типу из столбца `income_type`. Например, у человека с типом занятости `сотрудник` пропуск в столбце `total_income` должен быть заполнен медианным доходом среди всех записей с тем же типом.**"
   ]
  },
  {
   "cell_type": "code",
   "execution_count": 5,
   "id": "bdabfb6e",
   "metadata": {
    "deletable": false,
    "id": "bdabfb6e"
   },
   "outputs": [],
   "source": [
    "for t in data['income_type'].unique():\n",
    "    data.loc[(data['income_type'] == t) & (data['total_income'].isna()), 'total_income'] = \\\n",
    "    data.loc[(data['income_type'] == t), 'total_income'].median()"
   ]
  },
  {
   "cell_type": "markdown",
   "id": "5be34059",
   "metadata": {
    "deletable": false,
    "editable": false,
    "id": "5be34059"
   },
   "source": [
    "### Обработка аномальных значений"
   ]
  },
  {
   "cell_type": "markdown",
   "id": "a87606cb",
   "metadata": {
    "deletable": false,
    "editable": false,
    "id": "a87606cb"
   },
   "source": [
    "**Задание 6. В данных могут встречаться артефакты (аномалии) — значения, которые не отражают действительность и появились по какой-то ошибке. таким артефактом будет отрицательное количество дней трудового стажа в столбце `days_employed`. Для реальных данных это нормально. Обработайте значения в этом столбце: замените все отрицательные значения положительными с помощью метода `abs()`.**"
   ]
  },
  {
   "cell_type": "code",
   "execution_count": 6,
   "id": "020c46cc",
   "metadata": {
    "deletable": false,
    "id": "020c46cc"
   },
   "outputs": [],
   "source": [
    "data['days_employed'] = data['days_employed'].abs()"
   ]
  },
  {
   "cell_type": "markdown",
   "id": "45538a3a",
   "metadata": {
    "deletable": false,
    "editable": false,
    "id": "45538a3a"
   },
   "source": [
    "**Задание 7. Для каждого типа занятости выведите медианное значение трудового стажа `days_employed` в днях.**"
   ]
  },
  {
   "cell_type": "code",
   "execution_count": 7,
   "id": "cd3e6328",
   "metadata": {
    "deletable": false,
    "id": "cd3e6328",
    "outputId": "801ef80e-522b-4668-f34e-565af7432bcf"
   },
   "outputs": [
    {
     "data": {
      "text/plain": [
       "income_type\n",
       "безработный        366413.652744\n",
       "в декрете            3296.759962\n",
       "госслужащий          2689.368353\n",
       "компаньон            1547.382223\n",
       "пенсионер          365213.306266\n",
       "предприниматель       520.848083\n",
       "сотрудник            1574.202821\n",
       "студент               578.751554\n",
       "Name: days_employed, dtype: float64"
      ]
     },
     "execution_count": 7,
     "metadata": {},
     "output_type": "execute_result"
    }
   ],
   "source": [
    "data.groupby('income_type')['days_employed'].agg('median')"
   ]
  },
  {
   "cell_type": "markdown",
   "id": "90c5f058",
   "metadata": {
    "deletable": false,
    "editable": false,
    "id": "90c5f058"
   },
   "source": [
    "У двух типов (безработные и пенсионеры) получатся аномально большие значения. Исправить такие значения сложно, поэтому оставьте их как есть."
   ]
  },
  {
   "cell_type": "markdown",
   "id": "9652e50d",
   "metadata": {
    "deletable": false,
    "editable": false,
    "id": "9652e50d"
   },
   "source": [
    "**Задание 8. Выведите перечень уникальных значений столбца `children`.**"
   ]
  },
  {
   "cell_type": "code",
   "execution_count": 8,
   "id": "dbb37b8e",
   "metadata": {
    "deletable": false,
    "id": "dbb37b8e",
    "outputId": "6975b15c-7f95-4697-d16d-a0c79b657b03"
   },
   "outputs": [
    {
     "data": {
      "text/plain": [
       "array([ 1,  0,  3,  2, -1,  4, 20,  5])"
      ]
     },
     "execution_count": 8,
     "metadata": {},
     "output_type": "execute_result"
    }
   ],
   "source": [
    "data['children'].unique()"
   ]
  },
  {
   "cell_type": "markdown",
   "id": "2b8b0715",
   "metadata": {
    "deletable": false,
    "editable": false,
    "id": "2b8b0715"
   },
   "source": [
    "**Задание 9. В столбце `children` есть два аномальных значения. Удалите строки, в которых встречаются такие аномальные значения из датафрейма `data`.**"
   ]
  },
  {
   "cell_type": "code",
   "execution_count": 9,
   "id": "20009df8",
   "metadata": {
    "deletable": false,
    "id": "20009df8"
   },
   "outputs": [],
   "source": [
    "data = data[(data['children'] != -1) & (data['children'] != 20)]"
   ]
  },
  {
   "cell_type": "markdown",
   "id": "8c6ac9f1",
   "metadata": {
    "deletable": false,
    "editable": false,
    "id": "8c6ac9f1"
   },
   "source": [
    "**Задание 10. Ещё раз выведите перечень уникальных значений столбца `children`, чтобы убедиться, что артефакты удалены.**"
   ]
  },
  {
   "cell_type": "code",
   "execution_count": 10,
   "id": "07337b81",
   "metadata": {
    "deletable": false,
    "id": "07337b81",
    "outputId": "b2097101-d49d-44d9-901b-32a65c9463d1"
   },
   "outputs": [
    {
     "data": {
      "text/plain": [
       "array([1, 0, 3, 2, 4, 5])"
      ]
     },
     "execution_count": 10,
     "metadata": {},
     "output_type": "execute_result"
    }
   ],
   "source": [
    "data['children'].unique()"
   ]
  },
  {
   "cell_type": "markdown",
   "id": "ee3f52d4",
   "metadata": {
    "deletable": false,
    "editable": false,
    "id": "ee3f52d4"
   },
   "source": [
    "### Удаление пропусков (продолжение)"
   ]
  },
  {
   "cell_type": "markdown",
   "id": "a700b0e4",
   "metadata": {
    "deletable": false,
    "editable": false,
    "id": "a700b0e4"
   },
   "source": [
    "**Задание 11. Заполните пропуски в столбце `days_employed` медианными значениями по каждого типа занятости `income_type`.**"
   ]
  },
  {
   "cell_type": "code",
   "execution_count": 11,
   "id": "61946b83",
   "metadata": {
    "deletable": false,
    "id": "61946b83"
   },
   "outputs": [],
   "source": [
    "for t in data['income_type'].unique():\n",
    "    data.loc[(data['income_type'] == t) & (data['days_employed'].isna()), 'days_employed'] = \\\n",
    "    data.loc[(data['income_type'] == t), 'days_employed'].median()"
   ]
  },
  {
   "cell_type": "markdown",
   "id": "550dcd9b",
   "metadata": {
    "deletable": false,
    "editable": false,
    "id": "550dcd9b"
   },
   "source": [
    "**Задание 12. Убедитесь, что все пропуски заполнены. Проверьте себя и ещё раз выведите количество пропущенных значений для каждого столбца с помощью двух методов.**"
   ]
  },
  {
   "cell_type": "code",
   "execution_count": 12,
   "id": "937c7014",
   "metadata": {
    "deletable": false,
    "id": "937c7014",
    "outputId": "8da1e4e1-358e-4e87-98c9-f261bce0a7b2"
   },
   "outputs": [
    {
     "data": {
      "text/plain": [
       "children            0\n",
       "days_employed       0\n",
       "dob_years           0\n",
       "education           0\n",
       "education_id        0\n",
       "family_status       0\n",
       "family_status_id    0\n",
       "gender              0\n",
       "income_type         0\n",
       "debt                0\n",
       "total_income        0\n",
       "purpose             0\n",
       "dtype: int64"
      ]
     },
     "execution_count": 12,
     "metadata": {},
     "output_type": "execute_result"
    }
   ],
   "source": [
    "data.isna().sum()"
   ]
  },
  {
   "cell_type": "markdown",
   "id": "d522e295",
   "metadata": {
    "deletable": false,
    "editable": false,
    "id": "d522e295"
   },
   "source": [
    "### Изменение типов данных"
   ]
  },
  {
   "cell_type": "markdown",
   "id": "c229c581",
   "metadata": {
    "deletable": false,
    "editable": false,
    "id": "c229c581"
   },
   "source": [
    "**Задание 13. Замените вещественный тип данных в столбце `total_income` на целочисленный с помощью метода `astype()`.**"
   ]
  },
  {
   "cell_type": "code",
   "execution_count": 13,
   "id": "31036462",
   "metadata": {
    "deletable": false,
    "id": "31036462"
   },
   "outputs": [],
   "source": [
    "data['total_income'] = data['total_income'].astype(int)"
   ]
  },
  {
   "cell_type": "markdown",
   "id": "b8e3d1d9",
   "metadata": {
    "deletable": false,
    "editable": false,
    "id": "b8e3d1d9"
   },
   "source": [
    "### Обработка дубликатов"
   ]
  },
  {
   "cell_type": "markdown",
   "id": "9be53c49",
   "metadata": {
    "deletable": false,
    "editable": false,
    "id": "9be53c49"
   },
   "source": [
    "**Задание 14. Обработайте неявные дубликаты в столбце `education`. В этом столбце есть одни и те же значения, но записанные по-разному: с использованием заглавных и строчных букв. Приведите их к нижнему регистру.**"
   ]
  },
  {
   "cell_type": "code",
   "execution_count": 14,
   "id": "d89e73e1",
   "metadata": {
    "deletable": false,
    "id": "d89e73e1"
   },
   "outputs": [],
   "source": [
    "data['education'] = data['education'].str.lower()"
   ]
  },
  {
   "cell_type": "markdown",
   "id": "01d4500e",
   "metadata": {
    "deletable": false,
    "editable": false,
    "id": "01d4500e"
   },
   "source": [
    "**Задание 15. Выведите на экран количество строк-дубликатов в данных. Если такие строки присутствуют, удалите их.**"
   ]
  },
  {
   "cell_type": "code",
   "execution_count": 15,
   "id": "e10efb23",
   "metadata": {
    "deletable": false,
    "id": "e10efb23",
    "outputId": "9684deba-1934-42d1-99e1-cda61740f822"
   },
   "outputs": [
    {
     "data": {
      "text/plain": [
       "71"
      ]
     },
     "execution_count": 15,
     "metadata": {},
     "output_type": "execute_result"
    }
   ],
   "source": [
    "data.duplicated().sum()"
   ]
  },
  {
   "cell_type": "code",
   "execution_count": 16,
   "id": "df853f20",
   "metadata": {
    "deletable": false,
    "id": "df853f20"
   },
   "outputs": [],
   "source": [
    "data = data.drop_duplicates()"
   ]
  },
  {
   "cell_type": "markdown",
   "id": "627be38f",
   "metadata": {
    "deletable": false,
    "editable": false,
    "id": "627be38f"
   },
   "source": [
    "### Категоризация данных"
   ]
  },
  {
   "cell_type": "markdown",
   "id": "4684c3e0",
   "metadata": {
    "deletable": false,
    "editable": false,
    "id": "4684c3e0"
   },
   "source": [
    "**Задание 16. На основании диапазонов, указанных ниже, создайте в датафрейме `data` столбец `total_income_category` с категориями:**\n",
    "\n",
    "- 0–30000 — `'E'`;\n",
    "- 30001–50000 — `'D'`;\n",
    "- 50001–200000 — `'C'`;\n",
    "- 200001–1000000 — `'B'`;\n",
    "- 1000001 и выше — `'A'`.\n",
    "\n",
    "\n",
    "**Например, кредитополучателю с доходом 25000 нужно назначить категорию `'E'`, а клиенту, получающему 235000, — `'B'`. Используйте собственную функцию с именем `categorize_income()` и метод `apply()`.**"
   ]
  },
  {
   "cell_type": "code",
   "execution_count": 17,
   "id": "78965238",
   "metadata": {
    "deletable": false,
    "id": "78965238"
   },
   "outputs": [],
   "source": [
    "def categorize_income(income):\n",
    "    try:\n",
    "        if 0 <= income <= 30000:\n",
    "            return 'E'\n",
    "        elif 30001 <= income <= 50000:\n",
    "            return 'D'\n",
    "        elif 50001 <= income <= 200000:\n",
    "            return 'C'\n",
    "        elif 200001 <= income <= 1000000:\n",
    "            return 'B'\n",
    "        elif income >= 1000001:\n",
    "            return 'A'\n",
    "    except:\n",
    "        pass"
   ]
  },
  {
   "cell_type": "code",
   "execution_count": 18,
   "id": "0980ada1",
   "metadata": {
    "deletable": false,
    "id": "0980ada1"
   },
   "outputs": [],
   "source": [
    "data['total_income_category'] = data['total_income'].apply(categorize_income)"
   ]
  },
  {
   "cell_type": "markdown",
   "id": "9917bba0",
   "metadata": {
    "deletable": false,
    "editable": false,
    "id": "9917bba0"
   },
   "source": [
    "**Задание 17. Выведите на экран перечень уникальных целей взятия кредита из столбца `purpose`.**"
   ]
  },
  {
   "cell_type": "code",
   "execution_count": 19,
   "id": "ee07b65e",
   "metadata": {
    "deletable": false,
    "id": "ee07b65e",
    "outputId": "673c12d9-7d7e-4ae0-9812-c622c89dd244"
   },
   "outputs": [
    {
     "data": {
      "text/plain": [
       "array(['покупка жилья', 'приобретение автомобиля',\n",
       "       'дополнительное образование', 'сыграть свадьбу',\n",
       "       'операции с жильем', 'образование', 'на проведение свадьбы',\n",
       "       'покупка жилья для семьи', 'покупка недвижимости',\n",
       "       'покупка коммерческой недвижимости', 'покупка жилой недвижимости',\n",
       "       'строительство собственной недвижимости', 'недвижимость',\n",
       "       'строительство недвижимости', 'на покупку подержанного автомобиля',\n",
       "       'на покупку своего автомобиля',\n",
       "       'операции с коммерческой недвижимостью',\n",
       "       'строительство жилой недвижимости', 'жилье',\n",
       "       'операции со своей недвижимостью', 'автомобили',\n",
       "       'заняться образованием', 'сделка с подержанным автомобилем',\n",
       "       'получение образования', 'автомобиль', 'свадьба',\n",
       "       'получение дополнительного образования', 'покупка своего жилья',\n",
       "       'операции с недвижимостью', 'получение высшего образования',\n",
       "       'свой автомобиль', 'сделка с автомобилем',\n",
       "       'профильное образование', 'высшее образование',\n",
       "       'покупка жилья для сдачи', 'на покупку автомобиля', 'ремонт жилью',\n",
       "       'заняться высшим образованием'], dtype=object)"
      ]
     },
     "execution_count": 19,
     "metadata": {},
     "output_type": "execute_result"
    }
   ],
   "source": [
    "data['purpose'].unique()"
   ]
  },
  {
   "cell_type": "markdown",
   "id": "52b79d56",
   "metadata": {
    "deletable": false,
    "editable": false,
    "id": "52b79d56"
   },
   "source": [
    "**Задание 18. Создайте функцию, которая на основании данных из столбца `purpose` сформирует новый столбец `purpose_category`, в который войдут следующие категории:**\n",
    "\n",
    "- `'операции с автомобилем'`,\n",
    "- `'операции с недвижимостью'`,\n",
    "- `'проведение свадьбы'`,\n",
    "- `'получение образования'`.\n",
    "\n",
    "**Например, если в столбце `purpose` находится подстрока `'на покупку автомобиля'`, то в столбце `purpose_category` должна появиться строка `'операции с автомобилем'`.**\n",
    "\n",
    "**Используйте собственную функцию с именем `categorize_purpose()` и метод `apply()`. Изучите данные в столбце `purpose` и определите, какие подстроки помогут вам правильно определить категорию.**"
   ]
  },
  {
   "cell_type": "code",
   "execution_count": 20,
   "id": "be41da5d",
   "metadata": {
    "deletable": false,
    "id": "be41da5d"
   },
   "outputs": [],
   "source": [
    "def categorize_purpose(row):\n",
    "    try:\n",
    "        if 'автом' in row:\n",
    "            return 'операции с автомобилем'\n",
    "        elif 'жил' in row or 'недвиж' in row:\n",
    "            return 'операции с недвижимостью'\n",
    "        elif 'свад' in row:\n",
    "            return 'проведение свадьбы'\n",
    "        elif 'образов' in row:\n",
    "            return 'получение образования'\n",
    "    except:\n",
    "        return 'нет категории'"
   ]
  },
  {
   "cell_type": "code",
   "execution_count": 21,
   "id": "94c4a19a",
   "metadata": {
    "deletable": false,
    "id": "94c4a19a"
   },
   "outputs": [],
   "source": [
    "data['purpose_category'] = data['purpose'].apply(categorize_purpose)"
   ]
  },
  {
   "cell_type": "markdown",
   "id": "3d596c34",
   "metadata": {
    "deletable": false,
    "editable": false,
    "id": "3d596c34"
   },
   "source": [
    "### Шаг 3. Исследуйте данные и ответьте на вопросы"
   ]
  },
  {
   "cell_type": "markdown",
   "id": "648db036",
   "metadata": {
    "deletable": false,
    "editable": false,
    "id": "648db036"
   },
   "source": [
    "#### 3.1 Есть ли зависимость между количеством детей и возвратом кредита в срок?"
   ]
  },
  {
   "cell_type": "code",
   "execution_count": 22,
   "id": "7fcff25e",
   "metadata": {
    "deletable": false,
    "id": "7fcff25e"
   },
   "outputs": [
    {
     "data": {
      "text/html": [
       "<div>\n",
       "<style scoped>\n",
       "    .dataframe tbody tr th:only-of-type {\n",
       "        vertical-align: middle;\n",
       "    }\n",
       "\n",
       "    .dataframe tbody tr th {\n",
       "        vertical-align: top;\n",
       "    }\n",
       "\n",
       "    .dataframe thead th {\n",
       "        text-align: right;\n",
       "    }\n",
       "</style>\n",
       "<table border=\"1\" class=\"dataframe\">\n",
       "  <thead>\n",
       "    <tr style=\"text-align: right;\">\n",
       "      <th></th>\n",
       "      <th>Доля задолженности</th>\n",
       "      <th>Количество клиентов в категории</th>\n",
       "    </tr>\n",
       "    <tr>\n",
       "      <th>Количество детей</th>\n",
       "      <th></th>\n",
       "      <th></th>\n",
       "    </tr>\n",
       "  </thead>\n",
       "  <tbody>\n",
       "    <tr>\n",
       "      <th>Бездетные</th>\n",
       "      <td>7.54%</td>\n",
       "      <td>14091</td>\n",
       "    </tr>\n",
       "    <tr>\n",
       "      <th>Семьи с 1-2 детьми</th>\n",
       "      <td>9.30%</td>\n",
       "      <td>6860</td>\n",
       "    </tr>\n",
       "    <tr>\n",
       "      <th>Многодетные семьи</th>\n",
       "      <td>8.16%</td>\n",
       "      <td>380</td>\n",
       "    </tr>\n",
       "  </tbody>\n",
       "</table>\n",
       "</div>"
      ],
      "text/plain": [
       "                    Доля задолженности  Количество клиентов в категории\n",
       "Количество детей                                                       \n",
       "Бездетные                        7.54%                            14091\n",
       "Семьи с 1-2 детьми               9.30%                             6860\n",
       "Многодетные семьи                8.16%                              380"
      ]
     },
     "metadata": {},
     "output_type": "display_data"
    }
   ],
   "source": [
    "# Отображаем уникальные значения в столбце 'children'\n",
    "data['children'].unique()\n",
    "\n",
    "# Оставляем только строки с количеством детей отличным от -1 и 20\n",
    "data = data[(data['children'] != -1) & (data['children'] != 20)]\n",
    "\n",
    "# Определяем функцию для категоризации количества детей\n",
    "def categorize_children(children):\n",
    "    if children == 0:\n",
    "        return 'Бездетные'\n",
    "    elif 1 <= children <= 2:\n",
    "        return 'Семьи с 1-2 детьми'\n",
    "    elif children >= 3:\n",
    "        return 'Многодетные семьи'\n",
    "\n",
    "# Применяем функцию к столбцу с количеством детей и создаем новый столбец 'children_category'\n",
    "data['children_category'] = data['children'].apply(categorize_children)\n",
    "\n",
    "# Рассчитываем долю должников для каждой категории\n",
    "debtor_ratios = (data[data['debt'] == 1]['children_category'].value_counts() / data['children_category'].value_counts()) * 100\n",
    "\n",
    "# Создаем сводную таблицу для расчета доли должников по каждой категории\n",
    "pivot_table = pd.pivot_table(data, values='debt', index='children_category', aggfunc='mean') * 100\n",
    "\n",
    "# Переименовываем столбец для ясности\n",
    "pivot_table.rename(columns={'debt': 'Доля задолженности'}, inplace=True)\n",
    "\n",
    "# Рассчитываем количество должников для каждой категории\n",
    "debtors_count = data['children_category'].value_counts()\n",
    "\n",
    "# Создаем DataFrame с информацией о доле должников и количестве клиентов в каждой категории\n",
    "children_category_debtor_ratio = pd.DataFrame({'Доля задолженности': debtor_ratios, 'Количество клиентов в категории': debtors_count})\n",
    "\n",
    "# Переименовываем индекс в 'Количество детей'\n",
    "children_category_debtor_ratio = children_category_debtor_ratio.rename_axis('Количество детей')\n",
    "\n",
    "# Отображаем обновленную сводную таблицу\n",
    "pd.options.display.float_format = '{:.2f}%'.format\n",
    "display(children_category_debtor_ratio)"
   ]
  },
  {
   "cell_type": "markdown",
   "id": "2eb9088e",
   "metadata": {
    "deletable": false,
    "id": "2eb9088e"
   },
   "source": [
    "**Вывод:** \n",
    "Исходя из предоставленной таблицы, можно сделать следующие выводы относительно зависимости между количеством детей и возвратом кредита в срок:\n",
    "\n",
    " - Бездетные: Доля задолженности составляет 7.51%, а количество клиентов в этой категории - 14149.\n",
    " - Семьи с 1-2 детьми: Доля задолженности равна 9.28%, а количество клиентов - 6873.\n",
    " - Многодетные семьи: Доля задолженности составляет 8.16%, а количество клиентов - 380.\n",
    "\n",
    "_Из этих данных можно предположить, что клиенты с детьми (как в категории \"Семьи с 1-2 детьми\", так и в категории \"Многодетные семьи\") имеют немного большую долю задолженности по сравнению с бездетными._"
   ]
  },
  {
   "cell_type": "markdown",
   "id": "74c9b3a7",
   "metadata": {
    "deletable": false,
    "editable": false,
    "id": "74c9b3a7"
   },
   "source": [
    "#### 3.2 Есть ли зависимость между семейным положением и возвратом кредита в срок?"
   ]
  },
  {
   "cell_type": "code",
   "execution_count": 23,
   "id": "8098ab3b",
   "metadata": {
    "deletable": false,
    "id": "8098ab3b"
   },
   "outputs": [
    {
     "data": {
      "text/html": [
       "<div>\n",
       "<style scoped>\n",
       "    .dataframe tbody tr th:only-of-type {\n",
       "        vertical-align: middle;\n",
       "    }\n",
       "\n",
       "    .dataframe tbody tr th {\n",
       "        vertical-align: top;\n",
       "    }\n",
       "\n",
       "    .dataframe thead th {\n",
       "        text-align: right;\n",
       "    }\n",
       "</style>\n",
       "<table border=\"1\" class=\"dataframe\">\n",
       "  <thead>\n",
       "    <tr style=\"text-align: right;\">\n",
       "      <th></th>\n",
       "      <th>Доля задолженности</th>\n",
       "      <th>Количество клиентов в категории</th>\n",
       "    </tr>\n",
       "    <tr>\n",
       "      <th>Семейное положение</th>\n",
       "      <th></th>\n",
       "      <th></th>\n",
       "    </tr>\n",
       "  </thead>\n",
       "  <tbody>\n",
       "    <tr>\n",
       "      <th>женат / замужем</th>\n",
       "      <td>7.56%</td>\n",
       "      <td>12261</td>\n",
       "    </tr>\n",
       "    <tr>\n",
       "      <th>гражданский брак</th>\n",
       "      <td>9.31%</td>\n",
       "      <td>4134</td>\n",
       "    </tr>\n",
       "    <tr>\n",
       "      <th>Не женат / не замужем</th>\n",
       "      <td>9.76%</td>\n",
       "      <td>2796</td>\n",
       "    </tr>\n",
       "    <tr>\n",
       "      <th>в разводе</th>\n",
       "      <td>7.06%</td>\n",
       "      <td>1189</td>\n",
       "    </tr>\n",
       "    <tr>\n",
       "      <th>вдовец / вдова</th>\n",
       "      <td>6.62%</td>\n",
       "      <td>951</td>\n",
       "    </tr>\n",
       "  </tbody>\n",
       "</table>\n",
       "</div>"
      ],
      "text/plain": [
       "                       Доля задолженности  Количество клиентов в категории\n",
       "Семейное положение                                                        \n",
       "женат / замужем                     7.56%                            12261\n",
       "гражданский брак                    9.31%                             4134\n",
       "Не женат / не замужем               9.76%                             2796\n",
       "в разводе                           7.06%                             1189\n",
       "вдовец / вдова                      6.62%                              951"
      ]
     },
     "metadata": {},
     "output_type": "display_data"
    }
   ],
   "source": [
    "# Рассчитываем долю должников для каждой категории\n",
    "debtor_ratios = (data[data['debt'] == 1]['family_status'].value_counts() / data['family_status'].value_counts()) * 100\n",
    "\n",
    "# Создаем сводную таблицу для расчета доли должников по каждой категории\n",
    "pivot_table = pd.pivot_table(data, values='debt', index='family_status', aggfunc='mean') * 100\n",
    "\n",
    "# Переименовываем столбец для ясности\n",
    "pivot_table.rename(columns={'debt': 'Доля задолженности'}, inplace=True)\n",
    "\n",
    "# Рассчитываем количество должников для каждой категории\n",
    "debtors_count = data['family_status'].value_counts()\n",
    "\n",
    "# Создаем DataFrame с информацией о доле должников и количестве клиентов в каждой категории\n",
    "family_status_debtor_ratio = pd.DataFrame({'Доля задолженности': debtor_ratios, 'Количество клиентов в категории': debtors_count})\n",
    "\n",
    "# Переименовываем индекс в 'Семейное положение'\n",
    "family_status_debtor_ratio = family_status_debtor_ratio.rename_axis('Семейное положение')\n",
    "\n",
    "# Отображаем обновленную сводную таблицу\n",
    "pd.options.display.float_format = '{:.2f}%'.format\n",
    "display(family_status_debtor_ratio)"
   ]
  },
  {
   "cell_type": "markdown",
   "id": "c389ca63",
   "metadata": {
    "deletable": false,
    "id": "c389ca63"
   },
   "source": [
    "**Вывод:** \n",
    "Из предоставленной таблицы можно сделать следующие выводы относительно зависимости между семейным положением и возвратом кредита в срок:\n",
    "\n",
    " - Женат/замужем: Доля задолженности составляет 7.54%, а количество клиентов в этой категории - 12302.\n",
    " - Гражданский брак: Доля задолженности равна 9.25%, а количество клиентов - 4160.\n",
    " - Не женат/не замужем: Доля задолженности составляет 9.75%, а количество клиентов - 2799.\n",
    " - В разводе: Доля задолженности равна 7.06%, а количество клиентов - 1189.\n",
    " - Вдовец/вдова: Доля задолженности составляет 6.62%, а количество клиентов - 952.\n",
    "\n",
    "_Из этих данных можно предположить, что клиенты, находящиеся в браке (женат/замужем), а также вдовцы/вдовы, имеют более низкую долю задолженности по сравнению с теми, кто не состоит в браке (гражданский брак, не женат/не замужем)._"
   ]
  },
  {
   "cell_type": "markdown",
   "id": "9529de68",
   "metadata": {
    "deletable": false,
    "editable": false,
    "id": "9529de68"
   },
   "source": [
    "#### 3.3 Есть ли зависимость между уровнем дохода и возвратом кредита в срок?"
   ]
  },
  {
   "cell_type": "code",
   "execution_count": 24,
   "id": "8787f44a",
   "metadata": {
    "deletable": false,
    "id": "8787f44a"
   },
   "outputs": [
    {
     "data": {
      "text/html": [
       "<div>\n",
       "<style scoped>\n",
       "    .dataframe tbody tr th:only-of-type {\n",
       "        vertical-align: middle;\n",
       "    }\n",
       "\n",
       "    .dataframe tbody tr th {\n",
       "        vertical-align: top;\n",
       "    }\n",
       "\n",
       "    .dataframe thead th {\n",
       "        text-align: right;\n",
       "    }\n",
       "</style>\n",
       "<table border=\"1\" class=\"dataframe\">\n",
       "  <thead>\n",
       "    <tr style=\"text-align: right;\">\n",
       "      <th></th>\n",
       "      <th>Доля задолженности</th>\n",
       "      <th>Количество клиентов в категории</th>\n",
       "    </tr>\n",
       "    <tr>\n",
       "      <th>Уровень дохода</th>\n",
       "      <th></th>\n",
       "      <th></th>\n",
       "    </tr>\n",
       "  </thead>\n",
       "  <tbody>\n",
       "    <tr>\n",
       "      <th>A</th>\n",
       "      <td>8.00%</td>\n",
       "      <td>25</td>\n",
       "    </tr>\n",
       "    <tr>\n",
       "      <th>B</th>\n",
       "      <td>7.06%</td>\n",
       "      <td>5014</td>\n",
       "    </tr>\n",
       "    <tr>\n",
       "      <th>C</th>\n",
       "      <td>8.50%</td>\n",
       "      <td>15921</td>\n",
       "    </tr>\n",
       "    <tr>\n",
       "      <th>D</th>\n",
       "      <td>6.02%</td>\n",
       "      <td>349</td>\n",
       "    </tr>\n",
       "    <tr>\n",
       "      <th>E</th>\n",
       "      <td>9.09%</td>\n",
       "      <td>22</td>\n",
       "    </tr>\n",
       "  </tbody>\n",
       "</table>\n",
       "</div>"
      ],
      "text/plain": [
       "                Доля задолженности  Количество клиентов в категории\n",
       "Уровень дохода                                                     \n",
       "A                            8.00%                               25\n",
       "B                            7.06%                             5014\n",
       "C                            8.50%                            15921\n",
       "D                            6.02%                              349\n",
       "E                            9.09%                               22"
      ]
     },
     "metadata": {},
     "output_type": "display_data"
    }
   ],
   "source": [
    "# Определяем функцию для категоризации уровня дохода\n",
    "def categorize_income(income):\n",
    "    if 0 <= income <= 30000:\n",
    "        return 'E'\n",
    "    elif 30001 <= income <= 50000:\n",
    "        return 'D'\n",
    "    elif 50001 <= income <= 200000:\n",
    "        return 'C'\n",
    "    elif 200001 <= income <= 1000000:\n",
    "        return 'B'\n",
    "    elif income >= 1000001:\n",
    "        return 'A'\n",
    "\n",
    "# Применяем функцию к столбцу с общим доходом и создаем новый столбец 'income_category'\n",
    "data['income_category'] = data['total_income'].apply(categorize_income)\n",
    "\n",
    "# Рассчитываем долю должников для каждой категории\n",
    "debtor_ratios = (data[data['debt'] == 1]['income_category'].value_counts() / data['income_category'].value_counts()) * 100\n",
    "\n",
    "# Создаем сводную таблицу для расчета доли должников по каждой категории\n",
    "pivot_table = pd.pivot_table(data, values='debt', index='income_category', aggfunc='mean') * 100\n",
    "\n",
    "# Переименовываем столбец для ясности\n",
    "pivot_table.rename(columns={'debt': 'Доля задолженности'}, inplace=True)\n",
    "\n",
    "# Рассчитываем количество должников для каждой категории\n",
    "debtors_count = data['income_category'].value_counts()\n",
    "\n",
    "# Создаем DataFrame с информацией о доле должников и количестве клиентов в каждой категории\n",
    "income_category_debtor_ratio = pd.DataFrame({'Доля задолженности': debtor_ratios, 'Количество клиентов в категории': debtors_count})\n",
    "\n",
    "# Переименовываем индекс в 'Уровень дохода'\n",
    "income_category_debtor_ratio = income_category_debtor_ratio.rename_axis('Уровень дохода')\n",
    "\n",
    "# Отображаем обновленную сводную таблицу\n",
    "pd.options.display.float_format = '{:.2f}%'.format\n",
    "display(income_category_debtor_ratio)"
   ]
  },
  {
   "cell_type": "markdown",
   "id": "6dd14b57",
   "metadata": {
    "deletable": false,
    "id": "6dd14b57"
   },
   "source": [
    "**Вывод:** \n",
    "Из представленной таблицы можно сделать следующие выводы относительно зависимости между уровнем дохода и возвратом кредита в срок:\n",
    "\n",
    " - Уровень дохода C: Доля задолженности составляет 8.55%, а количество клиентов в этой категории - 13831.\n",
    " - Уровень дохода B: Доля задолженности равна 7.06%, а количество клиентов - 5013.\n",
    " - Уровень дохода D: Доля задолженности составляет 6.02%, а количество клиентов - 349.\n",
    " - Уровень дохода A: Доля задолженности равна 8.00%, однако количество клиентов в этой категории невелико (25).\n",
    " - Уровень дохода E: Доля задолженности составляет 9.09%, также при небольшом количестве клиентов в этой категории (22).\n",
    " \n",
    "_Эти данные могут указывать на то, что клиенты с более высоким уровнем дохода (категории B и C) имеют относительно низкую долю задолженности по сравнению с клиентами с более низким уровнем дохода (категории D и E). Однако необходимо учитывать, что размер выборки в некоторых категориях (например, уровень дохода A и E) может быть слишком мал, что делает выводы менее надежными._"
   ]
  },
  {
   "cell_type": "markdown",
   "id": "1dcc9b12",
   "metadata": {
    "deletable": false,
    "editable": false,
    "id": "1dcc9b12"
   },
   "source": [
    "#### 3.4 Как разные цели кредита влияют на его возврат в срок?"
   ]
  },
  {
   "cell_type": "code",
   "execution_count": 25,
   "id": "c602bc8b",
   "metadata": {
    "deletable": false,
    "id": "c602bc8b"
   },
   "outputs": [
    {
     "data": {
      "text/html": [
       "<div>\n",
       "<style scoped>\n",
       "    .dataframe tbody tr th:only-of-type {\n",
       "        vertical-align: middle;\n",
       "    }\n",
       "\n",
       "    .dataframe tbody tr th {\n",
       "        vertical-align: top;\n",
       "    }\n",
       "\n",
       "    .dataframe thead th {\n",
       "        text-align: right;\n",
       "    }\n",
       "</style>\n",
       "<table border=\"1\" class=\"dataframe\">\n",
       "  <thead>\n",
       "    <tr style=\"text-align: right;\">\n",
       "      <th></th>\n",
       "      <th>Доля задолженности</th>\n",
       "      <th>Количество клиентов в категории</th>\n",
       "    </tr>\n",
       "    <tr>\n",
       "      <th>Цель кредита</th>\n",
       "      <th></th>\n",
       "      <th></th>\n",
       "    </tr>\n",
       "  </thead>\n",
       "  <tbody>\n",
       "    <tr>\n",
       "      <th>Операции с недвижимостью</th>\n",
       "      <td>7.26%</td>\n",
       "      <td>10751</td>\n",
       "    </tr>\n",
       "    <tr>\n",
       "      <th>Операции с автомобилем</th>\n",
       "      <td>9.35%</td>\n",
       "      <td>4279</td>\n",
       "    </tr>\n",
       "    <tr>\n",
       "      <th>Получение образования</th>\n",
       "      <td>9.25%</td>\n",
       "      <td>3988</td>\n",
       "    </tr>\n",
       "    <tr>\n",
       "      <th>Проведение свадьбы</th>\n",
       "      <td>7.91%</td>\n",
       "      <td>2313</td>\n",
       "    </tr>\n",
       "  </tbody>\n",
       "</table>\n",
       "</div>"
      ],
      "text/plain": [
       "                          Доля задолженности  Количество клиентов в категории\n",
       "Цель кредита                                                                 \n",
       "Операции с недвижимостью               7.26%                            10751\n",
       "Операции с автомобилем                 9.35%                             4279\n",
       "Получение образования                  9.25%                             3988\n",
       "Проведение свадьбы                     7.91%                             2313"
      ]
     },
     "metadata": {},
     "output_type": "display_data"
    }
   ],
   "source": [
    "# Определяем функцию для категоризации целей кредита\n",
    "def categorize_purpose(row):\n",
    "    try:\n",
    "        if 'автом' in row:\n",
    "            return 'Операции с автомобилем'\n",
    "        elif 'жил' in row or 'недвиж' in row:\n",
    "            return 'Операции с недвижимостью'\n",
    "        elif 'свад' in row:\n",
    "            return 'Проведение свадьбы'\n",
    "        elif 'образов' in row:\n",
    "            return 'Получение образования'\n",
    "    except:\n",
    "        return 'Нет категории'\n",
    "\n",
    "# Применяем функцию к столбцу с целями кредита и создаем новый столбец 'purchase_category'\n",
    "data['purchase_category'] = data['purpose'].apply(categorize_purpose)\n",
    "\n",
    "# Рассчитываем долю должников для каждой категории\n",
    "debtor_ratios = (data[data['debt'] == 1]['purchase_category'].value_counts() / data['purchase_category'].value_counts()) * 100\n",
    "\n",
    "# Создаем сводную таблицу для расчета доли должников по каждой категории\n",
    "pivot_table = pd.pivot_table(data, values='debt', index='purchase_category', aggfunc='mean') * 100\n",
    "\n",
    "# Переименовываем столбец для ясности\n",
    "pivot_table.rename(columns={'debt': 'Доля задолженности'}, inplace=True)\n",
    "\n",
    "# Рассчитываем количество должников для каждой категории\n",
    "debtors_count = data['purchase_category'].value_counts()\n",
    "\n",
    "# Создаем DataFrame с информацией о доле должников и количестве клиентов в каждой категории\n",
    "purchase_category_debtor_ratio = pd.DataFrame({'Доля задолженности': debtor_ratios, 'Количество клиентов в категории': debtors_count})\n",
    "\n",
    "# Переименовываем индекс в 'Цель кредита'\n",
    "purchase_category_debtor_ratio = purchase_category_debtor_ratio.rename_axis('Цель кредита')\n",
    "\n",
    "# Отображаем обновленную сводную таблицу\n",
    "pd.options.display.float_format = '{:.2f}%'.format\n",
    "display(purchase_category_debtor_ratio)\n"
   ]
  },
  {
   "cell_type": "markdown",
   "id": "cf05ed63",
   "metadata": {
    "deletable": false,
    "id": "cf05ed63"
   },
   "source": [
    "**Вывод:** \n",
    "Из представленной таблицы можно сделать следующие выводы относительно влияния разных целей кредита на его возврат в срок:\n",
    "\n",
    " - Операции с недвижимостью: Доля задолженности составляет 7.24%, а количество клиентов в этой категории - 10780.\n",
    "\n",
    " - Операции с автомобилем: Доля задолженности равна 9.33%, а количество клиентов - 4288. Это может свидетельствовать о том, что клиенты, берущие кредит на автомобиль, имеют более высокий риск задолженности.\n",
    "\n",
    " - Получение образования: Доля задолженности составляет 9.23%, а количество клиентов - 3997. Клиенты, берущие кредит на образование, также имеют высокий процент задолженности.\n",
    "\n",
    " - Проведение свадьбы: Доля задолженности равна 7.83%, а количество клиентов - 2337. Клиенты, берущие кредит на свадьбу, имеют более низкий процент задолженности по сравнению с кредитами на автомобиль и образование.\n",
    "\n",
    "_Эти данные могут быть полезны для банковской индустрии при принятии решений о выдаче кредитов, учитывая, что разные цели кредита могут представлять разные уровни риска для возврата._"
   ]
  },
  {
   "cell_type": "markdown",
   "id": "46c1f10b",
   "metadata": {
    "deletable": false,
    "editable": false,
    "id": "46c1f10b"
   },
   "source": [
    "#### 3.5 Приведите возможные причины появления пропусков в исходных данных."
   ]
  },
  {
   "cell_type": "markdown",
   "id": "3697d2a9",
   "metadata": {
    "deletable": false,
    "id": "3697d2a9"
   },
   "source": [
    "*Ответ:* \n",
    "\n",
    "Ошибки в данных могут быть вызваны как технологическими факторами, так и человеческими ошибками.\n",
    "\n",
    "__Технологические ошибки:__\n",
    "Такие ошибки происходят при копировании, считывании, смене формата и могут возникнуть даже во время записи данных. Примером технологической ошибки может служить изменение формата данных или наличие символов, мешающих корректному считыванию. \n",
    "\n",
    "__Человеческие ошибки:__\n",
    "Люди могут допускать ошибки при вводе данных, опечатывать, указывать неверный порядок величин, перепутывать числа или категориальные значения. Эти ошибки могут быть вызваны невнимательностью, недостатком знаний, трудностями в интерпретации инструкций и другими факторами. "
   ]
  },
  {
   "cell_type": "markdown",
   "id": "3137d257",
   "metadata": {
    "deletable": false,
    "editable": false,
    "id": "3137d257"
   },
   "source": [
    "#### 3.6 Объясните, почему заполнить пропуски медианным значением — лучшее решение для количественных переменных."
   ]
  },
  {
   "cell_type": "markdown",
   "id": "cf40012a",
   "metadata": {
    "deletable": false,
    "id": "cf40012a"
   },
   "source": [
    "*Ответ:* \n",
    "Заполнение пропусков медианным значением является распространенным и предпочтительным подходом для обработки пропущенных данных в количественных переменных, так как в отличие от среднего значения (среднего арифметического), медиана менее чувствительна к большим выбросам. Это предотвращает искажение распределения в случае наличия аномальных значений."
   ]
  },
  {
   "cell_type": "markdown",
   "id": "57bc304e",
   "metadata": {
    "deletable": false,
    "editable": false,
    "id": "57bc304e"
   },
   "source": [
    "### Шаг 4: общий вывод."
   ]
  },
  {
   "cell_type": "markdown",
   "id": "1ab75d1c",
   "metadata": {
    "deletable": false,
    "id": "1ab75d1c"
   },
   "source": [
    " - Количество детей:\n",
    "Бездетные клиенты имеют более низкую долю задолженности (7.51%) по сравнению с семьями с 1-2 детьми (9.28%) и многодетными семьями (8.16%).\n",
    "\n",
    " - Семейное положение:\n",
    "Вдовцы/вдовы и женатые/замужние клиенты имеют более низкие доли задолженности (6.62% и 7.54% соответственно), в то время как клиенты в гражданском браке и не состоящие в браке имеют более высокие доли задолженности (9.25% и 9.75%).\n",
    "\n",
    " - Уровень дохода:\n",
    "Клиенты с уровнем дохода B имеют более низкую долю задолженности (7.06%), в то время как клиенты с уровнем дохода E имеют самую высокую долю задолженности (9.09%).\n",
    "\n",
    " - Цель кредита:\n",
    "Клиенты, берущие кредит на образование (9.23%) или автомобиль (9.33%), имеют более высокие доли задолженности по сравнению с клиентами, берущими кредит на свадьбу (7.83%) или операции с недвижимостью (7.24%).\n",
    "\n",
    "__Итог:__\n",
    "_Семейное положение, количество детей, уровень дохода и цель кредита оказывают влияние на долю задолженности._"
   ]
  }
 ],
 "metadata": {
  "ExecuteTimeLog": [
   {
    "duration": 47,
    "start_time": "2023-12-14T10:14:38.351Z"
   },
   {
    "duration": 449,
    "start_time": "2023-12-14T10:17:34.005Z"
   },
   {
    "duration": 80,
    "start_time": "2023-12-14T10:17:48.232Z"
   },
   {
    "duration": 108,
    "start_time": "2023-12-14T10:22:57.512Z"
   },
   {
    "duration": 99,
    "start_time": "2023-12-14T10:23:54.175Z"
   },
   {
    "duration": 102,
    "start_time": "2023-12-14T10:25:29.317Z"
   },
   {
    "duration": 96,
    "start_time": "2023-12-14T10:26:03.121Z"
   },
   {
    "duration": 97,
    "start_time": "2023-12-14T10:28:08.326Z"
   },
   {
    "duration": 77,
    "start_time": "2023-12-14T10:28:20.785Z"
   },
   {
    "duration": 71,
    "start_time": "2023-12-14T10:29:01.644Z"
   },
   {
    "duration": 74,
    "start_time": "2023-12-14T10:32:28.111Z"
   },
   {
    "duration": 78,
    "start_time": "2023-12-14T10:32:33.489Z"
   },
   {
    "duration": 84,
    "start_time": "2023-12-14T11:00:49.322Z"
   },
   {
    "duration": 82,
    "start_time": "2023-12-14T11:01:07.795Z"
   },
   {
    "duration": 1364,
    "start_time": "2023-12-14T11:01:13.988Z"
   },
   {
    "duration": 81,
    "start_time": "2023-12-14T11:05:46.247Z"
   },
   {
    "duration": 84,
    "start_time": "2023-12-14T11:06:04.670Z"
   },
   {
    "duration": 93,
    "start_time": "2023-12-14T11:07:39.252Z"
   },
   {
    "duration": 90,
    "start_time": "2023-12-14T11:08:54.287Z"
   },
   {
    "duration": 86,
    "start_time": "2023-12-14T11:14:43.389Z"
   },
   {
    "duration": 88,
    "start_time": "2023-12-14T11:15:44.947Z"
   },
   {
    "duration": 80,
    "start_time": "2023-12-14T11:15:54.309Z"
   },
   {
    "duration": 91,
    "start_time": "2023-12-14T11:16:00.866Z"
   },
   {
    "duration": 81,
    "start_time": "2023-12-14T11:16:21.447Z"
   },
   {
    "duration": 76,
    "start_time": "2023-12-14T11:16:56.366Z"
   },
   {
    "duration": 79,
    "start_time": "2023-12-14T11:17:07.403Z"
   },
   {
    "duration": 83,
    "start_time": "2023-12-14T11:18:35.448Z"
   },
   {
    "duration": 79,
    "start_time": "2023-12-14T11:21:41.103Z"
   },
   {
    "duration": 80,
    "start_time": "2023-12-14T11:21:51.452Z"
   },
   {
    "duration": 86,
    "start_time": "2023-12-14T11:22:06.166Z"
   },
   {
    "duration": 81,
    "start_time": "2023-12-14T11:22:30.767Z"
   },
   {
    "duration": 87,
    "start_time": "2023-12-14T11:24:22.437Z"
   },
   {
    "duration": 1382,
    "start_time": "2023-12-14T11:24:46.014Z"
   },
   {
    "duration": 983,
    "start_time": "2023-12-14T11:25:27.882Z"
   },
   {
    "duration": 1060,
    "start_time": "2023-12-14T11:25:36.627Z"
   },
   {
    "duration": 1079,
    "start_time": "2023-12-14T11:25:42.817Z"
   },
   {
    "duration": 88,
    "start_time": "2023-12-14T11:25:57.681Z"
   },
   {
    "duration": 80,
    "start_time": "2023-12-14T11:29:09.591Z"
   },
   {
    "duration": 92,
    "start_time": "2023-12-14T11:29:16.856Z"
   },
   {
    "duration": 83,
    "start_time": "2023-12-14T11:30:15.338Z"
   },
   {
    "duration": 78,
    "start_time": "2023-12-14T11:35:53.377Z"
   },
   {
    "duration": 84,
    "start_time": "2023-12-14T11:41:55.769Z"
   },
   {
    "duration": 118,
    "start_time": "2023-12-14T11:47:10.530Z"
   },
   {
    "duration": 77,
    "start_time": "2023-12-14T11:47:29.342Z"
   },
   {
    "duration": 111,
    "start_time": "2023-12-14T11:48:54.595Z"
   },
   {
    "duration": 111,
    "start_time": "2023-12-14T11:49:00.669Z"
   },
   {
    "duration": 77,
    "start_time": "2023-12-14T11:51:26.057Z"
   },
   {
    "duration": 89,
    "start_time": "2023-12-14T11:52:58.829Z"
   },
   {
    "duration": 76,
    "start_time": "2023-12-14T11:53:37.107Z"
   },
   {
    "duration": 65,
    "start_time": "2023-12-14T11:55:56.390Z"
   },
   {
    "duration": 79,
    "start_time": "2023-12-14T11:56:21.242Z"
   },
   {
    "duration": 99,
    "start_time": "2023-12-14T11:56:51.675Z"
   },
   {
    "duration": 77,
    "start_time": "2023-12-14T11:57:24.641Z"
   },
   {
    "duration": 107,
    "start_time": "2023-12-14T11:58:36.945Z"
   },
   {
    "duration": 80,
    "start_time": "2023-12-14T11:58:43.094Z"
   },
   {
    "duration": 68,
    "start_time": "2023-12-14T11:58:48.751Z"
   },
   {
    "duration": 81,
    "start_time": "2023-12-14T11:59:24.240Z"
   },
   {
    "duration": 78,
    "start_time": "2023-12-14T11:59:28.479Z"
   },
   {
    "duration": 74,
    "start_time": "2023-12-14T11:59:38.951Z"
   },
   {
    "duration": 77,
    "start_time": "2023-12-14T12:00:49.525Z"
   },
   {
    "duration": 83,
    "start_time": "2023-12-14T12:00:59.674Z"
   },
   {
    "duration": 86,
    "start_time": "2023-12-14T12:01:25.236Z"
   },
   {
    "duration": 95,
    "start_time": "2023-12-14T12:01:57.130Z"
   },
   {
    "duration": 94,
    "start_time": "2023-12-14T12:03:44.802Z"
   },
   {
    "duration": 94,
    "start_time": "2023-12-14T12:05:26.365Z"
   },
   {
    "duration": 88,
    "start_time": "2023-12-14T12:06:46.591Z"
   },
   {
    "duration": 95,
    "start_time": "2023-12-14T12:06:59.653Z"
   },
   {
    "duration": 88,
    "start_time": "2023-12-14T12:07:29.428Z"
   },
   {
    "duration": 86,
    "start_time": "2023-12-14T12:07:34.302Z"
   },
   {
    "duration": 71,
    "start_time": "2023-12-14T12:07:40.134Z"
   },
   {
    "duration": 96,
    "start_time": "2023-12-14T12:08:00.922Z"
   },
   {
    "duration": 95,
    "start_time": "2023-12-14T12:08:17.505Z"
   },
   {
    "duration": 104,
    "start_time": "2023-12-14T12:09:13.134Z"
   },
   {
    "duration": 101,
    "start_time": "2023-12-14T12:09:41.716Z"
   },
   {
    "duration": 93,
    "start_time": "2023-12-14T12:09:50.573Z"
   },
   {
    "duration": 97,
    "start_time": "2023-12-14T12:10:26.651Z"
   },
   {
    "duration": 94,
    "start_time": "2023-12-14T12:12:12.713Z"
   },
   {
    "duration": 4,
    "start_time": "2023-12-14T12:17:42.450Z"
   },
   {
    "duration": 93,
    "start_time": "2023-12-14T12:18:22.834Z"
   },
   {
    "duration": 86,
    "start_time": "2023-12-14T12:20:27.794Z"
   },
   {
    "duration": 644,
    "start_time": "2023-12-14T12:58:28.291Z"
   },
   {
    "duration": 22,
    "start_time": "2023-12-14T12:58:28.937Z"
   },
   {
    "duration": 19,
    "start_time": "2023-12-14T12:58:28.961Z"
   },
   {
    "duration": 11,
    "start_time": "2023-12-14T12:58:28.982Z"
   },
   {
    "duration": 38,
    "start_time": "2023-12-14T12:58:28.995Z"
   },
   {
    "duration": 3,
    "start_time": "2023-12-14T12:58:29.042Z"
   },
   {
    "duration": 24,
    "start_time": "2023-12-14T12:58:29.046Z"
   },
   {
    "duration": 4,
    "start_time": "2023-12-14T12:58:29.071Z"
   },
   {
    "duration": 18,
    "start_time": "2023-12-14T12:58:29.077Z"
   },
   {
    "duration": 22,
    "start_time": "2023-12-14T12:58:29.097Z"
   },
   {
    "duration": 46,
    "start_time": "2023-12-14T12:58:29.120Z"
   },
   {
    "duration": 10,
    "start_time": "2023-12-14T12:58:29.167Z"
   },
   {
    "duration": 18,
    "start_time": "2023-12-14T12:58:29.179Z"
   },
   {
    "duration": 46,
    "start_time": "2023-12-14T12:58:29.199Z"
   },
   {
    "duration": 32,
    "start_time": "2023-12-14T12:58:29.246Z"
   },
   {
    "duration": 19,
    "start_time": "2023-12-14T12:58:29.279Z"
   },
   {
    "duration": 12,
    "start_time": "2023-12-14T12:58:29.299Z"
   },
   {
    "duration": 29,
    "start_time": "2023-12-14T12:58:29.313Z"
   },
   {
    "duration": 16,
    "start_time": "2023-12-14T12:58:29.344Z"
   },
   {
    "duration": 40,
    "start_time": "2023-12-14T12:58:29.362Z"
   },
   {
    "duration": 69,
    "start_time": "2023-12-14T12:58:29.403Z"
   },
   {
    "duration": 108,
    "start_time": "2023-12-14T12:58:29.474Z"
   },
   {
    "duration": 68,
    "start_time": "2023-12-14T12:58:29.583Z"
   },
   {
    "duration": 120,
    "start_time": "2023-12-14T12:58:29.653Z"
   },
   {
    "duration": 91,
    "start_time": "2023-12-14T12:58:29.774Z"
   },
   {
    "duration": 605,
    "start_time": "2023-12-14T15:28:15.567Z"
   },
   {
    "duration": 12,
    "start_time": "2023-12-14T15:28:30.891Z"
   },
   {
    "duration": 72,
    "start_time": "2023-12-14T15:29:22.690Z"
   },
   {
    "duration": 75,
    "start_time": "2023-12-14T15:29:29.021Z"
   },
   {
    "duration": 81,
    "start_time": "2023-12-14T15:41:05.827Z"
   },
   {
    "duration": 65,
    "start_time": "2023-12-14T15:41:36.908Z"
   },
   {
    "duration": 126,
    "start_time": "2023-12-14T15:41:44.369Z"
   },
   {
    "duration": 86,
    "start_time": "2023-12-14T15:42:23.381Z"
   },
   {
    "duration": 78,
    "start_time": "2023-12-14T15:43:51.918Z"
   },
   {
    "duration": 87,
    "start_time": "2023-12-14T15:44:13.176Z"
   },
   {
    "duration": 81,
    "start_time": "2023-12-14T15:44:27.683Z"
   },
   {
    "duration": 83,
    "start_time": "2023-12-14T15:45:26.296Z"
   },
   {
    "duration": 78,
    "start_time": "2023-12-14T15:47:02.769Z"
   },
   {
    "duration": 82,
    "start_time": "2023-12-14T15:47:21.049Z"
   },
   {
    "duration": 81,
    "start_time": "2023-12-14T15:47:40.950Z"
   },
   {
    "duration": 93,
    "start_time": "2023-12-14T15:47:57.180Z"
   },
   {
    "duration": 84,
    "start_time": "2023-12-14T15:48:03.860Z"
   },
   {
    "duration": 86,
    "start_time": "2023-12-14T15:50:49.593Z"
   },
   {
    "duration": 87,
    "start_time": "2023-12-14T15:51:06.020Z"
   },
   {
    "duration": 83,
    "start_time": "2023-12-14T15:51:13.367Z"
   },
   {
    "duration": 83,
    "start_time": "2023-12-14T15:51:40.543Z"
   },
   {
    "duration": 83,
    "start_time": "2023-12-14T15:53:49.926Z"
   },
   {
    "duration": 81,
    "start_time": "2023-12-14T15:54:23.001Z"
   },
   {
    "duration": 79,
    "start_time": "2023-12-14T15:54:34.112Z"
   },
   {
    "duration": 90,
    "start_time": "2023-12-14T15:55:03.552Z"
   },
   {
    "duration": 87,
    "start_time": "2023-12-14T15:57:20.084Z"
   },
   {
    "duration": 85,
    "start_time": "2023-12-14T15:57:58.581Z"
   },
   {
    "duration": 82,
    "start_time": "2023-12-14T16:01:57.007Z"
   },
   {
    "duration": 82,
    "start_time": "2023-12-14T16:14:38.558Z"
   },
   {
    "duration": 82,
    "start_time": "2023-12-14T16:17:21.512Z"
   },
   {
    "duration": 82,
    "start_time": "2023-12-14T16:18:54.449Z"
   },
   {
    "duration": 81,
    "start_time": "2023-12-14T16:19:02.381Z"
   },
   {
    "duration": 84,
    "start_time": "2023-12-14T16:19:37.326Z"
   },
   {
    "duration": 98,
    "start_time": "2023-12-14T16:20:00.741Z"
   },
   {
    "duration": 91,
    "start_time": "2023-12-14T16:21:34.288Z"
   },
   {
    "duration": 1222,
    "start_time": "2023-12-14T16:22:01.324Z"
   },
   {
    "duration": 1227,
    "start_time": "2023-12-14T16:22:09.627Z"
   },
   {
    "duration": 93,
    "start_time": "2023-12-14T16:22:18.742Z"
   },
   {
    "duration": 82,
    "start_time": "2023-12-14T16:23:02.581Z"
   },
   {
    "duration": 14,
    "start_time": "2023-12-14T16:27:00.027Z"
   },
   {
    "duration": 15,
    "start_time": "2023-12-14T16:27:24.908Z"
   },
   {
    "duration": 84,
    "start_time": "2023-12-14T16:28:45.023Z"
   },
   {
    "duration": 16,
    "start_time": "2023-12-14T16:28:57.537Z"
   },
   {
    "duration": 15,
    "start_time": "2023-12-14T16:30:04.200Z"
   },
   {
    "duration": 23,
    "start_time": "2023-12-14T16:32:56.001Z"
   },
   {
    "duration": 24,
    "start_time": "2023-12-14T16:37:32.465Z"
   },
   {
    "duration": 73,
    "start_time": "2023-12-14T16:45:55.386Z"
   },
   {
    "duration": 86,
    "start_time": "2023-12-14T16:47:54.406Z"
   },
   {
    "duration": 87,
    "start_time": "2023-12-14T16:48:00.702Z"
   },
   {
    "duration": 97,
    "start_time": "2023-12-14T16:48:07.351Z"
   },
   {
    "duration": 98,
    "start_time": "2023-12-14T17:05:33.227Z"
   },
   {
    "duration": 92,
    "start_time": "2023-12-14T17:06:41.787Z"
   },
   {
    "duration": 99,
    "start_time": "2023-12-14T17:07:20.624Z"
   },
   {
    "duration": 98,
    "start_time": "2023-12-14T17:07:49.493Z"
   },
   {
    "duration": 79,
    "start_time": "2023-12-14T17:08:53.770Z"
   },
   {
    "duration": 94,
    "start_time": "2023-12-14T17:10:23.540Z"
   },
   {
    "duration": 92,
    "start_time": "2023-12-14T17:10:58.562Z"
   },
   {
    "duration": 93,
    "start_time": "2023-12-14T17:12:24.231Z"
   },
   {
    "duration": 94,
    "start_time": "2023-12-14T17:13:07.483Z"
   },
   {
    "duration": 94,
    "start_time": "2023-12-14T17:14:21.257Z"
   },
   {
    "duration": 92,
    "start_time": "2023-12-14T17:16:06.711Z"
   },
   {
    "duration": 94,
    "start_time": "2023-12-14T17:17:01.840Z"
   },
   {
    "duration": 92,
    "start_time": "2023-12-14T17:17:23.087Z"
   },
   {
    "duration": 92,
    "start_time": "2023-12-14T17:18:28.384Z"
   },
   {
    "duration": 93,
    "start_time": "2023-12-14T17:19:48.339Z"
   },
   {
    "duration": 92,
    "start_time": "2023-12-14T17:20:31.671Z"
   },
   {
    "duration": 94,
    "start_time": "2023-12-14T17:20:37.621Z"
   },
   {
    "duration": 101,
    "start_time": "2023-12-14T17:20:50.256Z"
   },
   {
    "duration": 93,
    "start_time": "2023-12-14T17:21:22.417Z"
   },
   {
    "duration": 93,
    "start_time": "2023-12-14T17:21:27.906Z"
   },
   {
    "duration": 1241,
    "start_time": "2023-12-14T17:23:26.268Z"
   },
   {
    "duration": 93,
    "start_time": "2023-12-14T17:23:35.218Z"
   },
   {
    "duration": 95,
    "start_time": "2023-12-14T17:25:01.254Z"
   },
   {
    "duration": 92,
    "start_time": "2023-12-14T17:25:09.695Z"
   },
   {
    "duration": 91,
    "start_time": "2023-12-14T17:25:27.853Z"
   },
   {
    "duration": 94,
    "start_time": "2023-12-14T17:25:49.730Z"
   },
   {
    "duration": 24,
    "start_time": "2023-12-14T17:26:48.087Z"
   },
   {
    "duration": 24,
    "start_time": "2023-12-14T17:27:24.940Z"
   },
   {
    "duration": 97,
    "start_time": "2023-12-14T17:29:30.583Z"
   },
   {
    "duration": 31,
    "start_time": "2023-12-14T17:31:51.022Z"
   },
   {
    "duration": 30,
    "start_time": "2023-12-14T17:33:26.088Z"
   },
   {
    "duration": 38,
    "start_time": "2023-12-14T17:37:15.032Z"
   },
   {
    "duration": 31,
    "start_time": "2023-12-14T17:38:13.843Z"
   },
   {
    "duration": 35,
    "start_time": "2023-12-14T17:38:26.320Z"
   },
   {
    "duration": 37,
    "start_time": "2023-12-14T17:39:39.250Z"
   },
   {
    "duration": 31,
    "start_time": "2023-12-14T17:40:04.929Z"
   },
   {
    "duration": 31,
    "start_time": "2023-12-14T17:41:11.537Z"
   },
   {
    "duration": 26,
    "start_time": "2023-12-14T17:41:15.844Z"
   },
   {
    "duration": 24,
    "start_time": "2023-12-14T17:41:45.896Z"
   },
   {
    "duration": 32,
    "start_time": "2023-12-14T17:41:49.250Z"
   },
   {
    "duration": 33,
    "start_time": "2023-12-14T17:41:50.898Z"
   },
   {
    "duration": 687,
    "start_time": "2023-12-14T18:30:24.995Z"
   },
   {
    "duration": 23,
    "start_time": "2023-12-14T18:30:25.684Z"
   },
   {
    "duration": 16,
    "start_time": "2023-12-14T18:30:25.708Z"
   },
   {
    "duration": 10,
    "start_time": "2023-12-14T18:30:25.726Z"
   },
   {
    "duration": 54,
    "start_time": "2023-12-14T18:30:25.737Z"
   },
   {
    "duration": 4,
    "start_time": "2023-12-14T18:30:25.792Z"
   },
   {
    "duration": 9,
    "start_time": "2023-12-14T18:30:25.797Z"
   },
   {
    "duration": 11,
    "start_time": "2023-12-14T18:30:25.808Z"
   },
   {
    "duration": 9,
    "start_time": "2023-12-14T18:30:25.821Z"
   },
   {
    "duration": 5,
    "start_time": "2023-12-14T18:30:25.833Z"
   },
   {
    "duration": 53,
    "start_time": "2023-12-14T18:30:25.839Z"
   },
   {
    "duration": 11,
    "start_time": "2023-12-14T18:30:25.894Z"
   },
   {
    "duration": 5,
    "start_time": "2023-12-14T18:30:25.907Z"
   },
   {
    "duration": 20,
    "start_time": "2023-12-14T18:30:25.913Z"
   },
   {
    "duration": 27,
    "start_time": "2023-12-14T18:30:25.935Z"
   },
   {
    "duration": 31,
    "start_time": "2023-12-14T18:30:25.964Z"
   },
   {
    "duration": 4,
    "start_time": "2023-12-14T18:30:25.996Z"
   },
   {
    "duration": 13,
    "start_time": "2023-12-14T18:30:26.001Z"
   },
   {
    "duration": 5,
    "start_time": "2023-12-14T18:30:26.016Z"
   },
   {
    "duration": 4,
    "start_time": "2023-12-14T18:30:26.022Z"
   },
   {
    "duration": 16,
    "start_time": "2023-12-14T18:30:26.027Z"
   },
   {
    "duration": 115,
    "start_time": "2023-12-14T18:30:26.044Z"
   },
   {
    "duration": 42,
    "start_time": "2023-12-14T18:30:26.160Z"
   },
   {
    "duration": 41,
    "start_time": "2023-12-14T18:30:26.204Z"
   },
   {
    "duration": 57,
    "start_time": "2023-12-14T18:30:26.247Z"
   },
   {
    "duration": 24,
    "start_time": "2023-12-14T18:33:13.620Z"
   },
   {
    "duration": 25,
    "start_time": "2023-12-14T18:33:50.927Z"
   },
   {
    "duration": 1249,
    "start_time": "2023-12-14T18:34:47.644Z"
   },
   {
    "duration": 78,
    "start_time": "2023-12-14T18:34:53.774Z"
   },
   {
    "duration": 10,
    "start_time": "2023-12-14T18:35:23.990Z"
   },
   {
    "duration": 8,
    "start_time": "2023-12-14T18:35:28.882Z"
   },
   {
    "duration": 84,
    "start_time": "2023-12-14T18:35:37.324Z"
   },
   {
    "duration": 3,
    "start_time": "2023-12-14T18:35:53.495Z"
   },
   {
    "duration": 25,
    "start_time": "2023-12-14T18:36:02.715Z"
   },
   {
    "duration": 4,
    "start_time": "2023-12-14T18:36:30.707Z"
   },
   {
    "duration": 2116,
    "start_time": "2023-12-15T06:13:11.470Z"
   },
   {
    "duration": 1423,
    "start_time": "2023-12-15T06:21:11.471Z"
   },
   {
    "duration": 1249,
    "start_time": "2023-12-15T06:21:55.478Z"
   },
   {
    "duration": 1265,
    "start_time": "2023-12-15T06:22:25.306Z"
   },
   {
    "duration": 1405,
    "start_time": "2023-12-15T06:23:13.873Z"
   },
   {
    "duration": 1360,
    "start_time": "2023-12-15T06:25:00.279Z"
   },
   {
    "duration": 1328,
    "start_time": "2023-12-15T06:25:36.078Z"
   },
   {
    "duration": 1396,
    "start_time": "2023-12-15T06:28:18.943Z"
   },
   {
    "duration": 131,
    "start_time": "2023-12-15T06:29:59.103Z"
   },
   {
    "duration": 817,
    "start_time": "2023-12-15T06:34:38.425Z"
   },
   {
    "duration": 76,
    "start_time": "2023-12-15T06:35:41.945Z"
   },
   {
    "duration": 18,
    "start_time": "2023-12-15T06:36:33.090Z"
   },
   {
    "duration": 21,
    "start_time": "2023-12-15T06:38:13.838Z"
   },
   {
    "duration": 17,
    "start_time": "2023-12-15T06:40:48.497Z"
   },
   {
    "duration": 25,
    "start_time": "2023-12-15T06:41:44.491Z"
   },
   {
    "duration": 41,
    "start_time": "2023-12-15T06:43:21.673Z"
   },
   {
    "duration": 33,
    "start_time": "2023-12-15T06:44:10.899Z"
   },
   {
    "duration": 35,
    "start_time": "2023-12-15T06:44:44.338Z"
   },
   {
    "duration": 32,
    "start_time": "2023-12-15T06:45:50.824Z"
   },
   {
    "duration": 32,
    "start_time": "2023-12-15T06:48:01.419Z"
   },
   {
    "duration": 22,
    "start_time": "2023-12-15T06:50:16.222Z"
   },
   {
    "duration": 37,
    "start_time": "2023-12-15T06:57:25.853Z"
   },
   {
    "duration": 34,
    "start_time": "2023-12-15T07:03:47.163Z"
   },
   {
    "duration": 35,
    "start_time": "2023-12-15T07:15:28.185Z"
   },
   {
    "duration": 31,
    "start_time": "2023-12-15T07:16:00.808Z"
   },
   {
    "duration": 517,
    "start_time": "2023-12-15T10:34:50.752Z"
   },
   {
    "duration": 22,
    "start_time": "2023-12-15T10:34:51.272Z"
   },
   {
    "duration": 33,
    "start_time": "2023-12-15T10:34:51.295Z"
   },
   {
    "duration": 29,
    "start_time": "2023-12-15T10:34:51.330Z"
   },
   {
    "duration": 53,
    "start_time": "2023-12-15T10:34:51.360Z"
   },
   {
    "duration": 3,
    "start_time": "2023-12-15T10:34:51.414Z"
   },
   {
    "duration": 13,
    "start_time": "2023-12-15T10:34:51.419Z"
   },
   {
    "duration": 8,
    "start_time": "2023-12-15T10:34:51.433Z"
   },
   {
    "duration": 24,
    "start_time": "2023-12-15T10:34:51.443Z"
   },
   {
    "duration": 13,
    "start_time": "2023-12-15T10:34:51.469Z"
   },
   {
    "duration": 40,
    "start_time": "2023-12-15T10:34:51.484Z"
   },
   {
    "duration": 11,
    "start_time": "2023-12-15T10:34:51.525Z"
   },
   {
    "duration": 39,
    "start_time": "2023-12-15T10:34:51.538Z"
   },
   {
    "duration": 29,
    "start_time": "2023-12-15T10:34:51.578Z"
   },
   {
    "duration": 33,
    "start_time": "2023-12-15T10:34:51.608Z"
   },
   {
    "duration": 43,
    "start_time": "2023-12-15T10:34:51.642Z"
   },
   {
    "duration": 8,
    "start_time": "2023-12-15T10:34:51.687Z"
   },
   {
    "duration": 16,
    "start_time": "2023-12-15T10:34:51.697Z"
   },
   {
    "duration": 37,
    "start_time": "2023-12-15T10:34:51.714Z"
   },
   {
    "duration": 36,
    "start_time": "2023-12-15T10:34:51.753Z"
   },
   {
    "duration": 74,
    "start_time": "2023-12-15T10:34:51.791Z"
   },
   {
    "duration": 53,
    "start_time": "2023-12-15T10:34:51.867Z"
   },
   {
    "duration": 33,
    "start_time": "2023-12-15T10:34:51.922Z"
   },
   {
    "duration": 99,
    "start_time": "2023-12-15T10:34:51.956Z"
   },
   {
    "duration": 48,
    "start_time": "2023-12-15T10:34:52.056Z"
   }
  ],
  "colab": {
   "provenance": []
  },
  "kernelspec": {
   "display_name": "Python 3 (ipykernel)",
   "language": "python",
   "name": "python3"
  },
  "language_info": {
   "codemirror_mode": {
    "name": "ipython",
    "version": 3
   },
   "file_extension": ".py",
   "mimetype": "text/x-python",
   "name": "python",
   "nbconvert_exporter": "python",
   "pygments_lexer": "ipython3",
   "version": "3.9.5"
  },
  "toc": {
   "base_numbering": 1,
   "nav_menu": {},
   "number_sections": true,
   "sideBar": true,
   "skip_h1_title": true,
   "title_cell": "Table of Contents",
   "title_sidebar": "Contents",
   "toc_cell": false,
   "toc_position": {},
   "toc_section_display": true,
   "toc_window_display": true
  }
 },
 "nbformat": 4,
 "nbformat_minor": 5
}
